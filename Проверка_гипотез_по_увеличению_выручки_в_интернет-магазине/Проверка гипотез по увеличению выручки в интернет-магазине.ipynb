{
 "cells": [
  {
   "cell_type": "markdown",
   "metadata": {},
   "source": [
    "# Проект: Проверка гипотез по увеличению выручки в интернет-магазине"
   ]
  },
  {
   "cell_type": "markdown",
   "metadata": {},
   "source": [
    "**Описание проекта**"
   ]
  },
  {
   "cell_type": "markdown",
   "metadata": {},
   "source": [
    "В распоряжении есть список 9 гипотез по увеличению выручки интернет-магазина с указанными параметрами Reach, Impact, Confidence, Efforts. Файлы с результатами A/B теста (два датасета с данными о визитах и выручке)."
   ]
  },
  {
   "cell_type": "markdown",
   "metadata": {},
   "source": [
    "В датасетах - id заказа и пользователя, дата заказа, выручка, группа A/B-теста, в которую попал заказ, количество пользователей в указанную дату в указанной группе A/B-теста."
   ]
  },
  {
   "cell_type": "markdown",
   "metadata": {},
   "source": [
    "**Задачи:** \n",
    "- приоритизировать гипотезы (используются фреймворки ICE и RICE);\n",
    "- провести анализ результатов A/B теста(стабильности кумулятивных метрик; относительного изменения кумулятивных метрик группы B к группе A; выбросов, определяется граница для определения аномальных пользователей)\n",
    "\n",
    "**План работы:**\n",
    "\n",
    "- Часть 1. Приоритизация гипотез\n",
    "\n",
    "- Часть 2. Анализ A/B-теста\n",
    "\n",
    "**Описание данных:**\n",
    "\n",
    "Файл /datasets/hypothesis.csv:\n",
    "\n",
    "- **Hypothesis** — краткое описание гипотезы;\n",
    "- **Reach** — охват пользователей по 10-балльной шкале;\n",
    "- **Impact** — влияние на пользователей по 10-балльной шкале;\n",
    "- **Confidence** — уверенность в гипотезе по 10-балльной шкале;\n",
    "- **Efforts** — затраты ресурсов на проверку гипотезы по 10-балльной шкале. Чем больше значение Efforts, тем дороже проверка гипотезы.\n",
    "\n",
    "Файл /datasets/orders.csv:\n",
    "\n",
    "- **transactionId** — идентификатор заказа;\n",
    "- **visitorId** — идентификатор пользователя, совершившего заказ;\n",
    "- **date** — дата, когда был совершён заказ;\n",
    "- **revenue** — выручка заказа;\n",
    "- **group** — группа A/B-теста, в которую попал заказ.\n",
    "\n",
    "Файл /datasets/visitors.csv:\n",
    "\n",
    "- **date** — дата;\n",
    "- **group** — группа A/B-теста;\n",
    "- **visitors** — количество пользователей в указанную дату в указанной группе A/B-теста.\n"
   ]
  },
  {
   "cell_type": "markdown",
   "metadata": {},
   "source": [
    "## Часть 1. Приоритизация гипотез"
   ]
  },
  {
   "cell_type": "markdown",
   "metadata": {},
   "source": [
    "### 1.1 Загрузим данные и подготовим их к анализу"
   ]
  },
  {
   "cell_type": "code",
   "execution_count": 1,
   "metadata": {},
   "outputs": [],
   "source": [
    "import pandas as pd"
   ]
  },
  {
   "cell_type": "code",
   "execution_count": 2,
   "metadata": {},
   "outputs": [],
   "source": [
    "hypothesis = pd.read_csv('/datasets/hypothesis.csv')  # гипотезы по увеличению выручки интернет-магазина"
   ]
  },
  {
   "cell_type": "code",
   "execution_count": 3,
   "metadata": {},
   "outputs": [],
   "source": [
    "hypothesis.columns = hypothesis.columns.str.lower() # приведем к нижнему регистру названия столбцов"
   ]
  },
  {
   "cell_type": "markdown",
   "metadata": {},
   "source": [
    "### 1.2 Изучим исходный датафрейм hypothesis"
   ]
  },
  {
   "cell_type": "code",
   "execution_count": 4,
   "metadata": {},
   "outputs": [
    {
     "data": {
      "text/html": [
       "<div>\n",
       "<style scoped>\n",
       "    .dataframe tbody tr th:only-of-type {\n",
       "        vertical-align: middle;\n",
       "    }\n",
       "\n",
       "    .dataframe tbody tr th {\n",
       "        vertical-align: top;\n",
       "    }\n",
       "\n",
       "    .dataframe thead th {\n",
       "        text-align: right;\n",
       "    }\n",
       "</style>\n",
       "<table border=\"1\" class=\"dataframe\">\n",
       "  <thead>\n",
       "    <tr style=\"text-align: right;\">\n",
       "      <th></th>\n",
       "      <th>hypothesis</th>\n",
       "      <th>reach</th>\n",
       "      <th>impact</th>\n",
       "      <th>confidence</th>\n",
       "      <th>efforts</th>\n",
       "    </tr>\n",
       "  </thead>\n",
       "  <tbody>\n",
       "    <tr>\n",
       "      <th>0</th>\n",
       "      <td>Добавить два новых канала привлечения трафика, что позволит привлекать на 30% больше пользователей</td>\n",
       "      <td>3</td>\n",
       "      <td>10</td>\n",
       "      <td>8</td>\n",
       "      <td>6</td>\n",
       "    </tr>\n",
       "    <tr>\n",
       "      <th>1</th>\n",
       "      <td>Запустить собственную службу доставки, что сократит срок доставки заказов</td>\n",
       "      <td>2</td>\n",
       "      <td>5</td>\n",
       "      <td>4</td>\n",
       "      <td>10</td>\n",
       "    </tr>\n",
       "    <tr>\n",
       "      <th>2</th>\n",
       "      <td>Добавить блоки рекомендаций товаров на сайт интернет магазина, чтобы повысить конверсию и средний чек заказа</td>\n",
       "      <td>8</td>\n",
       "      <td>3</td>\n",
       "      <td>7</td>\n",
       "      <td>3</td>\n",
       "    </tr>\n",
       "    <tr>\n",
       "      <th>3</th>\n",
       "      <td>Изменить структура категорий, что увеличит конверсию, т.к. пользователи быстрее найдут нужный товар</td>\n",
       "      <td>8</td>\n",
       "      <td>3</td>\n",
       "      <td>3</td>\n",
       "      <td>8</td>\n",
       "    </tr>\n",
       "    <tr>\n",
       "      <th>4</th>\n",
       "      <td>Изменить цвет фона главной страницы, чтобы увеличить вовлеченность пользователей</td>\n",
       "      <td>3</td>\n",
       "      <td>1</td>\n",
       "      <td>1</td>\n",
       "      <td>1</td>\n",
       "    </tr>\n",
       "    <tr>\n",
       "      <th>5</th>\n",
       "      <td>Добавить страницу отзывов клиентов о магазине, что позволит увеличить количество заказов</td>\n",
       "      <td>3</td>\n",
       "      <td>2</td>\n",
       "      <td>2</td>\n",
       "      <td>3</td>\n",
       "    </tr>\n",
       "    <tr>\n",
       "      <th>6</th>\n",
       "      <td>Показать на главной странице баннеры с актуальными акциями и распродажами, чтобы увеличить конверсию</td>\n",
       "      <td>5</td>\n",
       "      <td>3</td>\n",
       "      <td>8</td>\n",
       "      <td>3</td>\n",
       "    </tr>\n",
       "    <tr>\n",
       "      <th>7</th>\n",
       "      <td>Добавить форму подписки на все основные страницы, чтобы собрать базу клиентов для email-рассылок</td>\n",
       "      <td>10</td>\n",
       "      <td>7</td>\n",
       "      <td>8</td>\n",
       "      <td>5</td>\n",
       "    </tr>\n",
       "    <tr>\n",
       "      <th>8</th>\n",
       "      <td>Запустить акцию, дающую скидку на товар в день рождения</td>\n",
       "      <td>1</td>\n",
       "      <td>9</td>\n",
       "      <td>9</td>\n",
       "      <td>5</td>\n",
       "    </tr>\n",
       "  </tbody>\n",
       "</table>\n",
       "</div>"
      ],
      "text/plain": [
       "                                                                                                     hypothesis  \\\n",
       "0            Добавить два новых канала привлечения трафика, что позволит привлекать на 30% больше пользователей   \n",
       "1                                     Запустить собственную службу доставки, что сократит срок доставки заказов   \n",
       "2  Добавить блоки рекомендаций товаров на сайт интернет магазина, чтобы повысить конверсию и средний чек заказа   \n",
       "3           Изменить структура категорий, что увеличит конверсию, т.к. пользователи быстрее найдут нужный товар   \n",
       "4                              Изменить цвет фона главной страницы, чтобы увеличить вовлеченность пользователей   \n",
       "5                      Добавить страницу отзывов клиентов о магазине, что позволит увеличить количество заказов   \n",
       "6          Показать на главной странице баннеры с актуальными акциями и распродажами, чтобы увеличить конверсию   \n",
       "7              Добавить форму подписки на все основные страницы, чтобы собрать базу клиентов для email-рассылок   \n",
       "8                                                       Запустить акцию, дающую скидку на товар в день рождения   \n",
       "\n",
       "   reach  impact  confidence  efforts  \n",
       "0      3      10           8        6  \n",
       "1      2       5           4       10  \n",
       "2      8       3           7        3  \n",
       "3      8       3           3        8  \n",
       "4      3       1           1        1  \n",
       "5      3       2           2        3  \n",
       "6      5       3           8        3  \n",
       "7     10       7           8        5  \n",
       "8      1       9           9        5  "
      ]
     },
     "execution_count": 4,
     "metadata": {},
     "output_type": "execute_result"
    }
   ],
   "source": [
    "pd.set_option('display.max_colwidth', 300)\n",
    "hypothesis"
   ]
  },
  {
   "cell_type": "markdown",
   "metadata": {},
   "source": [
    "### 1.3 Применим фреймворк ICE для приоритизации гипотез"
   ]
  },
  {
   "cell_type": "markdown",
   "metadata": {},
   "source": [
    "**ICE** (от англ. impact, confidence, effort / «влияние, уверенность, усилия») — один из самых популярных способов приоритизации задач: параметры ICE в данном случае оценивают по шкале от 0 до 10, где 0 — «охват гипотезы ни на кого не повлияет», а 10 — «гипотеза охватит хотя бы половину пользователей»."
   ]
  },
  {
   "cell_type": "code",
   "execution_count": 5,
   "metadata": {},
   "outputs": [],
   "source": [
    "hypothesis['ICE'] = round(hypothesis['impact'] * hypothesis['confidence'] / hypothesis['efforts'], 1)"
   ]
  },
  {
   "cell_type": "code",
   "execution_count": 6,
   "metadata": {},
   "outputs": [
    {
     "data": {
      "text/html": [
       "<div>\n",
       "<style scoped>\n",
       "    .dataframe tbody tr th:only-of-type {\n",
       "        vertical-align: middle;\n",
       "    }\n",
       "\n",
       "    .dataframe tbody tr th {\n",
       "        vertical-align: top;\n",
       "    }\n",
       "\n",
       "    .dataframe thead th {\n",
       "        text-align: right;\n",
       "    }\n",
       "</style>\n",
       "<table border=\"1\" class=\"dataframe\">\n",
       "  <thead>\n",
       "    <tr style=\"text-align: right;\">\n",
       "      <th></th>\n",
       "      <th>hypothesis</th>\n",
       "      <th>ICE</th>\n",
       "    </tr>\n",
       "  </thead>\n",
       "  <tbody>\n",
       "    <tr>\n",
       "      <th>8</th>\n",
       "      <td>Запустить акцию, дающую скидку на товар в день рождения</td>\n",
       "      <td>16.2</td>\n",
       "    </tr>\n",
       "    <tr>\n",
       "      <th>0</th>\n",
       "      <td>Добавить два новых канала привлечения трафика, что позволит привлекать на 30% больше пользователей</td>\n",
       "      <td>13.3</td>\n",
       "    </tr>\n",
       "    <tr>\n",
       "      <th>7</th>\n",
       "      <td>Добавить форму подписки на все основные страницы, чтобы собрать базу клиентов для email-рассылок</td>\n",
       "      <td>11.2</td>\n",
       "    </tr>\n",
       "    <tr>\n",
       "      <th>6</th>\n",
       "      <td>Показать на главной странице баннеры с актуальными акциями и распродажами, чтобы увеличить конверсию</td>\n",
       "      <td>8.0</td>\n",
       "    </tr>\n",
       "    <tr>\n",
       "      <th>2</th>\n",
       "      <td>Добавить блоки рекомендаций товаров на сайт интернет магазина, чтобы повысить конверсию и средний чек заказа</td>\n",
       "      <td>7.0</td>\n",
       "    </tr>\n",
       "    <tr>\n",
       "      <th>1</th>\n",
       "      <td>Запустить собственную службу доставки, что сократит срок доставки заказов</td>\n",
       "      <td>2.0</td>\n",
       "    </tr>\n",
       "    <tr>\n",
       "      <th>5</th>\n",
       "      <td>Добавить страницу отзывов клиентов о магазине, что позволит увеличить количество заказов</td>\n",
       "      <td>1.3</td>\n",
       "    </tr>\n",
       "    <tr>\n",
       "      <th>3</th>\n",
       "      <td>Изменить структура категорий, что увеличит конверсию, т.к. пользователи быстрее найдут нужный товар</td>\n",
       "      <td>1.1</td>\n",
       "    </tr>\n",
       "    <tr>\n",
       "      <th>4</th>\n",
       "      <td>Изменить цвет фона главной страницы, чтобы увеличить вовлеченность пользователей</td>\n",
       "      <td>1.0</td>\n",
       "    </tr>\n",
       "  </tbody>\n",
       "</table>\n",
       "</div>"
      ],
      "text/plain": [
       "                                                                                                     hypothesis  \\\n",
       "8                                                       Запустить акцию, дающую скидку на товар в день рождения   \n",
       "0            Добавить два новых канала привлечения трафика, что позволит привлекать на 30% больше пользователей   \n",
       "7              Добавить форму подписки на все основные страницы, чтобы собрать базу клиентов для email-рассылок   \n",
       "6          Показать на главной странице баннеры с актуальными акциями и распродажами, чтобы увеличить конверсию   \n",
       "2  Добавить блоки рекомендаций товаров на сайт интернет магазина, чтобы повысить конверсию и средний чек заказа   \n",
       "1                                     Запустить собственную службу доставки, что сократит срок доставки заказов   \n",
       "5                      Добавить страницу отзывов клиентов о магазине, что позволит увеличить количество заказов   \n",
       "3           Изменить структура категорий, что увеличит конверсию, т.к. пользователи быстрее найдут нужный товар   \n",
       "4                              Изменить цвет фона главной страницы, чтобы увеличить вовлеченность пользователей   \n",
       "\n",
       "    ICE  \n",
       "8  16.2  \n",
       "0  13.3  \n",
       "7  11.2  \n",
       "6   8.0  \n",
       "2   7.0  \n",
       "1   2.0  \n",
       "5   1.3  \n",
       "3   1.1  \n",
       "4   1.0  "
      ]
     },
     "execution_count": 6,
     "metadata": {},
     "output_type": "execute_result"
    }
   ],
   "source": [
    "pd.set_option('display.max_colwidth', 300)\n",
    "hypothesis[['hypothesis', 'ICE']].sort_values(by='ICE', ascending = False) # отсортируем их по убыванию приоритета"
   ]
  },
  {
   "cell_type": "markdown",
   "metadata": {},
   "source": [
    "По ICE: **девятая гипотеза** (\"Запустить акцию, дающую скидку на товар в день рождения\") - самая перспективная. Затем идут гипотезы **1** (\"Добавить два новых канала привлечения трафика, что позволит привлекать на 30% больше пользователей\"), **8** (\"Добавить форму подписки на все основные страницы, чтобы собрать базу клиентов для email-рассылок\t\") и **7** (\"Показать на главной странице баннеры с актуальными акциями и распродажами, чтобы увеличить конверсию\")."
   ]
  },
  {
   "cell_type": "markdown",
   "metadata": {},
   "source": [
    "### 1.4 Применим фреймворк RICE для приоритизации гипотез"
   ]
  },
  {
   "cell_type": "markdown",
   "metadata": {},
   "source": [
    "**RICE** (R от англ. reach, «охват») - модификация метода ICE, как и в случае ICE, параметры RICE оценивают по шкале от 0 до 10."
   ]
  },
  {
   "cell_type": "code",
   "execution_count": 7,
   "metadata": {},
   "outputs": [],
   "source": [
    "hypothesis['RICE'] = hypothesis['impact'] * hypothesis['confidence'] * hypothesis['reach'] / hypothesis['efforts']"
   ]
  },
  {
   "cell_type": "code",
   "execution_count": 8,
   "metadata": {},
   "outputs": [
    {
     "data": {
      "text/html": [
       "<div>\n",
       "<style scoped>\n",
       "    .dataframe tbody tr th:only-of-type {\n",
       "        vertical-align: middle;\n",
       "    }\n",
       "\n",
       "    .dataframe tbody tr th {\n",
       "        vertical-align: top;\n",
       "    }\n",
       "\n",
       "    .dataframe thead th {\n",
       "        text-align: right;\n",
       "    }\n",
       "</style>\n",
       "<table border=\"1\" class=\"dataframe\">\n",
       "  <thead>\n",
       "    <tr style=\"text-align: right;\">\n",
       "      <th></th>\n",
       "      <th>hypothesis</th>\n",
       "      <th>RICE</th>\n",
       "    </tr>\n",
       "  </thead>\n",
       "  <tbody>\n",
       "    <tr>\n",
       "      <th>7</th>\n",
       "      <td>Добавить форму подписки на все основные страницы, чтобы собрать базу клиентов для email-рассылок</td>\n",
       "      <td>112.0</td>\n",
       "    </tr>\n",
       "    <tr>\n",
       "      <th>2</th>\n",
       "      <td>Добавить блоки рекомендаций товаров на сайт интернет магазина, чтобы повысить конверсию и средний чек заказа</td>\n",
       "      <td>56.0</td>\n",
       "    </tr>\n",
       "    <tr>\n",
       "      <th>0</th>\n",
       "      <td>Добавить два новых канала привлечения трафика, что позволит привлекать на 30% больше пользователей</td>\n",
       "      <td>40.0</td>\n",
       "    </tr>\n",
       "    <tr>\n",
       "      <th>6</th>\n",
       "      <td>Показать на главной странице баннеры с актуальными акциями и распродажами, чтобы увеличить конверсию</td>\n",
       "      <td>40.0</td>\n",
       "    </tr>\n",
       "    <tr>\n",
       "      <th>8</th>\n",
       "      <td>Запустить акцию, дающую скидку на товар в день рождения</td>\n",
       "      <td>16.2</td>\n",
       "    </tr>\n",
       "    <tr>\n",
       "      <th>3</th>\n",
       "      <td>Изменить структура категорий, что увеличит конверсию, т.к. пользователи быстрее найдут нужный товар</td>\n",
       "      <td>9.0</td>\n",
       "    </tr>\n",
       "    <tr>\n",
       "      <th>1</th>\n",
       "      <td>Запустить собственную службу доставки, что сократит срок доставки заказов</td>\n",
       "      <td>4.0</td>\n",
       "    </tr>\n",
       "    <tr>\n",
       "      <th>5</th>\n",
       "      <td>Добавить страницу отзывов клиентов о магазине, что позволит увеличить количество заказов</td>\n",
       "      <td>4.0</td>\n",
       "    </tr>\n",
       "    <tr>\n",
       "      <th>4</th>\n",
       "      <td>Изменить цвет фона главной страницы, чтобы увеличить вовлеченность пользователей</td>\n",
       "      <td>3.0</td>\n",
       "    </tr>\n",
       "  </tbody>\n",
       "</table>\n",
       "</div>"
      ],
      "text/plain": [
       "                                                                                                     hypothesis  \\\n",
       "7              Добавить форму подписки на все основные страницы, чтобы собрать базу клиентов для email-рассылок   \n",
       "2  Добавить блоки рекомендаций товаров на сайт интернет магазина, чтобы повысить конверсию и средний чек заказа   \n",
       "0            Добавить два новых канала привлечения трафика, что позволит привлекать на 30% больше пользователей   \n",
       "6          Показать на главной странице баннеры с актуальными акциями и распродажами, чтобы увеличить конверсию   \n",
       "8                                                       Запустить акцию, дающую скидку на товар в день рождения   \n",
       "3           Изменить структура категорий, что увеличит конверсию, т.к. пользователи быстрее найдут нужный товар   \n",
       "1                                     Запустить собственную службу доставки, что сократит срок доставки заказов   \n",
       "5                      Добавить страницу отзывов клиентов о магазине, что позволит увеличить количество заказов   \n",
       "4                              Изменить цвет фона главной страницы, чтобы увеличить вовлеченность пользователей   \n",
       "\n",
       "    RICE  \n",
       "7  112.0  \n",
       "2   56.0  \n",
       "0   40.0  \n",
       "6   40.0  \n",
       "8   16.2  \n",
       "3    9.0  \n",
       "1    4.0  \n",
       "5    4.0  \n",
       "4    3.0  "
      ]
     },
     "execution_count": 8,
     "metadata": {},
     "output_type": "execute_result"
    }
   ],
   "source": [
    "pd.set_option('display.max_colwidth', 300)\n",
    "hypothesis[['hypothesis', 'RICE']].sort_values(by='RICE', ascending = False) # отсортируем их по убыванию приоритета"
   ]
  },
  {
   "cell_type": "markdown",
   "metadata": {},
   "source": [
    "По RICE: **восьмая гипотеза** (\"Добавить форму подписки на все основные страницы, чтобы собрать базу клиентов для email-рассылок\") - самая перспективная. Затем идут гипотезы **3** (\"Добавить блоки рекомендаций товаров на сайт интернет магазина, чтобы повысить конверсию и средний чек заказа\t\"), **1** (\"Добавить два новых канала привлечения трафика, что позволит привлекать на 30% больше пользователей\") и **7** (\"Показать на главной странице баннеры с актуальными акциями и распродажами, чтобы увеличить конверсию\")."
   ]
  },
  {
   "cell_type": "markdown",
   "metadata": {},
   "source": [
    "**Вывод:** При применении RICE вместо ICE изменилась приоритизация гипотез. На первом месте оказалась гипотеза с инедксом **8** (\"Добавить форму подписки на все основные страницы, чтобы собрать базу клиентов для email-рассылок\"), в виду того, что ее параметр  Reach (скольких пользователей затронет изменение, которое мы хотим внести) равен 10, в то время как у других гипотез он меньше. В числе перспективных гипотез при обоих способах приоритизации задач остаются гипотезы с индексами **1** (\"Добавить два новых канала привлечения трафика, что позволит привлекать на 30% больше пользователей\") и **7** (\"Показать на главной странице баннеры с актуальными акциями и распродажами, чтобы увеличить конверсию\t\")."
   ]
  },
  {
   "cell_type": "markdown",
   "metadata": {},
   "source": [
    "## Часть 2. Анализ A/B-теста"
   ]
  },
  {
   "cell_type": "markdown",
   "metadata": {},
   "source": [
    "### 2.1 Загрузим данные и подготовим их к анализу"
   ]
  },
  {
   "cell_type": "code",
   "execution_count": 9,
   "metadata": {},
   "outputs": [],
   "source": [
    "# Импортируем нужные библиотеки\n",
    "import pandas as pd\n",
    "import scipy.stats as stats\n",
    "import numpy as np\n",
    "import math as mth\n",
    "import datetime as dt\n",
    "from matplotlib import pyplot as plt\n",
    "from pandas.plotting import register_matplotlib_converters\n",
    "import warnings\n",
    "warnings.filterwarnings('ignore')"
   ]
  },
  {
   "cell_type": "code",
   "execution_count": 10,
   "metadata": {},
   "outputs": [],
   "source": [
    "# Загрузим исходные данные \n",
    "orders, visitors = (\n",
    "    pd.read_csv('/datasets/orders.csv'),  # заказы\n",
    "    pd.read_csv('/datasets/visitors.csv')  # визиты\n",
    ")"
   ]
  },
  {
   "cell_type": "markdown",
   "metadata": {},
   "source": [
    "### 2.2 Изучим исходный датафрейм orders"
   ]
  },
  {
   "cell_type": "code",
   "execution_count": 11,
   "metadata": {},
   "outputs": [
    {
     "data": {
      "text/html": [
       "<div>\n",
       "<style scoped>\n",
       "    .dataframe tbody tr th:only-of-type {\n",
       "        vertical-align: middle;\n",
       "    }\n",
       "\n",
       "    .dataframe tbody tr th {\n",
       "        vertical-align: top;\n",
       "    }\n",
       "\n",
       "    .dataframe thead th {\n",
       "        text-align: right;\n",
       "    }\n",
       "</style>\n",
       "<table border=\"1\" class=\"dataframe\">\n",
       "  <thead>\n",
       "    <tr style=\"text-align: right;\">\n",
       "      <th></th>\n",
       "      <th>transactionId</th>\n",
       "      <th>visitorId</th>\n",
       "      <th>date</th>\n",
       "      <th>revenue</th>\n",
       "      <th>group</th>\n",
       "    </tr>\n",
       "  </thead>\n",
       "  <tbody>\n",
       "    <tr>\n",
       "      <th>0</th>\n",
       "      <td>3667963787</td>\n",
       "      <td>3312258926</td>\n",
       "      <td>2019-08-15</td>\n",
       "      <td>1650</td>\n",
       "      <td>B</td>\n",
       "    </tr>\n",
       "    <tr>\n",
       "      <th>1</th>\n",
       "      <td>2804400009</td>\n",
       "      <td>3642806036</td>\n",
       "      <td>2019-08-15</td>\n",
       "      <td>730</td>\n",
       "      <td>B</td>\n",
       "    </tr>\n",
       "    <tr>\n",
       "      <th>2</th>\n",
       "      <td>2961555356</td>\n",
       "      <td>4069496402</td>\n",
       "      <td>2019-08-15</td>\n",
       "      <td>400</td>\n",
       "      <td>A</td>\n",
       "    </tr>\n",
       "    <tr>\n",
       "      <th>3</th>\n",
       "      <td>3797467345</td>\n",
       "      <td>1196621759</td>\n",
       "      <td>2019-08-15</td>\n",
       "      <td>9759</td>\n",
       "      <td>B</td>\n",
       "    </tr>\n",
       "    <tr>\n",
       "      <th>4</th>\n",
       "      <td>2282983706</td>\n",
       "      <td>2322279887</td>\n",
       "      <td>2019-08-15</td>\n",
       "      <td>2308</td>\n",
       "      <td>B</td>\n",
       "    </tr>\n",
       "    <tr>\n",
       "      <th>5</th>\n",
       "      <td>182168103</td>\n",
       "      <td>935554773</td>\n",
       "      <td>2019-08-15</td>\n",
       "      <td>2210</td>\n",
       "      <td>B</td>\n",
       "    </tr>\n",
       "    <tr>\n",
       "      <th>6</th>\n",
       "      <td>398296753</td>\n",
       "      <td>2900797465</td>\n",
       "      <td>2019-08-15</td>\n",
       "      <td>1860</td>\n",
       "      <td>B</td>\n",
       "    </tr>\n",
       "    <tr>\n",
       "      <th>7</th>\n",
       "      <td>2626614568</td>\n",
       "      <td>78758296</td>\n",
       "      <td>2019-08-15</td>\n",
       "      <td>1044</td>\n",
       "      <td>A</td>\n",
       "    </tr>\n",
       "    <tr>\n",
       "      <th>8</th>\n",
       "      <td>1576988021</td>\n",
       "      <td>295230930</td>\n",
       "      <td>2019-08-15</td>\n",
       "      <td>13710</td>\n",
       "      <td>A</td>\n",
       "    </tr>\n",
       "    <tr>\n",
       "      <th>9</th>\n",
       "      <td>1506739906</td>\n",
       "      <td>1882260405</td>\n",
       "      <td>2019-08-15</td>\n",
       "      <td>1855</td>\n",
       "      <td>B</td>\n",
       "    </tr>\n",
       "  </tbody>\n",
       "</table>\n",
       "</div>"
      ],
      "text/plain": [
       "   transactionId   visitorId        date  revenue group\n",
       "0     3667963787  3312258926  2019-08-15     1650     B\n",
       "1     2804400009  3642806036  2019-08-15      730     B\n",
       "2     2961555356  4069496402  2019-08-15      400     A\n",
       "3     3797467345  1196621759  2019-08-15     9759     B\n",
       "4     2282983706  2322279887  2019-08-15     2308     B\n",
       "5      182168103   935554773  2019-08-15     2210     B\n",
       "6      398296753  2900797465  2019-08-15     1860     B\n",
       "7     2626614568    78758296  2019-08-15     1044     A\n",
       "8     1576988021   295230930  2019-08-15    13710     A\n",
       "9     1506739906  1882260405  2019-08-15     1855     B"
      ]
     },
     "execution_count": 11,
     "metadata": {},
     "output_type": "execute_result"
    }
   ],
   "source": [
    "orders.head(10) # изучим первые 10 строк датафрейма"
   ]
  },
  {
   "cell_type": "code",
   "execution_count": 12,
   "metadata": {},
   "outputs": [
    {
     "name": "stdout",
     "output_type": "stream",
     "text": [
      "<class 'pandas.core.frame.DataFrame'>\n",
      "RangeIndex: 1197 entries, 0 to 1196\n",
      "Data columns (total 5 columns):\n",
      " #   Column         Non-Null Count  Dtype \n",
      "---  ------         --------------  ----- \n",
      " 0   transactionId  1197 non-null   int64 \n",
      " 1   visitorId      1197 non-null   int64 \n",
      " 2   date           1197 non-null   object\n",
      " 3   revenue        1197 non-null   int64 \n",
      " 4   group          1197 non-null   object\n",
      "dtypes: int64(3), object(2)\n",
      "memory usage: 46.9+ KB\n"
     ]
    }
   ],
   "source": [
    "orders.info() # исходная информация датафрейма "
   ]
  },
  {
   "cell_type": "code",
   "execution_count": 13,
   "metadata": {},
   "outputs": [],
   "source": [
    "orders['date'] = pd.to_datetime(orders['date']) # скорректируем тип данных столбца date"
   ]
  },
  {
   "cell_type": "code",
   "execution_count": 14,
   "metadata": {},
   "outputs": [
    {
     "data": {
      "text/plain": [
       "transactionId    0\n",
       "visitorId        0\n",
       "date             0\n",
       "revenue          0\n",
       "group            0\n",
       "dtype: int64"
      ]
     },
     "execution_count": 14,
     "metadata": {},
     "output_type": "execute_result"
    }
   ],
   "source": [
    "orders.isna().sum() # определение пропусков в столбцах"
   ]
  },
  {
   "cell_type": "code",
   "execution_count": 15,
   "metadata": {},
   "outputs": [
    {
     "data": {
      "text/plain": [
       "0"
      ]
     },
     "execution_count": 15,
     "metadata": {},
     "output_type": "execute_result"
    }
   ],
   "source": [
    "orders.duplicated().sum() # определение количества дубликатов"
   ]
  },
  {
   "cell_type": "code",
   "execution_count": 16,
   "metadata": {},
   "outputs": [
    {
     "data": {
      "text/plain": [
       "group\n",
       "A    503\n",
       "B    586\n",
       "Name: visitorId, dtype: int64"
      ]
     },
     "execution_count": 16,
     "metadata": {},
     "output_type": "execute_result"
    }
   ],
   "source": [
    "orders.groupby('group')['visitorId'].nunique() # определение количества уникальных значений"
   ]
  },
  {
   "cell_type": "code",
   "execution_count": 17,
   "metadata": {},
   "outputs": [
    {
     "data": {
      "text/plain": [
       "Timestamp('2019-08-01 00:00:00')"
      ]
     },
     "execution_count": 17,
     "metadata": {},
     "output_type": "execute_result"
    }
   ],
   "source": [
    "# Определим дату начала проведения теста\n",
    "min_test_date_o = orders['date'].min()\n",
    "min_test_date_o"
   ]
  },
  {
   "cell_type": "markdown",
   "metadata": {},
   "source": [
    "Дата начала теста - 1 августа 2019 года."
   ]
  },
  {
   "cell_type": "code",
   "execution_count": 18,
   "metadata": {},
   "outputs": [
    {
     "data": {
      "text/plain": [
       "Timestamp('2019-08-31 00:00:00')"
      ]
     },
     "execution_count": 18,
     "metadata": {},
     "output_type": "execute_result"
    }
   ],
   "source": [
    "# Определим дату окончания проведения теста\n",
    "max_test_date_o = orders['date'].max()\n",
    "max_test_date_o"
   ]
  },
  {
   "cell_type": "markdown",
   "metadata": {},
   "source": [
    "Дата окончания проведения теста - 31 августа 2019 года."
   ]
  },
  {
   "cell_type": "markdown",
   "metadata": {},
   "source": [
    "### 2.3 Изучим исходный датафрейм visitors"
   ]
  },
  {
   "cell_type": "code",
   "execution_count": 19,
   "metadata": {},
   "outputs": [
    {
     "data": {
      "text/html": [
       "<div>\n",
       "<style scoped>\n",
       "    .dataframe tbody tr th:only-of-type {\n",
       "        vertical-align: middle;\n",
       "    }\n",
       "\n",
       "    .dataframe tbody tr th {\n",
       "        vertical-align: top;\n",
       "    }\n",
       "\n",
       "    .dataframe thead th {\n",
       "        text-align: right;\n",
       "    }\n",
       "</style>\n",
       "<table border=\"1\" class=\"dataframe\">\n",
       "  <thead>\n",
       "    <tr style=\"text-align: right;\">\n",
       "      <th></th>\n",
       "      <th>date</th>\n",
       "      <th>group</th>\n",
       "      <th>visitors</th>\n",
       "    </tr>\n",
       "  </thead>\n",
       "  <tbody>\n",
       "    <tr>\n",
       "      <th>0</th>\n",
       "      <td>2019-08-01</td>\n",
       "      <td>A</td>\n",
       "      <td>719</td>\n",
       "    </tr>\n",
       "    <tr>\n",
       "      <th>1</th>\n",
       "      <td>2019-08-02</td>\n",
       "      <td>A</td>\n",
       "      <td>619</td>\n",
       "    </tr>\n",
       "    <tr>\n",
       "      <th>2</th>\n",
       "      <td>2019-08-03</td>\n",
       "      <td>A</td>\n",
       "      <td>507</td>\n",
       "    </tr>\n",
       "    <tr>\n",
       "      <th>3</th>\n",
       "      <td>2019-08-04</td>\n",
       "      <td>A</td>\n",
       "      <td>717</td>\n",
       "    </tr>\n",
       "    <tr>\n",
       "      <th>4</th>\n",
       "      <td>2019-08-05</td>\n",
       "      <td>A</td>\n",
       "      <td>756</td>\n",
       "    </tr>\n",
       "    <tr>\n",
       "      <th>5</th>\n",
       "      <td>2019-08-06</td>\n",
       "      <td>A</td>\n",
       "      <td>667</td>\n",
       "    </tr>\n",
       "    <tr>\n",
       "      <th>6</th>\n",
       "      <td>2019-08-07</td>\n",
       "      <td>A</td>\n",
       "      <td>644</td>\n",
       "    </tr>\n",
       "    <tr>\n",
       "      <th>7</th>\n",
       "      <td>2019-08-08</td>\n",
       "      <td>A</td>\n",
       "      <td>610</td>\n",
       "    </tr>\n",
       "    <tr>\n",
       "      <th>8</th>\n",
       "      <td>2019-08-09</td>\n",
       "      <td>A</td>\n",
       "      <td>617</td>\n",
       "    </tr>\n",
       "    <tr>\n",
       "      <th>9</th>\n",
       "      <td>2019-08-10</td>\n",
       "      <td>A</td>\n",
       "      <td>406</td>\n",
       "    </tr>\n",
       "  </tbody>\n",
       "</table>\n",
       "</div>"
      ],
      "text/plain": [
       "         date group  visitors\n",
       "0  2019-08-01     A       719\n",
       "1  2019-08-02     A       619\n",
       "2  2019-08-03     A       507\n",
       "3  2019-08-04     A       717\n",
       "4  2019-08-05     A       756\n",
       "5  2019-08-06     A       667\n",
       "6  2019-08-07     A       644\n",
       "7  2019-08-08     A       610\n",
       "8  2019-08-09     A       617\n",
       "9  2019-08-10     A       406"
      ]
     },
     "execution_count": 19,
     "metadata": {},
     "output_type": "execute_result"
    }
   ],
   "source": [
    "visitors.head(10) # изучим первые 10 строк датафрейма "
   ]
  },
  {
   "cell_type": "code",
   "execution_count": 20,
   "metadata": {},
   "outputs": [
    {
     "name": "stdout",
     "output_type": "stream",
     "text": [
      "<class 'pandas.core.frame.DataFrame'>\n",
      "RangeIndex: 62 entries, 0 to 61\n",
      "Data columns (total 3 columns):\n",
      " #   Column    Non-Null Count  Dtype \n",
      "---  ------    --------------  ----- \n",
      " 0   date      62 non-null     object\n",
      " 1   group     62 non-null     object\n",
      " 2   visitors  62 non-null     int64 \n",
      "dtypes: int64(1), object(2)\n",
      "memory usage: 1.6+ KB\n"
     ]
    }
   ],
   "source": [
    "visitors.info() # исходная информация датафрейма "
   ]
  },
  {
   "cell_type": "code",
   "execution_count": 21,
   "metadata": {},
   "outputs": [],
   "source": [
    "visitors['date'] = pd.to_datetime(visitors['date']) # скорректируем тип данных столбца date"
   ]
  },
  {
   "cell_type": "code",
   "execution_count": 22,
   "metadata": {},
   "outputs": [
    {
     "data": {
      "text/plain": [
       "date        0\n",
       "group       0\n",
       "visitors    0\n",
       "dtype: int64"
      ]
     },
     "execution_count": 22,
     "metadata": {},
     "output_type": "execute_result"
    }
   ],
   "source": [
    "visitors.isna().sum() # определение пропусков в столбцах"
   ]
  },
  {
   "cell_type": "code",
   "execution_count": 23,
   "metadata": {},
   "outputs": [
    {
     "data": {
      "text/plain": [
       "0"
      ]
     },
     "execution_count": 23,
     "metadata": {},
     "output_type": "execute_result"
    }
   ],
   "source": [
    "visitors.duplicated().sum() # определение количества дубликатов"
   ]
  },
  {
   "cell_type": "code",
   "execution_count": 24,
   "metadata": {},
   "outputs": [
    {
     "data": {
      "text/plain": [
       "Timestamp('2019-08-01 00:00:00')"
      ]
     },
     "execution_count": 24,
     "metadata": {},
     "output_type": "execute_result"
    }
   ],
   "source": [
    "# Определим дату начала проведения теста\n",
    "min_test_date_v = visitors['date'].min()\n",
    "min_test_date_v"
   ]
  },
  {
   "cell_type": "markdown",
   "metadata": {},
   "source": [
    "Дата начала проведения теста - 1 августа 2019 года."
   ]
  },
  {
   "cell_type": "code",
   "execution_count": 25,
   "metadata": {},
   "outputs": [
    {
     "data": {
      "text/plain": [
       "Timestamp('2019-08-31 00:00:00')"
      ]
     },
     "execution_count": 25,
     "metadata": {},
     "output_type": "execute_result"
    }
   ],
   "source": [
    "# Определим дату окончания проведения теста\n",
    "max_test_date_v = visitors['date'].max()\n",
    "max_test_date_v"
   ]
  },
  {
   "cell_type": "markdown",
   "metadata": {},
   "source": [
    "Дата окончания проведения теста - 31 августа 2019 года."
   ]
  },
  {
   "cell_type": "markdown",
   "metadata": {},
   "source": [
    "### 2.4 Построим график кумулятивной выручки по группам"
   ]
  },
  {
   "cell_type": "code",
   "execution_count": 26,
   "metadata": {},
   "outputs": [
    {
     "name": "stdout",
     "output_type": "stream",
     "text": [
      "        date group  orders  buyers  revenue  visitors\n",
      "0 2019-08-01     A      24      20   148579       719\n",
      "1 2019-08-01     B      21      20   101217       713\n",
      "2 2019-08-02     A      44      38   242401      1338\n",
      "3 2019-08-02     B      45      43   266748      1294\n",
      "4 2019-08-03     A      68      62   354874      1845\n"
     ]
    }
   ],
   "source": [
    "# создаем массив уникальных пар значений дат и групп теста\n",
    "datesGroups = orders[['date','group']].drop_duplicates()\n",
    "\n",
    "# получаем агрегированные кумулятивные по дням данные о заказах \n",
    "ordersAggregated = datesGroups.apply(\n",
    "    lambda x: orders[\n",
    "        np.logical_and(\n",
    "            orders['date'] <= x['date'], orders['group'] == x['group']\n",
    "        )\n",
    "    ].agg(\n",
    "        {\n",
    "            'date': 'max',\n",
    "            'group': 'max',\n",
    "            'transactionId': 'nunique',\n",
    "            'visitorId': 'nunique',\n",
    "            'revenue': 'sum',\n",
    "        }\n",
    "    ),\n",
    "    axis=1,\n",
    ").sort_values(by=['date', 'group'])\n",
    "\n",
    "# получаем агрегированные кумулятивные по дням данные о посетителях интернет-магазина \n",
    "visitorsAggregated = datesGroups.apply(\n",
    "    lambda x: visitors[\n",
    "        np.logical_and(\n",
    "            visitors['date'] <= x['date'], visitors['group'] == x['group']\n",
    "        )\n",
    "    ].agg({'date': 'max', 'group': 'max', 'visitors': 'sum'}),\n",
    "    axis=1,\n",
    ").sort_values(by=['date', 'group'])\n",
    "\n",
    "# объединяем кумулятивные данные в одной таблице и присваиваем ее столбцам понятные названия\n",
    "cumulativeData = ordersAggregated.merge(visitorsAggregated, left_on=['date', 'group'], right_on=['date', 'group'])\n",
    "cumulativeData.columns = ['date', 'group', 'orders', 'buyers', 'revenue', 'visitors']\n",
    "\n",
    "print(cumulativeData.head(5)) "
   ]
  },
  {
   "cell_type": "code",
   "execution_count": 27,
   "metadata": {},
   "outputs": [
    {
     "data": {
      "text/plain": [
       "Timestamp('2019-08-01 00:00:00')"
      ]
     },
     "execution_count": 27,
     "metadata": {},
     "output_type": "execute_result"
    }
   ],
   "source": [
    "# Проверим дату начала проведения теста и сравним с датой в исходным данных\n",
    "cumulativeData['date'].min()"
   ]
  },
  {
   "cell_type": "markdown",
   "metadata": {},
   "source": [
    "**Дата начала проведения теста - 1 августа 2019 года. Данные совпадают с исходными.**"
   ]
  },
  {
   "cell_type": "code",
   "execution_count": 28,
   "metadata": {},
   "outputs": [
    {
     "data": {
      "text/plain": [
       "Timestamp('2019-08-31 00:00:00')"
      ]
     },
     "execution_count": 28,
     "metadata": {},
     "output_type": "execute_result"
    }
   ],
   "source": [
    "# Проверим дату окончания проведения теста и сравним с датой в исходным данных\n",
    "cumulativeData['date'].max()"
   ]
  },
  {
   "cell_type": "markdown",
   "metadata": {},
   "source": [
    "**Дата окончания проведения теста - 31 августа 2019 года. Данные совпадают с исходными.**"
   ]
  },
  {
   "cell_type": "markdown",
   "metadata": {},
   "source": [
    "**Построим график кумулятивной выручки по группам A/B-тестирования:**"
   ]
  },
  {
   "cell_type": "code",
   "execution_count": 29,
   "metadata": {},
   "outputs": [
    {
     "data": {
      "image/png": "[encoded data removed]",
      "text/plain": [
       "<Figure size 1440x648 with 1 Axes>"
      ]
     },
     "metadata": {
      "needs_background": "light"
     },
     "output_type": "display_data"
    }
   ],
   "source": [
    "# датафрейм с кумулятивным количеством заказов и кумулятивной выручкой по дням в группе А\n",
    "cumulativeRevenueA = cumulativeData[cumulativeData['group']=='A'][['date','revenue', 'orders']]\n",
    "\n",
    "# датафрейм с кумулятивным количеством заказов и кумулятивной выручкой по дням в группе B\n",
    "cumulativeRevenueB = cumulativeData[cumulativeData['group']=='B'][['date','revenue', 'orders']]\n",
    "plt.figure(figsize=(20,9))\n",
    "# Строим график выручки группы А\n",
    "plt.plot(cumulativeRevenueA['date'], cumulativeRevenueA['revenue'], label='A')\n",
    "\n",
    "# Строим график выручки группы B\n",
    "plt.plot(cumulativeRevenueB['date'], cumulativeRevenueB['revenue'], label='B')\n",
    "plt.title('График кумулятивной выручки по группам')\n",
    "plt.xlabel('Дата')\n",
    "plt.ylabel('Частота значений')\n",
    "plt.xticks(rotation=45)\n",
    "\n",
    "plt.legend();"
   ]
  },
  {
   "cell_type": "markdown",
   "metadata": {},
   "source": [
    "**Вывод:** С начала теста сегмент В вырвался вперед и продолжал лидировать на протяжении всего теста. \n",
    "Однако график выручки группы В в середине теста резко начал расти. Это может сигнализировать о всплесках числа заказов, либо о появлении очень дорогих заказов в выборке. В группе А выручка почти равномерно увеличивается в течение всего теста. Хороший знак."
   ]
  },
  {
   "cell_type": "markdown",
   "metadata": {},
   "source": [
    "### 2.5 Построим график кумулятивного среднего чека по группам"
   ]
  },
  {
   "cell_type": "code",
   "execution_count": 30,
   "metadata": {},
   "outputs": [
    {
     "data": {
      "image/png": "[encoded data removed]",
      "text/plain": [
       "<Figure size 1440x576 with 1 Axes>"
      ]
     },
     "metadata": {
      "needs_background": "light"
     },
     "output_type": "display_data"
    }
   ],
   "source": [
    "plt.figure(figsize=(20,8))\n",
    "# Строим график среднего чека группы А\n",
    "plt.plot(cumulativeRevenueA['date'], cumulativeRevenueA['revenue']/cumulativeRevenueA['orders'], label='A')\n",
    "\n",
    "# Строим график среднего чека группы B\n",
    "plt.plot(cumulativeRevenueB['date'], cumulativeRevenueB['revenue']/cumulativeRevenueB['orders'], label='B')\n",
    "plt.title('График кумулятивного среднего чека по группам')\n",
    "plt.xlabel('Дата')\n",
    "plt.ylabel('Частота значений')\n",
    "plt.xticks(rotation=45)\n",
    "\n",
    "plt.legend(); \n"
   ]
  },
  {
   "cell_type": "markdown",
   "metadata": {},
   "source": [
    "**Вывод:** Кумулятивное значение среднего чека по сегментам испытывает колебания. Как и на графике выручки, видно, что в группе В снова случается резкий скачок 2019-08-19. В группе А сначала случился спад, затем резкий рост до середины теста, потом значение среднего чека начало выравниваться. Требуется дополнительный анализ выбросов, которые так сильно искажают результаты."
   ]
  },
  {
   "cell_type": "markdown",
   "metadata": {},
   "source": [
    "### 2.6 Построим график относительного изменения кумулятивного среднего чека группы B к группе A"
   ]
  },
  {
   "cell_type": "code",
   "execution_count": 31,
   "metadata": {},
   "outputs": [
    {
     "data": {
      "image/png": "[encoded data removed]",
      "text/plain": [
       "<Figure size 1440x576 with 1 Axes>"
      ]
     },
     "metadata": {
      "needs_background": "light"
     },
     "output_type": "display_data"
    }
   ],
   "source": [
    "# объединим таблицы cumulativeRevenueA и cumulativeRevenueB\n",
    "mergedCumulativeRevenue = cumulativeRevenueA.merge(\n",
    "    cumulativeRevenueB, left_on='date', right_on='date', how='left', suffixes=['A', 'B']\n",
    ")\n",
    "\n",
    "# cтроим отношение средних чеков\n",
    "plt.figure(figsize=(20,8))\n",
    "plt.plot(mergedCumulativeRevenue['date'], (mergedCumulativeRevenue['revenueB']/mergedCumulativeRevenue['ordersB'])/\n",
    "         (mergedCumulativeRevenue['revenueA']/mergedCumulativeRevenue['ordersA'])-1)\n",
    "\n",
    "plt.title('График относительного изменения кумулятивного среднего чека группы В к группе А')\n",
    "plt.xlabel('Дата')\n",
    "plt.ylabel('Частота значений')\n",
    "plt.xticks(rotation=45)\n",
    "plt.axhline(y=0, color='black', linestyle='--');"
   ]
  },
  {
   "cell_type": "markdown",
   "metadata": {},
   "source": [
    "**Вывод:** Результаты теста резко и значительно менялись в несколько дат. Видимо именно тогда были совершены аномальные заказы."
   ]
  },
  {
   "cell_type": "markdown",
   "metadata": {},
   "source": [
    "### 2.7 Построим график кумулятивного среднего количества заказов на посетителя по группам"
   ]
  },
  {
   "cell_type": "code",
   "execution_count": 32,
   "metadata": {},
   "outputs": [
    {
     "data": {
      "image/png": "[encoded data removed]",
      "text/plain": [
       "<Figure size 1440x576 with 1 Axes>"
      ]
     },
     "metadata": {
      "needs_background": "light"
     },
     "output_type": "display_data"
    }
   ],
   "source": [
    "# считаем кумулятивную конверсию\n",
    "cumulativeData['conversion'] = cumulativeData['orders']/cumulativeData['visitors']\n",
    "\n",
    "# отделяем данные по группе A\n",
    "cumulativeDataA = cumulativeData[cumulativeData['group']=='A']\n",
    "\n",
    "# отделяем данные по группе B\n",
    "cumulativeDataB = cumulativeData[cumulativeData['group']=='B']\n",
    "\n",
    "# строим графики\n",
    "plt.figure(figsize=(20,8))\n",
    "plt.plot(cumulativeDataA['date'], cumulativeDataA['conversion'], label='A')\n",
    "plt.plot(cumulativeDataB['date'], cumulativeDataB['conversion'], label='B')\n",
    "plt.legend()\n",
    "\n",
    "plt.title('График кумулятивного среднего количества заказов на посетителя по группам')\n",
    "plt.xlabel('Дата')\n",
    "plt.ylabel('Частота значений')\n",
    "plt.xticks(rotation=45); "
   ]
  },
  {
   "cell_type": "markdown",
   "metadata": {},
   "source": [
    "**Вывод:** Получился симметричный график. В начале теста сегмент группы А имел бОльшую конверсию, но затем конверсия группы В вырвалась вперёд и зафиксировалась, а конверсия группы А просела и также зафиксировалась."
   ]
  },
  {
   "cell_type": "markdown",
   "metadata": {},
   "source": [
    "### 2.8 Построим график относительного изменения кумулятивного среднего количества заказов на посетителя группы B к группе A"
   ]
  },
  {
   "cell_type": "code",
   "execution_count": 33,
   "metadata": {},
   "outputs": [
    {
     "data": {
      "image/png": "[encoded data removed]",
      "text/plain": [
       "<Figure size 1440x576 with 1 Axes>"
      ]
     },
     "metadata": {
      "needs_background": "light"
     },
     "output_type": "display_data"
    }
   ],
   "source": [
    "mergedCumulativeConversions = cumulativeDataA[['date','conversion']].merge(cumulativeDataB[['date','conversion']],\n",
    "                              left_on='date', right_on='date', how='left', suffixes=['A', 'B'])\n",
    "plt.figure(figsize=(20,8))\n",
    "plt.plot(mergedCumulativeConversions['date'], \n",
    "         mergedCumulativeConversions['conversionB']/mergedCumulativeConversions['conversionA']-1, \n",
    "         label=\"Относительный прирост конверсии группы B относительно группы A\")\n",
    "\n",
    "plt.title('График относительного изменения кумулятивного среднего количества заказов на посетителя группы В к группе А')\n",
    "plt.xlabel('Дата')\n",
    "plt.ylabel('Частота значений')\n",
    "plt.xticks(rotation=45)\n",
    "plt.axhline(y=0, color='black', linestyle='--')\n",
    "plt.axhline(y=0.15, color='grey', linestyle='--')\n",
    "plt.legend();"
   ]
  },
  {
   "cell_type": "markdown",
   "metadata": {},
   "source": [
    "**Вывод:** В начале теста группа B проигрывала группе A, затем вырвалась вперёд, потом снова просела, и с 2019-08-06 конверсия стала постепенно расти и, возможно, зафиксировалась около прироста в 15% относительно группы А. "
   ]
  },
  {
   "cell_type": "markdown",
   "metadata": {},
   "source": [
    "### 2.9 Построим точечный график количества заказов по пользователям"
   ]
  },
  {
   "cell_type": "code",
   "execution_count": 34,
   "metadata": {},
   "outputs": [
    {
     "name": "stdout",
     "output_type": "stream",
     "text": [
      "       visitorId  orders\n",
      "1023  4256040402      11\n",
      "591   2458001652      11\n",
      "569   2378935119       9\n",
      "487   2038680547       8\n",
      "44     199603092       5\n",
      "744   3062433592       5\n",
      "55     237748145       5\n",
      "917   3803269165       5\n",
      "299   1230306981       5\n",
      "897   3717692402       5\n"
     ]
    },
    {
     "data": {
      "image/png": "[encoded data removed]",
      "text/plain": [
       "<Figure size 936x576 with 1 Axes>"
      ]
     },
     "metadata": {
      "needs_background": "light"
     },
     "output_type": "display_data"
    }
   ],
   "source": [
    "ordersByUsers = (\n",
    "    orders.groupby('visitorId', as_index=False)\n",
    "    .agg({'transactionId': 'nunique'})\n",
    ")\n",
    "ordersByUsers.columns = ['visitorId', 'orders']\n",
    "\n",
    "print (ordersByUsers.sort_values(by='orders', ascending=False).head(10))\n",
    "\n",
    "# серия из чисел от 0 до количества наблюдений в ordersByUsers\n",
    "x_values = pd.Series(range(0, len(ordersByUsers)))\n",
    "plt.figure(figsize=(13,8))\n",
    "plt.scatter(x_values, ordersByUsers['orders']) \n",
    "plt.title('Точечный график количества заказов по пользователям')\n",
    "plt.xlabel('Количество пользователей')\n",
    "plt.ylabel('Частота значений');\n"
   ]
  },
  {
   "cell_type": "markdown",
   "metadata": {},
   "source": [
    "**Вывод:** Большинство покупателей заказывали только один раз. Однако доля пользователей с 2 заказами тоже значительна. Пользователей, заказавших более двух раз, совсем мало, они вполне могут быть аномальными."
   ]
  },
  {
   "cell_type": "markdown",
   "metadata": {},
   "source": [
    "### 2.10 Посчитаем 95-й и 99-й перцентили количества заказов на пользователя. Выберем границу для определения аномальных пользователей"
   ]
  },
  {
   "cell_type": "code",
   "execution_count": 35,
   "metadata": {},
   "outputs": [
    {
     "name": "stdout",
     "output_type": "stream",
     "text": [
      "       visitorId  orders\n",
      "1023  4256040402      11\n",
      "591   2458001652      11\n",
      "569   2378935119       9\n",
      "487   2038680547       8\n",
      "44     199603092       5\n",
      "744   3062433592       5\n",
      "55     237748145       5\n",
      "917   3803269165       5\n",
      "299   1230306981       5\n",
      "897   3717692402       5\n"
     ]
    },
    {
     "data": {
      "text/plain": [
       "array([2., 4.])"
      ]
     },
     "execution_count": 35,
     "metadata": {},
     "output_type": "execute_result"
    }
   ],
   "source": [
    "print (ordersByUsers.sort_values(by='orders', ascending=False).head(10))\n",
    "np.percentile(ordersByUsers['orders'], [95, 99])"
   ]
  },
  {
   "cell_type": "markdown",
   "metadata": {},
   "source": [
    "**Вывод:** Не более 5% пользователей совершали больше двух заказов. И не более 1% пользователей - больше четырех заказов. За верхнюю границу числа заказов выберем 2 заказа на одного пользователя, тем самым отсеем аномальных пользователей по ней."
   ]
  },
  {
   "cell_type": "markdown",
   "metadata": {},
   "source": [
    "### 2.11 Построим точечный график стоимостей заказов"
   ]
  },
  {
   "cell_type": "code",
   "execution_count": 36,
   "metadata": {},
   "outputs": [
    {
     "data": {
      "image/png": "[encoded data removed]",
      "text/plain": [
       "<Figure size 936x576 with 1 Axes>"
      ]
     },
     "metadata": {
      "needs_background": "light"
     },
     "output_type": "display_data"
    }
   ],
   "source": [
    "x_values = pd.Series(range(0, len(orders['revenue'])))\n",
    "plt.figure(figsize=(13,8))\n",
    "plt.scatter(x_values, orders['revenue']) \n",
    "plt.title('Точечный график стоимостей заказов')\n",
    "plt.xlabel('Количество пользователей')\n",
    "plt.ylabel('Стоимось заказа');"
   ]
  },
  {
   "cell_type": "markdown",
   "metadata": {},
   "source": [
    "**Вывод:** На графике видим выбивающиеся значения со стоимостью заказа 200 000 и даже более 1 200 000. Введем ограничения по оси У, чтобы более наглядно рассмотреть картину."
   ]
  },
  {
   "cell_type": "code",
   "execution_count": 37,
   "metadata": {},
   "outputs": [
    {
     "name": "stdout",
     "output_type": "stream",
     "text": [
      "      transactionId   visitorId       date  revenue group\n",
      "425       590470918  1920142716 2019-08-19  1294500     B\n",
      "1196     3936777065  2108080724 2019-08-15   202740     B\n",
      "858       192721366  1316129916 2019-08-27    93940     A\n",
      "1136      666610489  1307669133 2019-08-13    92550     A\n",
      "744      3668308183   888512513 2019-08-27    86620     B\n",
      "682      1216533772  4266935830 2019-08-29    78990     B\n",
      "662      1811671147  4266935830 2019-08-29    78990     A\n",
      "743      3603576309  4133034833 2019-08-09    67990     A\n",
      "1103     1348774318  1164614297 2019-08-12    66350     A\n",
      "1099      316924019   148427295 2019-08-12    65710     A\n"
     ]
    },
    {
     "data": {
      "image/png": "[encoded data removed]",
      "text/plain": [
       "<Figure size 936x576 with 1 Axes>"
      ]
     },
     "metadata": {
      "needs_background": "light"
     },
     "output_type": "display_data"
    }
   ],
   "source": [
    "print(orders.sort_values(by='revenue', ascending=False).head(10))\n",
    "\n",
    "x_values = pd.Series(range(0, len(orders['revenue'])))\n",
    "plt.figure(figsize=(13,8))\n",
    "plt.scatter(x_values, orders['revenue']) \n",
    "plt.title('Точечный график стоимостей заказов')\n",
    "plt.xlabel('Количество пользователей')\n",
    "plt.ylabel('Стоимось заказа')\n",
    "plt.axis([0, 1210, 0, 120000]);\n"
   ]
  },
  {
   "cell_type": "markdown",
   "metadata": {},
   "source": [
    "**Вывод:** Есть заказы дороже 20 000. Например, около 40 000, 60 000, 80 000 и даже 100 000. Однако большинство всё-таки имеет меньшую выручку. Определить границу аномальных пользователей по этому графику достаточно сложно."
   ]
  },
  {
   "cell_type": "markdown",
   "metadata": {},
   "source": [
    "### 2.12 Посчитаем 95-й и 99-й перцентили стоимости заказов. Выберем границу для определения аномальных заказов"
   ]
  },
  {
   "cell_type": "code",
   "execution_count": 38,
   "metadata": {},
   "outputs": [
    {
     "name": "stdout",
     "output_type": "stream",
     "text": [
      "      transactionId   visitorId       date  revenue group\n",
      "425       590470918  1920142716 2019-08-19  1294500     B\n",
      "1196     3936777065  2108080724 2019-08-15   202740     B\n",
      "858       192721366  1316129916 2019-08-27    93940     A\n",
      "1136      666610489  1307669133 2019-08-13    92550     A\n",
      "744      3668308183   888512513 2019-08-27    86620     B\n",
      "682      1216533772  4266935830 2019-08-29    78990     B\n",
      "662      1811671147  4266935830 2019-08-29    78990     A\n",
      "743      3603576309  4133034833 2019-08-09    67990     A\n",
      "1103     1348774318  1164614297 2019-08-12    66350     A\n",
      "1099      316924019   148427295 2019-08-12    65710     A\n"
     ]
    },
    {
     "data": {
      "text/plain": [
       "array([28000. , 58233.2])"
      ]
     },
     "execution_count": 38,
     "metadata": {},
     "output_type": "execute_result"
    }
   ],
   "source": [
    "print(orders.sort_values(by='revenue', ascending=False).head(10))\n",
    "\n",
    "np.percentile(orders['revenue'], [95, 99])\n"
   ]
  },
  {
   "cell_type": "markdown",
   "metadata": {},
   "source": [
    "**Вывод:** Не более, чем у 5% заказов чек дороже 28 000 рублей. И не больше, чем у 1% заказов - дороже 58 233 рублей. За верхнюю границу числа заказов выберем заказы, стоимость которых не превышает 28 000 рублей, тем самым отсеем аномальных пользователей по ней."
   ]
  },
  {
   "cell_type": "markdown",
   "metadata": {},
   "source": [
    "### 2.13 Посчитаем статистическую значимость различий в среднем количестве заказов на посетителя между группами по «сырым» данным"
   ]
  },
  {
   "cell_type": "markdown",
   "metadata": {},
   "source": [
    "**Сформулируем гипотезы:** Нулевая: различий в среднем количестве заказов между группами нет. Альтернативная: различия в среднем между группами есть."
   ]
  },
  {
   "cell_type": "code",
   "execution_count": 39,
   "metadata": {},
   "outputs": [
    {
     "name": "stdout",
     "output_type": "stream",
     "text": [
      "p-value = 0.017\n",
      "Относительный прирост группы B к конверсии группы А = 0.138\n"
     ]
    }
   ],
   "source": [
    "visitorsADaily = visitors[visitors['group'] == 'A'][['date', 'visitors']]\n",
    "visitorsADaily.columns = ['date', 'visitorsPerDateA']\n",
    "\n",
    "visitorsACummulative = visitorsADaily.apply(\n",
    "    lambda x: visitorsADaily[visitorsADaily['date'] <= x['date']].agg(\n",
    "        {'date': 'max', 'visitorsPerDateA': 'sum'}\n",
    "    ),\n",
    "    axis=1,\n",
    ")\n",
    "visitorsACummulative.columns = ['date', 'visitorsCummulativeA']\n",
    "\n",
    "visitorsBDaily = visitors[visitors['group'] == 'B'][['date', 'visitors']]\n",
    "visitorsBDaily.columns = ['date', 'visitorsPerDateB']\n",
    "\n",
    "visitorsBCummulative = visitorsBDaily.apply(\n",
    "    lambda x: visitorsBDaily[visitorsBDaily['date'] <= x['date']].agg(\n",
    "        {'date': 'max', 'visitorsPerDateB': 'sum'}\n",
    "    ),\n",
    "    axis=1,\n",
    ")\n",
    "visitorsBCummulative.columns = ['date', 'visitorsCummulativeB']\n",
    "\n",
    "ordersADaily = (\n",
    "    orders[orders['group'] == 'A'][['date', 'transactionId', 'visitorId', 'revenue']]\n",
    "    .groupby('date', as_index=False)\n",
    "    .agg({'transactionId': pd.Series.nunique, 'revenue': 'sum'})\n",
    ")\n",
    "ordersADaily.columns = ['date', 'ordersPerDateA', 'revenuePerDateA']\n",
    "\n",
    "ordersACummulative = ordersADaily.apply(\n",
    "    lambda x: ordersADaily[ordersADaily['date'] <= x['date']].agg(\n",
    "        {'date': 'max', 'ordersPerDateA': 'sum', 'revenuePerDateA': 'sum'}\n",
    "    ),\n",
    "    axis=1,\n",
    ").sort_values(by=['date'])\n",
    "ordersACummulative.columns = [\n",
    "    'date',\n",
    "    'ordersCummulativeA',\n",
    "    'revenueCummulativeA',\n",
    "]\n",
    "\n",
    "ordersBDaily = (\n",
    "    orders[orders['group'] == 'B'][['date', 'transactionId', 'visitorId', 'revenue']]\n",
    "    .groupby('date', as_index=False)\n",
    "    .agg({'transactionId': pd.Series.nunique, 'revenue': 'sum'})\n",
    ")\n",
    "ordersBDaily.columns = ['date', 'ordersPerDateB', 'revenuePerDateB']\n",
    "\n",
    "ordersBCummulative = ordersBDaily.apply(\n",
    "    lambda x: ordersBDaily[ordersBDaily['date'] <= x['date']].agg(\n",
    "        {'date': 'max', 'ordersPerDateB': 'sum', 'revenuePerDateB': 'sum'}\n",
    "    ),\n",
    "    axis=1,\n",
    ").sort_values(by=['date'])\n",
    "ordersBCummulative.columns = [\n",
    "    'date',\n",
    "    'ordersCummulativeB',\n",
    "    'revenueCummulativeB',\n",
    "]\n",
    "\n",
    "data = (\n",
    "    ordersADaily.merge(\n",
    "        ordersBDaily, left_on='date', right_on='date', how='left'\n",
    "    )\n",
    "    .merge(ordersACummulative, left_on='date', right_on='date', how='left')\n",
    "    .merge(ordersBCummulative, left_on='date', right_on='date', how='left')\n",
    "    .merge(visitorsADaily, left_on='date', right_on='date', how='left')\n",
    "    .merge(visitorsBDaily, left_on='date', right_on='date', how='left')\n",
    "    .merge(visitorsACummulative, left_on='date', right_on='date', how='left')\n",
    "    .merge(visitorsBCummulative, left_on='date', right_on='date', how='left')\n",
    ")\n",
    "\n",
    "ordersByUsersA = (\n",
    "    orders[orders['group'] == 'A']\n",
    "    .groupby('visitorId', as_index=False)\n",
    "    .agg({'transactionId': pd.Series.nunique})\n",
    ")\n",
    "ordersByUsersA.columns = ['visitorId', 'orders']\n",
    "\n",
    "ordersByUsersB = (\n",
    "    orders[orders['group'] == 'B']\n",
    "    .groupby('visitorId', as_index=False)\n",
    "    .agg({'transactionId': pd.Series.nunique})\n",
    ")\n",
    "ordersByUsersB.columns = ['visitorId', 'orders'] \n",
    "\n",
    "sampleA = pd.concat(\n",
    "    [\n",
    "        ordersByUsersA['orders'],\n",
    "        pd.Series(\n",
    "            0,\n",
    "            index=np.arange(\n",
    "                data['visitorsPerDateA'].sum() - len(ordersByUsersA['orders'])\n",
    "            ),\n",
    "            name='orders',\n",
    "        ),\n",
    "    ],\n",
    "    axis=0,\n",
    ")\n",
    "\n",
    "sampleB = pd.concat(\n",
    "    [\n",
    "        ordersByUsersB['orders'],\n",
    "        pd.Series(\n",
    "            0,\n",
    "            index=np.arange(\n",
    "                data['visitorsPerDateB'].sum() - len(ordersByUsersB['orders'])\n",
    "            ),\n",
    "            name='orders',\n",
    "        ),\n",
    "    ],\n",
    "    axis=0,\n",
    ")\n",
    "\n",
    "print(\"p-value = {0:.3f}\".format(stats.mannwhitneyu(sampleA, sampleB)[1]))\n",
    "\n",
    "print(\"Относительный прирост группы B к конверсии группы А = {0:.3f}\".format(sampleB.mean() / sampleA.mean() - 1))"
   ]
  },
  {
   "cell_type": "markdown",
   "metadata": {},
   "source": [
    "**Вывод:** p-value = 0.017 меньше 0.05. Значит, нулевую гипотезу о том, что статистически значимых различий в среднем числе заказов между группами нет, ***отвергаем***. Анализ \"сырых\" данных сообщает, что в среднем количестве заказов между группами есть статистически значимые различия. Однако относительный прирост группы B к конверсии группы А равен 13.8%."
   ]
  },
  {
   "cell_type": "markdown",
   "metadata": {},
   "source": [
    "### 2.14 Посчитаем статистическую значимость различий в среднем чеке заказа между группами по «сырым» данным"
   ]
  },
  {
   "cell_type": "markdown",
   "metadata": {},
   "source": [
    "**Сформулируем гипотезы:** Нулевая гипотеза: различий в среднем чеке между группами нет. Альтернативная гипотеза: различия в среднем чеке между группами есть. "
   ]
  },
  {
   "cell_type": "code",
   "execution_count": 40,
   "metadata": {},
   "outputs": [
    {
     "name": "stdout",
     "output_type": "stream",
     "text": [
      "p-value = 0.729\n",
      "Относительное различие среднего чека между группами В и А = 0.259\n"
     ]
    }
   ],
   "source": [
    "print('p-value = {0:.3f}'.format(stats.mannwhitneyu(orders[orders['group']=='A']\n",
    "                        ['revenue'], orders[orders['group']=='B']['revenue'])[1]))\n",
    "print('Относительное различие среднего чека между группами В и А = {0:.3f}'.format\n",
    "      (orders[orders['group']=='B']['revenue'].mean()/orders[orders['group']=='A']['revenue'].mean()-1)) "
   ]
  },
  {
   "cell_type": "markdown",
   "metadata": {},
   "source": [
    "**Вывод:** р-value = 0.729, что значительно больше 0.05. Значит, ***нет причин отвергать*** нулевую гипотезу и считать, что в среднем чеке есть различия. Кроме того, относительное различие среднего чека между сегментами составляет 26%, что довольно-таки значительно."
   ]
  },
  {
   "cell_type": "markdown",
   "metadata": {},
   "source": [
    "### 2.15 Посчитаем статистическую значимость различий в среднем количестве заказов на посетителя между группами по «очищенным» данным"
   ]
  },
  {
   "cell_type": "markdown",
   "metadata": {},
   "source": [
    "**Сформулируем гипотезы:** Нулевая: различий в среднем количестве заказов между группами нет. Альтернативная: различия в среднем между группами есть."
   ]
  },
  {
   "cell_type": "markdown",
   "metadata": {},
   "source": [
    "**Сделаем срезы пользователей с числом заказов больше 2 — usersWithManyOrders и пользователей, совершивших заказы дороже 28 000 — usersWithExpensiveOrders. Объединим их в таблице abnormalUsers, удалим дубликаты, отсортируем по возрастанию.**"
   ]
  },
  {
   "cell_type": "code",
   "execution_count": 41,
   "metadata": {},
   "outputs": [
    {
     "data": {
      "text/plain": [
       "1099    148427295\n",
       "18      199603092\n",
       "928     204675465\n",
       "23      237748145\n",
       "37      249864742\n",
       "Name: visitorId, dtype: int64"
      ]
     },
     "execution_count": 41,
     "metadata": {},
     "output_type": "execute_result"
    }
   ],
   "source": [
    "clean_orders = 2\n",
    "clean_revenue = 28000\n",
    "\n",
    "usersWithManyOrders = pd.concat(\n",
    "    [\n",
    "        ordersByUsersA[ordersByUsersA['orders'] > clean_orders]['visitorId'],\n",
    "        ordersByUsersB[ordersByUsersB['orders'] > clean_orders]['visitorId'],\n",
    "    ],\n",
    "    axis=0,\n",
    ")\n",
    "usersWithExpensiveOrders = orders[orders['revenue'] > clean_revenue]['visitorId']\n",
    "abnormalUsers = (\n",
    "    pd.concat([usersWithManyOrders, usersWithExpensiveOrders], axis=0)\n",
    "    .drop_duplicates()\n",
    "    .sort_values()\n",
    ")\n",
    "\n",
    "abnormalUsers.head(5)\n"
   ]
  },
  {
   "cell_type": "markdown",
   "metadata": {},
   "source": [
    "**Посчитаем статистическую значимость различия среднего количества заказов после удаления аномальных пользователей:**"
   ]
  },
  {
   "cell_type": "code",
   "execution_count": 42,
   "metadata": {},
   "outputs": [
    {
     "name": "stdout",
     "output_type": "stream",
     "text": [
      "p-value = 0.013\n",
      "Относительный прирост группы B к конверсии группы А = 0.173\n"
     ]
    }
   ],
   "source": [
    "sampleAFiltered = pd.concat(\n",
    "    [\n",
    "        ordersByUsersA[\n",
    "            np.logical_not(ordersByUsersA['visitorId'].isin(abnormalUsers))\n",
    "        ]['orders'],\n",
    "        pd.Series(\n",
    "            0,\n",
    "            index=np.arange(\n",
    "                data['visitorsPerDateA'].sum() - len(ordersByUsersA['orders'])\n",
    "            ),\n",
    "            name='orders',\n",
    "        ),\n",
    "    ],\n",
    "    axis=0,\n",
    ")\n",
    "\n",
    "sampleBFiltered = pd.concat(\n",
    "    [\n",
    "        ordersByUsersB[\n",
    "            np.logical_not(ordersByUsersB['visitorId'].isin(abnormalUsers))\n",
    "        ]['orders'],\n",
    "        pd.Series(\n",
    "            0,\n",
    "            index=np.arange(\n",
    "                data['visitorsPerDateB'].sum() - len(ordersByUsersB['orders'])\n",
    "            ),\n",
    "            name='orders',\n",
    "        ),\n",
    "    ],\n",
    "    axis=0,\n",
    ") \n",
    "print('p-value = {0:.3f}'.format(stats.mannwhitneyu(sampleAFiltered, sampleBFiltered)[1]))\n",
    "print('Относительный прирост группы B к конверсии группы А = {0:.3f}'.format(sampleBFiltered.mean()/sampleAFiltered.mean()-1))"
   ]
  },
  {
   "cell_type": "markdown",
   "metadata": {},
   "source": [
    "**Вывод:** p-value = 0.013 меньше 0.05. Значит, нулевую гипотезу о том, что статистически значимых различий в среднем числе заказов между группами нет, ***отвергаем***. Анализ \"очищенных\" данных сообщает, что в среднем количестве заказов между группами есть статистически значимые различия. Однако относительный прирост группы B к конверсии группы А равен 17.3%(выше, чем с \"сырыми\" данными - 13.8%). "
   ]
  },
  {
   "cell_type": "markdown",
   "metadata": {},
   "source": [
    "### 2.16 Посчитаем статистическую значимость различий в среднем чеке заказа между группами по «очищенным» данным"
   ]
  },
  {
   "cell_type": "markdown",
   "metadata": {},
   "source": [
    "**Сформулируем гипотезы:** Нулевая гипотеза: различий в среднем чеке между группами нет. Альтернативная гипотеза: различия в среднем чеке между группами есть. "
   ]
  },
  {
   "cell_type": "code",
   "execution_count": 43,
   "metadata": {},
   "outputs": [
    {
     "name": "stdout",
     "output_type": "stream",
     "text": [
      "p-value = 0.738\n",
      "Относительное различие среднего чека между группами В и А = -0.020\n"
     ]
    }
   ],
   "source": [
    "print(\n",
    "    'p-value = {0:.3f}'.format(\n",
    "        stats.mannwhitneyu(\n",
    "            orders[\n",
    "                np.logical_and(\n",
    "                    orders['group'] == 'A',\n",
    "                    np.logical_not(orders['visitorId'].isin(abnormalUsers)),\n",
    "                )\n",
    "            ]['revenue'],\n",
    "            orders[\n",
    "                np.logical_and(\n",
    "                    orders['group'] == 'B',\n",
    "                    np.logical_not(orders['visitorId'].isin(abnormalUsers)),\n",
    "                )\n",
    "            ]['revenue'],\n",
    "        )[1]\n",
    "    )\n",
    ")\n",
    "\n",
    "print(\n",
    "    \"Относительное различие среднего чека между группами В и А = {0:.3f}\".format(\n",
    "        orders[\n",
    "            np.logical_and(\n",
    "                orders['group'] == 'B',\n",
    "                np.logical_not(orders['visitorId'].isin(abnormalUsers)),\n",
    "            )\n",
    "        ]['revenue'].mean()\n",
    "        / orders[\n",
    "            np.logical_and(\n",
    "                orders['group'] == 'A',\n",
    "                np.logical_not(orders['visitorId'].isin(abnormalUsers)),\n",
    "            )\n",
    "        ]['revenue'].mean()\n",
    "        - 1\n",
    "    )\n",
    ") "
   ]
  },
  {
   "cell_type": "markdown",
   "metadata": {},
   "source": [
    "**Вывод:** р-value = 0.738, что значительно больше 0.05. Значит, ***нет причин отвергать*** нулевую гипотезу и считать, что в среднем чеке есть различия(как и с \"сырыми\" данными). А вот разница между сегментами В и А сократилась с 26% до 2%, это означает что после удаления выбросов в данных стало меньше шума."
   ]
  },
  {
   "cell_type": "markdown",
   "metadata": {},
   "source": [
    "## Вывод"
   ]
  },
  {
   "cell_type": "markdown",
   "metadata": {},
   "source": [
    "В ***первой части проекта*** рассмотрен список из 9 гипотез по увеличению выручки интернет-магазина. При применении фреймворка ICE гипотеза **\"Запустить акцию, дающую скидку на товар в день рождения\"** - оказалась самой перспективной. При применении фреймворка RICE вместо ICE изменилась приоритизация гипотез. На первом месте оказалась гипотеза **\"Добавить форму подписки на все основные страницы, чтобы собрать базу клиентов для email-рассылок\"**, в виду того, что ее параметр Reach (скольких пользователей затронет изменение, которое мы хотим внести) равен 10, в то время как у других гипотез он меньше. В числе перспективных гипотез при обоих способах приоритизации задач в топ-4 остались гипотезы **\"Добавить два новых канала привлечения трафика, что позволит привлекать на 30% больше пользователей\"** и **\"Показать на главной странице баннеры с актуальными акциями и распродажами, чтобы увеличить конверсию\"**."
   ]
  },
  {
   "cell_type": "markdown",
   "metadata": {},
   "source": [
    "Во ***второй части проекта*** проведен анализ результатов А/В-теста. По его итогам сделаны следующие выводы:"
   ]
  },
  {
   "cell_type": "markdown",
   "metadata": {},
   "source": [
    "- Есть статистически значимые различия по **среднему количеству заказов** между группами по \"сырым\", и по данным после фильтрации аномалий. Относительный прирост группы B над A равен 13.8% по \"сырым\", и 17.4% по \"очищенным\" данным.\n"
   ]
  },
  {
   "cell_type": "markdown",
   "metadata": {},
   "source": [
    "- Нет статистически значимых различий по **среднему чеку** между группами по «сырым», и по данным после фильтрации аномалий, несмотря на то, что средний чек группы B оказался всего на 2% ниже среднего чека группы A по \"очищенным\" данным, в то время как по \"сырым\" данным он был больше на 26%, что было определено после удаления аномальных выбросов."
   ]
  },
  {
   "cell_type": "markdown",
   "metadata": {},
   "source": [
    "- График различия **среднего количества заказов** между группами сообщает, что результаты группы B лучше группы A, и нет значительной тенденции к ухудшению."
   ]
  },
  {
   "cell_type": "markdown",
   "metadata": {},
   "source": [
    "- График различия **среднего чека** говорит о том, что результаты группы B лучше группы А."
   ]
  },
  {
   "cell_type": "markdown",
   "metadata": {},
   "source": [
    " ***Решение по результатам теста:*** **Исходя из обнаруженных фактов, тест следует остановить и признать его успешным. Группа B значительно эффективнее группы A по конверсии, хотя по среднему чеку группы примерно равны.**"
   ]
  }
 ],
 "metadata": {
  "ExecuteTimeLog": [
   {
    "duration": 14,
    "start_time": "2023-03-18T11:08:56.281Z"
   },
   {
    "duration": 53,
    "start_time": "2023-03-18T11:12:36.236Z"
   },
   {
    "duration": 3,
    "start_time": "2023-03-18T11:18:28.088Z"
   },
   {
    "duration": 2,
    "start_time": "2023-03-18T11:18:30.282Z"
   },
   {
    "duration": 1407,
    "start_time": "2023-03-18T11:18:51.755Z"
   },
   {
    "duration": 3,
    "start_time": "2023-03-18T11:22:12.923Z"
   },
   {
    "duration": 81,
    "start_time": "2023-03-18T11:26:08.033Z"
   },
   {
    "duration": 26,
    "start_time": "2023-03-18T11:26:13.840Z"
   },
   {
    "duration": 2,
    "start_time": "2023-03-18T11:26:39.086Z"
   },
   {
    "duration": 26,
    "start_time": "2023-03-18T11:28:29.576Z"
   },
   {
    "duration": 15,
    "start_time": "2023-03-18T11:28:37.261Z"
   },
   {
    "duration": 11,
    "start_time": "2023-03-18T11:28:49.831Z"
   },
   {
    "duration": 10,
    "start_time": "2023-03-18T11:29:07.156Z"
   },
   {
    "duration": 134,
    "start_time": "2023-03-18T11:33:18.304Z"
   },
   {
    "duration": 3,
    "start_time": "2023-03-18T11:34:10.695Z"
   },
   {
    "duration": 10,
    "start_time": "2023-03-18T11:34:16.837Z"
   },
   {
    "duration": 15,
    "start_time": "2023-03-18T11:34:55.687Z"
   },
   {
    "duration": 11,
    "start_time": "2023-03-18T11:35:08.491Z"
   },
   {
    "duration": 4,
    "start_time": "2023-03-18T11:38:37.059Z"
   },
   {
    "duration": 10,
    "start_time": "2023-03-18T11:38:39.310Z"
   },
   {
    "duration": 4,
    "start_time": "2023-03-18T11:38:58.756Z"
   },
   {
    "duration": 10,
    "start_time": "2023-03-18T11:39:00.969Z"
   },
   {
    "duration": 5,
    "start_time": "2023-03-18T12:18:31.594Z"
   },
   {
    "duration": 10,
    "start_time": "2023-03-18T12:18:43.134Z"
   },
   {
    "duration": 13,
    "start_time": "2023-03-18T12:27:58.931Z"
   },
   {
    "duration": 10,
    "start_time": "2023-03-18T12:28:22.039Z"
   },
   {
    "duration": 5,
    "start_time": "2023-03-18T12:36:02.786Z"
   },
   {
    "duration": 26,
    "start_time": "2023-03-18T12:40:03.506Z"
   },
   {
    "duration": 3,
    "start_time": "2023-03-18T12:40:27.794Z"
   },
   {
    "duration": 9,
    "start_time": "2023-03-18T12:40:28.807Z"
   },
   {
    "duration": 161,
    "start_time": "2023-03-18T12:41:53.696Z"
   },
   {
    "duration": 60,
    "start_time": "2023-03-18T12:42:11.570Z"
   },
   {
    "duration": 45,
    "start_time": "2023-03-18T12:42:23.371Z"
   },
   {
    "duration": 63,
    "start_time": "2023-03-18T12:42:29.386Z"
   },
   {
    "duration": 3,
    "start_time": "2023-03-18T12:43:15.955Z"
   },
   {
    "duration": 11,
    "start_time": "2023-03-18T12:43:37.252Z"
   },
   {
    "duration": 16,
    "start_time": "2023-03-18T12:43:43.902Z"
   },
   {
    "duration": 12,
    "start_time": "2023-03-18T12:44:16.975Z"
   },
   {
    "duration": 8,
    "start_time": "2023-03-18T12:49:15.023Z"
   },
   {
    "duration": 7,
    "start_time": "2023-03-18T12:49:28.217Z"
   },
   {
    "duration": 10,
    "start_time": "2023-03-18T12:50:48.134Z"
   },
   {
    "duration": 10,
    "start_time": "2023-03-18T12:50:57.138Z"
   },
   {
    "duration": 12,
    "start_time": "2023-03-18T12:51:12.353Z"
   },
   {
    "duration": 8,
    "start_time": "2023-03-18T12:51:19.964Z"
   },
   {
    "duration": 13,
    "start_time": "2023-03-18T12:51:55.082Z"
   },
   {
    "duration": 6,
    "start_time": "2023-03-18T12:52:08.191Z"
   },
   {
    "duration": 7,
    "start_time": "2023-03-18T12:52:20.096Z"
   },
   {
    "duration": 5,
    "start_time": "2023-03-18T13:01:09.812Z"
   },
   {
    "duration": 6,
    "start_time": "2023-03-18T13:04:50.911Z"
   },
   {
    "duration": 37,
    "start_time": "2023-03-18T13:05:34.941Z"
   },
   {
    "duration": 6,
    "start_time": "2023-03-18T13:05:56.579Z"
   },
   {
    "duration": 8,
    "start_time": "2023-03-18T13:05:57.258Z"
   },
   {
    "duration": 203,
    "start_time": "2023-03-18T13:08:39.389Z"
   },
   {
    "duration": 134,
    "start_time": "2023-03-18T13:15:28.294Z"
   },
   {
    "duration": 39,
    "start_time": "2023-03-18T13:16:23.032Z"
   },
   {
    "duration": 299,
    "start_time": "2023-03-18T13:17:38.974Z"
   },
   {
    "duration": 7,
    "start_time": "2023-03-18T13:22:19.384Z"
   },
   {
    "duration": 9,
    "start_time": "2023-03-18T13:22:57.451Z"
   },
   {
    "duration": 329,
    "start_time": "2023-03-18T13:25:19.824Z"
   },
   {
    "duration": 53,
    "start_time": "2023-03-18T13:26:01.623Z"
   },
   {
    "duration": 0,
    "start_time": "2023-03-18T13:26:01.678Z"
   },
   {
    "duration": 1,
    "start_time": "2023-03-18T13:26:01.679Z"
   },
   {
    "duration": 0,
    "start_time": "2023-03-18T13:26:01.681Z"
   },
   {
    "duration": 0,
    "start_time": "2023-03-18T13:26:01.682Z"
   },
   {
    "duration": 0,
    "start_time": "2023-03-18T13:26:01.683Z"
   },
   {
    "duration": 0,
    "start_time": "2023-03-18T13:26:01.684Z"
   },
   {
    "duration": 0,
    "start_time": "2023-03-18T13:26:01.685Z"
   },
   {
    "duration": 0,
    "start_time": "2023-03-18T13:26:01.686Z"
   },
   {
    "duration": 0,
    "start_time": "2023-03-18T13:26:01.687Z"
   },
   {
    "duration": 0,
    "start_time": "2023-03-18T13:26:01.689Z"
   },
   {
    "duration": 0,
    "start_time": "2023-03-18T13:26:01.690Z"
   },
   {
    "duration": 0,
    "start_time": "2023-03-18T13:26:01.691Z"
   },
   {
    "duration": 0,
    "start_time": "2023-03-18T13:26:01.692Z"
   },
   {
    "duration": 0,
    "start_time": "2023-03-18T13:26:01.693Z"
   },
   {
    "duration": 0,
    "start_time": "2023-03-18T13:26:01.693Z"
   },
   {
    "duration": 0,
    "start_time": "2023-03-18T13:26:01.694Z"
   },
   {
    "duration": 1,
    "start_time": "2023-03-18T13:26:01.695Z"
   },
   {
    "duration": 0,
    "start_time": "2023-03-18T13:26:01.697Z"
   },
   {
    "duration": 0,
    "start_time": "2023-03-18T13:26:01.697Z"
   },
   {
    "duration": 14,
    "start_time": "2023-03-18T13:26:06.655Z"
   },
   {
    "duration": 10,
    "start_time": "2023-03-18T13:26:14.946Z"
   },
   {
    "duration": 7,
    "start_time": "2023-03-18T13:26:29.119Z"
   },
   {
    "duration": 450,
    "start_time": "2023-03-18T13:26:47.446Z"
   },
   {
    "duration": 408,
    "start_time": "2023-03-18T13:26:55.156Z"
   },
   {
    "duration": 27,
    "start_time": "2023-03-18T13:26:55.566Z"
   },
   {
    "duration": 3,
    "start_time": "2023-03-18T13:26:55.595Z"
   },
   {
    "duration": 17,
    "start_time": "2023-03-18T13:26:55.600Z"
   },
   {
    "duration": 5,
    "start_time": "2023-03-18T13:26:55.619Z"
   },
   {
    "duration": 10,
    "start_time": "2023-03-18T13:26:55.626Z"
   },
   {
    "duration": 9,
    "start_time": "2023-03-18T13:26:55.638Z"
   },
   {
    "duration": 12,
    "start_time": "2023-03-18T13:26:55.668Z"
   },
   {
    "duration": 659,
    "start_time": "2023-03-18T13:26:55.681Z"
   },
   {
    "duration": 60,
    "start_time": "2023-03-18T13:26:56.343Z"
   },
   {
    "duration": 74,
    "start_time": "2023-03-18T13:26:56.405Z"
   },
   {
    "duration": 12,
    "start_time": "2023-03-18T13:26:56.480Z"
   },
   {
    "duration": 9,
    "start_time": "2023-03-18T13:26:56.494Z"
   },
   {
    "duration": 8,
    "start_time": "2023-03-18T13:26:56.505Z"
   },
   {
    "duration": 7,
    "start_time": "2023-03-18T13:26:56.515Z"
   },
   {
    "duration": 8,
    "start_time": "2023-03-18T13:26:56.524Z"
   },
   {
    "duration": 17,
    "start_time": "2023-03-18T13:26:56.562Z"
   },
   {
    "duration": 6,
    "start_time": "2023-03-18T13:26:56.581Z"
   },
   {
    "duration": 7,
    "start_time": "2023-03-18T13:26:56.589Z"
   },
   {
    "duration": 299,
    "start_time": "2023-03-18T13:26:56.597Z"
   },
   {
    "duration": 292,
    "start_time": "2023-03-18T13:26:56.898Z"
   },
   {
    "duration": 4,
    "start_time": "2023-03-18T13:29:04.616Z"
   },
   {
    "duration": 286,
    "start_time": "2023-03-18T13:29:09.120Z"
   },
   {
    "duration": 3,
    "start_time": "2023-03-18T13:29:48.828Z"
   },
   {
    "duration": 295,
    "start_time": "2023-03-18T13:30:09.651Z"
   },
   {
    "duration": 285,
    "start_time": "2023-03-18T13:30:16.413Z"
   },
   {
    "duration": 375,
    "start_time": "2023-03-18T13:31:34.647Z"
   },
   {
    "duration": 280,
    "start_time": "2023-03-18T13:32:07.923Z"
   },
   {
    "duration": 329,
    "start_time": "2023-03-18T13:37:05.709Z"
   },
   {
    "duration": 325,
    "start_time": "2023-03-18T13:38:05.388Z"
   },
   {
    "duration": 391,
    "start_time": "2023-03-18T13:38:44.036Z"
   },
   {
    "duration": 358,
    "start_time": "2023-03-18T13:40:23.732Z"
   },
   {
    "duration": 358,
    "start_time": "2023-03-18T13:42:56.716Z"
   },
   {
    "duration": 433,
    "start_time": "2023-03-18T13:43:27.817Z"
   },
   {
    "duration": 302,
    "start_time": "2023-03-18T13:43:39.476Z"
   },
   {
    "duration": 370,
    "start_time": "2023-03-18T13:43:58.032Z"
   },
   {
    "duration": 384,
    "start_time": "2023-03-18T13:53:46.329Z"
   },
   {
    "duration": 364,
    "start_time": "2023-03-18T13:54:15.636Z"
   },
   {
    "duration": 388,
    "start_time": "2023-03-18T13:54:45.777Z"
   },
   {
    "duration": 348,
    "start_time": "2023-03-18T13:54:53.362Z"
   },
   {
    "duration": 366,
    "start_time": "2023-03-18T14:06:32.518Z"
   },
   {
    "duration": 348,
    "start_time": "2023-03-18T14:06:49.017Z"
   },
   {
    "duration": 451,
    "start_time": "2023-03-18T14:20:13.820Z"
   },
   {
    "duration": 443,
    "start_time": "2023-03-18T14:20:30.744Z"
   },
   {
    "duration": 28,
    "start_time": "2023-03-18T14:20:31.189Z"
   },
   {
    "duration": 7,
    "start_time": "2023-03-18T14:20:31.218Z"
   },
   {
    "duration": 60,
    "start_time": "2023-03-18T14:20:31.226Z"
   },
   {
    "duration": 33,
    "start_time": "2023-03-18T14:20:31.287Z"
   },
   {
    "duration": 34,
    "start_time": "2023-03-18T14:20:31.322Z"
   },
   {
    "duration": 37,
    "start_time": "2023-03-18T14:20:31.358Z"
   },
   {
    "duration": 43,
    "start_time": "2023-03-18T14:20:31.397Z"
   },
   {
    "duration": 696,
    "start_time": "2023-03-18T14:20:31.441Z"
   },
   {
    "duration": 60,
    "start_time": "2023-03-18T14:20:32.141Z"
   },
   {
    "duration": 80,
    "start_time": "2023-03-18T14:20:32.202Z"
   },
   {
    "duration": 17,
    "start_time": "2023-03-18T14:20:32.284Z"
   },
   {
    "duration": 14,
    "start_time": "2023-03-18T14:20:32.303Z"
   },
   {
    "duration": 16,
    "start_time": "2023-03-18T14:20:32.319Z"
   },
   {
    "duration": 40,
    "start_time": "2023-03-18T14:20:32.337Z"
   },
   {
    "duration": 11,
    "start_time": "2023-03-18T14:20:32.379Z"
   },
   {
    "duration": 17,
    "start_time": "2023-03-18T14:20:32.392Z"
   },
   {
    "duration": 19,
    "start_time": "2023-03-18T14:20:32.411Z"
   },
   {
    "duration": 10,
    "start_time": "2023-03-18T14:20:32.432Z"
   },
   {
    "duration": 294,
    "start_time": "2023-03-18T14:20:32.444Z"
   },
   {
    "duration": 372,
    "start_time": "2023-03-18T14:20:32.740Z"
   },
   {
    "duration": 363,
    "start_time": "2023-03-18T14:20:33.113Z"
   },
   {
    "duration": 355,
    "start_time": "2023-03-18T14:21:20.530Z"
   },
   {
    "duration": 390,
    "start_time": "2023-03-18T14:35:37.762Z"
   },
   {
    "duration": 382,
    "start_time": "2023-03-18T14:37:12.635Z"
   },
   {
    "duration": 378,
    "start_time": "2023-03-18T14:40:02.516Z"
   },
   {
    "duration": 381,
    "start_time": "2023-03-18T14:40:08.000Z"
   },
   {
    "duration": 414,
    "start_time": "2023-03-18T14:42:18.942Z"
   },
   {
    "duration": 412,
    "start_time": "2023-03-18T14:46:28.015Z"
   },
   {
    "duration": 439,
    "start_time": "2023-03-18T14:46:48.705Z"
   },
   {
    "duration": 619,
    "start_time": "2023-03-18T14:47:06.565Z"
   },
   {
    "duration": 539,
    "start_time": "2023-03-18T14:47:47.319Z"
   },
   {
    "duration": 523,
    "start_time": "2023-03-18T14:50:11.827Z"
   },
   {
    "duration": 489,
    "start_time": "2023-03-18T14:51:10.828Z"
   },
   {
    "duration": 420,
    "start_time": "2023-03-18T14:51:19.609Z"
   },
   {
    "duration": 27,
    "start_time": "2023-03-18T14:51:20.032Z"
   },
   {
    "duration": 12,
    "start_time": "2023-03-18T14:51:20.060Z"
   },
   {
    "duration": 20,
    "start_time": "2023-03-18T14:51:20.077Z"
   },
   {
    "duration": 7,
    "start_time": "2023-03-18T14:51:20.100Z"
   },
   {
    "duration": 34,
    "start_time": "2023-03-18T14:51:20.109Z"
   },
   {
    "duration": 6,
    "start_time": "2023-03-18T14:51:20.144Z"
   },
   {
    "duration": 20,
    "start_time": "2023-03-18T14:51:20.152Z"
   },
   {
    "duration": 709,
    "start_time": "2023-03-18T14:51:20.173Z"
   },
   {
    "duration": 60,
    "start_time": "2023-03-18T14:51:20.888Z"
   },
   {
    "duration": 82,
    "start_time": "2023-03-18T14:51:20.950Z"
   },
   {
    "duration": 18,
    "start_time": "2023-03-18T14:51:21.035Z"
   },
   {
    "duration": 20,
    "start_time": "2023-03-18T14:51:21.056Z"
   },
   {
    "duration": 10,
    "start_time": "2023-03-18T14:51:21.080Z"
   },
   {
    "duration": 12,
    "start_time": "2023-03-18T14:51:21.092Z"
   },
   {
    "duration": 13,
    "start_time": "2023-03-18T14:51:21.106Z"
   },
   {
    "duration": 13,
    "start_time": "2023-03-18T14:51:21.121Z"
   },
   {
    "duration": 7,
    "start_time": "2023-03-18T14:51:21.137Z"
   },
   {
    "duration": 9,
    "start_time": "2023-03-18T14:51:21.163Z"
   },
   {
    "duration": 333,
    "start_time": "2023-03-18T14:51:21.174Z"
   },
   {
    "duration": 426,
    "start_time": "2023-03-18T14:51:21.509Z"
   },
   {
    "duration": 406,
    "start_time": "2023-03-18T14:51:21.937Z"
   },
   {
    "duration": 470,
    "start_time": "2023-03-18T14:51:22.346Z"
   },
   {
    "duration": 179,
    "start_time": "2023-03-18T14:59:19.202Z"
   },
   {
    "duration": 292,
    "start_time": "2023-03-18T15:00:07.563Z"
   },
   {
    "duration": 332,
    "start_time": "2023-03-18T15:00:35.570Z"
   },
   {
    "duration": 393,
    "start_time": "2023-03-18T15:00:49.646Z"
   },
   {
    "duration": 383,
    "start_time": "2023-03-18T15:01:38.521Z"
   },
   {
    "duration": 403,
    "start_time": "2023-03-18T15:02:17.116Z"
   },
   {
    "duration": 381,
    "start_time": "2023-03-18T15:02:36.099Z"
   },
   {
    "duration": 372,
    "start_time": "2023-03-18T15:03:24.414Z"
   },
   {
    "duration": 348,
    "start_time": "2023-03-18T15:03:39.979Z"
   },
   {
    "duration": 567,
    "start_time": "2023-03-18T15:04:44.815Z"
   },
   {
    "duration": 6,
    "start_time": "2023-03-18T15:05:00.200Z"
   },
   {
    "duration": 373,
    "start_time": "2023-03-18T15:05:14.501Z"
   },
   {
    "duration": 353,
    "start_time": "2023-03-18T15:13:46.723Z"
   },
   {
    "duration": 471,
    "start_time": "2023-03-18T15:16:44.311Z"
   },
   {
    "duration": 385,
    "start_time": "2023-03-18T15:17:02.593Z"
   },
   {
    "duration": 487,
    "start_time": "2023-03-18T15:17:15.440Z"
   },
   {
    "duration": 511,
    "start_time": "2023-03-18T15:17:21.708Z"
   },
   {
    "duration": 465,
    "start_time": "2023-03-18T15:18:02.863Z"
   },
   {
    "duration": 517,
    "start_time": "2023-03-18T15:21:22.005Z"
   },
   {
    "duration": 49,
    "start_time": "2023-03-18T15:22:17.197Z"
   },
   {
    "duration": 83,
    "start_time": "2023-03-18T15:22:31.713Z"
   },
   {
    "duration": 87,
    "start_time": "2023-03-18T15:22:58.617Z"
   },
   {
    "duration": 67,
    "start_time": "2023-03-18T15:23:16.242Z"
   },
   {
    "duration": 634,
    "start_time": "2023-03-18T15:23:24.237Z"
   },
   {
    "duration": 62,
    "start_time": "2023-03-18T15:24:01.379Z"
   },
   {
    "duration": 86,
    "start_time": "2023-03-18T15:24:08.119Z"
   },
   {
    "duration": 472,
    "start_time": "2023-03-18T15:24:11.897Z"
   },
   {
    "duration": 597,
    "start_time": "2023-03-18T15:24:52.813Z"
   },
   {
    "duration": 514,
    "start_time": "2023-03-18T15:25:31.501Z"
   },
   {
    "duration": 489,
    "start_time": "2023-03-18T15:25:38.718Z"
   },
   {
    "duration": 504,
    "start_time": "2023-03-18T15:25:52.828Z"
   },
   {
    "duration": 501,
    "start_time": "2023-03-18T15:26:30.920Z"
   },
   {
    "duration": 453,
    "start_time": "2023-03-18T15:28:57.517Z"
   },
   {
    "duration": 525,
    "start_time": "2023-03-18T15:29:03.323Z"
   },
   {
    "duration": 544,
    "start_time": "2023-03-18T15:29:30.819Z"
   },
   {
    "duration": 485,
    "start_time": "2023-03-18T15:29:41.716Z"
   },
   {
    "duration": 618,
    "start_time": "2023-03-18T15:29:49.119Z"
   },
   {
    "duration": 11,
    "start_time": "2023-03-18T15:41:32.526Z"
   },
   {
    "duration": 11,
    "start_time": "2023-03-18T15:41:41.647Z"
   },
   {
    "duration": 124,
    "start_time": "2023-03-18T15:41:55.324Z"
   },
   {
    "duration": 145,
    "start_time": "2023-03-18T15:42:00.342Z"
   },
   {
    "duration": 141,
    "start_time": "2023-03-18T15:43:00.472Z"
   },
   {
    "duration": 174,
    "start_time": "2023-03-18T15:46:02.513Z"
   },
   {
    "duration": 195,
    "start_time": "2023-03-18T15:46:39.911Z"
   },
   {
    "duration": 198,
    "start_time": "2023-03-18T15:46:56.248Z"
   },
   {
    "duration": 213,
    "start_time": "2023-03-18T15:47:09.412Z"
   },
   {
    "duration": 221,
    "start_time": "2023-03-18T15:47:15.413Z"
   },
   {
    "duration": 230,
    "start_time": "2023-03-18T15:47:41.879Z"
   },
   {
    "duration": 171,
    "start_time": "2023-03-18T15:47:53.292Z"
   },
   {
    "duration": 176,
    "start_time": "2023-03-18T15:48:17.341Z"
   },
   {
    "duration": 28,
    "start_time": "2023-03-18T15:50:24.268Z"
   },
   {
    "duration": 191,
    "start_time": "2023-03-18T15:50:29.103Z"
   },
   {
    "duration": 325,
    "start_time": "2023-03-18T15:51:27.037Z"
   },
   {
    "duration": 211,
    "start_time": "2023-03-18T15:51:30.511Z"
   },
   {
    "duration": 202,
    "start_time": "2023-03-18T15:52:35.947Z"
   },
   {
    "duration": 279,
    "start_time": "2023-03-18T15:53:45.260Z"
   },
   {
    "duration": 5,
    "start_time": "2023-03-18T16:05:23.413Z"
   },
   {
    "duration": 22,
    "start_time": "2023-03-18T16:06:47.010Z"
   },
   {
    "duration": 13,
    "start_time": "2023-03-18T16:07:04.110Z"
   },
   {
    "duration": 15,
    "start_time": "2023-03-18T16:07:31.228Z"
   },
   {
    "duration": 4,
    "start_time": "2023-03-18T16:07:37.850Z"
   },
   {
    "duration": 6,
    "start_time": "2023-03-18T16:07:41.843Z"
   },
   {
    "duration": 8,
    "start_time": "2023-03-18T16:08:12.424Z"
   },
   {
    "duration": 9,
    "start_time": "2023-03-18T16:08:21.020Z"
   },
   {
    "duration": 320,
    "start_time": "2023-03-18T16:23:45.392Z"
   },
   {
    "duration": 374,
    "start_time": "2023-03-18T16:24:19.049Z"
   },
   {
    "duration": 407,
    "start_time": "2023-03-18T16:24:44.497Z"
   },
   {
    "duration": 201,
    "start_time": "2023-03-18T16:25:00.924Z"
   },
   {
    "duration": 218,
    "start_time": "2023-03-18T16:26:16.540Z"
   },
   {
    "duration": 196,
    "start_time": "2023-03-18T16:26:52.320Z"
   },
   {
    "duration": 259,
    "start_time": "2023-03-18T16:27:04.124Z"
   },
   {
    "duration": 199,
    "start_time": "2023-03-18T16:27:54.229Z"
   },
   {
    "duration": 223,
    "start_time": "2023-03-18T16:28:42.813Z"
   },
   {
    "duration": 292,
    "start_time": "2023-03-18T16:28:51.933Z"
   },
   {
    "duration": 10,
    "start_time": "2023-03-18T16:38:46.391Z"
   },
   {
    "duration": 21,
    "start_time": "2023-03-18T16:38:58.561Z"
   },
   {
    "duration": 99,
    "start_time": "2023-03-18T16:58:21.533Z"
   },
   {
    "duration": 292,
    "start_time": "2023-03-18T17:00:42.730Z"
   },
   {
    "duration": 412,
    "start_time": "2023-03-18T17:01:23.722Z"
   },
   {
    "duration": 3,
    "start_time": "2023-03-18T17:02:02.675Z"
   },
   {
    "duration": 391,
    "start_time": "2023-03-18T17:02:05.618Z"
   },
   {
    "duration": 332,
    "start_time": "2023-03-18T17:03:22.706Z"
   },
   {
    "duration": 426,
    "start_time": "2023-03-18T17:10:47.223Z"
   },
   {
    "duration": 382,
    "start_time": "2023-03-18T17:10:57.439Z"
   },
   {
    "duration": 422,
    "start_time": "2023-03-18T17:12:05.161Z"
   },
   {
    "duration": 353,
    "start_time": "2023-03-18T17:17:35.326Z"
   },
   {
    "duration": 58,
    "start_time": "2023-03-18T17:20:03.284Z"
   },
   {
    "duration": 54,
    "start_time": "2023-03-18T17:21:08.648Z"
   },
   {
    "duration": 538,
    "start_time": "2023-03-18T17:21:16.205Z"
   },
   {
    "duration": 225,
    "start_time": "2023-03-18T17:29:29.839Z"
   },
   {
    "duration": 163,
    "start_time": "2023-03-18T17:30:45.701Z"
   },
   {
    "duration": 7,
    "start_time": "2023-03-18T17:31:01.812Z"
   },
   {
    "duration": 163,
    "start_time": "2023-03-18T17:31:46.427Z"
   },
   {
    "duration": 11,
    "start_time": "2023-03-18T18:10:46.205Z"
   },
   {
    "duration": 9,
    "start_time": "2023-03-18T18:20:14.570Z"
   },
   {
    "duration": 11,
    "start_time": "2023-03-18T18:20:29.502Z"
   },
   {
    "duration": 10,
    "start_time": "2023-03-18T18:20:32.442Z"
   },
   {
    "duration": 25,
    "start_time": "2023-03-18T18:22:52.264Z"
   },
   {
    "duration": 26,
    "start_time": "2023-03-18T18:26:58.908Z"
   },
   {
    "duration": 14,
    "start_time": "2023-03-18T18:42:02.789Z"
   },
   {
    "duration": 50,
    "start_time": "2023-03-18T18:56:55.509Z"
   },
   {
    "duration": 443,
    "start_time": "2023-03-18T19:06:10.636Z"
   },
   {
    "duration": 39,
    "start_time": "2023-03-18T19:06:11.080Z"
   },
   {
    "duration": 4,
    "start_time": "2023-03-18T19:06:11.121Z"
   },
   {
    "duration": 19,
    "start_time": "2023-03-18T19:06:11.128Z"
   },
   {
    "duration": 6,
    "start_time": "2023-03-18T19:06:11.148Z"
   },
   {
    "duration": 12,
    "start_time": "2023-03-18T19:06:11.155Z"
   },
   {
    "duration": 7,
    "start_time": "2023-03-18T19:06:11.170Z"
   },
   {
    "duration": 17,
    "start_time": "2023-03-18T19:06:11.179Z"
   },
   {
    "duration": 700,
    "start_time": "2023-03-18T19:06:11.198Z"
   },
   {
    "duration": 79,
    "start_time": "2023-03-18T19:06:11.902Z"
   },
   {
    "duration": 71,
    "start_time": "2023-03-18T19:06:11.983Z"
   },
   {
    "duration": 13,
    "start_time": "2023-03-18T19:06:12.056Z"
   },
   {
    "duration": 7,
    "start_time": "2023-03-18T19:06:12.071Z"
   },
   {
    "duration": 8,
    "start_time": "2023-03-18T19:06:12.080Z"
   },
   {
    "duration": 7,
    "start_time": "2023-03-18T19:06:12.090Z"
   },
   {
    "duration": 9,
    "start_time": "2023-03-18T19:06:12.099Z"
   },
   {
    "duration": 12,
    "start_time": "2023-03-18T19:06:12.110Z"
   },
   {
    "duration": 42,
    "start_time": "2023-03-18T19:06:12.124Z"
   },
   {
    "duration": 7,
    "start_time": "2023-03-18T19:06:12.168Z"
   },
   {
    "duration": 299,
    "start_time": "2023-03-18T19:06:12.179Z"
   },
   {
    "duration": 363,
    "start_time": "2023-03-18T19:06:12.480Z"
   },
   {
    "duration": 327,
    "start_time": "2023-03-18T19:06:12.845Z"
   },
   {
    "duration": 419,
    "start_time": "2023-03-18T19:06:13.174Z"
   },
   {
    "duration": 342,
    "start_time": "2023-03-18T19:06:13.594Z"
   },
   {
    "duration": 444,
    "start_time": "2023-03-18T19:06:13.938Z"
   },
   {
    "duration": 177,
    "start_time": "2023-03-18T19:06:14.384Z"
   },
   {
    "duration": 10,
    "start_time": "2023-03-18T19:06:14.563Z"
   },
   {
    "duration": 222,
    "start_time": "2023-03-18T19:06:14.577Z"
   },
   {
    "duration": 10,
    "start_time": "2023-03-18T19:06:14.801Z"
   },
   {
    "duration": 391,
    "start_time": "2023-03-18T19:06:14.813Z"
   },
   {
    "duration": 11,
    "start_time": "2023-03-18T19:06:15.205Z"
   },
   {
    "duration": 11,
    "start_time": "2023-03-18T19:06:15.218Z"
   },
   {
    "duration": 49,
    "start_time": "2023-03-18T19:06:15.231Z"
   },
   {
    "duration": 14,
    "start_time": "2023-03-18T19:06:15.282Z"
   },
   {
    "duration": 399,
    "start_time": "2023-03-18T19:28:19.183Z"
   },
   {
    "duration": 27,
    "start_time": "2023-03-18T19:28:19.584Z"
   },
   {
    "duration": 3,
    "start_time": "2023-03-18T19:28:19.613Z"
   },
   {
    "duration": 16,
    "start_time": "2023-03-18T19:28:19.618Z"
   },
   {
    "duration": 7,
    "start_time": "2023-03-18T19:28:19.636Z"
   },
   {
    "duration": 16,
    "start_time": "2023-03-18T19:28:19.645Z"
   },
   {
    "duration": 4,
    "start_time": "2023-03-18T19:28:19.663Z"
   },
   {
    "duration": 10,
    "start_time": "2023-03-18T19:28:19.670Z"
   },
   {
    "duration": 686,
    "start_time": "2023-03-18T19:28:19.682Z"
   },
   {
    "duration": 51,
    "start_time": "2023-03-18T19:28:20.371Z"
   },
   {
    "duration": 73,
    "start_time": "2023-03-18T19:28:20.424Z"
   },
   {
    "duration": 21,
    "start_time": "2023-03-18T19:28:20.499Z"
   },
   {
    "duration": 10,
    "start_time": "2023-03-18T19:28:20.521Z"
   },
   {
    "duration": 7,
    "start_time": "2023-03-18T19:28:20.533Z"
   },
   {
    "duration": 21,
    "start_time": "2023-03-18T19:28:20.542Z"
   },
   {
    "duration": 8,
    "start_time": "2023-03-18T19:28:20.564Z"
   },
   {
    "duration": 14,
    "start_time": "2023-03-18T19:28:20.574Z"
   },
   {
    "duration": 8,
    "start_time": "2023-03-18T19:28:20.590Z"
   },
   {
    "duration": 7,
    "start_time": "2023-03-18T19:28:20.600Z"
   },
   {
    "duration": 319,
    "start_time": "2023-03-18T19:28:20.608Z"
   },
   {
    "duration": 385,
    "start_time": "2023-03-18T19:28:20.929Z"
   },
   {
    "duration": 357,
    "start_time": "2023-03-18T19:28:21.316Z"
   },
   {
    "duration": 419,
    "start_time": "2023-03-18T19:28:21.675Z"
   },
   {
    "duration": 371,
    "start_time": "2023-03-18T19:28:22.096Z"
   },
   {
    "duration": 440,
    "start_time": "2023-03-18T19:28:22.469Z"
   },
   {
    "duration": 169,
    "start_time": "2023-03-18T19:28:22.911Z"
   },
   {
    "duration": 9,
    "start_time": "2023-03-18T19:28:23.082Z"
   },
   {
    "duration": 200,
    "start_time": "2023-03-18T19:28:23.094Z"
   },
   {
    "duration": 11,
    "start_time": "2023-03-18T19:28:23.295Z"
   },
   {
    "duration": 382,
    "start_time": "2023-03-18T19:28:23.308Z"
   },
   {
    "duration": 11,
    "start_time": "2023-03-18T19:28:23.692Z"
   },
   {
    "duration": 9,
    "start_time": "2023-03-18T19:28:23.705Z"
   },
   {
    "duration": 52,
    "start_time": "2023-03-18T19:28:23.716Z"
   },
   {
    "duration": 15,
    "start_time": "2023-03-18T19:28:23.770Z"
   },
   {
    "duration": 12,
    "start_time": "2023-03-18T19:31:57.950Z"
   },
   {
    "duration": 10,
    "start_time": "2023-03-18T19:32:02.386Z"
   },
   {
    "duration": 10,
    "start_time": "2023-03-18T19:32:07.505Z"
   },
   {
    "duration": 13,
    "start_time": "2023-03-18T19:32:11.729Z"
   },
   {
    "duration": 11,
    "start_time": "2023-03-18T19:32:49.228Z"
   },
   {
    "duration": 454,
    "start_time": "2023-03-18T19:35:30.271Z"
   },
   {
    "duration": 400,
    "start_time": "2023-03-18T19:36:21.525Z"
   },
   {
    "duration": 27,
    "start_time": "2023-03-18T19:36:21.927Z"
   },
   {
    "duration": 3,
    "start_time": "2023-03-18T19:36:21.956Z"
   },
   {
    "duration": 15,
    "start_time": "2023-03-18T19:36:21.961Z"
   },
   {
    "duration": 6,
    "start_time": "2023-03-18T19:36:21.978Z"
   },
   {
    "duration": 14,
    "start_time": "2023-03-18T19:36:21.986Z"
   },
   {
    "duration": 6,
    "start_time": "2023-03-18T19:36:22.002Z"
   },
   {
    "duration": 11,
    "start_time": "2023-03-18T19:36:22.010Z"
   },
   {
    "duration": 708,
    "start_time": "2023-03-18T19:36:22.023Z"
   },
   {
    "duration": 50,
    "start_time": "2023-03-18T19:36:22.734Z"
   },
   {
    "duration": 72,
    "start_time": "2023-03-18T19:36:22.785Z"
   },
   {
    "duration": 15,
    "start_time": "2023-03-18T19:36:22.859Z"
   },
   {
    "duration": 7,
    "start_time": "2023-03-18T19:36:22.876Z"
   },
   {
    "duration": 6,
    "start_time": "2023-03-18T19:36:22.884Z"
   },
   {
    "duration": 7,
    "start_time": "2023-03-18T19:36:22.892Z"
   },
   {
    "duration": 8,
    "start_time": "2023-03-18T19:36:22.900Z"
   },
   {
    "duration": 10,
    "start_time": "2023-03-18T19:36:22.910Z"
   },
   {
    "duration": 39,
    "start_time": "2023-03-18T19:36:22.922Z"
   },
   {
    "duration": 5,
    "start_time": "2023-03-18T19:36:22.964Z"
   },
   {
    "duration": 302,
    "start_time": "2023-03-18T19:36:22.971Z"
   },
   {
    "duration": 374,
    "start_time": "2023-03-18T19:36:23.275Z"
   },
   {
    "duration": 364,
    "start_time": "2023-03-18T19:36:23.651Z"
   },
   {
    "duration": 483,
    "start_time": "2023-03-18T19:36:24.017Z"
   },
   {
    "duration": 339,
    "start_time": "2023-03-18T19:36:24.502Z"
   },
   {
    "duration": 473,
    "start_time": "2023-03-18T19:36:24.844Z"
   },
   {
    "duration": 172,
    "start_time": "2023-03-18T19:36:25.318Z"
   },
   {
    "duration": 8,
    "start_time": "2023-03-18T19:36:25.492Z"
   },
   {
    "duration": 203,
    "start_time": "2023-03-18T19:36:25.503Z"
   },
   {
    "duration": 10,
    "start_time": "2023-03-18T19:36:25.708Z"
   },
   {
    "duration": 412,
    "start_time": "2023-03-18T19:36:25.721Z"
   },
   {
    "duration": 13,
    "start_time": "2023-03-18T19:36:26.135Z"
   },
   {
    "duration": 13,
    "start_time": "2023-03-18T19:36:26.163Z"
   },
   {
    "duration": 36,
    "start_time": "2023-03-18T19:36:26.178Z"
   },
   {
    "duration": 18,
    "start_time": "2023-03-18T19:36:26.215Z"
   },
   {
    "duration": 17,
    "start_time": "2023-03-18T19:36:55.557Z"
   },
   {
    "duration": 12,
    "start_time": "2023-03-18T19:37:32.254Z"
   },
   {
    "duration": 384,
    "start_time": "2023-03-18T19:37:41.601Z"
   },
   {
    "duration": 27,
    "start_time": "2023-03-18T19:37:41.987Z"
   },
   {
    "duration": 4,
    "start_time": "2023-03-18T19:37:42.016Z"
   },
   {
    "duration": 16,
    "start_time": "2023-03-18T19:37:42.022Z"
   },
   {
    "duration": 6,
    "start_time": "2023-03-18T19:37:42.040Z"
   },
   {
    "duration": 16,
    "start_time": "2023-03-18T19:37:42.047Z"
   },
   {
    "duration": 6,
    "start_time": "2023-03-18T19:37:42.064Z"
   },
   {
    "duration": 16,
    "start_time": "2023-03-18T19:37:42.072Z"
   },
   {
    "duration": 648,
    "start_time": "2023-03-18T19:37:42.090Z"
   },
   {
    "duration": 51,
    "start_time": "2023-03-18T19:37:42.741Z"
   },
   {
    "duration": 69,
    "start_time": "2023-03-18T19:37:42.794Z"
   },
   {
    "duration": 14,
    "start_time": "2023-03-18T19:37:42.866Z"
   },
   {
    "duration": 11,
    "start_time": "2023-03-18T19:37:42.882Z"
   },
   {
    "duration": 7,
    "start_time": "2023-03-18T19:37:42.895Z"
   },
   {
    "duration": 11,
    "start_time": "2023-03-18T19:37:42.904Z"
   },
   {
    "duration": 9,
    "start_time": "2023-03-18T19:37:42.916Z"
   },
   {
    "duration": 13,
    "start_time": "2023-03-18T19:37:42.960Z"
   },
   {
    "duration": 8,
    "start_time": "2023-03-18T19:37:42.975Z"
   },
   {
    "duration": 7,
    "start_time": "2023-03-18T19:37:42.985Z"
   },
   {
    "duration": 310,
    "start_time": "2023-03-18T19:37:42.993Z"
   },
   {
    "duration": 380,
    "start_time": "2023-03-18T19:37:43.305Z"
   },
   {
    "duration": 420,
    "start_time": "2023-03-18T19:37:43.686Z"
   },
   {
    "duration": 1062,
    "start_time": "2023-03-18T19:37:44.108Z"
   },
   {
    "duration": 789,
    "start_time": "2023-03-18T19:37:45.172Z"
   },
   {
    "duration": 617,
    "start_time": "2023-03-18T19:37:45.964Z"
   },
   {
    "duration": 181,
    "start_time": "2023-03-18T19:37:46.583Z"
   },
   {
    "duration": 10,
    "start_time": "2023-03-18T19:37:46.766Z"
   },
   {
    "duration": 211,
    "start_time": "2023-03-18T19:37:46.779Z"
   },
   {
    "duration": 12,
    "start_time": "2023-03-18T19:37:46.992Z"
   },
   {
    "duration": 419,
    "start_time": "2023-03-18T19:37:47.006Z"
   },
   {
    "duration": 12,
    "start_time": "2023-03-18T19:37:47.427Z"
   },
   {
    "duration": 25,
    "start_time": "2023-03-18T19:37:47.440Z"
   },
   {
    "duration": 30,
    "start_time": "2023-03-18T19:37:47.467Z"
   },
   {
    "duration": 16,
    "start_time": "2023-03-18T19:37:47.499Z"
   },
   {
    "duration": 14,
    "start_time": "2023-03-18T19:37:51.302Z"
   },
   {
    "duration": 385,
    "start_time": "2023-03-18T19:37:58.494Z"
   },
   {
    "duration": 27,
    "start_time": "2023-03-18T19:37:58.881Z"
   },
   {
    "duration": 4,
    "start_time": "2023-03-18T19:37:58.910Z"
   },
   {
    "duration": 22,
    "start_time": "2023-03-18T19:37:58.917Z"
   },
   {
    "duration": 8,
    "start_time": "2023-03-18T19:37:58.941Z"
   },
   {
    "duration": 20,
    "start_time": "2023-03-18T19:37:58.952Z"
   },
   {
    "duration": 6,
    "start_time": "2023-03-18T19:37:58.974Z"
   },
   {
    "duration": 12,
    "start_time": "2023-03-18T19:37:58.982Z"
   },
   {
    "duration": 694,
    "start_time": "2023-03-18T19:37:58.996Z"
   },
   {
    "duration": 50,
    "start_time": "2023-03-18T19:37:59.693Z"
   },
   {
    "duration": 73,
    "start_time": "2023-03-18T19:37:59.745Z"
   },
   {
    "duration": 23,
    "start_time": "2023-03-18T19:37:59.819Z"
   },
   {
    "duration": 20,
    "start_time": "2023-03-18T19:37:59.844Z"
   },
   {
    "duration": 8,
    "start_time": "2023-03-18T19:37:59.865Z"
   },
   {
    "duration": 6,
    "start_time": "2023-03-18T19:37:59.875Z"
   },
   {
    "duration": 8,
    "start_time": "2023-03-18T19:37:59.883Z"
   },
   {
    "duration": 11,
    "start_time": "2023-03-18T19:37:59.893Z"
   },
   {
    "duration": 8,
    "start_time": "2023-03-18T19:37:59.906Z"
   },
   {
    "duration": 47,
    "start_time": "2023-03-18T19:37:59.915Z"
   },
   {
    "duration": 267,
    "start_time": "2023-03-18T19:37:59.964Z"
   },
   {
    "duration": 363,
    "start_time": "2023-03-18T19:38:00.233Z"
   },
   {
    "duration": 351,
    "start_time": "2023-03-18T19:38:00.597Z"
   },
   {
    "duration": 457,
    "start_time": "2023-03-18T19:38:00.950Z"
   },
   {
    "duration": 563,
    "start_time": "2023-03-18T19:38:01.409Z"
   },
   {
    "duration": 790,
    "start_time": "2023-03-18T19:38:01.974Z"
   },
   {
    "duration": 316,
    "start_time": "2023-03-18T19:38:02.766Z"
   },
   {
    "duration": 9,
    "start_time": "2023-03-18T19:38:03.084Z"
   },
   {
    "duration": 387,
    "start_time": "2023-03-18T19:38:03.098Z"
   },
   {
    "duration": 10,
    "start_time": "2023-03-18T19:38:03.488Z"
   },
   {
    "duration": 441,
    "start_time": "2023-03-18T19:38:03.501Z"
   },
   {
    "duration": 26,
    "start_time": "2023-03-18T19:38:03.944Z"
   },
   {
    "duration": 14,
    "start_time": "2023-03-18T19:38:03.973Z"
   },
   {
    "duration": 34,
    "start_time": "2023-03-18T19:38:03.988Z"
   },
   {
    "duration": 51,
    "start_time": "2023-03-18T19:38:04.024Z"
   },
   {
    "duration": 437,
    "start_time": "2023-03-18T20:08:11.967Z"
   },
   {
    "duration": 32,
    "start_time": "2023-03-18T20:08:12.406Z"
   },
   {
    "duration": 27,
    "start_time": "2023-03-18T20:08:12.450Z"
   },
   {
    "duration": 21,
    "start_time": "2023-03-18T20:08:12.490Z"
   },
   {
    "duration": 6,
    "start_time": "2023-03-18T20:08:12.514Z"
   },
   {
    "duration": 42,
    "start_time": "2023-03-18T20:08:12.522Z"
   },
   {
    "duration": 5,
    "start_time": "2023-03-18T20:08:12.571Z"
   },
   {
    "duration": 20,
    "start_time": "2023-03-18T20:08:12.578Z"
   },
   {
    "duration": 789,
    "start_time": "2023-03-18T20:08:12.600Z"
   },
   {
    "duration": 95,
    "start_time": "2023-03-18T20:08:13.394Z"
   },
   {
    "duration": 87,
    "start_time": "2023-03-18T20:08:13.491Z"
   },
   {
    "duration": 21,
    "start_time": "2023-03-18T20:08:13.579Z"
   },
   {
    "duration": 6,
    "start_time": "2023-03-18T20:08:13.602Z"
   },
   {
    "duration": 6,
    "start_time": "2023-03-18T20:08:13.612Z"
   },
   {
    "duration": 6,
    "start_time": "2023-03-18T20:08:13.620Z"
   },
   {
    "duration": 7,
    "start_time": "2023-03-18T20:08:13.628Z"
   },
   {
    "duration": 23,
    "start_time": "2023-03-18T20:08:13.654Z"
   },
   {
    "duration": 15,
    "start_time": "2023-03-18T20:08:13.678Z"
   },
   {
    "duration": 5,
    "start_time": "2023-03-18T20:08:13.695Z"
   },
   {
    "duration": 307,
    "start_time": "2023-03-18T20:08:13.701Z"
   },
   {
    "duration": 387,
    "start_time": "2023-03-18T20:08:14.010Z"
   },
   {
    "duration": 375,
    "start_time": "2023-03-18T20:08:14.398Z"
   },
   {
    "duration": 535,
    "start_time": "2023-03-18T20:08:14.774Z"
   },
   {
    "duration": 370,
    "start_time": "2023-03-18T20:08:15.311Z"
   },
   {
    "duration": 529,
    "start_time": "2023-03-18T20:08:15.682Z"
   },
   {
    "duration": 220,
    "start_time": "2023-03-18T20:08:16.213Z"
   },
   {
    "duration": 19,
    "start_time": "2023-03-18T20:08:16.435Z"
   },
   {
    "duration": 225,
    "start_time": "2023-03-18T20:08:16.455Z"
   },
   {
    "duration": 18,
    "start_time": "2023-03-18T20:08:16.685Z"
   },
   {
    "duration": 416,
    "start_time": "2023-03-18T20:08:16.706Z"
   },
   {
    "duration": 37,
    "start_time": "2023-03-18T20:08:17.124Z"
   },
   {
    "duration": 27,
    "start_time": "2023-03-18T20:08:17.171Z"
   },
   {
    "duration": 32,
    "start_time": "2023-03-18T20:08:17.206Z"
   },
   {
    "duration": 32,
    "start_time": "2023-03-18T20:08:17.257Z"
   },
   {
    "duration": 161,
    "start_time": "2023-03-18T20:35:22.568Z"
   },
   {
    "duration": 56,
    "start_time": "2023-03-19T10:23:25.268Z"
   },
   {
    "duration": 7,
    "start_time": "2023-03-19T10:23:45.801Z"
   },
   {
    "duration": 6,
    "start_time": "2023-03-19T10:24:04.490Z"
   },
   {
    "duration": 381,
    "start_time": "2023-03-19T10:24:10.225Z"
   },
   {
    "duration": 95,
    "start_time": "2023-03-19T10:24:10.608Z"
   },
   {
    "duration": 3,
    "start_time": "2023-03-19T10:24:10.705Z"
   },
   {
    "duration": 24,
    "start_time": "2023-03-19T10:24:10.711Z"
   },
   {
    "duration": 6,
    "start_time": "2023-03-19T10:24:10.737Z"
   },
   {
    "duration": 10,
    "start_time": "2023-03-19T10:24:10.744Z"
   },
   {
    "duration": 8,
    "start_time": "2023-03-19T10:24:10.756Z"
   },
   {
    "duration": 25,
    "start_time": "2023-03-19T10:24:10.776Z"
   },
   {
    "duration": 959,
    "start_time": "2023-03-19T10:24:10.802Z"
   },
   {
    "duration": 182,
    "start_time": "2023-03-19T10:24:11.764Z"
   },
   {
    "duration": 13,
    "start_time": "2023-03-19T10:24:11.949Z"
   },
   {
    "duration": 30,
    "start_time": "2023-03-19T10:24:11.964Z"
   },
   {
    "duration": 19,
    "start_time": "2023-03-19T10:24:12.000Z"
   },
   {
    "duration": 8,
    "start_time": "2023-03-19T10:24:12.021Z"
   },
   {
    "duration": 8,
    "start_time": "2023-03-19T10:24:12.030Z"
   },
   {
    "duration": 7,
    "start_time": "2023-03-19T10:24:12.040Z"
   },
   {
    "duration": 31,
    "start_time": "2023-03-19T10:24:12.049Z"
   },
   {
    "duration": 16,
    "start_time": "2023-03-19T10:24:12.086Z"
   },
   {
    "duration": 7,
    "start_time": "2023-03-19T10:24:12.103Z"
   },
   {
    "duration": 6,
    "start_time": "2023-03-19T10:24:12.112Z"
   },
   {
    "duration": 494,
    "start_time": "2023-03-19T10:24:12.119Z"
   },
   {
    "duration": 0,
    "start_time": "2023-03-19T10:24:12.614Z"
   },
   {
    "duration": 0,
    "start_time": "2023-03-19T10:24:12.616Z"
   },
   {
    "duration": 0,
    "start_time": "2023-03-19T10:24:12.617Z"
   },
   {
    "duration": 0,
    "start_time": "2023-03-19T10:24:12.618Z"
   },
   {
    "duration": 0,
    "start_time": "2023-03-19T10:24:12.619Z"
   },
   {
    "duration": 0,
    "start_time": "2023-03-19T10:24:12.620Z"
   },
   {
    "duration": 0,
    "start_time": "2023-03-19T10:24:12.621Z"
   },
   {
    "duration": 0,
    "start_time": "2023-03-19T10:24:12.622Z"
   },
   {
    "duration": 0,
    "start_time": "2023-03-19T10:24:12.623Z"
   },
   {
    "duration": 0,
    "start_time": "2023-03-19T10:24:12.624Z"
   },
   {
    "duration": 0,
    "start_time": "2023-03-19T10:24:12.625Z"
   },
   {
    "duration": 0,
    "start_time": "2023-03-19T10:24:12.626Z"
   },
   {
    "duration": 0,
    "start_time": "2023-03-19T10:24:12.628Z"
   },
   {
    "duration": 0,
    "start_time": "2023-03-19T10:24:12.629Z"
   },
   {
    "duration": 14,
    "start_time": "2023-03-19T10:24:39.219Z"
   },
   {
    "duration": 289,
    "start_time": "2023-03-19T10:25:22.715Z"
   },
   {
    "duration": 221,
    "start_time": "2023-03-19T10:25:30.944Z"
   },
   {
    "duration": 433,
    "start_time": "2023-03-19T10:26:37.659Z"
   },
   {
    "duration": 29,
    "start_time": "2023-03-19T10:26:38.094Z"
   },
   {
    "duration": 3,
    "start_time": "2023-03-19T10:26:38.124Z"
   },
   {
    "duration": 18,
    "start_time": "2023-03-19T10:26:38.129Z"
   },
   {
    "duration": 6,
    "start_time": "2023-03-19T10:26:38.148Z"
   },
   {
    "duration": 10,
    "start_time": "2023-03-19T10:26:38.155Z"
   },
   {
    "duration": 23,
    "start_time": "2023-03-19T10:26:38.167Z"
   },
   {
    "duration": 10,
    "start_time": "2023-03-19T10:26:38.192Z"
   },
   {
    "duration": 696,
    "start_time": "2023-03-19T10:26:38.204Z"
   },
   {
    "duration": 52,
    "start_time": "2023-03-19T10:26:38.903Z"
   },
   {
    "duration": 71,
    "start_time": "2023-03-19T10:26:38.957Z"
   },
   {
    "duration": 34,
    "start_time": "2023-03-19T10:26:39.030Z"
   },
   {
    "duration": 30,
    "start_time": "2023-03-19T10:26:39.066Z"
   },
   {
    "duration": 9,
    "start_time": "2023-03-19T10:26:39.098Z"
   },
   {
    "duration": 6,
    "start_time": "2023-03-19T10:26:39.109Z"
   },
   {
    "duration": 7,
    "start_time": "2023-03-19T10:26:39.116Z"
   },
   {
    "duration": 25,
    "start_time": "2023-03-19T10:26:39.125Z"
   },
   {
    "duration": 11,
    "start_time": "2023-03-19T10:26:39.152Z"
   },
   {
    "duration": 20,
    "start_time": "2023-03-19T10:26:39.164Z"
   },
   {
    "duration": 6,
    "start_time": "2023-03-19T10:26:39.192Z"
   },
   {
    "duration": 509,
    "start_time": "2023-03-19T10:26:39.201Z"
   },
   {
    "duration": 0,
    "start_time": "2023-03-19T10:26:39.712Z"
   },
   {
    "duration": 0,
    "start_time": "2023-03-19T10:26:39.714Z"
   },
   {
    "duration": 0,
    "start_time": "2023-03-19T10:26:39.715Z"
   },
   {
    "duration": 0,
    "start_time": "2023-03-19T10:26:39.716Z"
   },
   {
    "duration": 0,
    "start_time": "2023-03-19T10:26:39.718Z"
   },
   {
    "duration": 0,
    "start_time": "2023-03-19T10:26:39.719Z"
   },
   {
    "duration": 0,
    "start_time": "2023-03-19T10:26:39.721Z"
   },
   {
    "duration": 0,
    "start_time": "2023-03-19T10:26:39.722Z"
   },
   {
    "duration": 0,
    "start_time": "2023-03-19T10:26:39.724Z"
   },
   {
    "duration": 0,
    "start_time": "2023-03-19T10:26:39.725Z"
   },
   {
    "duration": 0,
    "start_time": "2023-03-19T10:26:39.726Z"
   },
   {
    "duration": 0,
    "start_time": "2023-03-19T10:26:39.728Z"
   },
   {
    "duration": 0,
    "start_time": "2023-03-19T10:26:39.729Z"
   },
   {
    "duration": 0,
    "start_time": "2023-03-19T10:26:39.730Z"
   },
   {
    "duration": 213,
    "start_time": "2023-03-19T10:28:21.091Z"
   },
   {
    "duration": 6,
    "start_time": "2023-03-19T10:30:11.892Z"
   },
   {
    "duration": 12,
    "start_time": "2023-03-19T10:30:21.961Z"
   },
   {
    "duration": 383,
    "start_time": "2023-03-19T10:30:30.532Z"
   },
   {
    "duration": 29,
    "start_time": "2023-03-19T10:30:30.918Z"
   },
   {
    "duration": 12,
    "start_time": "2023-03-19T10:30:30.949Z"
   },
   {
    "duration": 59,
    "start_time": "2023-03-19T10:30:30.963Z"
   },
   {
    "duration": 23,
    "start_time": "2023-03-19T10:30:31.024Z"
   },
   {
    "duration": 42,
    "start_time": "2023-03-19T10:30:31.049Z"
   },
   {
    "duration": 32,
    "start_time": "2023-03-19T10:30:31.093Z"
   },
   {
    "duration": 32,
    "start_time": "2023-03-19T10:30:31.127Z"
   },
   {
    "duration": 684,
    "start_time": "2023-03-19T10:30:31.161Z"
   },
   {
    "duration": 61,
    "start_time": "2023-03-19T10:30:31.848Z"
   },
   {
    "duration": 63,
    "start_time": "2023-03-19T10:30:31.910Z"
   },
   {
    "duration": 30,
    "start_time": "2023-03-19T10:30:31.975Z"
   },
   {
    "duration": 11,
    "start_time": "2023-03-19T10:30:32.007Z"
   },
   {
    "duration": 13,
    "start_time": "2023-03-19T10:30:32.020Z"
   },
   {
    "duration": 11,
    "start_time": "2023-03-19T10:30:32.035Z"
   },
   {
    "duration": 8,
    "start_time": "2023-03-19T10:30:32.048Z"
   },
   {
    "duration": 8,
    "start_time": "2023-03-19T10:30:32.058Z"
   },
   {
    "duration": 31,
    "start_time": "2023-03-19T10:30:32.068Z"
   },
   {
    "duration": 13,
    "start_time": "2023-03-19T10:30:32.101Z"
   },
   {
    "duration": 18,
    "start_time": "2023-03-19T10:30:32.116Z"
   },
   {
    "duration": 476,
    "start_time": "2023-03-19T10:30:32.136Z"
   },
   {
    "duration": 0,
    "start_time": "2023-03-19T10:30:32.614Z"
   },
   {
    "duration": 0,
    "start_time": "2023-03-19T10:30:32.615Z"
   },
   {
    "duration": 0,
    "start_time": "2023-03-19T10:30:32.616Z"
   },
   {
    "duration": 0,
    "start_time": "2023-03-19T10:30:32.618Z"
   },
   {
    "duration": 0,
    "start_time": "2023-03-19T10:30:32.619Z"
   },
   {
    "duration": 0,
    "start_time": "2023-03-19T10:30:32.620Z"
   },
   {
    "duration": 0,
    "start_time": "2023-03-19T10:30:32.621Z"
   },
   {
    "duration": 0,
    "start_time": "2023-03-19T10:30:32.622Z"
   },
   {
    "duration": 0,
    "start_time": "2023-03-19T10:30:32.623Z"
   },
   {
    "duration": 0,
    "start_time": "2023-03-19T10:30:32.624Z"
   },
   {
    "duration": 0,
    "start_time": "2023-03-19T10:30:32.625Z"
   },
   {
    "duration": 0,
    "start_time": "2023-03-19T10:30:32.626Z"
   },
   {
    "duration": 0,
    "start_time": "2023-03-19T10:30:32.627Z"
   },
   {
    "duration": 0,
    "start_time": "2023-03-19T10:30:32.629Z"
   },
   {
    "duration": 391,
    "start_time": "2023-03-19T10:30:41.836Z"
   },
   {
    "duration": 4,
    "start_time": "2023-03-19T10:31:26.947Z"
   },
   {
    "duration": 393,
    "start_time": "2023-03-19T10:31:31.744Z"
   },
   {
    "duration": 29,
    "start_time": "2023-03-19T10:31:32.139Z"
   },
   {
    "duration": 4,
    "start_time": "2023-03-19T10:31:32.169Z"
   },
   {
    "duration": 26,
    "start_time": "2023-03-19T10:31:32.174Z"
   },
   {
    "duration": 8,
    "start_time": "2023-03-19T10:31:32.202Z"
   },
   {
    "duration": 11,
    "start_time": "2023-03-19T10:31:32.211Z"
   },
   {
    "duration": 5,
    "start_time": "2023-03-19T10:31:32.224Z"
   },
   {
    "duration": 11,
    "start_time": "2023-03-19T10:31:32.231Z"
   },
   {
    "duration": 666,
    "start_time": "2023-03-19T10:31:32.243Z"
   },
   {
    "duration": 57,
    "start_time": "2023-03-19T10:31:32.911Z"
   },
   {
    "duration": 67,
    "start_time": "2023-03-19T10:31:32.970Z"
   },
   {
    "duration": 12,
    "start_time": "2023-03-19T10:31:33.039Z"
   },
   {
    "duration": 8,
    "start_time": "2023-03-19T10:31:33.053Z"
   },
   {
    "duration": 10,
    "start_time": "2023-03-19T10:31:33.080Z"
   },
   {
    "duration": 9,
    "start_time": "2023-03-19T10:31:33.092Z"
   },
   {
    "duration": 7,
    "start_time": "2023-03-19T10:31:33.102Z"
   },
   {
    "duration": 7,
    "start_time": "2023-03-19T10:31:33.110Z"
   },
   {
    "duration": 15,
    "start_time": "2023-03-19T10:31:33.118Z"
   },
   {
    "duration": 4,
    "start_time": "2023-03-19T10:31:33.135Z"
   },
   {
    "duration": 36,
    "start_time": "2023-03-19T10:31:33.140Z"
   },
   {
    "duration": 8,
    "start_time": "2023-03-19T10:31:33.183Z"
   },
   {
    "duration": 299,
    "start_time": "2023-03-19T10:31:33.192Z"
   },
   {
    "duration": 360,
    "start_time": "2023-03-19T10:31:33.493Z"
   },
   {
    "duration": 299,
    "start_time": "2023-03-19T10:31:33.855Z"
   },
   {
    "duration": 432,
    "start_time": "2023-03-19T10:31:34.157Z"
   },
   {
    "duration": 438,
    "start_time": "2023-03-19T10:31:34.591Z"
   },
   {
    "duration": 0,
    "start_time": "2023-03-19T10:31:35.032Z"
   },
   {
    "duration": 0,
    "start_time": "2023-03-19T10:31:35.033Z"
   },
   {
    "duration": 0,
    "start_time": "2023-03-19T10:31:35.034Z"
   },
   {
    "duration": 0,
    "start_time": "2023-03-19T10:31:35.036Z"
   },
   {
    "duration": 0,
    "start_time": "2023-03-19T10:31:35.037Z"
   },
   {
    "duration": 0,
    "start_time": "2023-03-19T10:31:35.038Z"
   },
   {
    "duration": 0,
    "start_time": "2023-03-19T10:31:35.039Z"
   },
   {
    "duration": 0,
    "start_time": "2023-03-19T10:31:35.041Z"
   },
   {
    "duration": 0,
    "start_time": "2023-03-19T10:31:35.042Z"
   },
   {
    "duration": 0,
    "start_time": "2023-03-19T10:31:35.044Z"
   },
   {
    "duration": 54,
    "start_time": "2023-03-19T10:32:21.309Z"
   },
   {
    "duration": 50,
    "start_time": "2023-03-19T10:32:30.721Z"
   },
   {
    "duration": 5,
    "start_time": "2023-03-19T10:33:05.149Z"
   },
   {
    "duration": 12,
    "start_time": "2023-03-19T10:33:40.492Z"
   },
   {
    "duration": 5,
    "start_time": "2023-03-19T10:33:48.792Z"
   },
   {
    "duration": 6,
    "start_time": "2023-03-19T10:34:10.937Z"
   },
   {
    "duration": 6,
    "start_time": "2023-03-19T10:34:18.548Z"
   },
   {
    "duration": 5,
    "start_time": "2023-03-19T10:34:25.029Z"
   },
   {
    "duration": 9,
    "start_time": "2023-03-19T10:34:34.047Z"
   },
   {
    "duration": 306,
    "start_time": "2023-03-19T10:34:52.158Z"
   },
   {
    "duration": 332,
    "start_time": "2023-03-19T10:35:34.725Z"
   },
   {
    "duration": 305,
    "start_time": "2023-03-19T10:35:49.249Z"
   },
   {
    "duration": 288,
    "start_time": "2023-03-19T10:36:05.210Z"
   },
   {
    "duration": 62,
    "start_time": "2023-03-19T10:36:38.645Z"
   },
   {
    "duration": 59,
    "start_time": "2023-03-19T10:36:45.545Z"
   },
   {
    "duration": 323,
    "start_time": "2023-03-19T10:36:57.225Z"
   },
   {
    "duration": 367,
    "start_time": "2023-03-19T10:37:11.093Z"
   },
   {
    "duration": 11,
    "start_time": "2023-03-19T10:37:30.813Z"
   },
   {
    "duration": 452,
    "start_time": "2023-03-19T10:37:37.657Z"
   },
   {
    "duration": 28,
    "start_time": "2023-03-19T10:37:38.111Z"
   },
   {
    "duration": 3,
    "start_time": "2023-03-19T10:37:38.141Z"
   },
   {
    "duration": 17,
    "start_time": "2023-03-19T10:37:38.146Z"
   },
   {
    "duration": 6,
    "start_time": "2023-03-19T10:37:38.165Z"
   },
   {
    "duration": 20,
    "start_time": "2023-03-19T10:37:38.173Z"
   },
   {
    "duration": 4,
    "start_time": "2023-03-19T10:37:38.195Z"
   },
   {
    "duration": 12,
    "start_time": "2023-03-19T10:37:38.200Z"
   },
   {
    "duration": 644,
    "start_time": "2023-03-19T10:37:38.213Z"
   },
   {
    "duration": 58,
    "start_time": "2023-03-19T10:37:38.859Z"
   },
   {
    "duration": 74,
    "start_time": "2023-03-19T10:37:38.919Z"
   },
   {
    "duration": 40,
    "start_time": "2023-03-19T10:37:38.994Z"
   },
   {
    "duration": 13,
    "start_time": "2023-03-19T10:37:39.036Z"
   },
   {
    "duration": 8,
    "start_time": "2023-03-19T10:37:39.052Z"
   },
   {
    "duration": 7,
    "start_time": "2023-03-19T10:37:39.063Z"
   },
   {
    "duration": 22,
    "start_time": "2023-03-19T10:37:39.072Z"
   },
   {
    "duration": 8,
    "start_time": "2023-03-19T10:37:39.096Z"
   },
   {
    "duration": 13,
    "start_time": "2023-03-19T10:37:39.105Z"
   },
   {
    "duration": 6,
    "start_time": "2023-03-19T10:37:39.119Z"
   },
   {
    "duration": 8,
    "start_time": "2023-03-19T10:37:39.126Z"
   },
   {
    "duration": 6,
    "start_time": "2023-03-19T10:37:39.136Z"
   },
   {
    "duration": 348,
    "start_time": "2023-03-19T10:37:39.144Z"
   },
   {
    "duration": 373,
    "start_time": "2023-03-19T10:37:39.494Z"
   },
   {
    "duration": 285,
    "start_time": "2023-03-19T10:37:39.869Z"
   },
   {
    "duration": 395,
    "start_time": "2023-03-19T10:37:40.156Z"
   },
   {
    "duration": 340,
    "start_time": "2023-03-19T10:37:40.553Z"
   },
   {
    "duration": 494,
    "start_time": "2023-03-19T10:37:40.895Z"
   },
   {
    "duration": 0,
    "start_time": "2023-03-19T10:37:41.392Z"
   },
   {
    "duration": 0,
    "start_time": "2023-03-19T10:37:41.393Z"
   },
   {
    "duration": 0,
    "start_time": "2023-03-19T10:37:41.394Z"
   },
   {
    "duration": 0,
    "start_time": "2023-03-19T10:37:41.396Z"
   },
   {
    "duration": 0,
    "start_time": "2023-03-19T10:37:41.398Z"
   },
   {
    "duration": 0,
    "start_time": "2023-03-19T10:37:41.398Z"
   },
   {
    "duration": 0,
    "start_time": "2023-03-19T10:37:41.400Z"
   },
   {
    "duration": 0,
    "start_time": "2023-03-19T10:37:41.401Z"
   },
   {
    "duration": 0,
    "start_time": "2023-03-19T10:37:41.402Z"
   },
   {
    "duration": 393,
    "start_time": "2023-03-19T10:38:22.966Z"
   },
   {
    "duration": 180,
    "start_time": "2023-03-19T10:38:34.481Z"
   },
   {
    "duration": 399,
    "start_time": "2023-03-19T10:38:40.447Z"
   },
   {
    "duration": 44,
    "start_time": "2023-03-19T10:38:40.848Z"
   },
   {
    "duration": 4,
    "start_time": "2023-03-19T10:38:40.893Z"
   },
   {
    "duration": 24,
    "start_time": "2023-03-19T10:38:40.900Z"
   },
   {
    "duration": 7,
    "start_time": "2023-03-19T10:38:40.926Z"
   },
   {
    "duration": 11,
    "start_time": "2023-03-19T10:38:40.935Z"
   },
   {
    "duration": 17,
    "start_time": "2023-03-19T10:38:40.947Z"
   },
   {
    "duration": 24,
    "start_time": "2023-03-19T10:38:40.966Z"
   },
   {
    "duration": 735,
    "start_time": "2023-03-19T10:38:40.992Z"
   },
   {
    "duration": 64,
    "start_time": "2023-03-19T10:38:41.730Z"
   },
   {
    "duration": 70,
    "start_time": "2023-03-19T10:38:41.796Z"
   },
   {
    "duration": 18,
    "start_time": "2023-03-19T10:38:41.867Z"
   },
   {
    "duration": 6,
    "start_time": "2023-03-19T10:38:41.898Z"
   },
   {
    "duration": 8,
    "start_time": "2023-03-19T10:38:41.906Z"
   },
   {
    "duration": 6,
    "start_time": "2023-03-19T10:38:41.916Z"
   },
   {
    "duration": 6,
    "start_time": "2023-03-19T10:38:41.924Z"
   },
   {
    "duration": 9,
    "start_time": "2023-03-19T10:38:41.931Z"
   },
   {
    "duration": 37,
    "start_time": "2023-03-19T10:38:41.941Z"
   },
   {
    "duration": 5,
    "start_time": "2023-03-19T10:38:41.986Z"
   },
   {
    "duration": 9,
    "start_time": "2023-03-19T10:38:41.993Z"
   },
   {
    "duration": 7,
    "start_time": "2023-03-19T10:38:42.004Z"
   },
   {
    "duration": 350,
    "start_time": "2023-03-19T10:38:42.013Z"
   },
   {
    "duration": 393,
    "start_time": "2023-03-19T10:38:42.365Z"
   },
   {
    "duration": 276,
    "start_time": "2023-03-19T10:38:42.760Z"
   },
   {
    "duration": 417,
    "start_time": "2023-03-19T10:38:43.037Z"
   },
   {
    "duration": 384,
    "start_time": "2023-03-19T10:38:43.456Z"
   },
   {
    "duration": 453,
    "start_time": "2023-03-19T10:38:43.843Z"
   },
   {
    "duration": 235,
    "start_time": "2023-03-19T10:38:44.300Z"
   },
   {
    "duration": 9,
    "start_time": "2023-03-19T10:38:44.537Z"
   },
   {
    "duration": 207,
    "start_time": "2023-03-19T10:38:44.548Z"
   },
   {
    "duration": 27,
    "start_time": "2023-03-19T10:38:44.757Z"
   },
   {
    "duration": 425,
    "start_time": "2023-03-19T10:38:44.786Z"
   },
   {
    "duration": 12,
    "start_time": "2023-03-19T10:38:45.213Z"
   },
   {
    "duration": 11,
    "start_time": "2023-03-19T10:38:45.227Z"
   },
   {
    "duration": 59,
    "start_time": "2023-03-19T10:38:45.240Z"
   },
   {
    "duration": 16,
    "start_time": "2023-03-19T10:38:45.301Z"
   },
   {
    "duration": 12,
    "start_time": "2023-03-19T10:40:39.661Z"
   },
   {
    "duration": 5,
    "start_time": "2023-03-19T10:47:02.007Z"
   },
   {
    "duration": 4,
    "start_time": "2023-03-19T10:47:34.869Z"
   },
   {
    "duration": 6,
    "start_time": "2023-03-19T10:48:04.316Z"
   },
   {
    "duration": 5,
    "start_time": "2023-03-19T10:49:37.481Z"
   },
   {
    "duration": 6,
    "start_time": "2023-03-19T10:50:03.371Z"
   },
   {
    "duration": 5,
    "start_time": "2023-03-19T10:51:13.694Z"
   },
   {
    "duration": 5,
    "start_time": "2023-03-19T10:51:20.589Z"
   },
   {
    "duration": 5,
    "start_time": "2023-03-19T10:52:11.717Z"
   },
   {
    "duration": 6,
    "start_time": "2023-03-19T10:52:27.119Z"
   },
   {
    "duration": 57,
    "start_time": "2023-03-19T10:54:20.560Z"
   },
   {
    "duration": 5,
    "start_time": "2023-03-19T10:54:37.232Z"
   },
   {
    "duration": 194,
    "start_time": "2023-03-19T11:01:01.650Z"
   },
   {
    "duration": 295,
    "start_time": "2023-03-19T11:02:22.251Z"
   },
   {
    "duration": 235,
    "start_time": "2023-03-19T11:02:38.558Z"
   },
   {
    "duration": 379,
    "start_time": "2023-03-19T11:08:11.525Z"
   },
   {
    "duration": 24,
    "start_time": "2023-03-19T11:10:57.136Z"
   },
   {
    "duration": 25,
    "start_time": "2023-03-19T11:11:11.917Z"
   },
   {
    "duration": 26,
    "start_time": "2023-03-19T11:12:58.512Z"
   },
   {
    "duration": 411,
    "start_time": "2023-03-19T11:13:06.387Z"
   },
   {
    "duration": 28,
    "start_time": "2023-03-19T11:13:06.800Z"
   },
   {
    "duration": 3,
    "start_time": "2023-03-19T11:13:06.830Z"
   },
   {
    "duration": 18,
    "start_time": "2023-03-19T11:13:06.835Z"
   },
   {
    "duration": 7,
    "start_time": "2023-03-19T11:13:06.855Z"
   },
   {
    "duration": 24,
    "start_time": "2023-03-19T11:13:06.864Z"
   },
   {
    "duration": 7,
    "start_time": "2023-03-19T11:13:06.890Z"
   },
   {
    "duration": 15,
    "start_time": "2023-03-19T11:13:06.901Z"
   },
   {
    "duration": 695,
    "start_time": "2023-03-19T11:13:06.918Z"
   },
   {
    "duration": 52,
    "start_time": "2023-03-19T11:13:07.616Z"
   },
   {
    "duration": 72,
    "start_time": "2023-03-19T11:13:07.669Z"
   },
   {
    "duration": 20,
    "start_time": "2023-03-19T11:13:07.743Z"
   },
   {
    "duration": 30,
    "start_time": "2023-03-19T11:13:07.765Z"
   },
   {
    "duration": 9,
    "start_time": "2023-03-19T11:13:07.797Z"
   },
   {
    "duration": 6,
    "start_time": "2023-03-19T11:13:07.807Z"
   },
   {
    "duration": 6,
    "start_time": "2023-03-19T11:13:07.815Z"
   },
   {
    "duration": 14,
    "start_time": "2023-03-19T11:13:07.822Z"
   },
   {
    "duration": 14,
    "start_time": "2023-03-19T11:13:07.837Z"
   },
   {
    "duration": 9,
    "start_time": "2023-03-19T11:13:07.853Z"
   },
   {
    "duration": 24,
    "start_time": "2023-03-19T11:13:07.863Z"
   },
   {
    "duration": 20,
    "start_time": "2023-03-19T11:13:07.891Z"
   },
   {
    "duration": 8,
    "start_time": "2023-03-19T11:13:07.913Z"
   },
   {
    "duration": 8,
    "start_time": "2023-03-19T11:13:07.923Z"
   },
   {
    "duration": 17,
    "start_time": "2023-03-19T11:13:07.932Z"
   },
   {
    "duration": 6,
    "start_time": "2023-03-19T11:13:07.951Z"
   },
   {
    "duration": 320,
    "start_time": "2023-03-19T11:13:07.959Z"
   },
   {
    "duration": 6,
    "start_time": "2023-03-19T11:13:08.286Z"
   },
   {
    "duration": 5,
    "start_time": "2023-03-19T11:13:08.295Z"
   },
   {
    "duration": 389,
    "start_time": "2023-03-19T11:13:08.301Z"
   },
   {
    "duration": 278,
    "start_time": "2023-03-19T11:13:08.692Z"
   },
   {
    "duration": 385,
    "start_time": "2023-03-19T11:13:08.974Z"
   },
   {
    "duration": 330,
    "start_time": "2023-03-19T11:13:09.361Z"
   },
   {
    "duration": 398,
    "start_time": "2023-03-19T11:13:09.693Z"
   },
   {
    "duration": 201,
    "start_time": "2023-03-19T11:13:10.093Z"
   },
   {
    "duration": 9,
    "start_time": "2023-03-19T11:13:10.297Z"
   },
   {
    "duration": 221,
    "start_time": "2023-03-19T11:13:10.308Z"
   },
   {
    "duration": 203,
    "start_time": "2023-03-19T11:13:10.531Z"
   },
   {
    "duration": 10,
    "start_time": "2023-03-19T11:13:10.736Z"
   },
   {
    "duration": 121,
    "start_time": "2023-03-19T11:13:10.749Z"
   },
   {
    "duration": 1,
    "start_time": "2023-03-19T11:13:10.871Z"
   },
   {
    "duration": 0,
    "start_time": "2023-03-19T11:13:10.877Z"
   },
   {
    "duration": 0,
    "start_time": "2023-03-19T11:13:10.878Z"
   },
   {
    "duration": 0,
    "start_time": "2023-03-19T11:13:10.878Z"
   },
   {
    "duration": 162,
    "start_time": "2023-03-19T11:15:18.092Z"
   },
   {
    "duration": 412,
    "start_time": "2023-03-19T11:15:29.292Z"
   },
   {
    "duration": 29,
    "start_time": "2023-03-19T11:15:29.707Z"
   },
   {
    "duration": 3,
    "start_time": "2023-03-19T11:15:29.739Z"
   },
   {
    "duration": 21,
    "start_time": "2023-03-19T11:15:29.744Z"
   },
   {
    "duration": 13,
    "start_time": "2023-03-19T11:15:29.768Z"
   },
   {
    "duration": 13,
    "start_time": "2023-03-19T11:15:29.786Z"
   },
   {
    "duration": 16,
    "start_time": "2023-03-19T11:15:29.801Z"
   },
   {
    "duration": 17,
    "start_time": "2023-03-19T11:15:29.819Z"
   },
   {
    "duration": 725,
    "start_time": "2023-03-19T11:15:29.838Z"
   },
   {
    "duration": 59,
    "start_time": "2023-03-19T11:15:30.565Z"
   },
   {
    "duration": 75,
    "start_time": "2023-03-19T11:15:30.626Z"
   },
   {
    "duration": 50,
    "start_time": "2023-03-19T11:15:30.704Z"
   },
   {
    "duration": 39,
    "start_time": "2023-03-19T11:15:30.756Z"
   },
   {
    "duration": 54,
    "start_time": "2023-03-19T11:15:30.798Z"
   },
   {
    "duration": 55,
    "start_time": "2023-03-19T11:15:30.854Z"
   },
   {
    "duration": 73,
    "start_time": "2023-03-19T11:15:30.911Z"
   },
   {
    "duration": 70,
    "start_time": "2023-03-19T11:15:30.985Z"
   },
   {
    "duration": 80,
    "start_time": "2023-03-19T11:15:31.057Z"
   },
   {
    "duration": 57,
    "start_time": "2023-03-19T11:15:31.140Z"
   },
   {
    "duration": 37,
    "start_time": "2023-03-19T11:15:31.201Z"
   },
   {
    "duration": 23,
    "start_time": "2023-03-19T11:15:31.240Z"
   },
   {
    "duration": 32,
    "start_time": "2023-03-19T11:15:31.265Z"
   },
   {
    "duration": 45,
    "start_time": "2023-03-19T11:15:31.298Z"
   },
   {
    "duration": 52,
    "start_time": "2023-03-19T11:15:31.345Z"
   },
   {
    "duration": 29,
    "start_time": "2023-03-19T11:15:31.399Z"
   },
   {
    "duration": 320,
    "start_time": "2023-03-19T11:15:31.429Z"
   },
   {
    "duration": 4,
    "start_time": "2023-03-19T11:15:31.751Z"
   },
   {
    "duration": 46,
    "start_time": "2023-03-19T11:15:31.757Z"
   },
   {
    "duration": 460,
    "start_time": "2023-03-19T11:15:31.805Z"
   },
   {
    "duration": 285,
    "start_time": "2023-03-19T11:15:32.267Z"
   },
   {
    "duration": 386,
    "start_time": "2023-03-19T11:15:32.553Z"
   },
   {
    "duration": 345,
    "start_time": "2023-03-19T11:15:32.941Z"
   },
   {
    "duration": 425,
    "start_time": "2023-03-19T11:15:33.288Z"
   },
   {
    "duration": 187,
    "start_time": "2023-03-19T11:15:33.715Z"
   },
   {
    "duration": 11,
    "start_time": "2023-03-19T11:15:33.904Z"
   },
   {
    "duration": 247,
    "start_time": "2023-03-19T11:15:33.917Z"
   },
   {
    "duration": 261,
    "start_time": "2023-03-19T11:15:34.166Z"
   },
   {
    "duration": 11,
    "start_time": "2023-03-19T11:15:34.429Z"
   },
   {
    "duration": 281,
    "start_time": "2023-03-19T11:15:34.442Z"
   },
   {
    "duration": 0,
    "start_time": "2023-03-19T11:15:34.725Z"
   },
   {
    "duration": 0,
    "start_time": "2023-03-19T11:15:34.727Z"
   },
   {
    "duration": 0,
    "start_time": "2023-03-19T11:15:34.728Z"
   },
   {
    "duration": 0,
    "start_time": "2023-03-19T11:15:34.730Z"
   },
   {
    "duration": 18,
    "start_time": "2023-03-19T11:17:01.115Z"
   },
   {
    "duration": 121,
    "start_time": "2023-03-19T11:17:47.526Z"
   },
   {
    "duration": 381,
    "start_time": "2023-03-19T11:17:56.965Z"
   },
   {
    "duration": 420,
    "start_time": "2023-03-19T11:18:04.695Z"
   },
   {
    "duration": 30,
    "start_time": "2023-03-19T11:18:05.117Z"
   },
   {
    "duration": 5,
    "start_time": "2023-03-19T11:18:05.149Z"
   },
   {
    "duration": 25,
    "start_time": "2023-03-19T11:18:05.156Z"
   },
   {
    "duration": 7,
    "start_time": "2023-03-19T11:18:05.183Z"
   },
   {
    "duration": 12,
    "start_time": "2023-03-19T11:18:05.192Z"
   },
   {
    "duration": 5,
    "start_time": "2023-03-19T11:18:05.206Z"
   },
   {
    "duration": 15,
    "start_time": "2023-03-19T11:18:05.213Z"
   },
   {
    "duration": 689,
    "start_time": "2023-03-19T11:18:05.230Z"
   },
   {
    "duration": 53,
    "start_time": "2023-03-19T11:18:05.921Z"
   },
   {
    "duration": 70,
    "start_time": "2023-03-19T11:18:05.976Z"
   },
   {
    "duration": 29,
    "start_time": "2023-03-19T11:18:06.049Z"
   },
   {
    "duration": 6,
    "start_time": "2023-03-19T11:18:06.080Z"
   },
   {
    "duration": 11,
    "start_time": "2023-03-19T11:18:06.088Z"
   },
   {
    "duration": 18,
    "start_time": "2023-03-19T11:18:06.100Z"
   },
   {
    "duration": 7,
    "start_time": "2023-03-19T11:18:06.121Z"
   },
   {
    "duration": 10,
    "start_time": "2023-03-19T11:18:06.130Z"
   },
   {
    "duration": 36,
    "start_time": "2023-03-19T11:18:06.142Z"
   },
   {
    "duration": 11,
    "start_time": "2023-03-19T11:18:06.180Z"
   },
   {
    "duration": 15,
    "start_time": "2023-03-19T11:18:06.193Z"
   },
   {
    "duration": 7,
    "start_time": "2023-03-19T11:18:06.211Z"
   },
   {
    "duration": 9,
    "start_time": "2023-03-19T11:18:06.220Z"
   },
   {
    "duration": 11,
    "start_time": "2023-03-19T11:18:06.231Z"
   },
   {
    "duration": 33,
    "start_time": "2023-03-19T11:18:06.245Z"
   },
   {
    "duration": 6,
    "start_time": "2023-03-19T11:18:06.280Z"
   },
   {
    "duration": 323,
    "start_time": "2023-03-19T11:18:06.288Z"
   },
   {
    "duration": 6,
    "start_time": "2023-03-19T11:18:06.613Z"
   },
   {
    "duration": 6,
    "start_time": "2023-03-19T11:18:06.624Z"
   },
   {
    "duration": 399,
    "start_time": "2023-03-19T11:18:06.632Z"
   },
   {
    "duration": 268,
    "start_time": "2023-03-19T11:18:07.034Z"
   },
   {
    "duration": 351,
    "start_time": "2023-03-19T11:18:07.303Z"
   },
   {
    "duration": 321,
    "start_time": "2023-03-19T11:18:07.656Z"
   },
   {
    "duration": 377,
    "start_time": "2023-03-19T11:18:07.979Z"
   },
   {
    "duration": 174,
    "start_time": "2023-03-19T11:18:08.358Z"
   },
   {
    "duration": 9,
    "start_time": "2023-03-19T11:18:08.534Z"
   },
   {
    "duration": 230,
    "start_time": "2023-03-19T11:18:08.546Z"
   },
   {
    "duration": 187,
    "start_time": "2023-03-19T11:18:08.778Z"
   },
   {
    "duration": 10,
    "start_time": "2023-03-19T11:18:08.975Z"
   },
   {
    "duration": 401,
    "start_time": "2023-03-19T11:18:08.987Z"
   },
   {
    "duration": 14,
    "start_time": "2023-03-19T11:18:09.390Z"
   },
   {
    "duration": 12,
    "start_time": "2023-03-19T11:18:09.406Z"
   },
   {
    "duration": 64,
    "start_time": "2023-03-19T11:18:09.420Z"
   },
   {
    "duration": 15,
    "start_time": "2023-03-19T11:18:09.486Z"
   },
   {
    "duration": 390,
    "start_time": "2023-03-19T11:22:00.592Z"
   },
   {
    "duration": 481,
    "start_time": "2023-03-19T11:22:05.876Z"
   },
   {
    "duration": 11,
    "start_time": "2023-03-19T11:23:07.371Z"
   },
   {
    "duration": 11,
    "start_time": "2023-03-19T11:24:02.263Z"
   },
   {
    "duration": 11,
    "start_time": "2023-03-19T11:24:08.907Z"
   },
   {
    "duration": 13,
    "start_time": "2023-03-19T11:24:34.213Z"
   },
   {
    "duration": 13,
    "start_time": "2023-03-19T11:24:41.006Z"
   },
   {
    "duration": 460,
    "start_time": "2023-03-19T11:24:48.196Z"
   },
   {
    "duration": 28,
    "start_time": "2023-03-19T11:24:48.659Z"
   },
   {
    "duration": 4,
    "start_time": "2023-03-19T11:24:48.689Z"
   },
   {
    "duration": 15,
    "start_time": "2023-03-19T11:24:48.697Z"
   },
   {
    "duration": 7,
    "start_time": "2023-03-19T11:24:48.714Z"
   },
   {
    "duration": 13,
    "start_time": "2023-03-19T11:24:48.723Z"
   },
   {
    "duration": 7,
    "start_time": "2023-03-19T11:24:48.738Z"
   },
   {
    "duration": 33,
    "start_time": "2023-03-19T11:24:48.747Z"
   },
   {
    "duration": 644,
    "start_time": "2023-03-19T11:24:48.781Z"
   },
   {
    "duration": 53,
    "start_time": "2023-03-19T11:24:49.428Z"
   },
   {
    "duration": 70,
    "start_time": "2023-03-19T11:24:49.482Z"
   },
   {
    "duration": 31,
    "start_time": "2023-03-19T11:24:49.553Z"
   },
   {
    "duration": 7,
    "start_time": "2023-03-19T11:24:49.586Z"
   },
   {
    "duration": 10,
    "start_time": "2023-03-19T11:24:49.595Z"
   },
   {
    "duration": 9,
    "start_time": "2023-03-19T11:24:49.607Z"
   },
   {
    "duration": 7,
    "start_time": "2023-03-19T11:24:49.618Z"
   },
   {
    "duration": 5,
    "start_time": "2023-03-19T11:24:49.626Z"
   },
   {
    "duration": 42,
    "start_time": "2023-03-19T11:24:49.633Z"
   },
   {
    "duration": 12,
    "start_time": "2023-03-19T11:24:49.677Z"
   },
   {
    "duration": 16,
    "start_time": "2023-03-19T11:24:49.691Z"
   },
   {
    "duration": 9,
    "start_time": "2023-03-19T11:24:49.709Z"
   },
   {
    "duration": 7,
    "start_time": "2023-03-19T11:24:49.720Z"
   },
   {
    "duration": 7,
    "start_time": "2023-03-19T11:24:49.729Z"
   },
   {
    "duration": 39,
    "start_time": "2023-03-19T11:24:49.738Z"
   },
   {
    "duration": 6,
    "start_time": "2023-03-19T11:24:49.779Z"
   },
   {
    "duration": 340,
    "start_time": "2023-03-19T11:24:49.787Z"
   },
   {
    "duration": 6,
    "start_time": "2023-03-19T11:24:50.129Z"
   },
   {
    "duration": 7,
    "start_time": "2023-03-19T11:24:50.140Z"
   },
   {
    "duration": 396,
    "start_time": "2023-03-19T11:24:50.149Z"
   },
   {
    "duration": 265,
    "start_time": "2023-03-19T11:24:50.547Z"
   },
   {
    "duration": 368,
    "start_time": "2023-03-19T11:24:50.814Z"
   },
   {
    "duration": 309,
    "start_time": "2023-03-19T11:24:51.184Z"
   },
   {
    "duration": 366,
    "start_time": "2023-03-19T11:24:51.495Z"
   },
   {
    "duration": 184,
    "start_time": "2023-03-19T11:24:51.863Z"
   },
   {
    "duration": 10,
    "start_time": "2023-03-19T11:24:52.049Z"
   },
   {
    "duration": 193,
    "start_time": "2023-03-19T11:24:52.076Z"
   },
   {
    "duration": 220,
    "start_time": "2023-03-19T11:24:52.271Z"
   },
   {
    "duration": 9,
    "start_time": "2023-03-19T11:24:52.493Z"
   },
   {
    "duration": 421,
    "start_time": "2023-03-19T11:24:52.505Z"
   },
   {
    "duration": 15,
    "start_time": "2023-03-19T11:24:52.928Z"
   },
   {
    "duration": 31,
    "start_time": "2023-03-19T11:24:52.945Z"
   },
   {
    "duration": 26,
    "start_time": "2023-03-19T11:24:52.978Z"
   },
   {
    "duration": 15,
    "start_time": "2023-03-19T11:24:53.005Z"
   },
   {
    "duration": 13,
    "start_time": "2023-03-19T11:27:41.519Z"
   },
   {
    "duration": 14,
    "start_time": "2023-03-19T11:27:56.379Z"
   },
   {
    "duration": 44,
    "start_time": "2023-03-19T11:29:04.563Z"
   },
   {
    "duration": 27,
    "start_time": "2023-03-19T11:29:23.053Z"
   },
   {
    "duration": 18,
    "start_time": "2023-03-19T11:30:07.109Z"
   },
   {
    "duration": 17,
    "start_time": "2023-03-19T11:30:20.659Z"
   },
   {
    "duration": 412,
    "start_time": "2023-03-19T11:45:47.594Z"
   },
   {
    "duration": 28,
    "start_time": "2023-03-19T11:45:48.008Z"
   },
   {
    "duration": 4,
    "start_time": "2023-03-19T11:45:48.038Z"
   },
   {
    "duration": 37,
    "start_time": "2023-03-19T11:45:48.043Z"
   },
   {
    "duration": 12,
    "start_time": "2023-03-19T11:45:48.083Z"
   },
   {
    "duration": 18,
    "start_time": "2023-03-19T11:45:48.097Z"
   },
   {
    "duration": 9,
    "start_time": "2023-03-19T11:45:48.117Z"
   },
   {
    "duration": 26,
    "start_time": "2023-03-19T11:45:48.128Z"
   },
   {
    "duration": 677,
    "start_time": "2023-03-19T11:45:48.156Z"
   },
   {
    "duration": 57,
    "start_time": "2023-03-19T11:45:48.835Z"
   },
   {
    "duration": 69,
    "start_time": "2023-03-19T11:45:48.894Z"
   },
   {
    "duration": 21,
    "start_time": "2023-03-19T11:45:48.964Z"
   },
   {
    "duration": 14,
    "start_time": "2023-03-19T11:45:48.987Z"
   },
   {
    "duration": 9,
    "start_time": "2023-03-19T11:45:49.006Z"
   },
   {
    "duration": 9,
    "start_time": "2023-03-19T11:45:49.017Z"
   },
   {
    "duration": 7,
    "start_time": "2023-03-19T11:45:49.028Z"
   },
   {
    "duration": 4,
    "start_time": "2023-03-19T11:45:49.037Z"
   },
   {
    "duration": 39,
    "start_time": "2023-03-19T11:45:49.043Z"
   },
   {
    "duration": 10,
    "start_time": "2023-03-19T11:45:49.084Z"
   },
   {
    "duration": 11,
    "start_time": "2023-03-19T11:45:49.097Z"
   },
   {
    "duration": 8,
    "start_time": "2023-03-19T11:45:49.110Z"
   },
   {
    "duration": 7,
    "start_time": "2023-03-19T11:45:49.119Z"
   },
   {
    "duration": 9,
    "start_time": "2023-03-19T11:45:49.129Z"
   },
   {
    "duration": 22,
    "start_time": "2023-03-19T11:45:49.140Z"
   },
   {
    "duration": 47,
    "start_time": "2023-03-19T11:45:49.164Z"
   },
   {
    "duration": 302,
    "start_time": "2023-03-19T11:45:49.212Z"
   },
   {
    "duration": 5,
    "start_time": "2023-03-19T11:45:49.516Z"
   },
   {
    "duration": 7,
    "start_time": "2023-03-19T11:45:49.523Z"
   },
   {
    "duration": 367,
    "start_time": "2023-03-19T11:45:49.531Z"
   },
   {
    "duration": 270,
    "start_time": "2023-03-19T11:45:49.900Z"
   },
   {
    "duration": 379,
    "start_time": "2023-03-19T11:45:50.171Z"
   },
   {
    "duration": 345,
    "start_time": "2023-03-19T11:45:50.552Z"
   },
   {
    "duration": 373,
    "start_time": "2023-03-19T11:45:50.899Z"
   },
   {
    "duration": 173,
    "start_time": "2023-03-19T11:45:51.279Z"
   },
   {
    "duration": 28,
    "start_time": "2023-03-19T11:45:51.453Z"
   },
   {
    "duration": 194,
    "start_time": "2023-03-19T11:45:51.484Z"
   },
   {
    "duration": 185,
    "start_time": "2023-03-19T11:45:51.684Z"
   },
   {
    "duration": 17,
    "start_time": "2023-03-19T11:45:51.871Z"
   },
   {
    "duration": 380,
    "start_time": "2023-03-19T11:45:51.891Z"
   },
   {
    "duration": 15,
    "start_time": "2023-03-19T11:45:52.274Z"
   },
   {
    "duration": 11,
    "start_time": "2023-03-19T11:45:52.295Z"
   },
   {
    "duration": 26,
    "start_time": "2023-03-19T11:45:52.308Z"
   },
   {
    "duration": 41,
    "start_time": "2023-03-19T11:45:52.336Z"
   },
   {
    "duration": 397,
    "start_time": "2023-03-19T11:48:35.110Z"
   },
   {
    "duration": 29,
    "start_time": "2023-03-19T11:48:35.509Z"
   },
   {
    "duration": 3,
    "start_time": "2023-03-19T11:48:35.540Z"
   },
   {
    "duration": 26,
    "start_time": "2023-03-19T11:48:35.546Z"
   },
   {
    "duration": 9,
    "start_time": "2023-03-19T11:48:35.574Z"
   },
   {
    "duration": 11,
    "start_time": "2023-03-19T11:48:35.591Z"
   },
   {
    "duration": 8,
    "start_time": "2023-03-19T11:48:35.604Z"
   },
   {
    "duration": 16,
    "start_time": "2023-03-19T11:48:35.614Z"
   },
   {
    "duration": 727,
    "start_time": "2023-03-19T11:48:35.633Z"
   },
   {
    "duration": 73,
    "start_time": "2023-03-19T11:48:36.363Z"
   },
   {
    "duration": 73,
    "start_time": "2023-03-19T11:48:36.438Z"
   },
   {
    "duration": 15,
    "start_time": "2023-03-19T11:48:36.513Z"
   },
   {
    "duration": 8,
    "start_time": "2023-03-19T11:48:36.530Z"
   },
   {
    "duration": 7,
    "start_time": "2023-03-19T11:48:36.539Z"
   },
   {
    "duration": 30,
    "start_time": "2023-03-19T11:48:36.548Z"
   },
   {
    "duration": 8,
    "start_time": "2023-03-19T11:48:36.590Z"
   },
   {
    "duration": 6,
    "start_time": "2023-03-19T11:48:36.601Z"
   },
   {
    "duration": 6,
    "start_time": "2023-03-19T11:48:36.609Z"
   },
   {
    "duration": 10,
    "start_time": "2023-03-19T11:48:36.617Z"
   },
   {
    "duration": 14,
    "start_time": "2023-03-19T11:48:36.629Z"
   },
   {
    "duration": 42,
    "start_time": "2023-03-19T11:48:36.645Z"
   },
   {
    "duration": 12,
    "start_time": "2023-03-19T11:48:36.688Z"
   },
   {
    "duration": 6,
    "start_time": "2023-03-19T11:48:36.701Z"
   },
   {
    "duration": 9,
    "start_time": "2023-03-19T11:48:36.709Z"
   },
   {
    "duration": 6,
    "start_time": "2023-03-19T11:48:36.719Z"
   },
   {
    "duration": 337,
    "start_time": "2023-03-19T11:48:36.728Z"
   },
   {
    "duration": 15,
    "start_time": "2023-03-19T11:48:37.067Z"
   },
   {
    "duration": 5,
    "start_time": "2023-03-19T11:48:37.091Z"
   },
   {
    "duration": 435,
    "start_time": "2023-03-19T11:48:37.098Z"
   },
   {
    "duration": 293,
    "start_time": "2023-03-19T11:48:37.536Z"
   },
   {
    "duration": 404,
    "start_time": "2023-03-19T11:48:37.831Z"
   },
   {
    "duration": 436,
    "start_time": "2023-03-19T11:48:38.237Z"
   },
   {
    "duration": 392,
    "start_time": "2023-03-19T11:48:38.677Z"
   },
   {
    "duration": 186,
    "start_time": "2023-03-19T11:48:39.071Z"
   },
   {
    "duration": 17,
    "start_time": "2023-03-19T11:48:39.259Z"
   },
   {
    "duration": 195,
    "start_time": "2023-03-19T11:48:39.286Z"
   },
   {
    "duration": 184,
    "start_time": "2023-03-19T11:48:39.483Z"
   },
   {
    "duration": 20,
    "start_time": "2023-03-19T11:48:39.675Z"
   },
   {
    "duration": 408,
    "start_time": "2023-03-19T11:48:39.697Z"
   },
   {
    "duration": 13,
    "start_time": "2023-03-19T11:48:40.107Z"
   },
   {
    "duration": 14,
    "start_time": "2023-03-19T11:48:40.121Z"
   },
   {
    "duration": 57,
    "start_time": "2023-03-19T11:48:40.136Z"
   },
   {
    "duration": 16,
    "start_time": "2023-03-19T11:48:40.195Z"
   },
   {
    "duration": 425,
    "start_time": "2023-03-19T11:49:46.444Z"
   },
   {
    "duration": 30,
    "start_time": "2023-03-19T11:49:46.871Z"
   },
   {
    "duration": 4,
    "start_time": "2023-03-19T11:49:46.903Z"
   },
   {
    "duration": 16,
    "start_time": "2023-03-19T11:49:46.909Z"
   },
   {
    "duration": 6,
    "start_time": "2023-03-19T11:49:46.926Z"
   },
   {
    "duration": 14,
    "start_time": "2023-03-19T11:49:46.934Z"
   },
   {
    "duration": 5,
    "start_time": "2023-03-19T11:49:46.949Z"
   },
   {
    "duration": 29,
    "start_time": "2023-03-19T11:49:46.955Z"
   },
   {
    "duration": 670,
    "start_time": "2023-03-19T11:49:46.986Z"
   },
   {
    "duration": 55,
    "start_time": "2023-03-19T11:49:47.659Z"
   },
   {
    "duration": 75,
    "start_time": "2023-03-19T11:49:47.716Z"
   },
   {
    "duration": 17,
    "start_time": "2023-03-19T11:49:47.793Z"
   },
   {
    "duration": 13,
    "start_time": "2023-03-19T11:49:47.812Z"
   },
   {
    "duration": 10,
    "start_time": "2023-03-19T11:49:47.826Z"
   },
   {
    "duration": 9,
    "start_time": "2023-03-19T11:49:47.838Z"
   },
   {
    "duration": 34,
    "start_time": "2023-03-19T11:49:47.848Z"
   },
   {
    "duration": 21,
    "start_time": "2023-03-19T11:49:47.883Z"
   },
   {
    "duration": 15,
    "start_time": "2023-03-19T11:49:47.906Z"
   },
   {
    "duration": 15,
    "start_time": "2023-03-19T11:49:47.923Z"
   },
   {
    "duration": 28,
    "start_time": "2023-03-19T11:49:47.940Z"
   },
   {
    "duration": 10,
    "start_time": "2023-03-19T11:49:47.970Z"
   },
   {
    "duration": 20,
    "start_time": "2023-03-19T11:49:47.982Z"
   },
   {
    "duration": 16,
    "start_time": "2023-03-19T11:49:48.004Z"
   },
   {
    "duration": 45,
    "start_time": "2023-03-19T11:49:48.022Z"
   },
   {
    "duration": 23,
    "start_time": "2023-03-19T11:49:48.069Z"
   },
   {
    "duration": 304,
    "start_time": "2023-03-19T11:49:48.094Z"
   },
   {
    "duration": 4,
    "start_time": "2023-03-19T11:49:48.400Z"
   },
   {
    "duration": 8,
    "start_time": "2023-03-19T11:49:48.408Z"
   },
   {
    "duration": 382,
    "start_time": "2023-03-19T11:49:48.417Z"
   },
   {
    "duration": 273,
    "start_time": "2023-03-19T11:49:48.801Z"
   },
   {
    "duration": 360,
    "start_time": "2023-03-19T11:49:49.077Z"
   },
   {
    "duration": 313,
    "start_time": "2023-03-19T11:49:49.439Z"
   },
   {
    "duration": 421,
    "start_time": "2023-03-19T11:49:49.754Z"
   },
   {
    "duration": 183,
    "start_time": "2023-03-19T11:49:50.177Z"
   },
   {
    "duration": 18,
    "start_time": "2023-03-19T11:49:50.362Z"
   },
   {
    "duration": 203,
    "start_time": "2023-03-19T11:49:50.382Z"
   },
   {
    "duration": 192,
    "start_time": "2023-03-19T11:49:50.587Z"
   },
   {
    "duration": 10,
    "start_time": "2023-03-19T11:49:50.781Z"
   },
   {
    "duration": 402,
    "start_time": "2023-03-19T11:49:50.792Z"
   },
   {
    "duration": 14,
    "start_time": "2023-03-19T11:49:51.196Z"
   },
   {
    "duration": 14,
    "start_time": "2023-03-19T11:49:51.212Z"
   },
   {
    "duration": 50,
    "start_time": "2023-03-19T11:49:51.227Z"
   },
   {
    "duration": 20,
    "start_time": "2023-03-19T11:49:51.280Z"
   },
   {
    "duration": 397,
    "start_time": "2023-03-19T14:48:41.878Z"
   },
   {
    "duration": 25,
    "start_time": "2023-03-19T14:48:42.277Z"
   },
   {
    "duration": 4,
    "start_time": "2023-03-19T14:48:42.303Z"
   },
   {
    "duration": 17,
    "start_time": "2023-03-19T14:48:42.308Z"
   },
   {
    "duration": 4,
    "start_time": "2023-03-19T14:48:42.327Z"
   },
   {
    "duration": 10,
    "start_time": "2023-03-19T14:48:42.333Z"
   },
   {
    "duration": 5,
    "start_time": "2023-03-19T14:48:42.345Z"
   },
   {
    "duration": 9,
    "start_time": "2023-03-19T14:48:42.356Z"
   },
   {
    "duration": 576,
    "start_time": "2023-03-19T14:48:42.367Z"
   },
   {
    "duration": 47,
    "start_time": "2023-03-19T14:48:42.945Z"
   },
   {
    "duration": 52,
    "start_time": "2023-03-19T14:48:42.994Z"
   },
   {
    "duration": 15,
    "start_time": "2023-03-19T14:48:43.048Z"
   },
   {
    "duration": 6,
    "start_time": "2023-03-19T14:48:43.064Z"
   },
   {
    "duration": 8,
    "start_time": "2023-03-19T14:48:43.071Z"
   },
   {
    "duration": 6,
    "start_time": "2023-03-19T14:48:43.081Z"
   },
   {
    "duration": 6,
    "start_time": "2023-03-19T14:48:43.088Z"
   },
   {
    "duration": 7,
    "start_time": "2023-03-19T14:48:43.095Z"
   },
   {
    "duration": 9,
    "start_time": "2023-03-19T14:48:43.103Z"
   },
   {
    "duration": 8,
    "start_time": "2023-03-19T14:48:43.113Z"
   },
   {
    "duration": 35,
    "start_time": "2023-03-19T14:48:43.123Z"
   },
   {
    "duration": 8,
    "start_time": "2023-03-19T14:48:43.159Z"
   },
   {
    "duration": 7,
    "start_time": "2023-03-19T14:48:43.168Z"
   },
   {
    "duration": 9,
    "start_time": "2023-03-19T14:48:43.176Z"
   },
   {
    "duration": 9,
    "start_time": "2023-03-19T14:48:43.186Z"
   },
   {
    "duration": 6,
    "start_time": "2023-03-19T14:48:43.196Z"
   },
   {
    "duration": 270,
    "start_time": "2023-03-19T14:48:43.203Z"
   },
   {
    "duration": 4,
    "start_time": "2023-03-19T14:48:43.475Z"
   },
   {
    "duration": 6,
    "start_time": "2023-03-19T14:48:43.482Z"
   },
   {
    "duration": 324,
    "start_time": "2023-03-19T14:48:43.489Z"
   },
   {
    "duration": 232,
    "start_time": "2023-03-19T14:48:43.815Z"
   },
   {
    "duration": 347,
    "start_time": "2023-03-19T14:48:44.048Z"
   },
   {
    "duration": 253,
    "start_time": "2023-03-19T14:48:44.397Z"
   },
   {
    "duration": 354,
    "start_time": "2023-03-19T14:48:44.656Z"
   },
   {
    "duration": 156,
    "start_time": "2023-03-19T14:48:45.011Z"
   },
   {
    "duration": 8,
    "start_time": "2023-03-19T14:48:45.169Z"
   },
   {
    "duration": 201,
    "start_time": "2023-03-19T14:48:45.178Z"
   },
   {
    "duration": 205,
    "start_time": "2023-03-19T14:48:45.381Z"
   },
   {
    "duration": 14,
    "start_time": "2023-03-19T14:48:45.588Z"
   },
   {
    "duration": 359,
    "start_time": "2023-03-19T14:48:45.604Z"
   },
   {
    "duration": 11,
    "start_time": "2023-03-19T14:48:45.964Z"
   },
   {
    "duration": 8,
    "start_time": "2023-03-19T14:48:45.977Z"
   },
   {
    "duration": 27,
    "start_time": "2023-03-19T14:48:45.987Z"
   },
   {
    "duration": 11,
    "start_time": "2023-03-19T14:48:46.016Z"
   }
  ],
  "kernelspec": {
   "display_name": "Python 3 (ipykernel)",
   "language": "python",
   "name": "python3"
  },
  "language_info": {
   "codemirror_mode": {
    "name": "ipython",
    "version": 3
   },
   "file_extension": ".py",
   "mimetype": "text/x-python",
   "name": "python",
   "nbconvert_exporter": "python",
   "pygments_lexer": "ipython3",
   "version": "3.9.13"
  },
  "toc": {
   "base_numbering": 1,
   "nav_menu": {},
   "number_sections": true,
   "sideBar": true,
   "skip_h1_title": true,
   "title_cell": "Table of Contents",
   "title_sidebar": "Contents",
   "toc_cell": false,
   "toc_position": {
    "height": "calc(100% - 180px)",
    "left": "10px",
    "top": "150px",
    "width": "502.188px"
   },
   "toc_section_display": true,
   "toc_window_display": false
  }
 },
 "nbformat": 4,
 "nbformat_minor": 2
}

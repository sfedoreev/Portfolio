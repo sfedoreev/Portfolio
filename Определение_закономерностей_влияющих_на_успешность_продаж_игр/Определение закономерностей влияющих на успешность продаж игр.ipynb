{
 "cells": [
  {
   "cell_type": "markdown",
   "metadata": {},
   "source": [
    "# Интернет-магазин компьютерных игр\n",
    "\n",
    "**Описание проекта**\n",
    "\n",
    "Интернет-магазин «Стримчик» продаёт по всему миру компьютерные игры. Из открытых источников доступны исторические данные о продажах игр, оценки пользователей и экспертов, жанры и платформы (например, Xbox или PlayStation). Нам нужно выявить определяющие успешность игры закономерности. Это позволит сделать ставку на потенциально популярный продукт и спланировать рекламные кампании.\n",
    "\n",
    "Перед нами данные до 2016 года. Представим, что сейчас декабрь 2016 г., и мы планируем кампанию на 2017-й. Нужно отработать принцип работы с данными. Не важно, прогнозируем ли мы продажи на 2017 год по данным 2016-го или же 2027-й — по данным 2026 года.\n",
    "\n",
    "В наборе данных попадается аббревиатура ESRB (Entertainment Software Rating Board) — это ассоциация, определяющая возрастной рейтинг компьютерных игр. ESRB оценивает игровой контент и присваивает ему подходящую возрастную категорию, например, «Для взрослых», «Для детей младшего возраста» или «Для подростков».\n",
    "\n",
    "**План работы:**\n",
    "\n",
    "1. Изучение общей информации\n",
    "\n",
    "2. Подготовка данных\n",
    "\n",
    "3. Исследовательский анализ данных\n",
    "\n",
    "4. Портрет пользователя каждого региона\n",
    "\n",
    "5. Проверка гипотезы\n",
    "\n",
    "**Описание данных**\n",
    "\n",
    "- Name — название игры\n",
    "- Platform — платформа\n",
    "- Year_of_Release — год выпуска\n",
    "- Genre — жанр игры\n",
    "- NA_sales — продажи в Северной Америке (миллионы проданных копий)\n",
    "- EU_sales — продажи в Европе (миллионы проданных копий)\n",
    "- JP_sales — продажи в Японии (миллионы проданных копий)\n",
    "- Other_sales — продажи в других странах (миллионы проданных копий)\n",
    "- Critic_Score — оценка критиков (максимум 100)\n",
    "- User_Score — оценка пользователей (максимум 10)\n",
    "- Rating — рейтинг от организации ESRB (англ. Entertainment Software Rating Board). Эта ассоциация определяет рейтинг компьютерных игр и присваивает им подходящую возрастную категорию.\n",
    "\n",
    "Данные за 2016 год могут быть неполными."
   ]
  },
  {
   "cell_type": "markdown",
   "metadata": {},
   "source": [
    "### 1. Откроем файл с данными и изучим общую информацию"
   ]
  },
  {
   "cell_type": "code",
   "execution_count": 1,
   "metadata": {},
   "outputs": [],
   "source": [
    "import pandas as pd\n",
    "import matplotlib.pyplot as plt\n",
    "import numpy as np\n",
    "import seaborn as sns\n",
    "import warnings\n",
    "from scipy import stats as st\n",
    "warnings.filterwarnings('ignore')"
   ]
  },
  {
   "cell_type": "code",
   "execution_count": 2,
   "metadata": {},
   "outputs": [],
   "source": [
    "data=pd.read_csv('/datasets/games.csv', sep=',') # загрузим данные из датафрейма"
   ]
  },
  {
   "cell_type": "code",
   "execution_count": 3,
   "metadata": {},
   "outputs": [
    {
     "data": {
      "text/html": [
       "<div>\n",
       "<style scoped>\n",
       "    .dataframe tbody tr th:only-of-type {\n",
       "        vertical-align: middle;\n",
       "    }\n",
       "\n",
       "    .dataframe tbody tr th {\n",
       "        vertical-align: top;\n",
       "    }\n",
       "\n",
       "    .dataframe thead th {\n",
       "        text-align: right;\n",
       "    }\n",
       "</style>\n",
       "<table border=\"1\" class=\"dataframe\">\n",
       "  <thead>\n",
       "    <tr style=\"text-align: right;\">\n",
       "      <th></th>\n",
       "      <th>Name</th>\n",
       "      <th>Platform</th>\n",
       "      <th>Year_of_Release</th>\n",
       "      <th>Genre</th>\n",
       "      <th>NA_sales</th>\n",
       "      <th>EU_sales</th>\n",
       "      <th>JP_sales</th>\n",
       "      <th>Other_sales</th>\n",
       "      <th>Critic_Score</th>\n",
       "      <th>User_Score</th>\n",
       "      <th>Rating</th>\n",
       "    </tr>\n",
       "  </thead>\n",
       "  <tbody>\n",
       "    <tr>\n",
       "      <th>0</th>\n",
       "      <td>Wii Sports</td>\n",
       "      <td>Wii</td>\n",
       "      <td>2006.0</td>\n",
       "      <td>Sports</td>\n",
       "      <td>41.36</td>\n",
       "      <td>28.96</td>\n",
       "      <td>3.77</td>\n",
       "      <td>8.45</td>\n",
       "      <td>76.0</td>\n",
       "      <td>8</td>\n",
       "      <td>E</td>\n",
       "    </tr>\n",
       "    <tr>\n",
       "      <th>1</th>\n",
       "      <td>Super Mario Bros.</td>\n",
       "      <td>NES</td>\n",
       "      <td>1985.0</td>\n",
       "      <td>Platform</td>\n",
       "      <td>29.08</td>\n",
       "      <td>3.58</td>\n",
       "      <td>6.81</td>\n",
       "      <td>0.77</td>\n",
       "      <td>NaN</td>\n",
       "      <td>NaN</td>\n",
       "      <td>NaN</td>\n",
       "    </tr>\n",
       "    <tr>\n",
       "      <th>2</th>\n",
       "      <td>Mario Kart Wii</td>\n",
       "      <td>Wii</td>\n",
       "      <td>2008.0</td>\n",
       "      <td>Racing</td>\n",
       "      <td>15.68</td>\n",
       "      <td>12.76</td>\n",
       "      <td>3.79</td>\n",
       "      <td>3.29</td>\n",
       "      <td>82.0</td>\n",
       "      <td>8.3</td>\n",
       "      <td>E</td>\n",
       "    </tr>\n",
       "    <tr>\n",
       "      <th>3</th>\n",
       "      <td>Wii Sports Resort</td>\n",
       "      <td>Wii</td>\n",
       "      <td>2009.0</td>\n",
       "      <td>Sports</td>\n",
       "      <td>15.61</td>\n",
       "      <td>10.93</td>\n",
       "      <td>3.28</td>\n",
       "      <td>2.95</td>\n",
       "      <td>80.0</td>\n",
       "      <td>8</td>\n",
       "      <td>E</td>\n",
       "    </tr>\n",
       "    <tr>\n",
       "      <th>4</th>\n",
       "      <td>Pokemon Red/Pokemon Blue</td>\n",
       "      <td>GB</td>\n",
       "      <td>1996.0</td>\n",
       "      <td>Role-Playing</td>\n",
       "      <td>11.27</td>\n",
       "      <td>8.89</td>\n",
       "      <td>10.22</td>\n",
       "      <td>1.00</td>\n",
       "      <td>NaN</td>\n",
       "      <td>NaN</td>\n",
       "      <td>NaN</td>\n",
       "    </tr>\n",
       "    <tr>\n",
       "      <th>5</th>\n",
       "      <td>Tetris</td>\n",
       "      <td>GB</td>\n",
       "      <td>1989.0</td>\n",
       "      <td>Puzzle</td>\n",
       "      <td>23.20</td>\n",
       "      <td>2.26</td>\n",
       "      <td>4.22</td>\n",
       "      <td>0.58</td>\n",
       "      <td>NaN</td>\n",
       "      <td>NaN</td>\n",
       "      <td>NaN</td>\n",
       "    </tr>\n",
       "    <tr>\n",
       "      <th>6</th>\n",
       "      <td>New Super Mario Bros.</td>\n",
       "      <td>DS</td>\n",
       "      <td>2006.0</td>\n",
       "      <td>Platform</td>\n",
       "      <td>11.28</td>\n",
       "      <td>9.14</td>\n",
       "      <td>6.50</td>\n",
       "      <td>2.88</td>\n",
       "      <td>89.0</td>\n",
       "      <td>8.5</td>\n",
       "      <td>E</td>\n",
       "    </tr>\n",
       "    <tr>\n",
       "      <th>7</th>\n",
       "      <td>Wii Play</td>\n",
       "      <td>Wii</td>\n",
       "      <td>2006.0</td>\n",
       "      <td>Misc</td>\n",
       "      <td>13.96</td>\n",
       "      <td>9.18</td>\n",
       "      <td>2.93</td>\n",
       "      <td>2.84</td>\n",
       "      <td>58.0</td>\n",
       "      <td>6.6</td>\n",
       "      <td>E</td>\n",
       "    </tr>\n",
       "    <tr>\n",
       "      <th>8</th>\n",
       "      <td>New Super Mario Bros. Wii</td>\n",
       "      <td>Wii</td>\n",
       "      <td>2009.0</td>\n",
       "      <td>Platform</td>\n",
       "      <td>14.44</td>\n",
       "      <td>6.94</td>\n",
       "      <td>4.70</td>\n",
       "      <td>2.24</td>\n",
       "      <td>87.0</td>\n",
       "      <td>8.4</td>\n",
       "      <td>E</td>\n",
       "    </tr>\n",
       "    <tr>\n",
       "      <th>9</th>\n",
       "      <td>Duck Hunt</td>\n",
       "      <td>NES</td>\n",
       "      <td>1984.0</td>\n",
       "      <td>Shooter</td>\n",
       "      <td>26.93</td>\n",
       "      <td>0.63</td>\n",
       "      <td>0.28</td>\n",
       "      <td>0.47</td>\n",
       "      <td>NaN</td>\n",
       "      <td>NaN</td>\n",
       "      <td>NaN</td>\n",
       "    </tr>\n",
       "  </tbody>\n",
       "</table>\n",
       "</div>"
      ],
      "text/plain": [
       "                        Name Platform  Year_of_Release         Genre  \\\n",
       "0                 Wii Sports      Wii           2006.0        Sports   \n",
       "1          Super Mario Bros.      NES           1985.0      Platform   \n",
       "2             Mario Kart Wii      Wii           2008.0        Racing   \n",
       "3          Wii Sports Resort      Wii           2009.0        Sports   \n",
       "4   Pokemon Red/Pokemon Blue       GB           1996.0  Role-Playing   \n",
       "5                     Tetris       GB           1989.0        Puzzle   \n",
       "6      New Super Mario Bros.       DS           2006.0      Platform   \n",
       "7                   Wii Play      Wii           2006.0          Misc   \n",
       "8  New Super Mario Bros. Wii      Wii           2009.0      Platform   \n",
       "9                  Duck Hunt      NES           1984.0       Shooter   \n",
       "\n",
       "   NA_sales  EU_sales  JP_sales  Other_sales  Critic_Score User_Score Rating  \n",
       "0     41.36     28.96      3.77         8.45          76.0          8      E  \n",
       "1     29.08      3.58      6.81         0.77           NaN        NaN    NaN  \n",
       "2     15.68     12.76      3.79         3.29          82.0        8.3      E  \n",
       "3     15.61     10.93      3.28         2.95          80.0          8      E  \n",
       "4     11.27      8.89     10.22         1.00           NaN        NaN    NaN  \n",
       "5     23.20      2.26      4.22         0.58           NaN        NaN    NaN  \n",
       "6     11.28      9.14      6.50         2.88          89.0        8.5      E  \n",
       "7     13.96      9.18      2.93         2.84          58.0        6.6      E  \n",
       "8     14.44      6.94      4.70         2.24          87.0        8.4      E  \n",
       "9     26.93      0.63      0.28         0.47           NaN        NaN    NaN  "
      ]
     },
     "execution_count": 3,
     "metadata": {},
     "output_type": "execute_result"
    }
   ],
   "source": [
    "# Изучим исходный датафрейм, выведем первые 10 строчек\n",
    "data.head(10)"
   ]
  },
  {
   "cell_type": "code",
   "execution_count": 4,
   "metadata": {},
   "outputs": [
    {
     "name": "stdout",
     "output_type": "stream",
     "text": [
      "<class 'pandas.core.frame.DataFrame'>\n",
      "RangeIndex: 16715 entries, 0 to 16714\n",
      "Data columns (total 11 columns):\n",
      " #   Column           Non-Null Count  Dtype  \n",
      "---  ------           --------------  -----  \n",
      " 0   Name             16713 non-null  object \n",
      " 1   Platform         16715 non-null  object \n",
      " 2   Year_of_Release  16446 non-null  float64\n",
      " 3   Genre            16713 non-null  object \n",
      " 4   NA_sales         16715 non-null  float64\n",
      " 5   EU_sales         16715 non-null  float64\n",
      " 6   JP_sales         16715 non-null  float64\n",
      " 7   Other_sales      16715 non-null  float64\n",
      " 8   Critic_Score     8137 non-null   float64\n",
      " 9   User_Score       10014 non-null  object \n",
      " 10  Rating           9949 non-null   object \n",
      "dtypes: float64(6), object(5)\n",
      "memory usage: 1.4+ MB\n"
     ]
    }
   ],
   "source": [
    "# Изучим исходную информацию датафрейма\n",
    "data.info() "
   ]
  },
  {
   "cell_type": "code",
   "execution_count": 5,
   "metadata": {},
   "outputs": [
    {
     "data": {
      "image/png": "[encoded data removed]",
      "text/plain": [
       "<Figure size 1080x1440 with 6 Axes>"
      ]
     },
     "metadata": {
      "needs_background": "light"
     },
     "output_type": "display_data"
    }
   ],
   "source": [
    "# Построим общую гистограмму для всех числовых столбцов таблицы\n",
    "data.hist(figsize=(15, 20)); "
   ]
  },
  {
   "cell_type": "markdown",
   "metadata": {},
   "source": [
    "### 2. Предобработка данных"
   ]
  },
  {
   "cell_type": "markdown",
   "metadata": {},
   "source": [
    "#### 2.1 Замена названий столбцов (приведем к нижнему регистру)"
   ]
  },
  {
   "cell_type": "code",
   "execution_count": 6,
   "metadata": {},
   "outputs": [],
   "source": [
    "data.columns = data.columns.str.lower()"
   ]
  },
  {
   "cell_type": "code",
   "execution_count": 7,
   "metadata": {},
   "outputs": [
    {
     "data": {
      "text/html": [
       "<div>\n",
       "<style scoped>\n",
       "    .dataframe tbody tr th:only-of-type {\n",
       "        vertical-align: middle;\n",
       "    }\n",
       "\n",
       "    .dataframe tbody tr th {\n",
       "        vertical-align: top;\n",
       "    }\n",
       "\n",
       "    .dataframe thead th {\n",
       "        text-align: right;\n",
       "    }\n",
       "</style>\n",
       "<table border=\"1\" class=\"dataframe\">\n",
       "  <thead>\n",
       "    <tr style=\"text-align: right;\">\n",
       "      <th></th>\n",
       "      <th>name</th>\n",
       "      <th>platform</th>\n",
       "      <th>year_of_release</th>\n",
       "      <th>genre</th>\n",
       "      <th>na_sales</th>\n",
       "      <th>eu_sales</th>\n",
       "      <th>jp_sales</th>\n",
       "      <th>other_sales</th>\n",
       "      <th>critic_score</th>\n",
       "      <th>user_score</th>\n",
       "      <th>rating</th>\n",
       "    </tr>\n",
       "  </thead>\n",
       "  <tbody>\n",
       "    <tr>\n",
       "      <th>0</th>\n",
       "      <td>Wii Sports</td>\n",
       "      <td>Wii</td>\n",
       "      <td>2006.0</td>\n",
       "      <td>Sports</td>\n",
       "      <td>41.36</td>\n",
       "      <td>28.96</td>\n",
       "      <td>3.77</td>\n",
       "      <td>8.45</td>\n",
       "      <td>76.0</td>\n",
       "      <td>8</td>\n",
       "      <td>E</td>\n",
       "    </tr>\n",
       "    <tr>\n",
       "      <th>1</th>\n",
       "      <td>Super Mario Bros.</td>\n",
       "      <td>NES</td>\n",
       "      <td>1985.0</td>\n",
       "      <td>Platform</td>\n",
       "      <td>29.08</td>\n",
       "      <td>3.58</td>\n",
       "      <td>6.81</td>\n",
       "      <td>0.77</td>\n",
       "      <td>NaN</td>\n",
       "      <td>NaN</td>\n",
       "      <td>NaN</td>\n",
       "    </tr>\n",
       "    <tr>\n",
       "      <th>2</th>\n",
       "      <td>Mario Kart Wii</td>\n",
       "      <td>Wii</td>\n",
       "      <td>2008.0</td>\n",
       "      <td>Racing</td>\n",
       "      <td>15.68</td>\n",
       "      <td>12.76</td>\n",
       "      <td>3.79</td>\n",
       "      <td>3.29</td>\n",
       "      <td>82.0</td>\n",
       "      <td>8.3</td>\n",
       "      <td>E</td>\n",
       "    </tr>\n",
       "    <tr>\n",
       "      <th>3</th>\n",
       "      <td>Wii Sports Resort</td>\n",
       "      <td>Wii</td>\n",
       "      <td>2009.0</td>\n",
       "      <td>Sports</td>\n",
       "      <td>15.61</td>\n",
       "      <td>10.93</td>\n",
       "      <td>3.28</td>\n",
       "      <td>2.95</td>\n",
       "      <td>80.0</td>\n",
       "      <td>8</td>\n",
       "      <td>E</td>\n",
       "    </tr>\n",
       "    <tr>\n",
       "      <th>4</th>\n",
       "      <td>Pokemon Red/Pokemon Blue</td>\n",
       "      <td>GB</td>\n",
       "      <td>1996.0</td>\n",
       "      <td>Role-Playing</td>\n",
       "      <td>11.27</td>\n",
       "      <td>8.89</td>\n",
       "      <td>10.22</td>\n",
       "      <td>1.00</td>\n",
       "      <td>NaN</td>\n",
       "      <td>NaN</td>\n",
       "      <td>NaN</td>\n",
       "    </tr>\n",
       "  </tbody>\n",
       "</table>\n",
       "</div>"
      ],
      "text/plain": [
       "                       name platform  year_of_release         genre  na_sales  \\\n",
       "0                Wii Sports      Wii           2006.0        Sports     41.36   \n",
       "1         Super Mario Bros.      NES           1985.0      Platform     29.08   \n",
       "2            Mario Kart Wii      Wii           2008.0        Racing     15.68   \n",
       "3         Wii Sports Resort      Wii           2009.0        Sports     15.61   \n",
       "4  Pokemon Red/Pokemon Blue       GB           1996.0  Role-Playing     11.27   \n",
       "\n",
       "   eu_sales  jp_sales  other_sales  critic_score user_score rating  \n",
       "0     28.96      3.77         8.45          76.0          8      E  \n",
       "1      3.58      6.81         0.77           NaN        NaN    NaN  \n",
       "2     12.76      3.79         3.29          82.0        8.3      E  \n",
       "3     10.93      3.28         2.95          80.0          8      E  \n",
       "4      8.89     10.22         1.00           NaN        NaN    NaN  "
      ]
     },
     "execution_count": 7,
     "metadata": {},
     "output_type": "execute_result"
    }
   ],
   "source": [
    "data.head(5) # проверим названия столбцов"
   ]
  },
  {
   "cell_type": "markdown",
   "metadata": {},
   "source": [
    "#### 2.2 Определение пропущенных значений"
   ]
  },
  {
   "cell_type": "markdown",
   "metadata": {},
   "source": [
    "##### 2.2.1 Определение в каких столбцах есть пропуски"
   ]
  },
  {
   "cell_type": "code",
   "execution_count": 8,
   "metadata": {},
   "outputs": [
    {
     "data": {
      "text/plain": [
       "name                  2\n",
       "platform              0\n",
       "year_of_release     269\n",
       "genre                 2\n",
       "na_sales              0\n",
       "eu_sales              0\n",
       "jp_sales              0\n",
       "other_sales           0\n",
       "critic_score       8578\n",
       "user_score         6701\n",
       "rating             6766\n",
       "dtype: int64"
      ]
     },
     "execution_count": 8,
     "metadata": {},
     "output_type": "execute_result"
    }
   ],
   "source": [
    "data.isna().sum()"
   ]
  },
  {
   "cell_type": "code",
   "execution_count": 9,
   "metadata": {},
   "outputs": [],
   "source": [
    "# Пропущенные значения бары\n",
    "\n",
    "def pass_value_barh(df):\n",
    "    try:\n",
    "        (\n",
    "            (df.isna().mean()*100)\n",
    "            .to_frame()\n",
    "            .rename(columns = {0:'space'})\n",
    "            .query('space > 0')\n",
    "            .sort_values(by = 'space', ascending = True)\n",
    "            .plot(kind = 'barh', figsize = (25,6), rot = -5, legend = False, fontsize = 20)\n",
    "            .set_title('Пропущенные значения' + \"\\n\", fontsize = 22, color = 'SteelBlue')    \n",
    "        );    \n",
    "    except:\n",
    "        print('пропусков не осталось :) ')"
   ]
  },
  {
   "cell_type": "code",
   "execution_count": 10,
   "metadata": {},
   "outputs": [
    {
     "data": {
      "image/png": "[encoded data removed]",
      "text/plain": [
       "<Figure size 1800x432 with 1 Axes>"
      ]
     },
     "metadata": {
      "needs_background": "light"
     },
     "output_type": "display_data"
    }
   ],
   "source": [
    "pass_value_barh(data)"
   ]
  },
  {
   "cell_type": "code",
   "execution_count": 11,
   "metadata": {},
   "outputs": [
    {
     "data": {
      "text/plain": [
       "0"
      ]
     },
     "execution_count": 11,
     "metadata": {},
     "output_type": "execute_result"
    }
   ],
   "source": [
    "#Посчитаем количество дубликатов\n",
    "data.duplicated().sum()"
   ]
  },
  {
   "cell_type": "markdown",
   "metadata": {},
   "source": [
    "##### 2.2.2 Заполнение пропущенных значений"
   ]
  },
  {
   "cell_type": "code",
   "execution_count": 12,
   "metadata": {},
   "outputs": [],
   "source": [
    "# Удаляем записи, где отсутствует название игры name\n",
    "data.dropna(subset=['name'], inplace=True)"
   ]
  },
  {
   "cell_type": "code",
   "execution_count": 13,
   "metadata": {},
   "outputs": [],
   "source": [
    "# Удаляем записи, где отсутствует год выпуска игры year_of_release\n",
    "data.dropna(subset=['year_of_release'], inplace=True)"
   ]
  },
  {
   "cell_type": "code",
   "execution_count": 14,
   "metadata": {},
   "outputs": [],
   "source": [
    "# Удаляем записи, где отсутствует жанр игры genre\n",
    "data.dropna(subset=['genre'], inplace=True)"
   ]
  },
  {
   "cell_type": "code",
   "execution_count": 15,
   "metadata": {},
   "outputs": [],
   "source": [
    "# Так как в столбце user_score значение 'tbd' фактически и является NaN, заменим 'tbd' на NaN\n",
    "data['user_score'] = data['user_score'].replace('tbd', np.NaN)"
   ]
  },
  {
   "cell_type": "code",
   "execution_count": 16,
   "metadata": {},
   "outputs": [],
   "source": [
    "# Заменим пропущенные значения в столбце rating \n",
    "data['rating'] = data['rating'].fillna('неизвестно')"
   ]
  },
  {
   "cell_type": "code",
   "execution_count": 17,
   "metadata": {},
   "outputs": [
    {
     "data": {
      "text/plain": [
       "name                  0\n",
       "platform              0\n",
       "year_of_release       0\n",
       "genre                 0\n",
       "na_sales              0\n",
       "eu_sales              0\n",
       "jp_sales              0\n",
       "other_sales           0\n",
       "critic_score       8461\n",
       "user_score         8981\n",
       "rating                0\n",
       "dtype: int64"
      ]
     },
     "execution_count": 17,
     "metadata": {},
     "output_type": "execute_result"
    }
   ],
   "source": [
    "data.isna().sum()"
   ]
  },
  {
   "cell_type": "markdown",
   "metadata": {},
   "source": [
    "#### 2.3 Рассмотрение типов данных в каждом столбце"
   ]
  },
  {
   "cell_type": "code",
   "execution_count": 18,
   "metadata": {},
   "outputs": [],
   "source": [
    "# Приводим в целочисленный тип столбец год выпуска year_of_release\n",
    "data['year_of_release'] = data['year_of_release'].astype('Int64')"
   ]
  },
  {
   "cell_type": "code",
   "execution_count": 19,
   "metadata": {},
   "outputs": [],
   "source": [
    "# Приводим к вещественному типу столбец оценка пользователей user_score\n",
    "data['user_score'] = data['user_score'].astype(float)"
   ]
  },
  {
   "cell_type": "markdown",
   "metadata": {},
   "source": [
    "#### 2.4 Посчет суммарных продаж во всех регионах"
   ]
  },
  {
   "cell_type": "code",
   "execution_count": 20,
   "metadata": {},
   "outputs": [],
   "source": [
    "data['total_sales'] = data['na_sales'] + data['eu_sales'] + data['jp_sales'] + data['other_sales'] # сумму запишем в отдельный столбец total_sales "
   ]
  },
  {
   "cell_type": "markdown",
   "metadata": {},
   "source": [
    "### 3. Исследовательский анализ данных"
   ]
  },
  {
   "cell_type": "markdown",
   "metadata": {},
   "source": [
    "#### 3.1 Рассмотрим, сколько игр выпускалось в разные годы"
   ]
  },
  {
   "cell_type": "code",
   "execution_count": 22,
   "metadata": {},
   "outputs": [
    {
     "data": {
      "image/png": "[encoded data removed]",
      "text/plain": [
       "<Figure size 720x216 with 1 Axes>"
      ]
     },
     "metadata": {
      "needs_background": "light"
     },
     "output_type": "display_data"
    }
   ],
   "source": [
    "data.year_of_release.hist(bins = 100, figsize = (10,3));\n",
    "plt.title('Количество игр выпущенных в разные годы')\n",
    "plt.xlabel('Год')\n",
    "plt.ylabel('Количество игр');"
   ]
  },
  {
   "cell_type": "markdown",
   "metadata": {},
   "source": [
    "**Вывод:** Из графика видно, что количество игр на компьютеры и игровые приставки начало расти с 90-ых годов до 2008 года. В 2008-09 годах наблюдается пик. После чего начался спад, связанный с развитием мобильных устройств."
   ]
  },
  {
   "cell_type": "markdown",
   "metadata": {},
   "source": [
    "#### 3.2 Рассмотрим, как менялись продажи по платформам"
   ]
  },
  {
   "cell_type": "code",
   "execution_count": 23,
   "metadata": {},
   "outputs": [
    {
     "data": {
      "image/png": "[encoded data removed]",
      "text/plain": [
       "<Figure size 936x432 with 1 Axes>"
      ]
     },
     "metadata": {
      "needs_background": "light"
     },
     "output_type": "display_data"
    }
   ],
   "source": [
    "platform_on_sales = data.pivot_table(\n",
    "    index='platform', values='total_sales', aggfunc='sum').sort_values(by='total_sales', ascending=False)\n",
    "\n",
    "plt.figure(figsize=(13,6))\n",
    "sns.barplot(x=platform_on_sales.index,y=platform_on_sales['total_sales'])\n",
    "plt.title('Продажи по платформам за весь период')\n",
    "plt.xlabel('Название платформы')\n",
    "plt.ylabel('Количество продаж, млн')\n",
    "plt.xticks(rotation=45);"
   ]
  },
  {
   "cell_type": "markdown",
   "metadata": {},
   "source": [
    "**Вывод:** Из графика видно, что самые популярные игровые платформы за весь период это PS2, X360, PS3, WII, DS, PS."
   ]
  },
  {
   "cell_type": "code",
   "execution_count": 24,
   "metadata": {},
   "outputs": [],
   "source": [
    "# Напишем функцию, которая будет возвращать нужную сводную таблицу и выводить данные \n",
    "def year_total_sales_for_platform(name, data):\n",
    "    slicee = data[(data['platform'] == name)]\n",
    "    total = slicee.pivot_table(index='year_of_release', \n",
    "                               values='total_sales', \n",
    "                               aggfunc='sum').sort_values('year_of_release', ascending=False)\n",
    "    return total"
   ]
  },
  {
   "cell_type": "code",
   "execution_count": 25,
   "metadata": {},
   "outputs": [],
   "source": [
    "# Выведем таблицу по платформам и их обшим продажам, отсортируем по убыванию и оставим только топ-8\n",
    "top_8_platforms = data.pivot_table(index='platform', \n",
    "                                   values='total_sales', \n",
    "                                   aggfunc='sum').sort_values(by='total_sales', ascending=False).head(8)\n",
    "top_8_platforms = top_8_platforms.reset_index().rename_axis(None, axis=1)"
   ]
  },
  {
   "cell_type": "code",
   "execution_count": 26,
   "metadata": {},
   "outputs": [
    {
     "data": {
      "text/html": [
       "<div>\n",
       "<style scoped>\n",
       "    .dataframe tbody tr th:only-of-type {\n",
       "        vertical-align: middle;\n",
       "    }\n",
       "\n",
       "    .dataframe tbody tr th {\n",
       "        vertical-align: top;\n",
       "    }\n",
       "\n",
       "    .dataframe thead th {\n",
       "        text-align: right;\n",
       "    }\n",
       "</style>\n",
       "<table border=\"1\" class=\"dataframe\">\n",
       "  <thead>\n",
       "    <tr style=\"text-align: right;\">\n",
       "      <th></th>\n",
       "      <th>platform</th>\n",
       "      <th>total_sales</th>\n",
       "    </tr>\n",
       "  </thead>\n",
       "  <tbody>\n",
       "    <tr>\n",
       "      <th>0</th>\n",
       "      <td>PS2</td>\n",
       "      <td>1233.56</td>\n",
       "    </tr>\n",
       "    <tr>\n",
       "      <th>1</th>\n",
       "      <td>X360</td>\n",
       "      <td>961.24</td>\n",
       "    </tr>\n",
       "    <tr>\n",
       "      <th>2</th>\n",
       "      <td>PS3</td>\n",
       "      <td>931.34</td>\n",
       "    </tr>\n",
       "    <tr>\n",
       "      <th>3</th>\n",
       "      <td>Wii</td>\n",
       "      <td>891.18</td>\n",
       "    </tr>\n",
       "    <tr>\n",
       "      <th>4</th>\n",
       "      <td>DS</td>\n",
       "      <td>802.78</td>\n",
       "    </tr>\n",
       "    <tr>\n",
       "      <th>5</th>\n",
       "      <td>PS</td>\n",
       "      <td>727.58</td>\n",
       "    </tr>\n",
       "    <tr>\n",
       "      <th>6</th>\n",
       "      <td>PS4</td>\n",
       "      <td>314.14</td>\n",
       "    </tr>\n",
       "    <tr>\n",
       "      <th>7</th>\n",
       "      <td>GBA</td>\n",
       "      <td>312.88</td>\n",
       "    </tr>\n",
       "  </tbody>\n",
       "</table>\n",
       "</div>"
      ],
      "text/plain": [
       "  platform  total_sales\n",
       "0      PS2      1233.56\n",
       "1     X360       961.24\n",
       "2      PS3       931.34\n",
       "3      Wii       891.18\n",
       "4       DS       802.78\n",
       "5       PS       727.58\n",
       "6      PS4       314.14\n",
       "7      GBA       312.88"
      ]
     },
     "execution_count": 26,
     "metadata": {},
     "output_type": "execute_result"
    }
   ],
   "source": [
    "top_8_platforms"
   ]
  },
  {
   "cell_type": "code",
   "execution_count": 27,
   "metadata": {},
   "outputs": [
    {
     "data": {
      "image/png": "[encoded data removed]",
      "text/plain": [
       "<Figure size 864x432 with 1 Axes>"
      ]
     },
     "metadata": {
      "needs_background": "light"
     },
     "output_type": "display_data"
    }
   ],
   "source": [
    "# Отрисуем топ-8 игровых платформ и их поведение \n",
    "plt.figure(figsize=(12,6))\n",
    "plt.title('Количество продаж популярных игровых платформ')\n",
    "plt.xlabel('Год релиза')\n",
    "plt.ylabel('Количество продаж, млн')\n",
    "\n",
    "for i in list(top_8_platforms['platform']):\n",
    "    sns.lineplot(data=year_total_sales_for_platform(i,data)['total_sales'], label=i)\n",
    "    plt.legend()"
   ]
  },
  {
   "cell_type": "code",
   "execution_count": 28,
   "metadata": {},
   "outputs": [
    {
     "data": {
      "image/png": "[encoded data removed]",
      "text/plain": [
       "<Figure size 720x360 with 1 Axes>"
      ]
     },
     "metadata": {
      "needs_background": "light"
     },
     "output_type": "display_data"
    }
   ],
   "source": [
    "# Рассмотрим отдельно платформу DS, чтобы оценить выброс\n",
    "(\n",
    "    data.query('platform == \"DS\"').pivot_table(index='year_of_release', values='total_sales')\n",
    "    .plot(grid=True, style='o-', figsize=(10, 5))\n",
    ")\n",
    "plt.show()"
   ]
  },
  {
   "cell_type": "markdown",
   "metadata": {},
   "source": [
    "**Из графика видмо, что с 1985 по 2004 год платформа не выпускала игр. Удалим этот хвост.**"
   ]
  },
  {
   "cell_type": "code",
   "execution_count": 29,
   "metadata": {},
   "outputs": [],
   "source": [
    "# Устраним редкие и выбивающиеся аномалии столбца platform консоли DS\n",
    "data.drop(index=data.query(\"platform == 'DS' & year_of_release <= 2000\").index, inplace=True)"
   ]
  },
  {
   "cell_type": "code",
   "execution_count": 30,
   "metadata": {},
   "outputs": [
    {
     "data": {
      "image/png": "[encoded data removed]",
      "text/plain": [
       "<Figure size 864x432 with 1 Axes>"
      ]
     },
     "metadata": {
      "needs_background": "light"
     },
     "output_type": "display_data"
    }
   ],
   "source": [
    "# Отрисуем топ-8 игровых платформ и их поведение \n",
    "plt.figure(figsize=(12,6))\n",
    "plt.title('Количество продаж популярных игровых платформ')\n",
    "plt.xlabel('Год релиза')\n",
    "plt.ylabel('Количество продаж, млн')\n",
    "\n",
    "for i in list(top_8_platforms['platform']):\n",
    "    sns.lineplot(data=year_total_sales_for_platform(i,data)['total_sales'], label=i)\n",
    "    plt.legend()"
   ]
  },
  {
   "cell_type": "markdown",
   "metadata": {},
   "source": [
    "**Вывод:** Самые продаваемые платформы: PS2 и X360. В среднем каждые 5 лет появляются новые платформы. Глядя на график можно сказать, что игровые платформы существуют порядка 10 лет."
   ]
  },
  {
   "cell_type": "markdown",
   "metadata": {},
   "source": [
    "#### 3.3 Определение актуального периода "
   ]
  },
  {
   "cell_type": "markdown",
   "metadata": {},
   "source": [
    "Выберем актуальный период с 2014г. по 2016г., т.к. в этот промежуток времени представлены данные по всем популярным платформам."
   ]
  },
  {
   "cell_type": "code",
   "execution_count": 31,
   "metadata": {},
   "outputs": [],
   "source": [
    "# Оставим в выгрузке только нужные года и платформы\n",
    "data_actual = data.query(\"2014 <= year_of_release <= 2016\")"
   ]
  },
  {
   "cell_type": "markdown",
   "metadata": {},
   "source": [
    "#### 3.4 Построение графика \"ящик с усами\" по глобальным продажам игр в разбивке по платформам"
   ]
  },
  {
   "cell_type": "code",
   "execution_count": 32,
   "metadata": {},
   "outputs": [
    {
     "data": {
      "text/html": [
       "<div>\n",
       "<style scoped>\n",
       "    .dataframe tbody tr th:only-of-type {\n",
       "        vertical-align: middle;\n",
       "    }\n",
       "\n",
       "    .dataframe tbody tr th {\n",
       "        vertical-align: top;\n",
       "    }\n",
       "\n",
       "    .dataframe thead th {\n",
       "        text-align: right;\n",
       "    }\n",
       "</style>\n",
       "<table border=\"1\" class=\"dataframe\">\n",
       "  <thead>\n",
       "    <tr style=\"text-align: right;\">\n",
       "      <th></th>\n",
       "      <th>count</th>\n",
       "      <th>mean</th>\n",
       "      <th>std</th>\n",
       "      <th>min</th>\n",
       "      <th>25%</th>\n",
       "      <th>50%</th>\n",
       "      <th>75%</th>\n",
       "      <th>max</th>\n",
       "    </tr>\n",
       "    <tr>\n",
       "      <th>platform</th>\n",
       "      <th></th>\n",
       "      <th></th>\n",
       "      <th></th>\n",
       "      <th></th>\n",
       "      <th></th>\n",
       "      <th></th>\n",
       "      <th></th>\n",
       "      <th></th>\n",
       "    </tr>\n",
       "  </thead>\n",
       "  <tbody>\n",
       "    <tr>\n",
       "      <th>3DS</th>\n",
       "      <td>212.0</td>\n",
       "      <td>0.408868</td>\n",
       "      <td>1.188368</td>\n",
       "      <td>0.01</td>\n",
       "      <td>0.0300</td>\n",
       "      <td>0.090</td>\n",
       "      <td>0.2500</td>\n",
       "      <td>11.68</td>\n",
       "    </tr>\n",
       "    <tr>\n",
       "      <th>PC</th>\n",
       "      <td>151.0</td>\n",
       "      <td>0.179139</td>\n",
       "      <td>0.329359</td>\n",
       "      <td>0.01</td>\n",
       "      <td>0.0200</td>\n",
       "      <td>0.060</td>\n",
       "      <td>0.2000</td>\n",
       "      <td>3.05</td>\n",
       "    </tr>\n",
       "    <tr>\n",
       "      <th>PS3</th>\n",
       "      <td>219.0</td>\n",
       "      <td>0.311324</td>\n",
       "      <td>0.633059</td>\n",
       "      <td>0.01</td>\n",
       "      <td>0.0400</td>\n",
       "      <td>0.110</td>\n",
       "      <td>0.3250</td>\n",
       "      <td>5.27</td>\n",
       "    </tr>\n",
       "    <tr>\n",
       "      <th>PS4</th>\n",
       "      <td>376.0</td>\n",
       "      <td>0.766356</td>\n",
       "      <td>1.614969</td>\n",
       "      <td>0.01</td>\n",
       "      <td>0.0575</td>\n",
       "      <td>0.185</td>\n",
       "      <td>0.6900</td>\n",
       "      <td>14.63</td>\n",
       "    </tr>\n",
       "    <tr>\n",
       "      <th>PSP</th>\n",
       "      <td>13.0</td>\n",
       "      <td>0.027692</td>\n",
       "      <td>0.027735</td>\n",
       "      <td>0.01</td>\n",
       "      <td>0.0100</td>\n",
       "      <td>0.020</td>\n",
       "      <td>0.0200</td>\n",
       "      <td>0.09</td>\n",
       "    </tr>\n",
       "    <tr>\n",
       "      <th>PSV</th>\n",
       "      <td>295.0</td>\n",
       "      <td>0.075932</td>\n",
       "      <td>0.141591</td>\n",
       "      <td>0.01</td>\n",
       "      <td>0.0200</td>\n",
       "      <td>0.040</td>\n",
       "      <td>0.0900</td>\n",
       "      <td>1.96</td>\n",
       "    </tr>\n",
       "    <tr>\n",
       "      <th>Wii</th>\n",
       "      <td>11.0</td>\n",
       "      <td>0.460909</td>\n",
       "      <td>0.625451</td>\n",
       "      <td>0.01</td>\n",
       "      <td>0.0350</td>\n",
       "      <td>0.180</td>\n",
       "      <td>0.7550</td>\n",
       "      <td>2.01</td>\n",
       "    </tr>\n",
       "    <tr>\n",
       "      <th>WiiU</th>\n",
       "      <td>73.0</td>\n",
       "      <td>0.588767</td>\n",
       "      <td>1.161467</td>\n",
       "      <td>0.01</td>\n",
       "      <td>0.0500</td>\n",
       "      <td>0.190</td>\n",
       "      <td>0.5700</td>\n",
       "      <td>7.09</td>\n",
       "    </tr>\n",
       "    <tr>\n",
       "      <th>X360</th>\n",
       "      <td>111.0</td>\n",
       "      <td>0.434414</td>\n",
       "      <td>0.628967</td>\n",
       "      <td>0.01</td>\n",
       "      <td>0.0700</td>\n",
       "      <td>0.180</td>\n",
       "      <td>0.5050</td>\n",
       "      <td>4.28</td>\n",
       "    </tr>\n",
       "    <tr>\n",
       "      <th>XOne</th>\n",
       "      <td>228.0</td>\n",
       "      <td>0.615614</td>\n",
       "      <td>1.046513</td>\n",
       "      <td>0.01</td>\n",
       "      <td>0.0500</td>\n",
       "      <td>0.205</td>\n",
       "      <td>0.6325</td>\n",
       "      <td>7.39</td>\n",
       "    </tr>\n",
       "  </tbody>\n",
       "</table>\n",
       "</div>"
      ],
      "text/plain": [
       "          count      mean       std   min     25%    50%     75%    max\n",
       "platform                                                               \n",
       "3DS       212.0  0.408868  1.188368  0.01  0.0300  0.090  0.2500  11.68\n",
       "PC        151.0  0.179139  0.329359  0.01  0.0200  0.060  0.2000   3.05\n",
       "PS3       219.0  0.311324  0.633059  0.01  0.0400  0.110  0.3250   5.27\n",
       "PS4       376.0  0.766356  1.614969  0.01  0.0575  0.185  0.6900  14.63\n",
       "PSP        13.0  0.027692  0.027735  0.01  0.0100  0.020  0.0200   0.09\n",
       "PSV       295.0  0.075932  0.141591  0.01  0.0200  0.040  0.0900   1.96\n",
       "Wii        11.0  0.460909  0.625451  0.01  0.0350  0.180  0.7550   2.01\n",
       "WiiU       73.0  0.588767  1.161467  0.01  0.0500  0.190  0.5700   7.09\n",
       "X360      111.0  0.434414  0.628967  0.01  0.0700  0.180  0.5050   4.28\n",
       "XOne      228.0  0.615614  1.046513  0.01  0.0500  0.205  0.6325   7.39"
      ]
     },
     "execution_count": 32,
     "metadata": {},
     "output_type": "execute_result"
    }
   ],
   "source": [
    "data_actual.groupby('platform')['total_sales'].describe() # краткая статистическая сводка для данных"
   ]
  },
  {
   "cell_type": "code",
   "execution_count": 33,
   "metadata": {},
   "outputs": [],
   "source": [
    "# Создадим таблицу по платформам и их обшим продажам, отсортируем их по убыванию и оставим только топ-5\n",
    "top_5_platforms = data_actual.pivot_table(index='platform',\n",
    "                                          values='total_sales',\n",
    "                                          aggfunc='sum').sort_values(by='total_sales', ascending=False).head(5)"
   ]
  },
  {
   "cell_type": "code",
   "execution_count": 34,
   "metadata": {},
   "outputs": [
    {
     "data": {
      "text/html": [
       "<div>\n",
       "<style scoped>\n",
       "    .dataframe tbody tr th:only-of-type {\n",
       "        vertical-align: middle;\n",
       "    }\n",
       "\n",
       "    .dataframe tbody tr th {\n",
       "        vertical-align: top;\n",
       "    }\n",
       "\n",
       "    .dataframe thead th {\n",
       "        text-align: right;\n",
       "    }\n",
       "</style>\n",
       "<table border=\"1\" class=\"dataframe\">\n",
       "  <thead>\n",
       "    <tr style=\"text-align: right;\">\n",
       "      <th></th>\n",
       "      <th>total_sales</th>\n",
       "    </tr>\n",
       "    <tr>\n",
       "      <th>platform</th>\n",
       "      <th></th>\n",
       "    </tr>\n",
       "  </thead>\n",
       "  <tbody>\n",
       "    <tr>\n",
       "      <th>PS4</th>\n",
       "      <td>288.15</td>\n",
       "    </tr>\n",
       "    <tr>\n",
       "      <th>XOne</th>\n",
       "      <td>140.36</td>\n",
       "    </tr>\n",
       "    <tr>\n",
       "      <th>3DS</th>\n",
       "      <td>86.68</td>\n",
       "    </tr>\n",
       "    <tr>\n",
       "      <th>PS3</th>\n",
       "      <td>68.18</td>\n",
       "    </tr>\n",
       "    <tr>\n",
       "      <th>X360</th>\n",
       "      <td>48.22</td>\n",
       "    </tr>\n",
       "  </tbody>\n",
       "</table>\n",
       "</div>"
      ],
      "text/plain": [
       "          total_sales\n",
       "platform             \n",
       "PS4            288.15\n",
       "XOne           140.36\n",
       "3DS             86.68\n",
       "PS3             68.18\n",
       "X360            48.22"
      ]
     },
     "execution_count": 34,
     "metadata": {},
     "output_type": "execute_result"
    }
   ],
   "source": [
    "top_5_platforms"
   ]
  },
  {
   "cell_type": "code",
   "execution_count": 35,
   "metadata": {},
   "outputs": [],
   "source": [
    "#Сохраним в переменной df_top_5_platforms топ-5 платформ \n",
    "df_top_5_platforms = data_actual[data_actual['platform'].isin(['PS4','XOne','3DS','PS3','X360'])]"
   ]
  },
  {
   "cell_type": "code",
   "execution_count": 36,
   "metadata": {
    "scrolled": true
   },
   "outputs": [
    {
     "data": {
      "image/png": "[encoded data removed]",
      "text/plain": [
       "<Figure size 864x432 with 1 Axes>"
      ]
     },
     "metadata": {
      "needs_background": "light"
     },
     "output_type": "display_data"
    }
   ],
   "source": [
    "# Отрисуем \"ящики с усами\" \n",
    "plt.figure(figsize=(12,6))\n",
    "sns.boxplot(data=df_top_5_platforms, x='platform', y='total_sales', showfliers=False)\n",
    "plt.title('Ящик с усами', fontsize=15)\n",
    "plt.xlabel('Название платформы', fontsize=12)\n",
    "plt.ylabel('Количество продаж, млн',fontsize=12);"
   ]
  },
  {
   "cell_type": "markdown",
   "metadata": {},
   "source": [
    "**Вывод:** Из графика видно, что максимальный результут по продажам показала платформа PS4, далее с небольшим отставанием идет XOne, затем X360, и дальше PS3 и 3DS. Так же можно отметить, что медиана по платформам-лидерам колеблется в районе 0,2 млн долларов прибыли за игру. Верхняя граница предела, за которыми уже определяются аномалии, у двух платформ - PS4 и XOne - на уровне 1,5 млн долларов.\n",
    "У остальных - от 0,6 до 1,1 миллионов долларов."
   ]
  },
  {
   "cell_type": "markdown",
   "metadata": {},
   "source": [
    "#### 3.5 Рассмотрим влияние отзывов пользователей и критиков на продажи внутри платформы Х360"
   ]
  },
  {
   "cell_type": "code",
   "execution_count": 37,
   "metadata": {},
   "outputs": [
    {
     "data": {
      "text/plain": [
       "-0.138444570945665"
      ]
     },
     "execution_count": 37,
     "metadata": {},
     "output_type": "execute_result"
    }
   ],
   "source": [
    "# Корреляция между оценками пользователей и продажами \n",
    "platform_X360 = data_actual[data_actual['platform']=='X360']\n",
    "platform_X360['user_score'].corr(platform_X360['total_sales'])"
   ]
  },
  {
   "cell_type": "code",
   "execution_count": 38,
   "metadata": {},
   "outputs": [
    {
     "data": {
      "image/png": "[encoded data removed]",
      "text/plain": [
       "<Figure size 864x432 with 1 Axes>"
      ]
     },
     "metadata": {
      "needs_background": "light"
     },
     "output_type": "display_data"
    }
   ],
   "source": [
    "# Построим диаграмму рассеяния по оценкам пользователей\n",
    "plt.figure(figsize=(12,6))\n",
    "sns.scatterplot(data=platform_X360, x='user_score', y='total_sales')\n",
    "plt.title('Платформа Х360')\n",
    "plt.xlabel('Оценка пользователей')\n",
    "plt.ylabel('Количество продаж, млн');"
   ]
  },
  {
   "cell_type": "code",
   "execution_count": 39,
   "metadata": {},
   "outputs": [
    {
     "data": {
      "text/plain": [
       "0.5257228356581523"
      ]
     },
     "execution_count": 39,
     "metadata": {},
     "output_type": "execute_result"
    }
   ],
   "source": [
    "# Корреляция между оценкой критиков и продажами\n",
    "platform_X360['critic_score'].corr(platform_X360['total_sales'])"
   ]
  },
  {
   "cell_type": "code",
   "execution_count": 40,
   "metadata": {},
   "outputs": [
    {
     "data": {
      "image/png": "[encoded data removed]",
      "text/plain": [
       "<Figure size 864x432 with 1 Axes>"
      ]
     },
     "metadata": {
      "needs_background": "light"
     },
     "output_type": "display_data"
    }
   ],
   "source": [
    "# Построим диаграмму рассеяния по оценкам критиков \n",
    "plt.figure(figsize=(12,6))\n",
    "sns.scatterplot(data=platform_X360, x='critic_score', y='total_sales')\n",
    "plt.title('Платформа Х360')\n",
    "plt.xlabel('Оценка критиков')\n",
    "plt.ylabel('Количество продаж, млн');"
   ]
  },
  {
   "cell_type": "markdown",
   "metadata": {},
   "source": [
    "**Вывод:** С увеличением среднего рейтинга увеличивается и средний уровень выручки с продажи игр, что логично: чем качественнее игра, тем больше денег она приносит разработчику."
   ]
  },
  {
   "cell_type": "markdown",
   "metadata": {},
   "source": [
    "#### 3.6 Соотнесем выводы с продажами игр на других платформах"
   ]
  },
  {
   "cell_type": "code",
   "execution_count": 41,
   "metadata": {},
   "outputs": [],
   "source": [
    "# Напишем функцию, которая будет выводить графики рассеивания и считать корреляцию\n",
    "def other_platform_matrix(name_of_platform):\n",
    "    platform = data_actual[data_actual['platform']==name_of_platform]\n",
    "    fig, ax = plt.subplots(1 ,2, figsize=(15,5))\n",
    "    sns.scatterplot(x='user_score', y='total_sales', data=platform, ax=ax[0])\n",
    "    sns.scatterplot(x='critic_score', y='total_sales', data=platform, ax=ax[1])\n",
    "    fig.suptitle(name_of_platform, fontsize=15)\n",
    "    ax[0].set(xlabel='Оценка пользователей')\n",
    "    ax[1].set(xlabel='Оценка критиков')\n",
    "    ax[0].set(ylabel='Количество продаж, млн')\n",
    "    ax[1].set(ylabel='Количество продаж, млн')\n",
    "    plt.show()\n",
    "    \n",
    "    correlation = platform['user_score'].corr(platform['total_sales'])\n",
    "    critic_correlation = platform['critic_score'].corr(platform['total_sales'])\n",
    "    \n",
    "    if 0.1 >= critic_correlation >= 0.0:\n",
    "        print('Корреляция между отзывами критиков и игровой платформой ', name_of_platform.upper(), ': Очень слабая', critic_correlation)\n",
    "    if 0.3 >= critic_correlation >= 0.1:\n",
    "        print('Корреляция между отзывами критиков и игровой платформой ', name_of_platform.upper(), ': Слабая', critic_correlation)\n",
    "    if 0.5 >= critic_correlation >= 0.3:\n",
    "         print('Корреляция между отзывами критиков и игровой платформой ', name_of_platform.upper(), ': Умеренная', critic_correlation)\n",
    "    if 0.7 >= critic_correlation >= 0.5:\n",
    "        print('Корреляция между отзывами критиков и игровой платформой ', name_of_platform.upper(), ': Высокая', critic_correlation)\n",
    "    if 0.9 >= critic_correlation >= 0.7:\n",
    "        print('Корреляция между отзывами критиков и игровой платформой ', name_of_platform.upper(), ': Весьма высокая', critic_correlation)\n",
    "    if 1 >= critic_correlation >= 0.9:\n",
    "        print('Корреляция между отзывами критиков и игровой платформой ', name_of_platform.upper(), ': Сильная', critic_correlation)\n",
    "    \n",
    "    if 0.0 >= correlation >= -0.1:\n",
    "        print('Корреляция между отзывами пользователей и продажами ', name_of_platform.upper(), ': Очень слабая', correlation)\n",
    "    if -0.1 >= correlation >= -0.3:\n",
    "        print('Корреляция между отзывами пользователей и продажами ', name_of_platform.upper(), ': Слабая', correlation)   \n",
    "    if 0.1 >= correlation >= 0.0:\n",
    "        print('Корреляция между отзывами пользователей и продажами ', name_of_platform.upper(), ': Очень слабая', correlation)\n",
    "    if 0.3 >= correlation >= 0.1:\n",
    "        print('Корреляция между отзывами пользователей и продажами ', name_of_platform.upper(), ': Слабая', correlation)\n",
    "    if 0.5 >= correlation >= 0.3:\n",
    "        print('Корреляция между отзывами пользователей и продажами ', name_of_platform.upper(), ': Умеренная', correlation)\n",
    "    if 0.7 >= correlation >= 0.5:\n",
    "        print('Корреляция между отзывами пользователей и продажами ', name_of_platform.upper(), ': Высокая', correlation)\n",
    "    if 0.9 >= correlation >= 0.7:\n",
    "        print('Корреляция между отзывами пользователей и продажами ', name_of_platform.upper(), ': Весьма высокая', correlation)\n",
    "    if 1 >= correlation >= 0.9:\n",
    "        print('Корреляция между отзывами пользователей и продажами ', name_of_platform.upper(), ': Сильная', correlation)\n",
    "    print('\\n')"
   ]
  },
  {
   "cell_type": "code",
   "execution_count": 42,
   "metadata": {},
   "outputs": [
    {
     "data": {
      "image/png": "[encoded data removed]",
      "text/plain": [
       "<Figure size 1080x360 with 2 Axes>"
      ]
     },
     "metadata": {
      "needs_background": "light"
     },
     "output_type": "display_data"
    },
    {
     "name": "stdout",
     "output_type": "stream",
     "text": [
      "Корреляция между отзывами критиков и игровой платформой  PS4 : Умеренная 0.40266141068104083\n",
      "Корреляция между отзывами пользователей и продажами  PS4 : Очень слабая -0.040131589472697356\n",
      "\n",
      "\n"
     ]
    },
    {
     "data": {
      "image/png": "[encoded data removed]",
      "text/plain": [
       "<Figure size 1080x360 with 2 Axes>"
      ]
     },
     "metadata": {
      "needs_background": "light"
     },
     "output_type": "display_data"
    },
    {
     "name": "stdout",
     "output_type": "stream",
     "text": [
      "Корреляция между отзывами критиков и игровой платформой  3DS : Умеренная 0.314117492869051\n",
      "Корреляция между отзывами пользователей и продажами  3DS : Слабая 0.2151932718527028\n",
      "\n",
      "\n"
     ]
    },
    {
     "data": {
      "image/png": "[encoded data removed]",
      "text/plain": [
       "<Figure size 1080x360 with 2 Axes>"
      ]
     },
     "metadata": {
      "needs_background": "light"
     },
     "output_type": "display_data"
    },
    {
     "name": "stdout",
     "output_type": "stream",
     "text": [
      "Корреляция между отзывами критиков и игровой платформой  PS3 : Умеренная 0.44657460493190704\n",
      "Корреляция между отзывами пользователей и продажами  PS3 : Слабая -0.16676141347662118\n",
      "\n",
      "\n"
     ]
    },
    {
     "data": {
      "image/png": "[encoded data removed]",
      "text/plain": [
       "<Figure size 1080x360 with 2 Axes>"
      ]
     },
     "metadata": {
      "needs_background": "light"
     },
     "output_type": "display_data"
    },
    {
     "name": "stdout",
     "output_type": "stream",
     "text": [
      "Корреляция между отзывами критиков и игровой платформой  XONE : Умеренная 0.42867694370333226\n",
      "Корреляция между отзывами пользователей и продажами  XONE : Очень слабая -0.0703839280647581\n",
      "\n",
      "\n"
     ]
    }
   ],
   "source": [
    "#С помощью цикла выведем оставшиеся 4 графика\n",
    "list_of_top4_platforms = ['PS4', '3DS', 'PS3', 'XOne']\n",
    "for platform in list_of_top4_platforms:\n",
    "    other_platform_matrix(platform)"
   ]
  },
  {
   "cell_type": "markdown",
   "metadata": {},
   "source": [
    "Вывод: Практически у всех платформ присутствует корреляция между оценками пользователей и критиков к продажам. Можно сделать вывод, что покупатели прислушиваются больше к критикам, нежели к пользователям."
   ]
  },
  {
   "cell_type": "markdown",
   "metadata": {},
   "source": [
    "#### 3.7 Рассмотрим общее распределение игр по жанрам"
   ]
  },
  {
   "cell_type": "code",
   "execution_count": 43,
   "metadata": {},
   "outputs": [
    {
     "data": {
      "text/html": [
       "<div>\n",
       "<style scoped>\n",
       "    .dataframe tbody tr th:only-of-type {\n",
       "        vertical-align: middle;\n",
       "    }\n",
       "\n",
       "    .dataframe tbody tr th {\n",
       "        vertical-align: top;\n",
       "    }\n",
       "\n",
       "    .dataframe thead th {\n",
       "        text-align: right;\n",
       "    }\n",
       "</style>\n",
       "<table border=\"1\" class=\"dataframe\">\n",
       "  <thead>\n",
       "    <tr style=\"text-align: right;\">\n",
       "      <th></th>\n",
       "      <th>genre</th>\n",
       "      <th>total_sales</th>\n",
       "    </tr>\n",
       "  </thead>\n",
       "  <tbody>\n",
       "    <tr>\n",
       "      <th>0</th>\n",
       "      <td>Action</td>\n",
       "      <td>199.36</td>\n",
       "    </tr>\n",
       "    <tr>\n",
       "      <th>1</th>\n",
       "      <td>Shooter</td>\n",
       "      <td>170.94</td>\n",
       "    </tr>\n",
       "    <tr>\n",
       "      <th>2</th>\n",
       "      <td>Sports</td>\n",
       "      <td>109.48</td>\n",
       "    </tr>\n",
       "    <tr>\n",
       "      <th>3</th>\n",
       "      <td>Role-Playing</td>\n",
       "      <td>101.44</td>\n",
       "    </tr>\n",
       "    <tr>\n",
       "      <th>4</th>\n",
       "      <td>Misc</td>\n",
       "      <td>37.55</td>\n",
       "    </tr>\n",
       "    <tr>\n",
       "      <th>5</th>\n",
       "      <td>Fighting</td>\n",
       "      <td>28.22</td>\n",
       "    </tr>\n",
       "    <tr>\n",
       "      <th>6</th>\n",
       "      <td>Racing</td>\n",
       "      <td>27.52</td>\n",
       "    </tr>\n",
       "    <tr>\n",
       "      <th>7</th>\n",
       "      <td>Platform</td>\n",
       "      <td>18.09</td>\n",
       "    </tr>\n",
       "    <tr>\n",
       "      <th>8</th>\n",
       "      <td>Adventure</td>\n",
       "      <td>17.55</td>\n",
       "    </tr>\n",
       "    <tr>\n",
       "      <th>9</th>\n",
       "      <td>Simulation</td>\n",
       "      <td>13.13</td>\n",
       "    </tr>\n",
       "    <tr>\n",
       "      <th>10</th>\n",
       "      <td>Strategy</td>\n",
       "      <td>3.96</td>\n",
       "    </tr>\n",
       "    <tr>\n",
       "      <th>11</th>\n",
       "      <td>Puzzle</td>\n",
       "      <td>2.21</td>\n",
       "    </tr>\n",
       "  </tbody>\n",
       "</table>\n",
       "</div>"
      ],
      "text/plain": [
       "           genre  total_sales\n",
       "0         Action       199.36\n",
       "1        Shooter       170.94\n",
       "2         Sports       109.48\n",
       "3   Role-Playing       101.44\n",
       "4           Misc        37.55\n",
       "5       Fighting        28.22\n",
       "6         Racing        27.52\n",
       "7       Platform        18.09\n",
       "8      Adventure        17.55\n",
       "9     Simulation        13.13\n",
       "10      Strategy         3.96\n",
       "11        Puzzle         2.21"
      ]
     },
     "execution_count": 43,
     "metadata": {},
     "output_type": "execute_result"
    }
   ],
   "source": [
    "# Выведем таблицу жанров и их продажи\n",
    "accum_genre = data_actual.pivot_table(\n",
    "    index='genre', values='total_sales', aggfunc='sum').sort_values(by='total_sales', ascending=False)\n",
    "accum_genre = accum_genre.reset_index().rename_axis(None, axis=1)\n",
    "accum_genre"
   ]
  },
  {
   "cell_type": "code",
   "execution_count": 44,
   "metadata": {},
   "outputs": [
    {
     "data": {
      "image/png": "[encoded data removed]",
      "text/plain": [
       "<Figure size 864x432 with 1 Axes>"
      ]
     },
     "metadata": {
      "needs_background": "light"
     },
     "output_type": "display_data"
    }
   ],
   "source": [
    "# Построим диаграмму размаха объема продаж по платформам за актуальный период с выбросами\n",
    "plt.figure(figsize=(12,6))\n",
    "sns.boxplot(data=data_actual, x='genre', y='total_sales')\n",
    "plt.title('Объем продаж по жанрам за актуальный период', fontsize=15)\n",
    "plt.xlabel('Название платформы', fontsize=12)\n",
    "plt.ylabel('Количество продаж, млн',fontsize=12);"
   ]
  },
  {
   "cell_type": "code",
   "execution_count": 45,
   "metadata": {},
   "outputs": [
    {
     "data": {
      "image/png": "[encoded data removed]",
      "text/plain": [
       "<Figure size 864x432 with 1 Axes>"
      ]
     },
     "metadata": {
      "needs_background": "light"
     },
     "output_type": "display_data"
    }
   ],
   "source": [
    "# Построим диаграмму размаха объема продаж по платформам за актуальный период без выбросов \n",
    "plt.figure(figsize=(12,6))\n",
    "sns.boxplot(data=data_actual, x='genre', y='total_sales', showfliers=False)\n",
    "plt.title('Объем продаж по жанрам за актуальный период', fontsize=15)\n",
    "plt.xlabel('Название платформы', fontsize=12)\n",
    "plt.ylabel('Количество продаж, млн',fontsize=12);"
   ]
  },
  {
   "cell_type": "markdown",
   "metadata": {},
   "source": [
    "**Наибольшее медианнное значение показал жанр Shooter, так же он имеет более длинный ряд успешно продающихся игр. Наименьшие медианные значения у Puzzle и Adventure.**"
   ]
  },
  {
   "cell_type": "markdown",
   "metadata": {},
   "source": [
    "### 4. Портрет пользователя каждого региона"
   ]
  },
  {
   "cell_type": "markdown",
   "metadata": {},
   "source": [
    "#### 4.1 Самые популярные платформы"
   ]
  },
  {
   "cell_type": "code",
   "execution_count": 46,
   "metadata": {},
   "outputs": [
    {
     "data": {
      "image/png": "[encoded data removed]",
      "text/plain": [
       "<Figure size 288x288 with 1 Axes>"
      ]
     },
     "metadata": {},
     "output_type": "display_data"
    },
    {
     "data": {
      "image/png": "[encoded data removed]",
      "text/plain": [
       "<Figure size 288x288 with 1 Axes>"
      ]
     },
     "metadata": {},
     "output_type": "display_data"
    },
    {
     "data": {
      "image/png": "[encoded data removed]",
      "text/plain": [
       "<Figure size 288x288 with 1 Axes>"
      ]
     },
     "metadata": {},
     "output_type": "display_data"
    }
   ],
   "source": [
    "data_actual.groupby('platform')['na_sales'].sum().sort_values(ascending=False).head()\\\n",
    ".plot(kind='pie', subplots=True, figsize=(4,4), autopct='%.0f%%')\n",
    "plt.show()\n",
    "data_actual.groupby('platform')['eu_sales'].sum().sort_values(ascending=False).head()\\\n",
    ".plot(kind='pie', subplots=True, figsize=(4,4), autopct='%.0f%%')\n",
    "plt.show()\n",
    "data_actual.groupby('platform')['jp_sales'].sum().sort_values(ascending=False).head()\\\n",
    ".plot(kind='pie', subplots=True, figsize=(4,4), autopct='%.0f%%')\n",
    "plt.show()"
   ]
  },
  {
   "cell_type": "markdown",
   "metadata": {},
   "source": [
    "**Вывод:** В Северной Америке наибольшую популярность имеют платформы PS4 и XOne, далее идут X360, 3DS и PS3.\n",
    "В Европе самые популярные платформы PS4 и XOne, далее идут PS3, PC и 3DS.\n",
    "В Японии наибольшую популярность имеют платформы 3DS и PS4, далее идут PSV, PS3 и WiiU.\n",
    "В общем можно отметить, что предпочтения по платформам в Европе и Северной Америке очень схожи, так же видно что платформа PS4 находится в топе во всех рассматриваемых регионах."
   ]
  },
  {
   "cell_type": "markdown",
   "metadata": {},
   "source": [
    "#### 4.2 Самые популярные жанры"
   ]
  },
  {
   "cell_type": "code",
   "execution_count": 47,
   "metadata": {},
   "outputs": [
    {
     "data": {
      "image/png": "[encoded data removed]",
      "text/plain": [
       "<Figure size 288x288 with 1 Axes>"
      ]
     },
     "metadata": {},
     "output_type": "display_data"
    },
    {
     "data": {
      "image/png": "[encoded data removed]",
      "text/plain": [
       "<Figure size 288x288 with 1 Axes>"
      ]
     },
     "metadata": {},
     "output_type": "display_data"
    },
    {
     "data": {
      "image/png": "[encoded data removed]",
      "text/plain": [
       "<Figure size 288x288 with 1 Axes>"
      ]
     },
     "metadata": {},
     "output_type": "display_data"
    }
   ],
   "source": [
    "data_actual.groupby('genre')['na_sales'].sum().sort_values(ascending=False).head()\\\n",
    ".plot(kind='pie', subplots=True, figsize=(4,4), autopct='%.0f%%')\n",
    "plt.show()\n",
    "data_actual.groupby('genre')['eu_sales'].sum().sort_values(ascending=False).head()\\\n",
    ".plot(kind='pie', subplots=True, figsize=(4,4), autopct='%.0f%%')\n",
    "plt.show()\n",
    "data_actual.groupby('genre')['jp_sales'].sum().sort_values(ascending=False).head()\\\n",
    ".plot(kind='pie', subplots=True, figsize=(4,4), autopct='%.0f%%')\n",
    "plt.show()"
   ]
  },
  {
   "cell_type": "markdown",
   "metadata": {},
   "source": [
    "**Вывод:** Больше всего жители Северной Америки и Европы предпочитают игры жанра Shooter и Action. В целом у этих двух регионов схожие показатели по жанрам, за исключением 5-й строчки, там в Северной Америке преобладает жанр Racing, а в Европе - Misc.\n",
    "Жители Японии больше всего предпочитают игры жанра Role-Playing и Action.\n",
    "В общем можно отметить что примерно 1\\3 жителей каждого из рассматривыемого региона предпочитает жанр Action."
   ]
  },
  {
   "cell_type": "markdown",
   "metadata": {},
   "source": [
    "#### 4.3 Влияние рейтинга ESRB на продажи "
   ]
  },
  {
   "cell_type": "code",
   "execution_count": 48,
   "metadata": {},
   "outputs": [
    {
     "data": {
      "image/png": "[encoded data removed]",
      "text/plain": [
       "<Figure size 288x288 with 1 Axes>"
      ]
     },
     "metadata": {},
     "output_type": "display_data"
    },
    {
     "data": {
      "image/png": "[encoded data removed]",
      "text/plain": [
       "<Figure size 288x288 with 1 Axes>"
      ]
     },
     "metadata": {},
     "output_type": "display_data"
    },
    {
     "data": {
      "image/png": "[encoded data removed]",
      "text/plain": [
       "<Figure size 288x288 with 1 Axes>"
      ]
     },
     "metadata": {},
     "output_type": "display_data"
    }
   ],
   "source": [
    "data_actual.groupby('rating')['na_sales'].sum().sort_values(ascending=False).head()\\\n",
    ".plot(kind='pie', subplots=True, figsize=(4,4), autopct='%.0f%%')\n",
    "plt.show()\n",
    "data_actual.groupby('rating')['eu_sales'].sum().sort_values(ascending=False).head()\\\n",
    ".plot(kind='pie', subplots=True, figsize=(4,4), autopct='%.0f%%')\n",
    "plt.show()\n",
    "data_actual.groupby('rating')['jp_sales'].sum().sort_values(ascending=False).head()\\\n",
    ".plot(kind='pie', subplots=True, figsize=(4,4), autopct='%.0f%%')\n",
    "plt.show()"
   ]
  },
  {
   "cell_type": "markdown",
   "metadata": {},
   "source": [
    "**Вывод:** Что касается возрастных ограничений, в Северной Америке и Европе показатели практически идентичные, лидируют игры с рейтингом М (старше 17 лет), далее по популярности игры ограничения которых не определены, затем  игры с рейтингом Е(для всех), Т(подросткам) и Е10+ (от 10 лет и старше).\n",
    "В Японии же лидируют игры рейтинг которых не определен, это может быть связано с тем что у них есть свой рейтинг CERO, и японский рынок не маркирует свои игры по рейтингу ERSB, далее по популярности игры с возрастным ограничением Т(подросткам), затем  игры с рейтингом Е(для всех), М(старше 17 лет) и Е10+ (от 10 лет и старше)."
   ]
  },
  {
   "cell_type": "markdown",
   "metadata": {},
   "source": [
    "### 5. Проверка гипотезы"
   ]
  },
  {
   "cell_type": "markdown",
   "metadata": {},
   "source": [
    "#### 5.1 Средние пользовательские рейтинги платформ Xbox One и PC одинаковые"
   ]
  },
  {
   "cell_type": "markdown",
   "metadata": {},
   "source": [
    "**Сформулируем гипотезы:**\n",
    "\n",
    "Нулевая гипотеза H_0: Средние пользовательские рейтинги платформ Xbox One и PC равны;\n",
    "\n",
    "Альтернативная гипотеза H_1: Средние пользовательские рейтинги платформ Xbox One и PC не равны"
   ]
  },
  {
   "cell_type": "code",
   "execution_count": 50,
   "metadata": {
    "scrolled": true
   },
   "outputs": [
    {
     "name": "stdout",
     "output_type": "stream",
     "text": [
      "p-значение: 0.1475959401343032\n",
      "Не получилось отвергнуть нулевую гипотезу\n"
     ]
    }
   ],
   "source": [
    "results = st.ttest_ind(\n",
    "    data[data['platform'] =='XOne']['user_score'], \n",
    "    data[(data['platform'] =='PC') & (data['year_of_release']>=2013)]['user_score'],\n",
    "    nan_policy='omit',\n",
    "    equal_var=False)\n",
    "\n",
    "alpha = .05\n",
    "\n",
    "print('p-значение:', results.pvalue)\n",
    "\n",
    "if results.pvalue < alpha:\n",
    "    print(\"Отвергаем нулевую гипотезу\")\n",
    "else:\n",
    "    print(\"Не получилось отвергнуть нулевую гипотезу\")"
   ]
  },
  {
   "cell_type": "markdown",
   "metadata": {},
   "source": [
    "**Вывод:** Средние пользовательские рейтинги платформ Xbox One и PC отличаются между собой. Значение p-value чуть меньше 15%, т.е. с вероятностью в 15% можно получить различность пользовательских рейтингов платформ Xbox One и PC."
   ]
  },
  {
   "cell_type": "markdown",
   "metadata": {},
   "source": [
    "#### 5.2 Средние пользовательские рейтинги жанров Action и Sports разные"
   ]
  },
  {
   "cell_type": "markdown",
   "metadata": {},
   "source": [
    "**Сформулируем гипотезы:**\n",
    "\n",
    "Нулевая гипотеза H_0: Средние пользовательские рейтинги жанров Action и Sports равны\n",
    "\n",
    "Альтернативная гипотеза H_1: Средние пользовательские рейтинги жанров Action и Sports не равны"
   ]
  },
  {
   "cell_type": "code",
   "execution_count": 52,
   "metadata": {
    "scrolled": true
   },
   "outputs": [
    {
     "name": "stdout",
     "output_type": "stream",
     "text": [
      "p-значение: 1.182555038264477e-14\n",
      "Отвергаем нулевую гипотезу\n"
     ]
    }
   ],
   "source": [
    "results = st.ttest_ind(\n",
    "    data[(data['genre'] =='Action') & (data['year_of_release']>=2014)]['user_score'], \n",
    "    data[(data['genre'] =='Sports') & (data['year_of_release']>=2014)]['user_score'],\n",
    "    nan_policy='omit',\n",
    "    equal_var=False)\n",
    "\n",
    "alpha = .05\n",
    "\n",
    "print('p-значение:', results.pvalue)\n",
    "\n",
    "if results.pvalue < alpha:\n",
    "    print(\"Отвергаем нулевую гипотезу\")\n",
    "else:\n",
    "    print(\"Не получилось отвергнуть нулевую гипотезу\")"
   ]
  },
  {
   "cell_type": "markdown",
   "metadata": {},
   "source": [
    "**Вывод:** Средние пользовательские рейтинги жанров Action и Sports отличаются между собой. Значение p-value равняется 1.18*10^(-14), т.е. у нас практически отсутствует вероятность получить одинаковые средние пользовательские рейтинги жанров Action и Sports."
   ]
  },
  {
   "cell_type": "markdown",
   "metadata": {},
   "source": [
    "### 6. Общий вывод"
   ]
  },
  {
   "cell_type": "markdown",
   "metadata": {},
   "source": [
    "Проведя анализ, было выявлено, что количество игр на компьютеры и игровые приставки начало расти с 90-ых годов до 2008 года. В 2008-09 годах наблюдается пик. После чего начался спад, связанный с развитием мобильных устройств.\n",
    "За весь период самые популярные игровые платформы это PS2, X360, PS3, WII, DS, PS.\n",
    "Самые продаваемые платформы: PS2 и X360. В среднем каждые 5 лет появляются новые платформы. Так же можно сказать, что игровые платформы существуют порядка 10 лет.\n",
    "\n",
    "Выяснили, что в Северной Америке самые популярные игровые приставки: PS4, XOne и X360, жанры - Shooter, Action, Sports. А по рейтингу игр люди предпочитают игры \"от 17 и старше\".\n",
    "\n",
    "В Европе, популярные жанры точно такие же как и в Северной Америке. Но приставки предпочитают по следующей очередности: PS4, X360, PS3. Рейтинг игр аналогичный с Северной Америкой.\n",
    "\n",
    "В Японии люди предпочитают игровые приставки: 3DS, PS4, PSV. Жанры игры : Role-Playing, Action и Fighting. У очень большого числа игр рейтинг неизвестен, далее идут рейтинг игр Т (13-17лет) и Е (для всех).\n",
    "\n",
    "Исходя из всех данных предположу, что лучше всего продавать игры для таких приставок как PS4 и XOne.\n",
    "Жанр необходимо выбирать Action и Shooter, и выбирать игры с рейтингом \"от 17 и выше\", тогда продажи будут значительно больше, чем если продавать другие игры."
   ]
  }
 ],
 "metadata": {
  "ExecuteTimeLog": [
   {
    "duration": 1435,
    "start_time": "2023-01-16T17:09:40.238Z"
   },
   {
    "duration": 120,
    "start_time": "2023-01-16T17:10:30.239Z"
   },
   {
    "duration": 11,
    "start_time": "2023-01-16T17:10:40.355Z"
   },
   {
    "duration": 44,
    "start_time": "2023-01-16T17:10:48.525Z"
   },
   {
    "duration": 14,
    "start_time": "2023-01-16T17:10:50.501Z"
   },
   {
    "duration": 1310,
    "start_time": "2023-01-16T17:10:57.021Z"
   },
   {
    "duration": 43,
    "start_time": "2023-01-16T17:10:58.333Z"
   },
   {
    "duration": 10,
    "start_time": "2023-01-16T17:10:58.377Z"
   },
   {
    "duration": 177,
    "start_time": "2023-01-16T17:11:07.423Z"
   },
   {
    "duration": 43,
    "start_time": "2023-01-16T17:11:12.025Z"
   },
   {
    "duration": 1583,
    "start_time": "2023-01-16T17:11:18.736Z"
   },
   {
    "duration": 49,
    "start_time": "2023-01-16T17:11:25.942Z"
   },
   {
    "duration": 1577,
    "start_time": "2023-01-16T17:11:56.066Z"
   },
   {
    "duration": 7,
    "start_time": "2023-01-16T17:12:02.541Z"
   },
   {
    "duration": 50,
    "start_time": "2023-01-16T17:12:20.031Z"
   },
   {
    "duration": 18,
    "start_time": "2023-01-16T17:12:22.258Z"
   },
   {
    "duration": 24,
    "start_time": "2023-01-16T17:12:56.041Z"
   },
   {
    "duration": 20,
    "start_time": "2023-01-16T17:13:34.303Z"
   },
   {
    "duration": 21,
    "start_time": "2023-01-16T17:13:40.756Z"
   },
   {
    "duration": 726,
    "start_time": "2023-01-16T17:14:24.540Z"
   },
   {
    "duration": 16,
    "start_time": "2023-01-16T17:28:02.017Z"
   },
   {
    "duration": 17,
    "start_time": "2023-01-16T17:28:19.021Z"
   },
   {
    "duration": 1301,
    "start_time": "2023-01-16T17:28:37.238Z"
   },
   {
    "duration": 53,
    "start_time": "2023-01-16T17:28:38.542Z"
   },
   {
    "duration": 21,
    "start_time": "2023-01-16T17:28:38.597Z"
   },
   {
    "duration": 15,
    "start_time": "2023-01-16T17:28:38.620Z"
   },
   {
    "duration": 828,
    "start_time": "2023-01-16T17:28:38.637Z"
   },
   {
    "duration": 20,
    "start_time": "2023-01-16T17:28:39.467Z"
   },
   {
    "duration": 23,
    "start_time": "2023-01-16T17:28:39.505Z"
   },
   {
    "duration": 9,
    "start_time": "2023-01-16T17:33:36.374Z"
   },
   {
    "duration": 13,
    "start_time": "2023-01-16T17:33:38.727Z"
   },
   {
    "duration": 3,
    "start_time": "2023-01-16T17:37:00.250Z"
   },
   {
    "duration": 19,
    "start_time": "2023-01-16T17:37:02.602Z"
   },
   {
    "duration": 1215,
    "start_time": "2023-01-16T17:37:12.818Z"
   },
   {
    "duration": 50,
    "start_time": "2023-01-16T17:37:14.035Z"
   },
   {
    "duration": 19,
    "start_time": "2023-01-16T17:37:14.087Z"
   },
   {
    "duration": 41,
    "start_time": "2023-01-16T17:37:14.108Z"
   },
   {
    "duration": 817,
    "start_time": "2023-01-16T17:37:14.151Z"
   },
   {
    "duration": 3,
    "start_time": "2023-01-16T17:37:14.971Z"
   },
   {
    "duration": 32,
    "start_time": "2023-01-16T17:37:14.976Z"
   },
   {
    "duration": 5,
    "start_time": "2023-01-16T17:41:59.012Z"
   },
   {
    "duration": 5,
    "start_time": "2023-01-16T17:43:13.451Z"
   },
   {
    "duration": 3,
    "start_time": "2023-01-16T17:46:04.546Z"
   },
   {
    "duration": 130,
    "start_time": "2023-01-16T17:47:32.110Z"
   },
   {
    "duration": 14,
    "start_time": "2023-01-16T17:48:29.871Z"
   },
   {
    "duration": 1161,
    "start_time": "2023-01-16T17:48:36.178Z"
   },
   {
    "duration": 51,
    "start_time": "2023-01-16T17:48:37.341Z"
   },
   {
    "duration": 20,
    "start_time": "2023-01-16T17:48:37.394Z"
   },
   {
    "duration": 14,
    "start_time": "2023-01-16T17:48:37.416Z"
   },
   {
    "duration": 826,
    "start_time": "2023-01-16T17:48:37.432Z"
   },
   {
    "duration": 4,
    "start_time": "2023-01-16T17:48:38.260Z"
   },
   {
    "duration": 24,
    "start_time": "2023-01-16T17:48:38.265Z"
   },
   {
    "duration": 110,
    "start_time": "2023-01-16T17:48:38.290Z"
   },
   {
    "duration": 14,
    "start_time": "2023-01-16T17:49:50.302Z"
   },
   {
    "duration": 13,
    "start_time": "2023-01-16T17:52:01.082Z"
   },
   {
    "duration": 15,
    "start_time": "2023-01-16T17:52:40.948Z"
   },
   {
    "duration": 4,
    "start_time": "2023-01-16T17:53:08.764Z"
   },
   {
    "duration": 9,
    "start_time": "2023-01-16T17:53:19.126Z"
   },
   {
    "duration": 12,
    "start_time": "2023-01-16T17:53:24.193Z"
   },
   {
    "duration": 6,
    "start_time": "2023-01-16T17:53:29.853Z"
   },
   {
    "duration": 5,
    "start_time": "2023-01-16T17:54:48.792Z"
   },
   {
    "duration": 14,
    "start_time": "2023-01-16T17:54:56.588Z"
   },
   {
    "duration": 337,
    "start_time": "2023-01-16T17:57:24.500Z"
   },
   {
    "duration": 302,
    "start_time": "2023-01-16T17:57:28.723Z"
   },
   {
    "duration": 1169,
    "start_time": "2023-01-16T17:59:14.568Z"
   },
   {
    "duration": 52,
    "start_time": "2023-01-16T17:59:15.739Z"
   },
   {
    "duration": 25,
    "start_time": "2023-01-16T17:59:15.793Z"
   },
   {
    "duration": 25,
    "start_time": "2023-01-16T17:59:15.821Z"
   },
   {
    "duration": 820,
    "start_time": "2023-01-16T17:59:15.848Z"
   },
   {
    "duration": 3,
    "start_time": "2023-01-16T17:59:16.670Z"
   },
   {
    "duration": 23,
    "start_time": "2023-01-16T17:59:16.675Z"
   },
   {
    "duration": 10,
    "start_time": "2023-01-16T17:59:33.417Z"
   },
   {
    "duration": 10,
    "start_time": "2023-01-16T18:00:35.169Z"
   },
   {
    "duration": 5,
    "start_time": "2023-01-16T18:00:52.149Z"
   },
   {
    "duration": 213,
    "start_time": "2023-01-16T18:01:18.314Z"
   },
   {
    "duration": 6,
    "start_time": "2023-01-16T18:02:27.420Z"
   },
   {
    "duration": 182,
    "start_time": "2023-01-16T18:02:30.681Z"
   },
   {
    "duration": 5,
    "start_time": "2023-01-16T18:02:41.170Z"
   },
   {
    "duration": 182,
    "start_time": "2023-01-16T18:02:43.316Z"
   },
   {
    "duration": 5,
    "start_time": "2023-01-16T18:02:50.803Z"
   },
   {
    "duration": 376,
    "start_time": "2023-01-16T18:02:52.992Z"
   },
   {
    "duration": 6,
    "start_time": "2023-01-16T18:02:57.878Z"
   },
   {
    "duration": 266,
    "start_time": "2023-01-16T18:03:00.967Z"
   },
   {
    "duration": 1179,
    "start_time": "2023-01-16T18:03:41.348Z"
   },
   {
    "duration": 50,
    "start_time": "2023-01-16T18:03:42.529Z"
   },
   {
    "duration": 19,
    "start_time": "2023-01-16T18:03:42.581Z"
   },
   {
    "duration": 15,
    "start_time": "2023-01-16T18:03:42.603Z"
   },
   {
    "duration": 755,
    "start_time": "2023-01-16T18:03:42.619Z"
   },
   {
    "duration": 4,
    "start_time": "2023-01-16T18:03:43.375Z"
   },
   {
    "duration": 29,
    "start_time": "2023-01-16T18:03:43.380Z"
   },
   {
    "duration": 14,
    "start_time": "2023-01-16T18:03:43.411Z"
   },
   {
    "duration": 4,
    "start_time": "2023-01-16T18:03:43.427Z"
   },
   {
    "duration": 203,
    "start_time": "2023-01-16T18:03:43.434Z"
   },
   {
    "duration": 7,
    "start_time": "2023-01-16T18:20:51.538Z"
   },
   {
    "duration": 10,
    "start_time": "2023-01-16T18:21:02.725Z"
   },
   {
    "duration": 10,
    "start_time": "2023-01-16T18:21:39.778Z"
   },
   {
    "duration": 6,
    "start_time": "2023-01-16T18:22:11.014Z"
   },
   {
    "duration": 10,
    "start_time": "2023-01-16T18:22:13.885Z"
   },
   {
    "duration": 9,
    "start_time": "2023-01-16T18:24:20.148Z"
   },
   {
    "duration": 10,
    "start_time": "2023-01-16T18:24:26.872Z"
   },
   {
    "duration": 20,
    "start_time": "2023-01-16T18:25:53.476Z"
   },
   {
    "duration": 405,
    "start_time": "2023-01-16T18:37:27.549Z"
   },
   {
    "duration": 368,
    "start_time": "2023-01-16T18:38:31.393Z"
   },
   {
    "duration": 407,
    "start_time": "2023-01-16T18:39:02.491Z"
   },
   {
    "duration": 366,
    "start_time": "2023-01-16T18:39:13.387Z"
   },
   {
    "duration": 324,
    "start_time": "2023-01-16T18:40:03.806Z"
   },
   {
    "duration": 5,
    "start_time": "2023-01-16T19:15:40.591Z"
   },
   {
    "duration": 96,
    "start_time": "2023-01-16T19:17:38.435Z"
   },
   {
    "duration": 9,
    "start_time": "2023-01-16T19:17:57.642Z"
   },
   {
    "duration": 5,
    "start_time": "2023-01-16T19:18:00.888Z"
   },
   {
    "duration": 4,
    "start_time": "2023-01-16T19:23:57.582Z"
   },
   {
    "duration": 14,
    "start_time": "2023-01-16T19:24:01.990Z"
   },
   {
    "duration": 13,
    "start_time": "2023-01-16T19:24:08.701Z"
   },
   {
    "duration": 15,
    "start_time": "2023-01-16T19:27:09.412Z"
   },
   {
    "duration": 28,
    "start_time": "2023-01-16T20:28:21.524Z"
   },
   {
    "duration": 9,
    "start_time": "2023-01-16T20:29:33.882Z"
   },
   {
    "duration": 19,
    "start_time": "2023-01-16T20:29:37.142Z"
   },
   {
    "duration": 15,
    "start_time": "2023-01-16T20:31:59.273Z"
   },
   {
    "duration": 192,
    "start_time": "2023-01-16T20:33:53.030Z"
   },
   {
    "duration": 307,
    "start_time": "2023-01-16T20:34:28.735Z"
   },
   {
    "duration": 245,
    "start_time": "2023-01-16T20:34:44.292Z"
   },
   {
    "duration": 324,
    "start_time": "2023-01-16T20:34:53.384Z"
   },
   {
    "duration": 10,
    "start_time": "2023-01-16T20:41:55.335Z"
   },
   {
    "duration": 17,
    "start_time": "2023-01-16T20:42:02.709Z"
   },
   {
    "duration": 13,
    "start_time": "2023-01-16T20:42:38.094Z"
   },
   {
    "duration": 13,
    "start_time": "2023-01-16T20:42:52.404Z"
   },
   {
    "duration": 13,
    "start_time": "2023-01-16T20:42:59.127Z"
   },
   {
    "duration": 14,
    "start_time": "2023-01-16T20:43:04.304Z"
   },
   {
    "duration": 4,
    "start_time": "2023-01-16T20:43:17.233Z"
   },
   {
    "duration": 13,
    "start_time": "2023-01-16T20:43:19.332Z"
   },
   {
    "duration": 172,
    "start_time": "2023-01-16T20:43:31.443Z"
   },
   {
    "duration": 14,
    "start_time": "2023-01-16T20:45:40.184Z"
   },
   {
    "duration": 14,
    "start_time": "2023-01-16T20:45:51.984Z"
   },
   {
    "duration": 13,
    "start_time": "2023-01-16T20:46:12.725Z"
   },
   {
    "duration": 1308,
    "start_time": "2023-01-18T17:16:18.976Z"
   },
   {
    "duration": 239,
    "start_time": "2023-01-18T17:16:20.286Z"
   },
   {
    "duration": 21,
    "start_time": "2023-01-18T17:16:20.526Z"
   },
   {
    "duration": 25,
    "start_time": "2023-01-18T17:16:20.550Z"
   },
   {
    "duration": 776,
    "start_time": "2023-01-18T17:16:20.577Z"
   },
   {
    "duration": 5,
    "start_time": "2023-01-18T17:16:21.354Z"
   },
   {
    "duration": 29,
    "start_time": "2023-01-18T17:16:21.364Z"
   },
   {
    "duration": 16,
    "start_time": "2023-01-18T17:16:21.397Z"
   },
   {
    "duration": 7,
    "start_time": "2023-01-18T17:16:21.415Z"
   },
   {
    "duration": 211,
    "start_time": "2023-01-18T17:16:21.425Z"
   },
   {
    "duration": 14,
    "start_time": "2023-01-18T17:16:21.638Z"
   },
   {
    "duration": 29,
    "start_time": "2023-01-18T17:16:21.653Z"
   },
   {
    "duration": 17,
    "start_time": "2023-01-18T17:16:21.684Z"
   },
   {
    "duration": 3,
    "start_time": "2023-01-18T17:16:21.703Z"
   },
   {
    "duration": 16,
    "start_time": "2023-01-18T17:16:21.708Z"
   },
   {
    "duration": 13,
    "start_time": "2023-01-18T17:16:21.726Z"
   },
   {
    "duration": 6,
    "start_time": "2023-01-18T17:16:21.741Z"
   },
   {
    "duration": 143,
    "start_time": "2023-01-18T17:16:21.752Z"
   },
   {
    "duration": 0,
    "start_time": "2023-01-18T17:16:21.897Z"
   },
   {
    "duration": 0,
    "start_time": "2023-01-18T17:16:21.898Z"
   },
   {
    "duration": 0,
    "start_time": "2023-01-18T17:16:21.900Z"
   },
   {
    "duration": 0,
    "start_time": "2023-01-18T17:16:21.902Z"
   },
   {
    "duration": 21,
    "start_time": "2023-01-18T17:30:16.838Z"
   },
   {
    "duration": 248,
    "start_time": "2023-01-18T17:30:19.461Z"
   },
   {
    "duration": 317,
    "start_time": "2023-01-18T17:32:35.961Z"
   },
   {
    "duration": 234,
    "start_time": "2023-01-18T17:33:23.890Z"
   },
   {
    "duration": 13,
    "start_time": "2023-01-18T17:37:42.796Z"
   },
   {
    "duration": 11,
    "start_time": "2023-01-18T17:37:45.593Z"
   },
   {
    "duration": 5,
    "start_time": "2023-01-18T17:38:05.569Z"
   },
   {
    "duration": 14,
    "start_time": "2023-01-18T17:38:16.294Z"
   },
   {
    "duration": 21,
    "start_time": "2023-01-18T17:38:30.716Z"
   },
   {
    "duration": 2,
    "start_time": "2023-01-18T17:38:54.509Z"
   },
   {
    "duration": 373,
    "start_time": "2023-01-18T17:38:59.222Z"
   },
   {
    "duration": 343,
    "start_time": "2023-01-18T17:39:37.886Z"
   },
   {
    "duration": 323,
    "start_time": "2023-01-18T17:39:49.503Z"
   },
   {
    "duration": 407,
    "start_time": "2023-01-18T17:39:53.795Z"
   },
   {
    "duration": 21,
    "start_time": "2023-01-18T17:49:31.209Z"
   },
   {
    "duration": 20,
    "start_time": "2023-01-18T17:49:46.573Z"
   },
   {
    "duration": 16,
    "start_time": "2023-01-18T17:50:20.743Z"
   },
   {
    "duration": 15,
    "start_time": "2023-01-18T17:50:35.476Z"
   },
   {
    "duration": 49,
    "start_time": "2023-01-18T17:53:01.525Z"
   },
   {
    "duration": 674,
    "start_time": "2023-01-18T17:53:07.974Z"
   },
   {
    "duration": 812,
    "start_time": "2023-01-18T17:53:20.333Z"
   },
   {
    "duration": 783,
    "start_time": "2023-01-18T17:54:37.836Z"
   },
   {
    "duration": 150,
    "start_time": "2023-01-18T17:55:05.620Z"
   },
   {
    "duration": 671,
    "start_time": "2023-01-18T17:55:12.920Z"
   },
   {
    "duration": 703,
    "start_time": "2023-01-18T17:55:24.616Z"
   },
   {
    "duration": 46,
    "start_time": "2023-01-18T18:40:16.556Z"
   },
   {
    "duration": 6,
    "start_time": "2023-01-18T18:40:50.005Z"
   },
   {
    "duration": 1298,
    "start_time": "2023-01-18T18:40:58.153Z"
   },
   {
    "duration": 102,
    "start_time": "2023-01-18T18:40:59.453Z"
   },
   {
    "duration": 25,
    "start_time": "2023-01-18T18:40:59.557Z"
   },
   {
    "duration": 14,
    "start_time": "2023-01-18T18:40:59.584Z"
   },
   {
    "duration": 813,
    "start_time": "2023-01-18T18:40:59.600Z"
   },
   {
    "duration": 4,
    "start_time": "2023-01-18T18:41:00.415Z"
   },
   {
    "duration": 34,
    "start_time": "2023-01-18T18:41:00.421Z"
   },
   {
    "duration": 32,
    "start_time": "2023-01-18T18:41:00.456Z"
   },
   {
    "duration": 9,
    "start_time": "2023-01-18T18:41:00.490Z"
   },
   {
    "duration": 218,
    "start_time": "2023-01-18T18:41:00.502Z"
   },
   {
    "duration": 6,
    "start_time": "2023-01-18T18:41:00.722Z"
   },
   {
    "duration": 14,
    "start_time": "2023-01-18T18:41:00.730Z"
   },
   {
    "duration": 17,
    "start_time": "2023-01-18T18:41:00.746Z"
   },
   {
    "duration": 37,
    "start_time": "2023-01-18T18:41:00.765Z"
   },
   {
    "duration": 36,
    "start_time": "2023-01-18T18:41:00.804Z"
   },
   {
    "duration": 31,
    "start_time": "2023-01-18T18:41:00.841Z"
   },
   {
    "duration": 26,
    "start_time": "2023-01-18T18:41:00.874Z"
   },
   {
    "duration": 148,
    "start_time": "2023-01-18T18:41:00.902Z"
   },
   {
    "duration": 0,
    "start_time": "2023-01-18T18:41:01.052Z"
   },
   {
    "duration": 0,
    "start_time": "2023-01-18T18:41:01.053Z"
   },
   {
    "duration": 0,
    "start_time": "2023-01-18T18:41:01.054Z"
   },
   {
    "duration": 0,
    "start_time": "2023-01-18T18:41:01.055Z"
   },
   {
    "duration": 0,
    "start_time": "2023-01-18T18:41:01.057Z"
   },
   {
    "duration": 0,
    "start_time": "2023-01-18T18:41:01.058Z"
   },
   {
    "duration": 13,
    "start_time": "2023-01-18T18:41:01.691Z"
   },
   {
    "duration": 10,
    "start_time": "2023-01-18T18:41:45.189Z"
   },
   {
    "duration": 13,
    "start_time": "2023-01-18T18:41:52.630Z"
   },
   {
    "duration": 1328,
    "start_time": "2023-01-18T18:48:06.678Z"
   },
   {
    "duration": 47,
    "start_time": "2023-01-18T18:48:08.008Z"
   },
   {
    "duration": 20,
    "start_time": "2023-01-18T18:48:08.104Z"
   },
   {
    "duration": 82,
    "start_time": "2023-01-18T18:48:08.126Z"
   },
   {
    "duration": 767,
    "start_time": "2023-01-18T18:48:08.210Z"
   },
   {
    "duration": 4,
    "start_time": "2023-01-18T18:48:08.979Z"
   },
   {
    "duration": 67,
    "start_time": "2023-01-18T18:48:08.984Z"
   },
   {
    "duration": 39,
    "start_time": "2023-01-18T18:48:09.053Z"
   },
   {
    "duration": 47,
    "start_time": "2023-01-18T18:48:09.094Z"
   },
   {
    "duration": 234,
    "start_time": "2023-01-18T18:48:09.144Z"
   },
   {
    "duration": 7,
    "start_time": "2023-01-18T18:48:09.380Z"
   },
   {
    "duration": 52,
    "start_time": "2023-01-18T18:48:09.388Z"
   },
   {
    "duration": 27,
    "start_time": "2023-01-18T18:48:09.442Z"
   },
   {
    "duration": 27,
    "start_time": "2023-01-18T18:48:09.470Z"
   },
   {
    "duration": 22,
    "start_time": "2023-01-18T18:48:09.499Z"
   },
   {
    "duration": 55,
    "start_time": "2023-01-18T18:48:09.522Z"
   },
   {
    "duration": 25,
    "start_time": "2023-01-18T18:48:09.578Z"
   },
   {
    "duration": 144,
    "start_time": "2023-01-18T18:48:09.605Z"
   },
   {
    "duration": 0,
    "start_time": "2023-01-18T18:48:09.751Z"
   },
   {
    "duration": 0,
    "start_time": "2023-01-18T18:48:09.752Z"
   },
   {
    "duration": 0,
    "start_time": "2023-01-18T18:48:09.753Z"
   },
   {
    "duration": 0,
    "start_time": "2023-01-18T18:48:09.755Z"
   },
   {
    "duration": 0,
    "start_time": "2023-01-18T18:48:09.757Z"
   },
   {
    "duration": 0,
    "start_time": "2023-01-18T18:48:09.758Z"
   },
   {
    "duration": 15,
    "start_time": "2023-01-18T18:48:27.426Z"
   },
   {
    "duration": 5,
    "start_time": "2023-01-18T18:48:34.590Z"
   },
   {
    "duration": 314,
    "start_time": "2023-01-18T18:48:37.293Z"
   },
   {
    "duration": 2693,
    "start_time": "2023-01-18T18:48:44.252Z"
   },
   {
    "duration": 1157,
    "start_time": "2023-01-18T18:48:46.947Z"
   },
   {
    "duration": 1131,
    "start_time": "2023-01-18T18:49:08.220Z"
   },
   {
    "duration": 479,
    "start_time": "2023-01-18T18:49:30.637Z"
   },
   {
    "duration": 328,
    "start_time": "2023-01-18T18:49:36.983Z"
   },
   {
    "duration": 83,
    "start_time": "2023-01-18T18:54:31.300Z"
   },
   {
    "duration": 527,
    "start_time": "2023-01-18T18:54:45.474Z"
   },
   {
    "duration": 238,
    "start_time": "2023-01-18T18:58:56.331Z"
   },
   {
    "duration": 11,
    "start_time": "2023-01-18T19:03:13.317Z"
   },
   {
    "duration": 8,
    "start_time": "2023-01-18T19:03:20.996Z"
   },
   {
    "duration": 50,
    "start_time": "2023-01-19T17:23:34.647Z"
   },
   {
    "duration": 6,
    "start_time": "2023-01-19T17:23:50.267Z"
   },
   {
    "duration": 1354,
    "start_time": "2023-01-19T17:23:55.473Z"
   },
   {
    "duration": 61,
    "start_time": "2023-01-19T17:24:02.686Z"
   },
   {
    "duration": 9,
    "start_time": "2023-01-19T17:24:11.402Z"
   },
   {
    "duration": 89,
    "start_time": "2023-01-19T17:24:19.252Z"
   },
   {
    "duration": 15,
    "start_time": "2023-01-19T17:24:28.478Z"
   },
   {
    "duration": 13,
    "start_time": "2023-01-19T17:25:15.590Z"
   },
   {
    "duration": 12,
    "start_time": "2023-01-19T17:26:03.474Z"
   },
   {
    "duration": 1174,
    "start_time": "2023-01-19T17:26:10.533Z"
   },
   {
    "duration": 48,
    "start_time": "2023-01-19T17:26:11.708Z"
   },
   {
    "duration": 21,
    "start_time": "2023-01-19T17:26:11.758Z"
   },
   {
    "duration": 15,
    "start_time": "2023-01-19T17:26:11.781Z"
   },
   {
    "duration": 791,
    "start_time": "2023-01-19T17:26:11.798Z"
   },
   {
    "duration": 13,
    "start_time": "2023-01-19T17:26:12.591Z"
   },
   {
    "duration": 45,
    "start_time": "2023-01-19T17:26:12.606Z"
   },
   {
    "duration": 40,
    "start_time": "2023-01-19T17:26:12.653Z"
   },
   {
    "duration": 32,
    "start_time": "2023-01-19T17:26:12.695Z"
   },
   {
    "duration": 237,
    "start_time": "2023-01-19T17:26:12.730Z"
   },
   {
    "duration": 9,
    "start_time": "2023-01-19T17:26:12.969Z"
   },
   {
    "duration": 22,
    "start_time": "2023-01-19T17:26:12.980Z"
   },
   {
    "duration": 24,
    "start_time": "2023-01-19T17:26:13.004Z"
   },
   {
    "duration": 14,
    "start_time": "2023-01-19T17:26:13.030Z"
   },
   {
    "duration": 22,
    "start_time": "2023-01-19T17:26:13.046Z"
   },
   {
    "duration": 20,
    "start_time": "2023-01-19T17:26:13.070Z"
   },
   {
    "duration": 20,
    "start_time": "2023-01-19T17:26:13.092Z"
   },
   {
    "duration": 134,
    "start_time": "2023-01-19T17:26:13.113Z"
   },
   {
    "duration": 0,
    "start_time": "2023-01-19T17:26:13.249Z"
   },
   {
    "duration": 0,
    "start_time": "2023-01-19T17:26:13.250Z"
   },
   {
    "duration": 0,
    "start_time": "2023-01-19T17:26:13.252Z"
   },
   {
    "duration": 0,
    "start_time": "2023-01-19T17:26:13.254Z"
   },
   {
    "duration": 0,
    "start_time": "2023-01-19T17:26:13.256Z"
   },
   {
    "duration": 0,
    "start_time": "2023-01-19T17:26:13.257Z"
   },
   {
    "duration": 0,
    "start_time": "2023-01-19T17:26:13.259Z"
   },
   {
    "duration": 14,
    "start_time": "2023-01-19T17:26:23.063Z"
   },
   {
    "duration": 4,
    "start_time": "2023-01-19T17:26:38.666Z"
   },
   {
    "duration": 254,
    "start_time": "2023-01-19T17:26:41.228Z"
   },
   {
    "duration": 400,
    "start_time": "2023-01-19T17:26:44.388Z"
   },
   {
    "duration": 22,
    "start_time": "2023-01-19T17:26:46.685Z"
   },
   {
    "duration": 4,
    "start_time": "2023-01-19T17:39:55.277Z"
   },
   {
    "duration": 45,
    "start_time": "2023-01-20T18:58:33.681Z"
   },
   {
    "duration": 6,
    "start_time": "2023-01-20T18:58:50.061Z"
   },
   {
    "duration": 1331,
    "start_time": "2023-01-20T18:58:54.013Z"
   },
   {
    "duration": 186,
    "start_time": "2023-01-20T18:58:56.185Z"
   },
   {
    "duration": 49,
    "start_time": "2023-01-20T18:58:58.189Z"
   },
   {
    "duration": 64,
    "start_time": "2023-01-20T18:59:05.587Z"
   },
   {
    "duration": 7,
    "start_time": "2023-01-20T18:59:14.968Z"
   },
   {
    "duration": 834,
    "start_time": "2023-01-20T18:59:29.927Z"
   },
   {
    "duration": 47,
    "start_time": "2023-01-20T18:59:39.267Z"
   },
   {
    "duration": 1063,
    "start_time": "2023-01-20T18:59:45.254Z"
   },
   {
    "duration": 48,
    "start_time": "2023-01-20T18:59:46.319Z"
   },
   {
    "duration": 17,
    "start_time": "2023-01-20T18:59:46.368Z"
   },
   {
    "duration": 12,
    "start_time": "2023-01-20T18:59:46.387Z"
   },
   {
    "duration": 664,
    "start_time": "2023-01-20T18:59:46.400Z"
   },
   {
    "duration": 3,
    "start_time": "2023-01-20T18:59:47.066Z"
   },
   {
    "duration": 20,
    "start_time": "2023-01-20T18:59:47.070Z"
   },
   {
    "duration": 13,
    "start_time": "2023-01-20T18:59:47.091Z"
   },
   {
    "duration": 4,
    "start_time": "2023-01-20T18:59:47.105Z"
   },
   {
    "duration": 183,
    "start_time": "2023-01-20T18:59:47.111Z"
   },
   {
    "duration": 7,
    "start_time": "2023-01-20T18:59:47.295Z"
   },
   {
    "duration": 8,
    "start_time": "2023-01-20T18:59:47.303Z"
   },
   {
    "duration": 15,
    "start_time": "2023-01-20T18:59:47.312Z"
   },
   {
    "duration": 15,
    "start_time": "2023-01-20T18:59:47.329Z"
   },
   {
    "duration": 5,
    "start_time": "2023-01-20T18:59:47.345Z"
   },
   {
    "duration": 12,
    "start_time": "2023-01-20T18:59:47.351Z"
   },
   {
    "duration": 5,
    "start_time": "2023-01-20T18:59:47.365Z"
   },
   {
    "duration": 105,
    "start_time": "2023-01-20T18:59:47.371Z"
   },
   {
    "duration": 0,
    "start_time": "2023-01-20T18:59:47.478Z"
   },
   {
    "duration": 0,
    "start_time": "2023-01-20T18:59:47.479Z"
   },
   {
    "duration": 0,
    "start_time": "2023-01-20T18:59:47.480Z"
   },
   {
    "duration": 0,
    "start_time": "2023-01-20T18:59:47.481Z"
   },
   {
    "duration": 0,
    "start_time": "2023-01-20T18:59:47.482Z"
   },
   {
    "duration": 0,
    "start_time": "2023-01-20T18:59:47.483Z"
   },
   {
    "duration": 0,
    "start_time": "2023-01-20T18:59:47.484Z"
   },
   {
    "duration": 0,
    "start_time": "2023-01-20T18:59:47.485Z"
   },
   {
    "duration": 13,
    "start_time": "2023-01-20T19:00:17.318Z"
   },
   {
    "duration": 14,
    "start_time": "2023-01-20T19:00:46.828Z"
   },
   {
    "duration": 12,
    "start_time": "2023-01-20T19:01:12.515Z"
   },
   {
    "duration": 3,
    "start_time": "2023-01-20T19:01:20.800Z"
   },
   {
    "duration": 204,
    "start_time": "2023-01-20T19:01:36.537Z"
   },
   {
    "duration": 4,
    "start_time": "2023-01-20T19:01:44.394Z"
   },
   {
    "duration": 214,
    "start_time": "2023-01-20T19:01:46.916Z"
   },
   {
    "duration": 379,
    "start_time": "2023-01-20T19:01:50.591Z"
   },
   {
    "duration": 3,
    "start_time": "2023-01-20T19:01:55.851Z"
   },
   {
    "duration": 8,
    "start_time": "2023-01-20T19:01:58.658Z"
   },
   {
    "duration": 51,
    "start_time": "2023-01-20T19:02:13.755Z"
   },
   {
    "duration": 19,
    "start_time": "2023-01-20T19:02:24.815Z"
   },
   {
    "duration": 14,
    "start_time": "2023-01-20T19:53:10.092Z"
   },
   {
    "duration": 17,
    "start_time": "2023-01-20T19:54:13.224Z"
   },
   {
    "duration": 15,
    "start_time": "2023-01-20T19:54:27.048Z"
   },
   {
    "duration": 14,
    "start_time": "2023-01-20T19:54:41.744Z"
   },
   {
    "duration": 0,
    "start_time": "2023-01-20T19:58:16.230Z"
   },
   {
    "duration": 0,
    "start_time": "2023-01-20T19:58:16.232Z"
   },
   {
    "duration": 45,
    "start_time": "2023-01-21T08:21:51.975Z"
   },
   {
    "duration": 1244,
    "start_time": "2023-01-21T08:22:00.548Z"
   },
   {
    "duration": 98,
    "start_time": "2023-01-21T08:22:01.793Z"
   },
   {
    "duration": 18,
    "start_time": "2023-01-21T08:22:02.398Z"
   },
   {
    "duration": 62,
    "start_time": "2023-01-21T08:22:07.348Z"
   },
   {
    "duration": 1247,
    "start_time": "2023-01-21T08:22:13.686Z"
   },
   {
    "duration": 14,
    "start_time": "2023-01-21T08:22:34.683Z"
   },
   {
    "duration": 42,
    "start_time": "2023-01-21T08:22:37.252Z"
   },
   {
    "duration": 13,
    "start_time": "2023-01-21T08:22:42.522Z"
   },
   {
    "duration": 11,
    "start_time": "2023-01-21T08:22:47.648Z"
   },
   {
    "duration": 1291,
    "start_time": "2023-01-21T08:22:56.523Z"
   },
   {
    "duration": 1115,
    "start_time": "2023-01-21T08:23:29.919Z"
   },
   {
    "duration": 52,
    "start_time": "2023-01-21T08:23:31.035Z"
   },
   {
    "duration": 17,
    "start_time": "2023-01-21T08:23:31.089Z"
   },
   {
    "duration": 13,
    "start_time": "2023-01-21T08:23:31.108Z"
   },
   {
    "duration": 731,
    "start_time": "2023-01-21T08:23:31.122Z"
   },
   {
    "duration": 7,
    "start_time": "2023-01-21T08:23:31.854Z"
   },
   {
    "duration": 23,
    "start_time": "2023-01-21T08:23:31.863Z"
   },
   {
    "duration": 14,
    "start_time": "2023-01-21T08:23:31.887Z"
   },
   {
    "duration": 4,
    "start_time": "2023-01-21T08:23:31.902Z"
   },
   {
    "duration": 179,
    "start_time": "2023-01-21T08:23:31.908Z"
   },
   {
    "duration": 7,
    "start_time": "2023-01-21T08:23:32.088Z"
   },
   {
    "duration": 13,
    "start_time": "2023-01-21T08:23:32.096Z"
   },
   {
    "duration": 24,
    "start_time": "2023-01-21T08:23:32.111Z"
   },
   {
    "duration": 24,
    "start_time": "2023-01-21T08:23:32.136Z"
   },
   {
    "duration": 10,
    "start_time": "2023-01-21T08:23:32.161Z"
   },
   {
    "duration": 5,
    "start_time": "2023-01-21T08:23:32.172Z"
   },
   {
    "duration": 108,
    "start_time": "2023-01-21T08:23:32.178Z"
   },
   {
    "duration": 0,
    "start_time": "2023-01-21T08:23:32.287Z"
   },
   {
    "duration": 0,
    "start_time": "2023-01-21T08:23:32.289Z"
   },
   {
    "duration": 0,
    "start_time": "2023-01-21T08:23:32.290Z"
   },
   {
    "duration": 0,
    "start_time": "2023-01-21T08:23:32.291Z"
   },
   {
    "duration": 0,
    "start_time": "2023-01-21T08:23:32.292Z"
   },
   {
    "duration": 0,
    "start_time": "2023-01-21T08:23:32.293Z"
   },
   {
    "duration": 0,
    "start_time": "2023-01-21T08:23:32.294Z"
   },
   {
    "duration": 0,
    "start_time": "2023-01-21T08:23:32.294Z"
   },
   {
    "duration": 14,
    "start_time": "2023-01-21T08:23:38.179Z"
   },
   {
    "duration": 3,
    "start_time": "2023-01-21T08:23:47.663Z"
   },
   {
    "duration": 4,
    "start_time": "2023-01-21T08:23:54.239Z"
   },
   {
    "duration": 41,
    "start_time": "2023-01-21T08:24:03.458Z"
   },
   {
    "duration": 3,
    "start_time": "2023-01-21T08:24:07.228Z"
   },
   {
    "duration": 3,
    "start_time": "2023-01-21T08:24:14.232Z"
   },
   {
    "duration": 18,
    "start_time": "2023-01-21T08:24:17.642Z"
   },
   {
    "duration": 9,
    "start_time": "2023-01-21T08:24:25.115Z"
   },
   {
    "duration": 8,
    "start_time": "2023-01-21T08:24:32.490Z"
   },
   {
    "duration": 6,
    "start_time": "2023-01-21T08:24:33.965Z"
   },
   {
    "duration": 6,
    "start_time": "2023-01-21T08:24:34.385Z"
   },
   {
    "duration": 4,
    "start_time": "2023-01-21T08:24:34.748Z"
   },
   {
    "duration": 8,
    "start_time": "2023-01-21T08:24:35.321Z"
   },
   {
    "duration": 4,
    "start_time": "2023-01-21T08:24:38.855Z"
   },
   {
    "duration": 3,
    "start_time": "2023-01-21T08:24:49.978Z"
   },
   {
    "duration": 290,
    "start_time": "2023-01-21T08:24:56.814Z"
   },
   {
    "duration": 4,
    "start_time": "2023-01-21T08:25:16.072Z"
   },
   {
    "duration": 216,
    "start_time": "2023-01-21T08:25:19.507Z"
   },
   {
    "duration": 393,
    "start_time": "2023-01-21T08:25:22.426Z"
   },
   {
    "duration": 15,
    "start_time": "2023-01-21T08:25:26.820Z"
   },
   {
    "duration": 538,
    "start_time": "2023-01-21T08:25:42.185Z"
   },
   {
    "duration": 10,
    "start_time": "2023-01-21T08:25:55.274Z"
   },
   {
    "duration": 2,
    "start_time": "2023-01-21T08:25:58.860Z"
   },
   {
    "duration": 15,
    "start_time": "2023-01-21T08:26:00.780Z"
   },
   {
    "duration": 4,
    "start_time": "2023-01-21T08:27:13.833Z"
   },
   {
    "duration": 15,
    "start_time": "2023-01-21T08:27:17.560Z"
   },
   {
    "duration": 68,
    "start_time": "2023-01-21T08:28:45.347Z"
   },
   {
    "duration": 90,
    "start_time": "2023-01-21T08:29:00.103Z"
   },
   {
    "duration": 76,
    "start_time": "2023-01-21T08:29:32.785Z"
   },
   {
    "duration": 84,
    "start_time": "2023-01-21T08:30:16.158Z"
   },
   {
    "duration": 70,
    "start_time": "2023-01-21T08:30:31.143Z"
   },
   {
    "duration": 6,
    "start_time": "2023-01-21T08:30:35.793Z"
   },
   {
    "duration": 2544,
    "start_time": "2023-01-21T08:30:41.844Z"
   },
   {
    "duration": 20,
    "start_time": "2023-01-21T08:30:54.919Z"
   },
   {
    "duration": 35,
    "start_time": "2023-01-21T08:31:13.085Z"
   },
   {
    "duration": 6,
    "start_time": "2023-01-21T08:31:18.145Z"
   },
   {
    "duration": 2425,
    "start_time": "2023-01-21T08:31:31.843Z"
   },
   {
    "duration": 12,
    "start_time": "2023-01-21T08:40:12.806Z"
   },
   {
    "duration": 6,
    "start_time": "2023-01-21T08:40:49.078Z"
   },
   {
    "duration": 11,
    "start_time": "2023-01-21T08:41:31.192Z"
   },
   {
    "duration": 11,
    "start_time": "2023-01-21T08:41:49.026Z"
   },
   {
    "duration": 8,
    "start_time": "2023-01-21T08:41:51.605Z"
   },
   {
    "duration": 10,
    "start_time": "2023-01-21T08:42:11.856Z"
   },
   {
    "duration": 8,
    "start_time": "2023-01-21T08:42:15.202Z"
   },
   {
    "duration": 1125,
    "start_time": "2023-01-21T08:55:04.071Z"
   },
   {
    "duration": 3,
    "start_time": "2023-01-21T09:03:40.200Z"
   },
   {
    "duration": 121,
    "start_time": "2023-01-21T09:03:46.669Z"
   },
   {
    "duration": 3,
    "start_time": "2023-01-21T09:04:50.751Z"
   },
   {
    "duration": 124,
    "start_time": "2023-01-21T09:04:57.817Z"
   },
   {
    "duration": 1464,
    "start_time": "2023-01-21T09:05:10.666Z"
   },
   {
    "duration": 3,
    "start_time": "2023-01-21T09:05:35.197Z"
   },
   {
    "duration": 1430,
    "start_time": "2023-01-21T09:05:41.324Z"
   },
   {
    "duration": 3,
    "start_time": "2023-01-21T09:11:46.251Z"
   },
   {
    "duration": 296,
    "start_time": "2023-01-21T09:11:50.747Z"
   },
   {
    "duration": 142,
    "start_time": "2023-01-21T09:23:14.391Z"
   },
   {
    "duration": 363,
    "start_time": "2023-01-21T09:23:28.069Z"
   },
   {
    "duration": 167,
    "start_time": "2023-01-21T09:26:03.368Z"
   },
   {
    "duration": 320,
    "start_time": "2023-01-21T09:29:26.861Z"
   },
   {
    "duration": 12,
    "start_time": "2023-01-21T09:30:30.260Z"
   },
   {
    "duration": 370,
    "start_time": "2023-01-21T09:30:37.553Z"
   },
   {
    "duration": 1144,
    "start_time": "2023-01-21T09:38:39.941Z"
   },
   {
    "duration": 297,
    "start_time": "2023-01-21T09:38:56.002Z"
   },
   {
    "duration": 25,
    "start_time": "2023-01-21T09:39:20.888Z"
   },
   {
    "duration": 104,
    "start_time": "2023-01-21T09:39:48.653Z"
   },
   {
    "duration": 189,
    "start_time": "2023-01-21T09:45:16.117Z"
   },
   {
    "duration": 6,
    "start_time": "2023-01-21T09:50:04.297Z"
   },
   {
    "duration": 11,
    "start_time": "2023-01-21T09:50:16.628Z"
   },
   {
    "duration": 5,
    "start_time": "2023-01-21T09:50:23.625Z"
   },
   {
    "duration": 195,
    "start_time": "2023-01-21T09:50:25.326Z"
   },
   {
    "duration": 10,
    "start_time": "2023-01-21T09:50:57.536Z"
   },
   {
    "duration": 8,
    "start_time": "2023-01-21T09:51:07.130Z"
   },
   {
    "duration": 187,
    "start_time": "2023-01-21T09:51:09.213Z"
   },
   {
    "duration": 71,
    "start_time": "2023-01-21T09:51:47.372Z"
   },
   {
    "duration": 178,
    "start_time": "2023-01-21T09:51:52.598Z"
   },
   {
    "duration": 14,
    "start_time": "2023-01-21T10:15:05.662Z"
   },
   {
    "duration": 6,
    "start_time": "2023-01-21T10:19:56.896Z"
   },
   {
    "duration": 258,
    "start_time": "2023-01-21T10:19:59.930Z"
   },
   {
    "duration": 185,
    "start_time": "2023-01-21T10:20:11.998Z"
   },
   {
    "duration": 9,
    "start_time": "2023-01-21T10:30:32.470Z"
   },
   {
    "duration": 14,
    "start_time": "2023-01-21T10:30:39.967Z"
   },
   {
    "duration": 8,
    "start_time": "2023-01-21T10:30:46.240Z"
   },
   {
    "duration": 302,
    "start_time": "2023-01-21T10:30:49.795Z"
   },
   {
    "duration": 4,
    "start_time": "2023-01-21T10:35:06.745Z"
   },
   {
    "duration": 13,
    "start_time": "2023-01-21T10:35:09.198Z"
   },
   {
    "duration": 4,
    "start_time": "2023-01-21T10:35:28.716Z"
   },
   {
    "duration": 1108,
    "start_time": "2023-01-21T10:37:07.291Z"
   },
   {
    "duration": 70,
    "start_time": "2023-01-21T10:58:12.716Z"
   },
   {
    "duration": 258,
    "start_time": "2023-01-21T10:58:19.407Z"
   },
   {
    "duration": 259,
    "start_time": "2023-01-21T10:59:20.047Z"
   },
   {
    "duration": 234,
    "start_time": "2023-01-21T10:59:31.418Z"
   },
   {
    "duration": 13,
    "start_time": "2023-01-21T11:16:56.804Z"
   },
   {
    "duration": 3,
    "start_time": "2023-01-21T11:18:35.405Z"
   },
   {
    "duration": 11,
    "start_time": "2023-01-21T11:18:38.428Z"
   },
   {
    "duration": 8,
    "start_time": "2023-01-21T11:18:42.855Z"
   },
   {
    "duration": 1382,
    "start_time": "2023-01-21T11:18:46.818Z"
   },
   {
    "duration": 4,
    "start_time": "2023-01-21T11:19:02.506Z"
   },
   {
    "duration": 256,
    "start_time": "2023-01-21T11:19:05.501Z"
   },
   {
    "duration": 1333,
    "start_time": "2023-01-21T11:19:13.245Z"
   },
   {
    "duration": 3,
    "start_time": "2023-01-21T11:20:16.432Z"
   },
   {
    "duration": 13,
    "start_time": "2023-01-21T11:20:20.465Z"
   },
   {
    "duration": 7,
    "start_time": "2023-01-21T11:20:23.373Z"
   },
   {
    "duration": 1596,
    "start_time": "2023-01-21T11:20:27.833Z"
   },
   {
    "duration": 3,
    "start_time": "2023-01-21T11:29:25.073Z"
   },
   {
    "duration": 10,
    "start_time": "2023-01-21T11:29:28.108Z"
   },
   {
    "duration": 312,
    "start_time": "2023-01-21T11:29:30.292Z"
   },
   {
    "duration": 6,
    "start_time": "2023-01-21T11:32:26.461Z"
   },
   {
    "duration": 5,
    "start_time": "2023-01-21T11:32:34.012Z"
   },
   {
    "duration": 163,
    "start_time": "2023-01-21T11:32:36.161Z"
   },
   {
    "duration": 34,
    "start_time": "2023-01-21T11:36:48.899Z"
   },
   {
    "duration": 10,
    "start_time": "2023-01-21T11:37:18.359Z"
   },
   {
    "duration": 7,
    "start_time": "2023-01-21T11:37:21.161Z"
   },
   {
    "duration": 174,
    "start_time": "2023-01-21T11:38:05.378Z"
   },
   {
    "duration": 1048,
    "start_time": "2023-01-21T11:38:20.666Z"
   },
   {
    "duration": 45,
    "start_time": "2023-01-21T11:38:21.715Z"
   },
   {
    "duration": 18,
    "start_time": "2023-01-21T11:38:21.762Z"
   },
   {
    "duration": 13,
    "start_time": "2023-01-21T11:38:21.782Z"
   },
   {
    "duration": 742,
    "start_time": "2023-01-21T11:38:21.796Z"
   },
   {
    "duration": 4,
    "start_time": "2023-01-21T11:38:22.539Z"
   },
   {
    "duration": 32,
    "start_time": "2023-01-21T11:38:22.544Z"
   },
   {
    "duration": 19,
    "start_time": "2023-01-21T11:38:22.578Z"
   },
   {
    "duration": 5,
    "start_time": "2023-01-21T11:38:22.599Z"
   },
   {
    "duration": 175,
    "start_time": "2023-01-21T11:38:22.606Z"
   },
   {
    "duration": 15,
    "start_time": "2023-01-21T11:38:22.783Z"
   },
   {
    "duration": 6,
    "start_time": "2023-01-21T11:38:22.799Z"
   },
   {
    "duration": 7,
    "start_time": "2023-01-21T11:38:22.806Z"
   },
   {
    "duration": 24,
    "start_time": "2023-01-21T11:38:22.814Z"
   },
   {
    "duration": 4,
    "start_time": "2023-01-21T11:38:22.840Z"
   },
   {
    "duration": 11,
    "start_time": "2023-01-21T11:38:22.845Z"
   },
   {
    "duration": 3,
    "start_time": "2023-01-21T11:38:22.858Z"
   },
   {
    "duration": 9,
    "start_time": "2023-01-21T11:38:22.863Z"
   },
   {
    "duration": 6,
    "start_time": "2023-01-21T11:38:22.873Z"
   },
   {
    "duration": 241,
    "start_time": "2023-01-21T11:38:22.881Z"
   },
   {
    "duration": 369,
    "start_time": "2023-01-21T11:38:23.124Z"
   },
   {
    "duration": 3,
    "start_time": "2023-01-21T11:38:23.495Z"
   },
   {
    "duration": 16,
    "start_time": "2023-01-21T11:38:23.500Z"
   },
   {
    "duration": 123,
    "start_time": "2023-01-21T11:38:23.518Z"
   },
   {
    "duration": 0,
    "start_time": "2023-01-21T11:38:23.643Z"
   },
   {
    "duration": 0,
    "start_time": "2023-01-21T11:38:23.644Z"
   },
   {
    "duration": 0,
    "start_time": "2023-01-21T11:38:23.646Z"
   },
   {
    "duration": 0,
    "start_time": "2023-01-21T11:38:23.647Z"
   },
   {
    "duration": 0,
    "start_time": "2023-01-21T11:38:23.648Z"
   },
   {
    "duration": 0,
    "start_time": "2023-01-21T11:38:23.649Z"
   },
   {
    "duration": 8,
    "start_time": "2023-01-21T11:38:44.662Z"
   },
   {
    "duration": 16,
    "start_time": "2023-01-21T11:38:46.502Z"
   },
   {
    "duration": 11,
    "start_time": "2023-01-21T11:39:57.948Z"
   },
   {
    "duration": 7,
    "start_time": "2023-01-21T11:39:59.912Z"
   },
   {
    "duration": 5679,
    "start_time": "2023-01-21T11:40:05.709Z"
   },
   {
    "duration": 11,
    "start_time": "2023-01-21T11:40:33.324Z"
   },
   {
    "duration": 5,
    "start_time": "2023-01-21T11:40:40.295Z"
   },
   {
    "duration": 16,
    "start_time": "2023-01-21T11:40:42.469Z"
   },
   {
    "duration": 166,
    "start_time": "2023-01-21T11:40:48.015Z"
   },
   {
    "duration": 67,
    "start_time": "2023-01-21T11:40:56.824Z"
   },
   {
    "duration": 7,
    "start_time": "2023-01-21T11:40:59.844Z"
   },
   {
    "duration": 41,
    "start_time": "2023-01-21T11:41:01.795Z"
   },
   {
    "duration": 4,
    "start_time": "2023-01-21T11:41:05.686Z"
   },
   {
    "duration": 166,
    "start_time": "2023-01-21T11:41:07.487Z"
   },
   {
    "duration": 7,
    "start_time": "2023-01-21T11:43:26.961Z"
   },
   {
    "duration": 22,
    "start_time": "2023-01-21T11:43:31.333Z"
   },
   {
    "duration": 66,
    "start_time": "2023-01-21T11:44:09.177Z"
   },
   {
    "duration": 11,
    "start_time": "2023-01-21T11:44:14.186Z"
   },
   {
    "duration": 5,
    "start_time": "2023-01-21T11:44:22.619Z"
   },
   {
    "duration": 169,
    "start_time": "2023-01-21T11:44:24.591Z"
   },
   {
    "duration": 3,
    "start_time": "2023-01-21T11:45:01.187Z"
   },
   {
    "duration": 17,
    "start_time": "2023-01-21T11:45:03.435Z"
   },
   {
    "duration": 4,
    "start_time": "2023-01-21T11:45:46.245Z"
   },
   {
    "duration": 3,
    "start_time": "2023-01-21T11:45:52.089Z"
   },
   {
    "duration": 15,
    "start_time": "2023-01-21T11:45:54.451Z"
   },
   {
    "duration": 6,
    "start_time": "2023-01-21T11:46:12.338Z"
   },
   {
    "duration": 6,
    "start_time": "2023-01-21T11:46:16.900Z"
   },
   {
    "duration": 4,
    "start_time": "2023-01-21T11:46:21.859Z"
   },
   {
    "duration": 20,
    "start_time": "2023-01-21T11:46:42.486Z"
   },
   {
    "duration": 15,
    "start_time": "2023-01-21T11:47:14.203Z"
   },
   {
    "duration": 14,
    "start_time": "2023-01-21T11:51:38.998Z"
   },
   {
    "duration": 2,
    "start_time": "2023-01-21T11:52:51.318Z"
   },
   {
    "duration": 16,
    "start_time": "2023-01-21T11:52:54.488Z"
   },
   {
    "duration": 1224,
    "start_time": "2023-01-21T11:53:32.005Z"
   },
   {
    "duration": 7,
    "start_time": "2023-01-21T11:54:08.279Z"
   },
   {
    "duration": 10,
    "start_time": "2023-01-21T11:54:11.202Z"
   },
   {
    "duration": 9,
    "start_time": "2023-01-21T11:54:14.768Z"
   },
   {
    "duration": 6,
    "start_time": "2023-01-21T11:54:44.389Z"
   },
   {
    "duration": 22,
    "start_time": "2023-01-21T11:54:53.108Z"
   },
   {
    "duration": 1055,
    "start_time": "2023-01-21T11:55:01.875Z"
   },
   {
    "duration": 44,
    "start_time": "2023-01-21T11:55:02.931Z"
   },
   {
    "duration": 17,
    "start_time": "2023-01-21T11:55:02.976Z"
   },
   {
    "duration": 57,
    "start_time": "2023-01-21T11:55:02.994Z"
   },
   {
    "duration": 755,
    "start_time": "2023-01-21T11:55:03.054Z"
   },
   {
    "duration": 3,
    "start_time": "2023-01-21T11:55:03.811Z"
   },
   {
    "duration": 78,
    "start_time": "2023-01-21T11:55:03.816Z"
   },
   {
    "duration": 53,
    "start_time": "2023-01-21T11:55:03.896Z"
   },
   {
    "duration": 64,
    "start_time": "2023-01-21T11:55:03.950Z"
   },
   {
    "duration": 200,
    "start_time": "2023-01-21T11:55:04.016Z"
   },
   {
    "duration": 25,
    "start_time": "2023-01-21T11:55:04.217Z"
   },
   {
    "duration": 69,
    "start_time": "2023-01-21T11:55:04.243Z"
   },
   {
    "duration": 37,
    "start_time": "2023-01-21T11:55:04.313Z"
   },
   {
    "duration": 38,
    "start_time": "2023-01-21T11:55:04.353Z"
   },
   {
    "duration": 31,
    "start_time": "2023-01-21T11:55:04.393Z"
   },
   {
    "duration": 55,
    "start_time": "2023-01-21T11:55:04.425Z"
   },
   {
    "duration": 26,
    "start_time": "2023-01-21T11:55:04.482Z"
   },
   {
    "duration": 36,
    "start_time": "2023-01-21T11:55:04.509Z"
   },
   {
    "duration": 29,
    "start_time": "2023-01-21T11:55:04.547Z"
   },
   {
    "duration": 260,
    "start_time": "2023-01-21T11:55:04.577Z"
   },
   {
    "duration": 375,
    "start_time": "2023-01-21T11:55:04.838Z"
   },
   {
    "duration": 3,
    "start_time": "2023-01-21T11:55:05.214Z"
   },
   {
    "duration": 28,
    "start_time": "2023-01-21T11:55:05.218Z"
   },
   {
    "duration": 11,
    "start_time": "2023-01-21T11:55:05.248Z"
   },
   {
    "duration": 222,
    "start_time": "2023-01-21T11:55:05.260Z"
   },
   {
    "duration": 0,
    "start_time": "2023-01-21T11:55:05.483Z"
   },
   {
    "duration": 0,
    "start_time": "2023-01-21T11:55:05.485Z"
   },
   {
    "duration": 0,
    "start_time": "2023-01-21T11:55:05.485Z"
   },
   {
    "duration": 0,
    "start_time": "2023-01-21T11:55:05.487Z"
   },
   {
    "duration": 0,
    "start_time": "2023-01-21T11:55:05.488Z"
   },
   {
    "duration": 129,
    "start_time": "2023-01-21T12:26:35.976Z"
   },
   {
    "duration": 279,
    "start_time": "2023-01-21T12:26:51.086Z"
   },
   {
    "duration": 8,
    "start_time": "2023-01-21T12:27:16.756Z"
   },
   {
    "duration": 8,
    "start_time": "2023-01-21T12:27:19.241Z"
   },
   {
    "duration": 24,
    "start_time": "2023-01-21T12:27:21.425Z"
   },
   {
    "duration": 42,
    "start_time": "2023-01-21T12:27:39.078Z"
   },
   {
    "duration": 15,
    "start_time": "2023-01-21T12:27:41.282Z"
   },
   {
    "duration": 1257,
    "start_time": "2023-01-21T12:27:49.894Z"
   },
   {
    "duration": 1374,
    "start_time": "2023-01-21T12:29:43.633Z"
   },
   {
    "duration": 2,
    "start_time": "2023-01-21T12:29:53.358Z"
   },
   {
    "duration": 42,
    "start_time": "2023-01-21T12:29:53.804Z"
   },
   {
    "duration": 17,
    "start_time": "2023-01-21T12:29:54.241Z"
   },
   {
    "duration": 13,
    "start_time": "2023-01-21T12:29:56.982Z"
   },
   {
    "duration": 665,
    "start_time": "2023-01-21T12:29:58.789Z"
   },
   {
    "duration": 1209,
    "start_time": "2023-01-21T12:30:23.593Z"
   },
   {
    "duration": 1364,
    "start_time": "2023-01-21T12:32:19.454Z"
   },
   {
    "duration": 1118,
    "start_time": "2023-01-21T12:33:12.283Z"
   },
   {
    "duration": 43,
    "start_time": "2023-01-21T12:33:25.111Z"
   },
   {
    "duration": 3,
    "start_time": "2023-01-21T12:33:34.027Z"
   },
   {
    "duration": 19,
    "start_time": "2023-01-21T12:33:36.352Z"
   },
   {
    "duration": 5,
    "start_time": "2023-01-21T12:33:47.280Z"
   },
   {
    "duration": 379,
    "start_time": "2023-01-21T12:33:53.507Z"
   },
   {
    "duration": 215,
    "start_time": "2023-01-21T12:34:03.554Z"
   },
   {
    "duration": 283,
    "start_time": "2023-01-21T12:34:06.689Z"
   },
   {
    "duration": 3,
    "start_time": "2023-01-21T12:34:14.308Z"
   },
   {
    "duration": 10,
    "start_time": "2023-01-21T12:34:16.456Z"
   },
   {
    "duration": 7,
    "start_time": "2023-01-21T12:34:18.254Z"
   },
   {
    "duration": 272,
    "start_time": "2023-01-21T12:34:23.103Z"
   },
   {
    "duration": 8,
    "start_time": "2023-01-21T12:38:19.952Z"
   },
   {
    "duration": 25,
    "start_time": "2023-01-21T12:38:22.675Z"
   },
   {
    "duration": 4,
    "start_time": "2023-01-21T12:39:08.438Z"
   },
   {
    "duration": 15,
    "start_time": "2023-01-21T12:39:09.619Z"
   },
   {
    "duration": 11,
    "start_time": "2023-01-21T12:39:43.370Z"
   },
   {
    "duration": 3,
    "start_time": "2023-01-21T12:39:45.907Z"
   },
   {
    "duration": 11,
    "start_time": "2023-01-21T12:39:47.590Z"
   },
   {
    "duration": 14,
    "start_time": "2023-01-21T12:40:08.632Z"
   },
   {
    "duration": 2,
    "start_time": "2023-01-21T12:40:36.940Z"
   },
   {
    "duration": 11,
    "start_time": "2023-01-21T12:40:39.165Z"
   },
   {
    "duration": 2,
    "start_time": "2023-01-21T12:40:50.937Z"
   },
   {
    "duration": 15,
    "start_time": "2023-01-21T12:40:52.778Z"
   },
   {
    "duration": 11,
    "start_time": "2023-01-21T12:42:18.599Z"
   },
   {
    "duration": 17,
    "start_time": "2023-01-21T12:42:22.326Z"
   },
   {
    "duration": 5,
    "start_time": "2023-01-21T12:42:53.311Z"
   },
   {
    "duration": 5,
    "start_time": "2023-01-21T12:42:58.304Z"
   },
   {
    "duration": 3,
    "start_time": "2023-01-21T12:43:23.332Z"
   },
   {
    "duration": 4,
    "start_time": "2023-01-21T12:43:25.841Z"
   },
   {
    "duration": 15,
    "start_time": "2023-01-21T12:43:28.550Z"
   },
   {
    "duration": 14,
    "start_time": "2023-01-21T12:43:40.152Z"
   },
   {
    "duration": 16,
    "start_time": "2023-01-21T12:44:23.604Z"
   },
   {
    "duration": 13,
    "start_time": "2023-01-21T12:44:51.221Z"
   },
   {
    "duration": 14,
    "start_time": "2023-01-21T12:45:38.745Z"
   },
   {
    "duration": 13,
    "start_time": "2023-01-21T12:45:47.347Z"
   },
   {
    "duration": 15,
    "start_time": "2023-01-21T12:45:57.913Z"
   },
   {
    "duration": 205,
    "start_time": "2023-01-21T12:46:47.321Z"
   },
   {
    "duration": 107,
    "start_time": "2023-01-21T12:47:08.204Z"
   },
   {
    "duration": 13,
    "start_time": "2023-01-21T12:53:22.026Z"
   },
   {
    "duration": 13,
    "start_time": "2023-01-21T12:53:27.813Z"
   },
   {
    "duration": 13,
    "start_time": "2023-01-21T12:53:39.933Z"
   },
   {
    "duration": 14,
    "start_time": "2023-01-21T12:53:48.459Z"
   },
   {
    "duration": 12,
    "start_time": "2023-01-21T12:55:43.196Z"
   },
   {
    "duration": 8,
    "start_time": "2023-01-21T12:55:53.870Z"
   },
   {
    "duration": 3,
    "start_time": "2023-01-21T12:56:56.576Z"
   },
   {
    "duration": 16,
    "start_time": "2023-01-21T12:56:58.516Z"
   },
   {
    "duration": 14,
    "start_time": "2023-01-21T12:57:23.907Z"
   },
   {
    "duration": 16,
    "start_time": "2023-01-21T12:57:32.868Z"
   },
   {
    "duration": 8,
    "start_time": "2023-01-21T12:57:45.668Z"
   },
   {
    "duration": 1070,
    "start_time": "2023-01-21T12:58:18.564Z"
   },
   {
    "duration": 5,
    "start_time": "2023-01-21T12:58:25.001Z"
   },
   {
    "duration": 15,
    "start_time": "2023-01-21T12:58:36.245Z"
   },
   {
    "duration": 152,
    "start_time": "2023-01-21T12:58:56.981Z"
   },
   {
    "duration": 117,
    "start_time": "2023-01-21T13:05:07.405Z"
   },
   {
    "duration": 165,
    "start_time": "2023-01-21T13:05:20.498Z"
   },
   {
    "duration": 119,
    "start_time": "2023-01-21T13:07:42.662Z"
   },
   {
    "duration": 111,
    "start_time": "2023-01-21T13:08:05.466Z"
   },
   {
    "duration": 71,
    "start_time": "2023-01-21T13:08:10.038Z"
   },
   {
    "duration": 110,
    "start_time": "2023-01-21T13:08:17.663Z"
   },
   {
    "duration": 235,
    "start_time": "2023-01-21T13:12:03.986Z"
   },
   {
    "duration": 8,
    "start_time": "2023-01-21T13:28:04.395Z"
   },
   {
    "duration": 11,
    "start_time": "2023-01-21T13:28:10.849Z"
   },
   {
    "duration": 16,
    "start_time": "2023-01-21T13:28:42.222Z"
   },
   {
    "duration": 10,
    "start_time": "2023-01-21T13:29:02.584Z"
   },
   {
    "duration": 5,
    "start_time": "2023-01-21T13:29:11.908Z"
   },
   {
    "duration": 4,
    "start_time": "2023-01-21T13:29:32.651Z"
   },
   {
    "duration": 5,
    "start_time": "2023-01-21T13:29:42.575Z"
   },
   {
    "duration": 13,
    "start_time": "2023-01-21T13:29:54.177Z"
   },
   {
    "duration": 245,
    "start_time": "2023-01-21T13:30:05.813Z"
   },
   {
    "duration": 11,
    "start_time": "2023-01-21T13:30:23.362Z"
   },
   {
    "duration": 110,
    "start_time": "2023-01-21T13:31:34.765Z"
   },
   {
    "duration": 224,
    "start_time": "2023-01-21T13:31:48.041Z"
   },
   {
    "duration": 10,
    "start_time": "2023-01-21T13:32:15.922Z"
   },
   {
    "duration": 3,
    "start_time": "2023-01-21T13:32:40.303Z"
   },
   {
    "duration": 9,
    "start_time": "2023-01-21T13:32:50.128Z"
   },
   {
    "duration": 12,
    "start_time": "2023-01-21T13:32:55.257Z"
   },
   {
    "duration": 3,
    "start_time": "2023-01-21T13:33:19.607Z"
   },
   {
    "duration": 12,
    "start_time": "2023-01-21T13:33:35.460Z"
   },
   {
    "duration": 12,
    "start_time": "2023-01-21T13:33:57.304Z"
   },
   {
    "duration": 12,
    "start_time": "2023-01-21T13:35:16.867Z"
   },
   {
    "duration": 8,
    "start_time": "2023-01-21T13:35:35.887Z"
   },
   {
    "duration": 12,
    "start_time": "2023-01-21T13:35:44.516Z"
   },
   {
    "duration": 205,
    "start_time": "2023-01-21T13:35:59.879Z"
   },
   {
    "duration": 6,
    "start_time": "2023-01-21T13:36:07.215Z"
   },
   {
    "duration": 6,
    "start_time": "2023-01-21T13:37:00.903Z"
   },
   {
    "duration": 23,
    "start_time": "2023-01-21T13:37:03.746Z"
   },
   {
    "duration": 176,
    "start_time": "2023-01-21T13:37:05.592Z"
   },
   {
    "duration": 280,
    "start_time": "2023-01-21T13:37:11.418Z"
   },
   {
    "duration": 6,
    "start_time": "2023-01-21T13:37:18.116Z"
   },
   {
    "duration": 11,
    "start_time": "2023-01-21T13:37:32.492Z"
   },
   {
    "duration": 21,
    "start_time": "2023-01-21T13:38:04.517Z"
   },
   {
    "duration": 7,
    "start_time": "2023-01-21T13:38:12.224Z"
   },
   {
    "duration": 21,
    "start_time": "2023-01-21T13:38:14.468Z"
   },
   {
    "duration": 12,
    "start_time": "2023-01-21T13:38:30.394Z"
   },
   {
    "duration": 14,
    "start_time": "2023-01-21T13:38:52.249Z"
   },
   {
    "duration": 8,
    "start_time": "2023-01-21T13:39:14.296Z"
   },
   {
    "duration": 10,
    "start_time": "2023-01-21T13:39:18.177Z"
   },
   {
    "duration": 4,
    "start_time": "2023-01-21T13:39:23.038Z"
   },
   {
    "duration": 13,
    "start_time": "2023-01-21T13:39:35.408Z"
   },
   {
    "duration": 14,
    "start_time": "2023-01-21T13:39:42.856Z"
   },
   {
    "duration": 225,
    "start_time": "2023-01-21T13:39:51.547Z"
   },
   {
    "duration": 270,
    "start_time": "2023-01-21T13:39:59.243Z"
   },
   {
    "duration": 12,
    "start_time": "2023-01-21T13:40:04.492Z"
   },
   {
    "duration": 8,
    "start_time": "2023-01-21T13:40:09.975Z"
   },
   {
    "duration": 23,
    "start_time": "2023-01-21T13:40:12.400Z"
   },
   {
    "duration": 9,
    "start_time": "2023-01-21T13:40:43.051Z"
   },
   {
    "duration": 10,
    "start_time": "2023-01-21T13:40:46.366Z"
   },
   {
    "duration": 11,
    "start_time": "2023-01-21T13:42:25.168Z"
   },
   {
    "duration": 194,
    "start_time": "2023-01-21T13:49:00.067Z"
   },
   {
    "duration": 221,
    "start_time": "2023-01-21T13:49:08.082Z"
   },
   {
    "duration": 228,
    "start_time": "2023-01-21T13:49:28.540Z"
   },
   {
    "duration": 213,
    "start_time": "2023-01-21T13:49:35.488Z"
   },
   {
    "duration": 148,
    "start_time": "2023-01-21T14:15:16.237Z"
   },
   {
    "duration": 8,
    "start_time": "2023-01-21T14:16:32.720Z"
   },
   {
    "duration": 166,
    "start_time": "2023-01-21T14:16:38.767Z"
   },
   {
    "duration": 236,
    "start_time": "2023-01-21T14:16:48.003Z"
   },
   {
    "duration": 140,
    "start_time": "2023-01-21T14:17:21.016Z"
   },
   {
    "duration": 143,
    "start_time": "2023-01-21T14:17:28.275Z"
   },
   {
    "duration": 4,
    "start_time": "2023-01-21T14:19:04.180Z"
   },
   {
    "duration": 7,
    "start_time": "2023-01-21T14:20:28.572Z"
   },
   {
    "duration": 145,
    "start_time": "2023-01-21T14:20:30.339Z"
   },
   {
    "duration": 5,
    "start_time": "2023-01-21T14:20:42.709Z"
   },
   {
    "duration": 146,
    "start_time": "2023-01-21T14:20:44.799Z"
   },
   {
    "duration": 149,
    "start_time": "2023-01-21T14:23:15.053Z"
   },
   {
    "duration": 136,
    "start_time": "2023-01-21T14:23:27.904Z"
   },
   {
    "duration": 9,
    "start_time": "2023-01-21T14:26:17.021Z"
   },
   {
    "duration": 411,
    "start_time": "2023-01-21T14:38:18.491Z"
   },
   {
    "duration": 9,
    "start_time": "2023-01-21T14:46:56.580Z"
   },
   {
    "duration": 8,
    "start_time": "2023-01-21T14:47:16.775Z"
   },
   {
    "duration": 1263,
    "start_time": "2023-01-21T14:47:26.745Z"
   },
   {
    "duration": 920,
    "start_time": "2023-01-21T14:49:07.994Z"
   },
   {
    "duration": 946,
    "start_time": "2023-01-21T14:49:22.778Z"
   },
   {
    "duration": 19,
    "start_time": "2023-01-21T15:02:26.101Z"
   },
   {
    "duration": 190,
    "start_time": "2023-01-21T15:04:11.496Z"
   },
   {
    "duration": 7,
    "start_time": "2023-01-21T15:20:53.788Z"
   },
   {
    "duration": 40,
    "start_time": "2023-01-21T15:21:02.726Z"
   },
   {
    "duration": 33,
    "start_time": "2023-01-21T15:21:09.886Z"
   },
   {
    "duration": 51,
    "start_time": "2023-01-21T15:23:27.334Z"
   },
   {
    "duration": 125,
    "start_time": "2023-01-21T15:23:40.825Z"
   },
   {
    "duration": 10,
    "start_time": "2023-01-21T15:23:59.012Z"
   },
   {
    "duration": 9,
    "start_time": "2023-01-21T15:24:09.726Z"
   },
   {
    "duration": 2,
    "start_time": "2023-01-21T15:25:24.743Z"
   },
   {
    "duration": 10,
    "start_time": "2023-01-21T15:25:31.131Z"
   },
   {
    "duration": 39,
    "start_time": "2023-01-21T15:25:47.543Z"
   },
   {
    "duration": 9,
    "start_time": "2023-01-21T15:26:32.562Z"
   },
   {
    "duration": 32,
    "start_time": "2023-01-21T15:26:36.027Z"
   },
   {
    "duration": 163,
    "start_time": "2023-01-21T15:26:39.722Z"
   },
   {
    "duration": 5,
    "start_time": "2023-01-21T15:34:52.209Z"
   },
   {
    "duration": 5,
    "start_time": "2023-01-21T15:34:55.794Z"
   },
   {
    "duration": 5,
    "start_time": "2023-01-21T15:37:17.003Z"
   },
   {
    "duration": 5,
    "start_time": "2023-01-21T15:37:19.690Z"
   },
   {
    "duration": 5,
    "start_time": "2023-01-21T15:37:27.051Z"
   },
   {
    "duration": 4,
    "start_time": "2023-01-21T15:37:29.885Z"
   },
   {
    "duration": 40,
    "start_time": "2023-01-21T15:37:34.747Z"
   },
   {
    "duration": 11,
    "start_time": "2023-01-21T15:37:40.986Z"
   },
   {
    "duration": 12,
    "start_time": "2023-01-21T15:38:09.449Z"
   },
   {
    "duration": 16,
    "start_time": "2023-01-21T15:38:19.716Z"
   },
   {
    "duration": 1198,
    "start_time": "2023-01-21T15:38:31.435Z"
   },
   {
    "duration": 46,
    "start_time": "2023-01-21T15:38:32.637Z"
   },
   {
    "duration": 19,
    "start_time": "2023-01-21T15:38:32.684Z"
   },
   {
    "duration": 13,
    "start_time": "2023-01-21T15:38:32.706Z"
   },
   {
    "duration": 698,
    "start_time": "2023-01-21T15:38:32.721Z"
   },
   {
    "duration": 4,
    "start_time": "2023-01-21T15:38:33.420Z"
   },
   {
    "duration": 35,
    "start_time": "2023-01-21T15:38:33.425Z"
   },
   {
    "duration": 18,
    "start_time": "2023-01-21T15:38:33.462Z"
   },
   {
    "duration": 6,
    "start_time": "2023-01-21T15:38:33.482Z"
   },
   {
    "duration": 185,
    "start_time": "2023-01-21T15:38:33.492Z"
   },
   {
    "duration": 14,
    "start_time": "2023-01-21T15:38:33.679Z"
   },
   {
    "duration": 7,
    "start_time": "2023-01-21T15:38:33.695Z"
   },
   {
    "duration": 10,
    "start_time": "2023-01-21T15:38:33.704Z"
   },
   {
    "duration": 21,
    "start_time": "2023-01-21T15:38:33.716Z"
   },
   {
    "duration": 4,
    "start_time": "2023-01-21T15:38:33.739Z"
   },
   {
    "duration": 11,
    "start_time": "2023-01-21T15:38:33.745Z"
   },
   {
    "duration": 6,
    "start_time": "2023-01-21T15:38:33.757Z"
   },
   {
    "duration": 5,
    "start_time": "2023-01-21T15:38:33.765Z"
   },
   {
    "duration": 6,
    "start_time": "2023-01-21T15:38:33.772Z"
   },
   {
    "duration": 249,
    "start_time": "2023-01-21T15:38:33.779Z"
   },
   {
    "duration": 389,
    "start_time": "2023-01-21T15:38:34.029Z"
   },
   {
    "duration": 4,
    "start_time": "2023-01-21T15:38:34.419Z"
   },
   {
    "duration": 19,
    "start_time": "2023-01-21T15:38:34.425Z"
   },
   {
    "duration": 8,
    "start_time": "2023-01-21T15:38:34.446Z"
   },
   {
    "duration": 287,
    "start_time": "2023-01-21T15:38:34.456Z"
   },
   {
    "duration": 11,
    "start_time": "2023-01-21T15:38:34.745Z"
   },
   {
    "duration": 39,
    "start_time": "2023-01-21T15:38:34.758Z"
   },
   {
    "duration": 166,
    "start_time": "2023-01-21T15:38:34.802Z"
   },
   {
    "duration": 7,
    "start_time": "2023-01-21T15:38:34.970Z"
   },
   {
    "duration": 149,
    "start_time": "2023-01-21T15:38:34.979Z"
   },
   {
    "duration": 9,
    "start_time": "2023-01-21T15:38:35.129Z"
   },
   {
    "duration": 163,
    "start_time": "2023-01-21T15:38:35.139Z"
   },
   {
    "duration": 7,
    "start_time": "2023-01-21T15:38:35.304Z"
   },
   {
    "duration": 1035,
    "start_time": "2023-01-21T15:38:35.313Z"
   },
   {
    "duration": 20,
    "start_time": "2023-01-21T15:38:36.349Z"
   },
   {
    "duration": 201,
    "start_time": "2023-01-21T15:38:36.371Z"
   },
   {
    "duration": 5,
    "start_time": "2023-01-21T15:38:36.573Z"
   },
   {
    "duration": 10,
    "start_time": "2023-01-21T15:38:36.580Z"
   },
   {
    "duration": 7,
    "start_time": "2023-01-21T15:38:43.015Z"
   },
   {
    "duration": 5,
    "start_time": "2023-01-21T15:38:45.237Z"
   },
   {
    "duration": 83,
    "start_time": "2023-01-21T15:39:13.622Z"
   },
   {
    "duration": 936,
    "start_time": "2023-01-21T15:39:16.371Z"
   },
   {
    "duration": 951,
    "start_time": "2023-01-21T15:44:39.800Z"
   },
   {
    "duration": 1078,
    "start_time": "2023-01-21T15:46:10.415Z"
   },
   {
    "duration": 5,
    "start_time": "2023-01-21T15:47:01.772Z"
   },
   {
    "duration": 145,
    "start_time": "2023-01-21T15:47:06.236Z"
   },
   {
    "duration": 8,
    "start_time": "2023-01-21T15:47:20.908Z"
   },
   {
    "duration": 7,
    "start_time": "2023-01-21T15:47:36.762Z"
   },
   {
    "duration": 9,
    "start_time": "2023-01-21T15:47:53.439Z"
   },
   {
    "duration": 153,
    "start_time": "2023-01-21T15:48:00.636Z"
   },
   {
    "duration": 8,
    "start_time": "2023-01-21T15:54:36.273Z"
   },
   {
    "duration": 6,
    "start_time": "2023-01-21T15:54:58.358Z"
   },
   {
    "duration": 136,
    "start_time": "2023-01-21T15:55:00.580Z"
   },
   {
    "duration": 7,
    "start_time": "2023-01-21T15:55:09.373Z"
   },
   {
    "duration": 128,
    "start_time": "2023-01-21T15:55:13.749Z"
   },
   {
    "duration": 6,
    "start_time": "2023-01-21T15:55:27.393Z"
   },
   {
    "duration": 122,
    "start_time": "2023-01-21T15:55:34.188Z"
   },
   {
    "duration": 4,
    "start_time": "2023-01-21T15:55:47.905Z"
   },
   {
    "duration": 142,
    "start_time": "2023-01-21T15:55:53.678Z"
   },
   {
    "duration": 9,
    "start_time": "2023-01-21T15:56:43.948Z"
   },
   {
    "duration": 1010,
    "start_time": "2023-01-21T15:56:47.700Z"
   },
   {
    "duration": 5,
    "start_time": "2023-01-21T15:58:03.724Z"
   },
   {
    "duration": 5,
    "start_time": "2023-01-21T15:58:05.961Z"
   },
   {
    "duration": 16,
    "start_time": "2023-01-21T15:58:15.491Z"
   },
   {
    "duration": 5,
    "start_time": "2023-01-21T15:58:37.567Z"
   },
   {
    "duration": 5,
    "start_time": "2023-01-21T15:58:48.201Z"
   },
   {
    "duration": 4,
    "start_time": "2023-01-21T15:58:53.956Z"
   },
   {
    "duration": 5,
    "start_time": "2023-01-21T15:58:59.348Z"
   },
   {
    "duration": 6,
    "start_time": "2023-01-21T15:59:01.265Z"
   },
   {
    "duration": 6,
    "start_time": "2023-01-21T15:59:47.862Z"
   },
   {
    "duration": 6,
    "start_time": "2023-01-21T16:00:03.688Z"
   },
   {
    "duration": 6,
    "start_time": "2023-01-21T16:00:19.765Z"
   },
   {
    "duration": 5,
    "start_time": "2023-01-21T16:01:13.034Z"
   },
   {
    "duration": 5,
    "start_time": "2023-01-21T16:01:15.565Z"
   },
   {
    "duration": 136,
    "start_time": "2023-01-21T16:11:07.872Z"
   },
   {
    "duration": 77,
    "start_time": "2023-01-21T16:12:01.468Z"
   },
   {
    "duration": 7,
    "start_time": "2023-01-21T16:12:09.075Z"
   },
   {
    "duration": 2145,
    "start_time": "2023-01-21T16:12:19.858Z"
   },
   {
    "duration": 207,
    "start_time": "2023-01-21T16:12:22.006Z"
   },
   {
    "duration": 39,
    "start_time": "2023-01-21T16:12:22.215Z"
   },
   {
    "duration": 24,
    "start_time": "2023-01-21T16:12:22.257Z"
   },
   {
    "duration": 1239,
    "start_time": "2023-01-21T16:12:22.284Z"
   },
   {
    "duration": 10,
    "start_time": "2023-01-21T16:12:23.525Z"
   },
   {
    "duration": 113,
    "start_time": "2023-01-21T16:12:23.538Z"
   },
   {
    "duration": 38,
    "start_time": "2023-01-21T16:12:23.664Z"
   },
   {
    "duration": 51,
    "start_time": "2023-01-21T16:12:23.704Z"
   },
   {
    "duration": 400,
    "start_time": "2023-01-21T16:12:23.759Z"
   },
   {
    "duration": 22,
    "start_time": "2023-01-21T16:12:24.161Z"
   },
   {
    "duration": 40,
    "start_time": "2023-01-21T16:12:24.195Z"
   },
   {
    "duration": 27,
    "start_time": "2023-01-21T16:12:24.238Z"
   },
   {
    "duration": 16,
    "start_time": "2023-01-21T16:12:24.267Z"
   },
   {
    "duration": 64,
    "start_time": "2023-01-21T16:12:24.290Z"
   },
   {
    "duration": 37,
    "start_time": "2023-01-21T16:12:24.356Z"
   },
   {
    "duration": 58,
    "start_time": "2023-01-21T16:12:24.395Z"
   },
   {
    "duration": 17,
    "start_time": "2023-01-21T16:12:24.455Z"
   },
   {
    "duration": 71,
    "start_time": "2023-01-21T16:12:24.474Z"
   },
   {
    "duration": 405,
    "start_time": "2023-01-21T16:12:24.547Z"
   },
   {
    "duration": 651,
    "start_time": "2023-01-21T16:12:24.954Z"
   },
   {
    "duration": 4,
    "start_time": "2023-01-21T16:12:25.608Z"
   },
   {
    "duration": 66,
    "start_time": "2023-01-21T16:12:25.615Z"
   },
   {
    "duration": 72,
    "start_time": "2023-01-21T16:12:25.683Z"
   },
   {
    "duration": 562,
    "start_time": "2023-01-21T16:12:25.757Z"
   },
   {
    "duration": 12,
    "start_time": "2023-01-21T16:12:26.322Z"
   },
   {
    "duration": 115,
    "start_time": "2023-01-21T16:12:26.336Z"
   },
   {
    "duration": 305,
    "start_time": "2023-01-21T16:12:26.455Z"
   },
   {
    "duration": 10,
    "start_time": "2023-01-21T16:12:26.762Z"
   },
   {
    "duration": 272,
    "start_time": "2023-01-21T16:12:26.792Z"
   },
   {
    "duration": 6,
    "start_time": "2023-01-21T16:12:27.066Z"
   },
   {
    "duration": 289,
    "start_time": "2023-01-21T16:12:27.075Z"
   },
   {
    "duration": 23,
    "start_time": "2023-01-21T16:12:27.367Z"
   },
   {
    "duration": 1719,
    "start_time": "2023-01-21T16:12:27.393Z"
   },
   {
    "duration": 25,
    "start_time": "2023-01-21T16:12:29.115Z"
   },
   {
    "duration": 382,
    "start_time": "2023-01-21T16:12:29.142Z"
   },
   {
    "duration": 14,
    "start_time": "2023-01-21T16:12:29.526Z"
   },
   {
    "duration": 11,
    "start_time": "2023-01-21T16:12:29.550Z"
   },
   {
    "duration": 440,
    "start_time": "2023-01-21T16:12:29.563Z"
   },
   {
    "duration": 266,
    "start_time": "2023-01-21T16:14:16.863Z"
   },
   {
    "duration": 391,
    "start_time": "2023-01-21T16:14:31.011Z"
   },
   {
    "duration": 395,
    "start_time": "2023-01-21T16:14:39.358Z"
   },
   {
    "duration": 10,
    "start_time": "2023-01-21T16:16:11.946Z"
   },
   {
    "duration": 292,
    "start_time": "2023-01-21T16:16:14.062Z"
   },
   {
    "duration": 20,
    "start_time": "2023-01-21T16:42:20.826Z"
   },
   {
    "duration": 16,
    "start_time": "2023-01-21T16:42:24.450Z"
   },
   {
    "duration": 630,
    "start_time": "2023-01-21T16:42:27.138Z"
   },
   {
    "duration": 10,
    "start_time": "2023-01-21T16:46:06.937Z"
   },
   {
    "duration": 50,
    "start_time": "2023-01-21T16:46:22.058Z"
   },
   {
    "duration": 336,
    "start_time": "2023-01-21T16:46:25.528Z"
   },
   {
    "duration": 1852,
    "start_time": "2023-01-21T16:47:01.841Z"
   },
   {
    "duration": 19,
    "start_time": "2023-01-21T16:47:28.556Z"
   },
   {
    "duration": 243,
    "start_time": "2023-01-21T16:47:32.237Z"
   },
   {
    "duration": 250,
    "start_time": "2023-01-21T16:47:43.409Z"
   },
   {
    "duration": 1752,
    "start_time": "2023-01-21T16:49:29.696Z"
   },
   {
    "duration": 81,
    "start_time": "2023-01-21T16:49:31.451Z"
   },
   {
    "duration": 24,
    "start_time": "2023-01-21T16:49:31.534Z"
   },
   {
    "duration": 37,
    "start_time": "2023-01-21T16:49:31.561Z"
   },
   {
    "duration": 1111,
    "start_time": "2023-01-21T16:49:31.604Z"
   },
   {
    "duration": 4,
    "start_time": "2023-01-21T16:49:32.717Z"
   },
   {
    "duration": 85,
    "start_time": "2023-01-21T16:49:32.723Z"
   },
   {
    "duration": 35,
    "start_time": "2023-01-21T16:49:32.820Z"
   },
   {
    "duration": 10,
    "start_time": "2023-01-21T16:49:32.857Z"
   },
   {
    "duration": 293,
    "start_time": "2023-01-21T16:49:32.870Z"
   },
   {
    "duration": 39,
    "start_time": "2023-01-21T16:49:33.165Z"
   },
   {
    "duration": 17,
    "start_time": "2023-01-21T16:49:33.206Z"
   },
   {
    "duration": 18,
    "start_time": "2023-01-21T16:49:33.225Z"
   },
   {
    "duration": 10,
    "start_time": "2023-01-21T16:49:33.246Z"
   },
   {
    "duration": 10,
    "start_time": "2023-01-21T16:49:33.259Z"
   },
   {
    "duration": 26,
    "start_time": "2023-01-21T16:49:33.272Z"
   },
   {
    "duration": 37,
    "start_time": "2023-01-21T16:49:33.302Z"
   },
   {
    "duration": 11,
    "start_time": "2023-01-21T16:49:33.341Z"
   },
   {
    "duration": 22,
    "start_time": "2023-01-21T16:49:33.354Z"
   },
   {
    "duration": 388,
    "start_time": "2023-01-21T16:49:33.379Z"
   },
   {
    "duration": 575,
    "start_time": "2023-01-21T16:49:33.769Z"
   },
   {
    "duration": 3,
    "start_time": "2023-01-21T16:49:34.347Z"
   },
   {
    "duration": 35,
    "start_time": "2023-01-21T16:49:34.352Z"
   },
   {
    "duration": 212,
    "start_time": "2023-01-21T16:49:34.396Z"
   },
   {
    "duration": 0,
    "start_time": "2023-01-21T16:49:34.620Z"
   },
   {
    "duration": 0,
    "start_time": "2023-01-21T16:49:34.624Z"
   },
   {
    "duration": 0,
    "start_time": "2023-01-21T16:49:34.625Z"
   },
   {
    "duration": 0,
    "start_time": "2023-01-21T16:49:34.629Z"
   },
   {
    "duration": 0,
    "start_time": "2023-01-21T16:49:34.631Z"
   },
   {
    "duration": 0,
    "start_time": "2023-01-21T16:49:34.632Z"
   },
   {
    "duration": 0,
    "start_time": "2023-01-21T16:49:34.633Z"
   },
   {
    "duration": 0,
    "start_time": "2023-01-21T16:49:34.635Z"
   },
   {
    "duration": 0,
    "start_time": "2023-01-21T16:49:34.636Z"
   },
   {
    "duration": 1,
    "start_time": "2023-01-21T16:49:34.637Z"
   },
   {
    "duration": 0,
    "start_time": "2023-01-21T16:49:34.639Z"
   },
   {
    "duration": 0,
    "start_time": "2023-01-21T16:49:34.640Z"
   },
   {
    "duration": 0,
    "start_time": "2023-01-21T16:49:34.641Z"
   },
   {
    "duration": 0,
    "start_time": "2023-01-21T16:49:34.643Z"
   },
   {
    "duration": 16,
    "start_time": "2023-01-21T16:50:30.126Z"
   },
   {
    "duration": 688,
    "start_time": "2023-01-21T16:50:43.935Z"
   },
   {
    "duration": 38,
    "start_time": "2023-01-21T16:51:19.777Z"
   },
   {
    "duration": 22,
    "start_time": "2023-01-21T16:51:23.509Z"
   },
   {
    "duration": 12,
    "start_time": "2023-01-21T16:51:28.137Z"
   },
   {
    "duration": 1598,
    "start_time": "2023-01-21T16:51:34.861Z"
   },
   {
    "duration": 80,
    "start_time": "2023-01-21T16:51:36.462Z"
   },
   {
    "duration": 31,
    "start_time": "2023-01-21T16:51:36.544Z"
   },
   {
    "duration": 33,
    "start_time": "2023-01-21T16:51:36.577Z"
   },
   {
    "duration": 1258,
    "start_time": "2023-01-21T16:51:36.612Z"
   },
   {
    "duration": 10,
    "start_time": "2023-01-21T16:51:37.872Z"
   },
   {
    "duration": 85,
    "start_time": "2023-01-21T16:51:37.884Z"
   },
   {
    "duration": 12,
    "start_time": "2023-01-21T16:51:37.972Z"
   },
   {
    "duration": 74,
    "start_time": "2023-01-21T16:51:37.991Z"
   },
   {
    "duration": 324,
    "start_time": "2023-01-21T16:51:38.070Z"
   },
   {
    "duration": 35,
    "start_time": "2023-01-21T16:51:38.400Z"
   },
   {
    "duration": 30,
    "start_time": "2023-01-21T16:51:38.442Z"
   },
   {
    "duration": 44,
    "start_time": "2023-01-21T16:51:38.474Z"
   },
   {
    "duration": 57,
    "start_time": "2023-01-21T16:51:38.521Z"
   },
   {
    "duration": 60,
    "start_time": "2023-01-21T16:51:38.580Z"
   },
   {
    "duration": 33,
    "start_time": "2023-01-21T16:51:38.642Z"
   },
   {
    "duration": 36,
    "start_time": "2023-01-21T16:51:38.677Z"
   },
   {
    "duration": 64,
    "start_time": "2023-01-21T16:51:38.716Z"
   },
   {
    "duration": 73,
    "start_time": "2023-01-21T16:51:38.783Z"
   },
   {
    "duration": 500,
    "start_time": "2023-01-21T16:51:38.859Z"
   },
   {
    "duration": 754,
    "start_time": "2023-01-21T16:51:39.365Z"
   },
   {
    "duration": 4,
    "start_time": "2023-01-21T16:51:40.121Z"
   },
   {
    "duration": 209,
    "start_time": "2023-01-21T16:51:40.127Z"
   },
   {
    "duration": 0,
    "start_time": "2023-01-21T16:51:40.339Z"
   },
   {
    "duration": 0,
    "start_time": "2023-01-21T16:51:40.340Z"
   },
   {
    "duration": 0,
    "start_time": "2023-01-21T16:51:40.341Z"
   },
   {
    "duration": 0,
    "start_time": "2023-01-21T16:51:40.342Z"
   },
   {
    "duration": 0,
    "start_time": "2023-01-21T16:51:40.344Z"
   },
   {
    "duration": 0,
    "start_time": "2023-01-21T16:51:40.345Z"
   },
   {
    "duration": 0,
    "start_time": "2023-01-21T16:51:40.346Z"
   },
   {
    "duration": 0,
    "start_time": "2023-01-21T16:51:40.347Z"
   },
   {
    "duration": 0,
    "start_time": "2023-01-21T16:51:40.348Z"
   },
   {
    "duration": 0,
    "start_time": "2023-01-21T16:51:40.349Z"
   },
   {
    "duration": 0,
    "start_time": "2023-01-21T16:51:40.350Z"
   },
   {
    "duration": 0,
    "start_time": "2023-01-21T16:51:40.351Z"
   },
   {
    "duration": 0,
    "start_time": "2023-01-21T16:51:40.352Z"
   },
   {
    "duration": 0,
    "start_time": "2023-01-21T16:51:40.354Z"
   },
   {
    "duration": 0,
    "start_time": "2023-01-21T16:51:40.355Z"
   },
   {
    "duration": 16,
    "start_time": "2023-01-21T16:51:55.312Z"
   },
   {
    "duration": 31,
    "start_time": "2023-01-21T16:51:55.724Z"
   },
   {
    "duration": 29,
    "start_time": "2023-01-21T16:52:20.219Z"
   },
   {
    "duration": 9,
    "start_time": "2023-01-21T16:52:22.771Z"
   },
   {
    "duration": 1621,
    "start_time": "2023-01-21T16:52:28.103Z"
   },
   {
    "duration": 105,
    "start_time": "2023-01-21T16:52:29.727Z"
   },
   {
    "duration": 33,
    "start_time": "2023-01-21T16:52:29.838Z"
   },
   {
    "duration": 44,
    "start_time": "2023-01-21T16:52:29.874Z"
   },
   {
    "duration": 1353,
    "start_time": "2023-01-21T16:52:29.921Z"
   },
   {
    "duration": 5,
    "start_time": "2023-01-21T16:52:31.276Z"
   },
   {
    "duration": 76,
    "start_time": "2023-01-21T16:52:31.283Z"
   },
   {
    "duration": 37,
    "start_time": "2023-01-21T16:52:31.362Z"
   },
   {
    "duration": 37,
    "start_time": "2023-01-21T16:52:31.402Z"
   },
   {
    "duration": 316,
    "start_time": "2023-01-21T16:52:31.441Z"
   },
   {
    "duration": 27,
    "start_time": "2023-01-21T16:52:31.759Z"
   },
   {
    "duration": 45,
    "start_time": "2023-01-21T16:52:31.789Z"
   },
   {
    "duration": 31,
    "start_time": "2023-01-21T16:52:31.836Z"
   },
   {
    "duration": 73,
    "start_time": "2023-01-21T16:52:31.871Z"
   },
   {
    "duration": 8,
    "start_time": "2023-01-21T16:52:31.946Z"
   },
   {
    "duration": 37,
    "start_time": "2023-01-21T16:52:31.956Z"
   },
   {
    "duration": 72,
    "start_time": "2023-01-21T16:52:31.996Z"
   },
   {
    "duration": 47,
    "start_time": "2023-01-21T16:52:32.070Z"
   },
   {
    "duration": 54,
    "start_time": "2023-01-21T16:52:32.119Z"
   },
   {
    "duration": 488,
    "start_time": "2023-01-21T16:52:32.175Z"
   },
   {
    "duration": 659,
    "start_time": "2023-01-21T16:52:32.665Z"
   },
   {
    "duration": 6,
    "start_time": "2023-01-21T16:52:33.326Z"
   },
   {
    "duration": 62,
    "start_time": "2023-01-21T16:52:33.339Z"
   },
   {
    "duration": 75,
    "start_time": "2023-01-21T16:52:33.403Z"
   },
   {
    "duration": 694,
    "start_time": "2023-01-21T16:52:33.480Z"
   },
   {
    "duration": 28,
    "start_time": "2023-01-21T16:52:34.177Z"
   },
   {
    "duration": 64,
    "start_time": "2023-01-21T16:52:34.213Z"
   },
   {
    "duration": 296,
    "start_time": "2023-01-21T16:52:34.279Z"
   },
   {
    "duration": 38,
    "start_time": "2023-01-21T16:52:34.578Z"
   },
   {
    "duration": 252,
    "start_time": "2023-01-21T16:52:34.621Z"
   },
   {
    "duration": 18,
    "start_time": "2023-01-21T16:52:34.875Z"
   },
   {
    "duration": 299,
    "start_time": "2023-01-21T16:52:34.897Z"
   },
   {
    "duration": 13,
    "start_time": "2023-01-21T16:52:35.199Z"
   },
   {
    "duration": 1667,
    "start_time": "2023-01-21T16:52:35.215Z"
   },
   {
    "duration": 23,
    "start_time": "2023-01-21T16:52:36.885Z"
   },
   {
    "duration": 314,
    "start_time": "2023-01-21T16:52:36.911Z"
   },
   {
    "duration": 10,
    "start_time": "2023-01-21T16:52:37.230Z"
   },
   {
    "duration": 390,
    "start_time": "2023-01-21T16:52:37.248Z"
   },
   {
    "duration": 142,
    "start_time": "2023-01-21T16:58:36.821Z"
   },
   {
    "duration": 37,
    "start_time": "2023-01-21T16:58:50.480Z"
   },
   {
    "duration": 30,
    "start_time": "2023-01-21T16:59:07.502Z"
   },
   {
    "duration": 13,
    "start_time": "2023-01-21T16:59:15.654Z"
   },
   {
    "duration": 342,
    "start_time": "2023-01-21T17:02:29.753Z"
   },
   {
    "duration": 14,
    "start_time": "2023-01-21T17:07:28.108Z"
   },
   {
    "duration": 11,
    "start_time": "2023-01-21T17:07:32.845Z"
   },
   {
    "duration": 297,
    "start_time": "2023-01-21T17:09:30.123Z"
   },
   {
    "duration": 13,
    "start_time": "2023-01-21T17:10:13.643Z"
   },
   {
    "duration": 17,
    "start_time": "2023-01-21T17:11:02.014Z"
   },
   {
    "duration": 23,
    "start_time": "2023-01-21T17:13:25.412Z"
   },
   {
    "duration": 243,
    "start_time": "2023-01-21T17:13:44.038Z"
   },
   {
    "duration": 242,
    "start_time": "2023-01-21T17:16:30.412Z"
   },
   {
    "duration": 226,
    "start_time": "2023-01-21T17:17:11.208Z"
   },
   {
    "duration": 248,
    "start_time": "2023-01-21T17:17:46.202Z"
   },
   {
    "duration": 245,
    "start_time": "2023-01-21T17:18:01.242Z"
   },
   {
    "duration": 289,
    "start_time": "2023-01-21T17:22:05.965Z"
   },
   {
    "duration": 257,
    "start_time": "2023-01-21T17:23:06.907Z"
   },
   {
    "duration": 246,
    "start_time": "2023-01-21T17:27:16.514Z"
   },
   {
    "duration": 4,
    "start_time": "2023-01-21T17:31:43.971Z"
   },
   {
    "duration": 19,
    "start_time": "2023-01-21T17:53:32.223Z"
   },
   {
    "duration": 19,
    "start_time": "2023-01-21T17:59:46.459Z"
   },
   {
    "duration": 82,
    "start_time": "2023-01-21T18:00:01.358Z"
   },
   {
    "duration": 18,
    "start_time": "2023-01-21T18:00:13.801Z"
   },
   {
    "duration": 22,
    "start_time": "2023-01-21T18:04:37.907Z"
   },
   {
    "duration": 9,
    "start_time": "2023-01-21T18:04:42.771Z"
   },
   {
    "duration": 10,
    "start_time": "2023-01-21T18:07:10.113Z"
   },
   {
    "duration": 9,
    "start_time": "2023-01-21T18:07:38.450Z"
   },
   {
    "duration": 10,
    "start_time": "2023-01-21T18:08:30.420Z"
   },
   {
    "duration": 10,
    "start_time": "2023-01-21T18:08:44.209Z"
   },
   {
    "duration": 115,
    "start_time": "2023-01-21T18:09:29.628Z"
   },
   {
    "duration": 9,
    "start_time": "2023-01-21T18:09:33.514Z"
   },
   {
    "duration": 8,
    "start_time": "2023-01-21T18:10:22.751Z"
   },
   {
    "duration": 12,
    "start_time": "2023-01-21T18:10:48.803Z"
   },
   {
    "duration": 1365,
    "start_time": "2023-01-21T18:10:58.317Z"
   },
   {
    "duration": 83,
    "start_time": "2023-01-21T18:10:59.687Z"
   },
   {
    "duration": 44,
    "start_time": "2023-01-21T18:10:59.772Z"
   },
   {
    "duration": 29,
    "start_time": "2023-01-21T18:10:59.824Z"
   },
   {
    "duration": 1093,
    "start_time": "2023-01-21T18:10:59.857Z"
   },
   {
    "duration": 3,
    "start_time": "2023-01-21T18:11:00.952Z"
   },
   {
    "duration": 75,
    "start_time": "2023-01-21T18:11:00.957Z"
   },
   {
    "duration": 20,
    "start_time": "2023-01-21T18:11:01.034Z"
   },
   {
    "duration": 43,
    "start_time": "2023-01-21T18:11:01.056Z"
   },
   {
    "duration": 266,
    "start_time": "2023-01-21T18:11:01.107Z"
   },
   {
    "duration": 41,
    "start_time": "2023-01-21T18:11:01.375Z"
   },
   {
    "duration": 47,
    "start_time": "2023-01-21T18:11:01.418Z"
   },
   {
    "duration": 68,
    "start_time": "2023-01-21T18:11:01.467Z"
   },
   {
    "duration": 92,
    "start_time": "2023-01-21T18:11:01.539Z"
   },
   {
    "duration": 37,
    "start_time": "2023-01-21T18:11:01.633Z"
   },
   {
    "duration": 53,
    "start_time": "2023-01-21T18:11:01.672Z"
   },
   {
    "duration": 23,
    "start_time": "2023-01-21T18:11:01.727Z"
   },
   {
    "duration": 11,
    "start_time": "2023-01-21T18:11:01.752Z"
   },
   {
    "duration": 13,
    "start_time": "2023-01-21T18:11:01.766Z"
   },
   {
    "duration": 372,
    "start_time": "2023-01-21T18:11:01.782Z"
   },
   {
    "duration": 548,
    "start_time": "2023-01-21T18:11:02.157Z"
   },
   {
    "duration": 7,
    "start_time": "2023-01-21T18:11:02.707Z"
   },
   {
    "duration": 24,
    "start_time": "2023-01-21T18:11:02.719Z"
   },
   {
    "duration": 11,
    "start_time": "2023-01-21T18:11:02.745Z"
   },
   {
    "duration": 572,
    "start_time": "2023-01-21T18:11:02.758Z"
   },
   {
    "duration": 10,
    "start_time": "2023-01-21T18:11:03.332Z"
   },
   {
    "duration": 27,
    "start_time": "2023-01-21T18:11:03.343Z"
   },
   {
    "duration": 231,
    "start_time": "2023-01-21T18:11:03.372Z"
   },
   {
    "duration": 7,
    "start_time": "2023-01-21T18:11:03.606Z"
   },
   {
    "duration": 188,
    "start_time": "2023-01-21T18:11:03.615Z"
   },
   {
    "duration": 6,
    "start_time": "2023-01-21T18:11:03.806Z"
   },
   {
    "duration": 232,
    "start_time": "2023-01-21T18:11:03.814Z"
   },
   {
    "duration": 10,
    "start_time": "2023-01-21T18:11:04.048Z"
   },
   {
    "duration": 1356,
    "start_time": "2023-01-21T18:11:04.060Z"
   },
   {
    "duration": 24,
    "start_time": "2023-01-21T18:11:05.419Z"
   },
   {
    "duration": 283,
    "start_time": "2023-01-21T18:11:05.445Z"
   },
   {
    "duration": 6,
    "start_time": "2023-01-21T18:11:05.730Z"
   },
   {
    "duration": 372,
    "start_time": "2023-01-21T18:11:05.738Z"
   },
   {
    "duration": 14,
    "start_time": "2023-01-21T18:11:06.112Z"
   },
   {
    "duration": 235,
    "start_time": "2023-01-21T18:11:06.129Z"
   },
   {
    "duration": 31,
    "start_time": "2023-01-21T18:11:06.368Z"
   },
   {
    "duration": 269,
    "start_time": "2023-01-21T18:11:06.401Z"
   },
   {
    "duration": 9,
    "start_time": "2023-01-21T18:11:06.672Z"
   },
   {
    "duration": 230,
    "start_time": "2023-01-21T18:11:06.684Z"
   },
   {
    "duration": 212,
    "start_time": "2023-01-21T18:11:06.916Z"
   },
   {
    "duration": 234,
    "start_time": "2023-01-21T18:11:07.130Z"
   },
   {
    "duration": 221,
    "start_time": "2023-01-21T18:11:07.367Z"
   },
   {
    "duration": 217,
    "start_time": "2023-01-21T18:11:07.590Z"
   },
   {
    "duration": 210,
    "start_time": "2023-01-21T18:11:07.809Z"
   },
   {
    "duration": 4,
    "start_time": "2023-01-21T18:11:08.022Z"
   },
   {
    "duration": 10,
    "start_time": "2023-01-21T18:11:08.029Z"
   },
   {
    "duration": 17,
    "start_time": "2023-01-21T18:11:08.041Z"
   },
   {
    "duration": 12,
    "start_time": "2023-01-21T18:11:42.317Z"
   },
   {
    "duration": 18,
    "start_time": "2023-01-21T18:12:02.070Z"
   },
   {
    "duration": 548,
    "start_time": "2023-01-21T18:15:45.115Z"
   },
   {
    "duration": 341,
    "start_time": "2023-01-21T18:16:47.223Z"
   },
   {
    "duration": 12,
    "start_time": "2023-01-21T18:18:17.126Z"
   },
   {
    "duration": 9,
    "start_time": "2023-01-21T18:18:48.602Z"
   },
   {
    "duration": 9,
    "start_time": "2023-01-21T18:19:21.054Z"
   },
   {
    "duration": 17,
    "start_time": "2023-01-21T18:19:33.940Z"
   },
   {
    "duration": 12,
    "start_time": "2023-01-21T18:20:15.477Z"
   },
   {
    "duration": 9,
    "start_time": "2023-01-21T18:20:25.713Z"
   },
   {
    "duration": 6,
    "start_time": "2023-01-21T18:21:01.246Z"
   },
   {
    "duration": 6,
    "start_time": "2023-01-21T18:22:07.017Z"
   },
   {
    "duration": 28,
    "start_time": "2023-01-21T18:22:41.515Z"
   },
   {
    "duration": 16,
    "start_time": "2023-01-21T18:22:49.227Z"
   },
   {
    "duration": 13,
    "start_time": "2023-01-21T18:23:07.515Z"
   },
   {
    "duration": 21,
    "start_time": "2023-01-21T18:48:42.010Z"
   },
   {
    "duration": 36,
    "start_time": "2023-01-21T18:56:09.830Z"
   },
   {
    "duration": 16,
    "start_time": "2023-01-21T18:56:24.018Z"
   },
   {
    "duration": 35,
    "start_time": "2023-01-21T18:58:17.571Z"
   },
   {
    "duration": 4,
    "start_time": "2023-01-21T19:03:36.901Z"
   },
   {
    "duration": 6,
    "start_time": "2023-01-21T19:04:31.743Z"
   },
   {
    "duration": 462,
    "start_time": "2023-01-21T19:11:12.415Z"
   },
   {
    "duration": 602,
    "start_time": "2023-01-21T19:11:28.826Z"
   },
   {
    "duration": 410,
    "start_time": "2023-01-21T19:11:42.283Z"
   },
   {
    "duration": 499,
    "start_time": "2023-01-21T19:12:24.313Z"
   },
   {
    "duration": 446,
    "start_time": "2023-01-21T19:12:31.664Z"
   },
   {
    "duration": 440,
    "start_time": "2023-01-21T19:13:03.212Z"
   },
   {
    "duration": 1703,
    "start_time": "2023-01-21T19:13:20.605Z"
   },
   {
    "duration": 71,
    "start_time": "2023-01-21T19:13:22.319Z"
   },
   {
    "duration": 34,
    "start_time": "2023-01-21T19:13:22.397Z"
   },
   {
    "duration": 31,
    "start_time": "2023-01-21T19:13:22.434Z"
   },
   {
    "duration": 1068,
    "start_time": "2023-01-21T19:13:22.468Z"
   },
   {
    "duration": 4,
    "start_time": "2023-01-21T19:13:23.539Z"
   },
   {
    "duration": 24,
    "start_time": "2023-01-21T19:13:23.545Z"
   },
   {
    "duration": 43,
    "start_time": "2023-01-21T19:13:23.573Z"
   },
   {
    "duration": 29,
    "start_time": "2023-01-21T19:13:23.620Z"
   },
   {
    "duration": 283,
    "start_time": "2023-01-21T19:13:23.651Z"
   },
   {
    "duration": 25,
    "start_time": "2023-01-21T19:13:23.936Z"
   },
   {
    "duration": 29,
    "start_time": "2023-01-21T19:13:23.964Z"
   },
   {
    "duration": 45,
    "start_time": "2023-01-21T19:13:23.995Z"
   },
   {
    "duration": 13,
    "start_time": "2023-01-21T19:13:24.044Z"
   },
   {
    "duration": 10,
    "start_time": "2023-01-21T19:13:24.059Z"
   },
   {
    "duration": 61,
    "start_time": "2023-01-21T19:13:24.071Z"
   },
   {
    "duration": 7,
    "start_time": "2023-01-21T19:13:24.136Z"
   },
   {
    "duration": 17,
    "start_time": "2023-01-21T19:13:24.145Z"
   },
   {
    "duration": 10,
    "start_time": "2023-01-21T19:13:24.164Z"
   },
   {
    "duration": 366,
    "start_time": "2023-01-21T19:13:24.176Z"
   },
   {
    "duration": 550,
    "start_time": "2023-01-21T19:13:24.544Z"
   },
   {
    "duration": 5,
    "start_time": "2023-01-21T19:13:25.096Z"
   },
   {
    "duration": 36,
    "start_time": "2023-01-21T19:13:25.104Z"
   },
   {
    "duration": 10,
    "start_time": "2023-01-21T19:13:25.143Z"
   },
   {
    "duration": 567,
    "start_time": "2023-01-21T19:13:25.155Z"
   },
   {
    "duration": 12,
    "start_time": "2023-01-21T19:13:25.724Z"
   },
   {
    "duration": 32,
    "start_time": "2023-01-21T19:13:25.738Z"
   },
   {
    "duration": 258,
    "start_time": "2023-01-21T19:13:25.772Z"
   },
   {
    "duration": 8,
    "start_time": "2023-01-21T19:13:26.032Z"
   },
   {
    "duration": 206,
    "start_time": "2023-01-21T19:13:26.042Z"
   },
   {
    "duration": 6,
    "start_time": "2023-01-21T19:13:26.250Z"
   },
   {
    "duration": 230,
    "start_time": "2023-01-21T19:13:26.258Z"
   },
   {
    "duration": 24,
    "start_time": "2023-01-21T19:13:26.490Z"
   },
   {
    "duration": 1531,
    "start_time": "2023-01-21T19:13:26.516Z"
   },
   {
    "duration": 25,
    "start_time": "2023-01-21T19:13:28.049Z"
   },
   {
    "duration": 286,
    "start_time": "2023-01-21T19:13:28.075Z"
   },
   {
    "duration": 6,
    "start_time": "2023-01-21T19:13:28.364Z"
   },
   {
    "duration": 394,
    "start_time": "2023-01-21T19:13:28.383Z"
   },
   {
    "duration": 22,
    "start_time": "2023-01-21T19:13:28.779Z"
   },
   {
    "duration": 315,
    "start_time": "2023-01-21T19:13:28.804Z"
   },
   {
    "duration": 19,
    "start_time": "2023-01-21T19:13:29.126Z"
   },
   {
    "duration": 294,
    "start_time": "2023-01-21T19:13:29.147Z"
   },
   {
    "duration": 11,
    "start_time": "2023-01-21T19:13:29.444Z"
   },
   {
    "duration": 282,
    "start_time": "2023-01-21T19:13:29.457Z"
   },
   {
    "duration": 258,
    "start_time": "2023-01-21T19:13:29.745Z"
   },
   {
    "duration": 294,
    "start_time": "2023-01-21T19:13:30.013Z"
   },
   {
    "duration": 257,
    "start_time": "2023-01-21T19:13:30.314Z"
   },
   {
    "duration": 252,
    "start_time": "2023-01-21T19:13:30.574Z"
   },
   {
    "duration": 285,
    "start_time": "2023-01-21T19:13:30.830Z"
   },
   {
    "duration": 7,
    "start_time": "2023-01-21T19:13:31.125Z"
   },
   {
    "duration": 35,
    "start_time": "2023-01-21T19:13:31.141Z"
   },
   {
    "duration": 60,
    "start_time": "2023-01-21T19:13:31.179Z"
   },
   {
    "duration": 565,
    "start_time": "2023-01-21T19:13:47.414Z"
   },
   {
    "duration": 1404,
    "start_time": "2023-01-21T19:13:54.152Z"
   },
   {
    "duration": 74,
    "start_time": "2023-01-21T19:13:55.560Z"
   },
   {
    "duration": 33,
    "start_time": "2023-01-21T19:13:55.642Z"
   },
   {
    "duration": 29,
    "start_time": "2023-01-21T19:13:55.678Z"
   },
   {
    "duration": 1068,
    "start_time": "2023-01-21T19:13:55.709Z"
   },
   {
    "duration": 12,
    "start_time": "2023-01-21T19:13:56.780Z"
   },
   {
    "duration": 63,
    "start_time": "2023-01-21T19:13:56.794Z"
   },
   {
    "duration": 13,
    "start_time": "2023-01-21T19:13:56.859Z"
   },
   {
    "duration": 5,
    "start_time": "2023-01-21T19:13:56.874Z"
   },
   {
    "duration": 308,
    "start_time": "2023-01-21T19:13:56.883Z"
   },
   {
    "duration": 34,
    "start_time": "2023-01-21T19:13:57.201Z"
   },
   {
    "duration": 10,
    "start_time": "2023-01-21T19:13:57.238Z"
   },
   {
    "duration": 17,
    "start_time": "2023-01-21T19:13:57.251Z"
   },
   {
    "duration": 18,
    "start_time": "2023-01-21T19:13:57.270Z"
   },
   {
    "duration": 42,
    "start_time": "2023-01-21T19:13:57.291Z"
   },
   {
    "duration": 27,
    "start_time": "2023-01-21T19:13:57.336Z"
   },
   {
    "duration": 12,
    "start_time": "2023-01-21T19:13:57.365Z"
   },
   {
    "duration": 47,
    "start_time": "2023-01-21T19:13:57.380Z"
   },
   {
    "duration": 16,
    "start_time": "2023-01-21T19:13:57.430Z"
   },
   {
    "duration": 428,
    "start_time": "2023-01-21T19:13:57.449Z"
   },
   {
    "duration": 626,
    "start_time": "2023-01-21T19:13:57.879Z"
   },
   {
    "duration": 9,
    "start_time": "2023-01-21T19:13:58.511Z"
   },
   {
    "duration": 24,
    "start_time": "2023-01-21T19:13:58.525Z"
   },
   {
    "duration": 11,
    "start_time": "2023-01-21T19:13:58.552Z"
   },
   {
    "duration": 596,
    "start_time": "2023-01-21T19:13:58.566Z"
   },
   {
    "duration": 13,
    "start_time": "2023-01-21T19:13:59.165Z"
   },
   {
    "duration": 42,
    "start_time": "2023-01-21T19:13:59.180Z"
   },
   {
    "duration": 243,
    "start_time": "2023-01-21T19:13:59.228Z"
   },
   {
    "duration": 29,
    "start_time": "2023-01-21T19:13:59.474Z"
   },
   {
    "duration": 255,
    "start_time": "2023-01-21T19:13:59.514Z"
   },
   {
    "duration": 30,
    "start_time": "2023-01-21T19:13:59.780Z"
   },
   {
    "duration": 274,
    "start_time": "2023-01-21T19:13:59.813Z"
   },
   {
    "duration": 21,
    "start_time": "2023-01-21T19:14:00.091Z"
   },
   {
    "duration": 2360,
    "start_time": "2023-01-21T19:14:00.126Z"
   },
   {
    "duration": 27,
    "start_time": "2023-01-21T19:14:02.489Z"
   },
   {
    "duration": 831,
    "start_time": "2023-01-21T19:14:02.519Z"
   },
   {
    "duration": 8,
    "start_time": "2023-01-21T19:14:03.353Z"
   },
   {
    "duration": 774,
    "start_time": "2023-01-21T19:14:03.364Z"
   },
   {
    "duration": 12,
    "start_time": "2023-01-21T19:14:04.140Z"
   },
   {
    "duration": 301,
    "start_time": "2023-01-21T19:14:04.154Z"
   },
   {
    "duration": 10,
    "start_time": "2023-01-21T19:14:04.458Z"
   },
   {
    "duration": 546,
    "start_time": "2023-01-21T19:14:04.486Z"
   },
   {
    "duration": 11,
    "start_time": "2023-01-21T19:14:05.035Z"
   },
   {
    "duration": 295,
    "start_time": "2023-01-21T19:14:05.049Z"
   },
   {
    "duration": 258,
    "start_time": "2023-01-21T19:14:05.347Z"
   },
   {
    "duration": 267,
    "start_time": "2023-01-21T19:14:05.610Z"
   },
   {
    "duration": 285,
    "start_time": "2023-01-21T19:14:05.880Z"
   },
   {
    "duration": 237,
    "start_time": "2023-01-21T19:14:06.167Z"
   },
   {
    "duration": 222,
    "start_time": "2023-01-21T19:14:06.409Z"
   },
   {
    "duration": 10,
    "start_time": "2023-01-21T19:14:06.634Z"
   },
   {
    "duration": 29,
    "start_time": "2023-01-21T19:14:06.646Z"
   },
   {
    "duration": 69,
    "start_time": "2023-01-21T19:14:06.677Z"
   },
   {
    "duration": 14,
    "start_time": "2023-01-21T19:16:42.731Z"
   },
   {
    "duration": 42,
    "start_time": "2023-01-21T19:29:11.908Z"
   },
   {
    "duration": 440,
    "start_time": "2023-01-21T19:29:45.840Z"
   },
   {
    "duration": 18,
    "start_time": "2023-01-21T19:30:09.959Z"
   },
   {
    "duration": 19,
    "start_time": "2023-01-21T19:30:23.270Z"
   },
   {
    "duration": 1784,
    "start_time": "2023-01-21T19:30:35.318Z"
   },
   {
    "duration": 84,
    "start_time": "2023-01-21T19:30:37.104Z"
   },
   {
    "duration": 37,
    "start_time": "2023-01-21T19:30:37.190Z"
   },
   {
    "duration": 73,
    "start_time": "2023-01-21T19:30:37.232Z"
   },
   {
    "duration": 1368,
    "start_time": "2023-01-21T19:30:37.308Z"
   },
   {
    "duration": 8,
    "start_time": "2023-01-21T19:30:38.686Z"
   },
   {
    "duration": 74,
    "start_time": "2023-01-21T19:30:38.695Z"
   },
   {
    "duration": 21,
    "start_time": "2023-01-21T19:30:38.775Z"
   },
   {
    "duration": 45,
    "start_time": "2023-01-21T19:30:38.802Z"
   },
   {
    "duration": 310,
    "start_time": "2023-01-21T19:30:38.852Z"
   },
   {
    "duration": 43,
    "start_time": "2023-01-21T19:30:39.165Z"
   },
   {
    "duration": 26,
    "start_time": "2023-01-21T19:30:39.211Z"
   },
   {
    "duration": 26,
    "start_time": "2023-01-21T19:30:39.242Z"
   },
   {
    "duration": 22,
    "start_time": "2023-01-21T19:30:39.271Z"
   },
   {
    "duration": 59,
    "start_time": "2023-01-21T19:30:39.295Z"
   },
   {
    "duration": 15,
    "start_time": "2023-01-21T19:30:39.357Z"
   },
   {
    "duration": 5,
    "start_time": "2023-01-21T19:30:39.374Z"
   },
   {
    "duration": 66,
    "start_time": "2023-01-21T19:30:39.381Z"
   },
   {
    "duration": 20,
    "start_time": "2023-01-21T19:30:39.450Z"
   },
   {
    "duration": 482,
    "start_time": "2023-01-21T19:30:39.472Z"
   },
   {
    "duration": 721,
    "start_time": "2023-01-21T19:30:39.958Z"
   },
   {
    "duration": 11,
    "start_time": "2023-01-21T19:30:40.684Z"
   },
   {
    "duration": 63,
    "start_time": "2023-01-21T19:30:40.698Z"
   },
   {
    "duration": 20,
    "start_time": "2023-01-21T19:30:40.764Z"
   },
   {
    "duration": 759,
    "start_time": "2023-01-21T19:30:40.787Z"
   },
   {
    "duration": 14,
    "start_time": "2023-01-21T19:30:41.548Z"
   },
   {
    "duration": 75,
    "start_time": "2023-01-21T19:30:41.564Z"
   },
   {
    "duration": 335,
    "start_time": "2023-01-21T19:30:41.655Z"
   },
   {
    "duration": 13,
    "start_time": "2023-01-21T19:30:41.992Z"
   },
   {
    "duration": 361,
    "start_time": "2023-01-21T19:30:42.013Z"
   },
   {
    "duration": 18,
    "start_time": "2023-01-21T19:30:42.376Z"
   },
   {
    "duration": 272,
    "start_time": "2023-01-21T19:30:42.402Z"
   },
   {
    "duration": 25,
    "start_time": "2023-01-21T19:30:42.676Z"
   },
   {
    "duration": 3224,
    "start_time": "2023-01-21T19:30:42.708Z"
   },
   {
    "duration": 88,
    "start_time": "2023-01-21T19:30:45.937Z"
   },
   {
    "duration": 526,
    "start_time": "2023-01-21T19:30:46.027Z"
   },
   {
    "duration": 7,
    "start_time": "2023-01-21T19:30:46.557Z"
   },
   {
    "duration": 597,
    "start_time": "2023-01-21T19:30:46.566Z"
   },
   {
    "duration": 23,
    "start_time": "2023-01-21T19:30:47.168Z"
   },
   {
    "duration": 418,
    "start_time": "2023-01-21T19:30:47.198Z"
   },
   {
    "duration": 25,
    "start_time": "2023-01-21T19:30:47.630Z"
   },
   {
    "duration": 459,
    "start_time": "2023-01-21T19:30:47.665Z"
   },
   {
    "duration": 29,
    "start_time": "2023-01-21T19:30:48.126Z"
   },
   {
    "duration": 307,
    "start_time": "2023-01-21T19:30:48.157Z"
   },
   {
    "duration": 309,
    "start_time": "2023-01-21T19:30:48.466Z"
   },
   {
    "duration": 350,
    "start_time": "2023-01-21T19:30:48.777Z"
   },
   {
    "duration": 310,
    "start_time": "2023-01-21T19:30:49.133Z"
   },
   {
    "duration": 310,
    "start_time": "2023-01-21T19:30:49.447Z"
   },
   {
    "duration": 301,
    "start_time": "2023-01-21T19:30:49.759Z"
   },
   {
    "duration": 6,
    "start_time": "2023-01-21T19:30:50.062Z"
   },
   {
    "duration": 32,
    "start_time": "2023-01-21T19:30:50.071Z"
   },
   {
    "duration": 71,
    "start_time": "2023-01-21T19:30:50.107Z"
   },
   {
    "duration": 477,
    "start_time": "2023-01-21T19:31:39.604Z"
   },
   {
    "duration": 1660,
    "start_time": "2023-01-21T19:31:46.322Z"
   },
   {
    "duration": 72,
    "start_time": "2023-01-21T19:31:47.998Z"
   },
   {
    "duration": 48,
    "start_time": "2023-01-21T19:31:48.072Z"
   },
   {
    "duration": 30,
    "start_time": "2023-01-21T19:31:48.123Z"
   },
   {
    "duration": 1097,
    "start_time": "2023-01-21T19:31:48.156Z"
   },
   {
    "duration": 5,
    "start_time": "2023-01-21T19:31:49.255Z"
   },
   {
    "duration": 46,
    "start_time": "2023-01-21T19:31:49.262Z"
   },
   {
    "duration": 37,
    "start_time": "2023-01-21T19:31:49.311Z"
   },
   {
    "duration": 5,
    "start_time": "2023-01-21T19:31:49.350Z"
   },
   {
    "duration": 310,
    "start_time": "2023-01-21T19:31:49.359Z"
   },
   {
    "duration": 56,
    "start_time": "2023-01-21T19:31:49.672Z"
   },
   {
    "duration": 118,
    "start_time": "2023-01-21T19:31:49.735Z"
   },
   {
    "duration": 30,
    "start_time": "2023-01-21T19:31:49.856Z"
   },
   {
    "duration": 36,
    "start_time": "2023-01-21T19:31:49.893Z"
   },
   {
    "duration": 26,
    "start_time": "2023-01-21T19:31:49.931Z"
   },
   {
    "duration": 38,
    "start_time": "2023-01-21T19:31:49.960Z"
   },
   {
    "duration": 46,
    "start_time": "2023-01-21T19:31:50.000Z"
   },
   {
    "duration": 14,
    "start_time": "2023-01-21T19:31:50.049Z"
   },
   {
    "duration": 13,
    "start_time": "2023-01-21T19:31:50.065Z"
   },
   {
    "duration": 447,
    "start_time": "2023-01-21T19:31:50.080Z"
   },
   {
    "duration": 698,
    "start_time": "2023-01-21T19:31:50.545Z"
   },
   {
    "duration": 4,
    "start_time": "2023-01-21T19:31:51.245Z"
   },
   {
    "duration": 21,
    "start_time": "2023-01-21T19:31:51.251Z"
   },
   {
    "duration": 19,
    "start_time": "2023-01-21T19:31:51.292Z"
   },
   {
    "duration": 707,
    "start_time": "2023-01-21T19:31:51.313Z"
   },
   {
    "duration": 15,
    "start_time": "2023-01-21T19:31:52.023Z"
   },
   {
    "duration": 32,
    "start_time": "2023-01-21T19:31:52.041Z"
   },
   {
    "duration": 323,
    "start_time": "2023-01-21T19:31:52.079Z"
   },
   {
    "duration": 10,
    "start_time": "2023-01-21T19:31:52.405Z"
   },
   {
    "duration": 225,
    "start_time": "2023-01-21T19:31:52.419Z"
   },
   {
    "duration": 8,
    "start_time": "2023-01-21T19:31:52.647Z"
   },
   {
    "duration": 286,
    "start_time": "2023-01-21T19:31:52.657Z"
   },
   {
    "duration": 15,
    "start_time": "2023-01-21T19:31:52.946Z"
   },
   {
    "duration": 2270,
    "start_time": "2023-01-21T19:31:52.963Z"
   },
   {
    "duration": 51,
    "start_time": "2023-01-21T19:31:55.236Z"
   },
   {
    "duration": 637,
    "start_time": "2023-01-21T19:31:55.290Z"
   },
   {
    "duration": 8,
    "start_time": "2023-01-21T19:31:55.933Z"
   },
   {
    "duration": 851,
    "start_time": "2023-01-21T19:31:55.945Z"
   },
   {
    "duration": 33,
    "start_time": "2023-01-21T19:31:56.799Z"
   },
   {
    "duration": 675,
    "start_time": "2023-01-21T19:31:56.836Z"
   },
   {
    "duration": 11,
    "start_time": "2023-01-21T19:31:57.515Z"
   },
   {
    "duration": 449,
    "start_time": "2023-01-21T19:31:57.530Z"
   },
   {
    "duration": 22,
    "start_time": "2023-01-21T19:31:58.003Z"
   },
   {
    "duration": 288,
    "start_time": "2023-01-21T19:31:58.034Z"
   },
   {
    "duration": 223,
    "start_time": "2023-01-21T19:31:58.332Z"
   },
   {
    "duration": 271,
    "start_time": "2023-01-21T19:31:58.557Z"
   },
   {
    "duration": 264,
    "start_time": "2023-01-21T19:31:58.831Z"
   },
   {
    "duration": 234,
    "start_time": "2023-01-21T19:31:59.098Z"
   },
   {
    "duration": 265,
    "start_time": "2023-01-21T19:31:59.335Z"
   },
   {
    "duration": 6,
    "start_time": "2023-01-21T19:31:59.611Z"
   },
   {
    "duration": 36,
    "start_time": "2023-01-21T19:31:59.620Z"
   },
   {
    "duration": 74,
    "start_time": "2023-01-21T19:31:59.658Z"
   },
   {
    "duration": 6,
    "start_time": "2023-01-21T19:42:30.268Z"
   },
   {
    "duration": 414,
    "start_time": "2023-01-21T19:43:14.734Z"
   },
   {
    "duration": 1742,
    "start_time": "2023-01-21T19:43:26.680Z"
   },
   {
    "duration": 112,
    "start_time": "2023-01-21T19:43:28.424Z"
   },
   {
    "duration": 25,
    "start_time": "2023-01-21T19:43:28.538Z"
   },
   {
    "duration": 29,
    "start_time": "2023-01-21T19:43:28.566Z"
   },
   {
    "duration": 1198,
    "start_time": "2023-01-21T19:43:28.598Z"
   },
   {
    "duration": 5,
    "start_time": "2023-01-21T19:43:29.798Z"
   },
   {
    "duration": 106,
    "start_time": "2023-01-21T19:43:29.805Z"
   },
   {
    "duration": 138,
    "start_time": "2023-01-21T19:43:29.917Z"
   },
   {
    "duration": 93,
    "start_time": "2023-01-21T19:43:30.060Z"
   },
   {
    "duration": 452,
    "start_time": "2023-01-21T19:43:30.159Z"
   },
   {
    "duration": 41,
    "start_time": "2023-01-21T19:43:30.613Z"
   },
   {
    "duration": 105,
    "start_time": "2023-01-21T19:43:30.659Z"
   },
   {
    "duration": 74,
    "start_time": "2023-01-21T19:43:30.767Z"
   },
   {
    "duration": 41,
    "start_time": "2023-01-21T19:43:30.844Z"
   },
   {
    "duration": 68,
    "start_time": "2023-01-21T19:43:30.888Z"
   },
   {
    "duration": 87,
    "start_time": "2023-01-21T19:43:30.959Z"
   },
   {
    "duration": 25,
    "start_time": "2023-01-21T19:43:31.048Z"
   },
   {
    "duration": 72,
    "start_time": "2023-01-21T19:43:31.075Z"
   },
   {
    "duration": 31,
    "start_time": "2023-01-21T19:43:31.149Z"
   },
   {
    "duration": 462,
    "start_time": "2023-01-21T19:43:31.182Z"
   },
   {
    "duration": 674,
    "start_time": "2023-01-21T19:43:31.646Z"
   },
   {
    "duration": 13,
    "start_time": "2023-01-21T19:43:32.322Z"
   },
   {
    "duration": 136,
    "start_time": "2023-01-21T19:43:32.338Z"
   },
   {
    "duration": 29,
    "start_time": "2023-01-21T19:43:32.476Z"
   },
   {
    "duration": 723,
    "start_time": "2023-01-21T19:43:32.509Z"
   },
   {
    "duration": 10,
    "start_time": "2023-01-21T19:43:33.235Z"
   },
   {
    "duration": 49,
    "start_time": "2023-01-21T19:43:33.248Z"
   },
   {
    "duration": 358,
    "start_time": "2023-01-21T19:43:33.303Z"
   },
   {
    "duration": 14,
    "start_time": "2023-01-21T19:43:33.666Z"
   },
   {
    "duration": 287,
    "start_time": "2023-01-21T19:43:33.682Z"
   },
   {
    "duration": 9,
    "start_time": "2023-01-21T19:43:33.971Z"
   },
   {
    "duration": 276,
    "start_time": "2023-01-21T19:43:33.982Z"
   },
   {
    "duration": 11,
    "start_time": "2023-01-21T19:43:34.261Z"
   },
   {
    "duration": 1891,
    "start_time": "2023-01-21T19:43:34.275Z"
   },
   {
    "duration": 60,
    "start_time": "2023-01-21T19:43:36.168Z"
   },
   {
    "duration": 395,
    "start_time": "2023-01-21T19:43:36.242Z"
   },
   {
    "duration": 20,
    "start_time": "2023-01-21T19:43:36.641Z"
   },
   {
    "duration": 553,
    "start_time": "2023-01-21T19:43:36.663Z"
   },
   {
    "duration": 14,
    "start_time": "2023-01-21T19:43:37.218Z"
   },
   {
    "duration": 391,
    "start_time": "2023-01-21T19:43:37.236Z"
   },
   {
    "duration": 14,
    "start_time": "2023-01-21T19:43:37.630Z"
   },
   {
    "duration": 314,
    "start_time": "2023-01-21T19:43:37.646Z"
   },
   {
    "duration": 23,
    "start_time": "2023-01-21T19:43:37.963Z"
   },
   {
    "duration": 286,
    "start_time": "2023-01-21T19:43:37.989Z"
   },
   {
    "duration": 354,
    "start_time": "2023-01-21T19:43:38.280Z"
   },
   {
    "duration": 314,
    "start_time": "2023-01-21T19:43:38.636Z"
   },
   {
    "duration": 276,
    "start_time": "2023-01-21T19:43:38.953Z"
   },
   {
    "duration": 269,
    "start_time": "2023-01-21T19:43:39.231Z"
   },
   {
    "duration": 329,
    "start_time": "2023-01-21T19:43:39.505Z"
   },
   {
    "duration": 3,
    "start_time": "2023-01-21T19:43:39.844Z"
   },
   {
    "duration": 26,
    "start_time": "2023-01-21T19:43:39.850Z"
   },
   {
    "duration": 113,
    "start_time": "2023-01-21T19:43:39.878Z"
   },
   {
    "duration": 390,
    "start_time": "2023-01-21T19:43:54.450Z"
   },
   {
    "duration": 1601,
    "start_time": "2023-01-21T19:44:00.775Z"
   },
   {
    "duration": 95,
    "start_time": "2023-01-21T19:44:02.379Z"
   },
   {
    "duration": 56,
    "start_time": "2023-01-21T19:44:02.477Z"
   },
   {
    "duration": 26,
    "start_time": "2023-01-21T19:44:02.536Z"
   },
   {
    "duration": 1210,
    "start_time": "2023-01-21T19:44:02.565Z"
   },
   {
    "duration": 23,
    "start_time": "2023-01-21T19:44:03.778Z"
   },
   {
    "duration": 48,
    "start_time": "2023-01-21T19:44:03.803Z"
   },
   {
    "duration": 15,
    "start_time": "2023-01-21T19:44:03.854Z"
   },
   {
    "duration": 6,
    "start_time": "2023-01-21T19:44:03.872Z"
   },
   {
    "duration": 365,
    "start_time": "2023-01-21T19:44:03.882Z"
   },
   {
    "duration": 32,
    "start_time": "2023-01-21T19:44:04.250Z"
   },
   {
    "duration": 60,
    "start_time": "2023-01-21T19:44:04.284Z"
   },
   {
    "duration": 27,
    "start_time": "2023-01-21T19:44:04.348Z"
   },
   {
    "duration": 78,
    "start_time": "2023-01-21T19:44:04.378Z"
   },
   {
    "duration": 6,
    "start_time": "2023-01-21T19:44:04.459Z"
   },
   {
    "duration": 16,
    "start_time": "2023-01-21T19:44:04.468Z"
   },
   {
    "duration": 55,
    "start_time": "2023-01-21T19:44:04.499Z"
   },
   {
    "duration": 8,
    "start_time": "2023-01-21T19:44:04.556Z"
   },
   {
    "duration": 8,
    "start_time": "2023-01-21T19:44:04.566Z"
   },
   {
    "duration": 442,
    "start_time": "2023-01-21T19:44:04.577Z"
   },
   {
    "duration": 710,
    "start_time": "2023-01-21T19:44:05.022Z"
   },
   {
    "duration": 12,
    "start_time": "2023-01-21T19:44:05.735Z"
   },
   {
    "duration": 56,
    "start_time": "2023-01-21T19:44:05.750Z"
   },
   {
    "duration": 42,
    "start_time": "2023-01-21T19:44:05.808Z"
   },
   {
    "duration": 668,
    "start_time": "2023-01-21T19:44:05.851Z"
   },
   {
    "duration": 16,
    "start_time": "2023-01-21T19:44:06.525Z"
   },
   {
    "duration": 38,
    "start_time": "2023-01-21T19:44:06.543Z"
   },
   {
    "duration": 300,
    "start_time": "2023-01-21T19:44:06.585Z"
   },
   {
    "duration": 10,
    "start_time": "2023-01-21T19:44:06.887Z"
   },
   {
    "duration": 272,
    "start_time": "2023-01-21T19:44:06.899Z"
   },
   {
    "duration": 25,
    "start_time": "2023-01-21T19:44:07.173Z"
   },
   {
    "duration": 285,
    "start_time": "2023-01-21T19:44:07.203Z"
   },
   {
    "duration": 31,
    "start_time": "2023-01-21T19:44:07.503Z"
   },
   {
    "duration": 1539,
    "start_time": "2023-01-21T19:44:07.537Z"
   },
   {
    "duration": 28,
    "start_time": "2023-01-21T19:44:09.084Z"
   },
   {
    "duration": 318,
    "start_time": "2023-01-21T19:44:09.115Z"
   },
   {
    "duration": 8,
    "start_time": "2023-01-21T19:44:09.442Z"
   },
   {
    "duration": 849,
    "start_time": "2023-01-21T19:44:09.452Z"
   },
   {
    "duration": 12,
    "start_time": "2023-01-21T19:44:10.304Z"
   },
   {
    "duration": 695,
    "start_time": "2023-01-21T19:44:10.318Z"
   },
   {
    "duration": 22,
    "start_time": "2023-01-21T19:44:11.019Z"
   },
   {
    "duration": 690,
    "start_time": "2023-01-21T19:44:11.044Z"
   },
   {
    "duration": 48,
    "start_time": "2023-01-21T19:44:11.737Z"
   },
   {
    "duration": 518,
    "start_time": "2023-01-21T19:44:11.788Z"
   },
   {
    "duration": 539,
    "start_time": "2023-01-21T19:44:12.309Z"
   },
   {
    "duration": 409,
    "start_time": "2023-01-21T19:44:12.850Z"
   },
   {
    "duration": 301,
    "start_time": "2023-01-21T19:44:13.261Z"
   },
   {
    "duration": 328,
    "start_time": "2023-01-21T19:44:13.564Z"
   },
   {
    "duration": 289,
    "start_time": "2023-01-21T19:44:13.897Z"
   },
   {
    "duration": 4,
    "start_time": "2023-01-21T19:44:14.191Z"
   },
   {
    "duration": 54,
    "start_time": "2023-01-21T19:44:14.197Z"
   },
   {
    "duration": 14,
    "start_time": "2023-01-21T19:44:14.254Z"
   },
   {
    "duration": 398,
    "start_time": "2023-01-21T19:45:15.835Z"
   },
   {
    "duration": 1731,
    "start_time": "2023-01-21T19:45:29.048Z"
   },
   {
    "duration": 98,
    "start_time": "2023-01-21T19:45:30.782Z"
   },
   {
    "duration": 37,
    "start_time": "2023-01-21T19:45:30.882Z"
   },
   {
    "duration": 40,
    "start_time": "2023-01-21T19:45:30.922Z"
   },
   {
    "duration": 1318,
    "start_time": "2023-01-21T19:45:30.964Z"
   },
   {
    "duration": 7,
    "start_time": "2023-01-21T19:45:32.289Z"
   },
   {
    "duration": 66,
    "start_time": "2023-01-21T19:45:32.298Z"
   },
   {
    "duration": 14,
    "start_time": "2023-01-21T19:45:32.366Z"
   },
   {
    "duration": 12,
    "start_time": "2023-01-21T19:45:32.382Z"
   },
   {
    "duration": 293,
    "start_time": "2023-01-21T19:45:32.398Z"
   },
   {
    "duration": 31,
    "start_time": "2023-01-21T19:45:32.694Z"
   },
   {
    "duration": 25,
    "start_time": "2023-01-21T19:45:32.727Z"
   },
   {
    "duration": 9,
    "start_time": "2023-01-21T19:45:32.755Z"
   },
   {
    "duration": 10,
    "start_time": "2023-01-21T19:45:32.766Z"
   },
   {
    "duration": 63,
    "start_time": "2023-01-21T19:45:32.778Z"
   },
   {
    "duration": 18,
    "start_time": "2023-01-21T19:45:32.843Z"
   },
   {
    "duration": 18,
    "start_time": "2023-01-21T19:45:32.863Z"
   },
   {
    "duration": 61,
    "start_time": "2023-01-21T19:45:32.883Z"
   },
   {
    "duration": 17,
    "start_time": "2023-01-21T19:45:32.946Z"
   },
   {
    "duration": 408,
    "start_time": "2023-01-21T19:45:32.965Z"
   },
   {
    "duration": 688,
    "start_time": "2023-01-21T19:45:33.375Z"
   },
   {
    "duration": 5,
    "start_time": "2023-01-21T19:45:34.065Z"
   },
   {
    "duration": 27,
    "start_time": "2023-01-21T19:45:34.072Z"
   },
   {
    "duration": 51,
    "start_time": "2023-01-21T19:45:34.101Z"
   },
   {
    "duration": 714,
    "start_time": "2023-01-21T19:45:34.154Z"
   },
   {
    "duration": 10,
    "start_time": "2023-01-21T19:45:34.871Z"
   },
   {
    "duration": 83,
    "start_time": "2023-01-21T19:45:34.883Z"
   },
   {
    "duration": 307,
    "start_time": "2023-01-21T19:45:34.972Z"
   },
   {
    "duration": 27,
    "start_time": "2023-01-21T19:45:35.282Z"
   },
   {
    "duration": 245,
    "start_time": "2023-01-21T19:45:35.312Z"
   },
   {
    "duration": 7,
    "start_time": "2023-01-21T19:45:35.559Z"
   },
   {
    "duration": 306,
    "start_time": "2023-01-21T19:45:35.568Z"
   },
   {
    "duration": 22,
    "start_time": "2023-01-21T19:45:35.877Z"
   },
   {
    "duration": 1589,
    "start_time": "2023-01-21T19:45:35.902Z"
   },
   {
    "duration": 48,
    "start_time": "2023-01-21T19:45:37.493Z"
   },
   {
    "duration": 316,
    "start_time": "2023-01-21T19:45:37.543Z"
   },
   {
    "duration": 11,
    "start_time": "2023-01-21T19:45:37.886Z"
   },
   {
    "duration": 945,
    "start_time": "2023-01-21T19:45:37.899Z"
   },
   {
    "duration": 44,
    "start_time": "2023-01-21T19:45:38.846Z"
   },
   {
    "duration": 603,
    "start_time": "2023-01-21T19:45:38.892Z"
   },
   {
    "duration": 15,
    "start_time": "2023-01-21T19:45:39.497Z"
   },
   {
    "duration": 590,
    "start_time": "2023-01-21T19:45:39.514Z"
   },
   {
    "duration": 25,
    "start_time": "2023-01-21T19:45:40.107Z"
   },
   {
    "duration": 575,
    "start_time": "2023-01-21T19:45:40.134Z"
   },
   {
    "duration": 348,
    "start_time": "2023-01-21T19:45:40.712Z"
   },
   {
    "duration": 311,
    "start_time": "2023-01-21T19:45:41.064Z"
   },
   {
    "duration": 243,
    "start_time": "2023-01-21T19:45:41.377Z"
   },
   {
    "duration": 234,
    "start_time": "2023-01-21T19:45:41.622Z"
   },
   {
    "duration": 286,
    "start_time": "2023-01-21T19:45:41.858Z"
   },
   {
    "duration": 3,
    "start_time": "2023-01-21T19:45:42.145Z"
   },
   {
    "duration": 16,
    "start_time": "2023-01-21T19:45:42.155Z"
   },
   {
    "duration": 26,
    "start_time": "2023-01-21T19:45:42.173Z"
   },
   {
    "duration": 24,
    "start_time": "2023-01-21T19:50:02.208Z"
   },
   {
    "duration": 2048,
    "start_time": "2023-01-21T19:50:14.466Z"
   },
   {
    "duration": 467,
    "start_time": "2023-01-21T19:50:23.255Z"
   },
   {
    "duration": 1940,
    "start_time": "2023-01-21T19:50:31.327Z"
   },
   {
    "duration": 103,
    "start_time": "2023-01-21T19:50:33.279Z"
   },
   {
    "duration": 59,
    "start_time": "2023-01-21T19:50:33.384Z"
   },
   {
    "duration": 165,
    "start_time": "2023-01-21T19:50:33.447Z"
   },
   {
    "duration": 1353,
    "start_time": "2023-01-21T19:50:33.618Z"
   },
   {
    "duration": 5,
    "start_time": "2023-01-21T19:50:34.973Z"
   },
   {
    "duration": 23,
    "start_time": "2023-01-21T19:50:34.980Z"
   },
   {
    "duration": 86,
    "start_time": "2023-01-21T19:50:35.006Z"
   },
   {
    "duration": 67,
    "start_time": "2023-01-21T19:50:35.098Z"
   },
   {
    "duration": 368,
    "start_time": "2023-01-21T19:50:35.170Z"
   },
   {
    "duration": 33,
    "start_time": "2023-01-21T19:50:35.540Z"
   },
   {
    "duration": 24,
    "start_time": "2023-01-21T19:50:35.576Z"
   },
   {
    "duration": 40,
    "start_time": "2023-01-21T19:50:35.603Z"
   },
   {
    "duration": 35,
    "start_time": "2023-01-21T19:50:35.645Z"
   },
   {
    "duration": 61,
    "start_time": "2023-01-21T19:50:35.683Z"
   },
   {
    "duration": 33,
    "start_time": "2023-01-21T19:50:35.748Z"
   },
   {
    "duration": 44,
    "start_time": "2023-01-21T19:50:35.783Z"
   },
   {
    "duration": 14,
    "start_time": "2023-01-21T19:50:35.831Z"
   },
   {
    "duration": 22,
    "start_time": "2023-01-21T19:50:35.849Z"
   },
   {
    "duration": 487,
    "start_time": "2023-01-21T19:50:35.873Z"
   },
   {
    "duration": 691,
    "start_time": "2023-01-21T19:50:36.363Z"
   },
   {
    "duration": 5,
    "start_time": "2023-01-21T19:50:37.059Z"
   },
   {
    "duration": 27,
    "start_time": "2023-01-21T19:50:37.068Z"
   },
   {
    "duration": 15,
    "start_time": "2023-01-21T19:50:37.098Z"
   },
   {
    "duration": 790,
    "start_time": "2023-01-21T19:50:37.115Z"
   },
   {
    "duration": 54,
    "start_time": "2023-01-21T19:50:37.920Z"
   },
   {
    "duration": 96,
    "start_time": "2023-01-21T19:50:37.978Z"
   },
   {
    "duration": 391,
    "start_time": "2023-01-21T19:50:38.080Z"
   },
   {
    "duration": 16,
    "start_time": "2023-01-21T19:50:38.474Z"
   },
   {
    "duration": 375,
    "start_time": "2023-01-21T19:50:38.493Z"
   },
   {
    "duration": 7,
    "start_time": "2023-01-21T19:50:38.870Z"
   },
   {
    "duration": 377,
    "start_time": "2023-01-21T19:50:38.879Z"
   },
   {
    "duration": 20,
    "start_time": "2023-01-21T19:50:39.261Z"
   },
   {
    "duration": 1820,
    "start_time": "2023-01-21T19:50:39.284Z"
   },
   {
    "duration": 39,
    "start_time": "2023-01-21T19:50:41.112Z"
   },
   {
    "duration": 607,
    "start_time": "2023-01-21T19:50:41.157Z"
   },
   {
    "duration": 10,
    "start_time": "2023-01-21T19:50:41.766Z"
   },
   {
    "duration": 872,
    "start_time": "2023-01-21T19:50:41.779Z"
   },
   {
    "duration": 17,
    "start_time": "2023-01-21T19:50:42.653Z"
   },
   {
    "duration": 474,
    "start_time": "2023-01-21T19:50:42.673Z"
   },
   {
    "duration": 16,
    "start_time": "2023-01-21T19:50:43.153Z"
   },
   {
    "duration": 413,
    "start_time": "2023-01-21T19:50:43.174Z"
   },
   {
    "duration": 35,
    "start_time": "2023-01-21T19:50:43.599Z"
   },
   {
    "duration": 336,
    "start_time": "2023-01-21T19:50:43.641Z"
   },
   {
    "duration": 320,
    "start_time": "2023-01-21T19:50:43.979Z"
   },
   {
    "duration": 328,
    "start_time": "2023-01-21T19:50:44.305Z"
   },
   {
    "duration": 305,
    "start_time": "2023-01-21T19:50:44.642Z"
   },
   {
    "duration": 244,
    "start_time": "2023-01-21T19:50:44.955Z"
   },
   {
    "duration": 350,
    "start_time": "2023-01-21T19:50:45.206Z"
   },
   {
    "duration": 5,
    "start_time": "2023-01-21T19:50:45.567Z"
   },
   {
    "duration": 131,
    "start_time": "2023-01-21T19:50:45.579Z"
   },
   {
    "duration": 78,
    "start_time": "2023-01-21T19:50:45.713Z"
   },
   {
    "duration": 17,
    "start_time": "2023-01-21T19:52:45.622Z"
   },
   {
    "duration": 9,
    "start_time": "2023-01-21T19:53:15.735Z"
   },
   {
    "duration": 15,
    "start_time": "2023-01-21T19:56:40.558Z"
   },
   {
    "duration": 1540,
    "start_time": "2023-01-21T19:56:47.781Z"
   },
   {
    "duration": 9,
    "start_time": "2023-01-21T20:14:38.602Z"
   },
   {
    "duration": 15,
    "start_time": "2023-01-21T20:15:07.980Z"
   },
   {
    "duration": 11,
    "start_time": "2023-01-21T20:16:39.358Z"
   },
   {
    "duration": 1563,
    "start_time": "2023-01-21T20:16:42.143Z"
   },
   {
    "duration": 10,
    "start_time": "2023-01-21T20:17:24.751Z"
   },
   {
    "duration": 25,
    "start_time": "2023-01-21T20:18:21.303Z"
   },
   {
    "duration": 1660,
    "start_time": "2023-01-21T20:19:00.972Z"
   },
   {
    "duration": 184,
    "start_time": "2023-01-21T20:31:21.717Z"
   },
   {
    "duration": 1531,
    "start_time": "2023-01-21T20:31:35.550Z"
   },
   {
    "duration": 84,
    "start_time": "2023-01-21T20:31:37.083Z"
   },
   {
    "duration": 53,
    "start_time": "2023-01-21T20:31:37.169Z"
   },
   {
    "duration": 21,
    "start_time": "2023-01-21T20:31:37.226Z"
   },
   {
    "duration": 1097,
    "start_time": "2023-01-21T20:31:37.249Z"
   },
   {
    "duration": 4,
    "start_time": "2023-01-21T20:31:38.347Z"
   },
   {
    "duration": 69,
    "start_time": "2023-01-21T20:31:38.353Z"
   },
   {
    "duration": 18,
    "start_time": "2023-01-21T20:31:38.428Z"
   },
   {
    "duration": 6,
    "start_time": "2023-01-21T20:31:38.448Z"
   },
   {
    "duration": 325,
    "start_time": "2023-01-21T20:31:38.457Z"
   },
   {
    "duration": 32,
    "start_time": "2023-01-21T20:31:38.785Z"
   },
   {
    "duration": 33,
    "start_time": "2023-01-21T20:31:38.822Z"
   },
   {
    "duration": 16,
    "start_time": "2023-01-21T20:31:38.857Z"
   },
   {
    "duration": 17,
    "start_time": "2023-01-21T20:31:38.876Z"
   },
   {
    "duration": 48,
    "start_time": "2023-01-21T20:31:38.895Z"
   },
   {
    "duration": 16,
    "start_time": "2023-01-21T20:31:38.945Z"
   },
   {
    "duration": 6,
    "start_time": "2023-01-21T20:31:38.963Z"
   },
   {
    "duration": 10,
    "start_time": "2023-01-21T20:31:38.971Z"
   },
   {
    "duration": 44,
    "start_time": "2023-01-21T20:31:38.983Z"
   },
   {
    "duration": 420,
    "start_time": "2023-01-21T20:31:39.029Z"
   },
   {
    "duration": 785,
    "start_time": "2023-01-21T20:31:39.451Z"
   },
   {
    "duration": 4,
    "start_time": "2023-01-21T20:31:40.240Z"
   },
   {
    "duration": 52,
    "start_time": "2023-01-21T20:31:40.250Z"
   },
   {
    "duration": 53,
    "start_time": "2023-01-21T20:31:40.304Z"
   },
   {
    "duration": 719,
    "start_time": "2023-01-21T20:31:40.359Z"
   },
   {
    "duration": 17,
    "start_time": "2023-01-21T20:31:41.080Z"
   },
   {
    "duration": 58,
    "start_time": "2023-01-21T20:31:41.103Z"
   },
   {
    "duration": 288,
    "start_time": "2023-01-21T20:31:41.165Z"
   },
   {
    "duration": 9,
    "start_time": "2023-01-21T20:31:41.455Z"
   },
   {
    "duration": 222,
    "start_time": "2023-01-21T20:31:41.466Z"
   },
   {
    "duration": 34,
    "start_time": "2023-01-21T20:31:41.693Z"
   },
   {
    "duration": 305,
    "start_time": "2023-01-21T20:31:41.729Z"
   },
   {
    "duration": 11,
    "start_time": "2023-01-21T20:31:42.038Z"
   },
   {
    "duration": 1845,
    "start_time": "2023-01-21T20:31:42.051Z"
   },
   {
    "duration": 44,
    "start_time": "2023-01-21T20:31:43.898Z"
   },
   {
    "duration": 391,
    "start_time": "2023-01-21T20:31:43.949Z"
   },
   {
    "duration": 7,
    "start_time": "2023-01-21T20:31:44.343Z"
   },
   {
    "duration": 385,
    "start_time": "2023-01-21T20:31:44.352Z"
   },
   {
    "duration": 11,
    "start_time": "2023-01-21T20:31:44.739Z"
   },
   {
    "duration": 261,
    "start_time": "2023-01-21T20:31:44.752Z"
   },
   {
    "duration": 21,
    "start_time": "2023-01-21T20:31:45.015Z"
   },
   {
    "duration": 269,
    "start_time": "2023-01-21T20:31:45.039Z"
   },
   {
    "duration": 10,
    "start_time": "2023-01-21T20:31:45.321Z"
   },
   {
    "duration": 224,
    "start_time": "2023-01-21T20:31:45.334Z"
   },
   {
    "duration": 382,
    "start_time": "2023-01-21T20:31:45.561Z"
   },
   {
    "duration": 763,
    "start_time": "2023-01-21T20:31:45.946Z"
   },
   {
    "duration": 604,
    "start_time": "2023-01-21T20:31:46.711Z"
   },
   {
    "duration": 536,
    "start_time": "2023-01-21T20:31:47.317Z"
   },
   {
    "duration": 680,
    "start_time": "2023-01-21T20:31:47.855Z"
   },
   {
    "duration": 4,
    "start_time": "2023-01-21T20:31:48.538Z"
   },
   {
    "duration": 63,
    "start_time": "2023-01-21T20:31:48.545Z"
   },
   {
    "duration": 64,
    "start_time": "2023-01-21T20:31:48.628Z"
   },
   {
    "duration": 174,
    "start_time": "2023-01-21T20:31:56.161Z"
   },
   {
    "duration": 1657,
    "start_time": "2023-01-21T20:32:02.681Z"
   },
   {
    "duration": 62,
    "start_time": "2023-01-21T20:32:04.341Z"
   },
   {
    "duration": 37,
    "start_time": "2023-01-21T20:32:04.405Z"
   },
   {
    "duration": 18,
    "start_time": "2023-01-21T20:32:04.445Z"
   },
   {
    "duration": 1332,
    "start_time": "2023-01-21T20:32:04.465Z"
   },
   {
    "duration": 6,
    "start_time": "2023-01-21T20:32:05.799Z"
   },
   {
    "duration": 45,
    "start_time": "2023-01-21T20:32:05.808Z"
   },
   {
    "duration": 14,
    "start_time": "2023-01-21T20:32:05.855Z"
   },
   {
    "duration": 8,
    "start_time": "2023-01-21T20:32:05.872Z"
   },
   {
    "duration": 397,
    "start_time": "2023-01-21T20:32:05.883Z"
   },
   {
    "duration": 51,
    "start_time": "2023-01-21T20:32:06.283Z"
   },
   {
    "duration": 18,
    "start_time": "2023-01-21T20:32:06.336Z"
   },
   {
    "duration": 8,
    "start_time": "2023-01-21T20:32:06.357Z"
   },
   {
    "duration": 11,
    "start_time": "2023-01-21T20:32:06.367Z"
   },
   {
    "duration": 38,
    "start_time": "2023-01-21T20:32:06.380Z"
   },
   {
    "duration": 29,
    "start_time": "2023-01-21T20:32:06.423Z"
   },
   {
    "duration": 6,
    "start_time": "2023-01-21T20:32:06.454Z"
   },
   {
    "duration": 16,
    "start_time": "2023-01-21T20:32:06.462Z"
   },
   {
    "duration": 33,
    "start_time": "2023-01-21T20:32:06.480Z"
   },
   {
    "duration": 449,
    "start_time": "2023-01-21T20:32:06.515Z"
   },
   {
    "duration": 572,
    "start_time": "2023-01-21T20:32:06.966Z"
   },
   {
    "duration": 6,
    "start_time": "2023-01-21T20:32:07.541Z"
   },
   {
    "duration": 16,
    "start_time": "2023-01-21T20:32:07.550Z"
   },
   {
    "duration": 18,
    "start_time": "2023-01-21T20:32:07.588Z"
   },
   {
    "duration": 662,
    "start_time": "2023-01-21T20:32:07.608Z"
   },
   {
    "duration": 10,
    "start_time": "2023-01-21T20:32:08.272Z"
   },
   {
    "duration": 87,
    "start_time": "2023-01-21T20:32:08.284Z"
   },
   {
    "duration": 311,
    "start_time": "2023-01-21T20:32:08.375Z"
   },
   {
    "duration": 26,
    "start_time": "2023-01-21T20:32:08.690Z"
   },
   {
    "duration": 281,
    "start_time": "2023-01-21T20:32:08.719Z"
   },
   {
    "duration": 31,
    "start_time": "2023-01-21T20:32:09.006Z"
   },
   {
    "duration": 245,
    "start_time": "2023-01-21T20:32:09.042Z"
   },
   {
    "duration": 23,
    "start_time": "2023-01-21T20:32:09.289Z"
   },
   {
    "duration": 1996,
    "start_time": "2023-01-21T20:32:09.314Z"
   },
   {
    "duration": 24,
    "start_time": "2023-01-21T20:32:11.321Z"
   },
   {
    "duration": 314,
    "start_time": "2023-01-21T20:32:11.350Z"
   },
   {
    "duration": 8,
    "start_time": "2023-01-21T20:32:11.666Z"
   },
   {
    "duration": 438,
    "start_time": "2023-01-21T20:32:11.686Z"
   },
   {
    "duration": 22,
    "start_time": "2023-01-21T20:32:12.127Z"
   },
   {
    "duration": 311,
    "start_time": "2023-01-21T20:32:12.151Z"
   },
   {
    "duration": 9,
    "start_time": "2023-01-21T20:32:12.464Z"
   },
   {
    "duration": 252,
    "start_time": "2023-01-21T20:32:12.475Z"
   },
   {
    "duration": 11,
    "start_time": "2023-01-21T20:32:12.731Z"
   },
   {
    "duration": 492,
    "start_time": "2023-01-21T20:32:12.744Z"
   },
   {
    "duration": 549,
    "start_time": "2023-01-21T20:32:13.243Z"
   },
   {
    "duration": 603,
    "start_time": "2023-01-21T20:32:13.794Z"
   },
   {
    "duration": 646,
    "start_time": "2023-01-21T20:32:14.399Z"
   },
   {
    "duration": 526,
    "start_time": "2023-01-21T20:32:15.094Z"
   },
   {
    "duration": 423,
    "start_time": "2023-01-21T20:32:15.622Z"
   },
   {
    "duration": 4,
    "start_time": "2023-01-21T20:32:16.047Z"
   },
   {
    "duration": 36,
    "start_time": "2023-01-21T20:32:16.054Z"
   },
   {
    "duration": 49,
    "start_time": "2023-01-21T20:32:16.097Z"
   },
   {
    "duration": 165,
    "start_time": "2023-01-21T20:32:24.004Z"
   },
   {
    "duration": 1585,
    "start_time": "2023-01-21T20:32:29.052Z"
   },
   {
    "duration": 98,
    "start_time": "2023-01-21T20:32:30.639Z"
   },
   {
    "duration": 54,
    "start_time": "2023-01-21T20:32:30.742Z"
   },
   {
    "duration": 65,
    "start_time": "2023-01-21T20:32:30.800Z"
   },
   {
    "duration": 1138,
    "start_time": "2023-01-21T20:32:30.867Z"
   },
   {
    "duration": 14,
    "start_time": "2023-01-21T20:32:32.007Z"
   },
   {
    "duration": 41,
    "start_time": "2023-01-21T20:32:32.027Z"
   },
   {
    "duration": 42,
    "start_time": "2023-01-21T20:32:32.070Z"
   },
   {
    "duration": 29,
    "start_time": "2023-01-21T20:32:32.115Z"
   },
   {
    "duration": 292,
    "start_time": "2023-01-21T20:32:32.148Z"
   },
   {
    "duration": 26,
    "start_time": "2023-01-21T20:32:32.442Z"
   },
   {
    "duration": 69,
    "start_time": "2023-01-21T20:32:32.470Z"
   },
   {
    "duration": 9,
    "start_time": "2023-01-21T20:32:32.541Z"
   },
   {
    "duration": 11,
    "start_time": "2023-01-21T20:32:32.553Z"
   },
   {
    "duration": 15,
    "start_time": "2023-01-21T20:32:32.566Z"
   },
   {
    "duration": 67,
    "start_time": "2023-01-21T20:32:32.583Z"
   },
   {
    "duration": 9,
    "start_time": "2023-01-21T20:32:32.652Z"
   },
   {
    "duration": 23,
    "start_time": "2023-01-21T20:32:32.663Z"
   },
   {
    "duration": 52,
    "start_time": "2023-01-21T20:32:32.689Z"
   },
   {
    "duration": 398,
    "start_time": "2023-01-21T20:32:32.743Z"
   },
   {
    "duration": 596,
    "start_time": "2023-01-21T20:32:33.143Z"
   },
   {
    "duration": 4,
    "start_time": "2023-01-21T20:32:33.741Z"
   },
   {
    "duration": 17,
    "start_time": "2023-01-21T20:32:33.746Z"
   },
   {
    "duration": 29,
    "start_time": "2023-01-21T20:32:33.765Z"
   },
   {
    "duration": 677,
    "start_time": "2023-01-21T20:32:33.797Z"
   },
   {
    "duration": 25,
    "start_time": "2023-01-21T20:32:34.476Z"
   },
   {
    "duration": 47,
    "start_time": "2023-01-21T20:32:34.503Z"
   },
   {
    "duration": 277,
    "start_time": "2023-01-21T20:32:34.554Z"
   },
   {
    "duration": 7,
    "start_time": "2023-01-21T20:32:34.836Z"
   },
   {
    "duration": 207,
    "start_time": "2023-01-21T20:32:34.845Z"
   },
   {
    "duration": 6,
    "start_time": "2023-01-21T20:32:35.054Z"
   },
   {
    "duration": 271,
    "start_time": "2023-01-21T20:32:35.062Z"
   },
   {
    "duration": 15,
    "start_time": "2023-01-21T20:32:35.338Z"
   },
   {
    "duration": 1597,
    "start_time": "2023-01-21T20:32:35.355Z"
   },
   {
    "duration": 21,
    "start_time": "2023-01-21T20:32:36.954Z"
   },
   {
    "duration": 341,
    "start_time": "2023-01-21T20:32:36.977Z"
   },
   {
    "duration": 8,
    "start_time": "2023-01-21T20:32:37.321Z"
   },
   {
    "duration": 502,
    "start_time": "2023-01-21T20:32:37.331Z"
   },
   {
    "duration": 11,
    "start_time": "2023-01-21T20:32:37.835Z"
   },
   {
    "duration": 291,
    "start_time": "2023-01-21T20:32:37.847Z"
   },
   {
    "duration": 9,
    "start_time": "2023-01-21T20:32:38.141Z"
   },
   {
    "duration": 386,
    "start_time": "2023-01-21T20:32:38.152Z"
   },
   {
    "duration": 62,
    "start_time": "2023-01-21T20:32:38.540Z"
   },
   {
    "duration": 591,
    "start_time": "2023-01-21T20:32:38.604Z"
   },
   {
    "duration": 534,
    "start_time": "2023-01-21T20:32:39.198Z"
   },
   {
    "duration": 678,
    "start_time": "2023-01-21T20:32:39.734Z"
   },
   {
    "duration": 588,
    "start_time": "2023-01-21T20:32:40.414Z"
   },
   {
    "duration": 449,
    "start_time": "2023-01-21T20:32:41.010Z"
   },
   {
    "duration": 283,
    "start_time": "2023-01-21T20:32:41.461Z"
   },
   {
    "duration": 3,
    "start_time": "2023-01-21T20:32:41.746Z"
   },
   {
    "duration": 20,
    "start_time": "2023-01-21T20:32:41.751Z"
   },
   {
    "duration": 36,
    "start_time": "2023-01-21T20:32:41.786Z"
   },
   {
    "duration": 187,
    "start_time": "2023-01-21T20:33:20.037Z"
   },
   {
    "duration": 1538,
    "start_time": "2023-01-21T20:33:25.810Z"
   },
   {
    "duration": 69,
    "start_time": "2023-01-21T20:33:27.350Z"
   },
   {
    "duration": 31,
    "start_time": "2023-01-21T20:33:27.422Z"
   },
   {
    "duration": 17,
    "start_time": "2023-01-21T20:33:27.456Z"
   },
   {
    "duration": 1152,
    "start_time": "2023-01-21T20:33:27.475Z"
   },
   {
    "duration": 3,
    "start_time": "2023-01-21T20:33:28.632Z"
   },
   {
    "duration": 32,
    "start_time": "2023-01-21T20:33:28.637Z"
   },
   {
    "duration": 70,
    "start_time": "2023-01-21T20:33:28.671Z"
   },
   {
    "duration": 41,
    "start_time": "2023-01-21T20:33:28.742Z"
   },
   {
    "duration": 323,
    "start_time": "2023-01-21T20:33:28.787Z"
   },
   {
    "duration": 32,
    "start_time": "2023-01-21T20:33:29.112Z"
   },
   {
    "duration": 10,
    "start_time": "2023-01-21T20:33:29.147Z"
   },
   {
    "duration": 37,
    "start_time": "2023-01-21T20:33:29.160Z"
   },
   {
    "duration": 34,
    "start_time": "2023-01-21T20:33:29.199Z"
   },
   {
    "duration": 8,
    "start_time": "2023-01-21T20:33:29.235Z"
   },
   {
    "duration": 14,
    "start_time": "2023-01-21T20:33:29.245Z"
   },
   {
    "duration": 5,
    "start_time": "2023-01-21T20:33:29.261Z"
   },
   {
    "duration": 8,
    "start_time": "2023-01-21T20:33:29.268Z"
   },
   {
    "duration": 24,
    "start_time": "2023-01-21T20:33:29.278Z"
   },
   {
    "duration": 391,
    "start_time": "2023-01-21T20:33:29.307Z"
   },
   {
    "duration": 743,
    "start_time": "2023-01-21T20:33:29.701Z"
   },
   {
    "duration": 5,
    "start_time": "2023-01-21T20:33:30.446Z"
   },
   {
    "duration": 51,
    "start_time": "2023-01-21T20:33:30.453Z"
   },
   {
    "duration": 54,
    "start_time": "2023-01-21T20:33:30.517Z"
   },
   {
    "duration": 796,
    "start_time": "2023-01-21T20:33:30.573Z"
   },
   {
    "duration": 10,
    "start_time": "2023-01-21T20:33:31.371Z"
   },
   {
    "duration": 77,
    "start_time": "2023-01-21T20:33:31.383Z"
   },
   {
    "duration": 290,
    "start_time": "2023-01-21T20:33:31.465Z"
   },
   {
    "duration": 7,
    "start_time": "2023-01-21T20:33:31.757Z"
   },
   {
    "duration": 227,
    "start_time": "2023-01-21T20:33:31.766Z"
   },
   {
    "duration": 12,
    "start_time": "2023-01-21T20:33:31.996Z"
   },
   {
    "duration": 266,
    "start_time": "2023-01-21T20:33:32.009Z"
   },
   {
    "duration": 12,
    "start_time": "2023-01-21T20:33:32.277Z"
   },
   {
    "duration": 1710,
    "start_time": "2023-01-21T20:33:32.291Z"
   },
   {
    "duration": 38,
    "start_time": "2023-01-21T20:33:34.004Z"
   },
   {
    "duration": 318,
    "start_time": "2023-01-21T20:33:34.044Z"
   },
   {
    "duration": 6,
    "start_time": "2023-01-21T20:33:34.363Z"
   },
   {
    "duration": 401,
    "start_time": "2023-01-21T20:33:34.371Z"
   },
   {
    "duration": 13,
    "start_time": "2023-01-21T20:33:34.774Z"
   },
   {
    "duration": 291,
    "start_time": "2023-01-21T20:33:34.789Z"
   },
   {
    "duration": 26,
    "start_time": "2023-01-21T20:33:35.081Z"
   },
   {
    "duration": 418,
    "start_time": "2023-01-21T20:33:35.110Z"
   },
   {
    "duration": 83,
    "start_time": "2023-01-21T20:33:35.530Z"
   },
   {
    "duration": 588,
    "start_time": "2023-01-21T20:33:35.617Z"
   },
   {
    "duration": 642,
    "start_time": "2023-01-21T20:33:36.208Z"
   },
   {
    "duration": 688,
    "start_time": "2023-01-21T20:33:36.852Z"
   },
   {
    "duration": 482,
    "start_time": "2023-01-21T20:33:37.585Z"
   },
   {
    "duration": 267,
    "start_time": "2023-01-21T20:33:38.068Z"
   },
   {
    "duration": 238,
    "start_time": "2023-01-21T20:33:38.337Z"
   },
   {
    "duration": 3,
    "start_time": "2023-01-21T20:33:38.578Z"
   },
   {
    "duration": 43,
    "start_time": "2023-01-21T20:33:38.594Z"
   },
   {
    "duration": 15,
    "start_time": "2023-01-21T20:33:38.639Z"
   },
   {
    "duration": 111,
    "start_time": "2023-01-21T20:37:28.144Z"
   },
   {
    "duration": 9,
    "start_time": "2023-01-21T20:39:11.751Z"
   },
   {
    "duration": 9,
    "start_time": "2023-01-21T20:39:28.149Z"
   },
   {
    "duration": 427,
    "start_time": "2023-01-21T20:40:21.321Z"
   },
   {
    "duration": 1707,
    "start_time": "2023-01-21T20:40:30.613Z"
   },
   {
    "duration": 113,
    "start_time": "2023-01-21T20:40:32.322Z"
   },
   {
    "duration": 28,
    "start_time": "2023-01-21T20:40:32.445Z"
   },
   {
    "duration": 20,
    "start_time": "2023-01-21T20:40:32.476Z"
   },
   {
    "duration": 1258,
    "start_time": "2023-01-21T20:40:32.502Z"
   },
   {
    "duration": 5,
    "start_time": "2023-01-21T20:40:33.766Z"
   },
   {
    "duration": 84,
    "start_time": "2023-01-21T20:40:33.773Z"
   },
   {
    "duration": 23,
    "start_time": "2023-01-21T20:40:33.859Z"
   },
   {
    "duration": 69,
    "start_time": "2023-01-21T20:40:33.884Z"
   },
   {
    "duration": 302,
    "start_time": "2023-01-21T20:40:33.957Z"
   },
   {
    "duration": 25,
    "start_time": "2023-01-21T20:40:34.262Z"
   },
   {
    "duration": 24,
    "start_time": "2023-01-21T20:40:34.289Z"
   },
   {
    "duration": 52,
    "start_time": "2023-01-21T20:40:34.320Z"
   },
   {
    "duration": 16,
    "start_time": "2023-01-21T20:40:34.375Z"
   },
   {
    "duration": 58,
    "start_time": "2023-01-21T20:40:34.393Z"
   },
   {
    "duration": 15,
    "start_time": "2023-01-21T20:40:34.456Z"
   },
   {
    "duration": 16,
    "start_time": "2023-01-21T20:40:34.473Z"
   },
   {
    "duration": 80,
    "start_time": "2023-01-21T20:40:34.494Z"
   },
   {
    "duration": 21,
    "start_time": "2023-01-21T20:40:34.577Z"
   },
   {
    "duration": 424,
    "start_time": "2023-01-21T20:40:34.601Z"
   },
   {
    "duration": 631,
    "start_time": "2023-01-21T20:40:35.027Z"
   },
   {
    "duration": 5,
    "start_time": "2023-01-21T20:40:35.663Z"
   },
   {
    "duration": 86,
    "start_time": "2023-01-21T20:40:35.671Z"
   },
   {
    "duration": 81,
    "start_time": "2023-01-21T20:40:35.759Z"
   },
   {
    "duration": 679,
    "start_time": "2023-01-21T20:40:35.842Z"
   },
   {
    "duration": 16,
    "start_time": "2023-01-21T20:40:36.524Z"
   },
   {
    "duration": 83,
    "start_time": "2023-01-21T20:40:36.545Z"
   },
   {
    "duration": 329,
    "start_time": "2023-01-21T20:40:36.633Z"
   },
   {
    "duration": 9,
    "start_time": "2023-01-21T20:40:36.964Z"
   },
   {
    "duration": 331,
    "start_time": "2023-01-21T20:40:36.975Z"
   },
   {
    "duration": 5,
    "start_time": "2023-01-21T20:40:37.309Z"
   },
   {
    "duration": 317,
    "start_time": "2023-01-21T20:40:37.316Z"
   },
   {
    "duration": 14,
    "start_time": "2023-01-21T20:40:37.636Z"
   },
   {
    "duration": 1752,
    "start_time": "2023-01-21T20:40:37.654Z"
   },
   {
    "duration": 34,
    "start_time": "2023-01-21T20:40:39.411Z"
   },
   {
    "duration": 372,
    "start_time": "2023-01-21T20:40:39.453Z"
   },
   {
    "duration": 14,
    "start_time": "2023-01-21T20:40:39.827Z"
   },
   {
    "duration": 503,
    "start_time": "2023-01-21T20:40:39.849Z"
   },
   {
    "duration": 11,
    "start_time": "2023-01-21T20:40:40.355Z"
   },
   {
    "duration": 346,
    "start_time": "2023-01-21T20:40:40.368Z"
   },
   {
    "duration": 10,
    "start_time": "2023-01-21T20:40:40.717Z"
   },
   {
    "duration": 327,
    "start_time": "2023-01-21T20:40:40.733Z"
   },
   {
    "duration": 9,
    "start_time": "2023-01-21T20:40:41.065Z"
   },
   {
    "duration": 299,
    "start_time": "2023-01-21T20:40:41.076Z"
   },
   {
    "duration": 293,
    "start_time": "2023-01-21T20:40:41.377Z"
   },
   {
    "duration": 279,
    "start_time": "2023-01-21T20:40:41.673Z"
   },
   {
    "duration": 286,
    "start_time": "2023-01-21T20:40:41.954Z"
   },
   {
    "duration": 234,
    "start_time": "2023-01-21T20:40:42.257Z"
   },
   {
    "duration": 304,
    "start_time": "2023-01-21T20:40:42.493Z"
   },
   {
    "duration": 8,
    "start_time": "2023-01-21T20:40:42.800Z"
   },
   {
    "duration": 52,
    "start_time": "2023-01-21T20:40:42.811Z"
   },
   {
    "duration": 14,
    "start_time": "2023-01-21T20:40:42.865Z"
   },
   {
    "duration": 10,
    "start_time": "2023-01-21T20:43:16.428Z"
   },
   {
    "duration": 17,
    "start_time": "2023-01-21T20:47:59.124Z"
   },
   {
    "duration": 480,
    "start_time": "2023-01-21T20:48:00.906Z"
   },
   {
    "duration": 389,
    "start_time": "2023-01-21T20:48:41.676Z"
   },
   {
    "duration": 732,
    "start_time": "2023-01-21T20:48:59.166Z"
   },
   {
    "duration": 1859,
    "start_time": "2023-01-21T20:49:06.354Z"
   },
   {
    "duration": 88,
    "start_time": "2023-01-21T20:49:08.217Z"
   },
   {
    "duration": 34,
    "start_time": "2023-01-21T20:49:08.308Z"
   },
   {
    "duration": 56,
    "start_time": "2023-01-21T20:49:08.344Z"
   },
   {
    "duration": 1438,
    "start_time": "2023-01-21T20:49:08.410Z"
   },
   {
    "duration": 8,
    "start_time": "2023-01-21T20:49:09.859Z"
   },
   {
    "duration": 37,
    "start_time": "2023-01-21T20:49:09.869Z"
   },
   {
    "duration": 88,
    "start_time": "2023-01-21T20:49:09.907Z"
   },
   {
    "duration": 66,
    "start_time": "2023-01-21T20:49:10.002Z"
   },
   {
    "duration": 425,
    "start_time": "2023-01-21T20:49:10.071Z"
   },
   {
    "duration": 34,
    "start_time": "2023-01-21T20:49:10.500Z"
   },
   {
    "duration": 47,
    "start_time": "2023-01-21T20:49:10.536Z"
   },
   {
    "duration": 62,
    "start_time": "2023-01-21T20:49:10.601Z"
   },
   {
    "duration": 13,
    "start_time": "2023-01-21T20:49:10.670Z"
   },
   {
    "duration": 33,
    "start_time": "2023-01-21T20:49:10.689Z"
   },
   {
    "duration": 54,
    "start_time": "2023-01-21T20:49:10.725Z"
   },
   {
    "duration": 96,
    "start_time": "2023-01-21T20:49:10.782Z"
   },
   {
    "duration": 54,
    "start_time": "2023-01-21T20:49:10.882Z"
   },
   {
    "duration": 23,
    "start_time": "2023-01-21T20:49:10.944Z"
   },
   {
    "duration": 569,
    "start_time": "2023-01-21T20:49:10.974Z"
   },
   {
    "duration": 695,
    "start_time": "2023-01-21T20:49:11.545Z"
   },
   {
    "duration": 6,
    "start_time": "2023-01-21T20:49:12.247Z"
   },
   {
    "duration": 45,
    "start_time": "2023-01-21T20:49:12.255Z"
   },
   {
    "duration": 99,
    "start_time": "2023-01-21T20:49:12.307Z"
   },
   {
    "duration": 853,
    "start_time": "2023-01-21T20:49:12.417Z"
   },
   {
    "duration": 10,
    "start_time": "2023-01-21T20:49:13.272Z"
   },
   {
    "duration": 103,
    "start_time": "2023-01-21T20:49:13.304Z"
   },
   {
    "duration": 314,
    "start_time": "2023-01-21T20:49:13.409Z"
   },
   {
    "duration": 12,
    "start_time": "2023-01-21T20:49:13.730Z"
   },
   {
    "duration": 315,
    "start_time": "2023-01-21T20:49:13.748Z"
   },
   {
    "duration": 8,
    "start_time": "2023-01-21T20:49:14.069Z"
   },
   {
    "duration": 327,
    "start_time": "2023-01-21T20:49:14.079Z"
   },
   {
    "duration": 15,
    "start_time": "2023-01-21T20:49:14.408Z"
   },
   {
    "duration": 2027,
    "start_time": "2023-01-21T20:49:14.425Z"
   },
   {
    "duration": 28,
    "start_time": "2023-01-21T20:49:16.457Z"
   },
   {
    "duration": 336,
    "start_time": "2023-01-21T20:49:16.497Z"
   },
   {
    "duration": 16,
    "start_time": "2023-01-21T20:49:16.838Z"
   },
   {
    "duration": 586,
    "start_time": "2023-01-21T20:49:16.860Z"
   },
   {
    "duration": 10,
    "start_time": "2023-01-21T20:49:17.449Z"
   },
   {
    "duration": 111,
    "start_time": "2023-01-21T20:49:17.462Z"
   },
   {
    "duration": 389,
    "start_time": "2023-01-21T20:49:17.579Z"
   },
   {
    "duration": 19,
    "start_time": "2023-01-21T20:49:17.970Z"
   },
   {
    "duration": 388,
    "start_time": "2023-01-21T20:49:17.992Z"
   },
   {
    "duration": 21,
    "start_time": "2023-01-21T20:49:18.382Z"
   },
   {
    "duration": 399,
    "start_time": "2023-01-21T20:49:18.406Z"
   },
   {
    "duration": 286,
    "start_time": "2023-01-21T20:49:18.812Z"
   },
   {
    "duration": 317,
    "start_time": "2023-01-21T20:49:19.106Z"
   },
   {
    "duration": 265,
    "start_time": "2023-01-21T20:49:19.430Z"
   },
   {
    "duration": 264,
    "start_time": "2023-01-21T20:49:19.704Z"
   },
   {
    "duration": 311,
    "start_time": "2023-01-21T20:49:19.979Z"
   },
   {
    "duration": 5,
    "start_time": "2023-01-21T20:49:20.292Z"
   },
   {
    "duration": 100,
    "start_time": "2023-01-21T20:49:20.299Z"
   },
   {
    "duration": 81,
    "start_time": "2023-01-21T20:49:20.402Z"
   },
   {
    "duration": 23,
    "start_time": "2023-01-21T20:50:29.823Z"
   },
   {
    "duration": 158,
    "start_time": "2023-01-21T20:51:35.714Z"
   },
   {
    "duration": 7,
    "start_time": "2023-01-21T20:53:28.213Z"
   },
   {
    "duration": 339,
    "start_time": "2023-01-21T20:54:15.525Z"
   },
   {
    "duration": 438,
    "start_time": "2023-01-21T20:54:24.452Z"
   },
   {
    "duration": 1713,
    "start_time": "2023-01-21T20:54:31.419Z"
   },
   {
    "duration": 80,
    "start_time": "2023-01-21T20:54:33.134Z"
   },
   {
    "duration": 42,
    "start_time": "2023-01-21T20:54:33.215Z"
   },
   {
    "duration": 39,
    "start_time": "2023-01-21T20:54:33.260Z"
   },
   {
    "duration": 1283,
    "start_time": "2023-01-21T20:54:33.306Z"
   },
   {
    "duration": 15,
    "start_time": "2023-01-21T20:54:34.591Z"
   },
   {
    "duration": 60,
    "start_time": "2023-01-21T20:54:34.609Z"
   },
   {
    "duration": 25,
    "start_time": "2023-01-21T20:54:34.671Z"
   },
   {
    "duration": 25,
    "start_time": "2023-01-21T20:54:34.698Z"
   },
   {
    "duration": 309,
    "start_time": "2023-01-21T20:54:34.729Z"
   },
   {
    "duration": 22,
    "start_time": "2023-01-21T20:54:35.040Z"
   },
   {
    "duration": 30,
    "start_time": "2023-01-21T20:54:35.064Z"
   },
   {
    "duration": 31,
    "start_time": "2023-01-21T20:54:35.096Z"
   },
   {
    "duration": 29,
    "start_time": "2023-01-21T20:54:35.130Z"
   },
   {
    "duration": 16,
    "start_time": "2023-01-21T20:54:35.162Z"
   },
   {
    "duration": 70,
    "start_time": "2023-01-21T20:54:35.180Z"
   },
   {
    "duration": 10,
    "start_time": "2023-01-21T20:54:35.252Z"
   },
   {
    "duration": 14,
    "start_time": "2023-01-21T20:54:35.265Z"
   },
   {
    "duration": 59,
    "start_time": "2023-01-21T20:54:35.282Z"
   },
   {
    "duration": 435,
    "start_time": "2023-01-21T20:54:35.345Z"
   },
   {
    "duration": 635,
    "start_time": "2023-01-21T20:54:35.782Z"
   },
   {
    "duration": 12,
    "start_time": "2023-01-21T20:54:36.424Z"
   },
   {
    "duration": 30,
    "start_time": "2023-01-21T20:54:36.441Z"
   },
   {
    "duration": 73,
    "start_time": "2023-01-21T20:54:36.474Z"
   },
   {
    "duration": 709,
    "start_time": "2023-01-21T20:54:36.549Z"
   },
   {
    "duration": 11,
    "start_time": "2023-01-21T20:54:37.260Z"
   },
   {
    "duration": 59,
    "start_time": "2023-01-21T20:54:37.273Z"
   },
   {
    "duration": 322,
    "start_time": "2023-01-21T20:54:37.339Z"
   },
   {
    "duration": 10,
    "start_time": "2023-01-21T20:54:37.667Z"
   },
   {
    "duration": 350,
    "start_time": "2023-01-21T20:54:37.679Z"
   },
   {
    "duration": 7,
    "start_time": "2023-01-21T20:54:38.031Z"
   },
   {
    "duration": 271,
    "start_time": "2023-01-21T20:54:38.040Z"
   },
   {
    "duration": 13,
    "start_time": "2023-01-21T20:54:38.317Z"
   },
   {
    "duration": 1875,
    "start_time": "2023-01-21T20:54:38.332Z"
   },
   {
    "duration": 36,
    "start_time": "2023-01-21T20:54:40.209Z"
   },
   {
    "duration": 415,
    "start_time": "2023-01-21T20:54:40.248Z"
   },
   {
    "duration": 7,
    "start_time": "2023-01-21T20:54:40.665Z"
   },
   {
    "duration": 712,
    "start_time": "2023-01-21T20:54:40.674Z"
   },
   {
    "duration": 13,
    "start_time": "2023-01-21T20:54:41.394Z"
   },
   {
    "duration": 59,
    "start_time": "2023-01-21T20:54:41.410Z"
   },
   {
    "duration": 453,
    "start_time": "2023-01-21T20:54:41.471Z"
   },
   {
    "duration": 29,
    "start_time": "2023-01-21T20:54:41.927Z"
   },
   {
    "duration": 13,
    "start_time": "2023-01-21T20:54:41.964Z"
   },
   {
    "duration": 358,
    "start_time": "2023-01-21T20:54:41.979Z"
   },
   {
    "duration": 24,
    "start_time": "2023-01-21T20:54:42.339Z"
   },
   {
    "duration": 312,
    "start_time": "2023-01-21T20:54:42.366Z"
   },
   {
    "duration": 285,
    "start_time": "2023-01-21T20:54:42.680Z"
   },
   {
    "duration": 279,
    "start_time": "2023-01-21T20:54:42.968Z"
   },
   {
    "duration": 283,
    "start_time": "2023-01-21T20:54:43.249Z"
   },
   {
    "duration": 265,
    "start_time": "2023-01-21T20:54:43.540Z"
   },
   {
    "duration": 307,
    "start_time": "2023-01-21T20:54:43.807Z"
   },
   {
    "duration": 3,
    "start_time": "2023-01-21T20:54:44.117Z"
   },
   {
    "duration": 53,
    "start_time": "2023-01-21T20:54:44.124Z"
   },
   {
    "duration": 34,
    "start_time": "2023-01-21T20:54:44.180Z"
   },
   {
    "duration": 10,
    "start_time": "2023-01-21T20:56:11.344Z"
   },
   {
    "duration": 7,
    "start_time": "2023-01-21T20:56:38.301Z"
   },
   {
    "duration": 483,
    "start_time": "2023-01-21T20:56:40.377Z"
   },
   {
    "duration": 1957,
    "start_time": "2023-01-21T20:56:49.013Z"
   },
   {
    "duration": 114,
    "start_time": "2023-01-21T20:56:50.972Z"
   },
   {
    "duration": 85,
    "start_time": "2023-01-21T20:56:51.096Z"
   },
   {
    "duration": 75,
    "start_time": "2023-01-21T20:56:51.184Z"
   },
   {
    "duration": 1459,
    "start_time": "2023-01-21T20:56:51.264Z"
   },
   {
    "duration": 14,
    "start_time": "2023-01-21T20:56:52.730Z"
   },
   {
    "duration": 157,
    "start_time": "2023-01-21T20:56:52.751Z"
   },
   {
    "duration": 62,
    "start_time": "2023-01-21T20:56:52.916Z"
   },
   {
    "duration": 58,
    "start_time": "2023-01-21T20:56:52.981Z"
   },
   {
    "duration": 469,
    "start_time": "2023-01-21T20:56:53.049Z"
   },
   {
    "duration": 27,
    "start_time": "2023-01-21T20:56:53.522Z"
   },
   {
    "duration": 36,
    "start_time": "2023-01-21T20:56:53.552Z"
   },
   {
    "duration": 172,
    "start_time": "2023-01-21T20:56:53.594Z"
   },
   {
    "duration": 78,
    "start_time": "2023-01-21T20:56:53.770Z"
   },
   {
    "duration": 10,
    "start_time": "2023-01-21T20:56:53.857Z"
   },
   {
    "duration": 24,
    "start_time": "2023-01-21T20:56:53.870Z"
   },
   {
    "duration": 74,
    "start_time": "2023-01-21T20:56:53.897Z"
   },
   {
    "duration": 19,
    "start_time": "2023-01-21T20:56:53.973Z"
   },
   {
    "duration": 83,
    "start_time": "2023-01-21T20:56:53.994Z"
   },
   {
    "duration": 549,
    "start_time": "2023-01-21T20:56:54.080Z"
   },
   {
    "duration": 686,
    "start_time": "2023-01-21T20:56:54.641Z"
   },
   {
    "duration": 6,
    "start_time": "2023-01-21T20:56:55.334Z"
   },
   {
    "duration": 50,
    "start_time": "2023-01-21T20:56:55.346Z"
   },
   {
    "duration": 172,
    "start_time": "2023-01-21T20:56:55.402Z"
   },
   {
    "duration": 973,
    "start_time": "2023-01-21T20:56:55.577Z"
   },
   {
    "duration": 33,
    "start_time": "2023-01-21T20:56:56.572Z"
   },
   {
    "duration": 164,
    "start_time": "2023-01-21T20:56:56.611Z"
   },
   {
    "duration": 404,
    "start_time": "2023-01-21T20:56:56.780Z"
   },
   {
    "duration": 14,
    "start_time": "2023-01-21T20:56:57.186Z"
   },
   {
    "duration": 384,
    "start_time": "2023-01-21T20:56:57.203Z"
   },
   {
    "duration": 7,
    "start_time": "2023-01-21T20:56:57.590Z"
   },
   {
    "duration": 335,
    "start_time": "2023-01-21T20:56:57.599Z"
   },
   {
    "duration": 14,
    "start_time": "2023-01-21T20:56:57.940Z"
   },
   {
    "duration": 2170,
    "start_time": "2023-01-21T20:56:57.956Z"
   },
   {
    "duration": 30,
    "start_time": "2023-01-21T20:57:00.140Z"
   },
   {
    "duration": 481,
    "start_time": "2023-01-21T20:57:00.176Z"
   },
   {
    "duration": 7,
    "start_time": "2023-01-21T20:57:00.660Z"
   },
   {
    "duration": 763,
    "start_time": "2023-01-21T20:57:00.670Z"
   },
   {
    "duration": 19,
    "start_time": "2023-01-21T20:57:01.439Z"
   },
   {
    "duration": 120,
    "start_time": "2023-01-21T20:57:01.461Z"
   },
   {
    "duration": 567,
    "start_time": "2023-01-21T20:57:01.583Z"
   },
   {
    "duration": 14,
    "start_time": "2023-01-21T20:57:02.153Z"
   },
   {
    "duration": 110,
    "start_time": "2023-01-21T20:57:02.169Z"
   },
   {
    "duration": 485,
    "start_time": "2023-01-21T20:57:02.281Z"
   },
   {
    "duration": 9,
    "start_time": "2023-01-21T20:57:02.768Z"
   },
   {
    "duration": 363,
    "start_time": "2023-01-21T20:57:02.784Z"
   },
   {
    "duration": 266,
    "start_time": "2023-01-21T20:57:03.149Z"
   },
   {
    "duration": 320,
    "start_time": "2023-01-21T20:57:03.419Z"
   },
   {
    "duration": 332,
    "start_time": "2023-01-21T20:57:03.744Z"
   },
   {
    "duration": 313,
    "start_time": "2023-01-21T20:57:04.078Z"
   },
   {
    "duration": 305,
    "start_time": "2023-01-21T20:57:04.395Z"
   },
   {
    "duration": 5,
    "start_time": "2023-01-21T20:57:04.706Z"
   },
   {
    "duration": 87,
    "start_time": "2023-01-21T20:57:04.720Z"
   },
   {
    "duration": 85,
    "start_time": "2023-01-21T20:57:04.818Z"
   },
   {
    "duration": 13,
    "start_time": "2023-01-21T20:58:36.629Z"
   },
   {
    "duration": 22,
    "start_time": "2023-01-21T21:09:19.901Z"
   },
   {
    "duration": 461,
    "start_time": "2023-01-21T21:09:22.101Z"
   },
   {
    "duration": 243,
    "start_time": "2023-01-21T21:09:27.947Z"
   },
   {
    "duration": 1714,
    "start_time": "2023-01-21T21:09:36.155Z"
   },
   {
    "duration": 92,
    "start_time": "2023-01-21T21:09:37.872Z"
   },
   {
    "duration": 33,
    "start_time": "2023-01-21T21:09:37.968Z"
   },
   {
    "duration": 71,
    "start_time": "2023-01-21T21:09:38.004Z"
   },
   {
    "duration": 1319,
    "start_time": "2023-01-21T21:09:38.078Z"
   },
   {
    "duration": 4,
    "start_time": "2023-01-21T21:09:39.399Z"
   },
   {
    "duration": 87,
    "start_time": "2023-01-21T21:09:39.405Z"
   },
   {
    "duration": 75,
    "start_time": "2023-01-21T21:09:39.494Z"
   },
   {
    "duration": 86,
    "start_time": "2023-01-21T21:09:39.580Z"
   },
   {
    "duration": 564,
    "start_time": "2023-01-21T21:09:39.670Z"
   },
   {
    "duration": 31,
    "start_time": "2023-01-21T21:09:40.236Z"
   },
   {
    "duration": 25,
    "start_time": "2023-01-21T21:09:40.270Z"
   },
   {
    "duration": 73,
    "start_time": "2023-01-21T21:09:40.304Z"
   },
   {
    "duration": 100,
    "start_time": "2023-01-21T21:09:40.379Z"
   },
   {
    "duration": 67,
    "start_time": "2023-01-21T21:09:40.482Z"
   },
   {
    "duration": 73,
    "start_time": "2023-01-21T21:09:40.551Z"
   },
   {
    "duration": 41,
    "start_time": "2023-01-21T21:09:40.626Z"
   },
   {
    "duration": 26,
    "start_time": "2023-01-21T21:09:40.670Z"
   },
   {
    "duration": 49,
    "start_time": "2023-01-21T21:09:40.701Z"
   },
   {
    "duration": 466,
    "start_time": "2023-01-21T21:09:40.757Z"
   },
   {
    "duration": 652,
    "start_time": "2023-01-21T21:09:41.227Z"
   },
   {
    "duration": 16,
    "start_time": "2023-01-21T21:09:41.881Z"
   },
   {
    "duration": 74,
    "start_time": "2023-01-21T21:09:41.903Z"
   },
   {
    "duration": 70,
    "start_time": "2023-01-21T21:09:41.979Z"
   },
   {
    "duration": 742,
    "start_time": "2023-01-21T21:09:42.052Z"
   },
   {
    "duration": 13,
    "start_time": "2023-01-21T21:09:42.796Z"
   },
   {
    "duration": 128,
    "start_time": "2023-01-21T21:09:42.811Z"
   },
   {
    "duration": 310,
    "start_time": "2023-01-21T21:09:42.950Z"
   },
   {
    "duration": 8,
    "start_time": "2023-01-21T21:09:43.261Z"
   },
   {
    "duration": 269,
    "start_time": "2023-01-21T21:09:43.285Z"
   },
   {
    "duration": 16,
    "start_time": "2023-01-21T21:09:43.557Z"
   },
   {
    "duration": 290,
    "start_time": "2023-01-21T21:09:43.575Z"
   },
   {
    "duration": 13,
    "start_time": "2023-01-21T21:09:43.867Z"
   },
   {
    "duration": 1776,
    "start_time": "2023-01-21T21:09:43.882Z"
   },
   {
    "duration": 23,
    "start_time": "2023-01-21T21:09:45.659Z"
   },
   {
    "duration": 367,
    "start_time": "2023-01-21T21:09:45.687Z"
   },
   {
    "duration": 7,
    "start_time": "2023-01-21T21:09:46.057Z"
   },
   {
    "duration": 459,
    "start_time": "2023-01-21T21:09:46.066Z"
   },
   {
    "duration": 27,
    "start_time": "2023-01-21T21:09:46.527Z"
   },
   {
    "duration": 70,
    "start_time": "2023-01-21T21:09:46.557Z"
   },
   {
    "duration": 352,
    "start_time": "2023-01-21T21:09:46.630Z"
   },
   {
    "duration": 24,
    "start_time": "2023-01-21T21:09:46.984Z"
   },
   {
    "duration": 50,
    "start_time": "2023-01-21T21:09:47.011Z"
   },
   {
    "duration": 335,
    "start_time": "2023-01-21T21:09:47.063Z"
   },
   {
    "duration": 11,
    "start_time": "2023-01-21T21:09:47.399Z"
   },
   {
    "duration": 51,
    "start_time": "2023-01-21T21:09:47.412Z"
   },
   {
    "duration": 390,
    "start_time": "2023-01-21T21:09:47.466Z"
   },
   {
    "duration": 288,
    "start_time": "2023-01-21T21:09:47.858Z"
   },
   {
    "duration": 321,
    "start_time": "2023-01-21T21:09:48.149Z"
   },
   {
    "duration": 279,
    "start_time": "2023-01-21T21:09:48.471Z"
   },
   {
    "duration": 273,
    "start_time": "2023-01-21T21:09:48.754Z"
   },
   {
    "duration": 296,
    "start_time": "2023-01-21T21:09:49.029Z"
   },
   {
    "duration": 5,
    "start_time": "2023-01-21T21:09:49.327Z"
   },
   {
    "duration": 107,
    "start_time": "2023-01-21T21:09:49.334Z"
   },
   {
    "duration": 23,
    "start_time": "2023-01-21T21:09:49.443Z"
   },
   {
    "duration": 12,
    "start_time": "2023-01-21T21:10:57.544Z"
   },
   {
    "duration": 359,
    "start_time": "2023-01-21T21:11:52.540Z"
   },
   {
    "duration": 137,
    "start_time": "2023-01-21T21:15:23.827Z"
   },
   {
    "duration": 8,
    "start_time": "2023-01-21T21:16:25.650Z"
   },
   {
    "duration": 283,
    "start_time": "2023-01-21T21:17:05.963Z"
   },
   {
    "duration": 1697,
    "start_time": "2023-01-21T21:17:12.813Z"
   },
   {
    "duration": 112,
    "start_time": "2023-01-21T21:17:14.512Z"
   },
   {
    "duration": 52,
    "start_time": "2023-01-21T21:17:14.627Z"
   },
   {
    "duration": 80,
    "start_time": "2023-01-21T21:17:14.685Z"
   },
   {
    "duration": 1340,
    "start_time": "2023-01-21T21:17:14.772Z"
   },
   {
    "duration": 4,
    "start_time": "2023-01-21T21:17:16.115Z"
   },
   {
    "duration": 55,
    "start_time": "2023-01-21T21:17:16.121Z"
   },
   {
    "duration": 50,
    "start_time": "2023-01-21T21:17:16.179Z"
   },
   {
    "duration": 36,
    "start_time": "2023-01-21T21:17:16.233Z"
   },
   {
    "duration": 370,
    "start_time": "2023-01-21T21:17:16.272Z"
   },
   {
    "duration": 25,
    "start_time": "2023-01-21T21:17:16.644Z"
   },
   {
    "duration": 102,
    "start_time": "2023-01-21T21:17:16.672Z"
   },
   {
    "duration": 8,
    "start_time": "2023-01-21T21:17:16.776Z"
   },
   {
    "duration": 95,
    "start_time": "2023-01-21T21:17:16.786Z"
   },
   {
    "duration": 125,
    "start_time": "2023-01-21T21:17:16.884Z"
   },
   {
    "duration": 97,
    "start_time": "2023-01-21T21:17:17.012Z"
   },
   {
    "duration": 83,
    "start_time": "2023-01-21T21:17:17.111Z"
   },
   {
    "duration": 129,
    "start_time": "2023-01-21T21:17:17.196Z"
   },
   {
    "duration": 28,
    "start_time": "2023-01-21T21:17:17.329Z"
   },
   {
    "duration": 447,
    "start_time": "2023-01-21T21:17:17.359Z"
   },
   {
    "duration": 689,
    "start_time": "2023-01-21T21:17:17.808Z"
   },
   {
    "duration": 5,
    "start_time": "2023-01-21T21:17:18.499Z"
   },
   {
    "duration": 79,
    "start_time": "2023-01-21T21:17:18.506Z"
   },
   {
    "duration": 64,
    "start_time": "2023-01-21T21:17:18.596Z"
   },
   {
    "duration": 729,
    "start_time": "2023-01-21T21:17:18.662Z"
   },
   {
    "duration": 34,
    "start_time": "2023-01-21T21:17:19.394Z"
   },
   {
    "duration": 88,
    "start_time": "2023-01-21T21:17:19.431Z"
   },
   {
    "duration": 386,
    "start_time": "2023-01-21T21:17:19.529Z"
   },
   {
    "duration": 22,
    "start_time": "2023-01-21T21:17:19.918Z"
   },
   {
    "duration": 368,
    "start_time": "2023-01-21T21:17:19.944Z"
   },
   {
    "duration": 19,
    "start_time": "2023-01-21T21:17:20.319Z"
   },
   {
    "duration": 322,
    "start_time": "2023-01-21T21:17:20.343Z"
   },
   {
    "duration": 14,
    "start_time": "2023-01-21T21:17:20.667Z"
   },
   {
    "duration": 1741,
    "start_time": "2023-01-21T21:17:20.683Z"
   },
   {
    "duration": 22,
    "start_time": "2023-01-21T21:17:22.429Z"
   },
   {
    "duration": 288,
    "start_time": "2023-01-21T21:17:22.453Z"
   },
   {
    "duration": 8,
    "start_time": "2023-01-21T21:17:22.744Z"
   },
   {
    "duration": 397,
    "start_time": "2023-01-21T21:17:22.754Z"
   },
   {
    "duration": 10,
    "start_time": "2023-01-21T21:17:23.153Z"
   },
   {
    "duration": 61,
    "start_time": "2023-01-21T21:17:23.165Z"
   },
   {
    "duration": 252,
    "start_time": "2023-01-21T21:17:23.229Z"
   },
   {
    "duration": 18,
    "start_time": "2023-01-21T21:17:23.494Z"
   },
   {
    "duration": 44,
    "start_time": "2023-01-21T21:17:23.514Z"
   },
   {
    "duration": 280,
    "start_time": "2023-01-21T21:17:23.560Z"
   },
   {
    "duration": 10,
    "start_time": "2023-01-21T21:17:23.842Z"
   },
   {
    "duration": 9,
    "start_time": "2023-01-21T21:17:23.854Z"
   },
   {
    "duration": 291,
    "start_time": "2023-01-21T21:17:23.865Z"
   },
   {
    "duration": 7,
    "start_time": "2023-01-21T21:17:24.159Z"
   },
   {
    "duration": 260,
    "start_time": "2023-01-21T21:17:24.167Z"
   },
   {
    "duration": 9,
    "start_time": "2023-01-21T21:17:24.430Z"
   },
   {
    "duration": 272,
    "start_time": "2023-01-21T21:17:24.441Z"
   },
   {
    "duration": 254,
    "start_time": "2023-01-21T21:17:24.715Z"
   },
   {
    "duration": 258,
    "start_time": "2023-01-21T21:17:24.971Z"
   },
   {
    "duration": 258,
    "start_time": "2023-01-21T21:17:25.235Z"
   },
   {
    "duration": 3,
    "start_time": "2023-01-21T21:17:25.495Z"
   },
   {
    "duration": 61,
    "start_time": "2023-01-21T21:17:25.502Z"
   },
   {
    "duration": 13,
    "start_time": "2023-01-21T21:17:25.564Z"
   },
   {
    "duration": 7,
    "start_time": "2023-01-21T21:18:34.176Z"
   },
   {
    "duration": 510,
    "start_time": "2023-01-21T21:19:32.616Z"
   },
   {
    "duration": 7,
    "start_time": "2023-01-21T21:24:23.859Z"
   },
   {
    "duration": 246,
    "start_time": "2023-01-21T21:25:05.705Z"
   },
   {
    "duration": 413,
    "start_time": "2023-01-21T21:25:25.240Z"
   },
   {
    "duration": 5,
    "start_time": "2023-01-21T21:27:13.850Z"
   },
   {
    "duration": 269,
    "start_time": "2023-01-21T21:27:36.737Z"
   },
   {
    "duration": 127,
    "start_time": "2023-01-21T21:29:08.512Z"
   },
   {
    "duration": 1678,
    "start_time": "2023-01-21T21:29:20.926Z"
   },
   {
    "duration": 75,
    "start_time": "2023-01-21T21:29:22.606Z"
   },
   {
    "duration": 59,
    "start_time": "2023-01-21T21:29:22.683Z"
   },
   {
    "duration": 32,
    "start_time": "2023-01-21T21:29:22.745Z"
   },
   {
    "duration": 1556,
    "start_time": "2023-01-21T21:29:22.779Z"
   },
   {
    "duration": 15,
    "start_time": "2023-01-21T21:29:24.350Z"
   },
   {
    "duration": 30,
    "start_time": "2023-01-21T21:29:24.370Z"
   },
   {
    "duration": 63,
    "start_time": "2023-01-21T21:29:24.403Z"
   },
   {
    "duration": 5,
    "start_time": "2023-01-21T21:29:24.468Z"
   },
   {
    "duration": 368,
    "start_time": "2023-01-21T21:29:24.476Z"
   },
   {
    "duration": 20,
    "start_time": "2023-01-21T21:29:24.846Z"
   },
   {
    "duration": 25,
    "start_time": "2023-01-21T21:29:24.868Z"
   },
   {
    "duration": 14,
    "start_time": "2023-01-21T21:29:24.896Z"
   },
   {
    "duration": 46,
    "start_time": "2023-01-21T21:29:24.912Z"
   },
   {
    "duration": 20,
    "start_time": "2023-01-21T21:29:24.961Z"
   },
   {
    "duration": 69,
    "start_time": "2023-01-21T21:29:24.984Z"
   },
   {
    "duration": 6,
    "start_time": "2023-01-21T21:29:25.055Z"
   },
   {
    "duration": 8,
    "start_time": "2023-01-21T21:29:25.063Z"
   },
   {
    "duration": 9,
    "start_time": "2023-01-21T21:29:25.072Z"
   },
   {
    "duration": 425,
    "start_time": "2023-01-21T21:29:25.083Z"
   },
   {
    "duration": 636,
    "start_time": "2023-01-21T21:29:25.510Z"
   },
   {
    "duration": 5,
    "start_time": "2023-01-21T21:29:26.150Z"
   },
   {
    "duration": 15,
    "start_time": "2023-01-21T21:29:26.157Z"
   },
   {
    "duration": 19,
    "start_time": "2023-01-21T21:29:26.186Z"
   },
   {
    "duration": 695,
    "start_time": "2023-01-21T21:29:26.207Z"
   },
   {
    "duration": 12,
    "start_time": "2023-01-21T21:29:26.907Z"
   },
   {
    "duration": 40,
    "start_time": "2023-01-21T21:29:26.922Z"
   },
   {
    "duration": 293,
    "start_time": "2023-01-21T21:29:26.966Z"
   },
   {
    "duration": 10,
    "start_time": "2023-01-21T21:29:27.261Z"
   },
   {
    "duration": 288,
    "start_time": "2023-01-21T21:29:27.273Z"
   },
   {
    "duration": 8,
    "start_time": "2023-01-21T21:29:27.563Z"
   },
   {
    "duration": 282,
    "start_time": "2023-01-21T21:29:27.573Z"
   },
   {
    "duration": 12,
    "start_time": "2023-01-21T21:29:27.857Z"
   },
   {
    "duration": 1672,
    "start_time": "2023-01-21T21:29:27.871Z"
   },
   {
    "duration": 21,
    "start_time": "2023-01-21T21:29:29.545Z"
   },
   {
    "duration": 397,
    "start_time": "2023-01-21T21:29:29.568Z"
   },
   {
    "duration": 9,
    "start_time": "2023-01-21T21:29:29.968Z"
   },
   {
    "duration": 424,
    "start_time": "2023-01-21T21:29:29.993Z"
   },
   {
    "duration": 14,
    "start_time": "2023-01-21T21:29:30.426Z"
   },
   {
    "duration": 108,
    "start_time": "2023-01-21T21:29:30.442Z"
   },
   {
    "duration": 358,
    "start_time": "2023-01-21T21:29:30.552Z"
   },
   {
    "duration": 33,
    "start_time": "2023-01-21T21:29:30.917Z"
   },
   {
    "duration": 24,
    "start_time": "2023-01-21T21:29:30.958Z"
   },
   {
    "duration": 318,
    "start_time": "2023-01-21T21:29:30.987Z"
   },
   {
    "duration": 17,
    "start_time": "2023-01-21T21:29:31.311Z"
   },
   {
    "duration": 16,
    "start_time": "2023-01-21T21:29:31.336Z"
   },
   {
    "duration": 286,
    "start_time": "2023-01-21T21:29:31.355Z"
   },
   {
    "duration": 8,
    "start_time": "2023-01-21T21:29:31.644Z"
   },
   {
    "duration": 274,
    "start_time": "2023-01-21T21:29:31.654Z"
   },
   {
    "duration": 17,
    "start_time": "2023-01-21T21:29:31.930Z"
   },
   {
    "duration": 320,
    "start_time": "2023-01-21T21:29:31.950Z"
   },
   {
    "duration": 6,
    "start_time": "2023-01-21T21:29:32.273Z"
   },
   {
    "duration": 300,
    "start_time": "2023-01-21T21:29:32.281Z"
   },
   {
    "duration": 12,
    "start_time": "2023-01-21T21:29:32.583Z"
   },
   {
    "duration": 277,
    "start_time": "2023-01-21T21:29:32.599Z"
   },
   {
    "duration": 36,
    "start_time": "2023-01-21T21:29:32.878Z"
   },
   {
    "duration": 274,
    "start_time": "2023-01-21T21:29:32.920Z"
   },
   {
    "duration": 3,
    "start_time": "2023-01-21T21:29:33.198Z"
   },
   {
    "duration": 63,
    "start_time": "2023-01-21T21:29:33.203Z"
   },
   {
    "duration": 67,
    "start_time": "2023-01-21T21:29:33.268Z"
   },
   {
    "duration": 1641,
    "start_time": "2023-01-21T21:48:44.926Z"
   },
   {
    "duration": 102,
    "start_time": "2023-01-21T21:48:46.573Z"
   },
   {
    "duration": 37,
    "start_time": "2023-01-21T21:48:46.677Z"
   },
   {
    "duration": 37,
    "start_time": "2023-01-21T21:48:46.717Z"
   },
   {
    "duration": 1155,
    "start_time": "2023-01-21T21:48:46.761Z"
   },
   {
    "duration": 11,
    "start_time": "2023-01-21T21:48:47.918Z"
   },
   {
    "duration": 67,
    "start_time": "2023-01-21T21:48:47.931Z"
   },
   {
    "duration": 61,
    "start_time": "2023-01-21T21:48:48.006Z"
   },
   {
    "duration": 52,
    "start_time": "2023-01-21T21:48:48.068Z"
   },
   {
    "duration": 353,
    "start_time": "2023-01-21T21:48:48.126Z"
   },
   {
    "duration": 36,
    "start_time": "2023-01-21T21:48:48.483Z"
   },
   {
    "duration": 80,
    "start_time": "2023-01-21T21:48:48.522Z"
   },
   {
    "duration": 34,
    "start_time": "2023-01-21T21:48:48.610Z"
   },
   {
    "duration": 36,
    "start_time": "2023-01-21T21:48:48.652Z"
   },
   {
    "duration": 67,
    "start_time": "2023-01-21T21:48:48.692Z"
   },
   {
    "duration": 103,
    "start_time": "2023-01-21T21:48:48.762Z"
   },
   {
    "duration": 52,
    "start_time": "2023-01-21T21:48:48.867Z"
   },
   {
    "duration": 55,
    "start_time": "2023-01-21T21:48:48.924Z"
   },
   {
    "duration": 74,
    "start_time": "2023-01-21T21:48:48.981Z"
   },
   {
    "duration": 447,
    "start_time": "2023-01-21T21:48:49.057Z"
   },
   {
    "duration": 638,
    "start_time": "2023-01-21T21:48:49.510Z"
   },
   {
    "duration": 5,
    "start_time": "2023-01-21T21:48:50.150Z"
   },
   {
    "duration": 50,
    "start_time": "2023-01-21T21:48:50.158Z"
   },
   {
    "duration": 60,
    "start_time": "2023-01-21T21:48:50.211Z"
   },
   {
    "duration": 774,
    "start_time": "2023-01-21T21:48:50.274Z"
   },
   {
    "duration": 22,
    "start_time": "2023-01-21T21:48:51.051Z"
   },
   {
    "duration": 176,
    "start_time": "2023-01-21T21:48:51.075Z"
   },
   {
    "duration": 378,
    "start_time": "2023-01-21T21:48:51.262Z"
   },
   {
    "duration": 14,
    "start_time": "2023-01-21T21:48:51.648Z"
   },
   {
    "duration": 281,
    "start_time": "2023-01-21T21:48:51.669Z"
   },
   {
    "duration": 12,
    "start_time": "2023-01-21T21:48:51.958Z"
   },
   {
    "duration": 377,
    "start_time": "2023-01-21T21:48:51.978Z"
   },
   {
    "duration": 22,
    "start_time": "2023-01-21T21:48:52.362Z"
   },
   {
    "duration": 1851,
    "start_time": "2023-01-21T21:48:52.392Z"
   },
   {
    "duration": 27,
    "start_time": "2023-01-21T21:48:54.250Z"
   },
   {
    "duration": 457,
    "start_time": "2023-01-21T21:48:54.281Z"
   },
   {
    "duration": 16,
    "start_time": "2023-01-21T21:48:54.754Z"
   },
   {
    "duration": 746,
    "start_time": "2023-01-21T21:48:54.772Z"
   },
   {
    "duration": 19,
    "start_time": "2023-01-21T21:48:55.527Z"
   },
   {
    "duration": 177,
    "start_time": "2023-01-21T21:48:55.553Z"
   },
   {
    "duration": 649,
    "start_time": "2023-01-21T21:48:55.747Z"
   },
   {
    "duration": 16,
    "start_time": "2023-01-21T21:48:56.404Z"
   },
   {
    "duration": 73,
    "start_time": "2023-01-21T21:48:56.424Z"
   },
   {
    "duration": 395,
    "start_time": "2023-01-21T21:48:56.506Z"
   },
   {
    "duration": 19,
    "start_time": "2023-01-21T21:48:56.913Z"
   },
   {
    "duration": 22,
    "start_time": "2023-01-21T21:48:56.951Z"
   },
   {
    "duration": 341,
    "start_time": "2023-01-21T21:48:56.975Z"
   },
   {
    "duration": 16,
    "start_time": "2023-01-21T21:48:57.319Z"
   },
   {
    "duration": 337,
    "start_time": "2023-01-21T21:48:57.339Z"
   },
   {
    "duration": 11,
    "start_time": "2023-01-21T21:48:57.680Z"
   },
   {
    "duration": 364,
    "start_time": "2023-01-21T21:48:57.694Z"
   },
   {
    "duration": 5,
    "start_time": "2023-01-21T21:48:58.060Z"
   },
   {
    "duration": 354,
    "start_time": "2023-01-21T21:48:58.067Z"
   },
   {
    "duration": 7,
    "start_time": "2023-01-21T21:48:58.423Z"
   },
   {
    "duration": 311,
    "start_time": "2023-01-21T21:48:58.433Z"
   },
   {
    "duration": 9,
    "start_time": "2023-01-21T21:48:58.746Z"
   },
   {
    "duration": 320,
    "start_time": "2023-01-21T21:48:58.762Z"
   },
   {
    "duration": 3,
    "start_time": "2023-01-21T21:48:59.085Z"
   },
   {
    "duration": 82,
    "start_time": "2023-01-21T21:48:59.097Z"
   },
   {
    "duration": 73,
    "start_time": "2023-01-21T21:48:59.181Z"
   },
   {
    "duration": 2191,
    "start_time": "2023-01-22T09:09:48.182Z"
   },
   {
    "duration": 120,
    "start_time": "2023-01-22T09:09:50.376Z"
   },
   {
    "duration": 78,
    "start_time": "2023-01-22T09:09:50.498Z"
   },
   {
    "duration": 121,
    "start_time": "2023-01-22T09:09:50.578Z"
   },
   {
    "duration": 1895,
    "start_time": "2023-01-22T09:09:50.702Z"
   },
   {
    "duration": 50,
    "start_time": "2023-01-22T09:09:52.599Z"
   },
   {
    "duration": 41,
    "start_time": "2023-01-22T09:09:52.651Z"
   },
   {
    "duration": 57,
    "start_time": "2023-01-22T09:09:52.694Z"
   },
   {
    "duration": 31,
    "start_time": "2023-01-22T09:09:52.753Z"
   },
   {
    "duration": 497,
    "start_time": "2023-01-22T09:09:52.786Z"
   },
   {
    "duration": 74,
    "start_time": "2023-01-22T09:09:53.285Z"
   },
   {
    "duration": 21,
    "start_time": "2023-01-22T09:09:53.365Z"
   },
   {
    "duration": 60,
    "start_time": "2023-01-22T09:09:53.388Z"
   },
   {
    "duration": 35,
    "start_time": "2023-01-22T09:09:53.451Z"
   },
   {
    "duration": 13,
    "start_time": "2023-01-22T09:09:53.488Z"
   },
   {
    "duration": 86,
    "start_time": "2023-01-22T09:09:53.502Z"
   },
   {
    "duration": 6,
    "start_time": "2023-01-22T09:09:53.590Z"
   },
   {
    "duration": 49,
    "start_time": "2023-01-22T09:09:53.598Z"
   },
   {
    "duration": 43,
    "start_time": "2023-01-22T09:09:53.649Z"
   },
   {
    "duration": 655,
    "start_time": "2023-01-22T09:09:53.694Z"
   },
   {
    "duration": 1011,
    "start_time": "2023-01-22T09:09:54.356Z"
   },
   {
    "duration": 4,
    "start_time": "2023-01-22T09:09:55.369Z"
   },
   {
    "duration": 82,
    "start_time": "2023-01-22T09:09:55.376Z"
   },
   {
    "duration": 8,
    "start_time": "2023-01-22T09:09:55.462Z"
   },
   {
    "duration": 1011,
    "start_time": "2023-01-22T09:09:55.471Z"
   },
   {
    "duration": 67,
    "start_time": "2023-01-22T09:09:56.484Z"
   },
   {
    "duration": 101,
    "start_time": "2023-01-22T09:09:56.553Z"
   },
   {
    "duration": 422,
    "start_time": "2023-01-22T09:09:56.656Z"
   },
   {
    "duration": 7,
    "start_time": "2023-01-22T09:09:57.080Z"
   },
   {
    "duration": 340,
    "start_time": "2023-01-22T09:09:57.150Z"
   },
   {
    "duration": 58,
    "start_time": "2023-01-22T09:09:57.491Z"
   },
   {
    "duration": 421,
    "start_time": "2023-01-22T09:09:57.551Z"
   },
   {
    "duration": 10,
    "start_time": "2023-01-22T09:09:57.974Z"
   },
   {
    "duration": 2001,
    "start_time": "2023-01-22T09:09:57.986Z"
   },
   {
    "duration": 14,
    "start_time": "2023-01-22T09:09:59.989Z"
   },
   {
    "duration": 214,
    "start_time": "2023-01-22T09:10:00.004Z"
   },
   {
    "duration": 4,
    "start_time": "2023-01-22T09:10:00.220Z"
   },
   {
    "duration": 311,
    "start_time": "2023-01-22T09:10:00.227Z"
   },
   {
    "duration": 20,
    "start_time": "2023-01-22T09:10:00.539Z"
   },
   {
    "duration": 43,
    "start_time": "2023-01-22T09:10:00.565Z"
   },
   {
    "duration": 283,
    "start_time": "2023-01-22T09:10:00.612Z"
   },
   {
    "duration": 10,
    "start_time": "2023-01-22T09:10:00.897Z"
   },
   {
    "duration": 107,
    "start_time": "2023-01-22T09:10:00.908Z"
   },
   {
    "duration": 209,
    "start_time": "2023-01-22T09:10:01.017Z"
   },
   {
    "duration": 18,
    "start_time": "2023-01-22T09:10:01.228Z"
   },
   {
    "duration": 54,
    "start_time": "2023-01-22T09:10:01.247Z"
   },
   {
    "duration": 223,
    "start_time": "2023-01-22T09:10:01.302Z"
   },
   {
    "duration": 5,
    "start_time": "2023-01-22T09:10:01.526Z"
   },
   {
    "duration": 262,
    "start_time": "2023-01-22T09:10:01.533Z"
   },
   {
    "duration": 5,
    "start_time": "2023-01-22T09:10:01.797Z"
   },
   {
    "duration": 224,
    "start_time": "2023-01-22T09:10:01.804Z"
   },
   {
    "duration": 5,
    "start_time": "2023-01-22T09:10:02.030Z"
   },
   {
    "duration": 275,
    "start_time": "2023-01-22T09:10:02.046Z"
   },
   {
    "duration": 38,
    "start_time": "2023-01-22T09:10:02.323Z"
   },
   {
    "duration": 183,
    "start_time": "2023-01-22T09:10:02.369Z"
   },
   {
    "duration": 7,
    "start_time": "2023-01-22T09:10:02.554Z"
   },
   {
    "duration": 213,
    "start_time": "2023-01-22T09:10:02.563Z"
   },
   {
    "duration": 3,
    "start_time": "2023-01-22T09:10:02.777Z"
   },
   {
    "duration": 30,
    "start_time": "2023-01-22T09:10:02.781Z"
   },
   {
    "duration": 35,
    "start_time": "2023-01-22T09:10:02.813Z"
   },
   {
    "duration": 11,
    "start_time": "2023-01-22T09:33:17.373Z"
   },
   {
    "duration": 9,
    "start_time": "2023-01-22T09:57:53.726Z"
   },
   {
    "duration": 1086,
    "start_time": "2023-01-22T10:10:19.186Z"
   },
   {
    "duration": 52,
    "start_time": "2023-01-22T10:10:20.274Z"
   },
   {
    "duration": 25,
    "start_time": "2023-01-22T10:10:20.327Z"
   },
   {
    "duration": 23,
    "start_time": "2023-01-22T10:10:20.354Z"
   },
   {
    "duration": 806,
    "start_time": "2023-01-22T10:10:20.379Z"
   },
   {
    "duration": 3,
    "start_time": "2023-01-22T10:10:21.187Z"
   },
   {
    "duration": 25,
    "start_time": "2023-01-22T10:10:21.191Z"
   },
   {
    "duration": 12,
    "start_time": "2023-01-22T10:10:21.217Z"
   },
   {
    "duration": 18,
    "start_time": "2023-01-22T10:10:21.230Z"
   },
   {
    "duration": 199,
    "start_time": "2023-01-22T10:10:21.252Z"
   },
   {
    "duration": 17,
    "start_time": "2023-01-22T10:10:21.453Z"
   },
   {
    "duration": 6,
    "start_time": "2023-01-22T10:10:21.472Z"
   },
   {
    "duration": 11,
    "start_time": "2023-01-22T10:10:21.479Z"
   },
   {
    "duration": 12,
    "start_time": "2023-01-22T10:10:21.492Z"
   },
   {
    "duration": 5,
    "start_time": "2023-01-22T10:10:21.505Z"
   },
   {
    "duration": 12,
    "start_time": "2023-01-22T10:10:21.511Z"
   },
   {
    "duration": 27,
    "start_time": "2023-01-22T10:10:21.524Z"
   },
   {
    "duration": 16,
    "start_time": "2023-01-22T10:10:21.552Z"
   },
   {
    "duration": 8,
    "start_time": "2023-01-22T10:10:21.569Z"
   },
   {
    "duration": 15,
    "start_time": "2023-01-22T10:10:21.578Z"
   },
   {
    "duration": 287,
    "start_time": "2023-01-22T10:10:21.594Z"
   },
   {
    "duration": 400,
    "start_time": "2023-01-22T10:10:21.883Z"
   },
   {
    "duration": 3,
    "start_time": "2023-01-22T10:10:22.285Z"
   },
   {
    "duration": 18,
    "start_time": "2023-01-22T10:10:22.290Z"
   },
   {
    "duration": 8,
    "start_time": "2023-01-22T10:10:22.310Z"
   },
   {
    "duration": 406,
    "start_time": "2023-01-22T10:10:22.319Z"
   },
   {
    "duration": 19,
    "start_time": "2023-01-22T10:10:22.727Z"
   },
   {
    "duration": 31,
    "start_time": "2023-01-22T10:10:22.748Z"
   },
   {
    "duration": 196,
    "start_time": "2023-01-22T10:10:22.781Z"
   },
   {
    "duration": 7,
    "start_time": "2023-01-22T10:10:22.978Z"
   },
   {
    "duration": 163,
    "start_time": "2023-01-22T10:10:22.986Z"
   },
   {
    "duration": 6,
    "start_time": "2023-01-22T10:10:23.162Z"
   },
   {
    "duration": 163,
    "start_time": "2023-01-22T10:10:23.169Z"
   },
   {
    "duration": 23,
    "start_time": "2023-01-22T10:10:23.334Z"
   },
   {
    "duration": 1111,
    "start_time": "2023-01-22T10:10:23.362Z"
   },
   {
    "duration": 16,
    "start_time": "2023-01-22T10:10:24.475Z"
   },
   {
    "duration": 286,
    "start_time": "2023-01-22T10:10:24.493Z"
   },
   {
    "duration": 7,
    "start_time": "2023-01-22T10:10:24.781Z"
   },
   {
    "duration": 344,
    "start_time": "2023-01-22T10:10:24.790Z"
   },
   {
    "duration": 16,
    "start_time": "2023-01-22T10:10:25.136Z"
   },
   {
    "duration": 19,
    "start_time": "2023-01-22T10:10:25.157Z"
   },
   {
    "duration": 194,
    "start_time": "2023-01-22T10:10:25.178Z"
   },
   {
    "duration": 7,
    "start_time": "2023-01-22T10:10:25.374Z"
   },
   {
    "duration": 14,
    "start_time": "2023-01-22T10:10:25.383Z"
   },
   {
    "duration": 194,
    "start_time": "2023-01-22T10:10:25.398Z"
   },
   {
    "duration": 8,
    "start_time": "2023-01-22T10:10:25.594Z"
   },
   {
    "duration": 8,
    "start_time": "2023-01-22T10:10:25.603Z"
   },
   {
    "duration": 193,
    "start_time": "2023-01-22T10:10:25.612Z"
   },
   {
    "duration": 5,
    "start_time": "2023-01-22T10:10:25.807Z"
   },
   {
    "duration": 193,
    "start_time": "2023-01-22T10:10:25.813Z"
   },
   {
    "duration": 7,
    "start_time": "2023-01-22T10:10:26.008Z"
   },
   {
    "duration": 210,
    "start_time": "2023-01-22T10:10:26.017Z"
   },
   {
    "duration": 4,
    "start_time": "2023-01-22T10:10:26.229Z"
   },
   {
    "duration": 177,
    "start_time": "2023-01-22T10:10:26.235Z"
   },
   {
    "duration": 5,
    "start_time": "2023-01-22T10:10:26.413Z"
   },
   {
    "duration": 178,
    "start_time": "2023-01-22T10:10:26.420Z"
   },
   {
    "duration": 5,
    "start_time": "2023-01-22T10:10:26.600Z"
   },
   {
    "duration": 180,
    "start_time": "2023-01-22T10:10:26.606Z"
   },
   {
    "duration": 2,
    "start_time": "2023-01-22T10:10:26.788Z"
   },
   {
    "duration": 23,
    "start_time": "2023-01-22T10:10:26.792Z"
   },
   {
    "duration": 10,
    "start_time": "2023-01-22T10:10:26.817Z"
   },
   {
    "duration": 45,
    "start_time": "2023-01-22T10:45:52.756Z"
   },
   {
    "duration": 6,
    "start_time": "2023-01-22T10:45:58.722Z"
   },
   {
    "duration": 1294,
    "start_time": "2023-01-22T10:46:03.854Z"
   },
   {
    "duration": 94,
    "start_time": "2023-01-22T10:46:05.150Z"
   },
   {
    "duration": 22,
    "start_time": "2023-01-22T10:46:05.246Z"
   },
   {
    "duration": 15,
    "start_time": "2023-01-22T10:46:05.270Z"
   },
   {
    "duration": 739,
    "start_time": "2023-01-22T10:46:05.287Z"
   },
   {
    "duration": 4,
    "start_time": "2023-01-22T10:46:06.028Z"
   },
   {
    "duration": 19,
    "start_time": "2023-01-22T10:46:06.033Z"
   },
   {
    "duration": 25,
    "start_time": "2023-01-22T10:46:06.054Z"
   },
   {
    "duration": 5,
    "start_time": "2023-01-22T10:46:06.081Z"
   },
   {
    "duration": 202,
    "start_time": "2023-01-22T10:46:06.087Z"
   },
   {
    "duration": 16,
    "start_time": "2023-01-22T10:46:06.291Z"
   },
   {
    "duration": 25,
    "start_time": "2023-01-22T10:46:06.309Z"
   },
   {
    "duration": 7,
    "start_time": "2023-01-22T10:46:06.336Z"
   },
   {
    "duration": 8,
    "start_time": "2023-01-22T10:46:06.346Z"
   },
   {
    "duration": 14,
    "start_time": "2023-01-22T10:46:06.357Z"
   },
   {
    "duration": 23,
    "start_time": "2023-01-22T10:46:06.372Z"
   },
   {
    "duration": 22,
    "start_time": "2023-01-22T10:46:06.397Z"
   },
   {
    "duration": 21,
    "start_time": "2023-01-22T10:46:06.421Z"
   },
   {
    "duration": 8,
    "start_time": "2023-01-22T10:46:06.444Z"
   },
   {
    "duration": 17,
    "start_time": "2023-01-22T10:46:06.454Z"
   },
   {
    "duration": 14,
    "start_time": "2023-01-22T10:46:06.473Z"
   },
   {
    "duration": 266,
    "start_time": "2023-01-22T10:46:06.488Z"
   },
   {
    "duration": 411,
    "start_time": "2023-01-22T10:46:06.756Z"
   },
   {
    "duration": 3,
    "start_time": "2023-01-22T10:46:07.169Z"
   },
   {
    "duration": 21,
    "start_time": "2023-01-22T10:46:07.174Z"
   },
   {
    "duration": 7,
    "start_time": "2023-01-22T10:46:07.197Z"
   },
   {
    "duration": 437,
    "start_time": "2023-01-22T10:46:07.206Z"
   },
   {
    "duration": 8,
    "start_time": "2023-01-22T10:46:07.645Z"
   },
   {
    "duration": 33,
    "start_time": "2023-01-22T10:46:07.655Z"
   },
   {
    "duration": 353,
    "start_time": "2023-01-22T10:46:07.689Z"
   },
   {
    "duration": 6,
    "start_time": "2023-01-22T10:46:08.043Z"
   },
   {
    "duration": 301,
    "start_time": "2023-01-22T10:46:08.051Z"
   },
   {
    "duration": 5,
    "start_time": "2023-01-22T10:46:08.354Z"
   },
   {
    "duration": 370,
    "start_time": "2023-01-22T10:46:08.360Z"
   },
   {
    "duration": 9,
    "start_time": "2023-01-22T10:46:08.732Z"
   },
   {
    "duration": 1458,
    "start_time": "2023-01-22T10:46:08.743Z"
   },
   {
    "duration": 30,
    "start_time": "2023-01-22T10:46:10.203Z"
   },
   {
    "duration": 256,
    "start_time": "2023-01-22T10:46:10.236Z"
   },
   {
    "duration": 5,
    "start_time": "2023-01-22T10:46:10.494Z"
   },
   {
    "duration": 279,
    "start_time": "2023-01-22T10:46:10.501Z"
   },
   {
    "duration": 7,
    "start_time": "2023-01-22T10:46:10.786Z"
   },
   {
    "duration": 12,
    "start_time": "2023-01-22T10:46:10.795Z"
   },
   {
    "duration": 200,
    "start_time": "2023-01-22T10:46:10.808Z"
   },
   {
    "duration": 7,
    "start_time": "2023-01-22T10:46:11.010Z"
   },
   {
    "duration": 17,
    "start_time": "2023-01-22T10:46:11.027Z"
   },
   {
    "duration": 203,
    "start_time": "2023-01-22T10:46:11.046Z"
   },
   {
    "duration": 8,
    "start_time": "2023-01-22T10:46:11.250Z"
   },
   {
    "duration": 13,
    "start_time": "2023-01-22T10:46:11.260Z"
   },
   {
    "duration": 183,
    "start_time": "2023-01-22T10:46:11.275Z"
   },
   {
    "duration": 6,
    "start_time": "2023-01-22T10:46:11.460Z"
   },
   {
    "duration": 201,
    "start_time": "2023-01-22T10:46:11.468Z"
   },
   {
    "duration": 6,
    "start_time": "2023-01-22T10:46:11.671Z"
   },
   {
    "duration": 209,
    "start_time": "2023-01-22T10:46:11.679Z"
   },
   {
    "duration": 6,
    "start_time": "2023-01-22T10:46:11.889Z"
   },
   {
    "duration": 187,
    "start_time": "2023-01-22T10:46:11.896Z"
   },
   {
    "duration": 5,
    "start_time": "2023-01-22T10:46:12.084Z"
   },
   {
    "duration": 178,
    "start_time": "2023-01-22T10:46:12.091Z"
   },
   {
    "duration": 4,
    "start_time": "2023-01-22T10:46:12.271Z"
   },
   {
    "duration": 185,
    "start_time": "2023-01-22T10:46:12.276Z"
   },
   {
    "duration": 4,
    "start_time": "2023-01-22T10:46:12.462Z"
   },
   {
    "duration": 13,
    "start_time": "2023-01-22T10:46:12.467Z"
   },
   {
    "duration": 11,
    "start_time": "2023-01-22T10:46:12.481Z"
   },
   {
    "duration": 4,
    "start_time": "2023-01-22T10:46:49.879Z"
   },
   {
    "duration": 6,
    "start_time": "2023-01-22T10:46:51.818Z"
   },
   {
    "duration": 1142,
    "start_time": "2023-01-22T10:46:58.756Z"
   },
   {
    "duration": 48,
    "start_time": "2023-01-22T10:46:59.900Z"
   },
   {
    "duration": 20,
    "start_time": "2023-01-22T10:46:59.950Z"
   },
   {
    "duration": 16,
    "start_time": "2023-01-22T10:46:59.972Z"
   },
   {
    "duration": 873,
    "start_time": "2023-01-22T10:46:59.990Z"
   },
   {
    "duration": 3,
    "start_time": "2023-01-22T10:47:00.865Z"
   },
   {
    "duration": 40,
    "start_time": "2023-01-22T10:47:00.870Z"
   },
   {
    "duration": 78,
    "start_time": "2023-01-22T10:47:00.912Z"
   },
   {
    "duration": 51,
    "start_time": "2023-01-22T10:47:00.991Z"
   },
   {
    "duration": 283,
    "start_time": "2023-01-22T10:47:01.045Z"
   },
   {
    "duration": 16,
    "start_time": "2023-01-22T10:47:01.330Z"
   },
   {
    "duration": 18,
    "start_time": "2023-01-22T10:47:01.348Z"
   },
   {
    "duration": 35,
    "start_time": "2023-01-22T10:47:01.368Z"
   },
   {
    "duration": 24,
    "start_time": "2023-01-22T10:47:01.404Z"
   },
   {
    "duration": 31,
    "start_time": "2023-01-22T10:47:01.429Z"
   },
   {
    "duration": 34,
    "start_time": "2023-01-22T10:47:01.462Z"
   },
   {
    "duration": 23,
    "start_time": "2023-01-22T10:47:01.498Z"
   },
   {
    "duration": 21,
    "start_time": "2023-01-22T10:47:01.522Z"
   },
   {
    "duration": 13,
    "start_time": "2023-01-22T10:47:01.545Z"
   },
   {
    "duration": 89,
    "start_time": "2023-01-22T10:47:01.560Z"
   },
   {
    "duration": 131,
    "start_time": "2023-01-22T10:47:01.651Z"
   },
   {
    "duration": 96,
    "start_time": "2023-01-22T10:47:01.784Z"
   },
   {
    "duration": 264,
    "start_time": "2023-01-22T10:47:01.881Z"
   },
   {
    "duration": 389,
    "start_time": "2023-01-22T10:47:02.146Z"
   },
   {
    "duration": 3,
    "start_time": "2023-01-22T10:47:02.536Z"
   },
   {
    "duration": 49,
    "start_time": "2023-01-22T10:47:02.541Z"
   },
   {
    "duration": 50,
    "start_time": "2023-01-22T10:47:02.592Z"
   },
   {
    "duration": 940,
    "start_time": "2023-01-22T10:47:02.647Z"
   },
   {
    "duration": 41,
    "start_time": "2023-01-22T10:47:03.589Z"
   },
   {
    "duration": 105,
    "start_time": "2023-01-22T10:47:03.632Z"
   },
   {
    "duration": 391,
    "start_time": "2023-01-22T10:47:03.738Z"
   },
   {
    "duration": 7,
    "start_time": "2023-01-22T10:47:04.131Z"
   },
   {
    "duration": 200,
    "start_time": "2023-01-22T10:47:04.139Z"
   },
   {
    "duration": 5,
    "start_time": "2023-01-22T10:47:04.340Z"
   },
   {
    "duration": 226,
    "start_time": "2023-01-22T10:47:04.346Z"
   },
   {
    "duration": 9,
    "start_time": "2023-01-22T10:47:04.573Z"
   },
   {
    "duration": 1136,
    "start_time": "2023-01-22T10:47:04.584Z"
   },
   {
    "duration": 22,
    "start_time": "2023-01-22T10:47:05.721Z"
   },
   {
    "duration": 251,
    "start_time": "2023-01-22T10:47:05.745Z"
   },
   {
    "duration": 5,
    "start_time": "2023-01-22T10:47:05.998Z"
   },
   {
    "duration": 335,
    "start_time": "2023-01-22T10:47:06.005Z"
   },
   {
    "duration": 8,
    "start_time": "2023-01-22T10:47:06.341Z"
   },
   {
    "duration": 89,
    "start_time": "2023-01-22T10:47:06.350Z"
   },
   {
    "duration": 234,
    "start_time": "2023-01-22T10:47:06.441Z"
   },
   {
    "duration": 7,
    "start_time": "2023-01-22T10:47:06.677Z"
   },
   {
    "duration": 39,
    "start_time": "2023-01-22T10:47:06.686Z"
   },
   {
    "duration": 206,
    "start_time": "2023-01-22T10:47:06.727Z"
   },
   {
    "duration": 8,
    "start_time": "2023-01-22T10:47:06.935Z"
   },
   {
    "duration": 62,
    "start_time": "2023-01-22T10:47:06.944Z"
   },
   {
    "duration": 211,
    "start_time": "2023-01-22T10:47:07.008Z"
   },
   {
    "duration": 9,
    "start_time": "2023-01-22T10:47:07.220Z"
   },
   {
    "duration": 201,
    "start_time": "2023-01-22T10:47:07.230Z"
   },
   {
    "duration": 6,
    "start_time": "2023-01-22T10:47:07.433Z"
   },
   {
    "duration": 218,
    "start_time": "2023-01-22T10:47:07.441Z"
   },
   {
    "duration": 5,
    "start_time": "2023-01-22T10:47:07.661Z"
   },
   {
    "duration": 195,
    "start_time": "2023-01-22T10:47:07.667Z"
   },
   {
    "duration": 5,
    "start_time": "2023-01-22T10:47:07.863Z"
   },
   {
    "duration": 243,
    "start_time": "2023-01-22T10:47:07.869Z"
   },
   {
    "duration": 5,
    "start_time": "2023-01-22T10:47:08.113Z"
   },
   {
    "duration": 413,
    "start_time": "2023-01-22T10:47:08.120Z"
   },
   {
    "duration": 2,
    "start_time": "2023-01-22T10:47:08.535Z"
   },
   {
    "duration": 95,
    "start_time": "2023-01-22T10:47:08.539Z"
   },
   {
    "duration": 19,
    "start_time": "2023-01-22T10:47:08.636Z"
   },
   {
    "duration": 4,
    "start_time": "2023-01-22T10:51:08.337Z"
   },
   {
    "duration": 370,
    "start_time": "2023-01-22T10:52:29.038Z"
   },
   {
    "duration": 380,
    "start_time": "2023-01-22T10:53:38.232Z"
   },
   {
    "duration": 288,
    "start_time": "2023-01-22T10:55:14.456Z"
   },
   {
    "duration": 276,
    "start_time": "2023-01-22T10:55:22.171Z"
   },
   {
    "duration": 274,
    "start_time": "2023-01-22T11:05:09.869Z"
   },
   {
    "duration": 1161,
    "start_time": "2023-01-22T11:06:26.324Z"
   },
   {
    "duration": 1102,
    "start_time": "2023-01-22T11:06:38.678Z"
   },
   {
    "duration": 19,
    "start_time": "2023-01-22T11:06:51.967Z"
   },
   {
    "duration": 36,
    "start_time": "2023-01-22T11:06:57.989Z"
   },
   {
    "duration": 8,
    "start_time": "2023-01-22T11:07:20.135Z"
   },
   {
    "duration": 1107,
    "start_time": "2023-01-22T11:07:24.939Z"
   },
   {
    "duration": 319,
    "start_time": "2023-01-22T11:12:14.059Z"
   },
   {
    "duration": 13,
    "start_time": "2023-01-22T11:14:42.319Z"
   },
   {
    "duration": 889,
    "start_time": "2023-01-22T11:14:50.402Z"
   },
   {
    "duration": 390,
    "start_time": "2023-01-22T11:16:44.299Z"
   },
   {
    "duration": 13,
    "start_time": "2023-01-22T11:17:25.518Z"
   },
   {
    "duration": 29,
    "start_time": "2023-01-22T11:22:38.341Z"
   },
   {
    "duration": 159,
    "start_time": "2023-01-22T11:23:04.217Z"
   },
   {
    "duration": 185,
    "start_time": "2023-01-22T11:23:15.410Z"
   },
   {
    "duration": 185,
    "start_time": "2023-01-22T11:25:09.763Z"
   },
   {
    "duration": 26,
    "start_time": "2023-01-22T14:35:16.071Z"
   },
   {
    "duration": 176,
    "start_time": "2023-01-22T14:39:32.170Z"
   },
   {
    "duration": 8,
    "start_time": "2023-01-22T14:42:00.939Z"
   },
   {
    "duration": 165,
    "start_time": "2023-01-22T14:42:03.830Z"
   },
   {
    "duration": 450,
    "start_time": "2023-01-22T14:42:23.278Z"
   },
   {
    "duration": 1443,
    "start_time": "2023-01-22T15:06:32.129Z"
   },
   {
    "duration": 242,
    "start_time": "2023-01-22T15:06:33.575Z"
   },
   {
    "duration": 27,
    "start_time": "2023-01-22T15:06:33.819Z"
   },
   {
    "duration": 21,
    "start_time": "2023-01-22T15:06:33.848Z"
   },
   {
    "duration": 843,
    "start_time": "2023-01-22T15:06:33.871Z"
   },
   {
    "duration": 4,
    "start_time": "2023-01-22T15:06:34.716Z"
   },
   {
    "duration": 30,
    "start_time": "2023-01-22T15:06:34.722Z"
   },
   {
    "duration": 16,
    "start_time": "2023-01-22T15:06:34.754Z"
   },
   {
    "duration": 6,
    "start_time": "2023-01-22T15:06:34.772Z"
   },
   {
    "duration": 286,
    "start_time": "2023-01-22T15:06:34.781Z"
   },
   {
    "duration": 23,
    "start_time": "2023-01-22T15:06:35.069Z"
   },
   {
    "duration": 7,
    "start_time": "2023-01-22T15:06:35.095Z"
   },
   {
    "duration": 13,
    "start_time": "2023-01-22T15:06:35.104Z"
   },
   {
    "duration": 30,
    "start_time": "2023-01-22T15:06:35.119Z"
   },
   {
    "duration": 7,
    "start_time": "2023-01-22T15:06:35.150Z"
   },
   {
    "duration": 9,
    "start_time": "2023-01-22T15:06:35.159Z"
   },
   {
    "duration": 12,
    "start_time": "2023-01-22T15:06:35.169Z"
   },
   {
    "duration": 9,
    "start_time": "2023-01-22T15:06:35.184Z"
   },
   {
    "duration": 13,
    "start_time": "2023-01-22T15:06:35.195Z"
   },
   {
    "duration": 7,
    "start_time": "2023-01-22T15:06:35.210Z"
   },
   {
    "duration": 50,
    "start_time": "2023-01-22T15:06:35.219Z"
   },
   {
    "duration": 328,
    "start_time": "2023-01-22T15:06:35.271Z"
   },
   {
    "duration": 482,
    "start_time": "2023-01-22T15:06:35.601Z"
   },
   {
    "duration": 5,
    "start_time": "2023-01-22T15:06:36.085Z"
   },
   {
    "duration": 29,
    "start_time": "2023-01-22T15:06:36.091Z"
   },
   {
    "duration": 19,
    "start_time": "2023-01-22T15:06:36.122Z"
   },
   {
    "duration": 507,
    "start_time": "2023-01-22T15:06:36.142Z"
   },
   {
    "duration": 204,
    "start_time": "2023-01-22T15:06:36.655Z"
   },
   {
    "duration": 10,
    "start_time": "2023-01-22T15:06:36.860Z"
   },
   {
    "duration": 438,
    "start_time": "2023-01-22T15:06:36.871Z"
   },
   {
    "duration": 10,
    "start_time": "2023-01-22T15:06:37.311Z"
   },
   {
    "duration": 42,
    "start_time": "2023-01-22T15:06:37.323Z"
   },
   {
    "duration": 217,
    "start_time": "2023-01-22T15:06:37.367Z"
   },
   {
    "duration": 9,
    "start_time": "2023-01-22T15:06:37.586Z"
   },
   {
    "duration": 173,
    "start_time": "2023-01-22T15:06:37.598Z"
   },
   {
    "duration": 6,
    "start_time": "2023-01-22T15:06:37.774Z"
   },
   {
    "duration": 265,
    "start_time": "2023-01-22T15:06:37.782Z"
   },
   {
    "duration": 18,
    "start_time": "2023-01-22T15:06:38.049Z"
   },
   {
    "duration": 1387,
    "start_time": "2023-01-22T15:06:38.070Z"
   },
   {
    "duration": 22,
    "start_time": "2023-01-22T15:06:39.458Z"
   },
   {
    "duration": 501,
    "start_time": "2023-01-22T15:06:39.482Z"
   },
   {
    "duration": 6,
    "start_time": "2023-01-22T15:06:39.984Z"
   },
   {
    "duration": 580,
    "start_time": "2023-01-22T15:06:39.992Z"
   },
   {
    "duration": 9,
    "start_time": "2023-01-22T15:06:40.574Z"
   },
   {
    "duration": 70,
    "start_time": "2023-01-22T15:06:40.585Z"
   },
   {
    "duration": 536,
    "start_time": "2023-01-22T15:06:40.657Z"
   },
   {
    "duration": 59,
    "start_time": "2023-01-22T15:06:41.196Z"
   },
   {
    "duration": 10,
    "start_time": "2023-01-22T15:06:41.257Z"
   },
   {
    "duration": 543,
    "start_time": "2023-01-22T15:06:41.269Z"
   },
   {
    "duration": 41,
    "start_time": "2023-01-22T15:06:41.814Z"
   },
   {
    "duration": 7,
    "start_time": "2023-01-22T15:06:41.857Z"
   },
   {
    "duration": 203,
    "start_time": "2023-01-22T15:06:41.866Z"
   },
   {
    "duration": 6,
    "start_time": "2023-01-22T15:06:42.071Z"
   },
   {
    "duration": 216,
    "start_time": "2023-01-22T15:06:42.079Z"
   },
   {
    "duration": 6,
    "start_time": "2023-01-22T15:06:42.296Z"
   },
   {
    "duration": 201,
    "start_time": "2023-01-22T15:06:42.303Z"
   },
   {
    "duration": 5,
    "start_time": "2023-01-22T15:06:42.506Z"
   },
   {
    "duration": 196,
    "start_time": "2023-01-22T15:06:42.513Z"
   },
   {
    "duration": 5,
    "start_time": "2023-01-22T15:06:42.711Z"
   },
   {
    "duration": 188,
    "start_time": "2023-01-22T15:06:42.718Z"
   },
   {
    "duration": 5,
    "start_time": "2023-01-22T15:06:42.908Z"
   },
   {
    "duration": 294,
    "start_time": "2023-01-22T15:06:42.914Z"
   },
   {
    "duration": 4,
    "start_time": "2023-01-22T15:06:43.209Z"
   },
   {
    "duration": 17,
    "start_time": "2023-01-22T15:06:43.216Z"
   },
   {
    "duration": 16,
    "start_time": "2023-01-22T15:06:43.248Z"
   },
   {
    "duration": 7,
    "start_time": "2023-01-22T15:07:04.599Z"
   },
   {
    "duration": 1131,
    "start_time": "2023-01-22T15:07:09.962Z"
   },
   {
    "duration": 52,
    "start_time": "2023-01-22T15:07:11.096Z"
   },
   {
    "duration": 21,
    "start_time": "2023-01-22T15:07:11.152Z"
   },
   {
    "duration": 21,
    "start_time": "2023-01-22T15:07:11.175Z"
   },
   {
    "duration": 774,
    "start_time": "2023-01-22T15:07:11.198Z"
   },
   {
    "duration": 4,
    "start_time": "2023-01-22T15:07:11.974Z"
   },
   {
    "duration": 32,
    "start_time": "2023-01-22T15:07:11.979Z"
   },
   {
    "duration": 13,
    "start_time": "2023-01-22T15:07:12.013Z"
   },
   {
    "duration": 7,
    "start_time": "2023-01-22T15:07:12.029Z"
   },
   {
    "duration": 201,
    "start_time": "2023-01-22T15:07:12.038Z"
   },
   {
    "duration": 21,
    "start_time": "2023-01-22T15:07:12.241Z"
   },
   {
    "duration": 10,
    "start_time": "2023-01-22T15:07:12.264Z"
   },
   {
    "duration": 11,
    "start_time": "2023-01-22T15:07:12.276Z"
   },
   {
    "duration": 19,
    "start_time": "2023-01-22T15:07:12.289Z"
   },
   {
    "duration": 10,
    "start_time": "2023-01-22T15:07:12.310Z"
   },
   {
    "duration": 12,
    "start_time": "2023-01-22T15:07:12.321Z"
   },
   {
    "duration": 17,
    "start_time": "2023-01-22T15:07:12.335Z"
   },
   {
    "duration": 7,
    "start_time": "2023-01-22T15:07:12.354Z"
   },
   {
    "duration": 9,
    "start_time": "2023-01-22T15:07:12.363Z"
   },
   {
    "duration": 11,
    "start_time": "2023-01-22T15:07:12.374Z"
   },
   {
    "duration": 25,
    "start_time": "2023-01-22T15:07:12.386Z"
   },
   {
    "duration": 305,
    "start_time": "2023-01-22T15:07:12.413Z"
   },
   {
    "duration": 423,
    "start_time": "2023-01-22T15:07:12.720Z"
   },
   {
    "duration": 3,
    "start_time": "2023-01-22T15:07:13.145Z"
   },
   {
    "duration": 14,
    "start_time": "2023-01-22T15:07:13.150Z"
   },
   {
    "duration": 10,
    "start_time": "2023-01-22T15:07:13.166Z"
   },
   {
    "duration": 485,
    "start_time": "2023-01-22T15:07:13.180Z"
   },
   {
    "duration": 171,
    "start_time": "2023-01-22T15:07:13.668Z"
   },
   {
    "duration": 11,
    "start_time": "2023-01-22T15:07:13.841Z"
   },
   {
    "duration": 402,
    "start_time": "2023-01-22T15:07:13.853Z"
   },
   {
    "duration": 7,
    "start_time": "2023-01-22T15:07:14.257Z"
   },
   {
    "duration": 62,
    "start_time": "2023-01-22T15:07:14.266Z"
   },
   {
    "duration": 321,
    "start_time": "2023-01-22T15:07:14.330Z"
   },
   {
    "duration": 9,
    "start_time": "2023-01-22T15:07:14.653Z"
   },
   {
    "duration": 170,
    "start_time": "2023-01-22T15:07:14.664Z"
   },
   {
    "duration": 14,
    "start_time": "2023-01-22T15:07:14.836Z"
   },
   {
    "duration": 188,
    "start_time": "2023-01-22T15:07:14.853Z"
   },
   {
    "duration": 10,
    "start_time": "2023-01-22T15:07:15.043Z"
   },
   {
    "duration": 1304,
    "start_time": "2023-01-22T15:07:15.055Z"
   },
   {
    "duration": 25,
    "start_time": "2023-01-22T15:07:16.361Z"
   },
   {
    "duration": 490,
    "start_time": "2023-01-22T15:07:16.389Z"
   },
   {
    "duration": 7,
    "start_time": "2023-01-22T15:07:16.881Z"
   },
   {
    "duration": 507,
    "start_time": "2023-01-22T15:07:16.890Z"
   },
   {
    "duration": 8,
    "start_time": "2023-01-22T15:07:17.449Z"
   },
   {
    "duration": 36,
    "start_time": "2023-01-22T15:07:17.459Z"
   },
   {
    "duration": 488,
    "start_time": "2023-01-22T15:07:17.497Z"
   },
   {
    "duration": 8,
    "start_time": "2023-01-22T15:07:17.986Z"
   },
   {
    "duration": 26,
    "start_time": "2023-01-22T15:07:18.049Z"
   },
   {
    "duration": 418,
    "start_time": "2023-01-22T15:07:18.077Z"
   },
   {
    "duration": 9,
    "start_time": "2023-01-22T15:07:18.549Z"
   },
   {
    "duration": 28,
    "start_time": "2023-01-22T15:07:18.561Z"
   },
   {
    "duration": 247,
    "start_time": "2023-01-22T15:07:18.592Z"
   },
   {
    "duration": 14,
    "start_time": "2023-01-22T15:07:18.841Z"
   },
   {
    "duration": 236,
    "start_time": "2023-01-22T15:07:18.857Z"
   },
   {
    "duration": 7,
    "start_time": "2023-01-22T15:07:19.095Z"
   },
   {
    "duration": 230,
    "start_time": "2023-01-22T15:07:19.104Z"
   },
   {
    "duration": 7,
    "start_time": "2023-01-22T15:07:19.335Z"
   },
   {
    "duration": 253,
    "start_time": "2023-01-22T15:07:19.352Z"
   },
   {
    "duration": 6,
    "start_time": "2023-01-22T15:07:19.607Z"
   },
   {
    "duration": 308,
    "start_time": "2023-01-22T15:07:19.615Z"
   },
   {
    "duration": 7,
    "start_time": "2023-01-22T15:07:19.925Z"
   },
   {
    "duration": 253,
    "start_time": "2023-01-22T15:07:19.934Z"
   },
   {
    "duration": 3,
    "start_time": "2023-01-22T15:07:20.189Z"
   },
   {
    "duration": 18,
    "start_time": "2023-01-22T15:07:20.194Z"
   },
   {
    "duration": 44,
    "start_time": "2023-01-22T15:07:20.215Z"
   },
   {
    "duration": 6,
    "start_time": "2023-01-22T15:07:32.683Z"
   },
   {
    "duration": 1334,
    "start_time": "2023-01-22T15:07:38.101Z"
   },
   {
    "duration": 92,
    "start_time": "2023-01-22T15:07:39.437Z"
   },
   {
    "duration": 39,
    "start_time": "2023-01-22T15:07:39.534Z"
   },
   {
    "duration": 106,
    "start_time": "2023-01-22T15:07:39.576Z"
   },
   {
    "duration": 1130,
    "start_time": "2023-01-22T15:07:39.685Z"
   },
   {
    "duration": 5,
    "start_time": "2023-01-22T15:07:40.821Z"
   },
   {
    "duration": 65,
    "start_time": "2023-01-22T15:07:40.828Z"
   },
   {
    "duration": 24,
    "start_time": "2023-01-22T15:07:40.898Z"
   },
   {
    "duration": 8,
    "start_time": "2023-01-22T15:07:40.925Z"
   },
   {
    "duration": 306,
    "start_time": "2023-01-22T15:07:40.937Z"
   },
   {
    "duration": 24,
    "start_time": "2023-01-22T15:07:41.246Z"
   },
   {
    "duration": 35,
    "start_time": "2023-01-22T15:07:41.272Z"
   },
   {
    "duration": 20,
    "start_time": "2023-01-22T15:07:41.311Z"
   },
   {
    "duration": 39,
    "start_time": "2023-01-22T15:07:41.333Z"
   },
   {
    "duration": 53,
    "start_time": "2023-01-22T15:07:41.375Z"
   },
   {
    "duration": 26,
    "start_time": "2023-01-22T15:07:41.435Z"
   },
   {
    "duration": 60,
    "start_time": "2023-01-22T15:07:41.471Z"
   },
   {
    "duration": 61,
    "start_time": "2023-01-22T15:07:41.538Z"
   },
   {
    "duration": 15,
    "start_time": "2023-01-22T15:07:41.601Z"
   },
   {
    "duration": 17,
    "start_time": "2023-01-22T15:07:41.622Z"
   },
   {
    "duration": 58,
    "start_time": "2023-01-22T15:07:41.643Z"
   },
   {
    "duration": 434,
    "start_time": "2023-01-22T15:07:41.703Z"
   },
   {
    "duration": 619,
    "start_time": "2023-01-22T15:07:42.142Z"
   },
   {
    "duration": 7,
    "start_time": "2023-01-22T15:07:42.767Z"
   },
   {
    "duration": 30,
    "start_time": "2023-01-22T15:07:42.778Z"
   },
   {
    "duration": 28,
    "start_time": "2023-01-22T15:07:42.810Z"
   },
   {
    "duration": 676,
    "start_time": "2023-01-22T15:07:42.841Z"
   },
   {
    "duration": 258,
    "start_time": "2023-01-22T15:07:43.522Z"
   },
   {
    "duration": 10,
    "start_time": "2023-01-22T15:07:43.782Z"
   },
   {
    "duration": 603,
    "start_time": "2023-01-22T15:07:43.794Z"
   },
   {
    "duration": 10,
    "start_time": "2023-01-22T15:07:44.400Z"
   },
   {
    "duration": 90,
    "start_time": "2023-01-22T15:07:44.412Z"
   },
   {
    "duration": 392,
    "start_time": "2023-01-22T15:07:44.504Z"
   },
   {
    "duration": 9,
    "start_time": "2023-01-22T15:07:44.898Z"
   },
   {
    "duration": 300,
    "start_time": "2023-01-22T15:07:44.909Z"
   },
   {
    "duration": 9,
    "start_time": "2023-01-22T15:07:45.211Z"
   },
   {
    "duration": 311,
    "start_time": "2023-01-22T15:07:45.222Z"
   },
   {
    "duration": 20,
    "start_time": "2023-01-22T15:07:45.538Z"
   },
   {
    "duration": 2223,
    "start_time": "2023-01-22T15:07:45.569Z"
   },
   {
    "duration": 56,
    "start_time": "2023-01-22T15:07:47.794Z"
   },
   {
    "duration": 623,
    "start_time": "2023-01-22T15:07:47.852Z"
   },
   {
    "duration": 9,
    "start_time": "2023-01-22T15:07:48.480Z"
   },
   {
    "duration": 603,
    "start_time": "2023-01-22T15:07:48.492Z"
   },
   {
    "duration": 58,
    "start_time": "2023-01-22T15:07:49.098Z"
   },
   {
    "duration": 51,
    "start_time": "2023-01-22T15:07:49.160Z"
   },
   {
    "duration": 426,
    "start_time": "2023-01-22T15:07:49.213Z"
   },
   {
    "duration": 13,
    "start_time": "2023-01-22T15:07:49.641Z"
   },
   {
    "duration": 33,
    "start_time": "2023-01-22T15:07:49.659Z"
   },
   {
    "duration": 301,
    "start_time": "2023-01-22T15:07:49.698Z"
   },
   {
    "duration": 11,
    "start_time": "2023-01-22T15:07:50.002Z"
   },
   {
    "duration": 36,
    "start_time": "2023-01-22T15:07:50.016Z"
   },
   {
    "duration": 343,
    "start_time": "2023-01-22T15:07:50.054Z"
   },
   {
    "duration": 8,
    "start_time": "2023-01-22T15:07:50.399Z"
   },
   {
    "duration": 313,
    "start_time": "2023-01-22T15:07:50.409Z"
   },
   {
    "duration": 8,
    "start_time": "2023-01-22T15:07:50.724Z"
   },
   {
    "duration": 269,
    "start_time": "2023-01-22T15:07:50.733Z"
   },
   {
    "duration": 7,
    "start_time": "2023-01-22T15:07:51.004Z"
   },
   {
    "duration": 225,
    "start_time": "2023-01-22T15:07:51.014Z"
   },
   {
    "duration": 7,
    "start_time": "2023-01-22T15:07:51.241Z"
   },
   {
    "duration": 347,
    "start_time": "2023-01-22T15:07:51.250Z"
   },
   {
    "duration": 6,
    "start_time": "2023-01-22T15:07:51.599Z"
   },
   {
    "duration": 224,
    "start_time": "2023-01-22T15:07:51.607Z"
   },
   {
    "duration": 5,
    "start_time": "2023-01-22T15:07:51.833Z"
   },
   {
    "duration": 22,
    "start_time": "2023-01-22T15:07:51.840Z"
   },
   {
    "duration": 41,
    "start_time": "2023-01-22T15:07:51.864Z"
   },
   {
    "duration": 42,
    "start_time": "2023-01-22T15:08:13.842Z"
   },
   {
    "duration": 131,
    "start_time": "2023-01-22T15:10:07.804Z"
   },
   {
    "duration": 38,
    "start_time": "2023-01-22T15:10:12.731Z"
   },
   {
    "duration": 39,
    "start_time": "2023-01-22T15:10:17.183Z"
   },
   {
    "duration": 45,
    "start_time": "2023-01-22T15:10:20.573Z"
   },
   {
    "duration": 41,
    "start_time": "2023-01-22T15:10:42.270Z"
   },
   {
    "duration": 10,
    "start_time": "2023-01-22T15:12:22.492Z"
   },
   {
    "duration": 206,
    "start_time": "2023-01-22T15:13:11.604Z"
   },
   {
    "duration": 42,
    "start_time": "2023-01-22T15:13:33.394Z"
   },
   {
    "duration": 36,
    "start_time": "2023-01-22T15:13:43.268Z"
   },
   {
    "duration": 30,
    "start_time": "2023-01-22T15:14:03.062Z"
   },
   {
    "duration": 4,
    "start_time": "2023-01-22T15:14:40.568Z"
   },
   {
    "duration": 3,
    "start_time": "2023-01-22T15:14:44.711Z"
   },
   {
    "duration": 4,
    "start_time": "2023-01-22T15:14:49.764Z"
   },
   {
    "duration": 21,
    "start_time": "2023-01-22T15:15:16.772Z"
   },
   {
    "duration": 46,
    "start_time": "2023-01-22T15:15:38.535Z"
   },
   {
    "duration": 12,
    "start_time": "2023-01-22T15:16:26.198Z"
   },
   {
    "duration": 9,
    "start_time": "2023-01-22T15:16:31.533Z"
   },
   {
    "duration": 33,
    "start_time": "2023-01-22T15:16:38.389Z"
   },
   {
    "duration": 243,
    "start_time": "2023-01-22T15:17:21.119Z"
   },
   {
    "duration": 18,
    "start_time": "2023-01-22T15:20:03.285Z"
   },
   {
    "duration": 17,
    "start_time": "2023-01-22T15:20:24.567Z"
   },
   {
    "duration": 14,
    "start_time": "2023-01-22T15:20:30.896Z"
   },
   {
    "duration": 14,
    "start_time": "2023-01-22T15:20:38.482Z"
   },
   {
    "duration": 16,
    "start_time": "2023-01-22T15:20:42.042Z"
   },
   {
    "duration": 43,
    "start_time": "2023-01-22T15:21:11.950Z"
   },
   {
    "duration": 31,
    "start_time": "2023-01-22T15:22:17.265Z"
   },
   {
    "duration": 14,
    "start_time": "2023-01-22T15:22:22.989Z"
   },
   {
    "duration": 4,
    "start_time": "2023-01-22T15:22:27.023Z"
   },
   {
    "duration": 3,
    "start_time": "2023-01-22T15:22:29.000Z"
   },
   {
    "duration": 4,
    "start_time": "2023-01-22T15:22:30.566Z"
   },
   {
    "duration": 26,
    "start_time": "2023-01-22T15:22:43.253Z"
   },
   {
    "duration": 13,
    "start_time": "2023-01-22T15:22:45.705Z"
   },
   {
    "duration": 44,
    "start_time": "2023-01-22T15:24:17.924Z"
   },
   {
    "duration": 12,
    "start_time": "2023-01-22T15:24:37.118Z"
   },
   {
    "duration": 7,
    "start_time": "2023-01-22T15:24:43.826Z"
   },
   {
    "duration": 18,
    "start_time": "2023-01-22T15:25:19.366Z"
   },
   {
    "duration": 6,
    "start_time": "2023-01-22T15:25:21.616Z"
   },
   {
    "duration": 10,
    "start_time": "2023-01-22T15:26:14.588Z"
   },
   {
    "duration": 9,
    "start_time": "2023-01-22T15:26:16.816Z"
   },
   {
    "duration": 11,
    "start_time": "2023-01-22T15:26:37.935Z"
   },
   {
    "duration": 7,
    "start_time": "2023-01-22T15:27:20.800Z"
   },
   {
    "duration": 8,
    "start_time": "2023-01-22T15:28:36.962Z"
   },
   {
    "duration": 21,
    "start_time": "2023-01-22T15:28:56.865Z"
   },
   {
    "duration": 6,
    "start_time": "2023-01-22T15:31:29.335Z"
   },
   {
    "duration": 182,
    "start_time": "2023-01-22T15:31:35.109Z"
   },
   {
    "duration": 1148,
    "start_time": "2023-01-22T16:55:49.520Z"
   },
   {
    "duration": 51,
    "start_time": "2023-01-22T16:55:50.670Z"
   },
   {
    "duration": 20,
    "start_time": "2023-01-22T16:55:50.723Z"
   },
   {
    "duration": 17,
    "start_time": "2023-01-22T16:55:50.745Z"
   },
   {
    "duration": 806,
    "start_time": "2023-01-22T16:55:50.764Z"
   },
   {
    "duration": 4,
    "start_time": "2023-01-22T16:55:51.571Z"
   },
   {
    "duration": 51,
    "start_time": "2023-01-22T16:55:51.576Z"
   },
   {
    "duration": 19,
    "start_time": "2023-01-22T16:55:51.629Z"
   },
   {
    "duration": 8,
    "start_time": "2023-01-22T16:55:51.649Z"
   },
   {
    "duration": 210,
    "start_time": "2023-01-22T16:55:51.659Z"
   },
   {
    "duration": 15,
    "start_time": "2023-01-22T16:55:51.871Z"
   },
   {
    "duration": 7,
    "start_time": "2023-01-22T16:55:51.888Z"
   },
   {
    "duration": 23,
    "start_time": "2023-01-22T16:55:51.896Z"
   },
   {
    "duration": 8,
    "start_time": "2023-01-22T16:55:51.921Z"
   },
   {
    "duration": 20,
    "start_time": "2023-01-22T16:55:51.930Z"
   },
   {
    "duration": 10,
    "start_time": "2023-01-22T16:55:51.952Z"
   },
   {
    "duration": 13,
    "start_time": "2023-01-22T16:55:51.964Z"
   },
   {
    "duration": 6,
    "start_time": "2023-01-22T16:55:51.979Z"
   },
   {
    "duration": 22,
    "start_time": "2023-01-22T16:55:51.987Z"
   },
   {
    "duration": 7,
    "start_time": "2023-01-22T16:55:52.012Z"
   },
   {
    "duration": 18,
    "start_time": "2023-01-22T16:55:52.021Z"
   },
   {
    "duration": 274,
    "start_time": "2023-01-22T16:55:52.049Z"
   },
   {
    "duration": 418,
    "start_time": "2023-01-22T16:55:52.324Z"
   },
   {
    "duration": 4,
    "start_time": "2023-01-22T16:55:52.748Z"
   },
   {
    "duration": 17,
    "start_time": "2023-01-22T16:55:52.754Z"
   },
   {
    "duration": 15,
    "start_time": "2023-01-22T16:55:52.773Z"
   },
   {
    "duration": 451,
    "start_time": "2023-01-22T16:55:52.790Z"
   },
   {
    "duration": 171,
    "start_time": "2023-01-22T16:55:53.246Z"
   },
   {
    "duration": 23,
    "start_time": "2023-01-22T16:55:53.419Z"
   },
   {
    "duration": 468,
    "start_time": "2023-01-22T16:55:53.448Z"
   },
   {
    "duration": 7,
    "start_time": "2023-01-22T16:55:53.918Z"
   },
   {
    "duration": 48,
    "start_time": "2023-01-22T16:55:53.927Z"
   },
   {
    "duration": 11,
    "start_time": "2023-01-22T16:55:53.977Z"
   },
   {
    "duration": 18,
    "start_time": "2023-01-22T16:55:53.990Z"
   },
   {
    "duration": 34,
    "start_time": "2023-01-22T16:55:54.009Z"
   },
   {
    "duration": 186,
    "start_time": "2023-01-22T16:55:54.045Z"
   },
   {
    "duration": 7,
    "start_time": "2023-01-22T16:55:54.234Z"
   },
   {
    "duration": 174,
    "start_time": "2023-01-22T16:55:54.242Z"
   },
   {
    "duration": 5,
    "start_time": "2023-01-22T16:55:54.418Z"
   },
   {
    "duration": 212,
    "start_time": "2023-01-22T16:55:54.425Z"
   },
   {
    "duration": 10,
    "start_time": "2023-01-22T16:55:54.641Z"
   },
   {
    "duration": 1107,
    "start_time": "2023-01-22T16:55:54.653Z"
   },
   {
    "duration": 18,
    "start_time": "2023-01-22T16:55:55.762Z"
   },
   {
    "duration": 404,
    "start_time": "2023-01-22T16:55:55.782Z"
   },
   {
    "duration": 9,
    "start_time": "2023-01-22T16:55:56.189Z"
   },
   {
    "duration": 436,
    "start_time": "2023-01-22T16:55:56.250Z"
   },
   {
    "duration": 63,
    "start_time": "2023-01-22T16:55:56.689Z"
   },
   {
    "duration": 13,
    "start_time": "2023-01-22T16:55:56.754Z"
   },
   {
    "duration": 388,
    "start_time": "2023-01-22T16:55:56.769Z"
   },
   {
    "duration": 9,
    "start_time": "2023-01-22T16:55:57.159Z"
   },
   {
    "duration": 6,
    "start_time": "2023-01-22T16:55:57.170Z"
   },
   {
    "duration": 386,
    "start_time": "2023-01-22T16:55:57.178Z"
   },
   {
    "duration": 10,
    "start_time": "2023-01-22T16:55:57.566Z"
   },
   {
    "duration": 18,
    "start_time": "2023-01-22T16:55:57.579Z"
   },
   {
    "duration": 242,
    "start_time": "2023-01-22T16:55:57.599Z"
   },
   {
    "duration": 13,
    "start_time": "2023-01-22T16:55:57.842Z"
   },
   {
    "duration": 193,
    "start_time": "2023-01-22T16:55:57.857Z"
   },
   {
    "duration": 5,
    "start_time": "2023-01-22T16:55:58.052Z"
   },
   {
    "duration": 193,
    "start_time": "2023-01-22T16:55:58.058Z"
   },
   {
    "duration": 5,
    "start_time": "2023-01-22T16:55:58.253Z"
   },
   {
    "duration": 189,
    "start_time": "2023-01-22T16:55:58.259Z"
   },
   {
    "duration": 5,
    "start_time": "2023-01-22T16:55:58.451Z"
   },
   {
    "duration": 208,
    "start_time": "2023-01-22T16:55:58.458Z"
   },
   {
    "duration": 6,
    "start_time": "2023-01-22T16:55:58.668Z"
   },
   {
    "duration": 276,
    "start_time": "2023-01-22T16:55:58.675Z"
   },
   {
    "duration": 3,
    "start_time": "2023-01-22T16:55:58.952Z"
   },
   {
    "duration": 18,
    "start_time": "2023-01-22T16:55:58.956Z"
   },
   {
    "duration": 11,
    "start_time": "2023-01-22T16:55:58.976Z"
   },
   {
    "duration": 14,
    "start_time": "2023-01-22T16:58:23.020Z"
   },
   {
    "duration": 1171,
    "start_time": "2023-01-22T16:59:39.943Z"
   },
   {
    "duration": 14,
    "start_time": "2023-01-22T17:00:06.147Z"
   },
   {
    "duration": 1140,
    "start_time": "2023-01-22T17:00:09.715Z"
   },
   {
    "duration": 7,
    "start_time": "2023-01-22T17:01:02.800Z"
   },
   {
    "duration": 123,
    "start_time": "2023-01-22T17:01:43.179Z"
   },
   {
    "duration": 1170,
    "start_time": "2023-01-22T17:01:46.304Z"
   },
   {
    "duration": 10,
    "start_time": "2023-01-22T17:01:56.715Z"
   },
   {
    "duration": 1046,
    "start_time": "2023-01-22T17:01:59.170Z"
   },
   {
    "duration": 10,
    "start_time": "2023-01-22T17:02:59.078Z"
   },
   {
    "duration": 1256,
    "start_time": "2023-01-22T17:03:03.537Z"
   },
   {
    "duration": 238,
    "start_time": "2023-01-22T17:12:00.012Z"
   },
   {
    "duration": 476,
    "start_time": "2023-01-22T17:12:30.519Z"
   },
   {
    "duration": 21,
    "start_time": "2023-01-22T17:12:52.155Z"
   },
   {
    "duration": 330,
    "start_time": "2023-01-22T17:13:11.532Z"
   },
   {
    "duration": 312,
    "start_time": "2023-01-22T17:13:14.668Z"
   },
   {
    "duration": 215,
    "start_time": "2023-01-22T17:13:59.396Z"
   },
   {
    "duration": 387,
    "start_time": "2023-01-22T17:14:07.230Z"
   },
   {
    "duration": 274,
    "start_time": "2023-01-22T17:14:21.010Z"
   },
   {
    "duration": 309,
    "start_time": "2023-01-22T17:14:26.943Z"
   },
   {
    "duration": 400,
    "start_time": "2023-01-22T17:14:53.460Z"
   },
   {
    "duration": 198,
    "start_time": "2023-01-22T17:15:07.697Z"
   },
   {
    "duration": 289,
    "start_time": "2023-01-22T17:17:23.587Z"
   },
   {
    "duration": 296,
    "start_time": "2023-01-22T17:17:41.176Z"
   },
   {
    "duration": 232,
    "start_time": "2023-01-22T17:18:06.047Z"
   },
   {
    "duration": 267,
    "start_time": "2023-01-22T17:18:32.311Z"
   },
   {
    "duration": 307,
    "start_time": "2023-01-22T17:19:17.301Z"
   },
   {
    "duration": 296,
    "start_time": "2023-01-22T17:22:55.564Z"
   },
   {
    "duration": 290,
    "start_time": "2023-01-22T17:25:07.555Z"
   },
   {
    "duration": 382,
    "start_time": "2023-01-22T17:25:49.543Z"
   },
   {
    "duration": 285,
    "start_time": "2023-01-22T17:25:59.154Z"
   },
   {
    "duration": 4,
    "start_time": "2023-01-22T17:46:09.314Z"
   },
   {
    "duration": 9,
    "start_time": "2023-01-22T17:47:57.428Z"
   },
   {
    "duration": 5,
    "start_time": "2023-01-22T17:58:12.595Z"
   },
   {
    "duration": 378,
    "start_time": "2023-01-22T17:58:50.597Z"
   },
   {
    "duration": 57,
    "start_time": "2023-01-22T18:00:35.136Z"
   },
   {
    "duration": 5,
    "start_time": "2023-01-22T18:01:02.939Z"
   },
   {
    "duration": 357,
    "start_time": "2023-01-22T18:01:05.434Z"
   },
   {
    "duration": 5,
    "start_time": "2023-01-22T18:01:21.177Z"
   },
   {
    "duration": 385,
    "start_time": "2023-01-22T18:01:23.432Z"
   },
   {
    "duration": 5,
    "start_time": "2023-01-22T18:02:05.688Z"
   },
   {
    "duration": 373,
    "start_time": "2023-01-22T18:02:08.553Z"
   },
   {
    "duration": 5,
    "start_time": "2023-01-22T18:02:29.165Z"
   },
   {
    "duration": 467,
    "start_time": "2023-01-22T18:02:33.148Z"
   },
   {
    "duration": 6,
    "start_time": "2023-01-22T18:03:10.224Z"
   },
   {
    "duration": 397,
    "start_time": "2023-01-22T18:03:39.607Z"
   },
   {
    "duration": 385,
    "start_time": "2023-01-22T18:03:48.372Z"
   },
   {
    "duration": 5,
    "start_time": "2023-01-22T18:05:10.672Z"
   },
   {
    "duration": 386,
    "start_time": "2023-01-22T18:05:12.681Z"
   },
   {
    "duration": 7,
    "start_time": "2023-01-22T18:06:58.966Z"
   },
   {
    "duration": 402,
    "start_time": "2023-01-22T18:07:01.265Z"
   },
   {
    "duration": 508,
    "start_time": "2023-01-22T18:07:36.566Z"
   },
   {
    "duration": 496,
    "start_time": "2023-01-22T18:08:19.262Z"
   },
   {
    "duration": 8,
    "start_time": "2023-01-22T18:10:05.125Z"
   },
   {
    "duration": 782,
    "start_time": "2023-01-22T18:10:20.359Z"
   },
   {
    "duration": 8,
    "start_time": "2023-01-22T18:10:42.602Z"
   },
   {
    "duration": 456,
    "start_time": "2023-01-22T18:10:45.070Z"
   },
   {
    "duration": 6,
    "start_time": "2023-01-22T18:11:01.999Z"
   },
   {
    "duration": 679,
    "start_time": "2023-01-22T18:11:03.178Z"
   },
   {
    "duration": 7,
    "start_time": "2023-01-22T18:11:14.277Z"
   },
   {
    "duration": 674,
    "start_time": "2023-01-22T18:11:15.546Z"
   },
   {
    "duration": 6,
    "start_time": "2023-01-22T18:11:20.221Z"
   },
   {
    "duration": 413,
    "start_time": "2023-01-22T18:11:22.485Z"
   },
   {
    "duration": 6,
    "start_time": "2023-01-22T18:12:03.626Z"
   },
   {
    "duration": 492,
    "start_time": "2023-01-22T18:12:05.073Z"
   },
   {
    "duration": 5,
    "start_time": "2023-01-22T18:12:08.000Z"
   },
   {
    "duration": 587,
    "start_time": "2023-01-22T18:12:09.120Z"
   },
   {
    "duration": 7,
    "start_time": "2023-01-22T18:26:23.421Z"
   },
   {
    "duration": 462,
    "start_time": "2023-01-22T18:26:24.428Z"
   },
   {
    "duration": 7,
    "start_time": "2023-01-22T18:26:26.864Z"
   },
   {
    "duration": 502,
    "start_time": "2023-01-22T18:26:28.509Z"
   },
   {
    "duration": 5,
    "start_time": "2023-01-22T18:27:37.086Z"
   },
   {
    "duration": 382,
    "start_time": "2023-01-22T18:27:37.514Z"
   },
   {
    "duration": 6,
    "start_time": "2023-01-22T18:27:40.740Z"
   },
   {
    "duration": 489,
    "start_time": "2023-01-22T18:27:41.352Z"
   },
   {
    "duration": 7,
    "start_time": "2023-01-22T18:28:16.972Z"
   },
   {
    "duration": 462,
    "start_time": "2023-01-22T18:28:17.466Z"
   },
   {
    "duration": 437,
    "start_time": "2023-01-22T18:28:32.987Z"
   },
   {
    "duration": 422,
    "start_time": "2023-01-22T18:28:36.375Z"
   },
   {
    "duration": 63,
    "start_time": "2023-01-22T18:38:06.546Z"
   },
   {
    "duration": 12,
    "start_time": "2023-01-22T19:01:45.349Z"
   },
   {
    "duration": 15,
    "start_time": "2023-01-22T19:02:15.375Z"
   },
   {
    "duration": 51,
    "start_time": "2023-01-22T19:33:17.544Z"
   },
   {
    "duration": 4,
    "start_time": "2023-01-22T19:39:36.188Z"
   },
   {
    "duration": 1086,
    "start_time": "2023-01-22T19:49:51.563Z"
   },
   {
    "duration": 54,
    "start_time": "2023-01-22T19:49:52.652Z"
   },
   {
    "duration": 19,
    "start_time": "2023-01-22T19:49:52.708Z"
   },
   {
    "duration": 28,
    "start_time": "2023-01-22T19:49:52.729Z"
   },
   {
    "duration": 740,
    "start_time": "2023-01-22T19:49:52.759Z"
   },
   {
    "duration": 4,
    "start_time": "2023-01-22T19:49:53.500Z"
   },
   {
    "duration": 23,
    "start_time": "2023-01-22T19:49:53.505Z"
   },
   {
    "duration": 16,
    "start_time": "2023-01-22T19:49:53.530Z"
   },
   {
    "duration": 5,
    "start_time": "2023-01-22T19:49:53.548Z"
   },
   {
    "duration": 196,
    "start_time": "2023-01-22T19:49:53.555Z"
   },
   {
    "duration": 19,
    "start_time": "2023-01-22T19:49:53.753Z"
   },
   {
    "duration": 7,
    "start_time": "2023-01-22T19:49:53.774Z"
   },
   {
    "duration": 6,
    "start_time": "2023-01-22T19:49:53.783Z"
   },
   {
    "duration": 26,
    "start_time": "2023-01-22T19:49:53.793Z"
   },
   {
    "duration": 5,
    "start_time": "2023-01-22T19:49:53.821Z"
   },
   {
    "duration": 24,
    "start_time": "2023-01-22T19:49:53.828Z"
   },
   {
    "duration": 14,
    "start_time": "2023-01-22T19:49:53.854Z"
   },
   {
    "duration": 7,
    "start_time": "2023-01-22T19:49:53.870Z"
   },
   {
    "duration": 6,
    "start_time": "2023-01-22T19:49:53.879Z"
   },
   {
    "duration": 7,
    "start_time": "2023-01-22T19:49:53.887Z"
   },
   {
    "duration": 16,
    "start_time": "2023-01-22T19:49:53.896Z"
   },
   {
    "duration": 288,
    "start_time": "2023-01-22T19:49:53.914Z"
   },
   {
    "duration": 405,
    "start_time": "2023-01-22T19:49:54.204Z"
   },
   {
    "duration": 3,
    "start_time": "2023-01-22T19:49:54.611Z"
   },
   {
    "duration": 14,
    "start_time": "2023-01-22T19:49:54.616Z"
   },
   {
    "duration": 18,
    "start_time": "2023-01-22T19:49:54.632Z"
   },
   {
    "duration": 413,
    "start_time": "2023-01-22T19:49:54.652Z"
   },
   {
    "duration": 146,
    "start_time": "2023-01-22T19:49:55.068Z"
   },
   {
    "duration": 10,
    "start_time": "2023-01-22T19:49:55.216Z"
   },
   {
    "duration": 387,
    "start_time": "2023-01-22T19:49:55.232Z"
   },
   {
    "duration": 6,
    "start_time": "2023-01-22T19:49:55.621Z"
   },
   {
    "duration": 42,
    "start_time": "2023-01-22T19:49:55.629Z"
   },
   {
    "duration": 10,
    "start_time": "2023-01-22T19:49:55.672Z"
   },
   {
    "duration": 17,
    "start_time": "2023-01-22T19:49:55.684Z"
   },
   {
    "duration": 7,
    "start_time": "2023-01-22T19:49:55.702Z"
   },
   {
    "duration": 181,
    "start_time": "2023-01-22T19:49:55.711Z"
   },
   {
    "duration": 7,
    "start_time": "2023-01-22T19:49:55.894Z"
   },
   {
    "duration": 169,
    "start_time": "2023-01-22T19:49:55.903Z"
   },
   {
    "duration": 4,
    "start_time": "2023-01-22T19:49:56.074Z"
   },
   {
    "duration": 190,
    "start_time": "2023-01-22T19:49:56.080Z"
   },
   {
    "duration": 11,
    "start_time": "2023-01-22T19:49:56.273Z"
   },
   {
    "duration": 1196,
    "start_time": "2023-01-22T19:49:56.285Z"
   },
   {
    "duration": 16,
    "start_time": "2023-01-22T19:49:57.482Z"
   },
   {
    "duration": 293,
    "start_time": "2023-01-22T19:49:57.499Z"
   },
   {
    "duration": 264,
    "start_time": "2023-01-22T19:49:57.794Z"
   },
   {
    "duration": 5,
    "start_time": "2023-01-22T19:49:58.060Z"
   },
   {
    "duration": 395,
    "start_time": "2023-01-22T19:49:58.067Z"
   },
   {
    "duration": 430,
    "start_time": "2023-01-22T19:49:58.464Z"
   },
   {
    "duration": 477,
    "start_time": "2023-01-22T19:49:58.896Z"
   },
   {
    "duration": 11,
    "start_time": "2023-01-22T19:49:59.375Z"
   },
   {
    "duration": 17,
    "start_time": "2023-01-22T19:49:59.388Z"
   },
   {
    "duration": 1040,
    "start_time": "2023-01-23T14:33:02.541Z"
   },
   {
    "duration": 46,
    "start_time": "2023-01-23T14:33:03.583Z"
   },
   {
    "duration": 19,
    "start_time": "2023-01-23T14:33:03.631Z"
   },
   {
    "duration": 13,
    "start_time": "2023-01-23T14:33:03.652Z"
   },
   {
    "duration": 840,
    "start_time": "2023-01-23T14:33:03.667Z"
   },
   {
    "duration": 3,
    "start_time": "2023-01-23T14:33:04.509Z"
   },
   {
    "duration": 27,
    "start_time": "2023-01-23T14:33:04.514Z"
   },
   {
    "duration": 16,
    "start_time": "2023-01-23T14:33:04.543Z"
   },
   {
    "duration": 6,
    "start_time": "2023-01-23T14:33:04.561Z"
   },
   {
    "duration": 213,
    "start_time": "2023-01-23T14:33:04.570Z"
   },
   {
    "duration": 25,
    "start_time": "2023-01-23T14:33:04.785Z"
   },
   {
    "duration": 7,
    "start_time": "2023-01-23T14:33:04.811Z"
   },
   {
    "duration": 26,
    "start_time": "2023-01-23T14:33:04.820Z"
   },
   {
    "duration": 8,
    "start_time": "2023-01-23T14:33:04.847Z"
   },
   {
    "duration": 7,
    "start_time": "2023-01-23T14:33:04.857Z"
   },
   {
    "duration": 6,
    "start_time": "2023-01-23T14:33:04.866Z"
   },
   {
    "duration": 12,
    "start_time": "2023-01-23T14:33:04.873Z"
   },
   {
    "duration": 14,
    "start_time": "2023-01-23T14:33:04.886Z"
   },
   {
    "duration": 8,
    "start_time": "2023-01-23T14:33:04.902Z"
   },
   {
    "duration": 7,
    "start_time": "2023-01-23T14:33:04.911Z"
   },
   {
    "duration": 16,
    "start_time": "2023-01-23T14:33:04.920Z"
   },
   {
    "duration": 265,
    "start_time": "2023-01-23T14:33:04.937Z"
   },
   {
    "duration": 449,
    "start_time": "2023-01-23T14:33:05.205Z"
   },
   {
    "duration": 3,
    "start_time": "2023-01-23T14:33:05.656Z"
   },
   {
    "duration": 69,
    "start_time": "2023-01-23T14:33:05.661Z"
   },
   {
    "duration": 45,
    "start_time": "2023-01-23T14:33:05.731Z"
   },
   {
    "duration": 439,
    "start_time": "2023-01-23T14:33:05.778Z"
   },
   {
    "duration": 180,
    "start_time": "2023-01-23T14:33:06.220Z"
   },
   {
    "duration": 9,
    "start_time": "2023-01-23T14:33:06.402Z"
   },
   {
    "duration": 414,
    "start_time": "2023-01-23T14:33:06.413Z"
   },
   {
    "duration": 8,
    "start_time": "2023-01-23T14:33:06.829Z"
   },
   {
    "duration": 60,
    "start_time": "2023-01-23T14:33:06.838Z"
   },
   {
    "duration": 10,
    "start_time": "2023-01-23T14:33:06.900Z"
   },
   {
    "duration": 75,
    "start_time": "2023-01-23T14:33:06.912Z"
   },
   {
    "duration": 36,
    "start_time": "2023-01-23T14:33:06.989Z"
   },
   {
    "duration": 254,
    "start_time": "2023-01-23T14:33:07.027Z"
   },
   {
    "duration": 17,
    "start_time": "2023-01-23T14:33:07.283Z"
   },
   {
    "duration": 176,
    "start_time": "2023-01-23T14:33:07.302Z"
   },
   {
    "duration": 5,
    "start_time": "2023-01-23T14:33:07.480Z"
   },
   {
    "duration": 204,
    "start_time": "2023-01-23T14:33:07.487Z"
   },
   {
    "duration": 13,
    "start_time": "2023-01-23T14:33:07.693Z"
   },
   {
    "duration": 1183,
    "start_time": "2023-01-23T14:33:07.708Z"
   },
   {
    "duration": 19,
    "start_time": "2023-01-23T14:33:08.892Z"
   },
   {
    "duration": 294,
    "start_time": "2023-01-23T14:33:08.913Z"
   },
   {
    "duration": 273,
    "start_time": "2023-01-23T14:33:09.208Z"
   },
   {
    "duration": 6,
    "start_time": "2023-01-23T14:33:09.484Z"
   },
   {
    "duration": 424,
    "start_time": "2023-01-23T14:33:09.492Z"
   },
   {
    "duration": 387,
    "start_time": "2023-01-23T14:33:09.918Z"
   },
   {
    "duration": 498,
    "start_time": "2023-01-23T14:33:10.307Z"
   },
   {
    "duration": 12,
    "start_time": "2023-01-23T14:33:10.807Z"
   },
   {
    "duration": 34,
    "start_time": "2023-01-23T14:33:10.820Z"
   },
   {
    "duration": 22,
    "start_time": "2023-01-23T15:09:34.649Z"
   },
   {
    "duration": 1096,
    "start_time": "2023-01-23T15:11:52.691Z"
   },
   {
    "duration": 46,
    "start_time": "2023-01-23T15:11:53.789Z"
   },
   {
    "duration": 18,
    "start_time": "2023-01-23T15:11:53.837Z"
   },
   {
    "duration": 14,
    "start_time": "2023-01-23T15:11:53.857Z"
   },
   {
    "duration": 823,
    "start_time": "2023-01-23T15:11:53.872Z"
   },
   {
    "duration": 3,
    "start_time": "2023-01-23T15:11:54.696Z"
   },
   {
    "duration": 33,
    "start_time": "2023-01-23T15:11:54.701Z"
   },
   {
    "duration": 24,
    "start_time": "2023-01-23T15:11:54.736Z"
   },
   {
    "duration": 15,
    "start_time": "2023-01-23T15:11:54.762Z"
   },
   {
    "duration": 181,
    "start_time": "2023-01-23T15:11:54.779Z"
   },
   {
    "duration": 14,
    "start_time": "2023-01-23T15:11:54.961Z"
   },
   {
    "duration": 13,
    "start_time": "2023-01-23T15:11:54.977Z"
   },
   {
    "duration": 7,
    "start_time": "2023-01-23T15:11:54.998Z"
   },
   {
    "duration": 38,
    "start_time": "2023-01-23T15:11:55.007Z"
   },
   {
    "duration": 20,
    "start_time": "2023-01-23T15:11:55.047Z"
   },
   {
    "duration": 16,
    "start_time": "2023-01-23T15:11:55.068Z"
   },
   {
    "duration": 36,
    "start_time": "2023-01-23T15:11:55.086Z"
   },
   {
    "duration": 36,
    "start_time": "2023-01-23T15:11:55.124Z"
   },
   {
    "duration": 40,
    "start_time": "2023-01-23T15:11:55.162Z"
   },
   {
    "duration": 35,
    "start_time": "2023-01-23T15:11:55.203Z"
   },
   {
    "duration": 43,
    "start_time": "2023-01-23T15:11:55.240Z"
   },
   {
    "duration": 269,
    "start_time": "2023-01-23T15:11:55.285Z"
   },
   {
    "duration": 404,
    "start_time": "2023-01-23T15:11:55.556Z"
   },
   {
    "duration": 4,
    "start_time": "2023-01-23T15:11:55.961Z"
   },
   {
    "duration": 23,
    "start_time": "2023-01-23T15:11:55.967Z"
   },
   {
    "duration": 22,
    "start_time": "2023-01-23T15:11:55.992Z"
   },
   {
    "duration": 436,
    "start_time": "2023-01-23T15:11:56.015Z"
   },
   {
    "duration": 163,
    "start_time": "2023-01-23T15:11:56.455Z"
   },
   {
    "duration": 9,
    "start_time": "2023-01-23T15:11:56.620Z"
   },
   {
    "duration": 395,
    "start_time": "2023-01-23T15:11:56.630Z"
   },
   {
    "duration": 6,
    "start_time": "2023-01-23T15:11:57.027Z"
   },
   {
    "duration": 42,
    "start_time": "2023-01-23T15:11:57.035Z"
   },
   {
    "duration": 23,
    "start_time": "2023-01-23T15:11:57.079Z"
   },
   {
    "duration": 20,
    "start_time": "2023-01-23T15:11:57.103Z"
   },
   {
    "duration": 14,
    "start_time": "2023-01-23T15:11:57.124Z"
   },
   {
    "duration": 211,
    "start_time": "2023-01-23T15:11:57.140Z"
   },
   {
    "duration": 6,
    "start_time": "2023-01-23T15:11:57.353Z"
   },
   {
    "duration": 170,
    "start_time": "2023-01-23T15:11:57.360Z"
   },
   {
    "duration": 5,
    "start_time": "2023-01-23T15:11:57.531Z"
   },
   {
    "duration": 176,
    "start_time": "2023-01-23T15:11:57.537Z"
   },
   {
    "duration": 9,
    "start_time": "2023-01-23T15:11:57.715Z"
   },
   {
    "duration": 1175,
    "start_time": "2023-01-23T15:11:57.726Z"
   },
   {
    "duration": 15,
    "start_time": "2023-01-23T15:11:58.902Z"
   },
   {
    "duration": 290,
    "start_time": "2023-01-23T15:11:58.919Z"
   },
   {
    "duration": 265,
    "start_time": "2023-01-23T15:11:59.210Z"
   },
   {
    "duration": 6,
    "start_time": "2023-01-23T15:11:59.477Z"
   },
   {
    "duration": 400,
    "start_time": "2023-01-23T15:11:59.484Z"
   },
   {
    "duration": 411,
    "start_time": "2023-01-23T15:11:59.886Z"
   },
   {
    "duration": 500,
    "start_time": "2023-01-23T15:12:00.299Z"
   },
   {
    "duration": 11,
    "start_time": "2023-01-23T15:12:00.801Z"
   },
   {
    "duration": 38,
    "start_time": "2023-01-23T15:12:00.814Z"
   },
   {
    "duration": 47,
    "start_time": "2023-01-24T17:44:35.654Z"
   },
   {
    "duration": 1384,
    "start_time": "2023-01-24T17:44:45.372Z"
   },
   {
    "duration": 199,
    "start_time": "2023-01-24T17:44:46.758Z"
   },
   {
    "duration": 20,
    "start_time": "2023-01-24T17:44:46.959Z"
   },
   {
    "duration": 17,
    "start_time": "2023-01-24T17:44:46.982Z"
   },
   {
    "duration": 845,
    "start_time": "2023-01-24T17:44:47.001Z"
   },
   {
    "duration": 3,
    "start_time": "2023-01-24T17:44:47.848Z"
   },
   {
    "duration": 21,
    "start_time": "2023-01-24T17:44:47.853Z"
   },
   {
    "duration": 11,
    "start_time": "2023-01-24T17:44:47.876Z"
   },
   {
    "duration": 7,
    "start_time": "2023-01-24T17:44:47.888Z"
   },
   {
    "duration": 200,
    "start_time": "2023-01-24T17:44:47.897Z"
   },
   {
    "duration": 15,
    "start_time": "2023-01-24T17:44:48.098Z"
   },
   {
    "duration": 7,
    "start_time": "2023-01-24T17:44:48.114Z"
   },
   {
    "duration": 23,
    "start_time": "2023-01-24T17:44:48.122Z"
   },
   {
    "duration": 11,
    "start_time": "2023-01-24T17:44:48.147Z"
   },
   {
    "duration": 13,
    "start_time": "2023-01-24T17:44:48.160Z"
   },
   {
    "duration": 7,
    "start_time": "2023-01-24T17:44:48.175Z"
   },
   {
    "duration": 13,
    "start_time": "2023-01-24T17:44:48.184Z"
   },
   {
    "duration": 7,
    "start_time": "2023-01-24T17:44:48.199Z"
   },
   {
    "duration": 11,
    "start_time": "2023-01-24T17:44:48.208Z"
   },
   {
    "duration": 25,
    "start_time": "2023-01-24T17:44:48.220Z"
   },
   {
    "duration": 20,
    "start_time": "2023-01-24T17:44:48.246Z"
   },
   {
    "duration": 298,
    "start_time": "2023-01-24T17:44:48.268Z"
   },
   {
    "duration": 406,
    "start_time": "2023-01-24T17:44:48.569Z"
   },
   {
    "duration": 4,
    "start_time": "2023-01-24T17:44:48.977Z"
   },
   {
    "duration": 21,
    "start_time": "2023-01-24T17:44:48.982Z"
   },
   {
    "duration": 17,
    "start_time": "2023-01-24T17:44:49.005Z"
   },
   {
    "duration": 493,
    "start_time": "2023-01-24T17:44:49.024Z"
   },
   {
    "duration": 161,
    "start_time": "2023-01-24T17:44:49.521Z"
   },
   {
    "duration": 8,
    "start_time": "2023-01-24T17:44:49.683Z"
   },
   {
    "duration": 377,
    "start_time": "2023-01-24T17:44:49.692Z"
   },
   {
    "duration": 6,
    "start_time": "2023-01-24T17:44:50.071Z"
   },
   {
    "duration": 37,
    "start_time": "2023-01-24T17:44:50.079Z"
   },
   {
    "duration": 9,
    "start_time": "2023-01-24T17:44:50.119Z"
   },
   {
    "duration": 6,
    "start_time": "2023-01-24T17:44:50.144Z"
   },
   {
    "duration": 7,
    "start_time": "2023-01-24T17:44:50.152Z"
   },
   {
    "duration": 180,
    "start_time": "2023-01-24T17:44:50.161Z"
   },
   {
    "duration": 6,
    "start_time": "2023-01-24T17:44:50.344Z"
   },
   {
    "duration": 190,
    "start_time": "2023-01-24T17:44:50.352Z"
   },
   {
    "duration": 7,
    "start_time": "2023-01-24T17:44:50.544Z"
   },
   {
    "duration": 201,
    "start_time": "2023-01-24T17:44:50.553Z"
   },
   {
    "duration": 11,
    "start_time": "2023-01-24T17:44:50.756Z"
   },
   {
    "duration": 1180,
    "start_time": "2023-01-24T17:44:50.769Z"
   },
   {
    "duration": 15,
    "start_time": "2023-01-24T17:44:51.950Z"
   },
   {
    "duration": 287,
    "start_time": "2023-01-24T17:44:51.967Z"
   },
   {
    "duration": 279,
    "start_time": "2023-01-24T17:44:52.256Z"
   },
   {
    "duration": 8,
    "start_time": "2023-01-24T17:44:52.536Z"
   },
   {
    "duration": 460,
    "start_time": "2023-01-24T17:44:52.546Z"
   },
   {
    "duration": 0,
    "start_time": "2023-01-24T17:44:53.008Z"
   },
   {
    "duration": 0,
    "start_time": "2023-01-24T17:44:53.009Z"
   },
   {
    "duration": 0,
    "start_time": "2023-01-24T17:44:53.010Z"
   },
   {
    "duration": 0,
    "start_time": "2023-01-24T17:44:53.012Z"
   },
   {
    "duration": 11,
    "start_time": "2023-01-24T17:45:37.471Z"
   },
   {
    "duration": 5,
    "start_time": "2023-01-24T17:45:52.942Z"
   },
   {
    "duration": 5,
    "start_time": "2023-01-24T17:47:10.381Z"
   },
   {
    "duration": 352,
    "start_time": "2023-01-24T17:47:19.966Z"
   },
   {
    "duration": 5,
    "start_time": "2023-01-24T17:47:30.440Z"
   },
   {
    "duration": 474,
    "start_time": "2023-01-24T17:47:34.784Z"
   },
   {
    "duration": 5,
    "start_time": "2023-01-24T17:48:52.737Z"
   },
   {
    "duration": 339,
    "start_time": "2023-01-24T17:48:53.915Z"
   },
   {
    "duration": 6,
    "start_time": "2023-01-24T17:49:17.529Z"
   },
   {
    "duration": 364,
    "start_time": "2023-01-24T17:49:18.474Z"
   },
   {
    "duration": 361,
    "start_time": "2023-01-24T17:49:22.066Z"
   },
   {
    "duration": 408,
    "start_time": "2023-01-24T17:49:24.564Z"
   },
   {
    "duration": 13,
    "start_time": "2023-01-24T17:50:59.911Z"
   },
   {
    "duration": 25,
    "start_time": "2023-01-24T17:51:06.596Z"
   },
   {
    "duration": 23,
    "start_time": "2023-01-24T17:51:21.630Z"
   },
   {
    "duration": 11,
    "start_time": "2023-01-24T17:57:27.569Z"
   },
   {
    "duration": 10,
    "start_time": "2023-01-24T18:01:59.266Z"
   },
   {
    "duration": 10,
    "start_time": "2023-01-24T18:02:04.720Z"
   },
   {
    "duration": 10,
    "start_time": "2023-01-24T18:02:19.978Z"
   },
   {
    "duration": 10,
    "start_time": "2023-01-24T18:03:03.486Z"
   },
   {
    "duration": 12,
    "start_time": "2023-01-24T18:04:50.680Z"
   },
   {
    "duration": 10,
    "start_time": "2023-01-24T18:05:02.281Z"
   },
   {
    "duration": 10,
    "start_time": "2023-01-24T18:11:33.665Z"
   },
   {
    "duration": 11,
    "start_time": "2023-01-24T18:15:52.148Z"
   },
   {
    "duration": 1059,
    "start_time": "2023-01-24T18:16:11.572Z"
   },
   {
    "duration": 51,
    "start_time": "2023-01-24T18:16:12.633Z"
   },
   {
    "duration": 18,
    "start_time": "2023-01-24T18:16:12.686Z"
   },
   {
    "duration": 16,
    "start_time": "2023-01-24T18:16:12.706Z"
   },
   {
    "duration": 677,
    "start_time": "2023-01-24T18:16:12.724Z"
   },
   {
    "duration": 3,
    "start_time": "2023-01-24T18:16:13.403Z"
   },
   {
    "duration": 15,
    "start_time": "2023-01-24T18:16:13.407Z"
   },
   {
    "duration": 21,
    "start_time": "2023-01-24T18:16:13.424Z"
   },
   {
    "duration": 3,
    "start_time": "2023-01-24T18:16:13.447Z"
   },
   {
    "duration": 196,
    "start_time": "2023-01-24T18:16:13.452Z"
   },
   {
    "duration": 16,
    "start_time": "2023-01-24T18:16:13.650Z"
   },
   {
    "duration": 7,
    "start_time": "2023-01-24T18:16:13.668Z"
   },
   {
    "duration": 9,
    "start_time": "2023-01-24T18:16:13.676Z"
   },
   {
    "duration": 8,
    "start_time": "2023-01-24T18:16:13.686Z"
   },
   {
    "duration": 5,
    "start_time": "2023-01-24T18:16:13.695Z"
   },
   {
    "duration": 13,
    "start_time": "2023-01-24T18:16:13.702Z"
   },
   {
    "duration": 29,
    "start_time": "2023-01-24T18:16:13.716Z"
   },
   {
    "duration": 4,
    "start_time": "2023-01-24T18:16:13.746Z"
   },
   {
    "duration": 8,
    "start_time": "2023-01-24T18:16:13.751Z"
   },
   {
    "duration": 6,
    "start_time": "2023-01-24T18:16:13.760Z"
   },
   {
    "duration": 14,
    "start_time": "2023-01-24T18:16:13.767Z"
   },
   {
    "duration": 270,
    "start_time": "2023-01-24T18:16:13.783Z"
   },
   {
    "duration": 368,
    "start_time": "2023-01-24T18:16:14.054Z"
   },
   {
    "duration": 3,
    "start_time": "2023-01-24T18:16:14.424Z"
   },
   {
    "duration": 22,
    "start_time": "2023-01-24T18:16:14.428Z"
   },
   {
    "duration": 18,
    "start_time": "2023-01-24T18:16:14.452Z"
   },
   {
    "duration": 383,
    "start_time": "2023-01-24T18:16:14.472Z"
   },
   {
    "duration": 173,
    "start_time": "2023-01-24T18:16:14.887Z"
   },
   {
    "duration": 9,
    "start_time": "2023-01-24T18:16:15.062Z"
   },
   {
    "duration": 406,
    "start_time": "2023-01-24T18:16:15.073Z"
   },
   {
    "duration": 8,
    "start_time": "2023-01-24T18:16:15.481Z"
   },
   {
    "duration": 62,
    "start_time": "2023-01-24T18:16:15.491Z"
   },
   {
    "duration": 10,
    "start_time": "2023-01-24T18:16:15.555Z"
   },
   {
    "duration": 10,
    "start_time": "2023-01-24T18:16:15.567Z"
   },
   {
    "duration": 23,
    "start_time": "2023-01-24T18:16:15.579Z"
   },
   {
    "duration": 162,
    "start_time": "2023-01-24T18:16:15.603Z"
   },
   {
    "duration": 5,
    "start_time": "2023-01-24T18:16:15.766Z"
   },
   {
    "duration": 150,
    "start_time": "2023-01-24T18:16:15.773Z"
   },
   {
    "duration": 4,
    "start_time": "2023-01-24T18:16:15.925Z"
   },
   {
    "duration": 168,
    "start_time": "2023-01-24T18:16:15.931Z"
   },
   {
    "duration": 9,
    "start_time": "2023-01-24T18:16:16.101Z"
   },
   {
    "duration": 1062,
    "start_time": "2023-01-24T18:16:16.112Z"
   },
   {
    "duration": 15,
    "start_time": "2023-01-24T18:16:17.175Z"
   },
   {
    "duration": 294,
    "start_time": "2023-01-24T18:16:17.191Z"
   },
   {
    "duration": 266,
    "start_time": "2023-01-24T18:16:17.486Z"
   },
   {
    "duration": 5,
    "start_time": "2023-01-24T18:16:17.754Z"
   },
   {
    "duration": 367,
    "start_time": "2023-01-24T18:16:17.760Z"
   },
   {
    "duration": 363,
    "start_time": "2023-01-24T18:16:18.129Z"
   },
   {
    "duration": 480,
    "start_time": "2023-01-24T18:16:18.493Z"
   },
   {
    "duration": 12,
    "start_time": "2023-01-24T18:16:18.974Z"
   },
   {
    "duration": 10,
    "start_time": "2023-01-24T18:16:18.988Z"
   },
   {
    "duration": 9,
    "start_time": "2023-01-24T18:17:11.335Z"
   },
   {
    "duration": 10,
    "start_time": "2023-01-24T18:17:25.520Z"
   },
   {
    "duration": 4,
    "start_time": "2023-01-24T18:37:53.650Z"
   },
   {
    "duration": 383,
    "start_time": "2023-01-24T18:37:56.406Z"
   },
   {
    "duration": 5,
    "start_time": "2023-01-24T18:38:29.437Z"
   },
   {
    "duration": 438,
    "start_time": "2023-01-24T18:38:31.811Z"
   },
   {
    "duration": 5,
    "start_time": "2023-01-24T18:38:42.819Z"
   },
   {
    "duration": 4,
    "start_time": "2023-01-24T18:38:57.522Z"
   },
   {
    "duration": 304,
    "start_time": "2023-01-24T18:38:59.345Z"
   },
   {
    "duration": 4,
    "start_time": "2023-01-24T18:39:15.388Z"
   },
   {
    "duration": 866,
    "start_time": "2023-01-24T18:39:16.840Z"
   },
   {
    "duration": 5,
    "start_time": "2023-01-24T18:39:42.431Z"
   },
   {
    "duration": 497,
    "start_time": "2023-01-24T18:39:44.611Z"
   },
   {
    "duration": 5,
    "start_time": "2023-01-24T18:40:21.065Z"
   },
   {
    "duration": 311,
    "start_time": "2023-01-24T18:40:22.236Z"
   },
   {
    "duration": 5,
    "start_time": "2023-01-24T18:40:39.208Z"
   },
   {
    "duration": 5,
    "start_time": "2023-01-24T18:40:48.209Z"
   },
   {
    "duration": 330,
    "start_time": "2023-01-24T18:40:49.697Z"
   },
   {
    "duration": 5,
    "start_time": "2023-01-24T18:41:01.160Z"
   },
   {
    "duration": 346,
    "start_time": "2023-01-24T18:41:03.715Z"
   },
   {
    "duration": 5,
    "start_time": "2023-01-24T18:44:34.045Z"
   },
   {
    "duration": 286,
    "start_time": "2023-01-24T18:44:35.059Z"
   },
   {
    "duration": 5,
    "start_time": "2023-01-24T18:44:48.500Z"
   },
   {
    "duration": 331,
    "start_time": "2023-01-24T18:44:49.628Z"
   },
   {
    "duration": 5,
    "start_time": "2023-01-24T18:47:29.339Z"
   },
   {
    "duration": 447,
    "start_time": "2023-01-24T18:47:30.273Z"
   },
   {
    "duration": 323,
    "start_time": "2023-01-24T18:47:42.451Z"
   },
   {
    "duration": 365,
    "start_time": "2023-01-24T18:48:00.301Z"
   },
   {
    "duration": 6,
    "start_time": "2023-01-24T18:49:22.759Z"
   },
   {
    "duration": 666,
    "start_time": "2023-01-24T18:49:23.761Z"
   },
   {
    "duration": 5,
    "start_time": "2023-01-24T18:49:31.623Z"
   },
   {
    "duration": 371,
    "start_time": "2023-01-24T18:49:32.689Z"
   },
   {
    "duration": 1207,
    "start_time": "2023-01-24T18:51:52.321Z"
   },
   {
    "duration": 51,
    "start_time": "2023-01-24T18:51:53.530Z"
   },
   {
    "duration": 20,
    "start_time": "2023-01-24T18:51:53.583Z"
   },
   {
    "duration": 15,
    "start_time": "2023-01-24T18:51:53.605Z"
   },
   {
    "duration": 686,
    "start_time": "2023-01-24T18:51:53.622Z"
   },
   {
    "duration": 3,
    "start_time": "2023-01-24T18:51:54.310Z"
   },
   {
    "duration": 16,
    "start_time": "2023-01-24T18:51:54.314Z"
   },
   {
    "duration": 8,
    "start_time": "2023-01-24T18:51:54.344Z"
   },
   {
    "duration": 4,
    "start_time": "2023-01-24T18:51:54.353Z"
   },
   {
    "duration": 182,
    "start_time": "2023-01-24T18:51:54.359Z"
   },
   {
    "duration": 14,
    "start_time": "2023-01-24T18:51:54.544Z"
   },
   {
    "duration": 7,
    "start_time": "2023-01-24T18:51:54.560Z"
   },
   {
    "duration": 7,
    "start_time": "2023-01-24T18:51:54.568Z"
   },
   {
    "duration": 8,
    "start_time": "2023-01-24T18:51:54.576Z"
   },
   {
    "duration": 8,
    "start_time": "2023-01-24T18:51:54.586Z"
   },
   {
    "duration": 8,
    "start_time": "2023-01-24T18:51:54.596Z"
   },
   {
    "duration": 18,
    "start_time": "2023-01-24T18:51:54.606Z"
   },
   {
    "duration": 19,
    "start_time": "2023-01-24T18:51:54.625Z"
   },
   {
    "duration": 4,
    "start_time": "2023-01-24T18:51:54.645Z"
   },
   {
    "duration": 7,
    "start_time": "2023-01-24T18:51:54.651Z"
   },
   {
    "duration": 26,
    "start_time": "2023-01-24T18:51:54.660Z"
   },
   {
    "duration": 291,
    "start_time": "2023-01-24T18:51:54.688Z"
   },
   {
    "duration": 383,
    "start_time": "2023-01-24T18:51:54.980Z"
   },
   {
    "duration": 3,
    "start_time": "2023-01-24T18:51:55.364Z"
   },
   {
    "duration": 15,
    "start_time": "2023-01-24T18:51:55.368Z"
   },
   {
    "duration": 6,
    "start_time": "2023-01-24T18:51:55.385Z"
   },
   {
    "duration": 400,
    "start_time": "2023-01-24T18:51:55.393Z"
   },
   {
    "duration": 142,
    "start_time": "2023-01-24T18:51:55.796Z"
   },
   {
    "duration": 12,
    "start_time": "2023-01-24T18:51:55.939Z"
   },
   {
    "duration": 362,
    "start_time": "2023-01-24T18:51:55.953Z"
   },
   {
    "duration": 8,
    "start_time": "2023-01-24T18:51:56.317Z"
   },
   {
    "duration": 40,
    "start_time": "2023-01-24T18:51:56.327Z"
   },
   {
    "duration": 8,
    "start_time": "2023-01-24T18:51:56.369Z"
   },
   {
    "duration": 9,
    "start_time": "2023-01-24T18:51:56.379Z"
   },
   {
    "duration": 6,
    "start_time": "2023-01-24T18:51:56.390Z"
   },
   {
    "duration": 185,
    "start_time": "2023-01-24T18:51:56.398Z"
   },
   {
    "duration": 6,
    "start_time": "2023-01-24T18:51:56.585Z"
   },
   {
    "duration": 154,
    "start_time": "2023-01-24T18:51:56.592Z"
   },
   {
    "duration": 4,
    "start_time": "2023-01-24T18:51:56.748Z"
   },
   {
    "duration": 158,
    "start_time": "2023-01-24T18:51:56.754Z"
   },
   {
    "duration": 9,
    "start_time": "2023-01-24T18:51:56.914Z"
   },
   {
    "duration": 1124,
    "start_time": "2023-01-24T18:51:56.925Z"
   },
   {
    "duration": 15,
    "start_time": "2023-01-24T18:51:58.050Z"
   },
   {
    "duration": 264,
    "start_time": "2023-01-24T18:51:58.066Z"
   },
   {
    "duration": 246,
    "start_time": "2023-01-24T18:51:58.331Z"
   },
   {
    "duration": 5,
    "start_time": "2023-01-24T18:51:58.578Z"
   },
   {
    "duration": 368,
    "start_time": "2023-01-24T18:51:58.585Z"
   },
   {
    "duration": 364,
    "start_time": "2023-01-24T18:51:58.955Z"
   },
   {
    "duration": 441,
    "start_time": "2023-01-24T18:51:59.321Z"
   },
   {
    "duration": 11,
    "start_time": "2023-01-24T18:51:59.764Z"
   },
   {
    "duration": 10,
    "start_time": "2023-01-24T18:51:59.777Z"
   },
   {
    "duration": 1127,
    "start_time": "2023-01-24T18:58:05.819Z"
   },
   {
    "duration": 53,
    "start_time": "2023-01-24T18:58:06.948Z"
   },
   {
    "duration": 20,
    "start_time": "2023-01-24T18:58:07.003Z"
   },
   {
    "duration": 14,
    "start_time": "2023-01-24T18:58:07.025Z"
   },
   {
    "duration": 745,
    "start_time": "2023-01-24T18:58:07.041Z"
   },
   {
    "duration": 3,
    "start_time": "2023-01-24T18:58:07.788Z"
   },
   {
    "duration": 28,
    "start_time": "2023-01-24T18:58:07.793Z"
   },
   {
    "duration": 11,
    "start_time": "2023-01-24T18:58:07.822Z"
   },
   {
    "duration": 4,
    "start_time": "2023-01-24T18:58:07.834Z"
   },
   {
    "duration": 174,
    "start_time": "2023-01-24T18:58:07.840Z"
   },
   {
    "duration": 14,
    "start_time": "2023-01-24T18:58:08.016Z"
   },
   {
    "duration": 15,
    "start_time": "2023-01-24T18:58:08.031Z"
   },
   {
    "duration": 12,
    "start_time": "2023-01-24T18:58:08.048Z"
   },
   {
    "duration": 6,
    "start_time": "2023-01-24T18:58:08.061Z"
   },
   {
    "duration": 4,
    "start_time": "2023-01-24T18:58:08.069Z"
   },
   {
    "duration": 10,
    "start_time": "2023-01-24T18:58:08.074Z"
   },
   {
    "duration": 10,
    "start_time": "2023-01-24T18:58:08.085Z"
   },
   {
    "duration": 3,
    "start_time": "2023-01-24T18:58:08.097Z"
   },
   {
    "duration": 6,
    "start_time": "2023-01-24T18:58:08.101Z"
   },
   {
    "duration": 7,
    "start_time": "2023-01-24T18:58:08.108Z"
   },
   {
    "duration": 27,
    "start_time": "2023-01-24T18:58:08.116Z"
   },
   {
    "duration": 238,
    "start_time": "2023-01-24T18:58:08.145Z"
   },
   {
    "duration": 365,
    "start_time": "2023-01-24T18:58:08.385Z"
   },
   {
    "duration": 3,
    "start_time": "2023-01-24T18:58:08.751Z"
   },
   {
    "duration": 14,
    "start_time": "2023-01-24T18:58:08.755Z"
   },
   {
    "duration": 8,
    "start_time": "2023-01-24T18:58:08.771Z"
   },
   {
    "duration": 421,
    "start_time": "2023-01-24T18:58:08.780Z"
   },
   {
    "duration": 130,
    "start_time": "2023-01-24T18:58:09.204Z"
   },
   {
    "duration": 12,
    "start_time": "2023-01-24T18:58:09.336Z"
   },
   {
    "duration": 359,
    "start_time": "2023-01-24T18:58:09.350Z"
   },
   {
    "duration": 8,
    "start_time": "2023-01-24T18:58:09.711Z"
   },
   {
    "duration": 41,
    "start_time": "2023-01-24T18:58:09.720Z"
   },
   {
    "duration": 10,
    "start_time": "2023-01-24T18:58:09.762Z"
   },
   {
    "duration": 19,
    "start_time": "2023-01-24T18:58:09.773Z"
   },
   {
    "duration": 7,
    "start_time": "2023-01-24T18:58:09.793Z"
   },
   {
    "duration": 174,
    "start_time": "2023-01-24T18:58:09.801Z"
   },
   {
    "duration": 6,
    "start_time": "2023-01-24T18:58:09.977Z"
   },
   {
    "duration": 161,
    "start_time": "2023-01-24T18:58:09.985Z"
   },
   {
    "duration": 4,
    "start_time": "2023-01-24T18:58:10.147Z"
   },
   {
    "duration": 169,
    "start_time": "2023-01-24T18:58:10.153Z"
   },
   {
    "duration": 9,
    "start_time": "2023-01-24T18:58:10.324Z"
   },
   {
    "duration": 1110,
    "start_time": "2023-01-24T18:58:10.343Z"
   },
   {
    "duration": 15,
    "start_time": "2023-01-24T18:58:11.455Z"
   },
   {
    "duration": 316,
    "start_time": "2023-01-24T18:58:11.471Z"
   },
   {
    "duration": 256,
    "start_time": "2023-01-24T18:58:11.789Z"
   },
   {
    "duration": 5,
    "start_time": "2023-01-24T18:58:12.047Z"
   },
   {
    "duration": 393,
    "start_time": "2023-01-24T18:58:12.054Z"
   },
   {
    "duration": 364,
    "start_time": "2023-01-24T18:58:12.448Z"
   },
   {
    "duration": 423,
    "start_time": "2023-01-24T18:58:12.814Z"
   },
   {
    "duration": 11,
    "start_time": "2023-01-24T18:58:13.238Z"
   },
   {
    "duration": 14,
    "start_time": "2023-01-24T18:58:13.251Z"
   },
   {
    "duration": 5,
    "start_time": "2023-01-24T19:53:24.187Z"
   },
   {
    "duration": 1232,
    "start_time": "2023-01-24T19:53:26.411Z"
   },
   {
    "duration": 1280,
    "start_time": "2023-01-24T19:53:38.044Z"
   },
   {
    "duration": 5,
    "start_time": "2023-01-24T19:54:38.660Z"
   },
   {
    "duration": 334,
    "start_time": "2023-01-24T19:54:40.956Z"
   },
   {
    "duration": 91,
    "start_time": "2023-01-24T19:56:56.065Z"
   },
   {
    "duration": 372,
    "start_time": "2023-01-24T19:57:17.142Z"
   },
   {
    "duration": 3,
    "start_time": "2023-01-24T19:57:24.172Z"
   },
   {
    "duration": 344,
    "start_time": "2023-01-24T19:57:35.042Z"
   },
   {
    "duration": 437,
    "start_time": "2023-01-24T19:57:47.687Z"
   },
   {
    "duration": 5,
    "start_time": "2023-01-24T19:59:18.797Z"
   },
   {
    "duration": 303,
    "start_time": "2023-01-24T19:59:22.970Z"
   },
   {
    "duration": 850,
    "start_time": "2023-01-24T19:59:31.094Z"
   },
   {
    "duration": 6,
    "start_time": "2023-01-24T20:00:15.698Z"
   },
   {
    "duration": 344,
    "start_time": "2023-01-24T20:00:16.990Z"
   },
   {
    "duration": 411,
    "start_time": "2023-01-24T20:00:33.737Z"
   },
   {
    "duration": 5,
    "start_time": "2023-01-24T20:00:41.541Z"
   },
   {
    "duration": 472,
    "start_time": "2023-01-24T20:00:43.861Z"
   },
   {
    "duration": 5,
    "start_time": "2023-01-24T20:17:05.106Z"
   },
   {
    "duration": 2330,
    "start_time": "2023-01-24T20:17:06.060Z"
   },
   {
    "duration": 5,
    "start_time": "2023-01-24T20:19:42.884Z"
   },
   {
    "duration": 306,
    "start_time": "2023-01-24T20:19:44.162Z"
   },
   {
    "duration": 5,
    "start_time": "2023-01-24T20:20:09.429Z"
   },
   {
    "duration": 343,
    "start_time": "2023-01-24T20:20:10.796Z"
   },
   {
    "duration": 6,
    "start_time": "2023-01-24T20:32:36.089Z"
   },
   {
    "duration": 305,
    "start_time": "2023-01-24T20:32:37.306Z"
   },
   {
    "duration": 298,
    "start_time": "2023-01-24T20:32:42.680Z"
   },
   {
    "duration": 319,
    "start_time": "2023-01-24T20:32:46.233Z"
   },
   {
    "duration": 5,
    "start_time": "2023-01-24T20:33:03.060Z"
   },
   {
    "duration": 445,
    "start_time": "2023-01-24T20:33:04.169Z"
   },
   {
    "duration": 322,
    "start_time": "2023-01-24T20:33:22.535Z"
   },
   {
    "duration": 5,
    "start_time": "2023-01-24T20:33:24.281Z"
   },
   {
    "duration": 335,
    "start_time": "2023-01-24T20:33:25.087Z"
   },
   {
    "duration": 94,
    "start_time": "2023-01-25T17:27:41.679Z"
   },
   {
    "duration": 1407,
    "start_time": "2023-01-25T17:27:50.228Z"
   },
   {
    "duration": 202,
    "start_time": "2023-01-25T17:27:51.638Z"
   },
   {
    "duration": 19,
    "start_time": "2023-01-25T17:27:51.842Z"
   },
   {
    "duration": 14,
    "start_time": "2023-01-25T17:27:51.864Z"
   },
   {
    "duration": 839,
    "start_time": "2023-01-25T17:27:51.880Z"
   },
   {
    "duration": 5,
    "start_time": "2023-01-25T17:27:52.722Z"
   },
   {
    "duration": 20,
    "start_time": "2023-01-25T17:27:52.729Z"
   },
   {
    "duration": 10,
    "start_time": "2023-01-25T17:27:52.751Z"
   },
   {
    "duration": 7,
    "start_time": "2023-01-25T17:27:52.762Z"
   },
   {
    "duration": 205,
    "start_time": "2023-01-25T17:27:52.791Z"
   },
   {
    "duration": 19,
    "start_time": "2023-01-25T17:27:52.998Z"
   },
   {
    "duration": 16,
    "start_time": "2023-01-25T17:27:53.019Z"
   },
   {
    "duration": 19,
    "start_time": "2023-01-25T17:27:53.037Z"
   },
   {
    "duration": 15,
    "start_time": "2023-01-25T17:27:53.058Z"
   },
   {
    "duration": 10,
    "start_time": "2023-01-25T17:27:53.074Z"
   },
   {
    "duration": 14,
    "start_time": "2023-01-25T17:27:53.086Z"
   },
   {
    "duration": 26,
    "start_time": "2023-01-25T17:27:53.102Z"
   },
   {
    "duration": 5,
    "start_time": "2023-01-25T17:27:53.130Z"
   },
   {
    "duration": 15,
    "start_time": "2023-01-25T17:27:53.137Z"
   },
   {
    "duration": 9,
    "start_time": "2023-01-25T17:27:53.154Z"
   },
   {
    "duration": 19,
    "start_time": "2023-01-25T17:27:53.164Z"
   },
   {
    "duration": 310,
    "start_time": "2023-01-25T17:27:53.185Z"
   },
   {
    "duration": 469,
    "start_time": "2023-01-25T17:27:53.498Z"
   },
   {
    "duration": 4,
    "start_time": "2023-01-25T17:27:53.968Z"
   },
   {
    "duration": 28,
    "start_time": "2023-01-25T17:27:53.973Z"
   },
   {
    "duration": 16,
    "start_time": "2023-01-25T17:27:54.004Z"
   },
   {
    "duration": 510,
    "start_time": "2023-01-25T17:27:54.023Z"
   },
   {
    "duration": 174,
    "start_time": "2023-01-25T17:27:54.538Z"
   },
   {
    "duration": 8,
    "start_time": "2023-01-25T17:27:54.715Z"
   },
   {
    "duration": 421,
    "start_time": "2023-01-25T17:27:54.725Z"
   },
   {
    "duration": 8,
    "start_time": "2023-01-25T17:27:55.148Z"
   },
   {
    "duration": 54,
    "start_time": "2023-01-25T17:27:55.157Z"
   },
   {
    "duration": 13,
    "start_time": "2023-01-25T17:27:55.214Z"
   },
   {
    "duration": 20,
    "start_time": "2023-01-25T17:27:55.228Z"
   },
   {
    "duration": 10,
    "start_time": "2023-01-25T17:27:55.252Z"
   },
   {
    "duration": 202,
    "start_time": "2023-01-25T17:27:55.263Z"
   },
   {
    "duration": 7,
    "start_time": "2023-01-25T17:27:55.467Z"
   },
   {
    "duration": 191,
    "start_time": "2023-01-25T17:27:55.476Z"
   },
   {
    "duration": 5,
    "start_time": "2023-01-25T17:27:55.669Z"
   },
   {
    "duration": 186,
    "start_time": "2023-01-25T17:27:55.675Z"
   },
   {
    "duration": 9,
    "start_time": "2023-01-25T17:27:55.863Z"
   },
   {
    "duration": 1563,
    "start_time": "2023-01-25T17:27:55.873Z"
   },
   {
    "duration": 18,
    "start_time": "2023-01-25T17:27:57.438Z"
   },
   {
    "duration": 755,
    "start_time": "2023-01-25T17:27:57.458Z"
   },
   {
    "duration": 723,
    "start_time": "2023-01-25T17:27:58.215Z"
   },
   {
    "duration": 6,
    "start_time": "2023-01-25T17:27:58.940Z"
   },
   {
    "duration": 914,
    "start_time": "2023-01-25T17:27:58.948Z"
   },
   {
    "duration": 71,
    "start_time": "2023-01-25T17:27:59.863Z"
   },
   {
    "duration": 0,
    "start_time": "2023-01-25T17:27:59.936Z"
   },
   {
    "duration": 0,
    "start_time": "2023-01-25T17:27:59.937Z"
   },
   {
    "duration": 0,
    "start_time": "2023-01-25T17:27:59.938Z"
   },
   {
    "duration": 0,
    "start_time": "2023-01-25T17:27:59.939Z"
   },
   {
    "duration": 0,
    "start_time": "2023-01-25T17:27:59.940Z"
   },
   {
    "duration": 134,
    "start_time": "2023-01-25T17:28:16.009Z"
   },
   {
    "duration": 8,
    "start_time": "2023-01-25T17:29:38.198Z"
   },
   {
    "duration": 87,
    "start_time": "2023-01-25T17:29:48.071Z"
   },
   {
    "duration": 114,
    "start_time": "2023-01-25T17:30:42.096Z"
   },
   {
    "duration": 112,
    "start_time": "2023-01-25T17:31:00.922Z"
   },
   {
    "duration": 416,
    "start_time": "2023-01-25T17:31:25.233Z"
   },
   {
    "duration": 217,
    "start_time": "2023-01-25T17:32:14.527Z"
   },
   {
    "duration": 323,
    "start_time": "2023-01-25T17:32:17.875Z"
   },
   {
    "duration": 398,
    "start_time": "2023-01-25T17:33:25.406Z"
   },
   {
    "duration": 337,
    "start_time": "2023-01-25T17:36:25.599Z"
   },
   {
    "duration": 409,
    "start_time": "2023-01-25T17:36:32.151Z"
   },
   {
    "duration": 312,
    "start_time": "2023-01-25T17:36:39.514Z"
   },
   {
    "duration": 312,
    "start_time": "2023-01-25T17:36:58.356Z"
   },
   {
    "duration": 337,
    "start_time": "2023-01-25T17:37:07.677Z"
   },
   {
    "duration": 825,
    "start_time": "2023-01-25T17:39:42.957Z"
   },
   {
    "duration": 587,
    "start_time": "2023-01-25T17:40:03.779Z"
   },
   {
    "duration": 8,
    "start_time": "2023-01-25T17:43:00.026Z"
   },
   {
    "duration": 492,
    "start_time": "2023-01-25T17:43:01.242Z"
   },
   {
    "duration": 5,
    "start_time": "2023-01-25T17:43:13.918Z"
   },
   {
    "duration": 541,
    "start_time": "2023-01-25T17:43:14.674Z"
   },
   {
    "duration": 6,
    "start_time": "2023-01-25T17:44:26.870Z"
   },
   {
    "duration": 437,
    "start_time": "2023-01-25T17:44:28.435Z"
   },
   {
    "duration": 5,
    "start_time": "2023-01-25T17:45:17.286Z"
   },
   {
    "duration": 433,
    "start_time": "2023-01-25T17:45:19.722Z"
   },
   {
    "duration": 7,
    "start_time": "2023-01-25T17:45:28.111Z"
   },
   {
    "duration": 467,
    "start_time": "2023-01-25T17:45:29.334Z"
   },
   {
    "duration": 1383,
    "start_time": "2023-01-25T17:51:25.737Z"
   },
   {
    "duration": 692,
    "start_time": "2023-01-25T17:52:02.787Z"
   },
   {
    "duration": 524,
    "start_time": "2023-01-25T17:52:13.202Z"
   },
   {
    "duration": 572,
    "start_time": "2023-01-25T17:52:40.915Z"
   },
   {
    "duration": 582,
    "start_time": "2023-01-25T17:53:45.073Z"
   },
   {
    "duration": 547,
    "start_time": "2023-01-25T17:54:14.039Z"
   },
   {
    "duration": 863,
    "start_time": "2023-01-25T17:59:47.680Z"
   },
   {
    "duration": 728,
    "start_time": "2023-01-25T17:59:53.659Z"
   },
   {
    "duration": 300,
    "start_time": "2023-01-25T18:00:09.333Z"
   },
   {
    "duration": 127,
    "start_time": "2023-01-25T18:04:31.405Z"
   },
   {
    "duration": 8,
    "start_time": "2023-01-25T18:08:12.012Z"
   },
   {
    "duration": 410,
    "start_time": "2023-01-25T18:08:13.534Z"
   },
   {
    "duration": 6,
    "start_time": "2023-01-25T18:08:45.965Z"
   },
   {
    "duration": 1561,
    "start_time": "2023-01-25T18:08:48.232Z"
   },
   {
    "duration": 5,
    "start_time": "2023-01-25T18:08:57.383Z"
   },
   {
    "duration": 411,
    "start_time": "2023-01-25T18:08:58.127Z"
   },
   {
    "duration": 452,
    "start_time": "2023-01-25T18:09:02.613Z"
   },
   {
    "duration": 57,
    "start_time": "2023-01-25T18:10:00.182Z"
   },
   {
    "duration": 46,
    "start_time": "2023-01-25T18:10:06.027Z"
   },
   {
    "duration": 46,
    "start_time": "2023-01-25T18:10:26.602Z"
   },
   {
    "duration": 174,
    "start_time": "2023-01-25T18:10:55.389Z"
   },
   {
    "duration": 62,
    "start_time": "2023-01-25T18:11:25.409Z"
   },
   {
    "duration": 70,
    "start_time": "2023-01-25T18:11:41.400Z"
   },
   {
    "duration": 64,
    "start_time": "2023-01-25T18:12:00.699Z"
   },
   {
    "duration": 5,
    "start_time": "2023-01-25T18:12:16.720Z"
   },
   {
    "duration": 301,
    "start_time": "2023-01-25T18:12:20.250Z"
   },
   {
    "duration": 196,
    "start_time": "2023-01-25T18:14:52.081Z"
   },
   {
    "duration": 270,
    "start_time": "2023-01-25T18:14:56.763Z"
   },
   {
    "duration": 21,
    "start_time": "2023-01-25T18:15:22.050Z"
   },
   {
    "duration": 13,
    "start_time": "2023-01-25T18:15:28.770Z"
   },
   {
    "duration": 16,
    "start_time": "2023-01-25T18:16:00.540Z"
   },
   {
    "duration": 486,
    "start_time": "2023-01-25T18:16:05.435Z"
   },
   {
    "duration": 538,
    "start_time": "2023-01-25T18:16:20.297Z"
   },
   {
    "duration": 527,
    "start_time": "2023-01-25T18:16:54.565Z"
   },
   {
    "duration": 540,
    "start_time": "2023-01-25T18:17:48.867Z"
   },
   {
    "duration": 450,
    "start_time": "2023-01-25T18:17:55.955Z"
   },
   {
    "duration": 489,
    "start_time": "2023-01-25T18:18:40.769Z"
   },
   {
    "duration": 67,
    "start_time": "2023-01-25T18:23:08.484Z"
   },
   {
    "duration": 87,
    "start_time": "2023-01-25T18:24:11.651Z"
   },
   {
    "duration": 71,
    "start_time": "2023-01-25T18:24:21.555Z"
   },
   {
    "duration": 76,
    "start_time": "2023-01-25T18:24:46.568Z"
   },
   {
    "duration": 93,
    "start_time": "2023-01-25T18:25:14.245Z"
   },
   {
    "duration": 88,
    "start_time": "2023-01-25T18:26:30.090Z"
   },
   {
    "duration": 1134,
    "start_time": "2023-01-25T18:26:33.546Z"
   },
   {
    "duration": 559,
    "start_time": "2023-01-25T18:26:50.568Z"
   },
   {
    "duration": 622,
    "start_time": "2023-01-25T18:26:59.228Z"
   },
   {
    "duration": 218,
    "start_time": "2023-01-25T18:27:40.899Z"
   },
   {
    "duration": 93,
    "start_time": "2023-01-25T18:27:46.021Z"
   },
   {
    "duration": 266,
    "start_time": "2023-01-25T18:27:50.848Z"
   },
   {
    "duration": 307,
    "start_time": "2023-01-25T18:28:06.061Z"
   },
   {
    "duration": 265,
    "start_time": "2023-01-25T18:29:04.559Z"
   },
   {
    "duration": 256,
    "start_time": "2023-01-25T18:32:43.569Z"
   },
   {
    "duration": 239,
    "start_time": "2023-01-25T18:32:48.916Z"
   },
   {
    "duration": 243,
    "start_time": "2023-01-25T18:32:59.498Z"
   },
   {
    "duration": 279,
    "start_time": "2023-01-25T18:33:10.365Z"
   },
   {
    "duration": 233,
    "start_time": "2023-01-25T18:33:34.261Z"
   },
   {
    "duration": 241,
    "start_time": "2023-01-25T18:33:48.563Z"
   },
   {
    "duration": 276,
    "start_time": "2023-01-25T18:35:38.126Z"
   },
   {
    "duration": 401,
    "start_time": "2023-01-25T18:37:22.606Z"
   },
   {
    "duration": 70,
    "start_time": "2023-01-25T18:37:35.769Z"
   },
   {
    "duration": 269,
    "start_time": "2023-01-25T18:37:57.023Z"
   },
   {
    "duration": 419,
    "start_time": "2023-01-25T18:44:19.138Z"
   },
   {
    "duration": 276,
    "start_time": "2023-01-25T18:44:39.096Z"
   },
   {
    "duration": 276,
    "start_time": "2023-01-25T18:44:49.049Z"
   },
   {
    "duration": 279,
    "start_time": "2023-01-25T18:44:58.599Z"
   },
   {
    "duration": 276,
    "start_time": "2023-01-25T18:51:50.030Z"
   },
   {
    "duration": 294,
    "start_time": "2023-01-25T18:55:10.984Z"
   },
   {
    "duration": 415,
    "start_time": "2023-01-25T18:55:47.614Z"
   },
   {
    "duration": 285,
    "start_time": "2023-01-25T19:02:09.024Z"
   },
   {
    "duration": 275,
    "start_time": "2023-01-25T19:03:12.093Z"
   },
   {
    "duration": 1171,
    "start_time": "2023-01-25T19:25:09.909Z"
   },
   {
    "duration": 52,
    "start_time": "2023-01-25T19:25:11.082Z"
   },
   {
    "duration": 19,
    "start_time": "2023-01-25T19:25:11.136Z"
   },
   {
    "duration": 14,
    "start_time": "2023-01-25T19:25:11.157Z"
   },
   {
    "duration": 853,
    "start_time": "2023-01-25T19:25:11.173Z"
   },
   {
    "duration": 4,
    "start_time": "2023-01-25T19:25:12.028Z"
   },
   {
    "duration": 18,
    "start_time": "2023-01-25T19:25:12.034Z"
   },
   {
    "duration": 11,
    "start_time": "2023-01-25T19:25:12.053Z"
   },
   {
    "duration": 5,
    "start_time": "2023-01-25T19:25:12.066Z"
   },
   {
    "duration": 215,
    "start_time": "2023-01-25T19:25:12.096Z"
   },
   {
    "duration": 15,
    "start_time": "2023-01-25T19:25:12.312Z"
   },
   {
    "duration": 9,
    "start_time": "2023-01-25T19:25:12.329Z"
   },
   {
    "duration": 10,
    "start_time": "2023-01-25T19:25:12.341Z"
   },
   {
    "duration": 11,
    "start_time": "2023-01-25T19:25:12.354Z"
   },
   {
    "duration": 30,
    "start_time": "2023-01-25T19:25:12.366Z"
   },
   {
    "duration": 8,
    "start_time": "2023-01-25T19:25:12.398Z"
   },
   {
    "duration": 11,
    "start_time": "2023-01-25T19:25:12.407Z"
   },
   {
    "duration": 4,
    "start_time": "2023-01-25T19:25:12.420Z"
   },
   {
    "duration": 6,
    "start_time": "2023-01-25T19:25:12.426Z"
   },
   {
    "duration": 10,
    "start_time": "2023-01-25T19:25:12.434Z"
   },
   {
    "duration": 17,
    "start_time": "2023-01-25T19:25:12.446Z"
   },
   {
    "duration": 305,
    "start_time": "2023-01-25T19:25:12.465Z"
   },
   {
    "duration": 442,
    "start_time": "2023-01-25T19:25:12.771Z"
   },
   {
    "duration": 4,
    "start_time": "2023-01-25T19:25:13.216Z"
   },
   {
    "duration": 753,
    "start_time": "2023-01-25T19:25:13.222Z"
   },
   {
    "duration": 9,
    "start_time": "2023-01-25T19:25:13.977Z"
   },
   {
    "duration": 413,
    "start_time": "2023-01-25T19:25:13.988Z"
   },
   {
    "duration": 152,
    "start_time": "2023-01-25T19:25:14.405Z"
   },
   {
    "duration": 10,
    "start_time": "2023-01-25T19:25:14.558Z"
   },
   {
    "duration": 399,
    "start_time": "2023-01-25T19:25:14.569Z"
   },
   {
    "duration": 7,
    "start_time": "2023-01-25T19:25:14.969Z"
   },
   {
    "duration": 48,
    "start_time": "2023-01-25T19:25:14.977Z"
   },
   {
    "duration": 12,
    "start_time": "2023-01-25T19:25:15.027Z"
   },
   {
    "duration": 18,
    "start_time": "2023-01-25T19:25:15.041Z"
   },
   {
    "duration": 17,
    "start_time": "2023-01-25T19:25:15.061Z"
   },
   {
    "duration": 199,
    "start_time": "2023-01-25T19:25:15.080Z"
   },
   {
    "duration": 13,
    "start_time": "2023-01-25T19:25:15.281Z"
   },
   {
    "duration": 176,
    "start_time": "2023-01-25T19:25:15.296Z"
   },
   {
    "duration": 5,
    "start_time": "2023-01-25T19:25:15.475Z"
   },
   {
    "duration": 191,
    "start_time": "2023-01-25T19:25:15.482Z"
   },
   {
    "duration": 9,
    "start_time": "2023-01-25T19:25:15.675Z"
   },
   {
    "duration": 1279,
    "start_time": "2023-01-25T19:25:15.692Z"
   },
   {
    "duration": 24,
    "start_time": "2023-01-25T19:25:16.974Z"
   },
   {
    "duration": 311,
    "start_time": "2023-01-25T19:25:17.000Z"
   },
   {
    "duration": 281,
    "start_time": "2023-01-25T19:25:17.313Z"
   },
   {
    "duration": 275,
    "start_time": "2023-01-25T19:25:17.596Z"
   },
   {
    "duration": 373,
    "start_time": "2023-01-25T19:25:17.873Z"
   },
   {
    "duration": 288,
    "start_time": "2023-01-25T19:25:18.248Z"
   },
   {
    "duration": 11,
    "start_time": "2023-01-25T19:25:18.539Z"
   },
   {
    "duration": 29,
    "start_time": "2023-01-25T19:25:18.552Z"
   },
   {
    "duration": 1338,
    "start_time": "2023-01-26T11:35:52.486Z"
   },
   {
    "duration": 101,
    "start_time": "2023-01-26T11:35:53.827Z"
   },
   {
    "duration": 24,
    "start_time": "2023-01-26T11:35:53.931Z"
   },
   {
    "duration": 16,
    "start_time": "2023-01-26T11:35:53.958Z"
   },
   {
    "duration": 858,
    "start_time": "2023-01-26T11:35:53.976Z"
   },
   {
    "duration": 3,
    "start_time": "2023-01-26T11:35:54.836Z"
   },
   {
    "duration": 26,
    "start_time": "2023-01-26T11:35:54.841Z"
   },
   {
    "duration": 18,
    "start_time": "2023-01-26T11:35:54.868Z"
   },
   {
    "duration": 4,
    "start_time": "2023-01-26T11:35:54.888Z"
   },
   {
    "duration": 193,
    "start_time": "2023-01-26T11:35:54.902Z"
   },
   {
    "duration": 18,
    "start_time": "2023-01-26T11:35:55.097Z"
   },
   {
    "duration": 6,
    "start_time": "2023-01-26T11:35:55.117Z"
   },
   {
    "duration": 9,
    "start_time": "2023-01-26T11:35:55.124Z"
   },
   {
    "duration": 8,
    "start_time": "2023-01-26T11:35:55.134Z"
   },
   {
    "duration": 13,
    "start_time": "2023-01-26T11:35:55.143Z"
   },
   {
    "duration": 11,
    "start_time": "2023-01-26T11:35:55.158Z"
   },
   {
    "duration": 12,
    "start_time": "2023-01-26T11:35:55.171Z"
   },
   {
    "duration": 20,
    "start_time": "2023-01-26T11:35:55.185Z"
   },
   {
    "duration": 8,
    "start_time": "2023-01-26T11:35:55.207Z"
   },
   {
    "duration": 9,
    "start_time": "2023-01-26T11:35:55.217Z"
   },
   {
    "duration": 15,
    "start_time": "2023-01-26T11:35:55.228Z"
   },
   {
    "duration": 286,
    "start_time": "2023-01-26T11:35:55.244Z"
   },
   {
    "duration": 405,
    "start_time": "2023-01-26T11:35:55.531Z"
   },
   {
    "duration": 3,
    "start_time": "2023-01-26T11:35:55.938Z"
   },
   {
    "duration": 23,
    "start_time": "2023-01-26T11:35:55.942Z"
   },
   {
    "duration": 8,
    "start_time": "2023-01-26T11:35:55.967Z"
   },
   {
    "duration": 456,
    "start_time": "2023-01-26T11:35:55.977Z"
   },
   {
    "duration": 162,
    "start_time": "2023-01-26T11:35:56.438Z"
   },
   {
    "duration": 11,
    "start_time": "2023-01-26T11:35:56.602Z"
   },
   {
    "duration": 494,
    "start_time": "2023-01-26T11:35:56.614Z"
   },
   {
    "duration": 9,
    "start_time": "2023-01-26T11:35:57.111Z"
   },
   {
    "duration": 103,
    "start_time": "2023-01-26T11:35:57.122Z"
   },
   {
    "duration": 13,
    "start_time": "2023-01-26T11:35:57.228Z"
   },
   {
    "duration": 29,
    "start_time": "2023-01-26T11:35:57.304Z"
   },
   {
    "duration": 11,
    "start_time": "2023-01-26T11:35:57.334Z"
   },
   {
    "duration": 397,
    "start_time": "2023-01-26T11:35:57.346Z"
   },
   {
    "duration": 7,
    "start_time": "2023-01-26T11:35:57.744Z"
   },
   {
    "duration": 181,
    "start_time": "2023-01-26T11:35:57.804Z"
   },
   {
    "duration": 5,
    "start_time": "2023-01-26T11:35:57.986Z"
   },
   {
    "duration": 331,
    "start_time": "2023-01-26T11:35:57.993Z"
   },
   {
    "duration": 11,
    "start_time": "2023-01-26T11:35:58.326Z"
   },
   {
    "duration": 1250,
    "start_time": "2023-01-26T11:35:58.338Z"
   },
   {
    "duration": 28,
    "start_time": "2023-01-26T11:35:59.589Z"
   },
   {
    "duration": 305,
    "start_time": "2023-01-26T11:35:59.619Z"
   },
   {
    "duration": 279,
    "start_time": "2023-01-26T11:35:59.926Z"
   },
   {
    "duration": 296,
    "start_time": "2023-01-26T11:36:00.207Z"
   },
   {
    "duration": 384,
    "start_time": "2023-01-26T11:36:00.505Z"
   },
   {
    "duration": 305,
    "start_time": "2023-01-26T11:36:00.891Z"
   },
   {
    "duration": 16,
    "start_time": "2023-01-26T11:36:01.198Z"
   },
   {
    "duration": 31,
    "start_time": "2023-01-26T11:36:01.216Z"
   },
   {
    "duration": 9,
    "start_time": "2023-01-26T11:38:06.050Z"
   },
   {
    "duration": 466,
    "start_time": "2023-01-26T11:39:35.439Z"
   },
   {
    "duration": 537,
    "start_time": "2023-01-26T11:39:52.583Z"
   },
   {
    "duration": 1183,
    "start_time": "2023-01-26T11:42:01.125Z"
   },
   {
    "duration": 48,
    "start_time": "2023-01-26T11:42:02.310Z"
   },
   {
    "duration": 20,
    "start_time": "2023-01-26T11:42:02.360Z"
   },
   {
    "duration": 13,
    "start_time": "2023-01-26T11:42:02.383Z"
   },
   {
    "duration": 776,
    "start_time": "2023-01-26T11:42:02.398Z"
   },
   {
    "duration": 3,
    "start_time": "2023-01-26T11:42:03.176Z"
   },
   {
    "duration": 25,
    "start_time": "2023-01-26T11:42:03.181Z"
   },
   {
    "duration": 14,
    "start_time": "2023-01-26T11:42:03.208Z"
   },
   {
    "duration": 13,
    "start_time": "2023-01-26T11:42:03.224Z"
   },
   {
    "duration": 200,
    "start_time": "2023-01-26T11:42:03.240Z"
   },
   {
    "duration": 18,
    "start_time": "2023-01-26T11:42:03.442Z"
   },
   {
    "duration": 11,
    "start_time": "2023-01-26T11:42:03.462Z"
   },
   {
    "duration": 23,
    "start_time": "2023-01-26T11:42:03.475Z"
   },
   {
    "duration": 14,
    "start_time": "2023-01-26T11:42:03.500Z"
   },
   {
    "duration": 11,
    "start_time": "2023-01-26T11:42:03.515Z"
   },
   {
    "duration": 17,
    "start_time": "2023-01-26T11:42:03.527Z"
   },
   {
    "duration": 21,
    "start_time": "2023-01-26T11:42:03.546Z"
   },
   {
    "duration": 5,
    "start_time": "2023-01-26T11:42:03.569Z"
   },
   {
    "duration": 8,
    "start_time": "2023-01-26T11:42:03.575Z"
   },
   {
    "duration": 7,
    "start_time": "2023-01-26T11:42:03.585Z"
   },
   {
    "duration": 19,
    "start_time": "2023-01-26T11:42:03.594Z"
   },
   {
    "duration": 311,
    "start_time": "2023-01-26T11:42:03.615Z"
   },
   {
    "duration": 502,
    "start_time": "2023-01-26T11:42:03.928Z"
   },
   {
    "duration": 3,
    "start_time": "2023-01-26T11:42:04.432Z"
   },
   {
    "duration": 36,
    "start_time": "2023-01-26T11:42:04.436Z"
   },
   {
    "duration": 24,
    "start_time": "2023-01-26T11:42:04.474Z"
   },
   {
    "duration": 453,
    "start_time": "2023-01-26T11:42:04.500Z"
   },
   {
    "duration": 159,
    "start_time": "2023-01-26T11:42:04.957Z"
   },
   {
    "duration": 10,
    "start_time": "2023-01-26T11:42:05.118Z"
   },
   {
    "duration": 429,
    "start_time": "2023-01-26T11:42:05.130Z"
   },
   {
    "duration": 6,
    "start_time": "2023-01-26T11:42:05.561Z"
   },
   {
    "duration": 46,
    "start_time": "2023-01-26T11:42:05.569Z"
   },
   {
    "duration": 9,
    "start_time": "2023-01-26T11:42:05.616Z"
   },
   {
    "duration": 19,
    "start_time": "2023-01-26T11:42:05.627Z"
   },
   {
    "duration": 6,
    "start_time": "2023-01-26T11:42:05.648Z"
   },
   {
    "duration": 190,
    "start_time": "2023-01-26T11:42:05.656Z"
   },
   {
    "duration": 7,
    "start_time": "2023-01-26T11:42:05.848Z"
   },
   {
    "duration": 195,
    "start_time": "2023-01-26T11:42:05.856Z"
   },
   {
    "duration": 5,
    "start_time": "2023-01-26T11:42:06.053Z"
   },
   {
    "duration": 188,
    "start_time": "2023-01-26T11:42:06.060Z"
   },
   {
    "duration": 11,
    "start_time": "2023-01-26T11:42:06.249Z"
   },
   {
    "duration": 1265,
    "start_time": "2023-01-26T11:42:06.262Z"
   },
   {
    "duration": 18,
    "start_time": "2023-01-26T11:42:07.529Z"
   },
   {
    "duration": 326,
    "start_time": "2023-01-26T11:42:07.549Z"
   },
   {
    "duration": 282,
    "start_time": "2023-01-26T11:42:07.876Z"
   },
   {
    "duration": 287,
    "start_time": "2023-01-26T11:42:08.159Z"
   },
   {
    "duration": 389,
    "start_time": "2023-01-26T11:42:08.448Z"
   },
   {
    "duration": 305,
    "start_time": "2023-01-26T11:42:08.838Z"
   },
   {
    "duration": 426,
    "start_time": "2023-01-26T11:42:09.144Z"
   },
   {
    "duration": 12,
    "start_time": "2023-01-26T11:42:09.571Z"
   },
   {
    "duration": 37,
    "start_time": "2023-01-26T11:42:09.584Z"
   },
   {
    "duration": 31,
    "start_time": "2023-01-26T11:42:09.623Z"
   },
   {
    "duration": 69,
    "start_time": "2023-01-26T11:42:09.656Z"
   },
   {
    "duration": 3,
    "start_time": "2023-01-26T11:42:09.727Z"
   },
   {
    "duration": 43,
    "start_time": "2023-01-26T11:42:09.731Z"
   },
   {
    "duration": 26,
    "start_time": "2023-01-26T11:42:09.776Z"
   },
   {
    "duration": 27,
    "start_time": "2023-01-26T11:42:09.803Z"
   },
   {
    "duration": 23,
    "start_time": "2023-01-26T11:42:09.832Z"
   },
   {
    "duration": 16,
    "start_time": "2023-01-26T11:42:09.857Z"
   },
   {
    "duration": 675,
    "start_time": "2023-01-26T11:42:09.875Z"
   },
   {
    "duration": 650,
    "start_time": "2023-01-26T11:42:10.553Z"
   },
   {
    "duration": 705,
    "start_time": "2023-01-26T11:42:11.205Z"
   },
   {
    "duration": 1171,
    "start_time": "2023-01-26T11:42:45.157Z"
   },
   {
    "duration": 53,
    "start_time": "2023-01-26T11:42:46.330Z"
   },
   {
    "duration": 20,
    "start_time": "2023-01-26T11:42:46.384Z"
   },
   {
    "duration": 16,
    "start_time": "2023-01-26T11:42:46.406Z"
   },
   {
    "duration": 800,
    "start_time": "2023-01-26T11:42:46.424Z"
   },
   {
    "duration": 4,
    "start_time": "2023-01-26T11:42:47.226Z"
   },
   {
    "duration": 28,
    "start_time": "2023-01-26T11:42:47.232Z"
   },
   {
    "duration": 19,
    "start_time": "2023-01-26T11:42:47.262Z"
   },
   {
    "duration": 20,
    "start_time": "2023-01-26T11:42:47.283Z"
   },
   {
    "duration": 198,
    "start_time": "2023-01-26T11:42:47.308Z"
   },
   {
    "duration": 16,
    "start_time": "2023-01-26T11:42:47.508Z"
   },
   {
    "duration": 7,
    "start_time": "2023-01-26T11:42:47.526Z"
   },
   {
    "duration": 23,
    "start_time": "2023-01-26T11:42:47.535Z"
   },
   {
    "duration": 9,
    "start_time": "2023-01-26T11:42:47.560Z"
   },
   {
    "duration": 15,
    "start_time": "2023-01-26T11:42:47.571Z"
   },
   {
    "duration": 27,
    "start_time": "2023-01-26T11:42:47.588Z"
   },
   {
    "duration": 16,
    "start_time": "2023-01-26T11:42:47.617Z"
   },
   {
    "duration": 18,
    "start_time": "2023-01-26T11:42:47.634Z"
   },
   {
    "duration": 25,
    "start_time": "2023-01-26T11:42:47.654Z"
   },
   {
    "duration": 15,
    "start_time": "2023-01-26T11:42:47.680Z"
   },
   {
    "duration": 60,
    "start_time": "2023-01-26T11:42:47.697Z"
   },
   {
    "duration": 270,
    "start_time": "2023-01-26T11:42:47.759Z"
   },
   {
    "duration": 431,
    "start_time": "2023-01-26T11:42:48.031Z"
   },
   {
    "duration": 3,
    "start_time": "2023-01-26T11:42:48.464Z"
   },
   {
    "duration": 31,
    "start_time": "2023-01-26T11:42:48.469Z"
   },
   {
    "duration": 25,
    "start_time": "2023-01-26T11:42:48.502Z"
   },
   {
    "duration": 452,
    "start_time": "2023-01-26T11:42:48.529Z"
   },
   {
    "duration": 162,
    "start_time": "2023-01-26T11:42:48.985Z"
   },
   {
    "duration": 9,
    "start_time": "2023-01-26T11:42:49.149Z"
   },
   {
    "duration": 437,
    "start_time": "2023-01-26T11:42:49.160Z"
   },
   {
    "duration": 8,
    "start_time": "2023-01-26T11:42:49.599Z"
   },
   {
    "duration": 45,
    "start_time": "2023-01-26T11:42:49.608Z"
   },
   {
    "duration": 10,
    "start_time": "2023-01-26T11:42:49.654Z"
   },
   {
    "duration": 30,
    "start_time": "2023-01-26T11:42:49.666Z"
   },
   {
    "duration": 9,
    "start_time": "2023-01-26T11:42:49.699Z"
   },
   {
    "duration": 202,
    "start_time": "2023-01-26T11:42:49.709Z"
   },
   {
    "duration": 6,
    "start_time": "2023-01-26T11:42:49.914Z"
   },
   {
    "duration": 189,
    "start_time": "2023-01-26T11:42:49.922Z"
   },
   {
    "duration": 5,
    "start_time": "2023-01-26T11:42:50.113Z"
   },
   {
    "duration": 226,
    "start_time": "2023-01-26T11:42:50.120Z"
   },
   {
    "duration": 12,
    "start_time": "2023-01-26T11:42:50.348Z"
   },
   {
    "duration": 1294,
    "start_time": "2023-01-26T11:42:50.362Z"
   },
   {
    "duration": 17,
    "start_time": "2023-01-26T11:42:51.658Z"
   },
   {
    "duration": 304,
    "start_time": "2023-01-26T11:42:51.677Z"
   },
   {
    "duration": 281,
    "start_time": "2023-01-26T11:42:51.984Z"
   },
   {
    "duration": 303,
    "start_time": "2023-01-26T11:42:52.267Z"
   },
   {
    "duration": 392,
    "start_time": "2023-01-26T11:42:52.572Z"
   },
   {
    "duration": 311,
    "start_time": "2023-01-26T11:42:52.966Z"
   },
   {
    "duration": 421,
    "start_time": "2023-01-26T11:42:53.279Z"
   },
   {
    "duration": 12,
    "start_time": "2023-01-26T11:42:53.702Z"
   },
   {
    "duration": 17,
    "start_time": "2023-01-26T11:42:53.715Z"
   },
   {
    "duration": 25,
    "start_time": "2023-01-26T11:42:53.734Z"
   },
   {
    "duration": 54,
    "start_time": "2023-01-26T11:42:53.761Z"
   },
   {
    "duration": 3,
    "start_time": "2023-01-26T11:42:53.817Z"
   },
   {
    "duration": 21,
    "start_time": "2023-01-26T11:42:53.821Z"
   },
   {
    "duration": 24,
    "start_time": "2023-01-26T11:42:53.844Z"
   },
   {
    "duration": 30,
    "start_time": "2023-01-26T11:42:53.870Z"
   },
   {
    "duration": 21,
    "start_time": "2023-01-26T11:42:53.902Z"
   },
   {
    "duration": 19,
    "start_time": "2023-01-26T11:42:53.925Z"
   },
   {
    "duration": 697,
    "start_time": "2023-01-26T11:42:53.946Z"
   },
   {
    "duration": 632,
    "start_time": "2023-01-26T11:42:54.645Z"
   },
   {
    "duration": 766,
    "start_time": "2023-01-26T11:42:55.278Z"
   }
  ],
  "kernelspec": {
   "display_name": "Python 3 (ipykernel)",
   "language": "python",
   "name": "python3"
  },
  "language_info": {
   "codemirror_mode": {
    "name": "ipython",
    "version": 3
   },
   "file_extension": ".py",
   "mimetype": "text/x-python",
   "name": "python",
   "nbconvert_exporter": "python",
   "pygments_lexer": "ipython3",
   "version": "3.9.13"
  },
  "toc": {
   "base_numbering": 1,
   "nav_menu": {},
   "number_sections": true,
   "sideBar": true,
   "skip_h1_title": true,
   "title_cell": "Table of Contents",
   "title_sidebar": "Contents",
   "toc_cell": false,
   "toc_position": {
    "height": "450.523px",
    "left": "83px",
    "top": "110.318px",
    "width": "329.719px"
   },
   "toc_section_display": true,
   "toc_window_display": true
  }
 },
 "nbformat": 4,
 "nbformat_minor": 2
}

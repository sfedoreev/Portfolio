{
 "cells": [
  {
   "cell_type": "markdown",
   "metadata": {},
   "source": [
    "# Стартап продажи продуктов питания"
   ]
  },
  {
   "cell_type": "markdown",
   "metadata": {},
   "source": [
    "**Описание проекта**"
   ]
  },
  {
   "cell_type": "markdown",
   "metadata": {},
   "source": [
    "Есть стартап, который продаёт продукты питания. Нужно разобраться, как ведут себя пользователи мобильного приложения.\n",
    "\n",
    "**План работы:**\n",
    "\n",
    "- Изучим воронку продаж;\n",
    "- Узнаем, как пользователи доходят до покупки;\n",
    "- Сколько пользователей доходит до покупки, а сколько — «застревает» на предыдущих шагах? На каких именно?\n",
    "\n",
    "После этого исследуем результаты A/A/B-эксперимента. Дизайнеры захотели поменять шрифты во всём приложении, а менеджеры испугались, что пользователям будет непривычно. Договорились принять решение по результатам A/A/B-теста. Пользователей разбили на 3 группы: 2 контрольные со старыми шрифтами и одну экспериментальную — с новыми. Выясним, какой шрифт лучше.\n",
    "\n",
    "Создание двух групп A вместо одной имеет определённые преимущества. Если две контрольные группы окажутся равны, вы можете быть уверены в точности проведенного тестирования. Если же между значениями A и A будут существенные различия, это поможет обнаружить факторы, которые привели к искажению результатов. Сравнение контрольных групп также помогает понять, сколько времени и данных потребуется для дальнейших тестов."
   ]
  },
  {
   "cell_type": "markdown",
   "metadata": {},
   "source": [
    "**Описание данных**"
   ]
  },
  {
   "cell_type": "markdown",
   "metadata": {},
   "source": [
    "Каждая запись в логе — это действие пользователя, или событие. \n",
    "- EventName — название события;\n",
    "- DeviceIDHash — уникальный идентификатор пользователя;\n",
    "- EventTimestamp — время события;\n",
    "- ExpId — номер эксперимента: 246 и 247 — контрольные группы, а 248 — экспериментальная."
   ]
  },
  {
   "cell_type": "markdown",
   "metadata": {},
   "source": [
    "### 1. Откроем файл с данными и изучим общую информацию"
   ]
  },
  {
   "cell_type": "code",
   "execution_count": 1,
   "metadata": {},
   "outputs": [],
   "source": [
    "import pandas as pd\n",
    "import matplotlib.pyplot as plt\n",
    "import numpy as np\n",
    "import seaborn as sns\n",
    "import plotly.express as px\n",
    "from plotly import graph_objects as go\n",
    "import math as mth\n",
    "import warnings\n",
    "from scipy import stats as st\n",
    "warnings.filterwarnings('ignore')"
   ]
  },
  {
   "cell_type": "code",
   "execution_count": 2,
   "metadata": {},
   "outputs": [],
   "source": [
    "# Загрузим данные из датафрейма\n",
    "data=pd.read_csv('/datasets/logs_exp.csv', sep='\\t') "
   ]
  },
  {
   "cell_type": "code",
   "execution_count": 3,
   "metadata": {},
   "outputs": [
    {
     "data": {
      "text/html": [
       "<div>\n",
       "<style scoped>\n",
       "    .dataframe tbody tr th:only-of-type {\n",
       "        vertical-align: middle;\n",
       "    }\n",
       "\n",
       "    .dataframe tbody tr th {\n",
       "        vertical-align: top;\n",
       "    }\n",
       "\n",
       "    .dataframe thead th {\n",
       "        text-align: right;\n",
       "    }\n",
       "</style>\n",
       "<table border=\"1\" class=\"dataframe\">\n",
       "  <thead>\n",
       "    <tr style=\"text-align: right;\">\n",
       "      <th></th>\n",
       "      <th>EventName</th>\n",
       "      <th>DeviceIDHash</th>\n",
       "      <th>EventTimestamp</th>\n",
       "      <th>ExpId</th>\n",
       "    </tr>\n",
       "  </thead>\n",
       "  <tbody>\n",
       "    <tr>\n",
       "      <th>0</th>\n",
       "      <td>MainScreenAppear</td>\n",
       "      <td>4575588528974610257</td>\n",
       "      <td>1564029816</td>\n",
       "      <td>246</td>\n",
       "    </tr>\n",
       "    <tr>\n",
       "      <th>1</th>\n",
       "      <td>MainScreenAppear</td>\n",
       "      <td>7416695313311560658</td>\n",
       "      <td>1564053102</td>\n",
       "      <td>246</td>\n",
       "    </tr>\n",
       "    <tr>\n",
       "      <th>2</th>\n",
       "      <td>PaymentScreenSuccessful</td>\n",
       "      <td>3518123091307005509</td>\n",
       "      <td>1564054127</td>\n",
       "      <td>248</td>\n",
       "    </tr>\n",
       "    <tr>\n",
       "      <th>3</th>\n",
       "      <td>CartScreenAppear</td>\n",
       "      <td>3518123091307005509</td>\n",
       "      <td>1564054127</td>\n",
       "      <td>248</td>\n",
       "    </tr>\n",
       "    <tr>\n",
       "      <th>4</th>\n",
       "      <td>PaymentScreenSuccessful</td>\n",
       "      <td>6217807653094995999</td>\n",
       "      <td>1564055322</td>\n",
       "      <td>248</td>\n",
       "    </tr>\n",
       "    <tr>\n",
       "      <th>5</th>\n",
       "      <td>CartScreenAppear</td>\n",
       "      <td>6217807653094995999</td>\n",
       "      <td>1564055323</td>\n",
       "      <td>248</td>\n",
       "    </tr>\n",
       "    <tr>\n",
       "      <th>6</th>\n",
       "      <td>OffersScreenAppear</td>\n",
       "      <td>8351860793733343758</td>\n",
       "      <td>1564066242</td>\n",
       "      <td>246</td>\n",
       "    </tr>\n",
       "    <tr>\n",
       "      <th>7</th>\n",
       "      <td>MainScreenAppear</td>\n",
       "      <td>5682100281902512875</td>\n",
       "      <td>1564085677</td>\n",
       "      <td>246</td>\n",
       "    </tr>\n",
       "    <tr>\n",
       "      <th>8</th>\n",
       "      <td>MainScreenAppear</td>\n",
       "      <td>1850981295691852772</td>\n",
       "      <td>1564086702</td>\n",
       "      <td>247</td>\n",
       "    </tr>\n",
       "    <tr>\n",
       "      <th>9</th>\n",
       "      <td>MainScreenAppear</td>\n",
       "      <td>5407636962369102641</td>\n",
       "      <td>1564112112</td>\n",
       "      <td>246</td>\n",
       "    </tr>\n",
       "  </tbody>\n",
       "</table>\n",
       "</div>"
      ],
      "text/plain": [
       "                 EventName         DeviceIDHash  EventTimestamp  ExpId\n",
       "0         MainScreenAppear  4575588528974610257      1564029816    246\n",
       "1         MainScreenAppear  7416695313311560658      1564053102    246\n",
       "2  PaymentScreenSuccessful  3518123091307005509      1564054127    248\n",
       "3         CartScreenAppear  3518123091307005509      1564054127    248\n",
       "4  PaymentScreenSuccessful  6217807653094995999      1564055322    248\n",
       "5         CartScreenAppear  6217807653094995999      1564055323    248\n",
       "6       OffersScreenAppear  8351860793733343758      1564066242    246\n",
       "7         MainScreenAppear  5682100281902512875      1564085677    246\n",
       "8         MainScreenAppear  1850981295691852772      1564086702    247\n",
       "9         MainScreenAppear  5407636962369102641      1564112112    246"
      ]
     },
     "execution_count": 3,
     "metadata": {},
     "output_type": "execute_result"
    }
   ],
   "source": [
    "# Изучим исходный датафрейм, выведем первые 10 строчек\n",
    "data.head(10)"
   ]
  },
  {
   "cell_type": "code",
   "execution_count": 4,
   "metadata": {},
   "outputs": [
    {
     "name": "stdout",
     "output_type": "stream",
     "text": [
      "<class 'pandas.core.frame.DataFrame'>\n",
      "RangeIndex: 244126 entries, 0 to 244125\n",
      "Data columns (total 4 columns):\n",
      " #   Column          Non-Null Count   Dtype \n",
      "---  ------          --------------   ----- \n",
      " 0   EventName       244126 non-null  object\n",
      " 1   DeviceIDHash    244126 non-null  int64 \n",
      " 2   EventTimestamp  244126 non-null  int64 \n",
      " 3   ExpId           244126 non-null  int64 \n",
      "dtypes: int64(3), object(1)\n",
      "memory usage: 7.5+ MB\n"
     ]
    }
   ],
   "source": [
    "# Изучим исходную информацию датафрейма\n",
    "data.info()"
   ]
  },
  {
   "cell_type": "markdown",
   "metadata": {},
   "source": [
    "### 2. Предобработка данных"
   ]
  },
  {
   "cell_type": "markdown",
   "metadata": {},
   "source": [
    "#### 2.1 Заменим названия столбцов "
   ]
  },
  {
   "cell_type": "code",
   "execution_count": 5,
   "metadata": {},
   "outputs": [],
   "source": [
    "# Переименуем названия столбцов для более удобного использования их названий\n",
    "data.rename(columns = {'EventName':'event_name', \n",
    "                       'DeviceIDHash':'user_id', \n",
    "                       'EventTimestamp':'event_time',\n",
    "                       'ExpId':'group'}, inplace = True)"
   ]
  },
  {
   "cell_type": "code",
   "execution_count": 6,
   "metadata": {},
   "outputs": [],
   "source": [
    "# Создадим функцию new_mean_group() для более наглядного вывода значений столбца group\n",
    "def new_mean_group (group):\n",
    "    if group == 246:\n",
    "        return 'A1'\n",
    "    if group == 247:\n",
    "        return 'A2'\n",
    "    if group == 248:\n",
    "        return 'B'\n",
    "    return 'Без группы'  "
   ]
  },
  {
   "cell_type": "code",
   "execution_count": 7,
   "metadata": {},
   "outputs": [],
   "source": [
    "# Заменим значения в столбце group\n",
    "data ['group'] = data ['group'].apply(new_mean_group)"
   ]
  },
  {
   "cell_type": "code",
   "execution_count": 8,
   "metadata": {},
   "outputs": [
    {
     "data": {
      "text/plain": [
       "array(['A1', 'B', 'A2'], dtype=object)"
      ]
     },
     "execution_count": 8,
     "metadata": {},
     "output_type": "execute_result"
    }
   ],
   "source": [
    "# Проверим содержимое измененного столбца group\n",
    "data['group'].unique()"
   ]
  },
  {
   "cell_type": "markdown",
   "metadata": {},
   "source": [
    "Все отлично, замена значений столбца group прошла успешно."
   ]
  },
  {
   "cell_type": "markdown",
   "metadata": {},
   "source": [
    "#### 2.2 Проверим пропуски и типы данных"
   ]
  },
  {
   "cell_type": "code",
   "execution_count": 9,
   "metadata": {},
   "outputs": [
    {
     "data": {
      "text/plain": [
       "event_name    0\n",
       "user_id       0\n",
       "event_time    0\n",
       "group         0\n",
       "dtype: int64"
      ]
     },
     "execution_count": 9,
     "metadata": {},
     "output_type": "execute_result"
    }
   ],
   "source": [
    "# Определим в каких столбцах есть пропуски\n",
    "data.isna().sum()"
   ]
  },
  {
   "cell_type": "markdown",
   "metadata": {},
   "source": [
    "Пропуски в столбцах **отсутствуют**."
   ]
  },
  {
   "cell_type": "code",
   "execution_count": 10,
   "metadata": {},
   "outputs": [],
   "source": [
    "# Cкорректируем тип данных столбца event_time\n",
    "data['event_time'] = pd.to_datetime(data['event_time'], unit='s')"
   ]
  },
  {
   "cell_type": "code",
   "execution_count": 11,
   "metadata": {},
   "outputs": [
    {
     "name": "stdout",
     "output_type": "stream",
     "text": [
      "Количество дубликатов: 413\n"
     ]
    }
   ],
   "source": [
    "# Посчитаем количество дубликатов\n",
    "print ('Количество дубликатов:', data.duplicated().sum())"
   ]
  },
  {
   "cell_type": "code",
   "execution_count": 12,
   "metadata": {},
   "outputs": [
    {
     "data": {
      "text/html": [
       "<div>\n",
       "<style scoped>\n",
       "    .dataframe tbody tr th:only-of-type {\n",
       "        vertical-align: middle;\n",
       "    }\n",
       "\n",
       "    .dataframe tbody tr th {\n",
       "        vertical-align: top;\n",
       "    }\n",
       "\n",
       "    .dataframe thead th {\n",
       "        text-align: right;\n",
       "    }\n",
       "</style>\n",
       "<table border=\"1\" class=\"dataframe\">\n",
       "  <thead>\n",
       "    <tr style=\"text-align: right;\">\n",
       "      <th></th>\n",
       "      <th>event_name</th>\n",
       "      <th>user_id</th>\n",
       "      <th>event_time</th>\n",
       "      <th>group</th>\n",
       "    </tr>\n",
       "  </thead>\n",
       "  <tbody>\n",
       "    <tr>\n",
       "      <th>453</th>\n",
       "      <td>MainScreenAppear</td>\n",
       "      <td>5613408041324010552</td>\n",
       "      <td>2019-07-30 08:19:44</td>\n",
       "      <td>B</td>\n",
       "    </tr>\n",
       "    <tr>\n",
       "      <th>2350</th>\n",
       "      <td>CartScreenAppear</td>\n",
       "      <td>1694940645335807244</td>\n",
       "      <td>2019-07-31 21:51:39</td>\n",
       "      <td>B</td>\n",
       "    </tr>\n",
       "    <tr>\n",
       "      <th>3573</th>\n",
       "      <td>MainScreenAppear</td>\n",
       "      <td>434103746454591587</td>\n",
       "      <td>2019-08-01 02:59:37</td>\n",
       "      <td>B</td>\n",
       "    </tr>\n",
       "    <tr>\n",
       "      <th>4076</th>\n",
       "      <td>MainScreenAppear</td>\n",
       "      <td>3761373764179762633</td>\n",
       "      <td>2019-08-01 03:47:46</td>\n",
       "      <td>A2</td>\n",
       "    </tr>\n",
       "    <tr>\n",
       "      <th>4803</th>\n",
       "      <td>MainScreenAppear</td>\n",
       "      <td>2835328739789306622</td>\n",
       "      <td>2019-08-01 04:44:01</td>\n",
       "      <td>B</td>\n",
       "    </tr>\n",
       "    <tr>\n",
       "      <th>5641</th>\n",
       "      <td>CartScreenAppear</td>\n",
       "      <td>4248762472840564256</td>\n",
       "      <td>2019-08-01 05:36:04</td>\n",
       "      <td>B</td>\n",
       "    </tr>\n",
       "    <tr>\n",
       "      <th>5875</th>\n",
       "      <td>PaymentScreenSuccessful</td>\n",
       "      <td>6427012997733591237</td>\n",
       "      <td>2019-08-01 05:47:32</td>\n",
       "      <td>B</td>\n",
       "    </tr>\n",
       "    <tr>\n",
       "      <th>7249</th>\n",
       "      <td>OffersScreenAppear</td>\n",
       "      <td>7224691986599895551</td>\n",
       "      <td>2019-08-01 06:44:06</td>\n",
       "      <td>A1</td>\n",
       "    </tr>\n",
       "    <tr>\n",
       "      <th>8065</th>\n",
       "      <td>CartScreenAppear</td>\n",
       "      <td>8189122927585332969</td>\n",
       "      <td>2019-08-01 07:18:49</td>\n",
       "      <td>B</td>\n",
       "    </tr>\n",
       "    <tr>\n",
       "      <th>9179</th>\n",
       "      <td>MainScreenAppear</td>\n",
       "      <td>2230705996155527339</td>\n",
       "      <td>2019-08-01 07:54:47</td>\n",
       "      <td>A1</td>\n",
       "    </tr>\n",
       "    <tr>\n",
       "      <th>9311</th>\n",
       "      <td>MainScreenAppear</td>\n",
       "      <td>5496043151846125970</td>\n",
       "      <td>2019-08-01 07:58:03</td>\n",
       "      <td>B</td>\n",
       "    </tr>\n",
       "    <tr>\n",
       "      <th>9990</th>\n",
       "      <td>PaymentScreenSuccessful</td>\n",
       "      <td>7035352794299231933</td>\n",
       "      <td>2019-08-01 08:20:27</td>\n",
       "      <td>B</td>\n",
       "    </tr>\n",
       "    <tr>\n",
       "      <th>12454</th>\n",
       "      <td>PaymentScreenSuccessful</td>\n",
       "      <td>5152160705477623487</td>\n",
       "      <td>2019-08-01 09:35:39</td>\n",
       "      <td>A2</td>\n",
       "    </tr>\n",
       "    <tr>\n",
       "      <th>13055</th>\n",
       "      <td>PaymentScreenSuccessful</td>\n",
       "      <td>6258460144399027762</td>\n",
       "      <td>2019-08-01 09:53:44</td>\n",
       "      <td>A2</td>\n",
       "    </tr>\n",
       "    <tr>\n",
       "      <th>14333</th>\n",
       "      <td>CartScreenAppear</td>\n",
       "      <td>1807104407388801321</td>\n",
       "      <td>2019-08-01 10:30:27</td>\n",
       "      <td>B</td>\n",
       "    </tr>\n",
       "    <tr>\n",
       "      <th>15304</th>\n",
       "      <td>PaymentScreenSuccessful</td>\n",
       "      <td>8125832085431322921</td>\n",
       "      <td>2019-08-01 11:01:10</td>\n",
       "      <td>A1</td>\n",
       "    </tr>\n",
       "    <tr>\n",
       "      <th>15746</th>\n",
       "      <td>PaymentScreenSuccessful</td>\n",
       "      <td>2877433916175408776</td>\n",
       "      <td>2019-08-01 11:13:21</td>\n",
       "      <td>A2</td>\n",
       "    </tr>\n",
       "    <tr>\n",
       "      <th>15751</th>\n",
       "      <td>PaymentScreenSuccessful</td>\n",
       "      <td>3528217211962170139</td>\n",
       "      <td>2019-08-01 11:13:23</td>\n",
       "      <td>A2</td>\n",
       "    </tr>\n",
       "    <tr>\n",
       "      <th>15752</th>\n",
       "      <td>PaymentScreenSuccessful</td>\n",
       "      <td>3528217211962170139</td>\n",
       "      <td>2019-08-01 11:13:23</td>\n",
       "      <td>A2</td>\n",
       "    </tr>\n",
       "    <tr>\n",
       "      <th>15753</th>\n",
       "      <td>PaymentScreenSuccessful</td>\n",
       "      <td>3528217211962170139</td>\n",
       "      <td>2019-08-01 11:13:23</td>\n",
       "      <td>A2</td>\n",
       "    </tr>\n",
       "  </tbody>\n",
       "</table>\n",
       "</div>"
      ],
      "text/plain": [
       "                    event_name              user_id          event_time group\n",
       "453           MainScreenAppear  5613408041324010552 2019-07-30 08:19:44     B\n",
       "2350          CartScreenAppear  1694940645335807244 2019-07-31 21:51:39     B\n",
       "3573          MainScreenAppear   434103746454591587 2019-08-01 02:59:37     B\n",
       "4076          MainScreenAppear  3761373764179762633 2019-08-01 03:47:46    A2\n",
       "4803          MainScreenAppear  2835328739789306622 2019-08-01 04:44:01     B\n",
       "5641          CartScreenAppear  4248762472840564256 2019-08-01 05:36:04     B\n",
       "5875   PaymentScreenSuccessful  6427012997733591237 2019-08-01 05:47:32     B\n",
       "7249        OffersScreenAppear  7224691986599895551 2019-08-01 06:44:06    A1\n",
       "8065          CartScreenAppear  8189122927585332969 2019-08-01 07:18:49     B\n",
       "9179          MainScreenAppear  2230705996155527339 2019-08-01 07:54:47    A1\n",
       "9311          MainScreenAppear  5496043151846125970 2019-08-01 07:58:03     B\n",
       "9990   PaymentScreenSuccessful  7035352794299231933 2019-08-01 08:20:27     B\n",
       "12454  PaymentScreenSuccessful  5152160705477623487 2019-08-01 09:35:39    A2\n",
       "13055  PaymentScreenSuccessful  6258460144399027762 2019-08-01 09:53:44    A2\n",
       "14333         CartScreenAppear  1807104407388801321 2019-08-01 10:30:27     B\n",
       "15304  PaymentScreenSuccessful  8125832085431322921 2019-08-01 11:01:10    A1\n",
       "15746  PaymentScreenSuccessful  2877433916175408776 2019-08-01 11:13:21    A2\n",
       "15751  PaymentScreenSuccessful  3528217211962170139 2019-08-01 11:13:23    A2\n",
       "15752  PaymentScreenSuccessful  3528217211962170139 2019-08-01 11:13:23    A2\n",
       "15753  PaymentScreenSuccessful  3528217211962170139 2019-08-01 11:13:23    A2"
      ]
     },
     "execution_count": 12,
     "metadata": {},
     "output_type": "execute_result"
    }
   ],
   "source": [
    "# Попробуем рассмотреть поподробнее, где встречаются дубликаты\n",
    "data[data.duplicated()].sort_values(by=['event_time']).head(20)"
   ]
  },
  {
   "cell_type": "code",
   "execution_count": 13,
   "metadata": {},
   "outputs": [
    {
     "data": {
      "text/html": [
       "<div>\n",
       "<style scoped>\n",
       "    .dataframe tbody tr th:only-of-type {\n",
       "        vertical-align: middle;\n",
       "    }\n",
       "\n",
       "    .dataframe tbody tr th {\n",
       "        vertical-align: top;\n",
       "    }\n",
       "\n",
       "    .dataframe thead th {\n",
       "        text-align: right;\n",
       "    }\n",
       "</style>\n",
       "<table border=\"1\" class=\"dataframe\">\n",
       "  <thead>\n",
       "    <tr style=\"text-align: right;\">\n",
       "      <th></th>\n",
       "      <th>event_name</th>\n",
       "      <th>user_id</th>\n",
       "      <th>event_time</th>\n",
       "      <th>group</th>\n",
       "    </tr>\n",
       "  </thead>\n",
       "  <tbody>\n",
       "    <tr>\n",
       "      <th>15750</th>\n",
       "      <td>PaymentScreenSuccessful</td>\n",
       "      <td>3528217211962170139</td>\n",
       "      <td>2019-08-01 11:13:23</td>\n",
       "      <td>A2</td>\n",
       "    </tr>\n",
       "    <tr>\n",
       "      <th>15751</th>\n",
       "      <td>PaymentScreenSuccessful</td>\n",
       "      <td>3528217211962170139</td>\n",
       "      <td>2019-08-01 11:13:23</td>\n",
       "      <td>A2</td>\n",
       "    </tr>\n",
       "    <tr>\n",
       "      <th>15752</th>\n",
       "      <td>PaymentScreenSuccessful</td>\n",
       "      <td>3528217211962170139</td>\n",
       "      <td>2019-08-01 11:13:23</td>\n",
       "      <td>A2</td>\n",
       "    </tr>\n",
       "    <tr>\n",
       "      <th>15753</th>\n",
       "      <td>PaymentScreenSuccessful</td>\n",
       "      <td>3528217211962170139</td>\n",
       "      <td>2019-08-01 11:13:23</td>\n",
       "      <td>A2</td>\n",
       "    </tr>\n",
       "  </tbody>\n",
       "</table>\n",
       "</div>"
      ],
      "text/plain": [
       "                    event_name              user_id          event_time group\n",
       "15750  PaymentScreenSuccessful  3528217211962170139 2019-08-01 11:13:23    A2\n",
       "15751  PaymentScreenSuccessful  3528217211962170139 2019-08-01 11:13:23    A2\n",
       "15752  PaymentScreenSuccessful  3528217211962170139 2019-08-01 11:13:23    A2\n",
       "15753  PaymentScreenSuccessful  3528217211962170139 2019-08-01 11:13:23    A2"
      ]
     },
     "execution_count": 13,
     "metadata": {},
     "output_type": "execute_result"
    }
   ],
   "source": [
    "# Рассмотрим конкретный выделяющийся случай\n",
    "data[(data['user_id'] == 3528217211962170139) & (data['event_time'] == '2019-08-01 11:13:23')]"
   ]
  },
  {
   "cell_type": "markdown",
   "metadata": {},
   "source": [
    "Видим, что запись повторяется 4 раза, следовательно таких дубликтов может быть и 2, и 3, значит можем удалить их."
   ]
  },
  {
   "cell_type": "code",
   "execution_count": 14,
   "metadata": {},
   "outputs": [],
   "source": [
    "# Удалим явные дубликаты\n",
    "data = data.drop_duplicates().reset_index(drop=True)"
   ]
  },
  {
   "cell_type": "code",
   "execution_count": 15,
   "metadata": {},
   "outputs": [
    {
     "data": {
      "text/html": [
       "<div>\n",
       "<style scoped>\n",
       "    .dataframe tbody tr th:only-of-type {\n",
       "        vertical-align: middle;\n",
       "    }\n",
       "\n",
       "    .dataframe tbody tr th {\n",
       "        vertical-align: top;\n",
       "    }\n",
       "\n",
       "    .dataframe thead th {\n",
       "        text-align: right;\n",
       "    }\n",
       "</style>\n",
       "<table border=\"1\" class=\"dataframe\">\n",
       "  <thead>\n",
       "    <tr style=\"text-align: right;\">\n",
       "      <th></th>\n",
       "      <th>group</th>\n",
       "    </tr>\n",
       "  </thead>\n",
       "  <tbody>\n",
       "    <tr>\n",
       "      <th>B</th>\n",
       "      <td>85582</td>\n",
       "    </tr>\n",
       "    <tr>\n",
       "      <th>A1</th>\n",
       "      <td>80181</td>\n",
       "    </tr>\n",
       "    <tr>\n",
       "      <th>A2</th>\n",
       "      <td>77950</td>\n",
       "    </tr>\n",
       "  </tbody>\n",
       "</table>\n",
       "</div>"
      ],
      "text/plain": [
       "    group\n",
       "B   85582\n",
       "A1  80181\n",
       "A2  77950"
      ]
     },
     "execution_count": 15,
     "metadata": {},
     "output_type": "execute_result"
    }
   ],
   "source": [
    "# Посмотрим на количество пользователей в каждой группе\n",
    "data['group'].value_counts().to_frame()"
   ]
  },
  {
   "cell_type": "markdown",
   "metadata": {},
   "source": [
    "#### 2.3 Добавим отдельный столбец дат"
   ]
  },
  {
   "cell_type": "code",
   "execution_count": 16,
   "metadata": {},
   "outputs": [],
   "source": [
    "# Добаим новый столбец с датой\n",
    "data['date'] = data['event_time'].dt.date"
   ]
  },
  {
   "cell_type": "code",
   "execution_count": 17,
   "metadata": {},
   "outputs": [],
   "source": [
    "# Cкорректируем тип данных столбца date\n",
    "data['date'] = pd.to_datetime(data['date'])"
   ]
  },
  {
   "cell_type": "code",
   "execution_count": 18,
   "metadata": {},
   "outputs": [
    {
     "data": {
      "text/html": [
       "<div>\n",
       "<style scoped>\n",
       "    .dataframe tbody tr th:only-of-type {\n",
       "        vertical-align: middle;\n",
       "    }\n",
       "\n",
       "    .dataframe tbody tr th {\n",
       "        vertical-align: top;\n",
       "    }\n",
       "\n",
       "    .dataframe thead th {\n",
       "        text-align: right;\n",
       "    }\n",
       "</style>\n",
       "<table border=\"1\" class=\"dataframe\">\n",
       "  <thead>\n",
       "    <tr style=\"text-align: right;\">\n",
       "      <th></th>\n",
       "      <th>event_name</th>\n",
       "      <th>user_id</th>\n",
       "      <th>event_time</th>\n",
       "      <th>group</th>\n",
       "      <th>date</th>\n",
       "    </tr>\n",
       "  </thead>\n",
       "  <tbody>\n",
       "    <tr>\n",
       "      <th>0</th>\n",
       "      <td>MainScreenAppear</td>\n",
       "      <td>4575588528974610257</td>\n",
       "      <td>2019-07-25 04:43:36</td>\n",
       "      <td>A1</td>\n",
       "      <td>2019-07-25</td>\n",
       "    </tr>\n",
       "    <tr>\n",
       "      <th>1</th>\n",
       "      <td>MainScreenAppear</td>\n",
       "      <td>7416695313311560658</td>\n",
       "      <td>2019-07-25 11:11:42</td>\n",
       "      <td>A1</td>\n",
       "      <td>2019-07-25</td>\n",
       "    </tr>\n",
       "    <tr>\n",
       "      <th>2</th>\n",
       "      <td>PaymentScreenSuccessful</td>\n",
       "      <td>3518123091307005509</td>\n",
       "      <td>2019-07-25 11:28:47</td>\n",
       "      <td>B</td>\n",
       "      <td>2019-07-25</td>\n",
       "    </tr>\n",
       "    <tr>\n",
       "      <th>3</th>\n",
       "      <td>CartScreenAppear</td>\n",
       "      <td>3518123091307005509</td>\n",
       "      <td>2019-07-25 11:28:47</td>\n",
       "      <td>B</td>\n",
       "      <td>2019-07-25</td>\n",
       "    </tr>\n",
       "    <tr>\n",
       "      <th>4</th>\n",
       "      <td>PaymentScreenSuccessful</td>\n",
       "      <td>6217807653094995999</td>\n",
       "      <td>2019-07-25 11:48:42</td>\n",
       "      <td>B</td>\n",
       "      <td>2019-07-25</td>\n",
       "    </tr>\n",
       "    <tr>\n",
       "      <th>5</th>\n",
       "      <td>CartScreenAppear</td>\n",
       "      <td>6217807653094995999</td>\n",
       "      <td>2019-07-25 11:48:43</td>\n",
       "      <td>B</td>\n",
       "      <td>2019-07-25</td>\n",
       "    </tr>\n",
       "    <tr>\n",
       "      <th>6</th>\n",
       "      <td>OffersScreenAppear</td>\n",
       "      <td>8351860793733343758</td>\n",
       "      <td>2019-07-25 14:50:42</td>\n",
       "      <td>A1</td>\n",
       "      <td>2019-07-25</td>\n",
       "    </tr>\n",
       "    <tr>\n",
       "      <th>7</th>\n",
       "      <td>MainScreenAppear</td>\n",
       "      <td>5682100281902512875</td>\n",
       "      <td>2019-07-25 20:14:37</td>\n",
       "      <td>A1</td>\n",
       "      <td>2019-07-25</td>\n",
       "    </tr>\n",
       "    <tr>\n",
       "      <th>8</th>\n",
       "      <td>MainScreenAppear</td>\n",
       "      <td>1850981295691852772</td>\n",
       "      <td>2019-07-25 20:31:42</td>\n",
       "      <td>A2</td>\n",
       "      <td>2019-07-25</td>\n",
       "    </tr>\n",
       "    <tr>\n",
       "      <th>9</th>\n",
       "      <td>MainScreenAppear</td>\n",
       "      <td>5407636962369102641</td>\n",
       "      <td>2019-07-26 03:35:12</td>\n",
       "      <td>A1</td>\n",
       "      <td>2019-07-26</td>\n",
       "    </tr>\n",
       "  </tbody>\n",
       "</table>\n",
       "</div>"
      ],
      "text/plain": [
       "                event_name              user_id          event_time group  \\\n",
       "0         MainScreenAppear  4575588528974610257 2019-07-25 04:43:36    A1   \n",
       "1         MainScreenAppear  7416695313311560658 2019-07-25 11:11:42    A1   \n",
       "2  PaymentScreenSuccessful  3518123091307005509 2019-07-25 11:28:47     B   \n",
       "3         CartScreenAppear  3518123091307005509 2019-07-25 11:28:47     B   \n",
       "4  PaymentScreenSuccessful  6217807653094995999 2019-07-25 11:48:42     B   \n",
       "5         CartScreenAppear  6217807653094995999 2019-07-25 11:48:43     B   \n",
       "6       OffersScreenAppear  8351860793733343758 2019-07-25 14:50:42    A1   \n",
       "7         MainScreenAppear  5682100281902512875 2019-07-25 20:14:37    A1   \n",
       "8         MainScreenAppear  1850981295691852772 2019-07-25 20:31:42    A2   \n",
       "9         MainScreenAppear  5407636962369102641 2019-07-26 03:35:12    A1   \n",
       "\n",
       "        date  \n",
       "0 2019-07-25  \n",
       "1 2019-07-25  \n",
       "2 2019-07-25  \n",
       "3 2019-07-25  \n",
       "4 2019-07-25  \n",
       "5 2019-07-25  \n",
       "6 2019-07-25  \n",
       "7 2019-07-25  \n",
       "8 2019-07-25  \n",
       "9 2019-07-26  "
      ]
     },
     "execution_count": 18,
     "metadata": {},
     "output_type": "execute_result"
    }
   ],
   "source": [
    "# Посмотрим на итоговые 10 строк датафрейма после предобработки данных\n",
    "data.head(10)"
   ]
  },
  {
   "cell_type": "code",
   "execution_count": 19,
   "metadata": {},
   "outputs": [
    {
     "name": "stdout",
     "output_type": "stream",
     "text": [
      "<class 'pandas.core.frame.DataFrame'>\n",
      "RangeIndex: 243713 entries, 0 to 243712\n",
      "Data columns (total 5 columns):\n",
      " #   Column      Non-Null Count   Dtype         \n",
      "---  ------      --------------   -----         \n",
      " 0   event_name  243713 non-null  object        \n",
      " 1   user_id     243713 non-null  int64         \n",
      " 2   event_time  243713 non-null  datetime64[ns]\n",
      " 3   group       243713 non-null  object        \n",
      " 4   date        243713 non-null  datetime64[ns]\n",
      "dtypes: datetime64[ns](2), int64(1), object(2)\n",
      "memory usage: 9.3+ MB\n"
     ]
    }
   ],
   "source": [
    "# Посмотрим на исходную информацию датафрейма после предобработки данных\n",
    "data.info()"
   ]
  },
  {
   "cell_type": "markdown",
   "metadata": {},
   "source": [
    "### 3. Изучим и проверим данные"
   ]
  },
  {
   "cell_type": "markdown",
   "metadata": {},
   "source": [
    "#### 3.1 Сколько всего событий в логе"
   ]
  },
  {
   "cell_type": "code",
   "execution_count": 20,
   "metadata": {},
   "outputs": [],
   "source": [
    "event_all = data['event_name'].value_counts()"
   ]
  },
  {
   "cell_type": "markdown",
   "metadata": {},
   "source": [
    "Всего **5 уникальных событий** в логе: MainScreenAppear, OffersScreenAppear, CartScreenAppear, PaymentScreenSuccessful, Tutorial.            "
   ]
  },
  {
   "cell_type": "code",
   "execution_count": 21,
   "metadata": {},
   "outputs": [
    {
     "name": "stdout",
     "output_type": "stream",
     "text": [
      "Общее количество событий в логе: 243713\n"
     ]
    }
   ],
   "source": [
    "total_event_name = data['event_name'].count()\n",
    "print ('Общее количество событий в логе:', total_event_name)"
   ]
  },
  {
   "cell_type": "markdown",
   "metadata": {},
   "source": [
    "#### 3.2 Сколько всего пользователей в логе"
   ]
  },
  {
   "cell_type": "code",
   "execution_count": 22,
   "metadata": {},
   "outputs": [
    {
     "name": "stdout",
     "output_type": "stream",
     "text": [
      "Уникальных пользователей в логе: 7551\n"
     ]
    }
   ],
   "source": [
    "unique_user_id = data['user_id'].nunique()\n",
    "print ('Уникальных пользователей в логе:', unique_user_id)"
   ]
  },
  {
   "cell_type": "markdown",
   "metadata": {},
   "source": [
    "#### 3.3 Сколько в среднем событий приходится на пользователя"
   ]
  },
  {
   "cell_type": "code",
   "execution_count": 23,
   "metadata": {},
   "outputs": [
    {
     "name": "stdout",
     "output_type": "stream",
     "text": [
      "Среднее количество событий на пользователя: 20.0\n"
     ]
    }
   ],
   "source": [
    "mean_event_name_on_user = data.groupby('user_id')['event_name'].count().median() \n",
    "# т.к. есть выбросы, используем медианное значение, а не среднее\n",
    "print ('Среднее количество событий на пользователя:', mean_event_name_on_user)"
   ]
  },
  {
   "cell_type": "markdown",
   "metadata": {},
   "source": [
    "#### 3.4 Определим данными за какой период мы располагаем"
   ]
  },
  {
   "cell_type": "code",
   "execution_count": 24,
   "metadata": {},
   "outputs": [
    {
     "name": "stdout",
     "output_type": "stream",
     "text": [
      "Минимальная дата привлечения пользователей: 2019-07-25 04:43:36\n"
     ]
    }
   ],
   "source": [
    "# Определим минимальную дату привлечения пользователей\n",
    "min_analysis_date = data['event_time'].min()\n",
    "print('Минимальная дата привлечения пользователей:', min_analysis_date)"
   ]
  },
  {
   "cell_type": "code",
   "execution_count": 25,
   "metadata": {},
   "outputs": [
    {
     "name": "stdout",
     "output_type": "stream",
     "text": [
      "Максимальная дата привлечения пользователей: 2019-08-07 21:15:17\n"
     ]
    }
   ],
   "source": [
    "# Определим максимальную дату привлечения пользователей\n",
    "max_analysis_date = data['event_time'].max()\n",
    "print('Максимальная дата привлечения пользователей:', max_analysis_date)"
   ]
  },
  {
   "cell_type": "markdown",
   "metadata": {},
   "source": [
    "У нас есть данные за **14 дней**."
   ]
  },
  {
   "cell_type": "code",
   "execution_count": 26,
   "metadata": {
    "scrolled": true
   },
   "outputs": [
    {
     "data": {
      "image/png": "[encoded data removed]",
      "text/plain": [
       "<Figure size 1440x432 with 1 Axes>"
      ]
     },
     "metadata": {
      "needs_background": "light"
     },
     "output_type": "display_data"
    }
   ],
   "source": [
    "data['event_time'].hist(figsize=(20,6), \n",
    "                        color=\"#32B5C9\", \n",
    "                        ec=\"white\", \n",
    "                        grid=True).set_title('Распределение событий по времени');"
   ]
  },
  {
   "cell_type": "markdown",
   "metadata": {},
   "source": [
    "Глядя на гистограмму распределения событий по времени, видим, что у нас одинаково **полные данные только за период с         2019-08-01 по 2019-08-07**. До 1 августа данные не полные, следовательно события за июль можно отбросить."
   ]
  },
  {
   "cell_type": "code",
   "execution_count": 27,
   "metadata": {},
   "outputs": [],
   "source": [
    "# Отбросим данные за июль\n",
    "data = data.query('event_time > \"2019-08-01\"').reset_index(drop=True)"
   ]
  },
  {
   "cell_type": "code",
   "execution_count": 28,
   "metadata": {},
   "outputs": [
    {
     "data": {
      "text/html": [
       "<div>\n",
       "<style scoped>\n",
       "    .dataframe tbody tr th:only-of-type {\n",
       "        vertical-align: middle;\n",
       "    }\n",
       "\n",
       "    .dataframe tbody tr th {\n",
       "        vertical-align: top;\n",
       "    }\n",
       "\n",
       "    .dataframe thead th {\n",
       "        text-align: right;\n",
       "    }\n",
       "</style>\n",
       "<table border=\"1\" class=\"dataframe\">\n",
       "  <thead>\n",
       "    <tr style=\"text-align: right;\">\n",
       "      <th></th>\n",
       "      <th>event_time</th>\n",
       "    </tr>\n",
       "  </thead>\n",
       "  <tbody>\n",
       "    <tr>\n",
       "      <th>0</th>\n",
       "      <td>2019-08-01 00:07:28</td>\n",
       "    </tr>\n",
       "    <tr>\n",
       "      <th>1</th>\n",
       "      <td>2019-08-01 00:08:00</td>\n",
       "    </tr>\n",
       "    <tr>\n",
       "      <th>2</th>\n",
       "      <td>2019-08-01 00:08:55</td>\n",
       "    </tr>\n",
       "    <tr>\n",
       "      <th>3</th>\n",
       "      <td>2019-08-01 00:08:58</td>\n",
       "    </tr>\n",
       "    <tr>\n",
       "      <th>4</th>\n",
       "      <td>2019-08-01 00:08:59</td>\n",
       "    </tr>\n",
       "    <tr>\n",
       "      <th>...</th>\n",
       "      <td>...</td>\n",
       "    </tr>\n",
       "    <tr>\n",
       "      <th>240882</th>\n",
       "      <td>2019-08-07 21:12:25</td>\n",
       "    </tr>\n",
       "    <tr>\n",
       "      <th>240883</th>\n",
       "      <td>2019-08-07 21:13:59</td>\n",
       "    </tr>\n",
       "    <tr>\n",
       "      <th>240884</th>\n",
       "      <td>2019-08-07 21:14:43</td>\n",
       "    </tr>\n",
       "    <tr>\n",
       "      <th>240885</th>\n",
       "      <td>2019-08-07 21:14:58</td>\n",
       "    </tr>\n",
       "    <tr>\n",
       "      <th>240886</th>\n",
       "      <td>2019-08-07 21:15:17</td>\n",
       "    </tr>\n",
       "  </tbody>\n",
       "</table>\n",
       "<p>240887 rows × 1 columns</p>\n",
       "</div>"
      ],
      "text/plain": [
       "                event_time\n",
       "0      2019-08-01 00:07:28\n",
       "1      2019-08-01 00:08:00\n",
       "2      2019-08-01 00:08:55\n",
       "3      2019-08-01 00:08:58\n",
       "4      2019-08-01 00:08:59\n",
       "...                    ...\n",
       "240882 2019-08-07 21:12:25\n",
       "240883 2019-08-07 21:13:59\n",
       "240884 2019-08-07 21:14:43\n",
       "240885 2019-08-07 21:14:58\n",
       "240886 2019-08-07 21:15:17\n",
       "\n",
       "[240887 rows x 1 columns]"
      ]
     },
     "execution_count": 28,
     "metadata": {},
     "output_type": "execute_result"
    }
   ],
   "source": [
    "# Проверим данные за какой период у нас остались\n",
    "data['event_time'].sort_values().to_frame()"
   ]
  },
  {
   "cell_type": "markdown",
   "metadata": {},
   "source": [
    "#### 3.5 Количество событий и пользователей, которое мы потеряли отбросив старые данные"
   ]
  },
  {
   "cell_type": "code",
   "execution_count": 29,
   "metadata": {},
   "outputs": [
    {
     "name": "stdout",
     "output_type": "stream",
     "text": [
      "Общее количество событий в логе, после фильтрации данных: 240887\n"
     ]
    }
   ],
   "source": [
    "new_total_event_name = data['event_name'].count()\n",
    "print ('Общее количество событий в логе, после фильтрации данных:', new_total_event_name)"
   ]
  },
  {
   "cell_type": "code",
   "execution_count": 30,
   "metadata": {},
   "outputs": [
    {
     "name": "stdout",
     "output_type": "stream",
     "text": [
      "Количество потерянных пользователей - 2826, что сотавляет 1.16% от первоначального количества.\n"
     ]
    }
   ],
   "source": [
    "t1 = total_event_name\n",
    "t2 = new_total_event_name \n",
    "print(f'Количество потерянных пользователей - {t1-t2}, что сотавляет {round((t1-t2)/t1*100,2)}% от первоначального количества.')"
   ]
  },
  {
   "cell_type": "code",
   "execution_count": 31,
   "metadata": {},
   "outputs": [
    {
     "name": "stdout",
     "output_type": "stream",
     "text": [
      "Общее количество уникальных пользователей в логе, после фильтрации данных: 7534\n"
     ]
    }
   ],
   "source": [
    "new_unique_user_id = data['user_id'].nunique()\n",
    "print ('Общее количество уникальных пользователей в логе, после фильтрации данных:', new_unique_user_id)"
   ]
  },
  {
   "cell_type": "code",
   "execution_count": 32,
   "metadata": {},
   "outputs": [
    {
     "name": "stdout",
     "output_type": "stream",
     "text": [
      "Количество потерянных событий - 17, что сотавляет 0.23% от первоначального количества.\n"
     ]
    }
   ],
   "source": [
    "s1 = unique_user_id\n",
    "s2 = new_unique_user_id\n",
    "print(f'Количество потерянных событий - {s1-s2}, что сотавляет {round((s1-s2)/s1*100,2)}% от первоначального количества.')"
   ]
  },
  {
   "cell_type": "markdown",
   "metadata": {},
   "source": [
    "#### 3.6 Проверим, что у нас есть пользователи из всех трёх экспериментальных групп"
   ]
  },
  {
   "cell_type": "code",
   "execution_count": 33,
   "metadata": {},
   "outputs": [
    {
     "data": {
      "text/html": [
       "<div>\n",
       "<style scoped>\n",
       "    .dataframe tbody tr th:only-of-type {\n",
       "        vertical-align: middle;\n",
       "    }\n",
       "\n",
       "    .dataframe tbody tr th {\n",
       "        vertical-align: top;\n",
       "    }\n",
       "\n",
       "    .dataframe thead th {\n",
       "        text-align: right;\n",
       "    }\n",
       "</style>\n",
       "<table border=\"1\" class=\"dataframe\">\n",
       "  <thead>\n",
       "    <tr style=\"text-align: right;\">\n",
       "      <th></th>\n",
       "      <th>user_id</th>\n",
       "    </tr>\n",
       "    <tr>\n",
       "      <th>group</th>\n",
       "      <th></th>\n",
       "    </tr>\n",
       "  </thead>\n",
       "  <tbody>\n",
       "    <tr>\n",
       "      <th>A1</th>\n",
       "      <td>2484</td>\n",
       "    </tr>\n",
       "    <tr>\n",
       "      <th>A2</th>\n",
       "      <td>2513</td>\n",
       "    </tr>\n",
       "    <tr>\n",
       "      <th>B</th>\n",
       "      <td>2537</td>\n",
       "    </tr>\n",
       "  </tbody>\n",
       "</table>\n",
       "</div>"
      ],
      "text/plain": [
       "       user_id\n",
       "group         \n",
       "A1        2484\n",
       "A2        2513\n",
       "B         2537"
      ]
     },
     "execution_count": 33,
     "metadata": {},
     "output_type": "execute_result"
    }
   ],
   "source": [
    "data.groupby('group')['user_id'].nunique().to_frame()"
   ]
  },
  {
   "cell_type": "markdown",
   "metadata": {},
   "source": [
    "Пользователей примерно по **2500 в каждой группе**."
   ]
  },
  {
   "cell_type": "markdown",
   "metadata": {},
   "source": [
    "### 4. Изучим воронку событий"
   ]
  },
  {
   "cell_type": "markdown",
   "metadata": {},
   "source": [
    "#### 4.1 Посмотрим, какие события есть в логах, как часто они встречаются. Отсортируем события по частоте"
   ]
  },
  {
   "cell_type": "code",
   "execution_count": 34,
   "metadata": {},
   "outputs": [
    {
     "data": {
      "text/html": [
       "<div>\n",
       "<style scoped>\n",
       "    .dataframe tbody tr th:only-of-type {\n",
       "        vertical-align: middle;\n",
       "    }\n",
       "\n",
       "    .dataframe tbody tr th {\n",
       "        vertical-align: top;\n",
       "    }\n",
       "\n",
       "    .dataframe thead th {\n",
       "        text-align: right;\n",
       "    }\n",
       "</style>\n",
       "<table border=\"1\" class=\"dataframe\">\n",
       "  <thead>\n",
       "    <tr style=\"text-align: right;\">\n",
       "      <th></th>\n",
       "      <th>event_name</th>\n",
       "    </tr>\n",
       "  </thead>\n",
       "  <tbody>\n",
       "    <tr>\n",
       "      <th>MainScreenAppear</th>\n",
       "      <td>117328</td>\n",
       "    </tr>\n",
       "    <tr>\n",
       "      <th>OffersScreenAppear</th>\n",
       "      <td>46333</td>\n",
       "    </tr>\n",
       "    <tr>\n",
       "      <th>CartScreenAppear</th>\n",
       "      <td>42303</td>\n",
       "    </tr>\n",
       "    <tr>\n",
       "      <th>PaymentScreenSuccessful</th>\n",
       "      <td>33918</td>\n",
       "    </tr>\n",
       "    <tr>\n",
       "      <th>Tutorial</th>\n",
       "      <td>1005</td>\n",
       "    </tr>\n",
       "  </tbody>\n",
       "</table>\n",
       "</div>"
      ],
      "text/plain": [
       "                         event_name\n",
       "MainScreenAppear             117328\n",
       "OffersScreenAppear            46333\n",
       "CartScreenAppear              42303\n",
       "PaymentScreenSuccessful       33918\n",
       "Tutorial                       1005"
      ]
     },
     "execution_count": 34,
     "metadata": {},
     "output_type": "execute_result"
    }
   ],
   "source": [
    "# Посмотрим какие события есть в логах и как часто они встречаются\n",
    "data.event_name.value_counts().to_frame()"
   ]
  },
  {
   "cell_type": "code",
   "execution_count": 35,
   "metadata": {
    "scrolled": false
   },
   "outputs": [
    {
     "data": {
      "image/png": "[encoded data removed]",
      "text/plain": [
       "<Figure size 1440x576 with 1 Axes>"
      ]
     },
     "metadata": {
      "needs_background": "light"
     },
     "output_type": "display_data"
    }
   ],
   "source": [
    "# Отобразим результат графически\n",
    "data['event_name'].hist(figsize=(20,8), \n",
    "                        color=\"#32B5C9\", \n",
    "                        ec=\"white\", \n",
    "                        grid=True).set_title('Распределение событий в логах')\n",
    "plt.xlabel('Название события')\n",
    "plt.ylabel('Количество событий');"
   ]
  },
  {
   "cell_type": "markdown",
   "metadata": {},
   "source": [
    "Мы видим что событие **MainScreenAppear (появление основного экрана)** наиболее часто встречающееся, оно случалось 117 328 раз, затем идет **OffersScreenAppear (появление экрана предложений)** - 46 333 раза, дальше по популярности следует событие **CartScreenAppear (появление экрана корзины)**, оно случалось 42 303 раза, потом **PaymentScreenSuccessful (экран платеж успешен)** - 33 918 раз, и завершает всё событие **Tutorial (руководство пользователя)**, оно случилось 1 005 раз. "
   ]
  },
  {
   "cell_type": "markdown",
   "metadata": {},
   "source": [
    "#### 4.2 Посчитаем, сколько пользователей совершали каждое из этих событий. Отсортируем события по числу пользователей. Посчитаем долю пользователей, которые хоть раз совершали событие"
   ]
  },
  {
   "cell_type": "code",
   "execution_count": 36,
   "metadata": {
    "scrolled": true
   },
   "outputs": [],
   "source": [
    "# Выведем количество событий и сколько пользователей совершали каждое из этих событий\n",
    "event_users = data.groupby('event_name')['user_id'].nunique().reset_index().sort_values(by='user_id', ascending=False)\n",
    "# Посчитаем долю пользователей, которые хоть раз совершали событие\n",
    "event_users['event_commit_share'] = (event_users['user_id'] / new_unique_user_id * 100).round(2)"
   ]
  },
  {
   "cell_type": "code",
   "execution_count": 37,
   "metadata": {},
   "outputs": [
    {
     "data": {
      "text/html": [
       "<div>\n",
       "<style scoped>\n",
       "    .dataframe tbody tr th:only-of-type {\n",
       "        vertical-align: middle;\n",
       "    }\n",
       "\n",
       "    .dataframe tbody tr th {\n",
       "        vertical-align: top;\n",
       "    }\n",
       "\n",
       "    .dataframe thead th {\n",
       "        text-align: right;\n",
       "    }\n",
       "</style>\n",
       "<table border=\"1\" class=\"dataframe\">\n",
       "  <thead>\n",
       "    <tr style=\"text-align: right;\">\n",
       "      <th></th>\n",
       "      <th>event_name</th>\n",
       "      <th>user_id</th>\n",
       "      <th>event_commit_share</th>\n",
       "    </tr>\n",
       "  </thead>\n",
       "  <tbody>\n",
       "    <tr>\n",
       "      <th>0</th>\n",
       "      <td>MainScreenAppear</td>\n",
       "      <td>7419</td>\n",
       "      <td>98.47</td>\n",
       "    </tr>\n",
       "    <tr>\n",
       "      <th>1</th>\n",
       "      <td>OffersScreenAppear</td>\n",
       "      <td>4593</td>\n",
       "      <td>60.96</td>\n",
       "    </tr>\n",
       "    <tr>\n",
       "      <th>2</th>\n",
       "      <td>CartScreenAppear</td>\n",
       "      <td>3734</td>\n",
       "      <td>49.56</td>\n",
       "    </tr>\n",
       "    <tr>\n",
       "      <th>3</th>\n",
       "      <td>PaymentScreenSuccessful</td>\n",
       "      <td>3539</td>\n",
       "      <td>46.97</td>\n",
       "    </tr>\n",
       "    <tr>\n",
       "      <th>4</th>\n",
       "      <td>Tutorial</td>\n",
       "      <td>840</td>\n",
       "      <td>11.15</td>\n",
       "    </tr>\n",
       "  </tbody>\n",
       "</table>\n",
       "</div>"
      ],
      "text/plain": [
       "                event_name  user_id  event_commit_share\n",
       "0         MainScreenAppear     7419               98.47\n",
       "1       OffersScreenAppear     4593               60.96\n",
       "2         CartScreenAppear     3734               49.56\n",
       "3  PaymentScreenSuccessful     3539               46.97\n",
       "4                 Tutorial      840               11.15"
      ]
     },
     "execution_count": 37,
     "metadata": {},
     "output_type": "execute_result"
    }
   ],
   "source": [
    "event_users = event_users.reset_index(drop=True)\n",
    "event_users"
   ]
  },
  {
   "cell_type": "code",
   "execution_count": 38,
   "metadata": {},
   "outputs": [
    {
     "data": {
      "image/png": "[encoded data removed]",
      "text/plain": [
       "<Figure size 864x432 with 1 Axes>"
      ]
     },
     "metadata": {
      "needs_background": "light"
     },
     "output_type": "display_data"
    }
   ],
   "source": [
    "# Отобразим результат графически\n",
    "plt.figure(figsize=(12,6))\n",
    "# plt.bar(x=events_users['event'], height=events_users[\"part_event\"], width=0.7, color='green')\n",
    "sns.barplot(y='user_id', x='event_name', data=event_users, palette='pastel')\n",
    "plt.xlabel('Название события')\n",
    "plt.grid()\n",
    "plt.ylabel('Количествово пользователей')\n",
    "plt.title('События по числу пользователей')\n",
    "plt.show();"
   ]
  },
  {
   "cell_type": "markdown",
   "metadata": {},
   "source": [
    "Мы видим что событие **MainScreenAppear (появление основного экрана)** среди пользователей проявляется чаще всего - 7 419 человек, затем идет **OffersScreenAppear (появление экрана предложений)** - 4 593 человека, дальше по популярности следует событие **CartScreenAppear (появление экрана корзины)**, до него долши 3 734 пользователя, потом **PaymentScreenSuccessful (экран платеж успешен)** - 3 539 человека, и завершает всё событие **Tutorial (руководство пользователя)**, его совершили 840 человек. "
   ]
  },
  {
   "cell_type": "markdown",
   "metadata": {},
   "source": [
    "#### 4.3 Предположим, в каком порядке происходят события"
   ]
  },
  {
   "cell_type": "markdown",
   "metadata": {},
   "source": [
    "Предположу, что события располагаются в следующем порядке:\n",
    "- 1. MainScreenAppear - пользователь зашел в приложение;\n",
    "- 2. OffersScreenAppear - пользователь открыл каталог товаров;\n",
    "- 3. CartScreenAppear - пользователь добавил товар в корзину;\n",
    "- 4. PaymentScreenSuccessful - пользователь оплатил товар;\n",
    " \n",
    " \n",
    " Tutorial - руководство пользователя, выбивается из логической цепочки."
   ]
  },
  {
   "cell_type": "markdown",
   "metadata": {},
   "source": [
    "#### 4.4 По воронке событий посчитаем, какая доля пользователей проходит на следующий шаг воронки (от числа пользователей на предыдущем)"
   ]
  },
  {
   "cell_type": "code",
   "execution_count": 39,
   "metadata": {},
   "outputs": [
    {
     "data": {
      "text/html": [
       "<div>\n",
       "<style scoped>\n",
       "    .dataframe tbody tr th:only-of-type {\n",
       "        vertical-align: middle;\n",
       "    }\n",
       "\n",
       "    .dataframe tbody tr th {\n",
       "        vertical-align: top;\n",
       "    }\n",
       "\n",
       "    .dataframe thead th {\n",
       "        text-align: right;\n",
       "    }\n",
       "</style>\n",
       "<table border=\"1\" class=\"dataframe\">\n",
       "  <thead>\n",
       "    <tr style=\"text-align: right;\">\n",
       "      <th></th>\n",
       "      <th>event_name</th>\n",
       "      <th>user_id</th>\n",
       "      <th>event_commit_share</th>\n",
       "      <th>share_from_previous_users</th>\n",
       "    </tr>\n",
       "  </thead>\n",
       "  <tbody>\n",
       "    <tr>\n",
       "      <th>0</th>\n",
       "      <td>MainScreenAppear</td>\n",
       "      <td>7419</td>\n",
       "      <td>98.47</td>\n",
       "      <td>100.00</td>\n",
       "    </tr>\n",
       "    <tr>\n",
       "      <th>1</th>\n",
       "      <td>OffersScreenAppear</td>\n",
       "      <td>4593</td>\n",
       "      <td>60.96</td>\n",
       "      <td>61.91</td>\n",
       "    </tr>\n",
       "    <tr>\n",
       "      <th>2</th>\n",
       "      <td>CartScreenAppear</td>\n",
       "      <td>3734</td>\n",
       "      <td>49.56</td>\n",
       "      <td>81.30</td>\n",
       "    </tr>\n",
       "    <tr>\n",
       "      <th>3</th>\n",
       "      <td>PaymentScreenSuccessful</td>\n",
       "      <td>3539</td>\n",
       "      <td>46.97</td>\n",
       "      <td>94.78</td>\n",
       "    </tr>\n",
       "  </tbody>\n",
       "</table>\n",
       "</div>"
      ],
      "text/plain": [
       "                event_name  user_id  event_commit_share  \\\n",
       "0         MainScreenAppear     7419               98.47   \n",
       "1       OffersScreenAppear     4593               60.96   \n",
       "2         CartScreenAppear     3734               49.56   \n",
       "3  PaymentScreenSuccessful     3539               46.97   \n",
       "\n",
       "   share_from_previous_users  \n",
       "0                     100.00  \n",
       "1                      61.91  \n",
       "2                      81.30  \n",
       "3                      94.78  "
      ]
     },
     "execution_count": 39,
     "metadata": {},
     "output_type": "execute_result"
    }
   ],
   "source": [
    "# Исключим событие Tutorial из расчета воронки\n",
    "event_users = event_users.query('event_name != \"Tutorial\"')\n",
    "\n",
    "previous_users = event_users.loc[0,'user_id']\n",
    "for i in event_users.index:\n",
    "    event_users.loc[i,'share_from_previous_users'] = (event_users.loc[i,'user_id'] / previous_users * 100).round(2)\n",
    "    previous_users = event_users.loc[i,'user_id']\n",
    "\n",
    "event_users  "
   ]
  },
  {
   "cell_type": "markdown",
   "metadata": {},
   "source": [
    "Из таблицы видно, что почти 62% пользователей с главного меню приложения перешли в каталог товаров, далее доля тех, кто оказался в меню каталога товаров и добавил товар в корзину составина 81.3%, и практичеки 95% из тех, кто оказался в меню с корзиной оплатили товар. "
   ]
  },
  {
   "cell_type": "markdown",
   "metadata": {},
   "source": [
    "#### 4.5 Шаг, на котором мы теряем больше всего пользователей\n"
   ]
  },
  {
   "cell_type": "markdown",
   "metadata": {},
   "source": [
    "Из таблицы выше видно, что больше всего пользователей - 38%, потеряно при переходе с главной страницы в каталог товаров. Возможно, есть что-то, что мешает, отпугивает пользователей на первом экране (MainScreenAppear)."
   ]
  },
  {
   "cell_type": "markdown",
   "metadata": {},
   "source": [
    "#### 4.6 Доля пользователей, которая доходит от первого события до оплаты"
   ]
  },
  {
   "cell_type": "code",
   "execution_count": 41,
   "metadata": {},
   "outputs": [
    {
     "data": {
      "text/html": [
       "<div>\n",
       "<style scoped>\n",
       "    .dataframe tbody tr th:only-of-type {\n",
       "        vertical-align: middle;\n",
       "    }\n",
       "\n",
       "    .dataframe tbody tr th {\n",
       "        vertical-align: top;\n",
       "    }\n",
       "\n",
       "    .dataframe thead th {\n",
       "        text-align: right;\n",
       "    }\n",
       "</style>\n",
       "<table border=\"1\" class=\"dataframe\">\n",
       "  <thead>\n",
       "    <tr style=\"text-align: right;\">\n",
       "      <th></th>\n",
       "      <th>event_name</th>\n",
       "      <th>user_id</th>\n",
       "      <th>event_commit_share</th>\n",
       "      <th>share_from_previous_users</th>\n",
       "      <th>share_from_start_users</th>\n",
       "    </tr>\n",
       "  </thead>\n",
       "  <tbody>\n",
       "    <tr>\n",
       "      <th>0</th>\n",
       "      <td>MainScreenAppear</td>\n",
       "      <td>7419</td>\n",
       "      <td>98.47</td>\n",
       "      <td>100.00</td>\n",
       "      <td>100.00</td>\n",
       "    </tr>\n",
       "    <tr>\n",
       "      <th>1</th>\n",
       "      <td>OffersScreenAppear</td>\n",
       "      <td>4593</td>\n",
       "      <td>60.96</td>\n",
       "      <td>61.91</td>\n",
       "      <td>61.91</td>\n",
       "    </tr>\n",
       "    <tr>\n",
       "      <th>2</th>\n",
       "      <td>CartScreenAppear</td>\n",
       "      <td>3734</td>\n",
       "      <td>49.56</td>\n",
       "      <td>81.30</td>\n",
       "      <td>50.33</td>\n",
       "    </tr>\n",
       "    <tr>\n",
       "      <th>3</th>\n",
       "      <td>PaymentScreenSuccessful</td>\n",
       "      <td>3539</td>\n",
       "      <td>46.97</td>\n",
       "      <td>94.78</td>\n",
       "      <td>47.70</td>\n",
       "    </tr>\n",
       "  </tbody>\n",
       "</table>\n",
       "</div>"
      ],
      "text/plain": [
       "                event_name  user_id  event_commit_share  \\\n",
       "0         MainScreenAppear     7419               98.47   \n",
       "1       OffersScreenAppear     4593               60.96   \n",
       "2         CartScreenAppear     3734               49.56   \n",
       "3  PaymentScreenSuccessful     3539               46.97   \n",
       "\n",
       "   share_from_previous_users  share_from_start_users  \n",
       "0                     100.00                  100.00  \n",
       "1                      61.91                   61.91  \n",
       "2                      81.30                   50.33  \n",
       "3                      94.78                   47.70  "
      ]
     },
     "execution_count": 41,
     "metadata": {},
     "output_type": "execute_result"
    }
   ],
   "source": [
    "start_users = event_users.loc[0,'user_id']\n",
    "for i in event_users.index:\n",
    "    event_users.loc[i,'share_from_start_users'] = (event_users.loc[i,'user_id'] / start_users * 100).round(2)\n",
    "\n",
    "event_users"
   ]
  },
  {
   "cell_type": "markdown",
   "metadata": {},
   "source": [
    "Из таблицы видно, что от события **MainScreenAppear** до события **PaymentScreenSuccessful** дошло почти 48% пользователей."
   ]
  },
  {
   "cell_type": "markdown",
   "metadata": {},
   "source": [
    "### 5. Изучим результаты эксперимента"
   ]
  },
  {
   "cell_type": "markdown",
   "metadata": {},
   "source": [
    "#### 5.1 Сколько пользователей в каждой экспериментальной группе"
   ]
  },
  {
   "cell_type": "code",
   "execution_count": 43,
   "metadata": {},
   "outputs": [
    {
     "data": {
      "text/html": [
       "<div>\n",
       "<style scoped>\n",
       "    .dataframe tbody tr th:only-of-type {\n",
       "        vertical-align: middle;\n",
       "    }\n",
       "\n",
       "    .dataframe tbody tr th {\n",
       "        vertical-align: top;\n",
       "    }\n",
       "\n",
       "    .dataframe thead th {\n",
       "        text-align: right;\n",
       "    }\n",
       "</style>\n",
       "<table border=\"1\" class=\"dataframe\">\n",
       "  <thead>\n",
       "    <tr style=\"text-align: right;\">\n",
       "      <th></th>\n",
       "      <th>user_id</th>\n",
       "    </tr>\n",
       "    <tr>\n",
       "      <th>group</th>\n",
       "      <th></th>\n",
       "    </tr>\n",
       "  </thead>\n",
       "  <tbody>\n",
       "    <tr>\n",
       "      <th>A1</th>\n",
       "      <td>2484</td>\n",
       "    </tr>\n",
       "    <tr>\n",
       "      <th>A2</th>\n",
       "      <td>2513</td>\n",
       "    </tr>\n",
       "    <tr>\n",
       "      <th>B</th>\n",
       "      <td>2537</td>\n",
       "    </tr>\n",
       "    <tr>\n",
       "      <th>A1+A2</th>\n",
       "      <td>4997</td>\n",
       "    </tr>\n",
       "  </tbody>\n",
       "</table>\n",
       "</div>"
      ],
      "text/plain": [
       "       user_id\n",
       "group         \n",
       "A1        2484\n",
       "A2        2513\n",
       "B         2537\n",
       "A1+A2     4997"
      ]
     },
     "execution_count": 43,
     "metadata": {},
     "output_type": "execute_result"
    }
   ],
   "source": [
    "data_groups = data.groupby('group')['user_id'].nunique()\n",
    "data_groups['A1+A2'] = data_groups['A1'] + data_groups['A2']\n",
    "data_groups.to_frame()"
   ]
  },
  {
   "cell_type": "markdown",
   "metadata": {},
   "source": [
    "Пользователей разбили на 3 группы: 2 контрольные со старыми шрифтами (А1 и А2) и одну экспериментальную — с новыми (В).\n",
    "\n",
    "В группе А1 - 2 484 пользователя.\n",
    "\n",
    "В группе А2 - 2 513 пользователей.\n",
    "\n",
    "В группе В - 2 537 пользователей.\n",
    "\n",
    "В группе А1+А2 - 4 997 пользователей."
   ]
  },
  {
   "cell_type": "code",
   "execution_count": 44,
   "metadata": {},
   "outputs": [
    {
     "data": {
      "text/plain": [
       "array([], dtype=int64)"
      ]
     },
     "metadata": {},
     "output_type": "display_data"
    },
    {
     "name": "stdout",
     "output_type": "stream",
     "text": [
      "Количество одинаковых пользователей в трех группах: 0\n",
      "Всего пользователей в тесте: 7534\n"
     ]
    }
   ],
   "source": [
    "# Проверим корректность разделения пользователей по группам\n",
    "group_a1 = data[data['group'] == 'A1']['user_id']\n",
    "group_a2 = data[data['group'] == 'A2']['user_id']\n",
    "group_b = data[data['group'] == 'B']['user_id']\n",
    "both_group = data.query('user_id in @group_a1 and user_id in @group_a2 and user_id in@group_b')\n",
    "display(both_group['user_id'].unique())\n",
    "print('Количество одинаковых пользователей в трех группах:', both_group['user_id'].nunique())\n",
    "print('Всего пользователей в тесте:', data['user_id'].nunique())"
   ]
  },
  {
   "cell_type": "markdown",
   "metadata": {},
   "source": [
    "Пользователи между собой в группах не пересекались."
   ]
  },
  {
   "cell_type": "markdown",
   "metadata": {},
   "source": [
    "#### 5.2 А1/А2/B - тесты"
   ]
  },
  {
   "cell_type": "code",
   "execution_count": 46,
   "metadata": {},
   "outputs": [
    {
     "data": {
      "text/html": [
       "<div>\n",
       "<style scoped>\n",
       "    .dataframe tbody tr th:only-of-type {\n",
       "        vertical-align: middle;\n",
       "    }\n",
       "\n",
       "    .dataframe tbody tr th {\n",
       "        vertical-align: top;\n",
       "    }\n",
       "\n",
       "    .dataframe thead th {\n",
       "        text-align: right;\n",
       "    }\n",
       "</style>\n",
       "<table border=\"1\" class=\"dataframe\">\n",
       "  <thead>\n",
       "    <tr style=\"text-align: right;\">\n",
       "      <th>event_name</th>\n",
       "      <th>CartScreenAppear</th>\n",
       "      <th>MainScreenAppear</th>\n",
       "      <th>OffersScreenAppear</th>\n",
       "      <th>PaymentScreenSuccessful</th>\n",
       "    </tr>\n",
       "    <tr>\n",
       "      <th>group</th>\n",
       "      <th></th>\n",
       "      <th></th>\n",
       "      <th></th>\n",
       "      <th></th>\n",
       "    </tr>\n",
       "  </thead>\n",
       "  <tbody>\n",
       "    <tr>\n",
       "      <th>A1</th>\n",
       "      <td>1266</td>\n",
       "      <td>2450</td>\n",
       "      <td>1542</td>\n",
       "      <td>1200</td>\n",
       "    </tr>\n",
       "    <tr>\n",
       "      <th>A2</th>\n",
       "      <td>1238</td>\n",
       "      <td>2476</td>\n",
       "      <td>1520</td>\n",
       "      <td>1158</td>\n",
       "    </tr>\n",
       "    <tr>\n",
       "      <th>B</th>\n",
       "      <td>1230</td>\n",
       "      <td>2493</td>\n",
       "      <td>1531</td>\n",
       "      <td>1181</td>\n",
       "    </tr>\n",
       "  </tbody>\n",
       "</table>\n",
       "</div>"
      ],
      "text/plain": [
       "event_name  CartScreenAppear  MainScreenAppear  OffersScreenAppear  \\\n",
       "group                                                                \n",
       "A1                      1266              2450                1542   \n",
       "A2                      1238              2476                1520   \n",
       "B                       1230              2493                1531   \n",
       "\n",
       "event_name  PaymentScreenSuccessful  \n",
       "group                                \n",
       "A1                             1200  \n",
       "A2                             1158  \n",
       "B                              1181  "
      ]
     },
     "execution_count": 46,
     "metadata": {},
     "output_type": "execute_result"
    }
   ],
   "source": [
    "# Сделам таблицу с числом уникальных пользователей по событиям и контрольным группам\n",
    "data_funnel = data.pivot_table(index='group',columns = 'event_name', values='user_id',aggfunc='nunique')\n",
    "del data_funnel['Tutorial']\n",
    "data_funnel"
   ]
  },
  {
   "cell_type": "markdown",
   "metadata": {},
   "source": [
    "Разбиение на группы довольно равномерно, его можно считать корректным."
   ]
  },
  {
   "cell_type": "code",
   "execution_count": 47,
   "metadata": {},
   "outputs": [
    {
     "data": {
      "text/html": [
       "<div>\n",
       "<style scoped>\n",
       "    .dataframe tbody tr th:only-of-type {\n",
       "        vertical-align: middle;\n",
       "    }\n",
       "\n",
       "    .dataframe tbody tr th {\n",
       "        vertical-align: top;\n",
       "    }\n",
       "\n",
       "    .dataframe thead th {\n",
       "        text-align: right;\n",
       "    }\n",
       "</style>\n",
       "<table border=\"1\" class=\"dataframe\">\n",
       "  <thead>\n",
       "    <tr style=\"text-align: right;\">\n",
       "      <th>group</th>\n",
       "      <th>event_name</th>\n",
       "      <th>A1</th>\n",
       "      <th>A2</th>\n",
       "      <th>B</th>\n",
       "      <th>A1+A2</th>\n",
       "      <th>total</th>\n",
       "      <th>step_A1</th>\n",
       "      <th>step_A2</th>\n",
       "      <th>step_B</th>\n",
       "      <th>step_A1+A2</th>\n",
       "    </tr>\n",
       "  </thead>\n",
       "  <tbody>\n",
       "    <tr>\n",
       "      <th>0</th>\n",
       "      <td>MainScreenAppear</td>\n",
       "      <td>2450</td>\n",
       "      <td>2476</td>\n",
       "      <td>2493</td>\n",
       "      <td>4926</td>\n",
       "      <td>7419</td>\n",
       "      <td>98.63</td>\n",
       "      <td>98.53</td>\n",
       "      <td>98.27</td>\n",
       "      <td>98.58</td>\n",
       "    </tr>\n",
       "    <tr>\n",
       "      <th>1</th>\n",
       "      <td>OffersScreenAppear</td>\n",
       "      <td>1542</td>\n",
       "      <td>1520</td>\n",
       "      <td>1531</td>\n",
       "      <td>3062</td>\n",
       "      <td>4593</td>\n",
       "      <td>62.08</td>\n",
       "      <td>60.49</td>\n",
       "      <td>60.35</td>\n",
       "      <td>61.28</td>\n",
       "    </tr>\n",
       "    <tr>\n",
       "      <th>2</th>\n",
       "      <td>CartScreenAppear</td>\n",
       "      <td>1266</td>\n",
       "      <td>1238</td>\n",
       "      <td>1230</td>\n",
       "      <td>2504</td>\n",
       "      <td>3734</td>\n",
       "      <td>50.97</td>\n",
       "      <td>49.26</td>\n",
       "      <td>48.48</td>\n",
       "      <td>50.11</td>\n",
       "    </tr>\n",
       "    <tr>\n",
       "      <th>3</th>\n",
       "      <td>PaymentScreenSuccessful</td>\n",
       "      <td>1200</td>\n",
       "      <td>1158</td>\n",
       "      <td>1181</td>\n",
       "      <td>2358</td>\n",
       "      <td>3539</td>\n",
       "      <td>48.31</td>\n",
       "      <td>46.08</td>\n",
       "      <td>46.55</td>\n",
       "      <td>47.19</td>\n",
       "    </tr>\n",
       "  </tbody>\n",
       "</table>\n",
       "</div>"
      ],
      "text/plain": [
       "group               event_name    A1    A2     B  A1+A2  total  step_A1  \\\n",
       "0             MainScreenAppear  2450  2476  2493   4926   7419    98.63   \n",
       "1           OffersScreenAppear  1542  1520  1531   3062   4593    62.08   \n",
       "2             CartScreenAppear  1266  1238  1230   2504   3734    50.97   \n",
       "3      PaymentScreenSuccessful  1200  1158  1181   2358   3539    48.31   \n",
       "\n",
       "group  step_A2  step_B  step_A1+A2  \n",
       "0        98.53   98.27       98.58  \n",
       "1        60.49   60.35       61.28  \n",
       "2        49.26   48.48       50.11  \n",
       "3        46.08   46.55       47.19  "
      ]
     },
     "execution_count": 47,
     "metadata": {},
     "output_type": "execute_result"
    }
   ],
   "source": [
    "# Для проведения тестов составим таблицу event_group_test, где указано число пользователей в воронке, \n",
    "# идущей по событиям и по всем группам\n",
    "event_group_test = data.query('event_name != \"Tutorial\"').pivot_table(\n",
    "    index='event_name', \n",
    "    columns='group', \n",
    "    values='user_id',\n",
    "    aggfunc='nunique').sort_values(by='A1', ascending=False)\n",
    "\n",
    "event_group_test = event_group_test.reset_index()\n",
    "event_group_test['A1+A2'] = event_group_test['A1'] + event_group_test['A2']\n",
    "event_group_test['total'] = event_group_test['A1+A2'] + event_group_test['B']\n",
    "\n",
    "event_group_test['step_A1'] = (event_group_test['A1'] / data_groups['A1'] * 100).round(2)\n",
    "event_group_test['step_A2'] = (event_group_test['A2'] / data_groups['A2'] * 100).round(2)\n",
    "event_group_test['step_B'] = (event_group_test['B'] / data_groups['B'] * 100).round(2)\n",
    "event_group_test['step_A1+A2'] = ((event_group_test['A1'] + event_group_test['A2']) / \n",
    "                                  (data_groups['A1'] + data_groups['A2']) * 100).round(2)\n",
    "\n",
    "event_group_test"
   ]
  },
  {
   "cell_type": "markdown",
   "metadata": {},
   "source": [
    "Самым популярным событием является **MainScreenAppear - появление главного экрана в приложении**, его совершило 7 419 пользователей.\n",
    "\n",
    "В разрезе групп это выглядит так:\n",
    "- А1 - 2 450 пользователей;\n",
    "- А2 - 2 476 пользователей;\n",
    "- В - 2 493 пользователя.\n",
    "\n",
    "Доля пользователей, совершививших самое популярное событие:\n",
    "\n",
    "- А1 - 98.6%;\n",
    "- A2 - 98.5%;\n",
    "- B - 98.3%."
   ]
  },
  {
   "cell_type": "markdown",
   "metadata": {},
   "source": [
    "##### 5.2.1 A1/A2 - тест"
   ]
  },
  {
   "cell_type": "markdown",
   "metadata": {},
   "source": [
    "**Сформулируем гипотезы. Нулевая гипотеза: доли в двух выборках равны. Альтернативная гипотеза: доли в двух выборках не равны.** \n",
    "\n",
    "Уровень статистической значимости примем равным 1%, т.к. группы А1 и А2 должны быть одинаковыми, то и контроль строже."
   ]
  },
  {
   "cell_type": "code",
   "execution_count": 48,
   "metadata": {},
   "outputs": [
    {
     "name": "stdout",
     "output_type": "stream",
     "text": [
      "MainScreenAppear p-значение: 0.7570597232046099\n",
      "Не получилось отвергнуть нулевую гипотезу, нет оснований считать доли разными\n",
      "\n",
      "OffersScreenAppear p-значение: 0.2480954578522181\n",
      "Не получилось отвергнуть нулевую гипотезу, нет оснований считать доли разными\n",
      "\n",
      "CartScreenAppear p-значение: 0.22883372237997213\n",
      "Не получилось отвергнуть нулевую гипотезу, нет оснований считать доли разными\n",
      "\n",
      "PaymentScreenSuccessful p-значение: 0.11456679313141849\n",
      "Не получилось отвергнуть нулевую гипотезу, нет оснований считать доли разными\n",
      "\n"
     ]
    }
   ],
   "source": [
    "# Напишем функцию z_test для проведения тестов, на вход подаются 3 параметра:\n",
    "# наименование первой группы, наименование второй группы, alpha - уровень статистической значимости:\n",
    "def z_test (group1, group2, alpha):\n",
    "    for i in event_group_test.index:\n",
    "        p1 = event_group_test[group1][i] / data_groups[group1]\n",
    "        # пропорция успехов во второй группе:\n",
    "        p2 = event_group_test[group2][i] / data_groups[group2]\n",
    "        # пропорция успехов в комбинированном датасете:\n",
    "        p_combined = ((event_group_test[group1][i] + event_group_test[group2][i]) / \n",
    "                      (data_groups[group1] + data_groups[group2]))\n",
    "        # разница пропорций в датасетах\n",
    "        difference = p1 - p2\n",
    "        # считаем статистику в ст.отклонениях стандартного нормального распределения\n",
    "        z_value = difference / mth.sqrt(p_combined * (1 - p_combined) * \n",
    "                                        (1/data_groups[group1] + 1/data_groups[group2]))\n",
    "        # задаем стандартное нормальное распределение (среднее 0, ст.отклонение 1)\n",
    "        distr = st.norm(0, 1) \n",
    "        \n",
    "        p_value = (1 - distr.cdf(abs(z_value))) * 2\n",
    "        print('{} p-значение: {}'.format(event_group_test['event_name'][i], p_value))\n",
    "        if (p_value < alpha):\n",
    "            print(\"Отвергаем нулевую гипотезу: между долями есть значимая разница\")\n",
    "        else:\n",
    "            print(\"Не получилось отвергнуть нулевую гипотезу, нет оснований считать доли разными\")\n",
    "        print('')\n",
    "        \n",
    "z_test(\"A1\", \"A2\", 0.01)"
   ]
  },
  {
   "cell_type": "markdown",
   "metadata": {},
   "source": [
    "**По результатам A1/A2 тестирования для всех событий разница не оказалось значимой, следовательно эти группы можем считать контрольными.**"
   ]
  },
  {
   "cell_type": "markdown",
   "metadata": {},
   "source": [
    "Так как для A/B теста не нужна высокая точность, то для дальнейших экспериментов примем уровень значимости равный 5%."
   ]
  },
  {
   "cell_type": "markdown",
   "metadata": {},
   "source": [
    "##### 5.2.2 A1/B - тест"
   ]
  },
  {
   "cell_type": "code",
   "execution_count": 49,
   "metadata": {},
   "outputs": [
    {
     "name": "stdout",
     "output_type": "stream",
     "text": [
      "MainScreenAppear p-значение: 0.2949721933554552\n",
      "Не получилось отвергнуть нулевую гипотезу, нет оснований считать доли разными\n",
      "\n",
      "OffersScreenAppear p-значение: 0.20836205402738917\n",
      "Не получилось отвергнуть нулевую гипотезу, нет оснований считать доли разными\n",
      "\n",
      "CartScreenAppear p-значение: 0.07842923237520116\n",
      "Не получилось отвергнуть нулевую гипотезу, нет оснований считать доли разными\n",
      "\n",
      "PaymentScreenSuccessful p-значение: 0.2122553275697796\n",
      "Не получилось отвергнуть нулевую гипотезу, нет оснований считать доли разными\n",
      "\n"
     ]
    }
   ],
   "source": [
    "z_test(\"A1\", \"B\", 0.05)"
   ]
  },
  {
   "cell_type": "markdown",
   "metadata": {},
   "source": [
    "**Значимой разницы между контрольной группой А1 и экспериментальной группой В не выявлено.**"
   ]
  },
  {
   "cell_type": "markdown",
   "metadata": {},
   "source": [
    "##### 5.2.3 A2/B - тест"
   ]
  },
  {
   "cell_type": "code",
   "execution_count": 50,
   "metadata": {},
   "outputs": [
    {
     "name": "stdout",
     "output_type": "stream",
     "text": [
      "MainScreenAppear p-значение: 0.4587053616621515\n",
      "Не получилось отвергнуть нулевую гипотезу, нет оснований считать доли разными\n",
      "\n",
      "OffersScreenAppear p-значение: 0.9197817830592261\n",
      "Не получилось отвергнуть нулевую гипотезу, нет оснований считать доли разными\n",
      "\n",
      "CartScreenAppear p-значение: 0.5786197879539783\n",
      "Не получилось отвергнуть нулевую гипотезу, нет оснований считать доли разными\n",
      "\n",
      "PaymentScreenSuccessful p-значение: 0.7373415053803964\n",
      "Не получилось отвергнуть нулевую гипотезу, нет оснований считать доли разными\n",
      "\n"
     ]
    }
   ],
   "source": [
    "z_test(\"A2\", \"B\", 0.05)"
   ]
  },
  {
   "cell_type": "markdown",
   "metadata": {},
   "source": [
    "**Значимой разницы между контрольной группой А2 и экспериментальной группой В не выявлено.**"
   ]
  },
  {
   "cell_type": "markdown",
   "metadata": {},
   "source": [
    "##### 5.2.4 A1/A2/B - тест"
   ]
  },
  {
   "cell_type": "code",
   "execution_count": 51,
   "metadata": {},
   "outputs": [
    {
     "name": "stdout",
     "output_type": "stream",
     "text": [
      "MainScreenAppear p-значение: 0.29424526837179577\n",
      "Не получилось отвергнуть нулевую гипотезу, нет оснований считать доли разными\n",
      "\n",
      "OffersScreenAppear p-значение: 0.43425549655188256\n",
      "Не получилось отвергнуть нулевую гипотезу, нет оснований считать доли разными\n",
      "\n",
      "CartScreenAppear p-значение: 0.18175875284404386\n",
      "Не получилось отвергнуть нулевую гипотезу, нет оснований считать доли разными\n",
      "\n",
      "PaymentScreenSuccessful p-значение: 0.6004294282308704\n",
      "Не получилось отвергнуть нулевую гипотезу, нет оснований считать доли разными\n",
      "\n"
     ]
    }
   ],
   "source": [
    "z_test(\"A1+A2\", \"B\", 0.05)"
   ]
  },
  {
   "cell_type": "markdown",
   "metadata": {},
   "source": [
    "**Значимой разницы между контрольной группой А1/A2 и экспериментальной группой В не выявлено.**"
   ]
  },
  {
   "cell_type": "markdown",
   "metadata": {},
   "source": [
    "### 6. Вывод"
   ]
  },
  {
   "cell_type": "markdown",
   "metadata": {},
   "source": [
    "В ходе анализа данного проекта была составлена воронка событий, как пользователи доходят до покупки: MainScreenAppear - пользователь зашел в приложение, OffersScreenAppear - пользователь открыл каталог товаров, CartScreenAppear - пользователь добавил товар в корзину, PaymentScreenSuccessful - пользователь оплатил товар.\n",
    "\n",
    "Событие Tutorial - руководство пользователя, не несет полезной нагрузки, поэтому его не стали принимать во внимание.\n",
    "\n",
    "При исследовании воронки событий было выявлено, что 7 419 пользователей (98.5% от всех) хотя бы раз открывали главную страницу приложения.\n",
    "4 593 пользователей хотя бы раз открывали страницу с каталогом товаров, 3 734 пользователя перешли в корзину, и 3 539 пользователя оплатили товар.\n",
    "\n",
    "Больше всего пользователей - 38%, потеряно при переходе с главной страницы в каталог товаров. Возможно, есть что-то, что мешает, отпугивает пользователей на главной странице.\n",
    "\n",
    "От первого события на главной странице приложения до оплаты доходит чуть меньше половины пользователей - 48%.\n",
    "\n",
    "В ходе А/A/B тестирования было проведено 16 проверок статистических гипотез, в результате которых не было выявлено значимой разницы между тестируемыми группами, поэтому можно утверждать, что изменние шрифта на поведение пользователей значимого эффекта не оказало."
   ]
  }
 ],
 "metadata": {
  "ExecuteTimeLog": [
   {
    "duration": 4,
    "start_time": "2023-03-27T09:31:16.913Z"
   },
   {
    "duration": 179,
    "start_time": "2023-03-27T09:31:32.298Z"
   },
   {
    "duration": 8,
    "start_time": "2023-03-27T09:31:42.210Z"
   },
   {
    "duration": 21,
    "start_time": "2023-03-27T09:31:55.715Z"
   },
   {
    "duration": 5,
    "start_time": "2023-03-27T09:32:30.336Z"
   },
   {
    "duration": 8,
    "start_time": "2023-03-27T09:32:36.967Z"
   },
   {
    "duration": 16,
    "start_time": "2023-03-27T09:34:29.498Z"
   },
   {
    "duration": 14,
    "start_time": "2023-03-27T09:35:09.198Z"
   },
   {
    "duration": 17,
    "start_time": "2023-03-27T09:35:17.710Z"
   },
   {
    "duration": 18,
    "start_time": "2023-03-27T09:36:09.007Z"
   },
   {
    "duration": 2214,
    "start_time": "2023-03-27T09:36:35.206Z"
   },
   {
    "duration": 23,
    "start_time": "2023-03-27T09:36:41.898Z"
   },
   {
    "duration": 18,
    "start_time": "2023-03-27T09:38:30.068Z"
   },
   {
    "duration": 18,
    "start_time": "2023-03-27T09:38:34.227Z"
   },
   {
    "duration": 4,
    "start_time": "2023-03-27T09:38:43.311Z"
   },
   {
    "duration": 17,
    "start_time": "2023-03-27T09:38:45.597Z"
   },
   {
    "duration": 42,
    "start_time": "2023-03-27T09:38:51.642Z"
   },
   {
    "duration": 23,
    "start_time": "2023-03-27T09:38:53.937Z"
   },
   {
    "duration": 9,
    "start_time": "2023-03-27T09:51:37.440Z"
   },
   {
    "duration": 82,
    "start_time": "2023-03-27T09:51:58.306Z"
   },
   {
    "duration": 15,
    "start_time": "2023-03-27T09:54:02.106Z"
   },
   {
    "duration": 15,
    "start_time": "2023-03-27T09:54:05.112Z"
   },
   {
    "duration": 3,
    "start_time": "2023-03-27T09:56:30.299Z"
   },
   {
    "duration": 16,
    "start_time": "2023-03-27T09:56:36.807Z"
   },
   {
    "duration": 14,
    "start_time": "2023-03-27T09:56:37.453Z"
   },
   {
    "duration": 12,
    "start_time": "2023-03-27T09:58:09.398Z"
   },
   {
    "duration": 14,
    "start_time": "2023-03-27T09:58:09.886Z"
   },
   {
    "duration": 9,
    "start_time": "2023-03-27T10:01:18.155Z"
   },
   {
    "duration": 6,
    "start_time": "2023-03-27T10:01:46.460Z"
   },
   {
    "duration": 11,
    "start_time": "2023-03-27T10:01:51.792Z"
   },
   {
    "duration": 10,
    "start_time": "2023-03-27T10:02:00.395Z"
   },
   {
    "duration": 4,
    "start_time": "2023-03-27T10:02:27.090Z"
   },
   {
    "duration": 13,
    "start_time": "2023-03-27T10:03:34.316Z"
   },
   {
    "duration": 9,
    "start_time": "2023-03-27T10:03:42.093Z"
   },
   {
    "duration": 1343,
    "start_time": "2023-03-27T10:03:52.757Z"
   },
   {
    "duration": 176,
    "start_time": "2023-03-27T10:03:54.103Z"
   },
   {
    "duration": 13,
    "start_time": "2023-03-27T10:03:54.281Z"
   },
   {
    "duration": 37,
    "start_time": "2023-03-27T10:03:54.296Z"
   },
   {
    "duration": 3,
    "start_time": "2023-03-27T10:03:54.336Z"
   },
   {
    "duration": 23,
    "start_time": "2023-03-27T10:03:54.342Z"
   },
   {
    "duration": 20,
    "start_time": "2023-03-27T10:03:54.367Z"
   },
   {
    "duration": 10,
    "start_time": "2023-03-27T10:03:54.389Z"
   },
   {
    "duration": 13,
    "start_time": "2023-03-27T10:06:06.994Z"
   },
   {
    "duration": 111,
    "start_time": "2023-03-27T10:06:22.687Z"
   },
   {
    "duration": 10,
    "start_time": "2023-03-27T10:06:50.855Z"
   },
   {
    "duration": 72,
    "start_time": "2023-03-27T10:07:07.223Z"
   },
   {
    "duration": 1990,
    "start_time": "2023-03-27T10:12:25.690Z"
   },
   {
    "duration": 2182,
    "start_time": "2023-03-27T10:12:38.805Z"
   },
   {
    "duration": 1840,
    "start_time": "2023-03-27T10:12:50.932Z"
   },
   {
    "duration": 12,
    "start_time": "2023-03-27T10:12:57.601Z"
   },
   {
    "duration": 12,
    "start_time": "2023-03-27T10:13:05.490Z"
   },
   {
    "duration": 74,
    "start_time": "2023-03-27T10:22:27.053Z"
   },
   {
    "duration": 76,
    "start_time": "2023-03-27T10:22:44.499Z"
   },
   {
    "duration": 82,
    "start_time": "2023-03-27T10:23:53.530Z"
   },
   {
    "duration": 83,
    "start_time": "2023-03-27T10:24:18.111Z"
   },
   {
    "duration": 85,
    "start_time": "2023-03-27T10:24:28.710Z"
   },
   {
    "duration": 78,
    "start_time": "2023-03-27T10:24:44.857Z"
   },
   {
    "duration": 82,
    "start_time": "2023-03-27T10:25:39.474Z"
   },
   {
    "duration": 85,
    "start_time": "2023-03-27T10:25:55.960Z"
   },
   {
    "duration": 78,
    "start_time": "2023-03-27T10:26:14.709Z"
   },
   {
    "duration": 86,
    "start_time": "2023-03-27T10:27:22.720Z"
   },
   {
    "duration": 79,
    "start_time": "2023-03-27T10:27:30.743Z"
   },
   {
    "duration": 79,
    "start_time": "2023-03-27T10:27:42.072Z"
   },
   {
    "duration": 83,
    "start_time": "2023-03-27T10:31:57.199Z"
   },
   {
    "duration": 83,
    "start_time": "2023-03-27T10:32:18.324Z"
   },
   {
    "duration": 81,
    "start_time": "2023-03-27T10:32:35.799Z"
   },
   {
    "duration": 80,
    "start_time": "2023-03-27T10:33:37.132Z"
   },
   {
    "duration": 95,
    "start_time": "2023-03-27T10:38:29.329Z"
   },
   {
    "duration": 104,
    "start_time": "2023-03-27T10:38:42.179Z"
   },
   {
    "duration": 200,
    "start_time": "2023-03-27T10:39:08.422Z"
   },
   {
    "duration": 271,
    "start_time": "2023-03-27T10:39:17.036Z"
   },
   {
    "duration": 5,
    "start_time": "2023-03-27T10:40:31.646Z"
   },
   {
    "duration": 56,
    "start_time": "2023-03-27T10:40:56.600Z"
   },
   {
    "duration": 72,
    "start_time": "2023-03-27T10:40:59.404Z"
   },
   {
    "duration": 11,
    "start_time": "2023-03-27T10:41:05.546Z"
   },
   {
    "duration": 4,
    "start_time": "2023-03-27T10:41:18.194Z"
   },
   {
    "duration": 50,
    "start_time": "2023-03-27T10:41:19.758Z"
   },
   {
    "duration": 9,
    "start_time": "2023-03-27T10:41:20.166Z"
   },
   {
    "duration": 155,
    "start_time": "2023-03-27T10:41:31.538Z"
   },
   {
    "duration": 179,
    "start_time": "2023-03-27T10:46:38.018Z"
   },
   {
    "duration": 195,
    "start_time": "2023-03-27T10:46:55.677Z"
   },
   {
    "duration": 2339,
    "start_time": "2023-03-27T10:47:19.765Z"
   },
   {
    "duration": 0,
    "start_time": "2023-03-27T10:47:22.106Z"
   },
   {
    "duration": 4,
    "start_time": "2023-03-27T10:48:10.226Z"
   },
   {
    "duration": 2153,
    "start_time": "2023-03-27T10:48:15.582Z"
   },
   {
    "duration": 79,
    "start_time": "2023-03-27T10:48:49.699Z"
   },
   {
    "duration": 5,
    "start_time": "2023-03-27T10:50:15.061Z"
   },
   {
    "duration": 70,
    "start_time": "2023-03-27T10:50:15.492Z"
   },
   {
    "duration": 9,
    "start_time": "2023-03-27T10:50:15.769Z"
   },
   {
    "duration": 311,
    "start_time": "2023-03-27T10:51:18.142Z"
   },
   {
    "duration": 52,
    "start_time": "2023-03-27T10:51:18.603Z"
   },
   {
    "duration": 4,
    "start_time": "2023-03-27T10:51:40.230Z"
   },
   {
    "duration": 53,
    "start_time": "2023-03-27T10:51:41.224Z"
   },
   {
    "duration": 10,
    "start_time": "2023-03-27T10:51:41.610Z"
   },
   {
    "duration": 5,
    "start_time": "2023-03-27T10:51:47.574Z"
   },
   {
    "duration": 50,
    "start_time": "2023-03-27T10:51:49.354Z"
   },
   {
    "duration": 9,
    "start_time": "2023-03-27T10:51:49.762Z"
   },
   {
    "duration": 71,
    "start_time": "2023-03-27T10:52:24.178Z"
   },
   {
    "duration": 52,
    "start_time": "2023-03-27T10:52:35.274Z"
   },
   {
    "duration": 1324,
    "start_time": "2023-03-27T10:52:51.618Z"
   },
   {
    "duration": 173,
    "start_time": "2023-03-27T10:52:52.944Z"
   },
   {
    "duration": 18,
    "start_time": "2023-03-27T10:52:53.119Z"
   },
   {
    "duration": 24,
    "start_time": "2023-03-27T10:52:53.139Z"
   },
   {
    "duration": 3,
    "start_time": "2023-03-27T10:52:53.166Z"
   },
   {
    "duration": 13,
    "start_time": "2023-03-27T10:52:53.171Z"
   },
   {
    "duration": 67,
    "start_time": "2023-03-27T10:52:53.186Z"
   },
   {
    "duration": 9,
    "start_time": "2023-03-27T10:52:53.255Z"
   },
   {
    "duration": 31,
    "start_time": "2023-03-27T10:52:53.267Z"
   },
   {
    "duration": 11,
    "start_time": "2023-03-27T10:52:53.300Z"
   },
   {
    "duration": 99,
    "start_time": "2023-03-27T10:52:53.313Z"
   },
   {
    "duration": 101,
    "start_time": "2023-03-27T10:52:53.414Z"
   },
   {
    "duration": 100,
    "start_time": "2023-03-27T10:54:33.497Z"
   },
   {
    "duration": 4,
    "start_time": "2023-03-27T10:54:35.168Z"
   },
   {
    "duration": 51,
    "start_time": "2023-03-27T10:54:35.530Z"
   },
   {
    "duration": 9,
    "start_time": "2023-03-27T10:54:36.618Z"
   },
   {
    "duration": 1243,
    "start_time": "2023-03-27T10:54:42.630Z"
   },
   {
    "duration": 175,
    "start_time": "2023-03-27T10:54:43.875Z"
   },
   {
    "duration": 19,
    "start_time": "2023-03-27T10:54:44.053Z"
   },
   {
    "duration": 41,
    "start_time": "2023-03-27T10:54:44.076Z"
   },
   {
    "duration": 6,
    "start_time": "2023-03-27T10:54:44.134Z"
   },
   {
    "duration": 15,
    "start_time": "2023-03-27T10:54:44.142Z"
   },
   {
    "duration": 61,
    "start_time": "2023-03-27T10:54:44.159Z"
   },
   {
    "duration": 17,
    "start_time": "2023-03-27T10:54:44.222Z"
   },
   {
    "duration": 33,
    "start_time": "2023-03-27T10:54:44.241Z"
   },
   {
    "duration": 14,
    "start_time": "2023-03-27T10:54:44.276Z"
   },
   {
    "duration": 91,
    "start_time": "2023-03-27T10:54:44.291Z"
   },
   {
    "duration": 103,
    "start_time": "2023-03-27T10:54:44.384Z"
   },
   {
    "duration": 9,
    "start_time": "2023-03-27T10:59:18.249Z"
   },
   {
    "duration": 12,
    "start_time": "2023-03-27T10:59:42.388Z"
   },
   {
    "duration": 89,
    "start_time": "2023-03-27T11:06:21.900Z"
   },
   {
    "duration": 78,
    "start_time": "2023-03-27T11:06:39.273Z"
   },
   {
    "duration": 9,
    "start_time": "2023-03-27T11:07:03.437Z"
   },
   {
    "duration": 117,
    "start_time": "2023-03-27T11:07:09.298Z"
   },
   {
    "duration": 117,
    "start_time": "2023-03-27T11:07:11.913Z"
   },
   {
    "duration": 18,
    "start_time": "2023-03-27T11:07:14.081Z"
   },
   {
    "duration": 97,
    "start_time": "2023-03-27T11:07:57.511Z"
   },
   {
    "duration": 92,
    "start_time": "2023-03-27T11:08:06.201Z"
   },
   {
    "duration": 13,
    "start_time": "2023-03-27T11:08:13.071Z"
   },
   {
    "duration": 11,
    "start_time": "2023-03-27T11:10:39.079Z"
   },
   {
    "duration": 69,
    "start_time": "2023-03-27T11:10:58.242Z"
   },
   {
    "duration": 15,
    "start_time": "2023-03-27T11:11:01.306Z"
   },
   {
    "duration": 54,
    "start_time": "2023-03-27T11:13:26.983Z"
   },
   {
    "duration": 7,
    "start_time": "2023-03-27T11:13:56.931Z"
   },
   {
    "duration": 22,
    "start_time": "2023-03-27T11:14:04.587Z"
   },
   {
    "duration": 34,
    "start_time": "2023-03-27T11:14:36.602Z"
   },
   {
    "duration": 15,
    "start_time": "2023-03-27T11:16:21.323Z"
   },
   {
    "duration": 24,
    "start_time": "2023-03-27T11:17:21.139Z"
   },
   {
    "duration": 4,
    "start_time": "2023-03-27T11:18:36.856Z"
   },
   {
    "duration": 5,
    "start_time": "2023-03-27T11:18:46.078Z"
   },
   {
    "duration": 22,
    "start_time": "2023-03-27T11:19:25.396Z"
   },
   {
    "duration": 17,
    "start_time": "2023-03-27T11:23:30.980Z"
   },
   {
    "duration": 63,
    "start_time": "2023-03-27T11:24:53.241Z"
   },
   {
    "duration": 19,
    "start_time": "2023-03-27T11:25:11.132Z"
   },
   {
    "duration": 1191,
    "start_time": "2023-03-27T11:25:24.979Z"
   },
   {
    "duration": 177,
    "start_time": "2023-03-27T11:25:26.172Z"
   },
   {
    "duration": 12,
    "start_time": "2023-03-27T11:25:26.351Z"
   },
   {
    "duration": 41,
    "start_time": "2023-03-27T11:25:26.365Z"
   },
   {
    "duration": 19,
    "start_time": "2023-03-27T11:25:26.407Z"
   },
   {
    "duration": 8,
    "start_time": "2023-03-27T11:25:26.427Z"
   },
   {
    "duration": 56,
    "start_time": "2023-03-27T11:25:26.437Z"
   },
   {
    "duration": 17,
    "start_time": "2023-03-27T11:25:26.495Z"
   },
   {
    "duration": 34,
    "start_time": "2023-03-27T11:25:26.513Z"
   },
   {
    "duration": 16,
    "start_time": "2023-03-27T11:25:26.550Z"
   },
   {
    "duration": 110,
    "start_time": "2023-03-27T11:25:26.568Z"
   },
   {
    "duration": 109,
    "start_time": "2023-03-27T11:25:26.680Z"
   },
   {
    "duration": 14,
    "start_time": "2023-03-27T11:25:26.791Z"
   },
   {
    "duration": 104,
    "start_time": "2023-03-27T11:25:26.806Z"
   },
   {
    "duration": 31,
    "start_time": "2023-03-27T11:25:26.912Z"
   },
   {
    "duration": 74,
    "start_time": "2023-03-27T11:25:26.945Z"
   },
   {
    "duration": 25,
    "start_time": "2023-03-27T11:25:27.021Z"
   },
   {
    "duration": 91,
    "start_time": "2023-03-27T11:27:39.895Z"
   },
   {
    "duration": 23,
    "start_time": "2023-03-27T11:28:36.411Z"
   },
   {
    "duration": 10,
    "start_time": "2023-03-27T11:28:46.709Z"
   },
   {
    "duration": 38,
    "start_time": "2023-03-27T11:28:53.947Z"
   },
   {
    "duration": 44,
    "start_time": "2023-03-27T11:29:12.234Z"
   },
   {
    "duration": 10,
    "start_time": "2023-03-27T11:29:17.169Z"
   },
   {
    "duration": 69,
    "start_time": "2023-03-27T11:30:08.765Z"
   },
   {
    "duration": 88,
    "start_time": "2023-03-27T11:30:22.337Z"
   },
   {
    "duration": 35,
    "start_time": "2023-03-27T11:31:06.032Z"
   },
   {
    "duration": 10,
    "start_time": "2023-03-27T11:31:07.742Z"
   },
   {
    "duration": 35,
    "start_time": "2023-03-27T11:31:16.070Z"
   },
   {
    "duration": 1207,
    "start_time": "2023-03-27T11:31:24.674Z"
   },
   {
    "duration": 171,
    "start_time": "2023-03-27T11:31:25.884Z"
   },
   {
    "duration": 14,
    "start_time": "2023-03-27T11:31:26.057Z"
   },
   {
    "duration": 23,
    "start_time": "2023-03-27T11:31:26.073Z"
   },
   {
    "duration": 4,
    "start_time": "2023-03-27T11:31:26.098Z"
   },
   {
    "duration": 35,
    "start_time": "2023-03-27T11:31:26.103Z"
   },
   {
    "duration": 56,
    "start_time": "2023-03-27T11:31:26.140Z"
   },
   {
    "duration": 17,
    "start_time": "2023-03-27T11:31:26.197Z"
   },
   {
    "duration": 69,
    "start_time": "2023-03-27T11:31:26.216Z"
   },
   {
    "duration": 11,
    "start_time": "2023-03-27T11:31:26.287Z"
   },
   {
    "duration": 78,
    "start_time": "2023-03-27T11:31:26.300Z"
   },
   {
    "duration": 90,
    "start_time": "2023-03-27T11:31:26.380Z"
   },
   {
    "duration": 12,
    "start_time": "2023-03-27T11:31:26.472Z"
   },
   {
    "duration": 108,
    "start_time": "2023-03-27T11:31:26.486Z"
   },
   {
    "duration": 37,
    "start_time": "2023-03-27T11:31:26.597Z"
   },
   {
    "duration": 103,
    "start_time": "2023-03-27T11:31:26.637Z"
   },
   {
    "duration": 51,
    "start_time": "2023-03-27T11:31:26.742Z"
   },
   {
    "duration": 11,
    "start_time": "2023-03-27T11:31:26.795Z"
   },
   {
    "duration": 49,
    "start_time": "2023-03-27T11:31:26.807Z"
   },
   {
    "duration": 10,
    "start_time": "2023-03-27T11:32:58.169Z"
   },
   {
    "duration": 31,
    "start_time": "2023-03-27T11:33:31.872Z"
   },
   {
    "duration": 1210,
    "start_time": "2023-03-27T11:33:37.446Z"
   },
   {
    "duration": 161,
    "start_time": "2023-03-27T11:33:38.659Z"
   },
   {
    "duration": 11,
    "start_time": "2023-03-27T11:33:38.822Z"
   },
   {
    "duration": 28,
    "start_time": "2023-03-27T11:33:38.834Z"
   },
   {
    "duration": 4,
    "start_time": "2023-03-27T11:33:38.863Z"
   },
   {
    "duration": 11,
    "start_time": "2023-03-27T11:33:38.868Z"
   },
   {
    "duration": 53,
    "start_time": "2023-03-27T11:33:38.881Z"
   },
   {
    "duration": 16,
    "start_time": "2023-03-27T11:33:38.936Z"
   },
   {
    "duration": 38,
    "start_time": "2023-03-27T11:33:38.953Z"
   },
   {
    "duration": 14,
    "start_time": "2023-03-27T11:33:38.993Z"
   },
   {
    "duration": 83,
    "start_time": "2023-03-27T11:33:39.009Z"
   },
   {
    "duration": 89,
    "start_time": "2023-03-27T11:33:39.093Z"
   },
   {
    "duration": 12,
    "start_time": "2023-03-27T11:33:39.184Z"
   },
   {
    "duration": 100,
    "start_time": "2023-03-27T11:33:39.198Z"
   },
   {
    "duration": 23,
    "start_time": "2023-03-27T11:33:39.300Z"
   },
   {
    "duration": 68,
    "start_time": "2023-03-27T11:33:39.333Z"
   },
   {
    "duration": 60,
    "start_time": "2023-03-27T11:33:39.403Z"
   },
   {
    "duration": 18,
    "start_time": "2023-03-27T11:33:39.465Z"
   },
   {
    "duration": 65,
    "start_time": "2023-03-27T11:33:39.485Z"
   },
   {
    "duration": 52,
    "start_time": "2023-03-27T11:34:16.209Z"
   },
   {
    "duration": 17,
    "start_time": "2023-03-27T11:35:43.992Z"
   },
   {
    "duration": 19,
    "start_time": "2023-03-27T11:56:15.597Z"
   },
   {
    "duration": 15,
    "start_time": "2023-03-27T11:56:21.889Z"
   },
   {
    "duration": 25,
    "start_time": "2023-03-27T11:56:27.220Z"
   },
   {
    "duration": 9,
    "start_time": "2023-03-27T12:00:40.893Z"
   },
   {
    "duration": 7,
    "start_time": "2023-03-27T12:00:51.242Z"
   },
   {
    "duration": 116,
    "start_time": "2023-03-27T12:00:55.295Z"
   },
   {
    "duration": 5,
    "start_time": "2023-03-27T12:01:02.193Z"
   },
   {
    "duration": 7,
    "start_time": "2023-03-27T12:01:05.798Z"
   },
   {
    "duration": 162,
    "start_time": "2023-03-27T12:02:11.472Z"
   },
   {
    "duration": 7,
    "start_time": "2023-03-27T12:02:14.019Z"
   },
   {
    "duration": 24,
    "start_time": "2023-03-27T12:02:33.485Z"
   },
   {
    "duration": 25,
    "start_time": "2023-03-27T12:02:46.151Z"
   },
   {
    "duration": 33,
    "start_time": "2023-03-27T12:05:17.008Z"
   },
   {
    "duration": 14,
    "start_time": "2023-03-27T12:07:45.511Z"
   },
   {
    "duration": 16,
    "start_time": "2023-03-27T12:08:14.109Z"
   },
   {
    "duration": 13,
    "start_time": "2023-03-27T12:08:27.343Z"
   },
   {
    "duration": 8,
    "start_time": "2023-03-27T12:09:09.534Z"
   },
   {
    "duration": 4,
    "start_time": "2023-03-27T12:09:15.223Z"
   },
   {
    "duration": 12,
    "start_time": "2023-03-27T12:09:19.900Z"
   },
   {
    "duration": 21,
    "start_time": "2023-03-27T12:09:37.834Z"
   },
   {
    "duration": 28,
    "start_time": "2023-03-27T12:09:41.694Z"
   },
   {
    "duration": 19,
    "start_time": "2023-03-27T12:09:44.412Z"
   },
   {
    "duration": 20,
    "start_time": "2023-03-27T12:09:48.907Z"
   },
   {
    "duration": 19,
    "start_time": "2023-03-27T12:10:42.498Z"
   },
   {
    "duration": 20,
    "start_time": "2023-03-27T12:10:48.661Z"
   },
   {
    "duration": 25,
    "start_time": "2023-03-27T12:11:16.094Z"
   },
   {
    "duration": 13,
    "start_time": "2023-03-27T12:12:13.548Z"
   },
   {
    "duration": 7,
    "start_time": "2023-03-27T12:13:05.754Z"
   },
   {
    "duration": 3,
    "start_time": "2023-03-27T12:15:55.426Z"
   },
   {
    "duration": 4,
    "start_time": "2023-03-27T12:16:00.325Z"
   },
   {
    "duration": 169,
    "start_time": "2023-03-27T12:20:22.534Z"
   },
   {
    "duration": 1251,
    "start_time": "2023-03-27T12:20:28.924Z"
   },
   {
    "duration": 176,
    "start_time": "2023-03-27T12:20:30.178Z"
   },
   {
    "duration": 13,
    "start_time": "2023-03-27T12:20:30.355Z"
   },
   {
    "duration": 50,
    "start_time": "2023-03-27T12:20:30.370Z"
   },
   {
    "duration": 28,
    "start_time": "2023-03-27T12:20:30.423Z"
   },
   {
    "duration": 64,
    "start_time": "2023-03-27T12:20:30.452Z"
   },
   {
    "duration": 145,
    "start_time": "2023-03-27T12:20:30.518Z"
   },
   {
    "duration": 45,
    "start_time": "2023-03-27T12:20:30.665Z"
   },
   {
    "duration": 63,
    "start_time": "2023-03-27T12:20:30.712Z"
   },
   {
    "duration": 35,
    "start_time": "2023-03-27T12:20:30.778Z"
   },
   {
    "duration": 98,
    "start_time": "2023-03-27T12:20:30.814Z"
   },
   {
    "duration": 90,
    "start_time": "2023-03-27T12:20:30.914Z"
   },
   {
    "duration": 12,
    "start_time": "2023-03-27T12:20:31.006Z"
   },
   {
    "duration": 99,
    "start_time": "2023-03-27T12:20:31.019Z"
   },
   {
    "duration": 32,
    "start_time": "2023-03-27T12:20:31.119Z"
   },
   {
    "duration": 199,
    "start_time": "2023-03-27T12:20:31.153Z"
   },
   {
    "duration": 80,
    "start_time": "2023-03-27T12:20:31.354Z"
   },
   {
    "duration": 48,
    "start_time": "2023-03-27T12:20:31.436Z"
   },
   {
    "duration": 26,
    "start_time": "2023-03-27T12:20:31.486Z"
   },
   {
    "duration": 55,
    "start_time": "2023-03-27T12:20:31.513Z"
   },
   {
    "duration": 23,
    "start_time": "2023-03-27T12:20:31.570Z"
   },
   {
    "duration": 35,
    "start_time": "2023-03-27T12:20:31.595Z"
   },
   {
    "duration": 46,
    "start_time": "2023-03-27T12:20:31.632Z"
   },
   {
    "duration": 58,
    "start_time": "2023-03-27T12:20:31.680Z"
   },
   {
    "duration": 16,
    "start_time": "2023-03-27T12:20:31.739Z"
   },
   {
    "duration": 30,
    "start_time": "2023-03-27T12:20:31.757Z"
   },
   {
    "duration": 175,
    "start_time": "2023-03-27T12:20:45.410Z"
   },
   {
    "duration": 201,
    "start_time": "2023-03-27T12:20:50.212Z"
   },
   {
    "duration": 191,
    "start_time": "2023-03-27T12:21:05.918Z"
   },
   {
    "duration": 216,
    "start_time": "2023-03-27T12:21:16.754Z"
   },
   {
    "duration": 193,
    "start_time": "2023-03-27T12:21:53.823Z"
   },
   {
    "duration": 189,
    "start_time": "2023-03-27T12:22:05.969Z"
   },
   {
    "duration": 178,
    "start_time": "2023-03-27T12:22:59.050Z"
   },
   {
    "duration": 379,
    "start_time": "2023-03-27T12:26:46.399Z"
   },
   {
    "duration": 172,
    "start_time": "2023-03-27T12:27:33.246Z"
   },
   {
    "duration": 174,
    "start_time": "2023-03-27T12:35:17.963Z"
   },
   {
    "duration": 242,
    "start_time": "2023-03-27T12:35:34.257Z"
   },
   {
    "duration": 186,
    "start_time": "2023-03-27T12:35:45.203Z"
   },
   {
    "duration": 4,
    "start_time": "2023-03-27T12:37:35.305Z"
   },
   {
    "duration": 4,
    "start_time": "2023-03-27T12:38:03.859Z"
   },
   {
    "duration": 5,
    "start_time": "2023-03-27T12:42:26.221Z"
   },
   {
    "duration": 21,
    "start_time": "2023-03-27T12:45:26.139Z"
   },
   {
    "duration": 21,
    "start_time": "2023-03-27T12:45:31.298Z"
   },
   {
    "duration": 5,
    "start_time": "2023-03-27T12:47:43.961Z"
   },
   {
    "duration": 1284,
    "start_time": "2023-03-27T12:48:09.131Z"
   },
   {
    "duration": 173,
    "start_time": "2023-03-27T12:48:10.417Z"
   },
   {
    "duration": 19,
    "start_time": "2023-03-27T12:48:10.592Z"
   },
   {
    "duration": 34,
    "start_time": "2023-03-27T12:48:10.614Z"
   },
   {
    "duration": 3,
    "start_time": "2023-03-27T12:48:10.650Z"
   },
   {
    "duration": 23,
    "start_time": "2023-03-27T12:48:10.655Z"
   },
   {
    "duration": 61,
    "start_time": "2023-03-27T12:48:10.681Z"
   },
   {
    "duration": 17,
    "start_time": "2023-03-27T12:48:10.744Z"
   },
   {
    "duration": 26,
    "start_time": "2023-03-27T12:48:10.763Z"
   },
   {
    "duration": 13,
    "start_time": "2023-03-27T12:48:10.792Z"
   },
   {
    "duration": 109,
    "start_time": "2023-03-27T12:48:10.807Z"
   },
   {
    "duration": 96,
    "start_time": "2023-03-27T12:48:10.919Z"
   },
   {
    "duration": 30,
    "start_time": "2023-03-27T12:48:11.017Z"
   },
   {
    "duration": 102,
    "start_time": "2023-03-27T12:48:11.049Z"
   },
   {
    "duration": 31,
    "start_time": "2023-03-27T12:48:11.152Z"
   },
   {
    "duration": 81,
    "start_time": "2023-03-27T12:48:11.185Z"
   },
   {
    "duration": 40,
    "start_time": "2023-03-27T12:48:11.269Z"
   },
   {
    "duration": 25,
    "start_time": "2023-03-27T12:48:11.311Z"
   },
   {
    "duration": 37,
    "start_time": "2023-03-27T12:48:11.338Z"
   },
   {
    "duration": 24,
    "start_time": "2023-03-27T12:48:11.377Z"
   },
   {
    "duration": 32,
    "start_time": "2023-03-27T12:48:11.403Z"
   },
   {
    "duration": 9,
    "start_time": "2023-03-27T12:48:11.437Z"
   },
   {
    "duration": 25,
    "start_time": "2023-03-27T12:48:11.448Z"
   },
   {
    "duration": 5,
    "start_time": "2023-03-27T12:48:11.475Z"
   },
   {
    "duration": 5,
    "start_time": "2023-03-27T12:48:43.120Z"
   },
   {
    "duration": 5,
    "start_time": "2023-03-27T12:48:55.384Z"
   },
   {
    "duration": 5,
    "start_time": "2023-03-27T12:48:57.380Z"
   },
   {
    "duration": 16,
    "start_time": "2023-03-27T12:53:45.223Z"
   },
   {
    "duration": 15,
    "start_time": "2023-03-27T12:54:01.864Z"
   },
   {
    "duration": 725,
    "start_time": "2023-03-27T12:57:34.515Z"
   },
   {
    "duration": 5,
    "start_time": "2023-03-27T12:59:39.408Z"
   },
   {
    "duration": 4,
    "start_time": "2023-03-27T12:59:43.038Z"
   },
   {
    "duration": 292,
    "start_time": "2023-03-27T13:00:59.402Z"
   },
   {
    "duration": 108,
    "start_time": "2023-03-27T13:02:33.811Z"
   },
   {
    "duration": 11,
    "start_time": "2023-03-27T13:02:48.153Z"
   },
   {
    "duration": 90,
    "start_time": "2023-03-27T13:03:54.263Z"
   },
   {
    "duration": 15,
    "start_time": "2023-03-27T13:04:02.158Z"
   },
   {
    "duration": 31,
    "start_time": "2023-03-27T13:04:07.230Z"
   },
   {
    "duration": 217,
    "start_time": "2023-03-27T13:08:06.764Z"
   },
   {
    "duration": 1285,
    "start_time": "2023-03-27T13:09:51.507Z"
   },
   {
    "duration": 649,
    "start_time": "2023-03-27T13:11:46.491Z"
   },
   {
    "duration": 890,
    "start_time": "2023-03-27T13:12:07.937Z"
   },
   {
    "duration": 1255,
    "start_time": "2023-03-27T13:12:18.104Z"
   },
   {
    "duration": 18,
    "start_time": "2023-03-27T13:13:15.795Z"
   },
   {
    "duration": 210,
    "start_time": "2023-03-27T13:13:29.250Z"
   },
   {
    "duration": 291,
    "start_time": "2023-03-27T13:13:44.945Z"
   },
   {
    "duration": 210,
    "start_time": "2023-03-27T13:14:01.793Z"
   },
   {
    "duration": 220,
    "start_time": "2023-03-27T13:14:09.738Z"
   },
   {
    "duration": 240,
    "start_time": "2023-03-27T13:15:45.818Z"
   },
   {
    "duration": 184,
    "start_time": "2023-03-27T13:16:08.317Z"
   },
   {
    "duration": 183,
    "start_time": "2023-03-27T13:21:10.415Z"
   },
   {
    "duration": 186,
    "start_time": "2023-03-27T13:21:32.006Z"
   },
   {
    "duration": 208,
    "start_time": "2023-03-27T13:21:38.187Z"
   },
   {
    "duration": 219,
    "start_time": "2023-03-27T13:21:43.822Z"
   },
   {
    "duration": 215,
    "start_time": "2023-03-27T13:22:07.499Z"
   },
   {
    "duration": 232,
    "start_time": "2023-03-27T13:22:15.895Z"
   },
   {
    "duration": 245,
    "start_time": "2023-03-27T13:22:35.165Z"
   },
   {
    "duration": 423,
    "start_time": "2023-03-27T13:24:50.666Z"
   },
   {
    "duration": 1547,
    "start_time": "2023-03-27T13:24:59.466Z"
   },
   {
    "duration": 1607,
    "start_time": "2023-03-27T13:25:05.701Z"
   },
   {
    "duration": 798,
    "start_time": "2023-03-27T13:25:27.111Z"
   },
   {
    "duration": 228,
    "start_time": "2023-03-27T13:28:26.494Z"
   },
   {
    "duration": 184,
    "start_time": "2023-03-27T13:29:11.299Z"
   },
   {
    "duration": 236,
    "start_time": "2023-03-27T13:29:30.441Z"
   },
   {
    "duration": 107,
    "start_time": "2023-03-27T13:29:59.165Z"
   },
   {
    "duration": 658,
    "start_time": "2023-03-27T13:30:04.294Z"
   },
   {
    "duration": 467,
    "start_time": "2023-03-27T13:30:16.394Z"
   },
   {
    "duration": 252,
    "start_time": "2023-03-27T13:33:07.305Z"
   },
   {
    "duration": 274,
    "start_time": "2023-03-27T13:33:26.531Z"
   },
   {
    "duration": 309,
    "start_time": "2023-03-27T13:34:49.398Z"
   },
   {
    "duration": 319,
    "start_time": "2023-03-27T13:35:02.969Z"
   },
   {
    "duration": 304,
    "start_time": "2023-03-27T13:35:15.217Z"
   },
   {
    "duration": 2184,
    "start_time": "2023-03-27T13:37:55.601Z"
   },
   {
    "duration": 210,
    "start_time": "2023-03-27T13:44:32.462Z"
   },
   {
    "duration": 34,
    "start_time": "2023-03-27T13:47:29.804Z"
   },
   {
    "duration": 180,
    "start_time": "2023-03-27T13:48:37.144Z"
   },
   {
    "duration": 193,
    "start_time": "2023-03-27T13:48:49.379Z"
   },
   {
    "duration": 214,
    "start_time": "2023-03-27T13:49:00.058Z"
   },
   {
    "duration": 82,
    "start_time": "2023-03-27T13:49:26.645Z"
   },
   {
    "duration": 212,
    "start_time": "2023-03-27T13:49:36.204Z"
   },
   {
    "duration": 221,
    "start_time": "2023-03-27T13:49:44.937Z"
   },
   {
    "duration": 230,
    "start_time": "2023-03-27T13:50:01.525Z"
   },
   {
    "duration": 96,
    "start_time": "2023-03-27T13:51:54.350Z"
   },
   {
    "duration": 221,
    "start_time": "2023-03-27T13:52:03.318Z"
   },
   {
    "duration": 228,
    "start_time": "2023-03-27T13:52:21.905Z"
   },
   {
    "duration": 226,
    "start_time": "2023-03-27T13:52:36.445Z"
   },
   {
    "duration": 1326,
    "start_time": "2023-03-27T14:07:03.859Z"
   },
   {
    "duration": 698,
    "start_time": "2023-03-27T14:07:05.187Z"
   },
   {
    "duration": 12,
    "start_time": "2023-03-27T14:07:05.887Z"
   },
   {
    "duration": 25,
    "start_time": "2023-03-27T14:07:05.901Z"
   },
   {
    "duration": 5,
    "start_time": "2023-03-27T14:07:05.928Z"
   },
   {
    "duration": 16,
    "start_time": "2023-03-27T14:07:05.935Z"
   },
   {
    "duration": 61,
    "start_time": "2023-03-27T14:07:05.953Z"
   },
   {
    "duration": 19,
    "start_time": "2023-03-27T14:07:06.016Z"
   },
   {
    "duration": 40,
    "start_time": "2023-03-27T14:07:06.037Z"
   },
   {
    "duration": 11,
    "start_time": "2023-03-27T14:07:06.081Z"
   },
   {
    "duration": 92,
    "start_time": "2023-03-27T14:07:06.094Z"
   },
   {
    "duration": 99,
    "start_time": "2023-03-27T14:07:06.188Z"
   },
   {
    "duration": 12,
    "start_time": "2023-03-27T14:07:06.289Z"
   },
   {
    "duration": 100,
    "start_time": "2023-03-27T14:07:06.302Z"
   },
   {
    "duration": 22,
    "start_time": "2023-03-27T14:07:06.404Z"
   },
   {
    "duration": 75,
    "start_time": "2023-03-27T14:07:06.434Z"
   },
   {
    "duration": 51,
    "start_time": "2023-03-27T14:07:06.511Z"
   },
   {
    "duration": 18,
    "start_time": "2023-03-27T14:07:06.565Z"
   },
   {
    "duration": 55,
    "start_time": "2023-03-27T14:07:06.585Z"
   },
   {
    "duration": 31,
    "start_time": "2023-03-27T14:07:06.643Z"
   },
   {
    "duration": 32,
    "start_time": "2023-03-27T14:07:06.675Z"
   },
   {
    "duration": 24,
    "start_time": "2023-03-27T14:07:06.709Z"
   },
   {
    "duration": 32,
    "start_time": "2023-03-27T14:07:06.735Z"
   },
   {
    "duration": 6,
    "start_time": "2023-03-27T14:07:06.769Z"
   },
   {
    "duration": 13,
    "start_time": "2023-03-27T14:07:06.776Z"
   },
   {
    "duration": 322,
    "start_time": "2023-03-27T14:07:06.791Z"
   },
   {
    "duration": 237,
    "start_time": "2023-03-27T14:13:52.319Z"
   },
   {
    "duration": 1167,
    "start_time": "2023-03-27T16:20:10.746Z"
   },
   {
    "duration": 303,
    "start_time": "2023-03-27T16:21:00.355Z"
   },
   {
    "duration": 70,
    "start_time": "2023-03-27T16:22:25.926Z"
   },
   {
    "duration": 43,
    "start_time": "2023-03-27T16:22:49.861Z"
   },
   {
    "duration": 1340,
    "start_time": "2023-03-27T16:22:57.764Z"
   },
   {
    "duration": 173,
    "start_time": "2023-03-27T16:22:59.106Z"
   },
   {
    "duration": 13,
    "start_time": "2023-03-27T16:22:59.280Z"
   },
   {
    "duration": 28,
    "start_time": "2023-03-27T16:22:59.295Z"
   },
   {
    "duration": 10,
    "start_time": "2023-03-27T16:22:59.324Z"
   },
   {
    "duration": 11,
    "start_time": "2023-03-27T16:22:59.336Z"
   },
   {
    "duration": 67,
    "start_time": "2023-03-27T16:22:59.350Z"
   },
   {
    "duration": 21,
    "start_time": "2023-03-27T16:22:59.419Z"
   },
   {
    "duration": 34,
    "start_time": "2023-03-27T16:22:59.442Z"
   },
   {
    "duration": 19,
    "start_time": "2023-03-27T16:22:59.479Z"
   },
   {
    "duration": 94,
    "start_time": "2023-03-27T16:22:59.499Z"
   },
   {
    "duration": 99,
    "start_time": "2023-03-27T16:22:59.595Z"
   },
   {
    "duration": 13,
    "start_time": "2023-03-27T16:22:59.695Z"
   },
   {
    "duration": 107,
    "start_time": "2023-03-27T16:22:59.710Z"
   },
   {
    "duration": 30,
    "start_time": "2023-03-27T16:22:59.818Z"
   },
   {
    "duration": 103,
    "start_time": "2023-03-27T16:22:59.849Z"
   },
   {
    "duration": 41,
    "start_time": "2023-03-27T16:22:59.954Z"
   },
   {
    "duration": 14,
    "start_time": "2023-03-27T16:22:59.997Z"
   },
   {
    "duration": 56,
    "start_time": "2023-03-27T16:23:00.013Z"
   },
   {
    "duration": 40,
    "start_time": "2023-03-27T16:23:00.072Z"
   },
   {
    "duration": 33,
    "start_time": "2023-03-27T16:23:00.114Z"
   },
   {
    "duration": 32,
    "start_time": "2023-03-27T16:23:00.148Z"
   },
   {
    "duration": 35,
    "start_time": "2023-03-27T16:23:00.182Z"
   },
   {
    "duration": 4,
    "start_time": "2023-03-27T16:23:00.219Z"
   },
   {
    "duration": 23,
    "start_time": "2023-03-27T16:23:00.225Z"
   },
   {
    "duration": 355,
    "start_time": "2023-03-27T16:23:00.250Z"
   },
   {
    "duration": 3,
    "start_time": "2023-03-27T16:23:00.607Z"
   },
   {
    "duration": 103,
    "start_time": "2023-03-27T16:23:00.613Z"
   },
   {
    "duration": 79,
    "start_time": "2023-03-27T16:23:16.234Z"
   },
   {
    "duration": 33,
    "start_time": "2023-03-27T16:23:35.239Z"
   },
   {
    "duration": 21,
    "start_time": "2023-03-27T16:24:18.735Z"
   },
   {
    "duration": 25,
    "start_time": "2023-03-27T16:24:47.731Z"
   },
   {
    "duration": 30,
    "start_time": "2023-03-27T16:24:56.419Z"
   },
   {
    "duration": 22,
    "start_time": "2023-03-27T16:25:00.339Z"
   },
   {
    "duration": 101,
    "start_time": "2023-03-27T16:25:28.038Z"
   },
   {
    "duration": 181,
    "start_time": "2023-03-27T16:25:31.836Z"
   },
   {
    "duration": 17,
    "start_time": "2023-03-27T16:25:34.910Z"
   },
   {
    "duration": 20,
    "start_time": "2023-03-27T16:25:41.352Z"
   },
   {
    "duration": 26,
    "start_time": "2023-03-27T16:26:43.986Z"
   },
   {
    "duration": 16,
    "start_time": "2023-03-27T16:26:47.722Z"
   },
   {
    "duration": 16,
    "start_time": "2023-03-27T16:27:01.191Z"
   },
   {
    "duration": 19,
    "start_time": "2023-03-27T16:27:07.291Z"
   },
   {
    "duration": 8,
    "start_time": "2023-03-27T16:27:11.989Z"
   },
   {
    "duration": 7,
    "start_time": "2023-03-27T16:27:17.426Z"
   },
   {
    "duration": 31,
    "start_time": "2023-03-27T16:27:47.053Z"
   },
   {
    "duration": 7,
    "start_time": "2023-03-27T16:28:42.176Z"
   },
   {
    "duration": 34,
    "start_time": "2023-03-27T16:28:50.795Z"
   },
   {
    "duration": 99,
    "start_time": "2023-03-27T16:29:08.199Z"
   },
   {
    "duration": 21,
    "start_time": "2023-03-27T16:29:17.540Z"
   },
   {
    "duration": 16,
    "start_time": "2023-03-27T16:29:43.213Z"
   },
   {
    "duration": 15,
    "start_time": "2023-03-27T16:30:04.415Z"
   },
   {
    "duration": 7,
    "start_time": "2023-03-27T16:34:12.581Z"
   },
   {
    "duration": 8,
    "start_time": "2023-03-27T16:34:21.105Z"
   },
   {
    "duration": 4,
    "start_time": "2023-03-27T16:35:53.510Z"
   },
   {
    "duration": 7,
    "start_time": "2023-03-27T16:36:52.552Z"
   },
   {
    "duration": 4,
    "start_time": "2023-03-27T16:37:27.393Z"
   },
   {
    "duration": 31,
    "start_time": "2023-03-27T16:39:30.220Z"
   },
   {
    "duration": 13,
    "start_time": "2023-03-27T16:40:00.311Z"
   },
   {
    "duration": 13,
    "start_time": "2023-03-27T16:40:11.290Z"
   },
   {
    "duration": 26,
    "start_time": "2023-03-27T16:40:14.365Z"
   },
   {
    "duration": 14,
    "start_time": "2023-03-27T16:40:18.355Z"
   },
   {
    "duration": 4,
    "start_time": "2023-03-27T16:40:27.140Z"
   },
   {
    "duration": 14,
    "start_time": "2023-03-27T16:41:01.203Z"
   },
   {
    "duration": 8,
    "start_time": "2023-03-27T16:42:11.410Z"
   },
   {
    "duration": 7,
    "start_time": "2023-03-27T16:42:25.798Z"
   },
   {
    "duration": 0,
    "start_time": "2023-03-27T16:44:38.543Z"
   },
   {
    "duration": 0,
    "start_time": "2023-03-27T16:44:38.544Z"
   },
   {
    "duration": 13,
    "start_time": "2023-03-27T16:44:43.221Z"
   },
   {
    "duration": 3,
    "start_time": "2023-03-27T16:44:43.903Z"
   },
   {
    "duration": 95,
    "start_time": "2023-03-27T16:48:50.192Z"
   },
   {
    "duration": 374,
    "start_time": "2023-03-27T16:49:06.062Z"
   },
   {
    "duration": 79,
    "start_time": "2023-03-27T16:49:15.313Z"
   },
   {
    "duration": 117,
    "start_time": "2023-03-27T16:49:31.794Z"
   },
   {
    "duration": 75,
    "start_time": "2023-03-27T16:51:14.191Z"
   },
   {
    "duration": 86,
    "start_time": "2023-03-27T16:51:58.529Z"
   },
   {
    "duration": 94,
    "start_time": "2023-03-27T16:52:22.105Z"
   },
   {
    "duration": 3,
    "start_time": "2023-03-27T16:52:57.103Z"
   },
   {
    "duration": 5,
    "start_time": "2023-03-27T16:54:46.354Z"
   },
   {
    "duration": 6,
    "start_time": "2023-03-27T17:00:20.805Z"
   },
   {
    "duration": 93,
    "start_time": "2023-03-27T17:00:34.498Z"
   },
   {
    "duration": 5,
    "start_time": "2023-03-27T17:00:38.435Z"
   },
   {
    "duration": 77,
    "start_time": "2023-03-27T17:01:25.069Z"
   },
   {
    "duration": 77,
    "start_time": "2023-03-27T17:02:09.134Z"
   },
   {
    "duration": 92,
    "start_time": "2023-03-27T17:04:14.202Z"
   },
   {
    "duration": 78,
    "start_time": "2023-03-27T17:04:18.491Z"
   },
   {
    "duration": 5,
    "start_time": "2023-03-27T17:04:53.516Z"
   },
   {
    "duration": 79,
    "start_time": "2023-03-27T17:05:10.886Z"
   },
   {
    "duration": 76,
    "start_time": "2023-03-27T17:05:22.430Z"
   },
   {
    "duration": 88,
    "start_time": "2023-03-27T17:05:31.752Z"
   },
   {
    "duration": 77,
    "start_time": "2023-03-27T17:06:12.198Z"
   },
   {
    "duration": 125,
    "start_time": "2023-03-27T17:06:37.429Z"
   },
   {
    "duration": 79,
    "start_time": "2023-03-27T17:06:42.116Z"
   },
   {
    "duration": 125,
    "start_time": "2023-03-27T17:06:52.182Z"
   },
   {
    "duration": 97,
    "start_time": "2023-03-27T17:07:04.248Z"
   },
   {
    "duration": 4,
    "start_time": "2023-03-27T17:07:12.283Z"
   },
   {
    "duration": 4,
    "start_time": "2023-03-27T17:08:06.886Z"
   },
   {
    "duration": 195,
    "start_time": "2023-03-27T17:08:11.799Z"
   },
   {
    "duration": 13,
    "start_time": "2023-03-27T17:08:16.387Z"
   },
   {
    "duration": 5,
    "start_time": "2023-03-27T17:08:23.484Z"
   },
   {
    "duration": 4,
    "start_time": "2023-03-27T17:10:09.991Z"
   },
   {
    "duration": 84,
    "start_time": "2023-03-27T17:10:37.036Z"
   },
   {
    "duration": 5,
    "start_time": "2023-03-27T17:10:46.890Z"
   },
   {
    "duration": 4,
    "start_time": "2023-03-27T17:11:01.187Z"
   },
   {
    "duration": 174,
    "start_time": "2023-03-27T17:11:30.784Z"
   },
   {
    "duration": 4,
    "start_time": "2023-03-27T17:11:36.696Z"
   },
   {
    "duration": 4,
    "start_time": "2023-03-27T17:11:44.124Z"
   },
   {
    "duration": 4,
    "start_time": "2023-03-27T17:12:07.287Z"
   },
   {
    "duration": 139,
    "start_time": "2023-03-27T17:12:17.515Z"
   },
   {
    "duration": 4,
    "start_time": "2023-03-27T17:12:21.902Z"
   },
   {
    "duration": 4,
    "start_time": "2023-03-27T17:12:33.618Z"
   },
   {
    "duration": 90,
    "start_time": "2023-03-27T17:12:38.954Z"
   },
   {
    "duration": 4,
    "start_time": "2023-03-27T17:12:41.297Z"
   },
   {
    "duration": 11,
    "start_time": "2023-03-27T17:14:34.136Z"
   },
   {
    "duration": 10,
    "start_time": "2023-03-27T17:14:37.626Z"
   },
   {
    "duration": 1466,
    "start_time": "2023-03-27T17:15:28.289Z"
   },
   {
    "duration": 176,
    "start_time": "2023-03-27T17:15:29.758Z"
   },
   {
    "duration": 12,
    "start_time": "2023-03-27T17:15:29.936Z"
   },
   {
    "duration": 27,
    "start_time": "2023-03-27T17:15:29.950Z"
   },
   {
    "duration": 4,
    "start_time": "2023-03-27T17:15:29.979Z"
   },
   {
    "duration": 9,
    "start_time": "2023-03-27T17:15:29.985Z"
   },
   {
    "duration": 76,
    "start_time": "2023-03-27T17:15:29.996Z"
   },
   {
    "duration": 23,
    "start_time": "2023-03-27T17:15:30.075Z"
   },
   {
    "duration": 49,
    "start_time": "2023-03-27T17:15:30.099Z"
   },
   {
    "duration": 29,
    "start_time": "2023-03-27T17:15:30.151Z"
   },
   {
    "duration": 114,
    "start_time": "2023-03-27T17:15:30.183Z"
   },
   {
    "duration": 104,
    "start_time": "2023-03-27T17:15:30.299Z"
   },
   {
    "duration": 13,
    "start_time": "2023-03-27T17:15:30.404Z"
   },
   {
    "duration": 109,
    "start_time": "2023-03-27T17:15:30.419Z"
   },
   {
    "duration": 23,
    "start_time": "2023-03-27T17:15:30.533Z"
   },
   {
    "duration": 105,
    "start_time": "2023-03-27T17:15:30.558Z"
   },
   {
    "duration": 67,
    "start_time": "2023-03-27T17:15:30.665Z"
   },
   {
    "duration": 33,
    "start_time": "2023-03-27T17:15:30.734Z"
   },
   {
    "duration": 47,
    "start_time": "2023-03-27T17:15:30.769Z"
   },
   {
    "duration": 26,
    "start_time": "2023-03-27T17:15:30.818Z"
   },
   {
    "duration": 18,
    "start_time": "2023-03-27T17:15:30.846Z"
   },
   {
    "duration": 12,
    "start_time": "2023-03-27T17:15:30.866Z"
   },
   {
    "duration": 24,
    "start_time": "2023-03-27T17:15:30.880Z"
   },
   {
    "duration": 28,
    "start_time": "2023-03-27T17:15:30.906Z"
   },
   {
    "duration": 5,
    "start_time": "2023-03-27T17:15:30.936Z"
   },
   {
    "duration": 355,
    "start_time": "2023-03-27T17:15:30.943Z"
   },
   {
    "duration": 42,
    "start_time": "2023-03-27T17:15:31.300Z"
   },
   {
    "duration": 17,
    "start_time": "2023-03-27T17:15:31.345Z"
   },
   {
    "duration": 14,
    "start_time": "2023-03-27T17:15:31.364Z"
   },
   {
    "duration": 132,
    "start_time": "2023-03-27T17:15:31.380Z"
   },
   {
    "duration": 0,
    "start_time": "2023-03-27T17:15:31.514Z"
   },
   {
    "duration": 0,
    "start_time": "2023-03-27T17:15:31.515Z"
   },
   {
    "duration": 11,
    "start_time": "2023-03-27T17:15:50.828Z"
   },
   {
    "duration": 9,
    "start_time": "2023-03-27T17:16:05.300Z"
   },
   {
    "duration": 4,
    "start_time": "2023-03-27T17:16:35.423Z"
   },
   {
    "duration": 10,
    "start_time": "2023-03-27T17:18:14.818Z"
   },
   {
    "duration": 8,
    "start_time": "2023-03-27T17:18:28.021Z"
   },
   {
    "duration": 3,
    "start_time": "2023-03-27T17:18:28.908Z"
   },
   {
    "duration": 4,
    "start_time": "2023-03-27T17:23:00.750Z"
   },
   {
    "duration": 4,
    "start_time": "2023-03-27T17:23:11.746Z"
   },
   {
    "duration": 13,
    "start_time": "2023-03-27T17:26:22.112Z"
   },
   {
    "duration": 48,
    "start_time": "2023-03-27T17:26:25.226Z"
   },
   {
    "duration": 263,
    "start_time": "2023-03-27T18:25:54.790Z"
   },
   {
    "duration": 156,
    "start_time": "2023-03-27T18:45:04.227Z"
   },
   {
    "duration": 146,
    "start_time": "2023-03-27T18:45:28.715Z"
   },
   {
    "duration": 273,
    "start_time": "2023-03-27T18:47:23.751Z"
   },
   {
    "duration": 1463,
    "start_time": "2023-03-27T18:47:52.995Z"
   },
   {
    "duration": 461,
    "start_time": "2023-03-27T18:48:02.769Z"
   },
   {
    "duration": 317,
    "start_time": "2023-03-27T18:48:07.362Z"
   },
   {
    "duration": 17,
    "start_time": "2023-03-27T18:48:55.402Z"
   },
   {
    "duration": 27,
    "start_time": "2023-03-27T18:51:39.630Z"
   },
   {
    "duration": 250,
    "start_time": "2023-03-27T18:51:48.382Z"
   },
   {
    "duration": 291,
    "start_time": "2023-03-27T18:51:58.935Z"
   },
   {
    "duration": 275,
    "start_time": "2023-03-27T18:56:59.423Z"
   },
   {
    "duration": 90,
    "start_time": "2023-03-27T19:17:10.982Z"
   },
   {
    "duration": 48,
    "start_time": "2023-03-27T19:17:14.588Z"
   },
   {
    "duration": 42,
    "start_time": "2023-03-27T19:17:40.349Z"
   },
   {
    "duration": 6,
    "start_time": "2023-03-27T19:17:53.586Z"
   },
   {
    "duration": 4,
    "start_time": "2023-03-27T19:18:01.056Z"
   },
   {
    "duration": 59,
    "start_time": "2023-03-27T19:18:07.188Z"
   },
   {
    "duration": 78,
    "start_time": "2023-03-27T19:18:20.606Z"
   },
   {
    "duration": 15,
    "start_time": "2023-03-27T19:43:02.630Z"
   },
   {
    "duration": 5,
    "start_time": "2023-03-27T19:43:09.705Z"
   },
   {
    "duration": 892,
    "start_time": "2023-03-27T19:43:16.291Z"
   },
   {
    "duration": 28,
    "start_time": "2023-03-27T19:43:21.139Z"
   },
   {
    "duration": 85,
    "start_time": "2023-03-27T19:43:51.792Z"
   },
   {
    "duration": 37,
    "start_time": "2023-03-27T19:43:55.816Z"
   },
   {
    "duration": 78,
    "start_time": "2023-03-27T19:46:27.198Z"
   },
   {
    "duration": 330,
    "start_time": "2023-03-27T19:46:38.193Z"
   },
   {
    "duration": 293,
    "start_time": "2023-03-27T19:46:44.501Z"
   },
   {
    "duration": 424,
    "start_time": "2023-03-27T19:47:12.899Z"
   },
   {
    "duration": 300,
    "start_time": "2023-03-27T19:49:41.523Z"
   },
   {
    "duration": 29,
    "start_time": "2023-03-27T19:50:15.199Z"
   },
   {
    "duration": 323,
    "start_time": "2023-03-27T19:50:29.515Z"
   },
   {
    "duration": 55,
    "start_time": "2023-03-28T08:04:28.403Z"
   },
   {
    "duration": 1381,
    "start_time": "2023-03-28T08:04:36.351Z"
   },
   {
    "duration": 714,
    "start_time": "2023-03-28T08:04:37.734Z"
   },
   {
    "duration": 12,
    "start_time": "2023-03-28T08:04:38.449Z"
   },
   {
    "duration": 20,
    "start_time": "2023-03-28T08:04:38.463Z"
   },
   {
    "duration": 3,
    "start_time": "2023-03-28T08:04:38.484Z"
   },
   {
    "duration": 5,
    "start_time": "2023-03-28T08:04:38.489Z"
   },
   {
    "duration": 55,
    "start_time": "2023-03-28T08:04:38.496Z"
   },
   {
    "duration": 21,
    "start_time": "2023-03-28T08:04:38.552Z"
   },
   {
    "duration": 21,
    "start_time": "2023-03-28T08:04:38.575Z"
   },
   {
    "duration": 9,
    "start_time": "2023-03-28T08:04:38.598Z"
   },
   {
    "duration": 95,
    "start_time": "2023-03-28T08:04:38.609Z"
   },
   {
    "duration": 92,
    "start_time": "2023-03-28T08:04:38.706Z"
   },
   {
    "duration": 11,
    "start_time": "2023-03-28T08:04:38.800Z"
   },
   {
    "duration": 90,
    "start_time": "2023-03-28T08:04:38.812Z"
   },
   {
    "duration": 20,
    "start_time": "2023-03-28T08:04:38.904Z"
   },
   {
    "duration": 74,
    "start_time": "2023-03-28T08:04:38.925Z"
   },
   {
    "duration": 49,
    "start_time": "2023-03-28T08:04:39.000Z"
   },
   {
    "duration": 9,
    "start_time": "2023-03-28T08:04:39.050Z"
   },
   {
    "duration": 29,
    "start_time": "2023-03-28T08:04:39.061Z"
   },
   {
    "duration": 18,
    "start_time": "2023-03-28T08:04:39.092Z"
   },
   {
    "duration": 34,
    "start_time": "2023-03-28T08:04:39.112Z"
   },
   {
    "duration": 11,
    "start_time": "2023-03-28T08:04:39.148Z"
   },
   {
    "duration": 18,
    "start_time": "2023-03-28T08:04:39.161Z"
   },
   {
    "duration": 4,
    "start_time": "2023-03-28T08:04:39.180Z"
   },
   {
    "duration": 7,
    "start_time": "2023-03-28T08:04:39.186Z"
   },
   {
    "duration": 324,
    "start_time": "2023-03-28T08:04:39.195Z"
   },
   {
    "duration": 35,
    "start_time": "2023-03-28T08:04:39.522Z"
   },
   {
    "duration": 15,
    "start_time": "2023-03-28T08:04:39.561Z"
   },
   {
    "duration": 12,
    "start_time": "2023-03-28T08:04:39.578Z"
   },
   {
    "duration": 4,
    "start_time": "2023-03-28T08:04:39.592Z"
   },
   {
    "duration": 8,
    "start_time": "2023-03-28T08:04:39.598Z"
   },
   {
    "duration": 35,
    "start_time": "2023-03-28T08:04:39.608Z"
   },
   {
    "duration": 44,
    "start_time": "2023-03-28T08:04:39.645Z"
   },
   {
    "duration": 139,
    "start_time": "2023-03-28T08:04:39.691Z"
   },
   {
    "duration": 0,
    "start_time": "2023-03-28T08:04:39.832Z"
   },
   {
    "duration": 0,
    "start_time": "2023-03-28T08:04:39.840Z"
   },
   {
    "duration": 35,
    "start_time": "2023-03-28T08:04:48.676Z"
   },
   {
    "duration": 67,
    "start_time": "2023-03-28T08:05:00.393Z"
   },
   {
    "duration": 40,
    "start_time": "2023-03-28T08:06:06.154Z"
   },
   {
    "duration": 38,
    "start_time": "2023-03-28T08:06:08.937Z"
   },
   {
    "duration": 4,
    "start_time": "2023-03-28T08:06:18.840Z"
   },
   {
    "duration": 4,
    "start_time": "2023-03-28T08:19:45.244Z"
   },
   {
    "duration": 70,
    "start_time": "2023-03-28T08:19:48.960Z"
   },
   {
    "duration": 43,
    "start_time": "2023-03-28T08:19:53.074Z"
   },
   {
    "duration": 37,
    "start_time": "2023-03-28T08:19:55.262Z"
   },
   {
    "duration": 23,
    "start_time": "2023-03-28T08:20:13.995Z"
   },
   {
    "duration": 11,
    "start_time": "2023-03-28T08:20:41.576Z"
   },
   {
    "duration": 22,
    "start_time": "2023-03-28T08:20:43.910Z"
   },
   {
    "duration": 23,
    "start_time": "2023-03-28T08:22:17.581Z"
   },
   {
    "duration": 232,
    "start_time": "2023-03-28T08:22:30.696Z"
   },
   {
    "duration": 1281,
    "start_time": "2023-03-28T08:22:38.582Z"
   },
   {
    "duration": 153,
    "start_time": "2023-03-28T08:22:39.865Z"
   },
   {
    "duration": 11,
    "start_time": "2023-03-28T08:22:40.020Z"
   },
   {
    "duration": 26,
    "start_time": "2023-03-28T08:22:40.033Z"
   },
   {
    "duration": 3,
    "start_time": "2023-03-28T08:22:40.061Z"
   },
   {
    "duration": 9,
    "start_time": "2023-03-28T08:22:40.066Z"
   },
   {
    "duration": 47,
    "start_time": "2023-03-28T08:22:40.076Z"
   },
   {
    "duration": 29,
    "start_time": "2023-03-28T08:22:40.125Z"
   },
   {
    "duration": 21,
    "start_time": "2023-03-28T08:22:40.155Z"
   },
   {
    "duration": 9,
    "start_time": "2023-03-28T08:22:40.179Z"
   },
   {
    "duration": 100,
    "start_time": "2023-03-28T08:22:40.189Z"
   },
   {
    "duration": 89,
    "start_time": "2023-03-28T08:22:40.290Z"
   },
   {
    "duration": 11,
    "start_time": "2023-03-28T08:22:40.381Z"
   },
   {
    "duration": 92,
    "start_time": "2023-03-28T08:22:40.393Z"
   },
   {
    "duration": 20,
    "start_time": "2023-03-28T08:22:40.486Z"
   },
   {
    "duration": 82,
    "start_time": "2023-03-28T08:22:40.508Z"
   },
   {
    "duration": 58,
    "start_time": "2023-03-28T08:22:40.592Z"
   },
   {
    "duration": 9,
    "start_time": "2023-03-28T08:22:40.652Z"
   },
   {
    "duration": 33,
    "start_time": "2023-03-28T08:22:40.663Z"
   },
   {
    "duration": 18,
    "start_time": "2023-03-28T08:22:40.698Z"
   },
   {
    "duration": 26,
    "start_time": "2023-03-28T08:22:40.718Z"
   },
   {
    "duration": 12,
    "start_time": "2023-03-28T08:22:40.747Z"
   },
   {
    "duration": 25,
    "start_time": "2023-03-28T08:22:40.761Z"
   },
   {
    "duration": 5,
    "start_time": "2023-03-28T08:22:40.788Z"
   },
   {
    "duration": 23,
    "start_time": "2023-03-28T08:22:40.794Z"
   },
   {
    "duration": 312,
    "start_time": "2023-03-28T08:22:40.819Z"
   },
   {
    "duration": 31,
    "start_time": "2023-03-28T08:22:41.133Z"
   },
   {
    "duration": 14,
    "start_time": "2023-03-28T08:22:41.168Z"
   },
   {
    "duration": 11,
    "start_time": "2023-03-28T08:22:41.184Z"
   },
   {
    "duration": 4,
    "start_time": "2023-03-28T08:22:41.197Z"
   },
   {
    "duration": 41,
    "start_time": "2023-03-28T08:22:41.203Z"
   },
   {
    "duration": 4,
    "start_time": "2023-03-28T08:22:41.246Z"
   },
   {
    "duration": 43,
    "start_time": "2023-03-28T08:22:41.251Z"
   },
   {
    "duration": 22,
    "start_time": "2023-03-28T08:22:41.295Z"
   },
   {
    "duration": 236,
    "start_time": "2023-03-28T08:22:41.339Z"
   },
   {
    "duration": 271,
    "start_time": "2023-03-28T08:22:41.577Z"
   },
   {
    "duration": 123,
    "start_time": "2023-03-28T08:39:37.735Z"
   },
   {
    "duration": 62,
    "start_time": "2023-03-28T08:39:41.105Z"
   },
   {
    "duration": 65,
    "start_time": "2023-03-28T08:39:56.435Z"
   },
   {
    "duration": 18,
    "start_time": "2023-03-28T08:42:55.204Z"
   },
   {
    "duration": 45,
    "start_time": "2023-03-28T08:43:13.324Z"
   },
   {
    "duration": 792,
    "start_time": "2023-03-28T08:48:55.545Z"
   },
   {
    "duration": 62,
    "start_time": "2023-03-28T08:49:12.946Z"
   },
   {
    "duration": 66,
    "start_time": "2023-03-28T08:49:20.840Z"
   },
   {
    "duration": 65,
    "start_time": "2023-03-28T08:50:12.191Z"
   },
   {
    "duration": 68,
    "start_time": "2023-03-28T08:50:48.641Z"
   },
   {
    "duration": 65,
    "start_time": "2023-03-28T08:51:01.881Z"
   },
   {
    "duration": 69,
    "start_time": "2023-03-28T08:51:50.929Z"
   },
   {
    "duration": 874,
    "start_time": "2023-03-28T08:51:57.297Z"
   },
   {
    "duration": 67,
    "start_time": "2023-03-28T08:52:14.006Z"
   },
   {
    "duration": 66,
    "start_time": "2023-03-28T08:52:31.225Z"
   },
   {
    "duration": 66,
    "start_time": "2023-03-28T08:52:48.098Z"
   },
   {
    "duration": 230,
    "start_time": "2023-03-28T08:54:30.053Z"
   },
   {
    "duration": 225,
    "start_time": "2023-03-28T08:55:14.426Z"
   },
   {
    "duration": 231,
    "start_time": "2023-03-28T08:55:21.335Z"
   },
   {
    "duration": 288,
    "start_time": "2023-03-28T08:55:39.066Z"
   },
   {
    "duration": 151,
    "start_time": "2023-03-28T08:57:03.326Z"
   },
   {
    "duration": 14,
    "start_time": "2023-03-28T09:00:12.484Z"
   },
   {
    "duration": 18,
    "start_time": "2023-03-28T09:00:17.025Z"
   },
   {
    "duration": 58,
    "start_time": "2023-03-28T09:00:25.394Z"
   },
   {
    "duration": 64,
    "start_time": "2023-03-28T09:00:32.001Z"
   },
   {
    "duration": 59,
    "start_time": "2023-03-28T09:01:05.935Z"
   },
   {
    "duration": 158,
    "start_time": "2023-03-28T09:01:20.538Z"
   },
   {
    "duration": 60,
    "start_time": "2023-03-28T09:02:19.936Z"
   },
   {
    "duration": 21,
    "start_time": "2023-03-28T09:03:03.396Z"
   },
   {
    "duration": 63,
    "start_time": "2023-03-28T09:03:40.710Z"
   },
   {
    "duration": 86,
    "start_time": "2023-03-28T09:04:07.582Z"
   },
   {
    "duration": 58,
    "start_time": "2023-03-28T09:04:33.289Z"
   },
   {
    "duration": 767,
    "start_time": "2023-03-28T09:04:40.237Z"
   },
   {
    "duration": 1227,
    "start_time": "2023-03-28T09:05:00.891Z"
   },
   {
    "duration": 152,
    "start_time": "2023-03-28T09:05:02.120Z"
   },
   {
    "duration": 11,
    "start_time": "2023-03-28T09:05:02.274Z"
   },
   {
    "duration": 146,
    "start_time": "2023-03-28T09:05:02.287Z"
   },
   {
    "duration": 25,
    "start_time": "2023-03-28T09:05:02.435Z"
   },
   {
    "duration": 18,
    "start_time": "2023-03-28T09:05:02.461Z"
   },
   {
    "duration": 61,
    "start_time": "2023-03-28T09:05:02.480Z"
   },
   {
    "duration": 16,
    "start_time": "2023-03-28T09:05:02.544Z"
   },
   {
    "duration": 46,
    "start_time": "2023-03-28T09:05:02.562Z"
   },
   {
    "duration": 9,
    "start_time": "2023-03-28T09:05:02.610Z"
   },
   {
    "duration": 77,
    "start_time": "2023-03-28T09:05:02.621Z"
   },
   {
    "duration": 87,
    "start_time": "2023-03-28T09:05:02.700Z"
   },
   {
    "duration": 11,
    "start_time": "2023-03-28T09:05:02.789Z"
   },
   {
    "duration": 95,
    "start_time": "2023-03-28T09:05:02.802Z"
   },
   {
    "duration": 24,
    "start_time": "2023-03-28T09:05:02.898Z"
   },
   {
    "duration": 74,
    "start_time": "2023-03-28T09:05:02.924Z"
   },
   {
    "duration": 48,
    "start_time": "2023-03-28T09:05:03.000Z"
   },
   {
    "duration": 10,
    "start_time": "2023-03-28T09:05:03.050Z"
   },
   {
    "duration": 38,
    "start_time": "2023-03-28T09:05:03.062Z"
   },
   {
    "duration": 21,
    "start_time": "2023-03-28T09:05:03.103Z"
   },
   {
    "duration": 31,
    "start_time": "2023-03-28T09:05:03.126Z"
   },
   {
    "duration": 15,
    "start_time": "2023-03-28T09:05:03.158Z"
   },
   {
    "duration": 30,
    "start_time": "2023-03-28T09:05:03.175Z"
   },
   {
    "duration": 4,
    "start_time": "2023-03-28T09:05:03.206Z"
   },
   {
    "duration": 15,
    "start_time": "2023-03-28T09:05:03.212Z"
   },
   {
    "duration": 332,
    "start_time": "2023-03-28T09:05:03.229Z"
   },
   {
    "duration": 26,
    "start_time": "2023-03-28T09:05:03.563Z"
   },
   {
    "duration": 17,
    "start_time": "2023-03-28T09:05:03.592Z"
   },
   {
    "duration": 30,
    "start_time": "2023-03-28T09:05:03.611Z"
   },
   {
    "duration": 10,
    "start_time": "2023-03-28T09:05:03.643Z"
   },
   {
    "duration": 9,
    "start_time": "2023-03-28T09:05:03.657Z"
   },
   {
    "duration": 4,
    "start_time": "2023-03-28T09:05:03.668Z"
   },
   {
    "duration": 72,
    "start_time": "2023-03-28T09:05:03.673Z"
   },
   {
    "duration": 27,
    "start_time": "2023-03-28T09:05:03.746Z"
   },
   {
    "duration": 281,
    "start_time": "2023-03-28T09:05:03.775Z"
   },
   {
    "duration": 58,
    "start_time": "2023-03-28T09:05:04.057Z"
   },
   {
    "duration": 174,
    "start_time": "2023-03-28T09:05:04.116Z"
   },
   {
    "duration": 290,
    "start_time": "2023-03-28T09:05:04.292Z"
   },
   {
    "duration": 895,
    "start_time": "2023-03-28T09:05:19.268Z"
   },
   {
    "duration": 811,
    "start_time": "2023-03-28T09:05:54.671Z"
   },
   {
    "duration": 1277,
    "start_time": "2023-03-28T09:06:01.310Z"
   },
   {
    "duration": 152,
    "start_time": "2023-03-28T09:06:02.588Z"
   },
   {
    "duration": 12,
    "start_time": "2023-03-28T09:06:02.742Z"
   },
   {
    "duration": 32,
    "start_time": "2023-03-28T09:06:02.756Z"
   },
   {
    "duration": 4,
    "start_time": "2023-03-28T09:06:02.789Z"
   },
   {
    "duration": 6,
    "start_time": "2023-03-28T09:06:02.794Z"
   },
   {
    "duration": 56,
    "start_time": "2023-03-28T09:06:02.801Z"
   },
   {
    "duration": 16,
    "start_time": "2023-03-28T09:06:02.859Z"
   },
   {
    "duration": 21,
    "start_time": "2023-03-28T09:06:02.877Z"
   },
   {
    "duration": 9,
    "start_time": "2023-03-28T09:06:02.900Z"
   },
   {
    "duration": 93,
    "start_time": "2023-03-28T09:06:02.911Z"
   },
   {
    "duration": 94,
    "start_time": "2023-03-28T09:06:03.006Z"
   },
   {
    "duration": 13,
    "start_time": "2023-03-28T09:06:03.101Z"
   },
   {
    "duration": 95,
    "start_time": "2023-03-28T09:06:03.115Z"
   },
   {
    "duration": 29,
    "start_time": "2023-03-28T09:06:03.212Z"
   },
   {
    "duration": 64,
    "start_time": "2023-03-28T09:06:03.243Z"
   },
   {
    "duration": 54,
    "start_time": "2023-03-28T09:06:03.309Z"
   },
   {
    "duration": 10,
    "start_time": "2023-03-28T09:06:03.365Z"
   },
   {
    "duration": 32,
    "start_time": "2023-03-28T09:06:03.377Z"
   },
   {
    "duration": 30,
    "start_time": "2023-03-28T09:06:03.411Z"
   },
   {
    "duration": 12,
    "start_time": "2023-03-28T09:06:03.443Z"
   },
   {
    "duration": 7,
    "start_time": "2023-03-28T09:06:03.457Z"
   },
   {
    "duration": 17,
    "start_time": "2023-03-28T09:06:03.466Z"
   },
   {
    "duration": 4,
    "start_time": "2023-03-28T09:06:03.485Z"
   },
   {
    "duration": 7,
    "start_time": "2023-03-28T09:06:03.491Z"
   },
   {
    "duration": 334,
    "start_time": "2023-03-28T09:06:03.500Z"
   },
   {
    "duration": 34,
    "start_time": "2023-03-28T09:06:03.835Z"
   },
   {
    "duration": 25,
    "start_time": "2023-03-28T09:06:03.873Z"
   },
   {
    "duration": 13,
    "start_time": "2023-03-28T09:06:03.900Z"
   },
   {
    "duration": 26,
    "start_time": "2023-03-28T09:06:03.915Z"
   },
   {
    "duration": 25,
    "start_time": "2023-03-28T09:06:03.942Z"
   },
   {
    "duration": 4,
    "start_time": "2023-03-28T09:06:03.968Z"
   },
   {
    "duration": 46,
    "start_time": "2023-03-28T09:06:03.974Z"
   },
   {
    "duration": 31,
    "start_time": "2023-03-28T09:06:04.021Z"
   },
   {
    "duration": 259,
    "start_time": "2023-03-28T09:06:04.054Z"
   },
   {
    "duration": 911,
    "start_time": "2023-03-28T09:06:04.315Z"
   },
   {
    "duration": 0,
    "start_time": "2023-03-28T09:06:05.228Z"
   },
   {
    "duration": 0,
    "start_time": "2023-03-28T09:06:05.229Z"
   },
   {
    "duration": 63,
    "start_time": "2023-03-28T09:06:48.734Z"
   },
   {
    "duration": 58,
    "start_time": "2023-03-28T09:06:53.201Z"
   },
   {
    "duration": 1220,
    "start_time": "2023-03-28T09:06:58.656Z"
   },
   {
    "duration": 149,
    "start_time": "2023-03-28T09:06:59.878Z"
   },
   {
    "duration": 15,
    "start_time": "2023-03-28T09:07:00.029Z"
   },
   {
    "duration": 30,
    "start_time": "2023-03-28T09:07:00.046Z"
   },
   {
    "duration": 3,
    "start_time": "2023-03-28T09:07:00.078Z"
   },
   {
    "duration": 35,
    "start_time": "2023-03-28T09:07:00.083Z"
   },
   {
    "duration": 76,
    "start_time": "2023-03-28T09:07:00.120Z"
   },
   {
    "duration": 16,
    "start_time": "2023-03-28T09:07:00.198Z"
   },
   {
    "duration": 45,
    "start_time": "2023-03-28T09:07:00.216Z"
   },
   {
    "duration": 34,
    "start_time": "2023-03-28T09:07:00.264Z"
   },
   {
    "duration": 108,
    "start_time": "2023-03-28T09:07:00.300Z"
   },
   {
    "duration": 83,
    "start_time": "2023-03-28T09:07:00.410Z"
   },
   {
    "duration": 14,
    "start_time": "2023-03-28T09:07:00.495Z"
   },
   {
    "duration": 108,
    "start_time": "2023-03-28T09:07:00.511Z"
   },
   {
    "duration": 24,
    "start_time": "2023-03-28T09:07:00.621Z"
   },
   {
    "duration": 85,
    "start_time": "2023-03-28T09:07:00.647Z"
   },
   {
    "duration": 62,
    "start_time": "2023-03-28T09:07:00.733Z"
   },
   {
    "duration": 19,
    "start_time": "2023-03-28T09:07:00.797Z"
   },
   {
    "duration": 46,
    "start_time": "2023-03-28T09:07:00.818Z"
   },
   {
    "duration": 33,
    "start_time": "2023-03-28T09:07:00.866Z"
   },
   {
    "duration": 33,
    "start_time": "2023-03-28T09:07:00.901Z"
   },
   {
    "duration": 59,
    "start_time": "2023-03-28T09:07:00.936Z"
   },
   {
    "duration": 31,
    "start_time": "2023-03-28T09:07:00.997Z"
   },
   {
    "duration": 11,
    "start_time": "2023-03-28T09:07:01.030Z"
   },
   {
    "duration": 33,
    "start_time": "2023-03-28T09:07:01.042Z"
   },
   {
    "duration": 326,
    "start_time": "2023-03-28T09:07:01.076Z"
   },
   {
    "duration": 25,
    "start_time": "2023-03-28T09:07:01.404Z"
   },
   {
    "duration": 26,
    "start_time": "2023-03-28T09:07:01.432Z"
   },
   {
    "duration": 27,
    "start_time": "2023-03-28T09:07:01.459Z"
   },
   {
    "duration": 70,
    "start_time": "2023-03-28T09:07:01.488Z"
   },
   {
    "duration": 25,
    "start_time": "2023-03-28T09:07:01.560Z"
   },
   {
    "duration": 19,
    "start_time": "2023-03-28T09:07:01.587Z"
   },
   {
    "duration": 64,
    "start_time": "2023-03-28T09:07:01.607Z"
   },
   {
    "duration": 28,
    "start_time": "2023-03-28T09:07:01.673Z"
   },
   {
    "duration": 251,
    "start_time": "2023-03-28T09:07:01.702Z"
   },
   {
    "duration": 183,
    "start_time": "2023-03-28T09:07:01.955Z"
   },
   {
    "duration": 0,
    "start_time": "2023-03-28T09:07:02.140Z"
   },
   {
    "duration": 0,
    "start_time": "2023-03-28T09:07:02.142Z"
   },
   {
    "duration": 63,
    "start_time": "2023-03-28T09:07:11.045Z"
   },
   {
    "duration": 67,
    "start_time": "2023-03-28T09:07:43.673Z"
   },
   {
    "duration": 1309,
    "start_time": "2023-03-28T09:07:52.116Z"
   },
   {
    "duration": 171,
    "start_time": "2023-03-28T09:07:53.426Z"
   },
   {
    "duration": 15,
    "start_time": "2023-03-28T09:07:53.602Z"
   },
   {
    "duration": 43,
    "start_time": "2023-03-28T09:07:53.619Z"
   },
   {
    "duration": 4,
    "start_time": "2023-03-28T09:07:53.664Z"
   },
   {
    "duration": 4,
    "start_time": "2023-03-28T09:07:53.670Z"
   },
   {
    "duration": 64,
    "start_time": "2023-03-28T09:07:53.676Z"
   },
   {
    "duration": 16,
    "start_time": "2023-03-28T09:07:53.742Z"
   },
   {
    "duration": 29,
    "start_time": "2023-03-28T09:07:53.761Z"
   },
   {
    "duration": 9,
    "start_time": "2023-03-28T09:07:53.792Z"
   },
   {
    "duration": 100,
    "start_time": "2023-03-28T09:07:53.803Z"
   },
   {
    "duration": 92,
    "start_time": "2023-03-28T09:07:53.904Z"
   },
   {
    "duration": 12,
    "start_time": "2023-03-28T09:07:53.998Z"
   },
   {
    "duration": 100,
    "start_time": "2023-03-28T09:07:54.012Z"
   },
   {
    "duration": 30,
    "start_time": "2023-03-28T09:07:54.113Z"
   },
   {
    "duration": 75,
    "start_time": "2023-03-28T09:07:54.144Z"
   },
   {
    "duration": 70,
    "start_time": "2023-03-28T09:07:54.221Z"
   },
   {
    "duration": 10,
    "start_time": "2023-03-28T09:07:54.293Z"
   },
   {
    "duration": 40,
    "start_time": "2023-03-28T09:07:54.305Z"
   },
   {
    "duration": 20,
    "start_time": "2023-03-28T09:07:54.346Z"
   },
   {
    "duration": 12,
    "start_time": "2023-03-28T09:07:54.367Z"
   },
   {
    "duration": 9,
    "start_time": "2023-03-28T09:07:54.381Z"
   },
   {
    "duration": 18,
    "start_time": "2023-03-28T09:07:54.392Z"
   },
   {
    "duration": 6,
    "start_time": "2023-03-28T09:07:54.441Z"
   },
   {
    "duration": 4,
    "start_time": "2023-03-28T09:07:54.449Z"
   },
   {
    "duration": 353,
    "start_time": "2023-03-28T09:07:54.455Z"
   },
   {
    "duration": 35,
    "start_time": "2023-03-28T09:07:54.812Z"
   },
   {
    "duration": 19,
    "start_time": "2023-03-28T09:07:54.849Z"
   },
   {
    "duration": 12,
    "start_time": "2023-03-28T09:07:54.870Z"
   },
   {
    "duration": 4,
    "start_time": "2023-03-28T09:07:54.883Z"
   },
   {
    "duration": 38,
    "start_time": "2023-03-28T09:07:54.888Z"
   },
   {
    "duration": 4,
    "start_time": "2023-03-28T09:07:54.927Z"
   },
   {
    "duration": 59,
    "start_time": "2023-03-28T09:07:54.932Z"
   },
   {
    "duration": 25,
    "start_time": "2023-03-28T09:07:54.993Z"
   },
   {
    "duration": 262,
    "start_time": "2023-03-28T09:07:55.019Z"
   },
   {
    "duration": 169,
    "start_time": "2023-03-28T09:07:55.282Z"
   },
   {
    "duration": 0,
    "start_time": "2023-03-28T09:07:55.452Z"
   },
   {
    "duration": 0,
    "start_time": "2023-03-28T09:07:55.453Z"
   },
   {
    "duration": 1101,
    "start_time": "2023-03-28T09:09:00.201Z"
   },
   {
    "duration": 76,
    "start_time": "2023-03-28T09:10:11.486Z"
   },
   {
    "duration": 52,
    "start_time": "2023-03-28T09:10:23.248Z"
   },
   {
    "duration": 66,
    "start_time": "2023-03-28T09:10:26.731Z"
   },
   {
    "duration": 57,
    "start_time": "2023-03-28T09:10:34.846Z"
   },
   {
    "duration": 55,
    "start_time": "2023-03-28T09:10:37.898Z"
   },
   {
    "duration": 59,
    "start_time": "2023-03-28T09:10:53.010Z"
   },
   {
    "duration": 68,
    "start_time": "2023-03-28T09:10:58.983Z"
   },
   {
    "duration": 55,
    "start_time": "2023-03-28T09:11:09.234Z"
   },
   {
    "duration": 53,
    "start_time": "2023-03-28T09:11:31.593Z"
   },
   {
    "duration": 65,
    "start_time": "2023-03-28T09:11:36.265Z"
   },
   {
    "duration": 59,
    "start_time": "2023-03-28T09:11:49.325Z"
   },
   {
    "duration": 15,
    "start_time": "2023-03-28T09:12:53.731Z"
   },
   {
    "duration": 17,
    "start_time": "2023-03-28T09:12:58.531Z"
   },
   {
    "duration": 68,
    "start_time": "2023-03-28T09:13:03.658Z"
   },
   {
    "duration": 109,
    "start_time": "2023-03-28T09:13:31.141Z"
   },
   {
    "duration": 57,
    "start_time": "2023-03-28T09:13:40.128Z"
   },
   {
    "duration": 66,
    "start_time": "2023-03-28T09:13:46.634Z"
   },
   {
    "duration": 22,
    "start_time": "2023-03-28T09:13:51.015Z"
   },
   {
    "duration": 57,
    "start_time": "2023-03-28T09:14:15.669Z"
   },
   {
    "duration": 181,
    "start_time": "2023-03-28T09:14:26.507Z"
   },
   {
    "duration": 233,
    "start_time": "2023-03-28T09:14:41.274Z"
   },
   {
    "duration": 165,
    "start_time": "2023-03-28T09:14:53.131Z"
   },
   {
    "duration": 249,
    "start_time": "2023-03-28T09:15:36.834Z"
   },
   {
    "duration": 155,
    "start_time": "2023-03-28T09:16:22.777Z"
   },
   {
    "duration": 162,
    "start_time": "2023-03-28T09:16:37.383Z"
   },
   {
    "duration": 24,
    "start_time": "2023-03-28T09:17:27.248Z"
   },
   {
    "duration": 46,
    "start_time": "2023-03-28T09:17:36.355Z"
   },
   {
    "duration": 169,
    "start_time": "2023-03-28T09:17:39.339Z"
   },
   {
    "duration": 177,
    "start_time": "2023-03-28T09:17:47.496Z"
   },
   {
    "duration": 209,
    "start_time": "2023-03-28T09:20:31.659Z"
   },
   {
    "duration": 221,
    "start_time": "2023-03-28T09:21:06.331Z"
   },
   {
    "duration": 212,
    "start_time": "2023-03-28T09:21:27.199Z"
   },
   {
    "duration": 220,
    "start_time": "2023-03-28T09:21:44.215Z"
   },
   {
    "duration": 229,
    "start_time": "2023-03-28T09:23:17.533Z"
   },
   {
    "duration": 289,
    "start_time": "2023-03-28T09:24:00.995Z"
   },
   {
    "duration": 225,
    "start_time": "2023-03-28T09:24:08.087Z"
   },
   {
    "duration": 238,
    "start_time": "2023-03-28T09:24:14.525Z"
   },
   {
    "duration": 217,
    "start_time": "2023-03-28T09:24:28.208Z"
   },
   {
    "duration": 1231,
    "start_time": "2023-03-28T09:24:44.611Z"
   },
   {
    "duration": 147,
    "start_time": "2023-03-28T09:24:45.844Z"
   },
   {
    "duration": 11,
    "start_time": "2023-03-28T09:24:45.992Z"
   },
   {
    "duration": 24,
    "start_time": "2023-03-28T09:24:46.005Z"
   },
   {
    "duration": 10,
    "start_time": "2023-03-28T09:24:46.030Z"
   },
   {
    "duration": 7,
    "start_time": "2023-03-28T09:24:46.042Z"
   },
   {
    "duration": 47,
    "start_time": "2023-03-28T09:24:46.051Z"
   },
   {
    "duration": 18,
    "start_time": "2023-03-28T09:24:46.099Z"
   },
   {
    "duration": 38,
    "start_time": "2023-03-28T09:24:46.118Z"
   },
   {
    "duration": 9,
    "start_time": "2023-03-28T09:24:46.158Z"
   },
   {
    "duration": 101,
    "start_time": "2023-03-28T09:24:46.168Z"
   },
   {
    "duration": 99,
    "start_time": "2023-03-28T09:24:46.271Z"
   },
   {
    "duration": 13,
    "start_time": "2023-03-28T09:24:46.371Z"
   },
   {
    "duration": 109,
    "start_time": "2023-03-28T09:24:46.385Z"
   },
   {
    "duration": 23,
    "start_time": "2023-03-28T09:24:46.495Z"
   },
   {
    "duration": 78,
    "start_time": "2023-03-28T09:24:46.520Z"
   },
   {
    "duration": 45,
    "start_time": "2023-03-28T09:24:46.600Z"
   },
   {
    "duration": 10,
    "start_time": "2023-03-28T09:24:46.646Z"
   },
   {
    "duration": 28,
    "start_time": "2023-03-28T09:24:46.657Z"
   },
   {
    "duration": 19,
    "start_time": "2023-03-28T09:24:46.687Z"
   },
   {
    "duration": 35,
    "start_time": "2023-03-28T09:24:46.707Z"
   },
   {
    "duration": 7,
    "start_time": "2023-03-28T09:24:46.743Z"
   },
   {
    "duration": 17,
    "start_time": "2023-03-28T09:24:46.751Z"
   },
   {
    "duration": 5,
    "start_time": "2023-03-28T09:24:46.769Z"
   },
   {
    "duration": 7,
    "start_time": "2023-03-28T09:24:46.776Z"
   },
   {
    "duration": 326,
    "start_time": "2023-03-28T09:24:46.785Z"
   },
   {
    "duration": 34,
    "start_time": "2023-03-28T09:24:47.112Z"
   },
   {
    "duration": 19,
    "start_time": "2023-03-28T09:24:47.150Z"
   },
   {
    "duration": 11,
    "start_time": "2023-03-28T09:24:47.170Z"
   },
   {
    "duration": 5,
    "start_time": "2023-03-28T09:24:47.183Z"
   },
   {
    "duration": 8,
    "start_time": "2023-03-28T09:24:47.189Z"
   },
   {
    "duration": 3,
    "start_time": "2023-03-28T09:24:47.200Z"
   },
   {
    "duration": 45,
    "start_time": "2023-03-28T09:24:47.239Z"
   },
   {
    "duration": 22,
    "start_time": "2023-03-28T09:24:47.286Z"
   },
   {
    "duration": 254,
    "start_time": "2023-03-28T09:24:47.310Z"
   },
   {
    "duration": 57,
    "start_time": "2023-03-28T09:24:47.566Z"
   },
   {
    "duration": 194,
    "start_time": "2023-03-28T09:24:47.624Z"
   },
   {
    "duration": 292,
    "start_time": "2023-03-28T09:24:47.820Z"
   },
   {
    "duration": 234,
    "start_time": "2023-03-28T09:25:05.268Z"
   },
   {
    "duration": 1314,
    "start_time": "2023-03-28T09:25:25.480Z"
   },
   {
    "duration": 160,
    "start_time": "2023-03-28T09:25:26.796Z"
   },
   {
    "duration": 15,
    "start_time": "2023-03-28T09:25:26.957Z"
   },
   {
    "duration": 32,
    "start_time": "2023-03-28T09:25:26.974Z"
   },
   {
    "duration": 3,
    "start_time": "2023-03-28T09:25:27.008Z"
   },
   {
    "duration": 4,
    "start_time": "2023-03-28T09:25:27.013Z"
   },
   {
    "duration": 51,
    "start_time": "2023-03-28T09:25:27.041Z"
   },
   {
    "duration": 19,
    "start_time": "2023-03-28T09:25:27.094Z"
   },
   {
    "duration": 47,
    "start_time": "2023-03-28T09:25:27.114Z"
   },
   {
    "duration": 10,
    "start_time": "2023-03-28T09:25:27.164Z"
   },
   {
    "duration": 94,
    "start_time": "2023-03-28T09:25:27.175Z"
   },
   {
    "duration": 92,
    "start_time": "2023-03-28T09:25:27.271Z"
   },
   {
    "duration": 11,
    "start_time": "2023-03-28T09:25:27.366Z"
   },
   {
    "duration": 106,
    "start_time": "2023-03-28T09:25:27.379Z"
   },
   {
    "duration": 23,
    "start_time": "2023-03-28T09:25:27.487Z"
   },
   {
    "duration": 73,
    "start_time": "2023-03-28T09:25:27.511Z"
   },
   {
    "duration": 38,
    "start_time": "2023-03-28T09:25:27.586Z"
   },
   {
    "duration": 21,
    "start_time": "2023-03-28T09:25:27.625Z"
   },
   {
    "duration": 38,
    "start_time": "2023-03-28T09:25:27.648Z"
   },
   {
    "duration": 21,
    "start_time": "2023-03-28T09:25:27.688Z"
   },
   {
    "duration": 12,
    "start_time": "2023-03-28T09:25:27.711Z"
   },
   {
    "duration": 8,
    "start_time": "2023-03-28T09:25:27.739Z"
   },
   {
    "duration": 18,
    "start_time": "2023-03-28T09:25:27.748Z"
   },
   {
    "duration": 4,
    "start_time": "2023-03-28T09:25:27.768Z"
   },
   {
    "duration": 6,
    "start_time": "2023-03-28T09:25:27.773Z"
   },
   {
    "duration": 334,
    "start_time": "2023-03-28T09:25:27.781Z"
   },
   {
    "duration": 32,
    "start_time": "2023-03-28T09:25:28.116Z"
   },
   {
    "duration": 18,
    "start_time": "2023-03-28T09:25:28.151Z"
   },
   {
    "duration": 11,
    "start_time": "2023-03-28T09:25:28.171Z"
   },
   {
    "duration": 4,
    "start_time": "2023-03-28T09:25:28.184Z"
   },
   {
    "duration": 7,
    "start_time": "2023-03-28T09:25:28.189Z"
   },
   {
    "duration": 3,
    "start_time": "2023-03-28T09:25:28.198Z"
   },
   {
    "duration": 44,
    "start_time": "2023-03-28T09:25:28.240Z"
   },
   {
    "duration": 22,
    "start_time": "2023-03-28T09:25:28.285Z"
   },
   {
    "duration": 257,
    "start_time": "2023-03-28T09:25:28.309Z"
   },
   {
    "duration": 59,
    "start_time": "2023-03-28T09:25:28.568Z"
   },
   {
    "duration": 182,
    "start_time": "2023-03-28T09:25:28.628Z"
   },
   {
    "duration": 279,
    "start_time": "2023-03-28T09:25:28.812Z"
   },
   {
    "duration": 265,
    "start_time": "2023-03-28T09:25:43.972Z"
   },
   {
    "duration": 212,
    "start_time": "2023-03-28T09:25:50.230Z"
   },
   {
    "duration": 292,
    "start_time": "2023-03-28T09:25:57.744Z"
   },
   {
    "duration": 224,
    "start_time": "2023-03-28T09:26:04.638Z"
   },
   {
    "duration": 215,
    "start_time": "2023-03-28T09:26:08.662Z"
   },
   {
    "duration": 212,
    "start_time": "2023-03-28T09:26:12.437Z"
   },
   {
    "duration": 220,
    "start_time": "2023-03-28T09:26:16.625Z"
   },
   {
    "duration": 333,
    "start_time": "2023-03-28T09:26:36.142Z"
   },
   {
    "duration": 1273,
    "start_time": "2023-03-28T09:26:42.051Z"
   },
   {
    "duration": 150,
    "start_time": "2023-03-28T09:26:43.326Z"
   },
   {
    "duration": 12,
    "start_time": "2023-03-28T09:26:43.477Z"
   },
   {
    "duration": 26,
    "start_time": "2023-03-28T09:26:43.491Z"
   },
   {
    "duration": 9,
    "start_time": "2023-03-28T09:26:43.518Z"
   },
   {
    "duration": 11,
    "start_time": "2023-03-28T09:26:43.529Z"
   },
   {
    "duration": 48,
    "start_time": "2023-03-28T09:26:43.542Z"
   },
   {
    "duration": 16,
    "start_time": "2023-03-28T09:26:43.591Z"
   },
   {
    "duration": 31,
    "start_time": "2023-03-28T09:26:43.609Z"
   },
   {
    "duration": 11,
    "start_time": "2023-03-28T09:26:43.643Z"
   },
   {
    "duration": 93,
    "start_time": "2023-03-28T09:26:43.656Z"
   },
   {
    "duration": 94,
    "start_time": "2023-03-28T09:26:43.751Z"
   },
   {
    "duration": 13,
    "start_time": "2023-03-28T09:26:43.846Z"
   },
   {
    "duration": 105,
    "start_time": "2023-03-28T09:26:43.861Z"
   },
   {
    "duration": 37,
    "start_time": "2023-03-28T09:26:43.968Z"
   },
   {
    "duration": 105,
    "start_time": "2023-03-28T09:26:44.007Z"
   },
   {
    "duration": 47,
    "start_time": "2023-03-28T09:26:44.113Z"
   },
   {
    "duration": 10,
    "start_time": "2023-03-28T09:26:44.161Z"
   },
   {
    "duration": 28,
    "start_time": "2023-03-28T09:26:44.172Z"
   },
   {
    "duration": 39,
    "start_time": "2023-03-28T09:26:44.201Z"
   },
   {
    "duration": 47,
    "start_time": "2023-03-28T09:26:44.242Z"
   },
   {
    "duration": 23,
    "start_time": "2023-03-28T09:26:44.291Z"
   },
   {
    "duration": 34,
    "start_time": "2023-03-28T09:26:44.316Z"
   },
   {
    "duration": 4,
    "start_time": "2023-03-28T09:26:44.352Z"
   },
   {
    "duration": 4,
    "start_time": "2023-03-28T09:26:44.358Z"
   },
   {
    "duration": 323,
    "start_time": "2023-03-28T09:26:44.363Z"
   },
   {
    "duration": 25,
    "start_time": "2023-03-28T09:26:44.687Z"
   },
   {
    "duration": 29,
    "start_time": "2023-03-28T09:26:44.715Z"
   },
   {
    "duration": 12,
    "start_time": "2023-03-28T09:26:44.746Z"
   },
   {
    "duration": 4,
    "start_time": "2023-03-28T09:26:44.760Z"
   },
   {
    "duration": 8,
    "start_time": "2023-03-28T09:26:44.766Z"
   },
   {
    "duration": 3,
    "start_time": "2023-03-28T09:26:44.776Z"
   },
   {
    "duration": 84,
    "start_time": "2023-03-28T09:26:44.782Z"
   },
   {
    "duration": 25,
    "start_time": "2023-03-28T09:26:44.867Z"
   },
   {
    "duration": 307,
    "start_time": "2023-03-28T09:26:44.894Z"
   },
   {
    "duration": 73,
    "start_time": "2023-03-28T09:26:45.203Z"
   },
   {
    "duration": 178,
    "start_time": "2023-03-28T09:26:45.277Z"
   },
   {
    "duration": 290,
    "start_time": "2023-03-28T09:26:45.457Z"
   },
   {
    "duration": 44,
    "start_time": "2023-03-28T09:27:14.154Z"
   },
   {
    "duration": 40,
    "start_time": "2023-03-28T09:27:20.398Z"
   },
   {
    "duration": 219,
    "start_time": "2023-03-28T09:27:25.613Z"
   },
   {
    "duration": 236,
    "start_time": "2023-03-28T09:27:33.750Z"
   },
   {
    "duration": 320,
    "start_time": "2023-03-28T09:30:03.609Z"
   },
   {
    "duration": 243,
    "start_time": "2023-03-28T09:30:12.397Z"
   },
   {
    "duration": 236,
    "start_time": "2023-03-28T09:30:28.558Z"
   },
   {
    "duration": 1278,
    "start_time": "2023-03-28T09:30:41.809Z"
   },
   {
    "duration": 152,
    "start_time": "2023-03-28T09:30:43.089Z"
   },
   {
    "duration": 12,
    "start_time": "2023-03-28T09:30:43.243Z"
   },
   {
    "duration": 20,
    "start_time": "2023-03-28T09:30:43.257Z"
   },
   {
    "duration": 18,
    "start_time": "2023-03-28T09:30:43.279Z"
   },
   {
    "duration": 11,
    "start_time": "2023-03-28T09:30:43.299Z"
   },
   {
    "duration": 51,
    "start_time": "2023-03-28T09:30:43.311Z"
   },
   {
    "duration": 20,
    "start_time": "2023-03-28T09:30:43.364Z"
   },
   {
    "duration": 23,
    "start_time": "2023-03-28T09:30:43.385Z"
   },
   {
    "duration": 29,
    "start_time": "2023-03-28T09:30:43.411Z"
   },
   {
    "duration": 75,
    "start_time": "2023-03-28T09:30:43.442Z"
   },
   {
    "duration": 93,
    "start_time": "2023-03-28T09:30:43.519Z"
   },
   {
    "duration": 11,
    "start_time": "2023-03-28T09:30:43.613Z"
   },
   {
    "duration": 91,
    "start_time": "2023-03-28T09:30:43.626Z"
   },
   {
    "duration": 31,
    "start_time": "2023-03-28T09:30:43.719Z"
   },
   {
    "duration": 59,
    "start_time": "2023-03-28T09:30:43.752Z"
   },
   {
    "duration": 54,
    "start_time": "2023-03-28T09:30:43.813Z"
   },
   {
    "duration": 10,
    "start_time": "2023-03-28T09:30:43.868Z"
   },
   {
    "duration": 26,
    "start_time": "2023-03-28T09:30:43.879Z"
   },
   {
    "duration": 34,
    "start_time": "2023-03-28T09:30:43.907Z"
   },
   {
    "duration": 11,
    "start_time": "2023-03-28T09:30:43.942Z"
   },
   {
    "duration": 9,
    "start_time": "2023-03-28T09:30:43.954Z"
   },
   {
    "duration": 17,
    "start_time": "2023-03-28T09:30:43.964Z"
   },
   {
    "duration": 3,
    "start_time": "2023-03-28T09:30:43.983Z"
   },
   {
    "duration": 8,
    "start_time": "2023-03-28T09:30:43.988Z"
   },
   {
    "duration": 331,
    "start_time": "2023-03-28T09:30:43.998Z"
   },
   {
    "duration": 28,
    "start_time": "2023-03-28T09:30:44.330Z"
   },
   {
    "duration": 17,
    "start_time": "2023-03-28T09:30:44.361Z"
   },
   {
    "duration": 11,
    "start_time": "2023-03-28T09:30:44.379Z"
   },
   {
    "duration": 4,
    "start_time": "2023-03-28T09:30:44.392Z"
   },
   {
    "duration": 9,
    "start_time": "2023-03-28T09:30:44.397Z"
   },
   {
    "duration": 4,
    "start_time": "2023-03-28T09:30:44.441Z"
   },
   {
    "duration": 47,
    "start_time": "2023-03-28T09:30:44.447Z"
   },
   {
    "duration": 45,
    "start_time": "2023-03-28T09:30:44.496Z"
   },
   {
    "duration": 249,
    "start_time": "2023-03-28T09:30:44.542Z"
   },
   {
    "duration": 66,
    "start_time": "2023-03-28T09:30:44.793Z"
   },
   {
    "duration": 173,
    "start_time": "2023-03-28T09:30:44.861Z"
   },
   {
    "duration": 273,
    "start_time": "2023-03-28T09:30:45.039Z"
   },
   {
    "duration": 251,
    "start_time": "2023-03-28T09:31:29.022Z"
   },
   {
    "duration": 1268,
    "start_time": "2023-03-28T09:31:44.237Z"
   },
   {
    "duration": 152,
    "start_time": "2023-03-28T09:31:45.507Z"
   },
   {
    "duration": 12,
    "start_time": "2023-03-28T09:31:45.660Z"
   },
   {
    "duration": 20,
    "start_time": "2023-03-28T09:31:45.673Z"
   },
   {
    "duration": 4,
    "start_time": "2023-03-28T09:31:45.694Z"
   },
   {
    "duration": 6,
    "start_time": "2023-03-28T09:31:45.699Z"
   },
   {
    "duration": 74,
    "start_time": "2023-03-28T09:31:45.706Z"
   },
   {
    "duration": 16,
    "start_time": "2023-03-28T09:31:45.782Z"
   },
   {
    "duration": 21,
    "start_time": "2023-03-28T09:31:45.799Z"
   },
   {
    "duration": 11,
    "start_time": "2023-03-28T09:31:45.842Z"
   },
   {
    "duration": 108,
    "start_time": "2023-03-28T09:31:45.855Z"
   },
   {
    "duration": 86,
    "start_time": "2023-03-28T09:31:45.964Z"
   },
   {
    "duration": 11,
    "start_time": "2023-03-28T09:31:46.051Z"
   },
   {
    "duration": 97,
    "start_time": "2023-03-28T09:31:46.063Z"
   },
   {
    "duration": 23,
    "start_time": "2023-03-28T09:31:46.162Z"
   },
   {
    "duration": 87,
    "start_time": "2023-03-28T09:31:46.189Z"
   },
   {
    "duration": 40,
    "start_time": "2023-03-28T09:31:46.279Z"
   },
   {
    "duration": 33,
    "start_time": "2023-03-28T09:31:46.321Z"
   },
   {
    "duration": 28,
    "start_time": "2023-03-28T09:31:46.356Z"
   },
   {
    "duration": 20,
    "start_time": "2023-03-28T09:31:46.386Z"
   },
   {
    "duration": 35,
    "start_time": "2023-03-28T09:31:46.408Z"
   },
   {
    "duration": 8,
    "start_time": "2023-03-28T09:31:46.444Z"
   },
   {
    "duration": 17,
    "start_time": "2023-03-28T09:31:46.453Z"
   },
   {
    "duration": 4,
    "start_time": "2023-03-28T09:31:46.472Z"
   },
   {
    "duration": 9,
    "start_time": "2023-03-28T09:31:46.477Z"
   },
   {
    "duration": 338,
    "start_time": "2023-03-28T09:31:46.487Z"
   },
   {
    "duration": 32,
    "start_time": "2023-03-28T09:31:46.827Z"
   },
   {
    "duration": 17,
    "start_time": "2023-03-28T09:31:46.862Z"
   },
   {
    "duration": 11,
    "start_time": "2023-03-28T09:31:46.880Z"
   },
   {
    "duration": 3,
    "start_time": "2023-03-28T09:31:46.893Z"
   },
   {
    "duration": 6,
    "start_time": "2023-03-28T09:31:46.898Z"
   },
   {
    "duration": 34,
    "start_time": "2023-03-28T09:31:46.906Z"
   },
   {
    "duration": 52,
    "start_time": "2023-03-28T09:31:46.942Z"
   },
   {
    "duration": 23,
    "start_time": "2023-03-28T09:31:46.995Z"
   },
   {
    "duration": 333,
    "start_time": "2023-03-28T09:31:47.019Z"
   },
   {
    "duration": 87,
    "start_time": "2023-03-28T09:31:47.354Z"
   },
   {
    "duration": 234,
    "start_time": "2023-03-28T09:31:47.443Z"
   },
   {
    "duration": 266,
    "start_time": "2023-03-28T09:31:47.678Z"
   },
   {
    "duration": 163,
    "start_time": "2023-03-28T09:32:30.012Z"
   },
   {
    "duration": 215,
    "start_time": "2023-03-28T09:35:23.021Z"
   },
   {
    "duration": 269,
    "start_time": "2023-03-28T09:35:27.353Z"
   },
   {
    "duration": 217,
    "start_time": "2023-03-28T09:35:33.264Z"
   },
   {
    "duration": 209,
    "start_time": "2023-03-28T09:35:37.104Z"
   },
   {
    "duration": 225,
    "start_time": "2023-03-28T09:35:46.460Z"
   },
   {
    "duration": 1248,
    "start_time": "2023-03-28T09:35:51.647Z"
   },
   {
    "duration": 169,
    "start_time": "2023-03-28T09:35:52.897Z"
   },
   {
    "duration": 14,
    "start_time": "2023-03-28T09:35:53.068Z"
   },
   {
    "duration": 21,
    "start_time": "2023-03-28T09:35:53.085Z"
   },
   {
    "duration": 4,
    "start_time": "2023-03-28T09:35:53.108Z"
   },
   {
    "duration": 28,
    "start_time": "2023-03-28T09:35:53.114Z"
   },
   {
    "duration": 56,
    "start_time": "2023-03-28T09:35:53.144Z"
   },
   {
    "duration": 18,
    "start_time": "2023-03-28T09:35:53.202Z"
   },
   {
    "duration": 30,
    "start_time": "2023-03-28T09:35:53.240Z"
   },
   {
    "duration": 9,
    "start_time": "2023-03-28T09:35:53.274Z"
   },
   {
    "duration": 104,
    "start_time": "2023-03-28T09:35:53.285Z"
   },
   {
    "duration": 91,
    "start_time": "2023-03-28T09:35:53.391Z"
   },
   {
    "duration": 12,
    "start_time": "2023-03-28T09:35:53.484Z"
   },
   {
    "duration": 107,
    "start_time": "2023-03-28T09:35:53.498Z"
   },
   {
    "duration": 22,
    "start_time": "2023-03-28T09:35:53.607Z"
   },
   {
    "duration": 67,
    "start_time": "2023-03-28T09:35:53.640Z"
   },
   {
    "duration": 60,
    "start_time": "2023-03-28T09:35:53.708Z"
   },
   {
    "duration": 9,
    "start_time": "2023-03-28T09:35:53.770Z"
   },
   {
    "duration": 28,
    "start_time": "2023-03-28T09:35:53.781Z"
   },
   {
    "duration": 37,
    "start_time": "2023-03-28T09:35:53.811Z"
   },
   {
    "duration": 14,
    "start_time": "2023-03-28T09:35:53.849Z"
   },
   {
    "duration": 7,
    "start_time": "2023-03-28T09:35:53.864Z"
   },
   {
    "duration": 17,
    "start_time": "2023-03-28T09:35:53.873Z"
   },
   {
    "duration": 4,
    "start_time": "2023-03-28T09:35:53.892Z"
   },
   {
    "duration": 4,
    "start_time": "2023-03-28T09:35:53.898Z"
   },
   {
    "duration": 354,
    "start_time": "2023-03-28T09:35:53.903Z"
   },
   {
    "duration": 24,
    "start_time": "2023-03-28T09:35:54.259Z"
   },
   {
    "duration": 16,
    "start_time": "2023-03-28T09:35:54.287Z"
   },
   {
    "duration": 10,
    "start_time": "2023-03-28T09:35:54.305Z"
   },
   {
    "duration": 24,
    "start_time": "2023-03-28T09:35:54.317Z"
   },
   {
    "duration": 8,
    "start_time": "2023-03-28T09:35:54.343Z"
   },
   {
    "duration": 3,
    "start_time": "2023-03-28T09:35:54.352Z"
   },
   {
    "duration": 45,
    "start_time": "2023-03-28T09:35:54.357Z"
   },
   {
    "duration": 45,
    "start_time": "2023-03-28T09:35:54.404Z"
   },
   {
    "duration": 264,
    "start_time": "2023-03-28T09:35:54.451Z"
   },
   {
    "duration": 64,
    "start_time": "2023-03-28T09:35:54.716Z"
   },
   {
    "duration": 180,
    "start_time": "2023-03-28T09:35:54.781Z"
   },
   {
    "duration": 268,
    "start_time": "2023-03-28T09:35:54.962Z"
   },
   {
    "duration": 210,
    "start_time": "2023-03-28T09:39:22.957Z"
   },
   {
    "duration": 251,
    "start_time": "2023-03-28T09:39:26.611Z"
   },
   {
    "duration": 1242,
    "start_time": "2023-03-28T09:39:34.325Z"
   },
   {
    "duration": 149,
    "start_time": "2023-03-28T09:39:35.569Z"
   },
   {
    "duration": 21,
    "start_time": "2023-03-28T09:39:35.719Z"
   },
   {
    "duration": 20,
    "start_time": "2023-03-28T09:39:35.742Z"
   },
   {
    "duration": 13,
    "start_time": "2023-03-28T09:39:35.764Z"
   },
   {
    "duration": 12,
    "start_time": "2023-03-28T09:39:35.779Z"
   },
   {
    "duration": 48,
    "start_time": "2023-03-28T09:39:35.793Z"
   },
   {
    "duration": 17,
    "start_time": "2023-03-28T09:39:35.843Z"
   },
   {
    "duration": 26,
    "start_time": "2023-03-28T09:39:35.862Z"
   },
   {
    "duration": 9,
    "start_time": "2023-03-28T09:39:35.891Z"
   },
   {
    "duration": 94,
    "start_time": "2023-03-28T09:39:35.902Z"
   },
   {
    "duration": 91,
    "start_time": "2023-03-28T09:39:35.998Z"
   },
   {
    "duration": 11,
    "start_time": "2023-03-28T09:39:36.091Z"
   },
   {
    "duration": 98,
    "start_time": "2023-03-28T09:39:36.104Z"
   },
   {
    "duration": 25,
    "start_time": "2023-03-28T09:39:36.204Z"
   },
   {
    "duration": 79,
    "start_time": "2023-03-28T09:39:36.240Z"
   },
   {
    "duration": 49,
    "start_time": "2023-03-28T09:39:36.320Z"
   },
   {
    "duration": 11,
    "start_time": "2023-03-28T09:39:36.370Z"
   },
   {
    "duration": 26,
    "start_time": "2023-03-28T09:39:36.383Z"
   },
   {
    "duration": 34,
    "start_time": "2023-03-28T09:39:36.410Z"
   },
   {
    "duration": 11,
    "start_time": "2023-03-28T09:39:36.446Z"
   },
   {
    "duration": 16,
    "start_time": "2023-03-28T09:39:36.458Z"
   },
   {
    "duration": 17,
    "start_time": "2023-03-28T09:39:36.476Z"
   },
   {
    "duration": 4,
    "start_time": "2023-03-28T09:39:36.494Z"
   },
   {
    "duration": 26,
    "start_time": "2023-03-28T09:39:36.500Z"
   },
   {
    "duration": 294,
    "start_time": "2023-03-28T09:39:36.527Z"
   },
   {
    "duration": 30,
    "start_time": "2023-03-28T09:39:36.823Z"
   },
   {
    "duration": 18,
    "start_time": "2023-03-28T09:39:36.856Z"
   },
   {
    "duration": 10,
    "start_time": "2023-03-28T09:39:36.876Z"
   },
   {
    "duration": 3,
    "start_time": "2023-03-28T09:39:36.888Z"
   },
   {
    "duration": 10,
    "start_time": "2023-03-28T09:39:36.893Z"
   },
   {
    "duration": 3,
    "start_time": "2023-03-28T09:39:36.904Z"
   },
   {
    "duration": 65,
    "start_time": "2023-03-28T09:39:36.909Z"
   },
   {
    "duration": 26,
    "start_time": "2023-03-28T09:39:36.976Z"
   },
   {
    "duration": 282,
    "start_time": "2023-03-28T09:39:37.004Z"
   },
   {
    "duration": 64,
    "start_time": "2023-03-28T09:39:37.288Z"
   },
   {
    "duration": 170,
    "start_time": "2023-03-28T09:39:37.353Z"
   },
   {
    "duration": 336,
    "start_time": "2023-03-28T09:39:37.525Z"
   },
   {
    "duration": 164,
    "start_time": "2023-03-28T09:49:19.057Z"
   },
   {
    "duration": 115,
    "start_time": "2023-03-28T10:25:25.238Z"
   },
   {
    "duration": 115,
    "start_time": "2023-03-28T10:25:29.989Z"
   },
   {
    "duration": 187,
    "start_time": "2023-03-28T10:25:51.953Z"
   },
   {
    "duration": 103,
    "start_time": "2023-03-28T10:25:56.325Z"
   },
   {
    "duration": 106,
    "start_time": "2023-03-28T10:26:01.899Z"
   },
   {
    "duration": 106,
    "start_time": "2023-03-28T10:26:10.399Z"
   },
   {
    "duration": 110,
    "start_time": "2023-03-28T10:26:29.182Z"
   },
   {
    "duration": 119,
    "start_time": "2023-03-28T10:27:19.498Z"
   },
   {
    "duration": 122,
    "start_time": "2023-03-28T10:27:25.131Z"
   },
   {
    "duration": 729,
    "start_time": "2023-03-28T10:31:05.429Z"
   },
   {
    "duration": 140,
    "start_time": "2023-03-28T10:31:17.405Z"
   },
   {
    "duration": 19,
    "start_time": "2023-03-28T10:32:48.483Z"
   },
   {
    "duration": 9,
    "start_time": "2023-03-28T10:32:52.342Z"
   },
   {
    "duration": 40,
    "start_time": "2023-03-28T11:01:25.583Z"
   },
   {
    "duration": 23,
    "start_time": "2023-03-28T11:01:30.577Z"
   },
   {
    "duration": 15,
    "start_time": "2023-03-28T11:01:42.833Z"
   },
   {
    "duration": 45,
    "start_time": "2023-03-28T11:01:53.585Z"
   },
   {
    "duration": 23,
    "start_time": "2023-03-28T11:02:20.964Z"
   },
   {
    "duration": 12,
    "start_time": "2023-03-28T11:02:46.367Z"
   },
   {
    "duration": 3,
    "start_time": "2023-03-28T11:16:43.859Z"
   },
   {
    "duration": 3,
    "start_time": "2023-03-28T11:16:47.833Z"
   },
   {
    "duration": 9,
    "start_time": "2023-03-28T11:18:56.338Z"
   },
   {
    "duration": 8,
    "start_time": "2023-03-28T11:19:52.922Z"
   },
   {
    "duration": 8,
    "start_time": "2023-03-28T11:20:00.244Z"
   },
   {
    "duration": 64,
    "start_time": "2023-03-28T11:20:14.173Z"
   },
   {
    "duration": 66,
    "start_time": "2023-03-28T11:20:23.701Z"
   },
   {
    "duration": 63,
    "start_time": "2023-03-28T11:20:39.031Z"
   },
   {
    "duration": 56,
    "start_time": "2023-03-28T11:20:43.120Z"
   },
   {
    "duration": 56,
    "start_time": "2023-03-28T11:20:46.697Z"
   },
   {
    "duration": 50,
    "start_time": "2023-03-28T11:20:59.859Z"
   },
   {
    "duration": 7,
    "start_time": "2023-03-28T11:21:04.925Z"
   },
   {
    "duration": 1214,
    "start_time": "2023-03-28T11:21:27.422Z"
   },
   {
    "duration": 148,
    "start_time": "2023-03-28T11:21:28.638Z"
   },
   {
    "duration": 11,
    "start_time": "2023-03-28T11:21:28.788Z"
   },
   {
    "duration": 20,
    "start_time": "2023-03-28T11:21:28.801Z"
   },
   {
    "duration": 18,
    "start_time": "2023-03-28T11:21:28.822Z"
   },
   {
    "duration": 3,
    "start_time": "2023-03-28T11:21:28.841Z"
   },
   {
    "duration": 46,
    "start_time": "2023-03-28T11:21:28.846Z"
   },
   {
    "duration": 16,
    "start_time": "2023-03-28T11:21:28.893Z"
   },
   {
    "duration": 41,
    "start_time": "2023-03-28T11:21:28.911Z"
   },
   {
    "duration": 9,
    "start_time": "2023-03-28T11:21:28.954Z"
   },
   {
    "duration": 87,
    "start_time": "2023-03-28T11:21:28.965Z"
   },
   {
    "duration": 87,
    "start_time": "2023-03-28T11:21:29.054Z"
   },
   {
    "duration": 12,
    "start_time": "2023-03-28T11:21:29.142Z"
   },
   {
    "duration": 91,
    "start_time": "2023-03-28T11:21:29.155Z"
   },
   {
    "duration": 21,
    "start_time": "2023-03-28T11:21:29.248Z"
   },
   {
    "duration": 70,
    "start_time": "2023-03-28T11:21:29.271Z"
   },
   {
    "duration": 39,
    "start_time": "2023-03-28T11:21:29.343Z"
   },
   {
    "duration": 10,
    "start_time": "2023-03-28T11:21:29.384Z"
   },
   {
    "duration": 53,
    "start_time": "2023-03-28T11:21:29.396Z"
   },
   {
    "duration": 19,
    "start_time": "2023-03-28T11:21:29.451Z"
   },
   {
    "duration": 12,
    "start_time": "2023-03-28T11:21:29.471Z"
   },
   {
    "duration": 7,
    "start_time": "2023-03-28T11:21:29.485Z"
   },
   {
    "duration": 16,
    "start_time": "2023-03-28T11:21:29.494Z"
   },
   {
    "duration": 30,
    "start_time": "2023-03-28T11:21:29.512Z"
   },
   {
    "duration": 4,
    "start_time": "2023-03-28T11:21:29.544Z"
   },
   {
    "duration": 294,
    "start_time": "2023-03-28T11:21:29.549Z"
   },
   {
    "duration": 24,
    "start_time": "2023-03-28T11:21:29.845Z"
   },
   {
    "duration": 17,
    "start_time": "2023-03-28T11:21:29.872Z"
   },
   {
    "duration": 10,
    "start_time": "2023-03-28T11:21:29.891Z"
   },
   {
    "duration": 9,
    "start_time": "2023-03-28T11:21:29.902Z"
   },
   {
    "duration": 30,
    "start_time": "2023-03-28T11:21:29.912Z"
   },
   {
    "duration": 4,
    "start_time": "2023-03-28T11:21:29.943Z"
   },
   {
    "duration": 44,
    "start_time": "2023-03-28T11:21:29.948Z"
   },
   {
    "duration": 23,
    "start_time": "2023-03-28T11:21:29.994Z"
   },
   {
    "duration": 261,
    "start_time": "2023-03-28T11:21:30.040Z"
   },
   {
    "duration": 60,
    "start_time": "2023-03-28T11:21:30.303Z"
   },
   {
    "duration": 8,
    "start_time": "2023-03-28T11:21:30.365Z"
   },
   {
    "duration": 201,
    "start_time": "2023-03-28T11:21:30.374Z"
   },
   {
    "duration": 123,
    "start_time": "2023-03-28T11:21:30.577Z"
   },
   {
    "duration": 10,
    "start_time": "2023-03-28T11:21:30.702Z"
   },
   {
    "duration": 10,
    "start_time": "2023-03-28T11:21:41.232Z"
   },
   {
    "duration": 5,
    "start_time": "2023-03-28T11:21:46.477Z"
   },
   {
    "duration": 8,
    "start_time": "2023-03-28T11:21:49.771Z"
   },
   {
    "duration": 8,
    "start_time": "2023-03-28T11:21:55.256Z"
   },
   {
    "duration": 1287,
    "start_time": "2023-03-28T11:22:13.953Z"
   },
   {
    "duration": 150,
    "start_time": "2023-03-28T11:22:15.242Z"
   },
   {
    "duration": 11,
    "start_time": "2023-03-28T11:22:15.394Z"
   },
   {
    "duration": 18,
    "start_time": "2023-03-28T11:22:15.407Z"
   },
   {
    "duration": 4,
    "start_time": "2023-03-28T11:22:15.439Z"
   },
   {
    "duration": 14,
    "start_time": "2023-03-28T11:22:15.445Z"
   },
   {
    "duration": 46,
    "start_time": "2023-03-28T11:22:15.461Z"
   },
   {
    "duration": 17,
    "start_time": "2023-03-28T11:22:15.509Z"
   },
   {
    "duration": 28,
    "start_time": "2023-03-28T11:22:15.527Z"
   },
   {
    "duration": 10,
    "start_time": "2023-03-28T11:22:15.558Z"
   },
   {
    "duration": 99,
    "start_time": "2023-03-28T11:22:15.570Z"
   },
   {
    "duration": 90,
    "start_time": "2023-03-28T11:22:15.671Z"
   },
   {
    "duration": 12,
    "start_time": "2023-03-28T11:22:15.763Z"
   },
   {
    "duration": 106,
    "start_time": "2023-03-28T11:22:15.777Z"
   },
   {
    "duration": 23,
    "start_time": "2023-03-28T11:22:15.885Z"
   },
   {
    "duration": 84,
    "start_time": "2023-03-28T11:22:15.909Z"
   },
   {
    "duration": 46,
    "start_time": "2023-03-28T11:22:15.995Z"
   },
   {
    "duration": 10,
    "start_time": "2023-03-28T11:22:16.043Z"
   },
   {
    "duration": 29,
    "start_time": "2023-03-28T11:22:16.055Z"
   },
   {
    "duration": 19,
    "start_time": "2023-03-28T11:22:16.086Z"
   },
   {
    "duration": 41,
    "start_time": "2023-03-28T11:22:16.107Z"
   },
   {
    "duration": 8,
    "start_time": "2023-03-28T11:22:16.150Z"
   },
   {
    "duration": 17,
    "start_time": "2023-03-28T11:22:16.159Z"
   },
   {
    "duration": 4,
    "start_time": "2023-03-28T11:22:16.178Z"
   },
   {
    "duration": 7,
    "start_time": "2023-03-28T11:22:16.185Z"
   },
   {
    "duration": 344,
    "start_time": "2023-03-28T11:22:16.194Z"
   },
   {
    "duration": 24,
    "start_time": "2023-03-28T11:22:16.545Z"
   },
   {
    "duration": 19,
    "start_time": "2023-03-28T11:22:16.573Z"
   },
   {
    "duration": 20,
    "start_time": "2023-03-28T11:22:16.595Z"
   },
   {
    "duration": 25,
    "start_time": "2023-03-28T11:22:16.617Z"
   },
   {
    "duration": 8,
    "start_time": "2023-03-28T11:22:16.644Z"
   },
   {
    "duration": 5,
    "start_time": "2023-03-28T11:22:16.654Z"
   },
   {
    "duration": 83,
    "start_time": "2023-03-28T11:22:16.661Z"
   },
   {
    "duration": 36,
    "start_time": "2023-03-28T11:22:16.746Z"
   },
   {
    "duration": 294,
    "start_time": "2023-03-28T11:22:16.786Z"
   },
   {
    "duration": 64,
    "start_time": "2023-03-28T11:22:17.082Z"
   },
   {
    "duration": 9,
    "start_time": "2023-03-28T11:22:17.147Z"
   },
   {
    "duration": 194,
    "start_time": "2023-03-28T11:22:17.158Z"
   },
   {
    "duration": 126,
    "start_time": "2023-03-28T11:22:17.355Z"
   },
   {
    "duration": 14,
    "start_time": "2023-03-28T11:22:17.483Z"
   },
   {
    "duration": 11,
    "start_time": "2023-03-28T11:23:05.197Z"
   },
   {
    "duration": 7,
    "start_time": "2023-03-28T11:23:13.123Z"
   },
   {
    "duration": 10,
    "start_time": "2023-03-28T11:23:24.218Z"
   },
   {
    "duration": 9,
    "start_time": "2023-03-28T11:23:37.200Z"
   },
   {
    "duration": 4,
    "start_time": "2023-03-28T11:23:46.880Z"
   },
   {
    "duration": 10,
    "start_time": "2023-03-28T11:23:51.537Z"
   },
   {
    "duration": 3,
    "start_time": "2023-03-28T11:24:06.496Z"
   },
   {
    "duration": 8,
    "start_time": "2023-03-28T11:24:12.596Z"
   },
   {
    "duration": 10,
    "start_time": "2023-03-28T11:24:25.034Z"
   },
   {
    "duration": 117,
    "start_time": "2023-03-28T11:25:20.979Z"
   },
   {
    "duration": 3,
    "start_time": "2023-03-28T11:25:30.167Z"
   },
   {
    "duration": 3,
    "start_time": "2023-03-28T11:25:34.360Z"
   },
   {
    "duration": 11,
    "start_time": "2023-03-28T11:26:18.849Z"
   },
   {
    "duration": 13,
    "start_time": "2023-03-28T11:26:27.044Z"
   },
   {
    "duration": 12,
    "start_time": "2023-03-28T11:26:34.352Z"
   },
   {
    "duration": 16,
    "start_time": "2023-03-28T11:26:48.079Z"
   },
   {
    "duration": 9,
    "start_time": "2023-03-28T11:27:06.703Z"
   },
   {
    "duration": 30,
    "start_time": "2023-03-28T11:27:34.046Z"
   },
   {
    "duration": 12,
    "start_time": "2023-03-28T11:27:40.599Z"
   },
   {
    "duration": 9,
    "start_time": "2023-03-28T11:27:56.491Z"
   },
   {
    "duration": 11,
    "start_time": "2023-03-28T11:29:16.845Z"
   },
   {
    "duration": 15,
    "start_time": "2023-03-28T11:29:23.634Z"
   },
   {
    "duration": 12,
    "start_time": "2023-03-28T11:30:33.099Z"
   },
   {
    "duration": 12,
    "start_time": "2023-03-28T11:31:00.831Z"
   },
   {
    "duration": 52,
    "start_time": "2023-03-28T11:31:18.671Z"
   },
   {
    "duration": 13,
    "start_time": "2023-03-28T11:31:36.453Z"
   },
   {
    "duration": 3,
    "start_time": "2023-03-28T11:33:21.540Z"
   },
   {
    "duration": 4,
    "start_time": "2023-03-28T11:33:27.151Z"
   },
   {
    "duration": 12,
    "start_time": "2023-03-28T11:33:32.103Z"
   },
   {
    "duration": 5,
    "start_time": "2023-03-28T11:35:39.897Z"
   },
   {
    "duration": 12,
    "start_time": "2023-03-28T11:35:45.512Z"
   },
   {
    "duration": 18,
    "start_time": "2023-03-28T11:44:16.440Z"
   },
   {
    "duration": 12,
    "start_time": "2023-03-28T11:44:32.143Z"
   },
   {
    "duration": 11,
    "start_time": "2023-03-28T11:44:50.474Z"
   },
   {
    "duration": 1254,
    "start_time": "2023-03-28T11:44:58.072Z"
   },
   {
    "duration": 151,
    "start_time": "2023-03-28T11:44:59.328Z"
   },
   {
    "duration": 12,
    "start_time": "2023-03-28T11:44:59.481Z"
   },
   {
    "duration": 24,
    "start_time": "2023-03-28T11:44:59.495Z"
   },
   {
    "duration": 3,
    "start_time": "2023-03-28T11:44:59.521Z"
   },
   {
    "duration": 4,
    "start_time": "2023-03-28T11:44:59.525Z"
   },
   {
    "duration": 50,
    "start_time": "2023-03-28T11:44:59.540Z"
   },
   {
    "duration": 17,
    "start_time": "2023-03-28T11:44:59.592Z"
   },
   {
    "duration": 35,
    "start_time": "2023-03-28T11:44:59.612Z"
   },
   {
    "duration": 9,
    "start_time": "2023-03-28T11:44:59.650Z"
   },
   {
    "duration": 90,
    "start_time": "2023-03-28T11:44:59.661Z"
   },
   {
    "duration": 90,
    "start_time": "2023-03-28T11:44:59.752Z"
   },
   {
    "duration": 11,
    "start_time": "2023-03-28T11:44:59.843Z"
   },
   {
    "duration": 102,
    "start_time": "2023-03-28T11:44:59.856Z"
   },
   {
    "duration": 22,
    "start_time": "2023-03-28T11:44:59.960Z"
   },
   {
    "duration": 79,
    "start_time": "2023-03-28T11:44:59.984Z"
   },
   {
    "duration": 40,
    "start_time": "2023-03-28T11:45:00.065Z"
   },
   {
    "duration": 34,
    "start_time": "2023-03-28T11:45:00.107Z"
   },
   {
    "duration": 61,
    "start_time": "2023-03-28T11:45:00.143Z"
   },
   {
    "duration": 20,
    "start_time": "2023-03-28T11:45:00.206Z"
   },
   {
    "duration": 48,
    "start_time": "2023-03-28T11:45:00.228Z"
   },
   {
    "duration": 75,
    "start_time": "2023-03-28T11:45:00.278Z"
   },
   {
    "duration": 53,
    "start_time": "2023-03-28T11:45:00.355Z"
   },
   {
    "duration": 41,
    "start_time": "2023-03-28T11:45:00.409Z"
   },
   {
    "duration": 27,
    "start_time": "2023-03-28T11:45:00.451Z"
   },
   {
    "duration": 347,
    "start_time": "2023-03-28T11:45:00.480Z"
   },
   {
    "duration": 35,
    "start_time": "2023-03-28T11:45:00.829Z"
   },
   {
    "duration": 18,
    "start_time": "2023-03-28T11:45:00.868Z"
   },
   {
    "duration": 34,
    "start_time": "2023-03-28T11:45:00.887Z"
   },
   {
    "duration": 29,
    "start_time": "2023-03-28T11:45:00.923Z"
   },
   {
    "duration": 40,
    "start_time": "2023-03-28T11:45:00.954Z"
   },
   {
    "duration": 30,
    "start_time": "2023-03-28T11:45:00.996Z"
   },
   {
    "duration": 68,
    "start_time": "2023-03-28T11:45:01.028Z"
   },
   {
    "duration": 22,
    "start_time": "2023-03-28T11:45:01.098Z"
   },
   {
    "duration": 262,
    "start_time": "2023-03-28T11:45:01.122Z"
   },
   {
    "duration": 64,
    "start_time": "2023-03-28T11:45:01.386Z"
   },
   {
    "duration": 8,
    "start_time": "2023-03-28T11:45:01.452Z"
   },
   {
    "duration": 199,
    "start_time": "2023-03-28T11:45:01.461Z"
   },
   {
    "duration": 157,
    "start_time": "2023-03-28T11:45:01.662Z"
   },
   {
    "duration": 20,
    "start_time": "2023-03-28T11:45:01.820Z"
   },
   {
    "duration": 55,
    "start_time": "2023-03-28T11:45:01.841Z"
   },
   {
    "duration": 59,
    "start_time": "2023-03-28T11:45:01.898Z"
   },
   {
    "duration": 13,
    "start_time": "2023-03-28T11:46:47.027Z"
   },
   {
    "duration": 13,
    "start_time": "2023-03-28T11:47:43.955Z"
   },
   {
    "duration": 14,
    "start_time": "2023-03-28T11:48:02.119Z"
   },
   {
    "duration": 13,
    "start_time": "2023-03-28T11:48:15.074Z"
   },
   {
    "duration": 14,
    "start_time": "2023-03-28T11:48:21.212Z"
   },
   {
    "duration": 16,
    "start_time": "2023-03-28T11:48:26.265Z"
   },
   {
    "duration": 13,
    "start_time": "2023-03-28T11:48:55.190Z"
   },
   {
    "duration": 1280,
    "start_time": "2023-03-28T11:49:10.725Z"
   },
   {
    "duration": 151,
    "start_time": "2023-03-28T11:49:12.007Z"
   },
   {
    "duration": 13,
    "start_time": "2023-03-28T11:49:12.160Z"
   },
   {
    "duration": 21,
    "start_time": "2023-03-28T11:49:12.175Z"
   },
   {
    "duration": 4,
    "start_time": "2023-03-28T11:49:12.198Z"
   },
   {
    "duration": 11,
    "start_time": "2023-03-28T11:49:12.204Z"
   },
   {
    "duration": 69,
    "start_time": "2023-03-28T11:49:12.216Z"
   },
   {
    "duration": 16,
    "start_time": "2023-03-28T11:49:12.287Z"
   },
   {
    "duration": 41,
    "start_time": "2023-03-28T11:49:12.305Z"
   },
   {
    "duration": 17,
    "start_time": "2023-03-28T11:49:12.349Z"
   },
   {
    "duration": 102,
    "start_time": "2023-03-28T11:49:12.368Z"
   },
   {
    "duration": 101,
    "start_time": "2023-03-28T11:49:12.472Z"
   },
   {
    "duration": 12,
    "start_time": "2023-03-28T11:49:12.574Z"
   },
   {
    "duration": 96,
    "start_time": "2023-03-28T11:49:12.587Z"
   },
   {
    "duration": 21,
    "start_time": "2023-03-28T11:49:12.685Z"
   },
   {
    "duration": 70,
    "start_time": "2023-03-28T11:49:12.707Z"
   },
   {
    "duration": 39,
    "start_time": "2023-03-28T11:49:12.779Z"
   },
   {
    "duration": 21,
    "start_time": "2023-03-28T11:49:12.819Z"
   },
   {
    "duration": 27,
    "start_time": "2023-03-28T11:49:12.841Z"
   },
   {
    "duration": 19,
    "start_time": "2023-03-28T11:49:12.869Z"
   },
   {
    "duration": 14,
    "start_time": "2023-03-28T11:49:12.890Z"
   },
   {
    "duration": 7,
    "start_time": "2023-03-28T11:49:12.905Z"
   },
   {
    "duration": 42,
    "start_time": "2023-03-28T11:49:12.913Z"
   },
   {
    "duration": 4,
    "start_time": "2023-03-28T11:49:12.957Z"
   },
   {
    "duration": 5,
    "start_time": "2023-03-28T11:49:12.962Z"
   },
   {
    "duration": 311,
    "start_time": "2023-03-28T11:49:12.968Z"
   },
   {
    "duration": 25,
    "start_time": "2023-03-28T11:49:13.280Z"
   },
   {
    "duration": 17,
    "start_time": "2023-03-28T11:49:13.308Z"
   },
   {
    "duration": 21,
    "start_time": "2023-03-28T11:49:13.327Z"
   },
   {
    "duration": 4,
    "start_time": "2023-03-28T11:49:13.350Z"
   },
   {
    "duration": 9,
    "start_time": "2023-03-28T11:49:13.355Z"
   },
   {
    "duration": 3,
    "start_time": "2023-03-28T11:49:13.365Z"
   },
   {
    "duration": 78,
    "start_time": "2023-03-28T11:49:13.370Z"
   },
   {
    "duration": 23,
    "start_time": "2023-03-28T11:49:13.449Z"
   },
   {
    "duration": 264,
    "start_time": "2023-03-28T11:49:13.473Z"
   },
   {
    "duration": 54,
    "start_time": "2023-03-28T11:49:13.739Z"
   },
   {
    "duration": 7,
    "start_time": "2023-03-28T11:49:13.795Z"
   },
   {
    "duration": 190,
    "start_time": "2023-03-28T11:49:13.804Z"
   },
   {
    "duration": 128,
    "start_time": "2023-03-28T11:49:13.996Z"
   },
   {
    "duration": 16,
    "start_time": "2023-03-28T11:49:14.126Z"
   },
   {
    "duration": 26,
    "start_time": "2023-03-28T11:49:14.143Z"
   },
   {
    "duration": 10,
    "start_time": "2023-03-28T11:49:52.639Z"
   },
   {
    "duration": 10,
    "start_time": "2023-03-28T11:50:19.167Z"
   },
   {
    "duration": 10,
    "start_time": "2023-03-28T11:50:23.582Z"
   },
   {
    "duration": 14,
    "start_time": "2023-03-28T11:50:52.199Z"
   },
   {
    "duration": 12,
    "start_time": "2023-03-28T11:50:54.882Z"
   },
   {
    "duration": 12,
    "start_time": "2023-03-28T11:52:11.756Z"
   },
   {
    "duration": 19,
    "start_time": "2023-03-28T11:53:20.909Z"
   },
   {
    "duration": 1272,
    "start_time": "2023-03-28T11:53:35.009Z"
   },
   {
    "duration": 158,
    "start_time": "2023-03-28T11:53:36.284Z"
   },
   {
    "duration": 11,
    "start_time": "2023-03-28T11:53:36.444Z"
   },
   {
    "duration": 24,
    "start_time": "2023-03-28T11:53:36.457Z"
   },
   {
    "duration": 3,
    "start_time": "2023-03-28T11:53:36.483Z"
   },
   {
    "duration": 7,
    "start_time": "2023-03-28T11:53:36.487Z"
   },
   {
    "duration": 67,
    "start_time": "2023-03-28T11:53:36.495Z"
   },
   {
    "duration": 18,
    "start_time": "2023-03-28T11:53:36.564Z"
   },
   {
    "duration": 21,
    "start_time": "2023-03-28T11:53:36.584Z"
   },
   {
    "duration": 8,
    "start_time": "2023-03-28T11:53:36.608Z"
   },
   {
    "duration": 94,
    "start_time": "2023-03-28T11:53:36.618Z"
   },
   {
    "duration": 92,
    "start_time": "2023-03-28T11:53:36.713Z"
   },
   {
    "duration": 11,
    "start_time": "2023-03-28T11:53:36.807Z"
   },
   {
    "duration": 95,
    "start_time": "2023-03-28T11:53:36.819Z"
   },
   {
    "duration": 29,
    "start_time": "2023-03-28T11:53:36.916Z"
   },
   {
    "duration": 79,
    "start_time": "2023-03-28T11:53:36.948Z"
   },
   {
    "duration": 63,
    "start_time": "2023-03-28T11:53:37.029Z"
   },
   {
    "duration": 16,
    "start_time": "2023-03-28T11:53:37.094Z"
   },
   {
    "duration": 41,
    "start_time": "2023-03-28T11:53:37.112Z"
   },
   {
    "duration": 24,
    "start_time": "2023-03-28T11:53:37.155Z"
   },
   {
    "duration": 12,
    "start_time": "2023-03-28T11:53:37.181Z"
   },
   {
    "duration": 7,
    "start_time": "2023-03-28T11:53:37.195Z"
   },
   {
    "duration": 44,
    "start_time": "2023-03-28T11:53:37.204Z"
   },
   {
    "duration": 4,
    "start_time": "2023-03-28T11:53:37.250Z"
   },
   {
    "duration": 6,
    "start_time": "2023-03-28T11:53:37.255Z"
   },
   {
    "duration": 310,
    "start_time": "2023-03-28T11:53:37.263Z"
   },
   {
    "duration": 26,
    "start_time": "2023-03-28T11:53:37.575Z"
   },
   {
    "duration": 36,
    "start_time": "2023-03-28T11:53:37.605Z"
   },
   {
    "duration": 12,
    "start_time": "2023-03-28T11:53:37.643Z"
   },
   {
    "duration": 4,
    "start_time": "2023-03-28T11:53:37.657Z"
   },
   {
    "duration": 8,
    "start_time": "2023-03-28T11:53:37.663Z"
   },
   {
    "duration": 4,
    "start_time": "2023-03-28T11:53:37.673Z"
   },
   {
    "duration": 80,
    "start_time": "2023-03-28T11:53:37.679Z"
   },
   {
    "duration": 24,
    "start_time": "2023-03-28T11:53:37.761Z"
   },
   {
    "duration": 270,
    "start_time": "2023-03-28T11:53:37.787Z"
   },
   {
    "duration": 53,
    "start_time": "2023-03-28T11:53:38.059Z"
   },
   {
    "duration": 8,
    "start_time": "2023-03-28T11:53:38.114Z"
   },
   {
    "duration": 178,
    "start_time": "2023-03-28T11:53:38.123Z"
   },
   {
    "duration": 133,
    "start_time": "2023-03-28T11:53:38.303Z"
   },
   {
    "duration": 170,
    "start_time": "2023-03-28T11:53:38.439Z"
   },
   {
    "duration": 11,
    "start_time": "2023-03-28T11:54:04.429Z"
   },
   {
    "duration": 18,
    "start_time": "2023-03-28T11:54:19.329Z"
   },
   {
    "duration": 14,
    "start_time": "2023-03-28T11:56:11.379Z"
   },
   {
    "duration": 15,
    "start_time": "2023-03-28T11:56:17.619Z"
   },
   {
    "duration": 1291,
    "start_time": "2023-03-28T11:56:39.142Z"
   },
   {
    "duration": 172,
    "start_time": "2023-03-28T11:56:40.435Z"
   },
   {
    "duration": 11,
    "start_time": "2023-03-28T11:56:40.609Z"
   },
   {
    "duration": 29,
    "start_time": "2023-03-28T11:56:40.622Z"
   },
   {
    "duration": 4,
    "start_time": "2023-03-28T11:56:40.653Z"
   },
   {
    "duration": 4,
    "start_time": "2023-03-28T11:56:40.659Z"
   },
   {
    "duration": 45,
    "start_time": "2023-03-28T11:56:40.665Z"
   },
   {
    "duration": 39,
    "start_time": "2023-03-28T11:56:40.712Z"
   },
   {
    "duration": 37,
    "start_time": "2023-03-28T11:56:40.753Z"
   },
   {
    "duration": 34,
    "start_time": "2023-03-28T11:56:40.792Z"
   },
   {
    "duration": 78,
    "start_time": "2023-03-28T11:56:40.828Z"
   },
   {
    "duration": 93,
    "start_time": "2023-03-28T11:56:40.908Z"
   },
   {
    "duration": 12,
    "start_time": "2023-03-28T11:56:41.002Z"
   },
   {
    "duration": 100,
    "start_time": "2023-03-28T11:56:41.015Z"
   },
   {
    "duration": 28,
    "start_time": "2023-03-28T11:56:41.116Z"
   },
   {
    "duration": 63,
    "start_time": "2023-03-28T11:56:41.146Z"
   },
   {
    "duration": 49,
    "start_time": "2023-03-28T11:56:41.211Z"
   },
   {
    "duration": 10,
    "start_time": "2023-03-28T11:56:41.262Z"
   },
   {
    "duration": 40,
    "start_time": "2023-03-28T11:56:41.274Z"
   },
   {
    "duration": 26,
    "start_time": "2023-03-28T11:56:41.316Z"
   },
   {
    "duration": 14,
    "start_time": "2023-03-28T11:56:41.344Z"
   },
   {
    "duration": 9,
    "start_time": "2023-03-28T11:56:41.360Z"
   },
   {
    "duration": 20,
    "start_time": "2023-03-28T11:56:41.371Z"
   },
   {
    "duration": 5,
    "start_time": "2023-03-28T11:56:41.393Z"
   },
   {
    "duration": 44,
    "start_time": "2023-03-28T11:56:41.400Z"
   },
   {
    "duration": 301,
    "start_time": "2023-03-28T11:56:41.446Z"
   },
   {
    "duration": 25,
    "start_time": "2023-03-28T11:56:41.748Z"
   },
   {
    "duration": 18,
    "start_time": "2023-03-28T11:56:41.776Z"
   },
   {
    "duration": 11,
    "start_time": "2023-03-28T11:56:41.796Z"
   },
   {
    "duration": 33,
    "start_time": "2023-03-28T11:56:41.808Z"
   },
   {
    "duration": 18,
    "start_time": "2023-03-28T11:56:41.843Z"
   },
   {
    "duration": 4,
    "start_time": "2023-03-28T11:56:41.862Z"
   },
   {
    "duration": 44,
    "start_time": "2023-03-28T11:56:41.867Z"
   },
   {
    "duration": 40,
    "start_time": "2023-03-28T11:56:41.913Z"
   },
   {
    "duration": 261,
    "start_time": "2023-03-28T11:56:41.954Z"
   },
   {
    "duration": 59,
    "start_time": "2023-03-28T11:56:42.217Z"
   },
   {
    "duration": 8,
    "start_time": "2023-03-28T11:56:42.278Z"
   },
   {
    "duration": 176,
    "start_time": "2023-03-28T11:56:42.288Z"
   },
   {
    "duration": 149,
    "start_time": "2023-03-28T11:56:42.465Z"
   },
   {
    "duration": 35,
    "start_time": "2023-03-28T11:56:42.615Z"
   },
   {
    "duration": 17,
    "start_time": "2023-03-28T11:56:48.720Z"
   },
   {
    "duration": 11,
    "start_time": "2023-03-28T11:57:01.953Z"
   },
   {
    "duration": 12,
    "start_time": "2023-03-28T11:57:05.095Z"
   },
   {
    "duration": 13,
    "start_time": "2023-03-28T11:57:45.381Z"
   },
   {
    "duration": 1183,
    "start_time": "2023-03-28T11:57:53.171Z"
   },
   {
    "duration": 153,
    "start_time": "2023-03-28T11:57:54.356Z"
   },
   {
    "duration": 11,
    "start_time": "2023-03-28T11:57:54.510Z"
   },
   {
    "duration": 28,
    "start_time": "2023-03-28T11:57:54.523Z"
   },
   {
    "duration": 4,
    "start_time": "2023-03-28T11:57:54.552Z"
   },
   {
    "duration": 4,
    "start_time": "2023-03-28T11:57:54.557Z"
   },
   {
    "duration": 51,
    "start_time": "2023-03-28T11:57:54.562Z"
   },
   {
    "duration": 35,
    "start_time": "2023-03-28T11:57:54.614Z"
   },
   {
    "duration": 20,
    "start_time": "2023-03-28T11:57:54.651Z"
   },
   {
    "duration": 9,
    "start_time": "2023-03-28T11:57:54.673Z"
   },
   {
    "duration": 99,
    "start_time": "2023-03-28T11:57:54.683Z"
   },
   {
    "duration": 88,
    "start_time": "2023-03-28T11:57:54.784Z"
   },
   {
    "duration": 10,
    "start_time": "2023-03-28T11:57:54.874Z"
   },
   {
    "duration": 98,
    "start_time": "2023-03-28T11:57:54.886Z"
   },
   {
    "duration": 22,
    "start_time": "2023-03-28T11:57:54.985Z"
   },
   {
    "duration": 78,
    "start_time": "2023-03-28T11:57:55.008Z"
   },
   {
    "duration": 37,
    "start_time": "2023-03-28T11:57:55.088Z"
   },
   {
    "duration": 18,
    "start_time": "2023-03-28T11:57:55.126Z"
   },
   {
    "duration": 26,
    "start_time": "2023-03-28T11:57:55.145Z"
   },
   {
    "duration": 19,
    "start_time": "2023-03-28T11:57:55.173Z"
   },
   {
    "duration": 12,
    "start_time": "2023-03-28T11:57:55.194Z"
   },
   {
    "duration": 32,
    "start_time": "2023-03-28T11:57:55.208Z"
   },
   {
    "duration": 18,
    "start_time": "2023-03-28T11:57:55.242Z"
   },
   {
    "duration": 4,
    "start_time": "2023-03-28T11:57:55.262Z"
   },
   {
    "duration": 6,
    "start_time": "2023-03-28T11:57:55.267Z"
   },
   {
    "duration": 316,
    "start_time": "2023-03-28T11:57:55.274Z"
   },
   {
    "duration": 25,
    "start_time": "2023-03-28T11:57:55.592Z"
   },
   {
    "duration": 33,
    "start_time": "2023-03-28T11:57:55.621Z"
   },
   {
    "duration": 11,
    "start_time": "2023-03-28T11:57:55.656Z"
   },
   {
    "duration": 10,
    "start_time": "2023-03-28T11:57:55.669Z"
   },
   {
    "duration": 9,
    "start_time": "2023-03-28T11:57:55.680Z"
   },
   {
    "duration": 4,
    "start_time": "2023-03-28T11:57:55.690Z"
   },
   {
    "duration": 68,
    "start_time": "2023-03-28T11:57:55.695Z"
   },
   {
    "duration": 24,
    "start_time": "2023-03-28T11:57:55.764Z"
   },
   {
    "duration": 262,
    "start_time": "2023-03-28T11:57:55.790Z"
   },
   {
    "duration": 54,
    "start_time": "2023-03-28T11:57:56.054Z"
   },
   {
    "duration": 9,
    "start_time": "2023-03-28T11:57:56.109Z"
   },
   {
    "duration": 206,
    "start_time": "2023-03-28T11:57:56.120Z"
   },
   {
    "duration": 130,
    "start_time": "2023-03-28T11:57:56.328Z"
   },
   {
    "duration": 15,
    "start_time": "2023-03-28T11:57:56.460Z"
   },
   {
    "duration": 15,
    "start_time": "2023-03-28T11:58:20.263Z"
   },
   {
    "duration": 1281,
    "start_time": "2023-03-28T11:58:29.855Z"
   },
   {
    "duration": 152,
    "start_time": "2023-03-28T11:58:31.138Z"
   },
   {
    "duration": 11,
    "start_time": "2023-03-28T11:58:31.292Z"
   },
   {
    "duration": 49,
    "start_time": "2023-03-28T11:58:31.305Z"
   },
   {
    "duration": 7,
    "start_time": "2023-03-28T11:58:31.356Z"
   },
   {
    "duration": 29,
    "start_time": "2023-03-28T11:58:31.364Z"
   },
   {
    "duration": 88,
    "start_time": "2023-03-28T11:58:31.394Z"
   },
   {
    "duration": 16,
    "start_time": "2023-03-28T11:58:31.483Z"
   },
   {
    "duration": 61,
    "start_time": "2023-03-28T11:58:31.501Z"
   },
   {
    "duration": 24,
    "start_time": "2023-03-28T11:58:31.565Z"
   },
   {
    "duration": 89,
    "start_time": "2023-03-28T11:58:31.591Z"
   },
   {
    "duration": 86,
    "start_time": "2023-03-28T11:58:31.682Z"
   },
   {
    "duration": 13,
    "start_time": "2023-03-28T11:58:31.770Z"
   },
   {
    "duration": 103,
    "start_time": "2023-03-28T11:58:31.785Z"
   },
   {
    "duration": 22,
    "start_time": "2023-03-28T11:58:31.889Z"
   },
   {
    "duration": 90,
    "start_time": "2023-03-28T11:58:31.913Z"
   },
   {
    "duration": 43,
    "start_time": "2023-03-28T11:58:32.005Z"
   },
   {
    "duration": 11,
    "start_time": "2023-03-28T11:58:32.051Z"
   },
   {
    "duration": 34,
    "start_time": "2023-03-28T11:58:32.063Z"
   },
   {
    "duration": 21,
    "start_time": "2023-03-28T11:58:32.098Z"
   },
   {
    "duration": 32,
    "start_time": "2023-03-28T11:58:32.121Z"
   },
   {
    "duration": 9,
    "start_time": "2023-03-28T11:58:32.155Z"
   },
   {
    "duration": 22,
    "start_time": "2023-03-28T11:58:32.166Z"
   },
   {
    "duration": 4,
    "start_time": "2023-03-28T11:58:32.191Z"
   },
   {
    "duration": 20,
    "start_time": "2023-03-28T11:58:32.198Z"
   },
   {
    "duration": 321,
    "start_time": "2023-03-28T11:58:32.220Z"
   },
   {
    "duration": 23,
    "start_time": "2023-03-28T11:58:32.543Z"
   },
   {
    "duration": 17,
    "start_time": "2023-03-28T11:58:32.569Z"
   },
   {
    "duration": 11,
    "start_time": "2023-03-28T11:58:32.587Z"
   },
   {
    "duration": 18,
    "start_time": "2023-03-28T11:58:32.599Z"
   },
   {
    "duration": 22,
    "start_time": "2023-03-28T11:58:32.619Z"
   },
   {
    "duration": 4,
    "start_time": "2023-03-28T11:58:32.642Z"
   },
   {
    "duration": 164,
    "start_time": "2023-03-28T11:58:32.647Z"
   },
   {
    "duration": 23,
    "start_time": "2023-03-28T11:58:32.812Z"
   },
   {
    "duration": 235,
    "start_time": "2023-03-28T11:58:32.837Z"
   },
   {
    "duration": 54,
    "start_time": "2023-03-28T11:58:33.074Z"
   },
   {
    "duration": 15,
    "start_time": "2023-03-28T11:58:33.130Z"
   },
   {
    "duration": 183,
    "start_time": "2023-03-28T11:58:33.146Z"
   },
   {
    "duration": 127,
    "start_time": "2023-03-28T11:58:33.330Z"
   },
   {
    "duration": 16,
    "start_time": "2023-03-28T11:58:33.458Z"
   },
   {
    "duration": 4,
    "start_time": "2023-03-28T12:00:50.074Z"
   },
   {
    "duration": 4,
    "start_time": "2023-03-28T12:00:59.539Z"
   },
   {
    "duration": 50,
    "start_time": "2023-03-28T12:01:43.914Z"
   },
   {
    "duration": 45,
    "start_time": "2023-03-28T12:01:53.829Z"
   },
   {
    "duration": 43,
    "start_time": "2023-03-28T12:01:57.936Z"
   },
   {
    "duration": 9,
    "start_time": "2023-03-28T12:02:09.468Z"
   },
   {
    "duration": 9,
    "start_time": "2023-03-28T12:02:19.003Z"
   },
   {
    "duration": 52,
    "start_time": "2023-03-28T12:02:35.563Z"
   },
   {
    "duration": 41,
    "start_time": "2023-03-28T12:02:39.191Z"
   },
   {
    "duration": 10,
    "start_time": "2023-03-28T12:02:42.944Z"
   },
   {
    "duration": 127,
    "start_time": "2023-03-28T12:20:06.040Z"
   },
   {
    "duration": 9,
    "start_time": "2023-03-28T12:20:16.938Z"
   },
   {
    "duration": 35,
    "start_time": "2023-03-28T12:25:59.287Z"
   },
   {
    "duration": 38,
    "start_time": "2023-03-28T12:26:23.494Z"
   },
   {
    "duration": 12,
    "start_time": "2023-03-28T12:27:46.538Z"
   },
   {
    "duration": 19,
    "start_time": "2023-03-28T12:27:58.949Z"
   },
   {
    "duration": 29,
    "start_time": "2023-03-28T12:28:03.562Z"
   },
   {
    "duration": 44,
    "start_time": "2023-03-28T12:28:34.222Z"
   },
   {
    "duration": 24,
    "start_time": "2023-03-28T12:28:54.290Z"
   },
   {
    "duration": 10,
    "start_time": "2023-03-28T12:29:24.689Z"
   },
   {
    "duration": 4,
    "start_time": "2023-03-28T12:30:52.460Z"
   },
   {
    "duration": 1291,
    "start_time": "2023-03-28T12:30:57.828Z"
   },
   {
    "duration": 157,
    "start_time": "2023-03-28T12:30:59.122Z"
   },
   {
    "duration": 11,
    "start_time": "2023-03-28T12:30:59.281Z"
   },
   {
    "duration": 20,
    "start_time": "2023-03-28T12:30:59.294Z"
   },
   {
    "duration": 3,
    "start_time": "2023-03-28T12:30:59.315Z"
   },
   {
    "duration": 22,
    "start_time": "2023-03-28T12:30:59.320Z"
   },
   {
    "duration": 47,
    "start_time": "2023-03-28T12:30:59.344Z"
   },
   {
    "duration": 16,
    "start_time": "2023-03-28T12:30:59.393Z"
   },
   {
    "duration": 46,
    "start_time": "2023-03-28T12:30:59.411Z"
   },
   {
    "duration": 11,
    "start_time": "2023-03-28T12:30:59.459Z"
   },
   {
    "duration": 95,
    "start_time": "2023-03-28T12:30:59.471Z"
   },
   {
    "duration": 93,
    "start_time": "2023-03-28T12:30:59.569Z"
   },
   {
    "duration": 12,
    "start_time": "2023-03-28T12:30:59.664Z"
   },
   {
    "duration": 103,
    "start_time": "2023-03-28T12:30:59.677Z"
   },
   {
    "duration": 22,
    "start_time": "2023-03-28T12:30:59.782Z"
   },
   {
    "duration": 87,
    "start_time": "2023-03-28T12:30:59.806Z"
   },
   {
    "duration": 58,
    "start_time": "2023-03-28T12:30:59.895Z"
   },
   {
    "duration": 10,
    "start_time": "2023-03-28T12:30:59.955Z"
   },
   {
    "duration": 28,
    "start_time": "2023-03-28T12:30:59.966Z"
   },
   {
    "duration": 20,
    "start_time": "2023-03-28T12:30:59.996Z"
   },
   {
    "duration": 31,
    "start_time": "2023-03-28T12:31:00.018Z"
   },
   {
    "duration": 16,
    "start_time": "2023-03-28T12:31:00.051Z"
   },
   {
    "duration": 34,
    "start_time": "2023-03-28T12:31:00.069Z"
   },
   {
    "duration": 22,
    "start_time": "2023-03-28T12:31:00.105Z"
   },
   {
    "duration": 14,
    "start_time": "2023-03-28T12:31:00.129Z"
   },
   {
    "duration": 307,
    "start_time": "2023-03-28T12:31:00.145Z"
   },
   {
    "duration": 25,
    "start_time": "2023-03-28T12:31:00.453Z"
   },
   {
    "duration": 17,
    "start_time": "2023-03-28T12:31:00.482Z"
   },
   {
    "duration": 33,
    "start_time": "2023-03-28T12:31:00.500Z"
   },
   {
    "duration": 26,
    "start_time": "2023-03-28T12:31:00.543Z"
   },
   {
    "duration": 37,
    "start_time": "2023-03-28T12:31:00.571Z"
   },
   {
    "duration": 18,
    "start_time": "2023-03-28T12:31:00.610Z"
   },
   {
    "duration": 84,
    "start_time": "2023-03-28T12:31:00.630Z"
   },
   {
    "duration": 27,
    "start_time": "2023-03-28T12:31:00.716Z"
   },
   {
    "duration": 281,
    "start_time": "2023-03-28T12:31:00.744Z"
   },
   {
    "duration": 58,
    "start_time": "2023-03-28T12:31:01.026Z"
   },
   {
    "duration": 39,
    "start_time": "2023-03-28T12:31:01.086Z"
   },
   {
    "duration": 223,
    "start_time": "2023-03-28T12:31:01.127Z"
   },
   {
    "duration": 18,
    "start_time": "2023-03-28T12:31:01.353Z"
   },
   {
    "duration": 158,
    "start_time": "2023-03-28T12:31:01.372Z"
   },
   {
    "duration": 12,
    "start_time": "2023-03-28T12:50:22.373Z"
   },
   {
    "duration": 13,
    "start_time": "2023-03-28T12:50:47.045Z"
   },
   {
    "duration": 14,
    "start_time": "2023-03-28T12:50:51.666Z"
   },
   {
    "duration": 1301,
    "start_time": "2023-03-28T12:50:57.557Z"
   },
   {
    "duration": 162,
    "start_time": "2023-03-28T12:50:58.860Z"
   },
   {
    "duration": 33,
    "start_time": "2023-03-28T12:50:59.024Z"
   },
   {
    "duration": 21,
    "start_time": "2023-03-28T12:50:59.059Z"
   },
   {
    "duration": 3,
    "start_time": "2023-03-28T12:50:59.083Z"
   },
   {
    "duration": 6,
    "start_time": "2023-03-28T12:50:59.088Z"
   },
   {
    "duration": 68,
    "start_time": "2023-03-28T12:50:59.096Z"
   },
   {
    "duration": 17,
    "start_time": "2023-03-28T12:50:59.167Z"
   },
   {
    "duration": 24,
    "start_time": "2023-03-28T12:50:59.185Z"
   },
   {
    "duration": 16,
    "start_time": "2023-03-28T12:50:59.211Z"
   },
   {
    "duration": 89,
    "start_time": "2023-03-28T12:50:59.229Z"
   },
   {
    "duration": 104,
    "start_time": "2023-03-28T12:50:59.320Z"
   },
   {
    "duration": 32,
    "start_time": "2023-03-28T12:50:59.426Z"
   },
   {
    "duration": 87,
    "start_time": "2023-03-28T12:50:59.460Z"
   },
   {
    "duration": 25,
    "start_time": "2023-03-28T12:50:59.549Z"
   },
   {
    "duration": 81,
    "start_time": "2023-03-28T12:50:59.576Z"
   },
   {
    "duration": 39,
    "start_time": "2023-03-28T12:50:59.659Z"
   },
   {
    "duration": 10,
    "start_time": "2023-03-28T12:50:59.700Z"
   },
   {
    "duration": 52,
    "start_time": "2023-03-28T12:50:59.712Z"
   },
   {
    "duration": 22,
    "start_time": "2023-03-28T12:50:59.766Z"
   },
   {
    "duration": 15,
    "start_time": "2023-03-28T12:50:59.790Z"
   },
   {
    "duration": 37,
    "start_time": "2023-03-28T12:50:59.808Z"
   },
   {
    "duration": 21,
    "start_time": "2023-03-28T12:50:59.846Z"
   },
   {
    "duration": 4,
    "start_time": "2023-03-28T12:50:59.869Z"
   },
   {
    "duration": 5,
    "start_time": "2023-03-28T12:50:59.874Z"
   },
   {
    "duration": 320,
    "start_time": "2023-03-28T12:50:59.881Z"
   },
   {
    "duration": 26,
    "start_time": "2023-03-28T12:51:00.203Z"
   },
   {
    "duration": 19,
    "start_time": "2023-03-28T12:51:00.255Z"
   },
   {
    "duration": 31,
    "start_time": "2023-03-28T12:51:00.275Z"
   },
   {
    "duration": 13,
    "start_time": "2023-03-28T12:51:00.308Z"
   },
   {
    "duration": 34,
    "start_time": "2023-03-28T12:51:00.323Z"
   },
   {
    "duration": 15,
    "start_time": "2023-03-28T12:51:00.359Z"
   },
   {
    "duration": 90,
    "start_time": "2023-03-28T12:51:00.376Z"
   },
   {
    "duration": 22,
    "start_time": "2023-03-28T12:51:00.468Z"
   },
   {
    "duration": 300,
    "start_time": "2023-03-28T12:51:00.492Z"
   },
   {
    "duration": 65,
    "start_time": "2023-03-28T12:51:00.794Z"
   },
   {
    "duration": 9,
    "start_time": "2023-03-28T12:51:00.861Z"
   },
   {
    "duration": 197,
    "start_time": "2023-03-28T12:51:00.871Z"
   },
   {
    "duration": 20,
    "start_time": "2023-03-28T12:51:01.071Z"
   },
   {
    "duration": 173,
    "start_time": "2023-03-28T12:51:01.093Z"
   },
   {
    "duration": 13,
    "start_time": "2023-03-28T12:51:01.267Z"
   },
   {
    "duration": 17,
    "start_time": "2023-03-28T12:53:10.952Z"
   },
   {
    "duration": 16,
    "start_time": "2023-03-28T12:53:50.096Z"
   },
   {
    "duration": 13,
    "start_time": "2023-03-28T12:54:49.291Z"
   },
   {
    "duration": 55,
    "start_time": "2023-03-28T13:03:05.415Z"
   },
   {
    "duration": 150,
    "start_time": "2023-03-28T13:05:15.131Z"
   },
   {
    "duration": 10,
    "start_time": "2023-03-28T13:05:29.215Z"
   },
   {
    "duration": 12,
    "start_time": "2023-03-28T13:05:33.364Z"
   },
   {
    "duration": 1301,
    "start_time": "2023-03-28T13:05:44.960Z"
   },
   {
    "duration": 189,
    "start_time": "2023-03-28T13:05:46.263Z"
   },
   {
    "duration": 13,
    "start_time": "2023-03-28T13:05:46.458Z"
   },
   {
    "duration": 34,
    "start_time": "2023-03-28T13:05:46.472Z"
   },
   {
    "duration": 4,
    "start_time": "2023-03-28T13:05:46.508Z"
   },
   {
    "duration": 5,
    "start_time": "2023-03-28T13:05:46.513Z"
   },
   {
    "duration": 89,
    "start_time": "2023-03-28T13:05:46.520Z"
   },
   {
    "duration": 34,
    "start_time": "2023-03-28T13:05:46.611Z"
   },
   {
    "duration": 39,
    "start_time": "2023-03-28T13:05:46.646Z"
   },
   {
    "duration": 11,
    "start_time": "2023-03-28T13:05:46.688Z"
   },
   {
    "duration": 137,
    "start_time": "2023-03-28T13:05:46.701Z"
   },
   {
    "duration": 130,
    "start_time": "2023-03-28T13:05:46.842Z"
   },
   {
    "duration": 15,
    "start_time": "2023-03-28T13:05:46.973Z"
   },
   {
    "duration": 132,
    "start_time": "2023-03-28T13:05:46.991Z"
   },
   {
    "duration": 39,
    "start_time": "2023-03-28T13:05:47.124Z"
   },
   {
    "duration": 122,
    "start_time": "2023-03-28T13:05:47.164Z"
   },
   {
    "duration": 66,
    "start_time": "2023-03-28T13:05:47.288Z"
   },
   {
    "duration": 10,
    "start_time": "2023-03-28T13:05:47.356Z"
   },
   {
    "duration": 38,
    "start_time": "2023-03-28T13:05:47.368Z"
   },
   {
    "duration": 26,
    "start_time": "2023-03-28T13:05:47.408Z"
   },
   {
    "duration": 23,
    "start_time": "2023-03-28T13:05:47.436Z"
   },
   {
    "duration": 11,
    "start_time": "2023-03-28T13:05:47.461Z"
   },
   {
    "duration": 28,
    "start_time": "2023-03-28T13:05:47.474Z"
   },
   {
    "duration": 4,
    "start_time": "2023-03-28T13:05:47.504Z"
   },
   {
    "duration": 5,
    "start_time": "2023-03-28T13:05:47.510Z"
   },
   {
    "duration": 538,
    "start_time": "2023-03-28T13:05:47.517Z"
   },
   {
    "duration": 34,
    "start_time": "2023-03-28T13:05:48.057Z"
   },
   {
    "duration": 20,
    "start_time": "2023-03-28T13:05:48.093Z"
   },
   {
    "duration": 34,
    "start_time": "2023-03-28T13:05:48.115Z"
   },
   {
    "duration": 5,
    "start_time": "2023-03-28T13:05:48.158Z"
   },
   {
    "duration": 9,
    "start_time": "2023-03-28T13:05:48.166Z"
   },
   {
    "duration": 5,
    "start_time": "2023-03-28T13:05:48.177Z"
   },
   {
    "duration": 111,
    "start_time": "2023-03-28T13:05:48.184Z"
   },
   {
    "duration": 61,
    "start_time": "2023-03-28T13:05:48.297Z"
   },
   {
    "duration": 273,
    "start_time": "2023-03-28T13:05:48.360Z"
   },
   {
    "duration": 68,
    "start_time": "2023-03-28T13:05:48.635Z"
   },
   {
    "duration": 9,
    "start_time": "2023-03-28T13:05:48.704Z"
   },
   {
    "duration": 223,
    "start_time": "2023-03-28T13:05:48.715Z"
   },
   {
    "duration": 26,
    "start_time": "2023-03-28T13:05:48.946Z"
   },
   {
    "duration": 148,
    "start_time": "2023-03-28T13:05:48.975Z"
   },
   {
    "duration": 29,
    "start_time": "2023-03-28T13:05:49.128Z"
   },
   {
    "duration": 13,
    "start_time": "2023-03-28T13:05:49.159Z"
   },
   {
    "duration": 108,
    "start_time": "2023-03-28T13:05:49.175Z"
   },
   {
    "duration": 182,
    "start_time": "2023-03-28T13:05:49.286Z"
   },
   {
    "duration": 66,
    "start_time": "2023-03-28T13:06:46.870Z"
   },
   {
    "duration": 53,
    "start_time": "2023-03-28T13:06:51.322Z"
   },
   {
    "duration": 50,
    "start_time": "2023-03-28T13:07:00.808Z"
   },
   {
    "duration": 50,
    "start_time": "2023-03-28T13:07:32.308Z"
   },
   {
    "duration": 10,
    "start_time": "2023-03-28T13:08:27.783Z"
   },
   {
    "duration": 14,
    "start_time": "2023-03-28T13:08:32.338Z"
   },
   {
    "duration": 45,
    "start_time": "2023-03-28T13:09:42.984Z"
   },
   {
    "duration": 4,
    "start_time": "2023-03-28T14:28:41.566Z"
   },
   {
    "duration": 57,
    "start_time": "2023-03-28T15:27:37.620Z"
   },
   {
    "duration": 96,
    "start_time": "2023-03-28T15:28:16.454Z"
   },
   {
    "duration": 13,
    "start_time": "2023-03-28T15:28:31.100Z"
   },
   {
    "duration": 101,
    "start_time": "2023-03-28T15:28:56.277Z"
   },
   {
    "duration": 1172,
    "start_time": "2023-03-28T15:29:12.577Z"
   },
   {
    "duration": 148,
    "start_time": "2023-03-28T15:29:13.751Z"
   },
   {
    "duration": 12,
    "start_time": "2023-03-28T15:29:13.900Z"
   },
   {
    "duration": 27,
    "start_time": "2023-03-28T15:29:13.914Z"
   },
   {
    "duration": 3,
    "start_time": "2023-03-28T15:29:13.942Z"
   },
   {
    "duration": 4,
    "start_time": "2023-03-28T15:29:13.946Z"
   },
   {
    "duration": 46,
    "start_time": "2023-03-28T15:29:13.951Z"
   },
   {
    "duration": 16,
    "start_time": "2023-03-28T15:29:13.998Z"
   },
   {
    "duration": 39,
    "start_time": "2023-03-28T15:29:14.016Z"
   },
   {
    "duration": 8,
    "start_time": "2023-03-28T15:29:14.058Z"
   },
   {
    "duration": 87,
    "start_time": "2023-03-28T15:29:14.068Z"
   },
   {
    "duration": 90,
    "start_time": "2023-03-28T15:29:14.157Z"
   },
   {
    "duration": 11,
    "start_time": "2023-03-28T15:29:14.248Z"
   },
   {
    "duration": 97,
    "start_time": "2023-03-28T15:29:14.261Z"
   },
   {
    "duration": 23,
    "start_time": "2023-03-28T15:29:14.360Z"
   },
   {
    "duration": 73,
    "start_time": "2023-03-28T15:29:14.384Z"
   },
   {
    "duration": 36,
    "start_time": "2023-03-28T15:29:14.459Z"
   },
   {
    "duration": 20,
    "start_time": "2023-03-28T15:29:14.497Z"
   },
   {
    "duration": 38,
    "start_time": "2023-03-28T15:29:14.519Z"
   },
   {
    "duration": 19,
    "start_time": "2023-03-28T15:29:14.559Z"
   },
   {
    "duration": 12,
    "start_time": "2023-03-28T15:29:14.579Z"
   },
   {
    "duration": 27,
    "start_time": "2023-03-28T15:29:14.593Z"
   },
   {
    "duration": 22,
    "start_time": "2023-03-28T15:29:14.622Z"
   },
   {
    "duration": 4,
    "start_time": "2023-03-28T15:29:14.646Z"
   },
   {
    "duration": 4,
    "start_time": "2023-03-28T15:29:14.651Z"
   },
   {
    "duration": 301,
    "start_time": "2023-03-28T15:29:14.657Z"
   },
   {
    "duration": 24,
    "start_time": "2023-03-28T15:29:14.959Z"
   },
   {
    "duration": 16,
    "start_time": "2023-03-28T15:29:14.987Z"
   },
   {
    "duration": 11,
    "start_time": "2023-03-28T15:29:15.005Z"
   },
   {
    "duration": 4,
    "start_time": "2023-03-28T15:29:15.039Z"
   },
   {
    "duration": 9,
    "start_time": "2023-03-28T15:29:15.045Z"
   },
   {
    "duration": 4,
    "start_time": "2023-03-28T15:29:15.056Z"
   },
   {
    "duration": 47,
    "start_time": "2023-03-28T15:29:15.061Z"
   },
   {
    "duration": 42,
    "start_time": "2023-03-28T15:29:15.110Z"
   },
   {
    "duration": 265,
    "start_time": "2023-03-28T15:29:15.153Z"
   },
   {
    "duration": 62,
    "start_time": "2023-03-28T15:29:15.420Z"
   },
   {
    "duration": 11,
    "start_time": "2023-03-28T15:29:15.484Z"
   },
   {
    "duration": 178,
    "start_time": "2023-03-28T15:29:15.496Z"
   },
   {
    "duration": 15,
    "start_time": "2023-03-28T15:29:15.676Z"
   },
   {
    "duration": 142,
    "start_time": "2023-03-28T15:29:15.693Z"
   },
   {
    "duration": 12,
    "start_time": "2023-03-28T15:29:15.837Z"
   },
   {
    "duration": 13,
    "start_time": "2023-03-28T15:29:15.850Z"
   },
   {
    "duration": 95,
    "start_time": "2023-03-28T15:29:15.864Z"
   },
   {
    "duration": 100,
    "start_time": "2023-03-28T15:29:15.960Z"
   },
   {
    "duration": 101,
    "start_time": "2023-03-28T15:29:16.062Z"
   },
   {
    "duration": 93,
    "start_time": "2023-03-28T15:29:23.298Z"
   },
   {
    "duration": 93,
    "start_time": "2023-03-28T15:29:25.435Z"
   },
   {
    "duration": 42,
    "start_time": "2023-03-28T15:30:21.799Z"
   },
   {
    "duration": 94,
    "start_time": "2023-03-28T15:30:36.078Z"
   },
   {
    "duration": 45,
    "start_time": "2023-03-28T15:30:46.829Z"
   },
   {
    "duration": 5,
    "start_time": "2023-03-28T17:15:43.289Z"
   },
   {
    "duration": 8,
    "start_time": "2023-03-28T17:26:31.682Z"
   },
   {
    "duration": 5,
    "start_time": "2023-03-28T17:27:10.191Z"
   },
   {
    "duration": 833,
    "start_time": "2023-03-28T17:42:26.651Z"
   },
   {
    "duration": 120,
    "start_time": "2023-03-28T17:42:36.321Z"
   },
   {
    "duration": 1120,
    "start_time": "2023-03-28T17:47:36.042Z"
   },
   {
    "duration": 43,
    "start_time": "2023-03-28T17:48:10.014Z"
   },
   {
    "duration": 45,
    "start_time": "2023-03-28T17:48:14.497Z"
   },
   {
    "duration": 45,
    "start_time": "2023-03-28T17:48:21.885Z"
   },
   {
    "duration": 761,
    "start_time": "2023-03-28T17:49:16.029Z"
   },
   {
    "duration": 1211,
    "start_time": "2023-03-28T17:49:28.315Z"
   },
   {
    "duration": 148,
    "start_time": "2023-03-28T17:49:29.528Z"
   },
   {
    "duration": 11,
    "start_time": "2023-03-28T17:49:29.678Z"
   },
   {
    "duration": 18,
    "start_time": "2023-03-28T17:49:29.691Z"
   },
   {
    "duration": 3,
    "start_time": "2023-03-28T17:49:29.711Z"
   },
   {
    "duration": 7,
    "start_time": "2023-03-28T17:49:29.716Z"
   },
   {
    "duration": 45,
    "start_time": "2023-03-28T17:49:29.740Z"
   },
   {
    "duration": 16,
    "start_time": "2023-03-28T17:49:29.787Z"
   },
   {
    "duration": 36,
    "start_time": "2023-03-28T17:49:29.805Z"
   },
   {
    "duration": 9,
    "start_time": "2023-03-28T17:49:29.843Z"
   },
   {
    "duration": 90,
    "start_time": "2023-03-28T17:49:29.854Z"
   },
   {
    "duration": 101,
    "start_time": "2023-03-28T17:49:29.945Z"
   },
   {
    "duration": 12,
    "start_time": "2023-03-28T17:49:30.048Z"
   },
   {
    "duration": 99,
    "start_time": "2023-03-28T17:49:30.063Z"
   },
   {
    "duration": 23,
    "start_time": "2023-03-28T17:49:30.164Z"
   },
   {
    "duration": 86,
    "start_time": "2023-03-28T17:49:30.188Z"
   },
   {
    "duration": 61,
    "start_time": "2023-03-28T17:49:30.276Z"
   },
   {
    "duration": 19,
    "start_time": "2023-03-28T17:49:30.339Z"
   },
   {
    "duration": 45,
    "start_time": "2023-03-28T17:49:30.360Z"
   },
   {
    "duration": 21,
    "start_time": "2023-03-28T17:49:30.406Z"
   },
   {
    "duration": 33,
    "start_time": "2023-03-28T17:49:30.429Z"
   },
   {
    "duration": 38,
    "start_time": "2023-03-28T17:49:30.464Z"
   },
   {
    "duration": 46,
    "start_time": "2023-03-28T17:49:30.504Z"
   },
   {
    "duration": 15,
    "start_time": "2023-03-28T17:49:30.552Z"
   },
   {
    "duration": 27,
    "start_time": "2023-03-28T17:49:30.568Z"
   },
   {
    "duration": 296,
    "start_time": "2023-03-28T17:49:30.597Z"
   },
   {
    "duration": 25,
    "start_time": "2023-03-28T17:49:30.895Z"
   },
   {
    "duration": 26,
    "start_time": "2023-03-28T17:49:30.922Z"
   },
   {
    "duration": 28,
    "start_time": "2023-03-28T17:49:30.950Z"
   },
   {
    "duration": 33,
    "start_time": "2023-03-28T17:49:30.980Z"
   },
   {
    "duration": 43,
    "start_time": "2023-03-28T17:49:31.015Z"
   },
   {
    "duration": 19,
    "start_time": "2023-03-28T17:49:31.059Z"
   },
   {
    "duration": 71,
    "start_time": "2023-03-28T17:49:31.079Z"
   },
   {
    "duration": 23,
    "start_time": "2023-03-28T17:49:31.152Z"
   },
   {
    "duration": 263,
    "start_time": "2023-03-28T17:49:31.177Z"
   },
   {
    "duration": 53,
    "start_time": "2023-03-28T17:49:31.441Z"
   },
   {
    "duration": 7,
    "start_time": "2023-03-28T17:49:31.496Z"
   },
   {
    "duration": 182,
    "start_time": "2023-03-28T17:49:31.505Z"
   },
   {
    "duration": 14,
    "start_time": "2023-03-28T17:49:31.688Z"
   },
   {
    "duration": 137,
    "start_time": "2023-03-28T17:49:31.703Z"
   },
   {
    "duration": 13,
    "start_time": "2023-03-28T17:49:31.844Z"
   },
   {
    "duration": 22,
    "start_time": "2023-03-28T17:49:31.859Z"
   },
   {
    "duration": 98,
    "start_time": "2023-03-28T17:49:31.882Z"
   },
   {
    "duration": 920,
    "start_time": "2023-03-28T17:49:31.982Z"
   },
   {
    "duration": 0,
    "start_time": "2023-03-28T17:49:32.903Z"
   },
   {
    "duration": 0,
    "start_time": "2023-03-28T17:49:32.904Z"
   },
   {
    "duration": 0,
    "start_time": "2023-03-28T17:49:32.905Z"
   },
   {
    "duration": 821,
    "start_time": "2023-03-28T17:50:42.055Z"
   },
   {
    "duration": 92,
    "start_time": "2023-03-28T17:51:01.558Z"
   },
   {
    "duration": 756,
    "start_time": "2023-03-28T17:51:25.431Z"
   },
   {
    "duration": 737,
    "start_time": "2023-03-28T17:52:11.572Z"
   },
   {
    "duration": 774,
    "start_time": "2023-03-28T17:55:38.806Z"
   },
   {
    "duration": 45,
    "start_time": "2023-03-28T17:55:47.500Z"
   },
   {
    "duration": 762,
    "start_time": "2023-03-28T17:55:51.623Z"
   },
   {
    "duration": 51,
    "start_time": "2023-03-28T17:56:07.135Z"
   },
   {
    "duration": 877,
    "start_time": "2023-03-28T17:56:44.247Z"
   },
   {
    "duration": 89,
    "start_time": "2023-03-28T17:56:58.915Z"
   },
   {
    "duration": 96,
    "start_time": "2023-03-28T17:57:06.286Z"
   },
   {
    "duration": 98,
    "start_time": "2023-03-28T17:58:18.330Z"
   },
   {
    "duration": 91,
    "start_time": "2023-03-28T17:58:35.961Z"
   },
   {
    "duration": 123,
    "start_time": "2023-03-28T17:59:54.253Z"
   },
   {
    "duration": 124,
    "start_time": "2023-03-28T18:00:02.640Z"
   },
   {
    "duration": 127,
    "start_time": "2023-03-28T18:00:16.848Z"
   },
   {
    "duration": 125,
    "start_time": "2023-03-28T18:02:54.014Z"
   },
   {
    "duration": 122,
    "start_time": "2023-03-28T18:03:15.882Z"
   },
   {
    "duration": 120,
    "start_time": "2023-03-28T18:03:24.580Z"
   },
   {
    "duration": 124,
    "start_time": "2023-03-28T18:03:28.175Z"
   },
   {
    "duration": 1307,
    "start_time": "2023-03-28T18:03:38.720Z"
   },
   {
    "duration": 159,
    "start_time": "2023-03-28T18:03:40.029Z"
   },
   {
    "duration": 12,
    "start_time": "2023-03-28T18:03:40.189Z"
   },
   {
    "duration": 19,
    "start_time": "2023-03-28T18:03:40.203Z"
   },
   {
    "duration": 4,
    "start_time": "2023-03-28T18:03:40.240Z"
   },
   {
    "duration": 5,
    "start_time": "2023-03-28T18:03:40.245Z"
   },
   {
    "duration": 46,
    "start_time": "2023-03-28T18:03:40.251Z"
   },
   {
    "duration": 17,
    "start_time": "2023-03-28T18:03:40.299Z"
   },
   {
    "duration": 22,
    "start_time": "2023-03-28T18:03:40.340Z"
   },
   {
    "duration": 10,
    "start_time": "2023-03-28T18:03:40.364Z"
   },
   {
    "duration": 109,
    "start_time": "2023-03-28T18:03:40.375Z"
   },
   {
    "duration": 101,
    "start_time": "2023-03-28T18:03:40.486Z"
   },
   {
    "duration": 13,
    "start_time": "2023-03-28T18:03:40.588Z"
   },
   {
    "duration": 118,
    "start_time": "2023-03-28T18:03:40.603Z"
   },
   {
    "duration": 31,
    "start_time": "2023-03-28T18:03:40.722Z"
   },
   {
    "duration": 60,
    "start_time": "2023-03-28T18:03:40.755Z"
   },
   {
    "duration": 53,
    "start_time": "2023-03-28T18:03:40.816Z"
   },
   {
    "duration": 10,
    "start_time": "2023-03-28T18:03:40.871Z"
   },
   {
    "duration": 29,
    "start_time": "2023-03-28T18:03:40.883Z"
   },
   {
    "duration": 21,
    "start_time": "2023-03-28T18:03:40.939Z"
   },
   {
    "duration": 13,
    "start_time": "2023-03-28T18:03:40.962Z"
   },
   {
    "duration": 12,
    "start_time": "2023-03-28T18:03:40.977Z"
   },
   {
    "duration": 49,
    "start_time": "2023-03-28T18:03:40.991Z"
   },
   {
    "duration": 5,
    "start_time": "2023-03-28T18:03:41.042Z"
   },
   {
    "duration": 7,
    "start_time": "2023-03-28T18:03:41.048Z"
   },
   {
    "duration": 346,
    "start_time": "2023-03-28T18:03:41.057Z"
   },
   {
    "duration": 36,
    "start_time": "2023-03-28T18:03:41.404Z"
   },
   {
    "duration": 19,
    "start_time": "2023-03-28T18:03:41.443Z"
   },
   {
    "duration": 11,
    "start_time": "2023-03-28T18:03:41.464Z"
   },
   {
    "duration": 5,
    "start_time": "2023-03-28T18:03:41.477Z"
   },
   {
    "duration": 9,
    "start_time": "2023-03-28T18:03:41.484Z"
   },
   {
    "duration": 4,
    "start_time": "2023-03-28T18:03:41.495Z"
   },
   {
    "duration": 83,
    "start_time": "2023-03-28T18:03:41.500Z"
   },
   {
    "duration": 24,
    "start_time": "2023-03-28T18:03:41.585Z"
   },
   {
    "duration": 262,
    "start_time": "2023-03-28T18:03:41.611Z"
   },
   {
    "duration": 66,
    "start_time": "2023-03-28T18:03:41.874Z"
   },
   {
    "duration": 9,
    "start_time": "2023-03-28T18:03:41.942Z"
   },
   {
    "duration": 180,
    "start_time": "2023-03-28T18:03:41.952Z"
   },
   {
    "duration": 15,
    "start_time": "2023-03-28T18:03:42.140Z"
   },
   {
    "duration": 136,
    "start_time": "2023-03-28T18:03:42.157Z"
   },
   {
    "duration": 12,
    "start_time": "2023-03-28T18:03:42.295Z"
   },
   {
    "duration": 39,
    "start_time": "2023-03-28T18:03:42.308Z"
   },
   {
    "duration": 99,
    "start_time": "2023-03-28T18:03:42.349Z"
   },
   {
    "duration": 117,
    "start_time": "2023-03-28T18:03:42.449Z"
   },
   {
    "duration": 138,
    "start_time": "2023-03-28T18:03:42.568Z"
   },
   {
    "duration": 5,
    "start_time": "2023-03-28T18:03:42.708Z"
   },
   {
    "duration": 15,
    "start_time": "2023-03-28T18:03:42.714Z"
   },
   {
    "duration": 140,
    "start_time": "2023-03-28T18:05:35.013Z"
   },
   {
    "duration": 125,
    "start_time": "2023-03-28T18:07:28.351Z"
   },
   {
    "duration": 871,
    "start_time": "2023-03-28T18:48:17.613Z"
   },
   {
    "duration": 12,
    "start_time": "2023-03-28T18:48:28.640Z"
   },
   {
    "duration": 8,
    "start_time": "2023-03-28T18:59:42.099Z"
   },
   {
    "duration": 10,
    "start_time": "2023-03-28T19:00:11.319Z"
   },
   {
    "duration": 755,
    "start_time": "2023-03-28T19:00:49.542Z"
   },
   {
    "duration": 9,
    "start_time": "2023-03-28T19:00:54.390Z"
   },
   {
    "duration": 12,
    "start_time": "2023-03-28T19:02:21.580Z"
   },
   {
    "duration": 11,
    "start_time": "2023-03-28T19:05:13.463Z"
   },
   {
    "duration": 3,
    "start_time": "2023-03-28T19:10:46.287Z"
   },
   {
    "duration": 131,
    "start_time": "2023-03-28T19:19:46.191Z"
   },
   {
    "duration": 1243,
    "start_time": "2023-03-28T19:48:32.680Z"
   },
   {
    "duration": 152,
    "start_time": "2023-03-28T19:48:33.925Z"
   },
   {
    "duration": 14,
    "start_time": "2023-03-28T19:48:34.080Z"
   },
   {
    "duration": 19,
    "start_time": "2023-03-28T19:48:34.096Z"
   },
   {
    "duration": 23,
    "start_time": "2023-03-28T19:48:34.117Z"
   },
   {
    "duration": 9,
    "start_time": "2023-03-28T19:48:34.141Z"
   },
   {
    "duration": 69,
    "start_time": "2023-03-28T19:48:34.152Z"
   },
   {
    "duration": 19,
    "start_time": "2023-03-28T19:48:34.223Z"
   },
   {
    "duration": 26,
    "start_time": "2023-03-28T19:48:34.244Z"
   },
   {
    "duration": 13,
    "start_time": "2023-03-28T19:48:34.274Z"
   },
   {
    "duration": 107,
    "start_time": "2023-03-28T19:48:34.289Z"
   },
   {
    "duration": 93,
    "start_time": "2023-03-28T19:48:34.398Z"
   },
   {
    "duration": 13,
    "start_time": "2023-03-28T19:48:34.493Z"
   },
   {
    "duration": 109,
    "start_time": "2023-03-28T19:48:34.507Z"
   },
   {
    "duration": 43,
    "start_time": "2023-03-28T19:48:34.618Z"
   },
   {
    "duration": 94,
    "start_time": "2023-03-28T19:48:34.664Z"
   },
   {
    "duration": 52,
    "start_time": "2023-03-28T19:48:34.760Z"
   },
   {
    "duration": 30,
    "start_time": "2023-03-28T19:48:34.814Z"
   },
   {
    "duration": 31,
    "start_time": "2023-03-28T19:48:34.846Z"
   },
   {
    "duration": 23,
    "start_time": "2023-03-28T19:48:34.879Z"
   },
   {
    "duration": 46,
    "start_time": "2023-03-28T19:48:34.904Z"
   },
   {
    "duration": 11,
    "start_time": "2023-03-28T19:48:34.953Z"
   },
   {
    "duration": 20,
    "start_time": "2023-03-28T19:48:34.966Z"
   },
   {
    "duration": 6,
    "start_time": "2023-03-28T19:48:34.988Z"
   },
   {
    "duration": 5,
    "start_time": "2023-03-28T19:48:34.996Z"
   },
   {
    "duration": 323,
    "start_time": "2023-03-28T19:48:35.040Z"
   },
   {
    "duration": 36,
    "start_time": "2023-03-28T19:48:35.365Z"
   },
   {
    "duration": 43,
    "start_time": "2023-03-28T19:48:35.405Z"
   },
   {
    "duration": 18,
    "start_time": "2023-03-28T19:48:35.450Z"
   },
   {
    "duration": 6,
    "start_time": "2023-03-28T19:48:35.471Z"
   },
   {
    "duration": 8,
    "start_time": "2023-03-28T19:48:35.479Z"
   },
   {
    "duration": 4,
    "start_time": "2023-03-28T19:48:35.489Z"
   },
   {
    "duration": 77,
    "start_time": "2023-03-28T19:48:35.495Z"
   },
   {
    "duration": 25,
    "start_time": "2023-03-28T19:48:35.574Z"
   },
   {
    "duration": 272,
    "start_time": "2023-03-28T19:48:35.601Z"
   },
   {
    "duration": 65,
    "start_time": "2023-03-28T19:48:35.875Z"
   },
   {
    "duration": 11,
    "start_time": "2023-03-28T19:48:35.942Z"
   },
   {
    "duration": 179,
    "start_time": "2023-03-28T19:48:35.955Z"
   },
   {
    "duration": 14,
    "start_time": "2023-03-28T19:48:36.140Z"
   },
   {
    "duration": 147,
    "start_time": "2023-03-28T19:48:36.156Z"
   },
   {
    "duration": 37,
    "start_time": "2023-03-28T19:48:36.305Z"
   },
   {
    "duration": 12,
    "start_time": "2023-03-28T19:48:36.344Z"
   },
   {
    "duration": 135,
    "start_time": "2023-03-28T19:48:36.357Z"
   },
   {
    "duration": 147,
    "start_time": "2023-03-28T19:48:36.494Z"
   },
   {
    "duration": 152,
    "start_time": "2023-03-28T19:48:36.643Z"
   },
   {
    "duration": 15,
    "start_time": "2023-03-28T19:48:36.798Z"
   },
   {
    "duration": 34,
    "start_time": "2023-03-28T19:48:36.816Z"
   },
   {
    "duration": 20,
    "start_time": "2023-03-28T19:48:36.853Z"
   },
   {
    "duration": 26,
    "start_time": "2023-03-28T19:48:36.875Z"
   },
   {
    "duration": 1281,
    "start_time": "2023-03-28T19:51:33.162Z"
   },
   {
    "duration": 168,
    "start_time": "2023-03-28T19:51:34.445Z"
   },
   {
    "duration": 14,
    "start_time": "2023-03-28T19:51:34.615Z"
   },
   {
    "duration": 22,
    "start_time": "2023-03-28T19:51:34.639Z"
   },
   {
    "duration": 4,
    "start_time": "2023-03-28T19:51:34.663Z"
   },
   {
    "duration": 10,
    "start_time": "2023-03-28T19:51:34.669Z"
   },
   {
    "duration": 70,
    "start_time": "2023-03-28T19:51:34.681Z"
   },
   {
    "duration": 20,
    "start_time": "2023-03-28T19:51:34.753Z"
   },
   {
    "duration": 23,
    "start_time": "2023-03-28T19:51:34.776Z"
   },
   {
    "duration": 38,
    "start_time": "2023-03-28T19:51:34.803Z"
   },
   {
    "duration": 102,
    "start_time": "2023-03-28T19:51:34.843Z"
   },
   {
    "duration": 102,
    "start_time": "2023-03-28T19:51:34.947Z"
   },
   {
    "duration": 18,
    "start_time": "2023-03-28T19:51:35.051Z"
   },
   {
    "duration": 137,
    "start_time": "2023-03-28T19:51:35.070Z"
   },
   {
    "duration": 23,
    "start_time": "2023-03-28T19:51:35.209Z"
   },
   {
    "duration": 151,
    "start_time": "2023-03-28T19:51:35.233Z"
   },
   {
    "duration": 40,
    "start_time": "2023-03-28T19:51:35.386Z"
   },
   {
    "duration": 20,
    "start_time": "2023-03-28T19:51:35.428Z"
   },
   {
    "duration": 40,
    "start_time": "2023-03-28T19:51:35.450Z"
   },
   {
    "duration": 20,
    "start_time": "2023-03-28T19:51:35.492Z"
   },
   {
    "duration": 34,
    "start_time": "2023-03-28T19:51:35.514Z"
   },
   {
    "duration": 16,
    "start_time": "2023-03-28T19:51:35.550Z"
   },
   {
    "duration": 31,
    "start_time": "2023-03-28T19:51:35.569Z"
   },
   {
    "duration": 5,
    "start_time": "2023-03-28T19:51:35.603Z"
   },
   {
    "duration": 30,
    "start_time": "2023-03-28T19:51:35.610Z"
   },
   {
    "duration": 328,
    "start_time": "2023-03-28T19:51:35.642Z"
   },
   {
    "duration": 27,
    "start_time": "2023-03-28T19:51:35.972Z"
   },
   {
    "duration": 45,
    "start_time": "2023-03-28T19:51:36.004Z"
   },
   {
    "duration": 20,
    "start_time": "2023-03-28T19:51:36.051Z"
   },
   {
    "duration": 7,
    "start_time": "2023-03-28T19:51:36.073Z"
   },
   {
    "duration": 13,
    "start_time": "2023-03-28T19:51:36.083Z"
   },
   {
    "duration": 6,
    "start_time": "2023-03-28T19:51:36.098Z"
   },
   {
    "duration": 101,
    "start_time": "2023-03-28T19:51:36.106Z"
   },
   {
    "duration": 42,
    "start_time": "2023-03-28T19:51:36.209Z"
   },
   {
    "duration": 325,
    "start_time": "2023-03-28T19:51:36.255Z"
   },
   {
    "duration": 69,
    "start_time": "2023-03-28T19:51:36.582Z"
   },
   {
    "duration": 36,
    "start_time": "2023-03-28T19:51:36.654Z"
   },
   {
    "duration": 227,
    "start_time": "2023-03-28T19:51:36.692Z"
   },
   {
    "duration": 24,
    "start_time": "2023-03-28T19:51:36.921Z"
   },
   {
    "duration": 223,
    "start_time": "2023-03-28T19:51:36.947Z"
   },
   {
    "duration": 17,
    "start_time": "2023-03-28T19:51:37.172Z"
   },
   {
    "duration": 53,
    "start_time": "2023-03-28T19:51:37.191Z"
   },
   {
    "duration": 119,
    "start_time": "2023-03-28T19:51:37.246Z"
   },
   {
    "duration": 116,
    "start_time": "2023-03-28T19:51:37.367Z"
   },
   {
    "duration": 142,
    "start_time": "2023-03-28T19:51:37.485Z"
   },
   {
    "duration": 16,
    "start_time": "2023-03-28T19:51:37.629Z"
   },
   {
    "duration": 15,
    "start_time": "2023-03-28T19:51:37.646Z"
   },
   {
    "duration": 10,
    "start_time": "2023-03-28T19:51:37.663Z"
   },
   {
    "duration": 12,
    "start_time": "2023-03-28T19:51:37.675Z"
   },
   {
    "duration": 21,
    "start_time": "2023-03-28T19:54:20.075Z"
   },
   {
    "duration": 13,
    "start_time": "2023-03-28T19:54:21.412Z"
   },
   {
    "duration": 13,
    "start_time": "2023-03-28T19:54:23.352Z"
   },
   {
    "duration": 1401,
    "start_time": "2023-03-28T19:54:45.823Z"
   },
   {
    "duration": 157,
    "start_time": "2023-03-28T19:54:47.226Z"
   },
   {
    "duration": 12,
    "start_time": "2023-03-28T19:54:47.384Z"
   },
   {
    "duration": 22,
    "start_time": "2023-03-28T19:54:47.398Z"
   },
   {
    "duration": 3,
    "start_time": "2023-03-28T19:54:47.441Z"
   },
   {
    "duration": 4,
    "start_time": "2023-03-28T19:54:47.447Z"
   },
   {
    "duration": 55,
    "start_time": "2023-03-28T19:54:47.453Z"
   },
   {
    "duration": 32,
    "start_time": "2023-03-28T19:54:47.509Z"
   },
   {
    "duration": 23,
    "start_time": "2023-03-28T19:54:47.543Z"
   },
   {
    "duration": 9,
    "start_time": "2023-03-28T19:54:47.569Z"
   },
   {
    "duration": 104,
    "start_time": "2023-03-28T19:54:47.580Z"
   },
   {
    "duration": 89,
    "start_time": "2023-03-28T19:54:47.686Z"
   },
   {
    "duration": 16,
    "start_time": "2023-03-28T19:54:47.777Z"
   },
   {
    "duration": 109,
    "start_time": "2023-03-28T19:54:47.795Z"
   },
   {
    "duration": 23,
    "start_time": "2023-03-28T19:54:47.905Z"
   },
   {
    "duration": 69,
    "start_time": "2023-03-28T19:54:47.930Z"
   },
   {
    "duration": 47,
    "start_time": "2023-03-28T19:54:48.000Z"
   },
   {
    "duration": 10,
    "start_time": "2023-03-28T19:54:48.049Z"
   },
   {
    "duration": 27,
    "start_time": "2023-03-28T19:54:48.060Z"
   },
   {
    "duration": 20,
    "start_time": "2023-03-28T19:54:48.088Z"
   },
   {
    "duration": 13,
    "start_time": "2023-03-28T19:54:48.142Z"
   },
   {
    "duration": 9,
    "start_time": "2023-03-28T19:54:48.156Z"
   },
   {
    "duration": 24,
    "start_time": "2023-03-28T19:54:48.166Z"
   },
   {
    "duration": 6,
    "start_time": "2023-03-28T19:54:48.192Z"
   },
   {
    "duration": 41,
    "start_time": "2023-03-28T19:54:48.199Z"
   },
   {
    "duration": 337,
    "start_time": "2023-03-28T19:54:48.242Z"
   },
   {
    "duration": 27,
    "start_time": "2023-03-28T19:54:48.580Z"
   },
   {
    "duration": 33,
    "start_time": "2023-03-28T19:54:48.611Z"
   },
   {
    "duration": 12,
    "start_time": "2023-03-28T19:54:48.645Z"
   },
   {
    "duration": 4,
    "start_time": "2023-03-28T19:54:48.658Z"
   },
   {
    "duration": 10,
    "start_time": "2023-03-28T19:54:48.663Z"
   },
   {
    "duration": 3,
    "start_time": "2023-03-28T19:54:48.675Z"
   },
   {
    "duration": 82,
    "start_time": "2023-03-28T19:54:48.680Z"
   },
   {
    "duration": 22,
    "start_time": "2023-03-28T19:54:48.764Z"
   },
   {
    "duration": 289,
    "start_time": "2023-03-28T19:54:48.788Z"
   },
   {
    "duration": 66,
    "start_time": "2023-03-28T19:54:49.079Z"
   },
   {
    "duration": 9,
    "start_time": "2023-03-28T19:54:49.147Z"
   },
   {
    "duration": 188,
    "start_time": "2023-03-28T19:54:49.157Z"
   },
   {
    "duration": 16,
    "start_time": "2023-03-28T19:54:49.347Z"
   },
   {
    "duration": 134,
    "start_time": "2023-03-28T19:54:49.364Z"
   },
   {
    "duration": 40,
    "start_time": "2023-03-28T19:54:49.500Z"
   },
   {
    "duration": 9,
    "start_time": "2023-03-28T19:54:49.542Z"
   },
   {
    "duration": 101,
    "start_time": "2023-03-28T19:54:49.553Z"
   },
   {
    "duration": 121,
    "start_time": "2023-03-28T19:54:49.655Z"
   },
   {
    "duration": 132,
    "start_time": "2023-03-28T19:54:49.778Z"
   },
   {
    "duration": 12,
    "start_time": "2023-03-28T19:54:49.912Z"
   },
   {
    "duration": 21,
    "start_time": "2023-03-28T19:54:49.926Z"
   },
   {
    "duration": 9,
    "start_time": "2023-03-28T19:54:49.949Z"
   },
   {
    "duration": 11,
    "start_time": "2023-03-28T19:54:49.959Z"
   },
   {
    "duration": 1354,
    "start_time": "2023-03-28T20:02:52.982Z"
   },
   {
    "duration": 1006,
    "start_time": "2023-03-28T20:02:54.338Z"
   },
   {
    "duration": 12,
    "start_time": "2023-03-28T20:02:55.346Z"
   },
   {
    "duration": 20,
    "start_time": "2023-03-28T20:02:55.360Z"
   },
   {
    "duration": 4,
    "start_time": "2023-03-28T20:02:55.381Z"
   },
   {
    "duration": 7,
    "start_time": "2023-03-28T20:02:55.386Z"
   },
   {
    "duration": 60,
    "start_time": "2023-03-28T20:02:55.394Z"
   },
   {
    "duration": 17,
    "start_time": "2023-03-28T20:02:55.456Z"
   },
   {
    "duration": 23,
    "start_time": "2023-03-28T20:02:55.475Z"
   },
   {
    "duration": 12,
    "start_time": "2023-03-28T20:02:55.500Z"
   },
   {
    "duration": 93,
    "start_time": "2023-03-28T20:02:55.513Z"
   },
   {
    "duration": 88,
    "start_time": "2023-03-28T20:02:55.607Z"
   },
   {
    "duration": 12,
    "start_time": "2023-03-28T20:02:55.696Z"
   },
   {
    "duration": 118,
    "start_time": "2023-03-28T20:02:55.709Z"
   },
   {
    "duration": 23,
    "start_time": "2023-03-28T20:02:55.829Z"
   },
   {
    "duration": 76,
    "start_time": "2023-03-28T20:02:55.854Z"
   },
   {
    "duration": 40,
    "start_time": "2023-03-28T20:02:55.941Z"
   },
   {
    "duration": 10,
    "start_time": "2023-03-28T20:02:55.983Z"
   },
   {
    "duration": 48,
    "start_time": "2023-03-28T20:02:55.995Z"
   },
   {
    "duration": 19,
    "start_time": "2023-03-28T20:02:56.046Z"
   },
   {
    "duration": 21,
    "start_time": "2023-03-28T20:02:56.067Z"
   },
   {
    "duration": 7,
    "start_time": "2023-03-28T20:02:56.090Z"
   },
   {
    "duration": 20,
    "start_time": "2023-03-28T20:02:56.099Z"
   },
   {
    "duration": 4,
    "start_time": "2023-03-28T20:02:56.141Z"
   },
   {
    "duration": 5,
    "start_time": "2023-03-28T20:02:56.146Z"
   },
   {
    "duration": 318,
    "start_time": "2023-03-28T20:02:56.153Z"
   },
   {
    "duration": 22,
    "start_time": "2023-03-28T20:02:56.473Z"
   },
   {
    "duration": 16,
    "start_time": "2023-03-28T20:02:56.499Z"
   },
   {
    "duration": 25,
    "start_time": "2023-03-28T20:02:56.517Z"
   },
   {
    "duration": 4,
    "start_time": "2023-03-28T20:02:56.543Z"
   },
   {
    "duration": 9,
    "start_time": "2023-03-28T20:02:56.549Z"
   },
   {
    "duration": 4,
    "start_time": "2023-03-28T20:02:56.560Z"
   },
   {
    "duration": 74,
    "start_time": "2023-03-28T20:02:56.566Z"
   },
   {
    "duration": 22,
    "start_time": "2023-03-28T20:02:56.642Z"
   },
   {
    "duration": 282,
    "start_time": "2023-03-28T20:02:56.666Z"
   },
   {
    "duration": 62,
    "start_time": "2023-03-28T20:02:56.950Z"
   },
   {
    "duration": 9,
    "start_time": "2023-03-28T20:02:57.014Z"
   },
   {
    "duration": 200,
    "start_time": "2023-03-28T20:02:57.040Z"
   },
   {
    "duration": 16,
    "start_time": "2023-03-28T20:02:57.242Z"
   },
   {
    "duration": 362,
    "start_time": "2023-03-28T20:02:57.260Z"
   },
   {
    "duration": 12,
    "start_time": "2023-03-28T20:02:57.624Z"
   },
   {
    "duration": 10,
    "start_time": "2023-03-28T20:02:57.639Z"
   },
   {
    "duration": 96,
    "start_time": "2023-03-28T20:02:57.650Z"
   },
   {
    "duration": 120,
    "start_time": "2023-03-28T20:02:57.748Z"
   },
   {
    "duration": 127,
    "start_time": "2023-03-28T20:02:57.869Z"
   },
   {
    "duration": 11,
    "start_time": "2023-03-28T20:02:57.997Z"
   },
   {
    "duration": 12,
    "start_time": "2023-03-28T20:02:58.009Z"
   },
   {
    "duration": 10,
    "start_time": "2023-03-28T20:02:58.042Z"
   },
   {
    "duration": 8,
    "start_time": "2023-03-28T20:02:58.053Z"
   },
   {
    "duration": 125,
    "start_time": "2023-03-28T20:54:06.350Z"
   },
   {
    "duration": 199,
    "start_time": "2023-03-28T20:54:18.642Z"
   },
   {
    "duration": 9,
    "start_time": "2023-03-28T20:56:00.071Z"
   },
   {
    "duration": 23,
    "start_time": "2023-03-28T20:56:39.206Z"
   },
   {
    "duration": 14,
    "start_time": "2023-03-28T20:56:43.708Z"
   },
   {
    "duration": 13,
    "start_time": "2023-03-28T20:59:47.186Z"
   },
   {
    "duration": 13,
    "start_time": "2023-03-28T20:59:59.028Z"
   },
   {
    "duration": 62,
    "start_time": "2023-03-28T21:00:03.542Z"
   },
   {
    "duration": 29,
    "start_time": "2023-03-28T21:01:52.553Z"
   },
   {
    "duration": 16,
    "start_time": "2023-03-28T21:04:35.309Z"
   },
   {
    "duration": 12,
    "start_time": "2023-03-28T21:04:43.013Z"
   },
   {
    "duration": 13,
    "start_time": "2023-03-28T21:06:41.154Z"
   },
   {
    "duration": 14,
    "start_time": "2023-03-28T21:08:00.379Z"
   },
   {
    "duration": 14,
    "start_time": "2023-03-28T21:08:11.910Z"
   },
   {
    "duration": 12,
    "start_time": "2023-03-28T21:09:10.559Z"
   },
   {
    "duration": 12,
    "start_time": "2023-03-28T21:11:44.611Z"
   },
   {
    "duration": 11,
    "start_time": "2023-03-28T21:12:32.822Z"
   },
   {
    "duration": 42586,
    "start_time": "2023-03-28T21:22:52.497Z"
   },
   {
    "duration": 16,
    "start_time": "2023-03-28T21:32:55.972Z"
   },
   {
    "duration": 90733,
    "start_time": "2023-03-28T21:33:46.035Z"
   },
   {
    "duration": 89718,
    "start_time": "2023-03-28T21:41:33.900Z"
   },
   {
    "duration": 87316,
    "start_time": "2023-03-28T21:43:03.620Z"
   },
   {
    "duration": 12,
    "start_time": "2023-03-28T21:47:08.591Z"
   },
   {
    "duration": 30,
    "start_time": "2023-03-28T21:47:12.709Z"
   },
   {
    "duration": 57,
    "start_time": "2023-03-28T21:51:29.791Z"
   },
   {
    "duration": 47,
    "start_time": "2023-03-28T21:51:48.614Z"
   },
   {
    "duration": 54,
    "start_time": "2023-03-28T21:51:52.630Z"
   },
   {
    "duration": 55,
    "start_time": "2023-03-28T21:52:01.456Z"
   },
   {
    "duration": 49,
    "start_time": "2023-03-28T21:52:15.695Z"
   },
   {
    "duration": 51,
    "start_time": "2023-03-28T21:52:19.482Z"
   },
   {
    "duration": 70,
    "start_time": "2023-03-28T21:53:03.780Z"
   },
   {
    "duration": 52,
    "start_time": "2023-03-28T21:53:17.224Z"
   },
   {
    "duration": 52,
    "start_time": "2023-03-28T21:53:24.528Z"
   },
   {
    "duration": 63,
    "start_time": "2023-03-28T21:53:31.283Z"
   },
   {
    "duration": 57,
    "start_time": "2023-03-28T21:53:51.796Z"
   },
   {
    "duration": 59,
    "start_time": "2023-03-28T21:54:36.108Z"
   },
   {
    "duration": 54,
    "start_time": "2023-03-28T21:55:03.969Z"
   },
   {
    "duration": 44169,
    "start_time": "2023-03-28T21:56:03.519Z"
   },
   {
    "duration": 77,
    "start_time": "2023-03-28T22:02:24.667Z"
   },
   {
    "duration": 50,
    "start_time": "2023-03-28T22:03:04.030Z"
   },
   {
    "duration": 72,
    "start_time": "2023-03-28T22:03:49.794Z"
   },
   {
    "duration": 50,
    "start_time": "2023-03-28T22:03:56.465Z"
   },
   {
    "duration": 63,
    "start_time": "2023-03-28T22:05:21.655Z"
   },
   {
    "duration": 115,
    "start_time": "2023-03-28T22:12:11.052Z"
   },
   {
    "duration": 1253,
    "start_time": "2023-03-28T22:12:51.656Z"
   },
   {
    "duration": 160,
    "start_time": "2023-03-28T22:12:52.912Z"
   },
   {
    "duration": 11,
    "start_time": "2023-03-28T22:12:53.074Z"
   },
   {
    "duration": 26,
    "start_time": "2023-03-28T22:12:53.087Z"
   },
   {
    "duration": 4,
    "start_time": "2023-03-28T22:12:53.115Z"
   },
   {
    "duration": 13,
    "start_time": "2023-03-28T22:12:53.120Z"
   },
   {
    "duration": 53,
    "start_time": "2023-03-28T22:12:53.145Z"
   },
   {
    "duration": 16,
    "start_time": "2023-03-28T22:12:53.199Z"
   },
   {
    "duration": 42,
    "start_time": "2023-03-28T22:12:53.217Z"
   },
   {
    "duration": 9,
    "start_time": "2023-03-28T22:12:53.262Z"
   },
   {
    "duration": 86,
    "start_time": "2023-03-28T22:12:53.273Z"
   },
   {
    "duration": 97,
    "start_time": "2023-03-28T22:12:53.361Z"
   },
   {
    "duration": 12,
    "start_time": "2023-03-28T22:12:53.460Z"
   },
   {
    "duration": 97,
    "start_time": "2023-03-28T22:12:53.473Z"
   },
   {
    "duration": 22,
    "start_time": "2023-03-28T22:12:53.571Z"
   },
   {
    "duration": 78,
    "start_time": "2023-03-28T22:12:53.595Z"
   },
   {
    "duration": 37,
    "start_time": "2023-03-28T22:12:53.675Z"
   },
   {
    "duration": 9,
    "start_time": "2023-03-28T22:12:53.713Z"
   },
   {
    "duration": 47,
    "start_time": "2023-03-28T22:12:53.724Z"
   },
   {
    "duration": 18,
    "start_time": "2023-03-28T22:12:53.773Z"
   },
   {
    "duration": 14,
    "start_time": "2023-03-28T22:12:53.793Z"
   },
   {
    "duration": 31,
    "start_time": "2023-03-28T22:12:53.809Z"
   },
   {
    "duration": 25,
    "start_time": "2023-03-28T22:12:53.846Z"
   },
   {
    "duration": 5,
    "start_time": "2023-03-28T22:12:53.873Z"
   },
   {
    "duration": 10,
    "start_time": "2023-03-28T22:12:53.880Z"
   },
   {
    "duration": 335,
    "start_time": "2023-03-28T22:12:53.892Z"
   },
   {
    "duration": 37,
    "start_time": "2023-03-28T22:12:54.228Z"
   },
   {
    "duration": 17,
    "start_time": "2023-03-28T22:12:54.268Z"
   },
   {
    "duration": 11,
    "start_time": "2023-03-28T22:12:54.287Z"
   },
   {
    "duration": 5,
    "start_time": "2023-03-28T22:12:54.300Z"
   },
   {
    "duration": 40,
    "start_time": "2023-03-28T22:12:54.307Z"
   },
   {
    "duration": 4,
    "start_time": "2023-03-28T22:12:54.355Z"
   },
   {
    "duration": 45,
    "start_time": "2023-03-28T22:12:54.360Z"
   },
   {
    "duration": 47,
    "start_time": "2023-03-28T22:12:54.407Z"
   },
   {
    "duration": 265,
    "start_time": "2023-03-28T22:12:54.456Z"
   },
   {
    "duration": 64,
    "start_time": "2023-03-28T22:12:54.723Z"
   },
   {
    "duration": 8,
    "start_time": "2023-03-28T22:12:54.789Z"
   },
   {
    "duration": 186,
    "start_time": "2023-03-28T22:12:54.798Z"
   },
   {
    "duration": 14,
    "start_time": "2023-03-28T22:12:54.986Z"
   },
   {
    "duration": 156,
    "start_time": "2023-03-28T22:12:55.002Z"
   },
   {
    "duration": 13,
    "start_time": "2023-03-28T22:12:55.160Z"
   },
   {
    "duration": 16,
    "start_time": "2023-03-28T22:12:55.175Z"
   },
   {
    "duration": 95,
    "start_time": "2023-03-28T22:12:55.192Z"
   },
   {
    "duration": 46383,
    "start_time": "2023-03-28T22:12:55.288Z"
   },
   {
    "duration": 0,
    "start_time": "2023-03-28T22:13:41.672Z"
   },
   {
    "duration": 0,
    "start_time": "2023-03-28T22:13:41.673Z"
   },
   {
    "duration": 0,
    "start_time": "2023-03-28T22:13:41.674Z"
   },
   {
    "duration": 0,
    "start_time": "2023-03-28T22:13:41.676Z"
   },
   {
    "duration": 0,
    "start_time": "2023-03-28T22:13:41.676Z"
   },
   {
    "duration": 0,
    "start_time": "2023-03-28T22:13:41.677Z"
   },
   {
    "duration": 0,
    "start_time": "2023-03-28T22:13:41.678Z"
   },
   {
    "duration": 109,
    "start_time": "2023-03-28T22:14:28.511Z"
   },
   {
    "duration": 44180,
    "start_time": "2023-03-28T22:14:34.287Z"
   },
   {
    "duration": 50,
    "start_time": "2023-03-28T22:16:57.270Z"
   },
   {
    "duration": 52,
    "start_time": "2023-03-28T22:17:28.045Z"
   },
   {
    "duration": 73,
    "start_time": "2023-03-28T22:18:09.036Z"
   },
   {
    "duration": 75,
    "start_time": "2023-03-28T22:19:24.526Z"
   },
   {
    "duration": 75,
    "start_time": "2023-03-28T22:19:48.010Z"
   },
   {
    "duration": 72,
    "start_time": "2023-03-28T22:20:13.052Z"
   },
   {
    "duration": 72,
    "start_time": "2023-03-28T22:24:25.671Z"
   },
   {
    "duration": 1237,
    "start_time": "2023-03-28T22:27:27.637Z"
   },
   {
    "duration": 149,
    "start_time": "2023-03-28T22:27:28.876Z"
   },
   {
    "duration": 16,
    "start_time": "2023-03-28T22:27:29.027Z"
   },
   {
    "duration": 19,
    "start_time": "2023-03-28T22:27:29.045Z"
   },
   {
    "duration": 3,
    "start_time": "2023-03-28T22:27:29.066Z"
   },
   {
    "duration": 5,
    "start_time": "2023-03-28T22:27:29.071Z"
   },
   {
    "duration": 62,
    "start_time": "2023-03-28T22:27:29.078Z"
   },
   {
    "duration": 16,
    "start_time": "2023-03-28T22:27:29.142Z"
   },
   {
    "duration": 36,
    "start_time": "2023-03-28T22:27:29.160Z"
   },
   {
    "duration": 9,
    "start_time": "2023-03-28T22:27:29.199Z"
   },
   {
    "duration": 81,
    "start_time": "2023-03-28T22:27:29.209Z"
   },
   {
    "duration": 84,
    "start_time": "2023-03-28T22:27:29.292Z"
   },
   {
    "duration": 11,
    "start_time": "2023-03-28T22:27:29.378Z"
   },
   {
    "duration": 119,
    "start_time": "2023-03-28T22:27:29.390Z"
   },
   {
    "duration": 21,
    "start_time": "2023-03-28T22:27:29.511Z"
   },
   {
    "duration": 58,
    "start_time": "2023-03-28T22:27:29.540Z"
   },
   {
    "duration": 49,
    "start_time": "2023-03-28T22:27:29.600Z"
   },
   {
    "duration": 9,
    "start_time": "2023-03-28T22:27:29.651Z"
   },
   {
    "duration": 28,
    "start_time": "2023-03-28T22:27:29.662Z"
   },
   {
    "duration": 19,
    "start_time": "2023-03-28T22:27:29.692Z"
   },
   {
    "duration": 35,
    "start_time": "2023-03-28T22:27:29.712Z"
   },
   {
    "duration": 7,
    "start_time": "2023-03-28T22:27:29.749Z"
   },
   {
    "duration": 17,
    "start_time": "2023-03-28T22:27:29.758Z"
   },
   {
    "duration": 4,
    "start_time": "2023-03-28T22:27:29.777Z"
   },
   {
    "duration": 4,
    "start_time": "2023-03-28T22:27:29.783Z"
   },
   {
    "duration": 318,
    "start_time": "2023-03-28T22:27:29.788Z"
   },
   {
    "duration": 35,
    "start_time": "2023-03-28T22:27:30.108Z"
   },
   {
    "duration": 17,
    "start_time": "2023-03-28T22:27:30.147Z"
   },
   {
    "duration": 21,
    "start_time": "2023-03-28T22:27:30.166Z"
   },
   {
    "duration": 12,
    "start_time": "2023-03-28T22:27:30.188Z"
   },
   {
    "duration": 14,
    "start_time": "2023-03-28T22:27:30.202Z"
   },
   {
    "duration": 29,
    "start_time": "2023-03-28T22:27:30.218Z"
   },
   {
    "duration": 80,
    "start_time": "2023-03-28T22:27:30.249Z"
   },
   {
    "duration": 23,
    "start_time": "2023-03-28T22:27:30.330Z"
   },
   {
    "duration": 273,
    "start_time": "2023-03-28T22:27:30.354Z"
   },
   {
    "duration": 59,
    "start_time": "2023-03-28T22:27:30.629Z"
   },
   {
    "duration": 10,
    "start_time": "2023-03-28T22:27:30.690Z"
   },
   {
    "duration": 185,
    "start_time": "2023-03-28T22:27:30.701Z"
   },
   {
    "duration": 13,
    "start_time": "2023-03-28T22:27:30.888Z"
   },
   {
    "duration": 158,
    "start_time": "2023-03-28T22:27:30.902Z"
   },
   {
    "duration": 12,
    "start_time": "2023-03-28T22:27:31.062Z"
   },
   {
    "duration": 11,
    "start_time": "2023-03-28T22:27:31.076Z"
   },
   {
    "duration": 93,
    "start_time": "2023-03-28T22:27:31.088Z"
   },
   {
    "duration": 126,
    "start_time": "2023-03-28T22:27:31.183Z"
   },
   {
    "duration": 114,
    "start_time": "2023-03-28T22:27:31.310Z"
   },
   {
    "duration": 138,
    "start_time": "2023-03-28T22:27:31.426Z"
   },
   {
    "duration": 12,
    "start_time": "2023-03-28T22:27:31.566Z"
   },
   {
    "duration": 38,
    "start_time": "2023-03-28T22:27:31.579Z"
   },
   {
    "duration": 41,
    "start_time": "2023-03-28T22:27:31.619Z"
   },
   {
    "duration": 15,
    "start_time": "2023-03-28T22:27:31.662Z"
   },
   {
    "duration": 1272,
    "start_time": "2023-03-28T22:30:26.340Z"
   },
   {
    "duration": 149,
    "start_time": "2023-03-28T22:30:27.614Z"
   },
   {
    "duration": 11,
    "start_time": "2023-03-28T22:30:27.764Z"
   },
   {
    "duration": 33,
    "start_time": "2023-03-28T22:30:27.777Z"
   },
   {
    "duration": 4,
    "start_time": "2023-03-28T22:30:27.811Z"
   },
   {
    "duration": 28,
    "start_time": "2023-03-28T22:30:27.816Z"
   },
   {
    "duration": 46,
    "start_time": "2023-03-28T22:30:27.845Z"
   },
   {
    "duration": 16,
    "start_time": "2023-03-28T22:30:27.892Z"
   },
   {
    "duration": 32,
    "start_time": "2023-03-28T22:30:27.910Z"
   },
   {
    "duration": 9,
    "start_time": "2023-03-28T22:30:27.944Z"
   },
   {
    "duration": 86,
    "start_time": "2023-03-28T22:30:27.954Z"
   },
   {
    "duration": 78,
    "start_time": "2023-03-28T22:30:28.042Z"
   },
   {
    "duration": 23,
    "start_time": "2023-03-28T22:30:28.121Z"
   },
   {
    "duration": 81,
    "start_time": "2023-03-28T22:30:28.146Z"
   },
   {
    "duration": 21,
    "start_time": "2023-03-28T22:30:28.240Z"
   },
   {
    "duration": 61,
    "start_time": "2023-03-28T22:30:28.263Z"
   },
   {
    "duration": 48,
    "start_time": "2023-03-28T22:30:28.325Z"
   },
   {
    "duration": 9,
    "start_time": "2023-03-28T22:30:28.374Z"
   },
   {
    "duration": 25,
    "start_time": "2023-03-28T22:30:28.385Z"
   },
   {
    "duration": 37,
    "start_time": "2023-03-28T22:30:28.412Z"
   },
   {
    "duration": 24,
    "start_time": "2023-03-28T22:30:28.451Z"
   },
   {
    "duration": 8,
    "start_time": "2023-03-28T22:30:28.477Z"
   },
   {
    "duration": 16,
    "start_time": "2023-03-28T22:30:28.486Z"
   },
   {
    "duration": 4,
    "start_time": "2023-03-28T22:30:28.504Z"
   },
   {
    "duration": 6,
    "start_time": "2023-03-28T22:30:28.510Z"
   },
   {
    "duration": 299,
    "start_time": "2023-03-28T22:30:28.518Z"
   },
   {
    "duration": 31,
    "start_time": "2023-03-28T22:30:28.818Z"
   },
   {
    "duration": 17,
    "start_time": "2023-03-28T22:30:28.852Z"
   },
   {
    "duration": 11,
    "start_time": "2023-03-28T22:30:28.870Z"
   },
   {
    "duration": 6,
    "start_time": "2023-03-28T22:30:28.882Z"
   },
   {
    "duration": 16,
    "start_time": "2023-03-28T22:30:28.889Z"
   },
   {
    "duration": 3,
    "start_time": "2023-03-28T22:30:28.907Z"
   },
   {
    "duration": 61,
    "start_time": "2023-03-28T22:30:28.911Z"
   },
   {
    "duration": 22,
    "start_time": "2023-03-28T22:30:28.974Z"
   },
   {
    "duration": 255,
    "start_time": "2023-03-28T22:30:28.997Z"
   },
   {
    "duration": 53,
    "start_time": "2023-03-28T22:30:29.253Z"
   },
   {
    "duration": 8,
    "start_time": "2023-03-28T22:30:29.307Z"
   },
   {
    "duration": 172,
    "start_time": "2023-03-28T22:30:29.316Z"
   },
   {
    "duration": 14,
    "start_time": "2023-03-28T22:30:29.490Z"
   },
   {
    "duration": 145,
    "start_time": "2023-03-28T22:30:29.505Z"
   },
   {
    "duration": 13,
    "start_time": "2023-03-28T22:30:29.651Z"
   },
   {
    "duration": 11,
    "start_time": "2023-03-28T22:30:29.665Z"
   },
   {
    "duration": 106,
    "start_time": "2023-03-28T22:30:29.678Z"
   },
   {
    "duration": 125,
    "start_time": "2023-03-28T22:30:29.785Z"
   },
   {
    "duration": 131,
    "start_time": "2023-03-28T22:30:29.912Z"
   },
   {
    "duration": 129,
    "start_time": "2023-03-28T22:30:30.045Z"
   },
   {
    "duration": 11,
    "start_time": "2023-03-28T22:30:30.176Z"
   },
   {
    "duration": 68,
    "start_time": "2023-03-28T22:30:30.189Z"
   },
   {
    "duration": 33,
    "start_time": "2023-03-28T22:30:30.258Z"
   },
   {
    "duration": 30,
    "start_time": "2023-03-28T22:30:30.293Z"
   },
   {
    "duration": 1847,
    "start_time": "2023-03-29T06:17:39.612Z"
   },
   {
    "duration": 669,
    "start_time": "2023-03-29T06:17:41.461Z"
   },
   {
    "duration": 13,
    "start_time": "2023-03-29T06:17:42.131Z"
   },
   {
    "duration": 53,
    "start_time": "2023-03-29T06:17:42.146Z"
   },
   {
    "duration": 24,
    "start_time": "2023-03-29T06:17:42.201Z"
   },
   {
    "duration": 32,
    "start_time": "2023-03-29T06:17:42.227Z"
   },
   {
    "duration": 76,
    "start_time": "2023-03-29T06:17:42.261Z"
   },
   {
    "duration": 18,
    "start_time": "2023-03-29T06:17:42.338Z"
   },
   {
    "duration": 53,
    "start_time": "2023-03-29T06:17:42.358Z"
   },
   {
    "duration": 29,
    "start_time": "2023-03-29T06:17:42.414Z"
   },
   {
    "duration": 125,
    "start_time": "2023-03-29T06:17:42.445Z"
   },
   {
    "duration": 94,
    "start_time": "2023-03-29T06:17:42.572Z"
   },
   {
    "duration": 14,
    "start_time": "2023-03-29T06:17:42.668Z"
   },
   {
    "duration": 126,
    "start_time": "2023-03-29T06:17:42.684Z"
   },
   {
    "duration": 29,
    "start_time": "2023-03-29T06:17:42.812Z"
   },
   {
    "duration": 95,
    "start_time": "2023-03-29T06:17:42.843Z"
   },
   {
    "duration": 64,
    "start_time": "2023-03-29T06:17:42.940Z"
   },
   {
    "duration": 34,
    "start_time": "2023-03-29T06:17:43.007Z"
   },
   {
    "duration": 61,
    "start_time": "2023-03-29T06:17:43.043Z"
   },
   {
    "duration": 34,
    "start_time": "2023-03-29T06:17:43.106Z"
   },
   {
    "duration": 53,
    "start_time": "2023-03-29T06:17:43.142Z"
   },
   {
    "duration": 47,
    "start_time": "2023-03-29T06:17:43.197Z"
   },
   {
    "duration": 49,
    "start_time": "2023-03-29T06:17:43.246Z"
   },
   {
    "duration": 5,
    "start_time": "2023-03-29T06:17:43.297Z"
   },
   {
    "duration": 38,
    "start_time": "2023-03-29T06:17:43.304Z"
   },
   {
    "duration": 343,
    "start_time": "2023-03-29T06:17:43.344Z"
   },
   {
    "duration": 46,
    "start_time": "2023-03-29T06:17:43.689Z"
   },
   {
    "duration": 20,
    "start_time": "2023-03-29T06:17:43.739Z"
   },
   {
    "duration": 31,
    "start_time": "2023-03-29T06:17:43.762Z"
   },
   {
    "duration": 26,
    "start_time": "2023-03-29T06:17:43.795Z"
   },
   {
    "duration": 35,
    "start_time": "2023-03-29T06:17:43.823Z"
   },
   {
    "duration": 43,
    "start_time": "2023-03-29T06:17:43.860Z"
   },
   {
    "duration": 81,
    "start_time": "2023-03-29T06:17:43.906Z"
   },
   {
    "duration": 28,
    "start_time": "2023-03-29T06:17:43.988Z"
   },
   {
    "duration": 331,
    "start_time": "2023-03-29T06:17:44.018Z"
   },
   {
    "duration": 59,
    "start_time": "2023-03-29T06:17:44.353Z"
   },
   {
    "duration": 22,
    "start_time": "2023-03-29T06:17:44.414Z"
   },
   {
    "duration": 223,
    "start_time": "2023-03-29T06:17:44.438Z"
   },
   {
    "duration": 17,
    "start_time": "2023-03-29T06:17:44.664Z"
   },
   {
    "duration": 348,
    "start_time": "2023-03-29T06:17:44.683Z"
   },
   {
    "duration": 19,
    "start_time": "2023-03-29T06:17:45.033Z"
   },
   {
    "duration": 38,
    "start_time": "2023-03-29T06:17:45.054Z"
   },
   {
    "duration": 102,
    "start_time": "2023-03-29T06:17:45.133Z"
   },
   {
    "duration": 96,
    "start_time": "2023-03-29T06:17:45.237Z"
   },
   {
    "duration": 62,
    "start_time": "2023-03-29T06:17:45.336Z"
   },
   {
    "duration": 134,
    "start_time": "2023-03-29T06:17:45.401Z"
   },
   {
    "duration": 148,
    "start_time": "2023-03-29T06:17:45.537Z"
   },
   {
    "duration": 15,
    "start_time": "2023-03-29T06:17:45.687Z"
   },
   {
    "duration": 95,
    "start_time": "2023-03-29T06:17:45.704Z"
   },
   {
    "duration": 39,
    "start_time": "2023-03-29T06:17:45.801Z"
   },
   {
    "duration": 40,
    "start_time": "2023-03-29T06:17:45.842Z"
   }
  ],
  "kernelspec": {
   "display_name": "Python 3 (ipykernel)",
   "language": "python",
   "name": "python3"
  },
  "language_info": {
   "codemirror_mode": {
    "name": "ipython",
    "version": 3
   },
   "file_extension": ".py",
   "mimetype": "text/x-python",
   "name": "python",
   "nbconvert_exporter": "python",
   "pygments_lexer": "ipython3",
   "version": "3.9.5"
  },
  "toc": {
   "base_numbering": 1,
   "nav_menu": {},
   "number_sections": true,
   "sideBar": true,
   "skip_h1_title": true,
   "title_cell": "Table of Contents",
   "title_sidebar": "Contents",
   "toc_cell": false,
   "toc_position": {
    "height": "calc(100% - 180px)",
    "left": "10px",
    "top": "150px",
    "width": "383.188px"
   },
   "toc_section_display": true,
   "toc_window_display": true
  }
 },
 "nbformat": 4,
 "nbformat_minor": 2
}
